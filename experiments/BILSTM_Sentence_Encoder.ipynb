{
 "cells": [
  {
   "cell_type": "markdown",
   "id": "85daa7a9",
   "metadata": {},
   "source": [
    "<h1>Sentence Embeddings with BiLSTM</h1>"
   ]
  },
  {
   "cell_type": "markdown",
   "id": "9d6500af",
   "metadata": {},
   "source": [
    "<p>The cleaned sentences are padded and applied through encoder decoder model to generate sentence embeddings of equal size. The embeddings are optimized to fit MLP based regression model </p>"
   ]
  },
  {
   "cell_type": "markdown",
   "id": "a75bca64",
   "metadata": {},
   "source": [
    "<p>Observations: The dataset is too less to generate representative embeddings. More data and more deep neural layers required</p>"
   ]
  },
  {
   "cell_type": "code",
   "execution_count": null,
   "id": "4ccf4e0b",
   "metadata": {},
   "outputs": [],
   "source": [
    "import pandas as pd\n",
    "import numpy as np"
   ]
  },
  {
   "cell_type": "code",
   "execution_count": null,
   "id": "43a1aae4",
   "metadata": {},
   "outputs": [],
   "source": [
    "train_df = pd.read_csv('../data/cleaned_train_df.csv')\n",
    "val_df = pd.read_csv('../data/cleaned_val_df.csv')\n",
    "test_df = pd.read_csv('../data/cleaned_test_df.csv')"
   ]
  },
  {
   "cell_type": "code",
   "execution_count": null,
   "id": "9fa8ebdc",
   "metadata": {},
   "outputs": [],
   "source": [
    "train_df['sent1'] = train_df['sent1'].apply(eval)\n",
    "train_df['sent2'] = train_df['sent2'].apply(eval)"
   ]
  },
  {
   "cell_type": "code",
   "execution_count": null,
   "id": "998c5a1b",
   "metadata": {},
   "outputs": [],
   "source": [
    "val_df['sent1'] = val_df['sent1'].apply(eval)\n",
    "val_df['sent2'] = val_df['sent2'].apply(eval)"
   ]
  },
  {
   "cell_type": "code",
   "execution_count": null,
   "id": "21b840ae",
   "metadata": {},
   "outputs": [],
   "source": [
    "test_df['sent1'] = test_df['sent1'].apply(eval)\n",
    "test_df['sent2'] = test_df['sent2'].apply(eval)"
   ]
  },
  {
   "cell_type": "code",
   "execution_count": null,
   "id": "f154d6d8",
   "metadata": {},
   "outputs": [],
   "source": [
    "import pickle\n",
    "with open(\"../data/word_dict.pickle\", 'rb') as handle:\n",
    "      word_dict = pickle.load(handle)"
   ]
  },
  {
   "cell_type": "code",
   "execution_count": null,
   "id": "f26adf5f",
   "metadata": {},
   "outputs": [],
   "source": [
    "import torch\n",
    "import torch.nn as nn\n",
    "import pandas as pd\n",
    "from torch.utils.data import Dataset, DataLoader\n",
    "\n",
    "# Define the model architecture\n",
    "class RNNSentenceEncoder(nn.Module):\n",
    "    def __init__(self, vocab_size, embedding_dim, hidden_dim, num_layers, bidirectional=True):\n",
    "        super(RNNSentenceEncoder, self).__init__()\n",
    "        self.embedding = nn.Embedding(vocab_size, embedding_dim)\n",
    "        self.rnn = nn.LSTM(input_size=embedding_dim, hidden_size=hidden_dim, num_layers=num_layers, bidirectional=bidirectional)\n",
    "        self.fc = nn.Linear(hidden_dim * 2 if bidirectional else hidden_dim, hidden_dim)\n",
    "        self.relu = nn.ReLU()\n",
    "        \n",
    "    def forward(self, x):\n",
    "        x = self.embedding(x)\n",
    "        x, _ = self.rnn(x)\n",
    "        x = self.fc(x[:, -1, :])\n",
    "        x = self.relu(x)\n",
    "        return x\n",
    "\n",
    "def sent_indicies(sent1):\n",
    "    vocab = {}\n",
    "    for i, (word1, word2) in enumerate(sent1):\n",
    "        if word1 not in vocab:\n",
    "            vocab[word1] = len(vocab)\n",
    "        if word2 not in vocab:\n",
    "            vocab[word2] = len(vocab)\n",
    "\n",
    "    # Convert the list to a list of numerical indices\n",
    "    lst_indices = []\n",
    "    for word1, word2 in sent1:\n",
    "        lst_indices.append((vocab[word1], vocab[word2]))\n",
    "    return lst_indices\n",
    "    \n",
    "class SimilarityModel(nn.Module):\n",
    "    def __init__(self, sentence_encoder):\n",
    "        super(SimilarityModel, self).__init__()\n",
    "        self.encoder = sentence_encoder\n",
    "        self.mlp = nn.Sequential(\n",
    "            nn.Linear(2 * hidden_dim, hidden_dim),\n",
    "            nn.ReLU(),\n",
    "            nn.Linear(hidden_dim, 1)\n",
    "        )\n",
    "        \n",
    "    def forward(self, sentences1, sentences2):\n",
    "        \n",
    "        #print(sent_indicies(sentences1))\n",
    "        #print(sentences1)\n",
    "        \n",
    "        #encoded1 = self.encoder(torch.tensor(sent_indicies(sentences1)))\n",
    "        #encoded2 = self.encoder(torch.tensor(sent_indicies(sentences2)))\n",
    "        #encoded1 = self.encoder(torch.tensor(sentences1))\n",
    "        #encoded2 = self.encoder(torch.tensor(sentences2))\n",
    "        encoded1 = self.encoder(sentences1)\n",
    "        encoded2 = self.encoder(sentences2)\n",
    "        concatenated = torch.cat([encoded1, encoded2], dim=1)\n",
    "        output = self.mlp(concatenated)\n",
    "        return output\n",
    "\n",
    "# Define the dataset\n",
    "class MyDataset(Dataset):\n",
    "    def __init__(self, df):\n",
    "        self.df = df\n",
    "        self.vocab = list(word_dict)\n",
    "        self.vocab.append('unk')\n",
    "        self.vocab.append('<pad>')\n",
    "        #self.vocab = ['<OOV>', 'apple', 'banana', 'orange', 'cat', 'dog', 'grape', 'hello', 'world', '<pad>']\n",
    "        \n",
    "    def __len__(self):\n",
    "        return len(self.df)\n",
    "    \n",
    "    def get_indexes(self, sentence, max_len=100):\n",
    "        indexed_sentence = []\n",
    "        for word in sentence:\n",
    "            if word in self.vocab:\n",
    "                indexed_sentence.append(self.vocab.index(word))\n",
    "            else:\n",
    "                indexed_sentence.append(self.vocab.index('unk'))\n",
    "        diff = abs(max_len - len(indexed_sentence))\n",
    "        if diff > 0:\n",
    "            for i in range(diff):\n",
    "                indexed_sentence.append(self.vocab.index('<pad>'))\n",
    "        return indexed_sentence\n",
    "    \n",
    "    \n",
    "    def __getitem__(self, idx):\n",
    "        row = self.df.iloc[idx]\n",
    "        sentence1 = self.get_indexes(row['sent1'])\n",
    "        sentence2 = self.get_indexes(row['sent2'])\n",
    "        similarity_score = row['score']\n",
    "        return torch.tensor(sentence1), torch.tensor(sentence2), torch.tensor(similarity_score, dtype=torch.float32)\n",
    "\n",
    "# Define the training function\n",
    "def train(model, num_epochs, train_loader, val_loader, optimizer, criterion, device):\n",
    "    train_losses = []\n",
    "    val_losses = []\n",
    "    for epoch in range(num_epochs):\n",
    "        model.train()\n",
    "        train_loss = 0.0\n",
    "        for batch_idx, (sentences1, sentences2, similarity_scores) in enumerate(train_loader):\n",
    "            # move data to device\n",
    "            sentences1, sentences2, similarity_scores = sentences1.to(device), sentences2.to(device), similarity_scores.to(device)\n",
    "            # zero the parameter gradients\n",
    "            optimizer.zero_grad()\n",
    "\n",
    "            # forward + backward + optimize\n",
    "            outputs = model(sentences1, sentences2)\n",
    "            loss = criterion(outputs, similarity_scores.view(-1, 1))\n",
    "            loss.backward()\n",
    "            optimizer.step()\n",
    "\n",
    "            # calculate statistics\n",
    "            train_loss += loss.item()\n",
    "            #train_correct += torch.sum(torch.abs(outputs - similarity_scores.view(-1, 1)) <= 0.5)\n",
    "\n",
    "#             if batch_idx % 100 == 99:\n",
    "#                 print(f'Train Batch {batch_idx+1}/{len(train_loader)} Loss: {train_loss/(batch_idx+1):.4f}')\n",
    "\n",
    "        train_loss /= len(train_loader)\n",
    "        train_losses.append(train_loss)\n",
    "\n",
    "         # Evaluate the model on the validation set\n",
    "        model.eval()\n",
    "        val_loss = 0.0\n",
    "        with torch.no_grad():\n",
    "            for batch_idx, (sentences1, sentences2, similarity_scores) in enumerate(val_loader):\n",
    "                val_output = model(sentences1, sentences2)\n",
    "                loss = criterion(val_output, similarity_scores.view(-1, 1))\n",
    "                val_loss += loss.item()\n",
    "                #val_loss += loss_fn(val_output.squeeze(), scores_batch).item() * len(embeddings1_batch)\n",
    "            val_loss /= len(val_loader)\n",
    "            val_losses.append(val_loss)\n",
    "\n",
    "            #train_accuracy = train_correct.double() / len(train_loader.dataset)\n",
    "        print('Epoch {} - Training Loss: {:.4f}, Validation Loss: {:.4f}'.format(epoch+1, train_loss, val_loss))\n",
    "    return train_losses, val_losses"
   ]
  },
  {
   "cell_type": "code",
   "execution_count": null,
   "id": "a38e2bfd",
   "metadata": {},
   "outputs": [],
   "source": [
    "# Define the hyperparameters\n",
    "vocab_size = 10000\n",
    "embedding_dim = 50\n",
    "hidden_dim = 128\n",
    "num_layers = 2\n",
    "bidirectional = True\n",
    "learning_rate = 0.001\n",
    "batch_size = 10\n",
    "num_epochs = 10\n",
    "\n",
    "# Initialize the dataset and dataloader\n",
    "dataset = MyDataset(train_df)\n",
    "dataloader = DataLoader(dataset, batch_size=batch_size, shuffle=True)\n",
    "val_dataset = MyDataset(val_df)\n",
    "val_dataloader = DataLoader(val_dataset, batch_size=batch_size, shuffle=True)\n",
    "\n",
    "# Initialize the model and optimizer\n",
    "device = torch.device('cuda' if torch.cuda.is_available() else 'cpu')\n",
    "sentence_encoder = RNNSentenceEncoder(vocab_size, embedding_dim, hidden_dim, num_layers, bidirectional)\n",
    "model = SimilarityModel(sentence_encoder).to(device)\n",
    "optimizer = torch.optim.Adam(model.parameters(), lr=learning_rate)\n",
    "\n",
    "# Initialize the loss function\n",
    "criterion = nn.MSELoss()"
   ]
  },
  {
   "cell_type": "markdown",
   "id": "9c36c20c",
   "metadata": {},
   "source": [
    "train_losses, val_losses = train(model, num_epochs, dataloader, val_dataloader, optimizer, criterion, device)"
   ]
  },
  {
   "cell_type": "code",
   "execution_count": 1,
   "id": "72cc3281",
   "metadata": {},
   "outputs": [
    {
     "data": {
      "image/png": "[encoded data removed]",
      "text/plain": [
       "<Figure size 640x480 with 1 Axes>"
      ]
     },
     "metadata": {},
     "output_type": "display_data"
    }
   ],
   "source": [
    "import matplotlib.pyplot as plt\n",
    "\n",
    "\n",
    "\n",
    "# Define the data\n",
    "epochs = range(1, 11)\n",
    "#train_losses = train_loss\n",
    "#val_losses = val_loss\n",
    "\n",
    "# Plot the data\n",
    "plt.plot(epochs, train_losses, label='Training Loss')\n",
    "plt.plot(epochs, val_losses, label='Validation Loss')\n",
    "\n",
    "# Add labels and title\n",
    "plt.xlabel('Epoch')\n",
    "plt.ylabel('Loss')\n",
    "plt.title('Train vs Validation Loss')\n",
    "\n",
    "# Add legend\n",
    "plt.legend()\n",
    "\n",
    "# Show the plot\n",
    "plt.show()"
   ]
  },
  {
   "cell_type": "code",
   "execution_count": null,
   "id": "9e3e6cb5",
   "metadata": {},
   "outputs": [],
   "source": [
    "# create the test dataset and data loader\n",
    "test_dataset = MyDataset(test_df)\n",
    "test_loader = DataLoader(test_dataset, batch_size=batch_size)\n",
    "\n",
    "# set the model in evaluation mode\n",
    "model.eval()\n",
    "\n",
    "# iterate over the test data and get the model output\n",
    "model_output = []\n",
    "with torch.no_grad():\n",
    "    for sentences1, sentences2, similarity_scores in test_loader:\n",
    "        # move data to device\n",
    "        sentences1, sentences2 = sentences1.to(device), sentences2.to(device)\n",
    "        # get the model output\n",
    "        output = model(sentences1, sentences2)\n",
    "        # append the output to the list\n",
    "        model_output.append(output.cpu().numpy())\n",
    "\n",
    "# concatenate the output from all batches into a single array\n",
    "model_output = np.concatenate(model_output)\n",
    "\n",
    "# convert the output array to a list\n",
    "model_output = model_output.squeeze().tolist()"
   ]
  },
  {
   "cell_type": "code",
   "execution_count": null,
   "id": "47295256",
   "metadata": {},
   "outputs": [],
   "source": [
    "y_test = list(test_df['score'])"
   ]
  },
  {
   "cell_type": "code",
   "execution_count": null,
   "id": "91f946dc",
   "metadata": {},
   "outputs": [],
   "source": [
    "corr = pearson_corr(y_test, model_output)\n",
    "\n",
    "# Print the correlation coefficient\n",
    "print(\"Pearson correlation coefficient: {:.2f}\".format(corr))"
   ]
  },
  {
   "cell_type": "code",
   "execution_count": null,
   "id": "87285d83",
   "metadata": {},
   "outputs": [],
   "source": []
  }
 ],
 "metadata": {
  "kernelspec": {
   "display_name": "nlp_venv",
   "language": "python",
   "name": "nlp_venv"
  },
  "language_info": {
   "codemirror_mode": {
    "name": "ipython",
    "version": 3
   },
   "file_extension": ".py",
   "mimetype": "text/x-python",
   "name": "python",
   "nbconvert_exporter": "python",
   "pygments_lexer": "ipython3",
   "version": "3.9.16"
  }
 },
 "nbformat": 4,
 "nbformat_minor": 5
}
