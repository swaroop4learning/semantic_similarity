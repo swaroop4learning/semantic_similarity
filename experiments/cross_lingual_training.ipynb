{
 "cells": [
  {
   "cell_type": "markdown",
   "id": "ffc9c968",
   "metadata": {},
   "source": [
    "# Cross Lingual Siamese BiLSTM Neural Network with Attention"
   ]
  },
  {
   "cell_type": "markdown",
   "id": "7d47bf9f",
   "metadata": {},
   "source": [
    "<p>In this following approaches are performed:\n",
    "    <li> The preprocessing and tokenization is performed specific to the language English and Spanish </li>\n",
    "    <li> Word2vec embeddings with respect to each language is generated </li>\n",
    "    <li> Word2vec STS models - Mean approach is performed. But results are not promising </li>\n",
    "    <li> Siamese BiLSTM neural network with attention is applied by initializing with two bilstms one with english word2vec embeddings and other with spanish word2vec embeddings </li>\n",
    "    </p>"
   ]
  },
  {
   "cell_type": "markdown",
   "id": "7741224c",
   "metadata": {},
   "source": [
    "## Data Preprocessing"
   ]
  },
  {
   "cell_type": "code",
   "execution_count": 2,
   "id": "be7073ee",
   "metadata": {},
   "outputs": [],
   "source": [
    "import pandas as pd"
   ]
  },
  {
   "cell_type": "code",
   "execution_count": 17,
   "id": "c25b6d58",
   "metadata": {},
   "outputs": [],
   "source": [
    "train_en_df = pd.read_csv('../data/stsb-en-train.csv', usecols=[0,1,2], names=['sent1', 'sent2', 'score'], header=None)"
   ]
  },
  {
   "cell_type": "code",
   "execution_count": 46,
   "id": "fe810374",
   "metadata": {},
   "outputs": [],
   "source": [
    "val_en_df = pd.read_csv('../data/stsb-en-dev.csv', usecols=[0,1,2], names=['sent1', 'sent2', 'score'], header=None)"
   ]
  },
  {
   "cell_type": "code",
   "execution_count": 47,
   "id": "2f1ac216",
   "metadata": {},
   "outputs": [],
   "source": [
    "test_en_df = pd.read_csv('../data/stsb-en-test.csv', usecols=[0,1,2], names=['sent1', 'sent2', 'score'], header=None)"
   ]
  },
  {
   "cell_type": "code",
   "execution_count": 18,
   "id": "38a2521f",
   "metadata": {},
   "outputs": [
    {
     "data": {
      "text/html": [
       "<div>\n",
       "<style scoped>\n",
       "    .dataframe tbody tr th:only-of-type {\n",
       "        vertical-align: middle;\n",
       "    }\n",
       "\n",
       "    .dataframe tbody tr th {\n",
       "        vertical-align: top;\n",
       "    }\n",
       "\n",
       "    .dataframe thead th {\n",
       "        text-align: right;\n",
       "    }\n",
       "</style>\n",
       "<table border=\"1\" class=\"dataframe\">\n",
       "  <thead>\n",
       "    <tr style=\"text-align: right;\">\n",
       "      <th></th>\n",
       "      <th>sent1</th>\n",
       "      <th>sent2</th>\n",
       "      <th>score</th>\n",
       "    </tr>\n",
       "  </thead>\n",
       "  <tbody>\n",
       "    <tr>\n",
       "      <th>0</th>\n",
       "      <td>A plane is taking off.</td>\n",
       "      <td>An air plane is taking off.</td>\n",
       "      <td>5.00</td>\n",
       "    </tr>\n",
       "    <tr>\n",
       "      <th>1</th>\n",
       "      <td>A man is playing a large flute.</td>\n",
       "      <td>A man is playing a flute.</td>\n",
       "      <td>3.80</td>\n",
       "    </tr>\n",
       "    <tr>\n",
       "      <th>2</th>\n",
       "      <td>A man is spreading shreded cheese on a pizza.</td>\n",
       "      <td>A man is spreading shredded cheese on an uncoo...</td>\n",
       "      <td>3.80</td>\n",
       "    </tr>\n",
       "    <tr>\n",
       "      <th>3</th>\n",
       "      <td>Three men are playing chess.</td>\n",
       "      <td>Two men are playing chess.</td>\n",
       "      <td>2.60</td>\n",
       "    </tr>\n",
       "    <tr>\n",
       "      <th>4</th>\n",
       "      <td>A man is playing the cello.</td>\n",
       "      <td>A man seated is playing the cello.</td>\n",
       "      <td>4.25</td>\n",
       "    </tr>\n",
       "  </tbody>\n",
       "</table>\n",
       "</div>"
      ],
      "text/plain": [
       "                                           sent1  \\\n",
       "0                         A plane is taking off.   \n",
       "1                A man is playing a large flute.   \n",
       "2  A man is spreading shreded cheese on a pizza.   \n",
       "3                   Three men are playing chess.   \n",
       "4                    A man is playing the cello.   \n",
       "\n",
       "                                               sent2  score  \n",
       "0                        An air plane is taking off.   5.00  \n",
       "1                          A man is playing a flute.   3.80  \n",
       "2  A man is spreading shredded cheese on an uncoo...   3.80  \n",
       "3                         Two men are playing chess.   2.60  \n",
       "4                 A man seated is playing the cello.   4.25  "
      ]
     },
     "execution_count": 18,
     "metadata": {},
     "output_type": "execute_result"
    }
   ],
   "source": [
    "train_en_df.head()"
   ]
  },
  {
   "cell_type": "code",
   "execution_count": 19,
   "id": "9c6476a6",
   "metadata": {},
   "outputs": [],
   "source": [
    "train_es_df = pd.read_csv('../data/stsb-es-train.csv', usecols=[0,1,2], names=['sent1', 'sent2', 'score'], header=None)"
   ]
  },
  {
   "cell_type": "code",
   "execution_count": 48,
   "id": "453394c0",
   "metadata": {},
   "outputs": [],
   "source": [
    "val_es_df = pd.read_csv('../data/stsb-es-dev.csv', usecols=[0,1,2], names=['sent1', 'sent2', 'score'], header=None)"
   ]
  },
  {
   "cell_type": "code",
   "execution_count": 49,
   "id": "b2ab1c43",
   "metadata": {},
   "outputs": [],
   "source": [
    "test_es_df = pd.read_csv('../data/stsb-es-test.csv', usecols=[0,1,2], names=['sent1', 'sent2', 'score'], header=None)"
   ]
  },
  {
   "cell_type": "code",
   "execution_count": 20,
   "id": "3c89bfaf",
   "metadata": {},
   "outputs": [
    {
     "data": {
      "text/html": [
       "<div>\n",
       "<style scoped>\n",
       "    .dataframe tbody tr th:only-of-type {\n",
       "        vertical-align: middle;\n",
       "    }\n",
       "\n",
       "    .dataframe tbody tr th {\n",
       "        vertical-align: top;\n",
       "    }\n",
       "\n",
       "    .dataframe thead th {\n",
       "        text-align: right;\n",
       "    }\n",
       "</style>\n",
       "<table border=\"1\" class=\"dataframe\">\n",
       "  <thead>\n",
       "    <tr style=\"text-align: right;\">\n",
       "      <th></th>\n",
       "      <th>sent1</th>\n",
       "      <th>sent2</th>\n",
       "      <th>score</th>\n",
       "    </tr>\n",
       "  </thead>\n",
       "  <tbody>\n",
       "    <tr>\n",
       "      <th>0</th>\n",
       "      <td>Un avión está despegando.</td>\n",
       "      <td>Un avión está despegando.</td>\n",
       "      <td>5.00</td>\n",
       "    </tr>\n",
       "    <tr>\n",
       "      <th>1</th>\n",
       "      <td>Un hombre está tocando una gran flauta.</td>\n",
       "      <td>Un hombre está tocando una flauta.</td>\n",
       "      <td>3.80</td>\n",
       "    </tr>\n",
       "    <tr>\n",
       "      <th>2</th>\n",
       "      <td>Un hombre está untando queso rallado en una pi...</td>\n",
       "      <td>Un hombre está untando queso rallado en una pi...</td>\n",
       "      <td>3.80</td>\n",
       "    </tr>\n",
       "    <tr>\n",
       "      <th>3</th>\n",
       "      <td>Tres hombres están jugando al ajedrez.</td>\n",
       "      <td>Dos hombres están jugando al ajedrez.</td>\n",
       "      <td>2.60</td>\n",
       "    </tr>\n",
       "    <tr>\n",
       "      <th>4</th>\n",
       "      <td>Un hombre está tocando el violonchelo.</td>\n",
       "      <td>Un hombre sentado está tocando el violonchelo.</td>\n",
       "      <td>4.25</td>\n",
       "    </tr>\n",
       "  </tbody>\n",
       "</table>\n",
       "</div>"
      ],
      "text/plain": [
       "                                               sent1  \\\n",
       "0                          Un avión está despegando.   \n",
       "1            Un hombre está tocando una gran flauta.   \n",
       "2  Un hombre está untando queso rallado en una pi...   \n",
       "3             Tres hombres están jugando al ajedrez.   \n",
       "4             Un hombre está tocando el violonchelo.   \n",
       "\n",
       "                                               sent2  score  \n",
       "0                          Un avión está despegando.   5.00  \n",
       "1                 Un hombre está tocando una flauta.   3.80  \n",
       "2  Un hombre está untando queso rallado en una pi...   3.80  \n",
       "3              Dos hombres están jugando al ajedrez.   2.60  \n",
       "4     Un hombre sentado está tocando el violonchelo.   4.25  "
      ]
     },
     "execution_count": 20,
     "metadata": {},
     "output_type": "execute_result"
    }
   ],
   "source": [
    "train_es_df.head()"
   ]
  },
  {
   "cell_type": "code",
   "execution_count": 21,
   "id": "e4d013d8",
   "metadata": {},
   "outputs": [],
   "source": [
    "train_es_df['sent1_trans'] = train_en_df['sent1']"
   ]
  },
  {
   "cell_type": "code",
   "execution_count": 50,
   "id": "59dd0874",
   "metadata": {},
   "outputs": [],
   "source": [
    "val_es_df['sent1_trans'] = val_en_df['sent1']"
   ]
  },
  {
   "cell_type": "code",
   "execution_count": 51,
   "id": "fe998941",
   "metadata": {},
   "outputs": [],
   "source": [
    "test_es_df['sent1_trans'] = test_en_df['sent1']"
   ]
  },
  {
   "cell_type": "code",
   "execution_count": 22,
   "id": "e260caab",
   "metadata": {},
   "outputs": [
    {
     "data": {
      "text/html": [
       "<div>\n",
       "<style scoped>\n",
       "    .dataframe tbody tr th:only-of-type {\n",
       "        vertical-align: middle;\n",
       "    }\n",
       "\n",
       "    .dataframe tbody tr th {\n",
       "        vertical-align: top;\n",
       "    }\n",
       "\n",
       "    .dataframe thead th {\n",
       "        text-align: right;\n",
       "    }\n",
       "</style>\n",
       "<table border=\"1\" class=\"dataframe\">\n",
       "  <thead>\n",
       "    <tr style=\"text-align: right;\">\n",
       "      <th></th>\n",
       "      <th>sent1</th>\n",
       "      <th>sent2</th>\n",
       "      <th>score</th>\n",
       "      <th>sent1_trans</th>\n",
       "    </tr>\n",
       "  </thead>\n",
       "  <tbody>\n",
       "    <tr>\n",
       "      <th>0</th>\n",
       "      <td>Un avión está despegando.</td>\n",
       "      <td>Un avión está despegando.</td>\n",
       "      <td>5.00</td>\n",
       "      <td>A plane is taking off.</td>\n",
       "    </tr>\n",
       "    <tr>\n",
       "      <th>1</th>\n",
       "      <td>Un hombre está tocando una gran flauta.</td>\n",
       "      <td>Un hombre está tocando una flauta.</td>\n",
       "      <td>3.80</td>\n",
       "      <td>A man is playing a large flute.</td>\n",
       "    </tr>\n",
       "    <tr>\n",
       "      <th>2</th>\n",
       "      <td>Un hombre está untando queso rallado en una pi...</td>\n",
       "      <td>Un hombre está untando queso rallado en una pi...</td>\n",
       "      <td>3.80</td>\n",
       "      <td>A man is spreading shreded cheese on a pizza.</td>\n",
       "    </tr>\n",
       "    <tr>\n",
       "      <th>3</th>\n",
       "      <td>Tres hombres están jugando al ajedrez.</td>\n",
       "      <td>Dos hombres están jugando al ajedrez.</td>\n",
       "      <td>2.60</td>\n",
       "      <td>Three men are playing chess.</td>\n",
       "    </tr>\n",
       "    <tr>\n",
       "      <th>4</th>\n",
       "      <td>Un hombre está tocando el violonchelo.</td>\n",
       "      <td>Un hombre sentado está tocando el violonchelo.</td>\n",
       "      <td>4.25</td>\n",
       "      <td>A man is playing the cello.</td>\n",
       "    </tr>\n",
       "  </tbody>\n",
       "</table>\n",
       "</div>"
      ],
      "text/plain": [
       "                                               sent1  \\\n",
       "0                          Un avión está despegando.   \n",
       "1            Un hombre está tocando una gran flauta.   \n",
       "2  Un hombre está untando queso rallado en una pi...   \n",
       "3             Tres hombres están jugando al ajedrez.   \n",
       "4             Un hombre está tocando el violonchelo.   \n",
       "\n",
       "                                               sent2  score  \\\n",
       "0                          Un avión está despegando.   5.00   \n",
       "1                 Un hombre está tocando una flauta.   3.80   \n",
       "2  Un hombre está untando queso rallado en una pi...   3.80   \n",
       "3              Dos hombres están jugando al ajedrez.   2.60   \n",
       "4     Un hombre sentado está tocando el violonchelo.   4.25   \n",
       "\n",
       "                                     sent1_trans  \n",
       "0                         A plane is taking off.  \n",
       "1                A man is playing a large flute.  \n",
       "2  A man is spreading shreded cheese on a pizza.  \n",
       "3                   Three men are playing chess.  \n",
       "4                    A man is playing the cello.  "
      ]
     },
     "execution_count": 22,
     "metadata": {},
     "output_type": "execute_result"
    }
   ],
   "source": [
    "train_es_df.head()"
   ]
  },
  {
   "cell_type": "code",
   "execution_count": 735,
   "id": "2440ba4b",
   "metadata": {},
   "outputs": [
    {
     "data": {
      "text/html": [
       "<div>\n",
       "<style scoped>\n",
       "    .dataframe tbody tr th:only-of-type {\n",
       "        vertical-align: middle;\n",
       "    }\n",
       "\n",
       "    .dataframe tbody tr th {\n",
       "        vertical-align: top;\n",
       "    }\n",
       "\n",
       "    .dataframe thead th {\n",
       "        text-align: right;\n",
       "    }\n",
       "</style>\n",
       "<table border=\"1\" class=\"dataframe\">\n",
       "  <thead>\n",
       "    <tr style=\"text-align: right;\">\n",
       "      <th></th>\n",
       "      <th>sent1</th>\n",
       "      <th>sent2</th>\n",
       "      <th>score</th>\n",
       "      <th>sent1_trans</th>\n",
       "    </tr>\n",
       "  </thead>\n",
       "  <tbody>\n",
       "    <tr>\n",
       "      <th>10</th>\n",
       "      <td>El hombre golpeó al otro hombre con un palo.</td>\n",
       "      <td>El hombre golpeó al otro hombre con un palo.</td>\n",
       "      <td>4.200</td>\n",
       "      <td>The man hit the other man with a stick.</td>\n",
       "    </tr>\n",
       "    <tr>\n",
       "      <th>11</th>\n",
       "      <td>Una mujer recoge y sostiene un bebé canguro.</td>\n",
       "      <td>Una mujer coge y sostiene un bebé canguro en s...</td>\n",
       "      <td>4.600</td>\n",
       "      <td>A woman picks up and holds a baby kangaroo.</td>\n",
       "    </tr>\n",
       "    <tr>\n",
       "      <th>12</th>\n",
       "      <td>Un hombre está tocando una flauta.</td>\n",
       "      <td>Un hombre está tocando una flauta de bambú.</td>\n",
       "      <td>3.867</td>\n",
       "      <td>A man is playing a flute.</td>\n",
       "    </tr>\n",
       "    <tr>\n",
       "      <th>13</th>\n",
       "      <td>Una persona está doblando un pedazo de papel.</td>\n",
       "      <td>Alguien está doblando un pedazo de papel.</td>\n",
       "      <td>4.667</td>\n",
       "      <td>A person is folding a piece of paper.</td>\n",
       "    </tr>\n",
       "    <tr>\n",
       "      <th>14</th>\n",
       "      <td>Un hombre está corriendo en la carretera.</td>\n",
       "      <td>Un perro panda está corriendo en la carretera.</td>\n",
       "      <td>1.667</td>\n",
       "      <td>A man is running on the road.</td>\n",
       "    </tr>\n",
       "    <tr>\n",
       "      <th>15</th>\n",
       "      <td>Un perro está tratando de quitarse el tocino d...</td>\n",
       "      <td>Un perro está tratando de comerse el tocino de...</td>\n",
       "      <td>3.750</td>\n",
       "      <td>A dog is trying to get bacon off his back.</td>\n",
       "    </tr>\n",
       "    <tr>\n",
       "      <th>16</th>\n",
       "      <td>El oso polar se está deslizando en la nieve.</td>\n",
       "      <td>Un oso polar se está deslizando por la nieve.</td>\n",
       "      <td>5.000</td>\n",
       "      <td>The polar bear is sliding on the snow.</td>\n",
       "    </tr>\n",
       "    <tr>\n",
       "      <th>17</th>\n",
       "      <td>Una mujer está escribiendo.</td>\n",
       "      <td>Una mujer está nadando.</td>\n",
       "      <td>0.500</td>\n",
       "      <td>A woman is writing.</td>\n",
       "    </tr>\n",
       "    <tr>\n",
       "      <th>18</th>\n",
       "      <td>Un gato se está frotando contra la cara del bebé.</td>\n",
       "      <td>Un gato se está frotando contra un bebé.</td>\n",
       "      <td>3.800</td>\n",
       "      <td>A cat is rubbing against baby's face.</td>\n",
       "    </tr>\n",
       "    <tr>\n",
       "      <th>19</th>\n",
       "      <td>El hombre está montando a caballo.</td>\n",
       "      <td>Un hombre está montando a caballo.</td>\n",
       "      <td>5.000</td>\n",
       "      <td>The man is riding a horse.</td>\n",
       "    </tr>\n",
       "  </tbody>\n",
       "</table>\n",
       "</div>"
      ],
      "text/plain": [
       "                                                sent1  \\\n",
       "10       El hombre golpeó al otro hombre con un palo.   \n",
       "11       Una mujer recoge y sostiene un bebé canguro.   \n",
       "12                 Un hombre está tocando una flauta.   \n",
       "13      Una persona está doblando un pedazo de papel.   \n",
       "14          Un hombre está corriendo en la carretera.   \n",
       "15  Un perro está tratando de quitarse el tocino d...   \n",
       "16       El oso polar se está deslizando en la nieve.   \n",
       "17                        Una mujer está escribiendo.   \n",
       "18  Un gato se está frotando contra la cara del bebé.   \n",
       "19                 El hombre está montando a caballo.   \n",
       "\n",
       "                                                sent2  score  \\\n",
       "10       El hombre golpeó al otro hombre con un palo.  4.200   \n",
       "11  Una mujer coge y sostiene un bebé canguro en s...  4.600   \n",
       "12        Un hombre está tocando una flauta de bambú.  3.867   \n",
       "13          Alguien está doblando un pedazo de papel.  4.667   \n",
       "14     Un perro panda está corriendo en la carretera.  1.667   \n",
       "15  Un perro está tratando de comerse el tocino de...  3.750   \n",
       "16      Un oso polar se está deslizando por la nieve.  5.000   \n",
       "17                            Una mujer está nadando.  0.500   \n",
       "18           Un gato se está frotando contra un bebé.  3.800   \n",
       "19                 Un hombre está montando a caballo.  5.000   \n",
       "\n",
       "                                    sent1_trans  \n",
       "10      The man hit the other man with a stick.  \n",
       "11  A woman picks up and holds a baby kangaroo.  \n",
       "12                    A man is playing a flute.  \n",
       "13        A person is folding a piece of paper.  \n",
       "14                A man is running on the road.  \n",
       "15   A dog is trying to get bacon off his back.  \n",
       "16       The polar bear is sliding on the snow.  \n",
       "17                          A woman is writing.  \n",
       "18        A cat is rubbing against baby's face.  \n",
       "19                   The man is riding a horse.  "
      ]
     },
     "execution_count": 735,
     "metadata": {},
     "output_type": "execute_result"
    }
   ],
   "source": [
    "train_es_df[10:20]"
   ]
  },
  {
   "cell_type": "code",
   "execution_count": 33,
   "id": "31246959",
   "metadata": {},
   "outputs": [
    {
     "name": "stderr",
     "output_type": "stream",
     "text": [
      "[nltk_data] Downloading package stopwords to\n",
      "[nltk_data]     /Users/AH00434/nltk_data...\n",
      "[nltk_data]   Package stopwords is already up-to-date!\n",
      "[nltk_data] Downloading package wordnet to /Users/AH00434/nltk_data...\n",
      "[nltk_data]   Package wordnet is already up-to-date!\n"
     ]
    },
    {
     "data": {
      "text/plain": [
       "True"
      ]
     },
     "execution_count": 33,
     "metadata": {},
     "output_type": "execute_result"
    }
   ],
   "source": [
    "import re\n",
    "import nltk\n",
    "from nltk.corpus import stopwords\n",
    "from nltk.stem import WordNetLemmatizer\n",
    "nltk.download('stopwords')\n",
    "nltk.download('wordnet')"
   ]
  },
  {
   "cell_type": "code",
   "execution_count": 26,
   "id": "5c0fb359",
   "metadata": {},
   "outputs": [],
   "source": [
    "#words = nltk.word_tokenize(text, language='spanish')"
   ]
  },
  {
   "cell_type": "code",
   "execution_count": 27,
   "id": "5d301c88",
   "metadata": {},
   "outputs": [],
   "source": [
    "lemmatizer = WordNetLemmatizer()"
   ]
  },
  {
   "cell_type": "code",
   "execution_count": 28,
   "id": "fd0f9b38",
   "metadata": {},
   "outputs": [],
   "source": [
    "stop_words_es = set(stopwords.words('spanish'))"
   ]
  },
  {
   "cell_type": "code",
   "execution_count": 30,
   "id": "567e2ce4",
   "metadata": {},
   "outputs": [],
   "source": [
    "stop_words = set(stopwords.words('english'))"
   ]
  },
  {
   "cell_type": "code",
   "execution_count": 29,
   "id": "4a36e612",
   "metadata": {},
   "outputs": [],
   "source": [
    "def preprocess_text_es(text):\n",
    "    # Remove punctuation\n",
    "    text = re.sub(r'[^\\w\\s]', '', text)\n",
    "    # Replace numbers with num\n",
    "    text = re.sub(r'\\d+', '', text)\n",
    "    # Lower case\n",
    "    text= text.lower()\n",
    "    #sent_token = text.split()\n",
    "    sent_token = nltk.word_tokenize(text, language='spanish')\n",
    "    #stop words removal\n",
    "    sent_token = [word for word in sent_token if word.lower() not in stop_words_es]\n",
    "    # Lemmatize\n",
    "    sent_token = [lemmatizer.lemmatize(word) for word in sent_token]\n",
    "    # Stemming\n",
    "    #sent_token = [ps.stem(word) for word in sent_token]\n",
    "    return sent_token"
   ]
  },
  {
   "cell_type": "code",
   "execution_count": 31,
   "id": "b81ca313",
   "metadata": {},
   "outputs": [],
   "source": [
    "def preprocess_text(text):\n",
    "    # Remove punctuation\n",
    "    text = re.sub(r'[^\\w\\s]', '', text)\n",
    "    # Replace numbers with num\n",
    "    text = re.sub(r'\\d+', '', text)\n",
    "    # Lower case\n",
    "    text= text.lower()\n",
    "    #sent_token = text.split()\n",
    "    sent_token = nltk.word_tokenize(text, language='english')\n",
    "    #stop words removal\n",
    "    sent_token = [word for word in sent_token if word.lower() not in stop_words]\n",
    "    # Lemmatize\n",
    "    sent_token = [lemmatizer.lemmatize(word) for word in sent_token]\n",
    "    # Stemming\n",
    "    #sent_token = [ps.stem(word) for word in sent_token]\n",
    "    return sent_token"
   ]
  },
  {
   "cell_type": "code",
   "execution_count": 34,
   "id": "b0ba729e",
   "metadata": {},
   "outputs": [],
   "source": [
    "train_df['sent1'] = train_en_df['sent1'].apply(lambda x: preprocess_text(x))\n",
    "train_df['sent2'] = train_es_df['sent2'].apply(lambda x: preprocess_text_es(x))"
   ]
  },
  {
   "cell_type": "code",
   "execution_count": 35,
   "id": "1500c2bc",
   "metadata": {},
   "outputs": [
    {
     "data": {
      "text/html": [
       "<div>\n",
       "<style scoped>\n",
       "    .dataframe tbody tr th:only-of-type {\n",
       "        vertical-align: middle;\n",
       "    }\n",
       "\n",
       "    .dataframe tbody tr th {\n",
       "        vertical-align: top;\n",
       "    }\n",
       "\n",
       "    .dataframe thead th {\n",
       "        text-align: right;\n",
       "    }\n",
       "</style>\n",
       "<table border=\"1\" class=\"dataframe\">\n",
       "  <thead>\n",
       "    <tr style=\"text-align: right;\">\n",
       "      <th></th>\n",
       "      <th>sent1</th>\n",
       "      <th>sent2</th>\n",
       "      <th>score</th>\n",
       "    </tr>\n",
       "  </thead>\n",
       "  <tbody>\n",
       "    <tr>\n",
       "      <th>0</th>\n",
       "      <td>[plane, taking]</td>\n",
       "      <td>[avión, despegando]</td>\n",
       "      <td>5.00</td>\n",
       "    </tr>\n",
       "    <tr>\n",
       "      <th>1</th>\n",
       "      <td>[man, playing, large, flute]</td>\n",
       "      <td>[hombre, tocando, flauta]</td>\n",
       "      <td>3.80</td>\n",
       "    </tr>\n",
       "    <tr>\n",
       "      <th>2</th>\n",
       "      <td>[man, spreading, shreded, cheese, pizza]</td>\n",
       "      <td>[hombre, untando, queso, rallado, pizza, cruda]</td>\n",
       "      <td>3.80</td>\n",
       "    </tr>\n",
       "    <tr>\n",
       "      <th>3</th>\n",
       "      <td>[three, men, playing, chess]</td>\n",
       "      <td>[do, hombre, jugando, ajedrez]</td>\n",
       "      <td>2.60</td>\n",
       "    </tr>\n",
       "    <tr>\n",
       "      <th>4</th>\n",
       "      <td>[man, playing, cello]</td>\n",
       "      <td>[hombre, sentado, tocando, violonchelo]</td>\n",
       "      <td>4.25</td>\n",
       "    </tr>\n",
       "  </tbody>\n",
       "</table>\n",
       "</div>"
      ],
      "text/plain": [
       "                                      sent1  \\\n",
       "0                           [plane, taking]   \n",
       "1              [man, playing, large, flute]   \n",
       "2  [man, spreading, shreded, cheese, pizza]   \n",
       "3              [three, men, playing, chess]   \n",
       "4                     [man, playing, cello]   \n",
       "\n",
       "                                             sent2  score  \n",
       "0                              [avión, despegando]   5.00  \n",
       "1                        [hombre, tocando, flauta]   3.80  \n",
       "2  [hombre, untando, queso, rallado, pizza, cruda]   3.80  \n",
       "3                   [do, hombre, jugando, ajedrez]   2.60  \n",
       "4          [hombre, sentado, tocando, violonchelo]   4.25  "
      ]
     },
     "execution_count": 35,
     "metadata": {},
     "output_type": "execute_result"
    }
   ],
   "source": [
    "train_df.head()"
   ]
  },
  {
   "cell_type": "code",
   "execution_count": 36,
   "id": "7919bce1",
   "metadata": {},
   "outputs": [],
   "source": [
    "en_sents = list(train_df['sent1'])\n",
    "es_sents = list(train_df['sent2'])"
   ]
  },
  {
   "cell_type": "code",
   "execution_count": 37,
   "id": "dd0d81f2",
   "metadata": {},
   "outputs": [],
   "source": [
    "word_en_dict = {}\n",
    "for word_tokens in en_sents:\n",
    "    for word in word_tokens:\n",
    "        if word in word_en_dict:\n",
    "            word_en_dict[word] += 1\n",
    "        else:\n",
    "            word_en_dict[word] = 1"
   ]
  },
  {
   "cell_type": "code",
   "execution_count": 38,
   "id": "2e41c8a4",
   "metadata": {},
   "outputs": [],
   "source": [
    "word_es_dict = {}\n",
    "for word_tokens in es_sents:\n",
    "    for word in word_tokens:\n",
    "        if word in word_es_dict:\n",
    "            word_es_dict[word] += 1\n",
    "        else:\n",
    "            word_es_dict[word] = 1"
   ]
  },
  {
   "cell_type": "code",
   "execution_count": 41,
   "id": "174eaaf0",
   "metadata": {},
   "outputs": [
    {
     "data": {
      "text/plain": [
       "9823"
      ]
     },
     "execution_count": 41,
     "metadata": {},
     "output_type": "execute_result"
    }
   ],
   "source": [
    "len(word_es_dict)"
   ]
  },
  {
   "cell_type": "code",
   "execution_count": 42,
   "id": "8aa130f4",
   "metadata": {},
   "outputs": [
    {
     "data": {
      "text/plain": [
       "8079"
      ]
     },
     "execution_count": 42,
     "metadata": {},
     "output_type": "execute_result"
    }
   ],
   "source": [
    "len(word_en_dict)"
   ]
  },
  {
   "cell_type": "code",
   "execution_count": 43,
   "id": "50de5093",
   "metadata": {},
   "outputs": [],
   "source": [
    "sent_dict = {}\n",
    "for sent in es_sents:\n",
    "    if len(sent) in sent_dict:\n",
    "        sent_dict[len(sent)] += 1\n",
    "    else:\n",
    "        sent_dict[len(sent)] = 1"
   ]
  },
  {
   "cell_type": "code",
   "execution_count": 44,
   "id": "48a0aa46",
   "metadata": {},
   "outputs": [
    {
     "data": {
      "image/png": "[encoded data removed]",
      "text/plain": [
       "<Figure size 800x600 with 1 Axes>"
      ]
     },
     "metadata": {},
     "output_type": "display_data"
    }
   ],
   "source": [
    "import matplotlib.pyplot as plt\n",
    "fig, ax = plt.subplots(figsize=(8, 6))\n",
    "ax.bar(list(sent_dict.keys()), list(sent_dict.values()), width=0.5)\n",
    "plt.title(\"sentence length in es training data\")\n",
    "plt.xlabel(\"sentence length\")\n",
    "plt.ylabel(\"number of sentences\")\n",
    "plt.show()"
   ]
  },
  {
   "cell_type": "code",
   "execution_count": 53,
   "id": "d55fc92d",
   "metadata": {},
   "outputs": [],
   "source": [
    "val_df = val_en_df.copy(deep=False)"
   ]
  },
  {
   "cell_type": "code",
   "execution_count": 57,
   "id": "0483dac0",
   "metadata": {},
   "outputs": [],
   "source": [
    "val_df['sent1'] = val_en_df['sent1'].apply(lambda x: preprocess_text(x))\n",
    "val_df['sent2'] = val_es_df['sent2'].apply(lambda x: preprocess_text_es(x))"
   ]
  },
  {
   "cell_type": "code",
   "execution_count": 58,
   "id": "54ea6d7c",
   "metadata": {},
   "outputs": [
    {
     "data": {
      "text/html": [
       "<div>\n",
       "<style scoped>\n",
       "    .dataframe tbody tr th:only-of-type {\n",
       "        vertical-align: middle;\n",
       "    }\n",
       "\n",
       "    .dataframe tbody tr th {\n",
       "        vertical-align: top;\n",
       "    }\n",
       "\n",
       "    .dataframe thead th {\n",
       "        text-align: right;\n",
       "    }\n",
       "</style>\n",
       "<table border=\"1\" class=\"dataframe\">\n",
       "  <thead>\n",
       "    <tr style=\"text-align: right;\">\n",
       "      <th></th>\n",
       "      <th>sent1</th>\n",
       "      <th>sent2</th>\n",
       "      <th>score</th>\n",
       "    </tr>\n",
       "  </thead>\n",
       "  <tbody>\n",
       "    <tr>\n",
       "      <th>0</th>\n",
       "      <td>[man, hard, hat, dancing]</td>\n",
       "      <td>[hombre, casco, bailando]</td>\n",
       "      <td>5.00</td>\n",
       "    </tr>\n",
       "    <tr>\n",
       "      <th>1</th>\n",
       "      <td>[young, child, riding, horse]</td>\n",
       "      <td>[niño, montando, caballo]</td>\n",
       "      <td>4.75</td>\n",
       "    </tr>\n",
       "    <tr>\n",
       "      <th>2</th>\n",
       "      <td>[man, feeding, mouse, snake]</td>\n",
       "      <td>[hombre, alimentando, serpiente, ratón]</td>\n",
       "      <td>5.00</td>\n",
       "    </tr>\n",
       "    <tr>\n",
       "      <th>3</th>\n",
       "      <td>[woman, playing, guitar]</td>\n",
       "      <td>[hombre, tocando, guitarra]</td>\n",
       "      <td>2.40</td>\n",
       "    </tr>\n",
       "    <tr>\n",
       "      <th>4</th>\n",
       "      <td>[woman, playing, flute]</td>\n",
       "      <td>[hombre, tocando, flauta]</td>\n",
       "      <td>2.75</td>\n",
       "    </tr>\n",
       "  </tbody>\n",
       "</table>\n",
       "</div>"
      ],
      "text/plain": [
       "                           sent1                                    sent2  \\\n",
       "0      [man, hard, hat, dancing]                [hombre, casco, bailando]   \n",
       "1  [young, child, riding, horse]                [niño, montando, caballo]   \n",
       "2   [man, feeding, mouse, snake]  [hombre, alimentando, serpiente, ratón]   \n",
       "3       [woman, playing, guitar]              [hombre, tocando, guitarra]   \n",
       "4        [woman, playing, flute]                [hombre, tocando, flauta]   \n",
       "\n",
       "   score  \n",
       "0   5.00  \n",
       "1   4.75  \n",
       "2   5.00  \n",
       "3   2.40  \n",
       "4   2.75  "
      ]
     },
     "execution_count": 58,
     "metadata": {},
     "output_type": "execute_result"
    }
   ],
   "source": [
    "val_df.head()"
   ]
  },
  {
   "cell_type": "code",
   "execution_count": 60,
   "id": "14a4df4d",
   "metadata": {},
   "outputs": [],
   "source": [
    "test_df = test_en_df.copy(deep=False)"
   ]
  },
  {
   "cell_type": "code",
   "execution_count": 61,
   "id": "8601b047",
   "metadata": {},
   "outputs": [
    {
     "data": {
      "text/html": [
       "<div>\n",
       "<style scoped>\n",
       "    .dataframe tbody tr th:only-of-type {\n",
       "        vertical-align: middle;\n",
       "    }\n",
       "\n",
       "    .dataframe tbody tr th {\n",
       "        vertical-align: top;\n",
       "    }\n",
       "\n",
       "    .dataframe thead th {\n",
       "        text-align: right;\n",
       "    }\n",
       "</style>\n",
       "<table border=\"1\" class=\"dataframe\">\n",
       "  <thead>\n",
       "    <tr style=\"text-align: right;\">\n",
       "      <th></th>\n",
       "      <th>sent1</th>\n",
       "      <th>sent2</th>\n",
       "      <th>score</th>\n",
       "    </tr>\n",
       "  </thead>\n",
       "  <tbody>\n",
       "    <tr>\n",
       "      <th>0</th>\n",
       "      <td>A girl is styling her hair.</td>\n",
       "      <td>A girl is brushing her hair.</td>\n",
       "      <td>2.5</td>\n",
       "    </tr>\n",
       "    <tr>\n",
       "      <th>1</th>\n",
       "      <td>A group of men play soccer on the beach.</td>\n",
       "      <td>A group of boys are playing soccer on the beach.</td>\n",
       "      <td>3.6</td>\n",
       "    </tr>\n",
       "    <tr>\n",
       "      <th>2</th>\n",
       "      <td>One woman is measuring another woman's ankle.</td>\n",
       "      <td>A woman measures another woman's ankle.</td>\n",
       "      <td>5.0</td>\n",
       "    </tr>\n",
       "    <tr>\n",
       "      <th>3</th>\n",
       "      <td>A man is cutting up a cucumber.</td>\n",
       "      <td>A man is slicing a cucumber.</td>\n",
       "      <td>4.2</td>\n",
       "    </tr>\n",
       "    <tr>\n",
       "      <th>4</th>\n",
       "      <td>A man is playing a harp.</td>\n",
       "      <td>A man is playing a keyboard.</td>\n",
       "      <td>1.5</td>\n",
       "    </tr>\n",
       "  </tbody>\n",
       "</table>\n",
       "</div>"
      ],
      "text/plain": [
       "                                           sent1  \\\n",
       "0                    A girl is styling her hair.   \n",
       "1       A group of men play soccer on the beach.   \n",
       "2  One woman is measuring another woman's ankle.   \n",
       "3                A man is cutting up a cucumber.   \n",
       "4                       A man is playing a harp.   \n",
       "\n",
       "                                              sent2  score  \n",
       "0                      A girl is brushing her hair.    2.5  \n",
       "1  A group of boys are playing soccer on the beach.    3.6  \n",
       "2           A woman measures another woman's ankle.    5.0  \n",
       "3                      A man is slicing a cucumber.    4.2  \n",
       "4                      A man is playing a keyboard.    1.5  "
      ]
     },
     "execution_count": 61,
     "metadata": {},
     "output_type": "execute_result"
    }
   ],
   "source": [
    "test_en_df.head()"
   ]
  },
  {
   "cell_type": "code",
   "execution_count": 62,
   "id": "0586905d",
   "metadata": {},
   "outputs": [],
   "source": [
    "test_df['sent1'] = test_en_df['sent1'].apply(lambda x: preprocess_text(x))\n",
    "test_df['sent2'] = test_es_df['sent2'].apply(lambda x: preprocess_text_es(x))"
   ]
  },
  {
   "cell_type": "code",
   "execution_count": 63,
   "id": "2243c936",
   "metadata": {},
   "outputs": [
    {
     "data": {
      "text/html": [
       "<div>\n",
       "<style scoped>\n",
       "    .dataframe tbody tr th:only-of-type {\n",
       "        vertical-align: middle;\n",
       "    }\n",
       "\n",
       "    .dataframe tbody tr th {\n",
       "        vertical-align: top;\n",
       "    }\n",
       "\n",
       "    .dataframe thead th {\n",
       "        text-align: right;\n",
       "    }\n",
       "</style>\n",
       "<table border=\"1\" class=\"dataframe\">\n",
       "  <thead>\n",
       "    <tr style=\"text-align: right;\">\n",
       "      <th></th>\n",
       "      <th>sent1</th>\n",
       "      <th>sent2</th>\n",
       "      <th>score</th>\n",
       "    </tr>\n",
       "  </thead>\n",
       "  <tbody>\n",
       "    <tr>\n",
       "      <th>0</th>\n",
       "      <td>[girl, styling, hair]</td>\n",
       "      <td>[chica, cepillando, pelo]</td>\n",
       "      <td>2.5</td>\n",
       "    </tr>\n",
       "    <tr>\n",
       "      <th>1</th>\n",
       "      <td>[group, men, play, soccer, beach]</td>\n",
       "      <td>[grupo, chico, jugando, fútbol, playa]</td>\n",
       "      <td>3.6</td>\n",
       "    </tr>\n",
       "    <tr>\n",
       "      <th>2</th>\n",
       "      <td>[one, woman, measuring, another, woman, ankle]</td>\n",
       "      <td>[mujer, mide, tobillo, mujer]</td>\n",
       "      <td>5.0</td>\n",
       "    </tr>\n",
       "    <tr>\n",
       "      <th>3</th>\n",
       "      <td>[man, cutting, cucumber]</td>\n",
       "      <td>[hombre, cortando, pepino]</td>\n",
       "      <td>4.2</td>\n",
       "    </tr>\n",
       "    <tr>\n",
       "      <th>4</th>\n",
       "      <td>[man, playing, harp]</td>\n",
       "      <td>[hombre, tocando, teclado]</td>\n",
       "      <td>1.5</td>\n",
       "    </tr>\n",
       "  </tbody>\n",
       "</table>\n",
       "</div>"
      ],
      "text/plain": [
       "                                            sent1  \\\n",
       "0                           [girl, styling, hair]   \n",
       "1               [group, men, play, soccer, beach]   \n",
       "2  [one, woman, measuring, another, woman, ankle]   \n",
       "3                        [man, cutting, cucumber]   \n",
       "4                            [man, playing, harp]   \n",
       "\n",
       "                                    sent2  score  \n",
       "0               [chica, cepillando, pelo]    2.5  \n",
       "1  [grupo, chico, jugando, fútbol, playa]    3.6  \n",
       "2           [mujer, mide, tobillo, mujer]    5.0  \n",
       "3              [hombre, cortando, pepino]    4.2  \n",
       "4              [hombre, tocando, teclado]    1.5  "
      ]
     },
     "execution_count": 63,
     "metadata": {},
     "output_type": "execute_result"
    }
   ],
   "source": [
    "test_df.head()"
   ]
  },
  {
   "cell_type": "code",
   "execution_count": 64,
   "id": "f2c31c6d",
   "metadata": {},
   "outputs": [],
   "source": [
    "train_df.to_csv(\"../data/cleaned_cross_train_df1.csv\", index=False)  \n",
    "val_df.to_csv(\"../data/cleaned_cross_val_df1.csv\", index=False)  \n",
    "test_df.to_csv(\"../data/cleaned_cross_test_df1.csv\", index=False)  "
   ]
  },
  {
   "cell_type": "code",
   "execution_count": 65,
   "id": "5099da78",
   "metadata": {},
   "outputs": [],
   "source": [
    "import pickle\n",
    "with open('../data/word_dict_cross_en_v1.pickle', 'wb') as handle:\n",
    "    pickle.dump(word_en_dict, handle, protocol=pickle.HIGHEST_PROTOCOL)"
   ]
  },
  {
   "cell_type": "code",
   "execution_count": 66,
   "id": "6eb8017b",
   "metadata": {},
   "outputs": [],
   "source": [
    "with open('../data/word_dict_cross_es_v1.pickle', 'wb') as handle:\n",
    "    pickle.dump(word_es_dict, handle, protocol=pickle.HIGHEST_PROTOCOL)"
   ]
  },
  {
   "cell_type": "code",
   "execution_count": null,
   "id": "5faffc03",
   "metadata": {},
   "outputs": [],
   "source": []
  },
  {
   "cell_type": "markdown",
   "id": "d06f8bb0",
   "metadata": {},
   "source": [
    "## Word2vec-STS"
   ]
  },
  {
   "cell_type": "markdown",
   "id": "f534adb0",
   "metadata": {},
   "source": [
    "<p> Pretrained word2vec embeddings for english and spanish are used to generated vector embeddings for each word. These embeddings are averaged and concatenated fed to BiLSTM Regresssion model for similarity score generation <p>"
   ]
  },
  {
   "cell_type": "code",
   "execution_count": 110,
   "id": "872e4a1f",
   "metadata": {},
   "outputs": [],
   "source": [
    "import numpy as np\n",
    "import torch\n",
    "import torch.nn as nn\n",
    "from gensim.models import KeyedVectors\n",
    "import torch.nn as nn\n",
    "import torch.optim as optim"
   ]
  },
  {
   "cell_type": "code",
   "execution_count": 84,
   "id": "f19d05d6",
   "metadata": {},
   "outputs": [],
   "source": [
    "es_model = KeyedVectors.load_word2vec_format(\"../data/SBW-vectors-300-min5.bin\", binary=True)"
   ]
  },
  {
   "cell_type": "code",
   "execution_count": 92,
   "id": "9fed3629",
   "metadata": {},
   "outputs": [],
   "source": [
    "en_model = KeyedVectors.load_word2vec_format(\"../data/GoogleNews-vectors-negative300.bin\", binary=True)"
   ]
  },
  {
   "cell_type": "code",
   "execution_count": 234,
   "id": "91afe030",
   "metadata": {},
   "outputs": [],
   "source": [
    "# define a function to generate sentence embeddings\n",
    "def get_sentence_embedding_es(sentence, max_length=30):\n",
    "    # split sentence into words\n",
    "    #words = sentence.split()\n",
    "    words = sentence\n",
    "    unk_token = \"unk\"\n",
    "    # filter out words that are not present in the model's vocabulary\n",
    "    words = [word if word in es_model.key_to_index else unk_token for word in words ]\n",
    "    if len(words)==0:\n",
    "        words = [\"unk\"]\n",
    "    # generate word embeddings for each word\n",
    "    embeddings = [es_model[word] for word in words]\n",
    "    # pad embeddings with zeros if the sentence is shorter than max_length\n",
    "    embedding = np.mean(embeddings, axis=0)\n",
    "    return embedding"
   ]
  },
  {
   "cell_type": "code",
   "execution_count": 235,
   "id": "8a937e9b",
   "metadata": {},
   "outputs": [],
   "source": [
    "# define a function to generate sentence embeddings\n",
    "def get_sentence_embedding_en(sentence, max_length=30):\n",
    "    # split sentence into words\n",
    "    #words = sentence.split()\n",
    "    words = sentence\n",
    "    unk_token = \"unk\"\n",
    "    # filter out words that are not present in the model's vocabulary\n",
    "    words = [word if word in en_model.key_to_index else unk_token for word in words ]\n",
    "    if len(words)==0:\n",
    "        words = [\"unk\"]\n",
    "    # generate word embeddings for each word\n",
    "    embeddings = [en_model[word] for word in words]\n",
    "    # pad embeddings with zeros if the sentence is shorter than max_length\n",
    "    embedding = np.mean(embeddings, axis=0)\n",
    "    return embedding"
   ]
  },
  {
   "cell_type": "code",
   "execution_count": 236,
   "id": "93b6c922",
   "metadata": {},
   "outputs": [],
   "source": [
    "train_sentences1 = list(train_df['sent1'])\n",
    "train_sentences2 = list(train_df['sent2'])\n",
    "train_similarity_scores = list(train_df['score'])"
   ]
  },
  {
   "cell_type": "code",
   "execution_count": 237,
   "id": "b3a6f2ce",
   "metadata": {},
   "outputs": [],
   "source": [
    "train_X1 = np.array([get_sentence_embedding_en(sentence) for sentence in train_sentences1])"
   ]
  },
  {
   "cell_type": "code",
   "execution_count": 238,
   "id": "f708e39a",
   "metadata": {},
   "outputs": [],
   "source": [
    "train_X2 = np.array([get_sentence_embedding_es(sentence) for sentence in train_sentences2])"
   ]
  },
  {
   "cell_type": "code",
   "execution_count": 259,
   "id": "14752c4f",
   "metadata": {},
   "outputs": [],
   "source": [
    "val_sentences1 = list(val_df['sent1'])\n",
    "val_sentences2 = list(val_df['sent2'])\n",
    "val_similarity_scores = list(val_df['score'])"
   ]
  },
  {
   "cell_type": "code",
   "execution_count": 260,
   "id": "327dc738",
   "metadata": {},
   "outputs": [],
   "source": [
    "val_X1 = np.array([get_sentence_embedding_en(sentence) for sentence in val_sentences1])\n",
    "val_X2 = np.array([get_sentence_embedding_es(sentence) for sentence in val_sentences2])"
   ]
  },
  {
   "cell_type": "code",
   "execution_count": 244,
   "id": "f76f2e4a",
   "metadata": {},
   "outputs": [],
   "source": [
    "import torch.utils.data as data\n",
    "\n",
    "# Define a custom dataset class\n",
    "class SentenceSimilarityDataset(data.Dataset):\n",
    "    def __init__(self, embeddings1, embeddings2, scores):\n",
    "        self.embeddings1 = embeddings1\n",
    "        self.embeddings2 = embeddings2\n",
    "        self.scores = scores\n",
    "\n",
    "    def __len__(self):\n",
    "        return max(len(self.embeddings1),len(self.embeddings2))\n",
    "\n",
    "    def __getitem__(self, index):\n",
    "        return torch.tensor(self.embeddings1[index]), torch.tensor(self.embeddings2[index]), torch.tensor(self.scores[index], dtype=torch.float)\n",
    "        #return torch.tensor(self.embeddings1[index]), torch.tensor(self.scores[index], dtype=torch.float)"
   ]
  },
  {
   "cell_type": "code",
   "execution_count": 261,
   "id": "fa8b4d92",
   "metadata": {},
   "outputs": [],
   "source": [
    "train_dataset = SentenceSimilarityDataset(train_X1, train_X2, train_similarity_scores)"
   ]
  },
  {
   "cell_type": "code",
   "execution_count": 262,
   "id": "ac776779",
   "metadata": {},
   "outputs": [],
   "source": [
    "train_dataloader = data.DataLoader(train_dataset, batch_size=10, shuffle=True)"
   ]
  },
  {
   "cell_type": "code",
   "execution_count": 264,
   "id": "8aaebca3",
   "metadata": {},
   "outputs": [],
   "source": [
    "val_dataset = SentenceSimilarityDataset(val_X1, val_X2, val_similarity_scores)"
   ]
  },
  {
   "cell_type": "code",
   "execution_count": 265,
   "id": "bf2ecbc9",
   "metadata": {},
   "outputs": [],
   "source": [
    "val_dataloader = data.DataLoader(val_dataset, batch_size=10, shuffle=True)"
   ]
  },
  {
   "cell_type": "code",
   "execution_count": 316,
   "id": "131d0aaa",
   "metadata": {},
   "outputs": [],
   "source": [
    "# class BiLSTMRegression(nn.Module):\n",
    "#     def __init__(self, input_dim, hidden_dim, num_layers):\n",
    "#         super().__init__()\n",
    "#         self.input_dim = input_dim\n",
    "#         self.hidden_dim = hidden_dim\n",
    "#         self.num_layers = num_layers\n",
    "#         self.bilstm = nn.LSTM(input_dim, hidden_dim, num_layers=num_layers, batch_first=True, bidirectional=True)\n",
    "#         self.fc = nn.Linear(hidden_dim*2, 1)\n",
    "\n",
    "#     def forward(self, x1, x2):\n",
    "#         x = torch.cat((x1, x2), dim=1)\n",
    "#         x = x.view(len(x), 1, -1)\n",
    "#         h0 = torch.zeros(self.num_layers*2, len(x), self.hidden_dim).to(x.device)\n",
    "#         c0 = torch.zeros(self.num_layers*2, len(x), self.hidden_dim).to(x.device)\n",
    "#         out, _ = self.bilstm(x, (h0, c0))\n",
    "#         out = self.fc(out[:, -1, :])\n",
    "#         return out\n",
    "    \n",
    "class BiLSTMRegression(nn.Module):\n",
    "    def __init__(self, input_dim, hidden_dim, num_layers, dropout_prob):\n",
    "        super().__init__()\n",
    "        self.input_dim = input_dim\n",
    "        self.hidden_dim = hidden_dim\n",
    "        self.num_layers = num_layers\n",
    "        self.dropout_prob = dropout_prob\n",
    "        self.bilstm = nn.LSTM(input_dim, hidden_dim, num_layers=num_layers, batch_first=True, bidirectional=True)\n",
    "        self.dropout = nn.Dropout(dropout_prob)\n",
    "        self.fc = nn.Linear(hidden_dim*2, 1)\n",
    "\n",
    "    def forward(self, x1, x2):\n",
    "        x = torch.cat((x1, x2), dim=1)\n",
    "        x = x.view(len(x), 1, -1)\n",
    "        h0 = torch.zeros(self.num_layers*2, len(x), self.hidden_dim).to(x.device)\n",
    "        c0 = torch.zeros(self.num_layers*2, len(x), self.hidden_dim).to(x.device)\n",
    "        out, _ = self.bilstm(x, (h0, c0))\n",
    "        out = self.dropout(out) # Apply dropout\n",
    "        out = self.fc(out[:, -1, :])\n",
    "        return out\n",
    "\n",
    "    \n",
    "\n",
    "class GRURegression(nn.Module):\n",
    "    def __init__(self, input_dim, hidden_dim, num_layers):\n",
    "        super().__init__()\n",
    "        self.input_dim = input_dim\n",
    "        self.hidden_dim = hidden_dim\n",
    "        self.num_layers = num_layers\n",
    "        self.gru = nn.GRU(input_dim, hidden_dim, num_layers=num_layers, batch_first=True, bidirectional=True)\n",
    "        self.fc = nn.Linear(hidden_dim*2, 1)\n",
    "\n",
    "    def forward(self, x1, x2):\n",
    "        x = torch.cat((x1, x2), dim=1)\n",
    "        x = x.view(len(x), 1, -1)\n",
    "        h0 = torch.zeros(self.num_layers*2, len(x), self.hidden_dim).to(x.device)\n",
    "        out, _ = self.gru(x, h0)\n",
    "        out = self.fc(out[:, -1, :])\n",
    "        return out\n",
    "\n",
    "\n",
    "class BiLSTMAttention(nn.Module):\n",
    "    def __init__(self, input_dim, hidden_dim, num_layers, attention_dim):\n",
    "        super().__init__()\n",
    "        self.input_dim = input_dim\n",
    "        self.hidden_dim = hidden_dim\n",
    "        self.num_layers = num_layers\n",
    "        self.attention_dim = attention_dim\n",
    "        self.bilstm = nn.LSTM(input_dim, hidden_dim, num_layers=num_layers, batch_first=True, bidirectional=True)\n",
    "        self.attention = SelfAttention(hidden_dim*2, attention_dim, 1)\n",
    "        #self.attention = nn.Linear(hidden_dim*2, attention_dim)\n",
    "        #self.softmax = nn.Softmax(dim=1)\n",
    "        self.fc = nn.Linear(hidden_dim*2, 1)\n",
    "\n",
    "    def forward(self, x1, x2):\n",
    "        x = torch.cat((x1, x2), dim=1)\n",
    "        x = x.view(len(x), 1, -1)\n",
    "        h0 = torch.zeros(self.num_layers*2, len(x), self.hidden_dim).to(x.device)\n",
    "        c0 = torch.zeros(self.num_layers*2, len(x), self.hidden_dim).to(x.device)\n",
    "        out, _ = self.bilstm(x, (h0, c0))\n",
    "        #att_weights = self.softmax(self.attention(out))\n",
    "        att_weights = self.attention(out)\n",
    "        out = torch.sum(out * att_weights, dim=1)\n",
    "        out = self.fc(out)\n",
    "        return out\n",
    "\n",
    "class SelfAttention(nn.Module):\n",
    "    \"\"\"\n",
    "    Implementation of the attention block\n",
    "    \"\"\"\n",
    "\n",
    "    def __init__(self, input_size, hidden_size, output_size):\n",
    "        super(SelfAttention, self).__init__()\n",
    "        # TODO implement\n",
    "\n",
    "        # constructing linear layers with weights analogous to Ws1 and Ws2\n",
    "        self.layer1 = nn.Linear(input_size, hidden_size, bias=False)\n",
    "        self.layer2 = nn.Linear(hidden_size, output_size, bias=False)\n",
    "        self.softmax = nn.Softmax(dim=1)\n",
    "\n",
    "    ## the forward function would receive lstm's all hidden states as input\n",
    "    def forward(self, attention_input):\n",
    "        # TODO implement\n",
    "\n",
    "        # implementing the attention mechanism\n",
    "        output = self.layer1(attention_input)\n",
    "        output = torch.tanh(output)\n",
    "        output = self.layer2(output)\n",
    "        #output = F.softmax(output.transpose(1,2), dim=2)\n",
    "        output = self.softmax(output)\n",
    "\n",
    "        return output"
   ]
  },
  {
   "cell_type": "code",
   "execution_count": 317,
   "id": "4a92936f",
   "metadata": {},
   "outputs": [],
   "source": [
    "# Define the hyperparameters\n",
    "input_dim = 300 # The dimension of the sentence embeddings\n",
    "hidden_dim = 150\n",
    "lr = 0.001\n",
    "num_epochs = 15\n",
    "#batch_size = 10"
   ]
  },
  {
   "cell_type": "code",
   "execution_count": 318,
   "id": "65033a31",
   "metadata": {},
   "outputs": [],
   "source": [
    "#model = GRURegression(input_dim*2, hidden_dim, num_layers=2)\n",
    "model = BiLSTMRegression(input_dim*2, hidden_dim, num_layers=2, dropout_prob = 0.3)\n",
    "#model = BiLSTMAttention(input_dim*2, hidden_dim, num_layers=2, attention_dim=600)"
   ]
  },
  {
   "cell_type": "code",
   "execution_count": 319,
   "id": "e25f7100",
   "metadata": {},
   "outputs": [],
   "source": [
    "import torch\n",
    "from scipy.stats import pearsonr\n",
    "\n",
    "class PearsonLoss(nn.Module):\n",
    "    def __init__(self):\n",
    "        super(PearsonLoss, self).__init__()\n",
    "        \n",
    "    def forward(self, pred, target):\n",
    "        pred = pred.view(-1)\n",
    "        target = target.view(-1)\n",
    "        pearson_r, _ = pearsonr(pred.detach().cpu().numpy(), target.detach().cpu().numpy())\n",
    "        loss = 1 - pearson_r\n",
    "        return torch.tensor(loss, requires_grad=True, device=pred.device)\n"
   ]
  },
  {
   "cell_type": "code",
   "execution_count": 320,
   "id": "533f9741",
   "metadata": {},
   "outputs": [],
   "source": [
    "optimizer = optim.Adam(model.parameters(), lr=lr, weight_decay=1e-5)\n",
    "\n",
    "# Define the loss function\n",
    "#loss_fn = nn.MSELoss()\n",
    "loss_fn = PearsonLoss()"
   ]
  },
  {
   "cell_type": "code",
   "execution_count": 321,
   "id": "03e6a848",
   "metadata": {},
   "outputs": [],
   "source": [
    "def train(model, optimizer, num_epochs, train_dataloader):\n",
    "    train_losses = []\n",
    "    val_losses = []\n",
    "    for epoch in range(num_epochs):\n",
    "        model.train()\n",
    "        train_loss = 0.0\n",
    "        for embeddings1_batch, embeddings2_batch, scores_batch in train_dataloader:\n",
    "            optimizer.zero_grad()\n",
    "            output = model(embeddings1_batch, embeddings2_batch)\n",
    "            loss = loss_fn(output.squeeze(), scores_batch)\n",
    "            loss.backward()\n",
    "            optimizer.step()\n",
    "            train_loss += loss.item() * len(embeddings1_batch)\n",
    "        train_loss /= len(train_dataloader)\n",
    "        train_losses.append(train_loss)\n",
    "\n",
    "    # Evaluate the model on the validation set\n",
    "        model.eval()\n",
    "        val_loss = 0.0\n",
    "        with torch.no_grad():\n",
    "            for val_embeddings1_batch, val_embeddings2_batch, val_scores_batch in val_dataloader:\n",
    "                val_output = model(val_embeddings1_batch, val_embeddings2_batch)\n",
    "                val_loss += loss_fn(val_output.squeeze(), val_scores_batch).item() * len(val_embeddings1_batch)\n",
    "            val_loss /= len(val_dataloader)\n",
    "            val_losses.append(val_loss)\n",
    "\n",
    "        print('Epoch {} - Training Loss: {:.4f}, Validation Loss: {:.4f}'.format(epoch+1, train_loss, val_loss))\n",
    "    return train_losses, val_losses"
   ]
  },
  {
   "cell_type": "code",
   "execution_count": 322,
   "id": "15dd6d05",
   "metadata": {},
   "outputs": [
    {
     "name": "stdout",
     "output_type": "stream",
     "text": [
      "Epoch 1 - Training Loss: 9.7208, Validation Loss: 9.6175\n",
      "Epoch 2 - Training Loss: 9.7487, Validation Loss: 9.6562\n",
      "Epoch 3 - Training Loss: 9.8712, Validation Loss: 9.8164\n",
      "Epoch 4 - Training Loss: 9.8837, Validation Loss: 9.4729\n",
      "Epoch 5 - Training Loss: 9.6155, Validation Loss: 9.6676\n",
      "Epoch 6 - Training Loss: 9.6144, Validation Loss: 9.7780\n",
      "Epoch 7 - Training Loss: 9.8278, Validation Loss: 9.9708\n",
      "Epoch 8 - Training Loss: 9.7361, Validation Loss: 9.6792\n",
      "Epoch 9 - Training Loss: 9.7499, Validation Loss: 9.6764\n",
      "Epoch 10 - Training Loss: 10.0480, Validation Loss: 9.6591\n",
      "Epoch 11 - Training Loss: 9.6885, Validation Loss: 9.5048\n",
      "Epoch 12 - Training Loss: 9.7946, Validation Loss: 9.8069\n",
      "Epoch 13 - Training Loss: 9.9145, Validation Loss: 9.5931\n",
      "Epoch 14 - Training Loss: 9.8349, Validation Loss: 9.6208\n",
      "Epoch 15 - Training Loss: 9.7345, Validation Loss: 9.8524\n"
     ]
    }
   ],
   "source": [
    "train_losses, val_losses = train(model, optimizer, num_epochs, train_dataloader)"
   ]
  },
  {
   "cell_type": "code",
   "execution_count": 323,
   "id": "7ca28a96",
   "metadata": {},
   "outputs": [],
   "source": [
    "def evaluate(model, data_loader):\n",
    "    y_pred_test = []\n",
    "    model.eval()\n",
    "    with torch.no_grad():\n",
    "        for emb1, emb2, scores in data_loader:\n",
    "            test_output = model(emb1, emb2)\n",
    "            y_pred_test.extend(test_output.squeeze().tolist())\n",
    "    return y_pred_test"
   ]
  },
  {
   "cell_type": "code",
   "execution_count": 324,
   "id": "01984f3a",
   "metadata": {},
   "outputs": [],
   "source": [
    "y_pred = evaluate(model, train_dataloader)\n",
    "#corr = pearson_corr(train_similarity_scores, y_pred)\n",
    "#print(\"Pearson correlation coefficient: {:.2f}\".format(corr))"
   ]
  },
  {
   "cell_type": "code",
   "execution_count": 310,
   "id": "9e99350b",
   "metadata": {},
   "outputs": [],
   "source": [
    "from scipy.stats import pearsonr\n",
    "def pearson_corr(y_true, y_pred):\n",
    "    \"\"\"\n",
    "    Calculate Pearson correlation coefficient between two arrays.\n",
    "    \"\"\"\n",
    "    corr, _ = pearsonr(y_true, y_pred)\n",
    "    return corr"
   ]
  },
  {
   "cell_type": "code",
   "execution_count": 325,
   "id": "ae90e8f7",
   "metadata": {},
   "outputs": [
    {
     "name": "stdout",
     "output_type": "stream",
     "text": [
      "Pearson correlation coefficient: -0.00\n"
     ]
    }
   ],
   "source": [
    "corr = pearson_corr(train_similarity_scores, y_pred)\n",
    "print(\"Pearson correlation coefficient: {:.2f}\".format(corr))"
   ]
  },
  {
   "cell_type": "code",
   "execution_count": 326,
   "id": "3b74887f",
   "metadata": {},
   "outputs": [],
   "source": [
    "y_pred = evaluate(model, val_dataloader)"
   ]
  },
  {
   "cell_type": "code",
   "execution_count": 327,
   "id": "9aa23618",
   "metadata": {},
   "outputs": [
    {
     "name": "stdout",
     "output_type": "stream",
     "text": [
      "Pearson correlation coefficient: 0.03\n"
     ]
    }
   ],
   "source": [
    "corr = pearson_corr(val_similarity_scores, y_pred)\n",
    "print(\"Pearson correlation coefficient: {:.2f}\".format(corr))"
   ]
  },
  {
   "cell_type": "code",
   "execution_count": 728,
   "id": "04a0790d",
   "metadata": {},
   "outputs": [],
   "source": [
    "#y_pred = evaluate(model, test_dataloader)"
   ]
  },
  {
   "cell_type": "code",
   "execution_count": null,
   "id": "dded4f98",
   "metadata": {},
   "outputs": [],
   "source": [
    "corr = pearson_corr(test_similarity_scores, y_pred)\n",
    "print(\"Pearson correlation coefficient: {:.2f}\".format(corr))"
   ]
  },
  {
   "cell_type": "code",
   "execution_count": null,
   "id": "f220bac9",
   "metadata": {},
   "outputs": [],
   "source": []
  },
  {
   "cell_type": "markdown",
   "id": "c32c9aad",
   "metadata": {},
   "source": [
    "# Siamese BiLstm with Attention"
   ]
  },
  {
   "cell_type": "code",
   "execution_count": 329,
   "id": "3bb3284b",
   "metadata": {},
   "outputs": [],
   "source": [
    "embedding_matrix_en = en_model.vectors"
   ]
  },
  {
   "cell_type": "code",
   "execution_count": 330,
   "id": "1ec98a7d",
   "metadata": {},
   "outputs": [],
   "source": [
    "embedding_matrix_es = es_model.vectors"
   ]
  },
  {
   "cell_type": "code",
   "execution_count": 335,
   "id": "875a6649",
   "metadata": {},
   "outputs": [],
   "source": [
    "word2idx_en = {word: i for i, word in enumerate(en_model.index_to_key)}"
   ]
  },
  {
   "cell_type": "code",
   "execution_count": 336,
   "id": "098cd43b",
   "metadata": {},
   "outputs": [],
   "source": [
    "word2idx_es = {word: i for i, word in enumerate(es_model.index_to_key)}"
   ]
  },
  {
   "cell_type": "code",
   "execution_count": 331,
   "id": "abd08a7c",
   "metadata": {},
   "outputs": [],
   "source": [
    "with open('../data/word_dict_cross_en_v1.pickle', 'rb') as f:\n",
    "    vocab_en = pickle.load(f)"
   ]
  },
  {
   "cell_type": "code",
   "execution_count": 332,
   "id": "c17089f3",
   "metadata": {},
   "outputs": [],
   "source": [
    "with open('../data/word_dict_cross_es_v1.pickle', 'rb') as f:\n",
    "    vocab_es = pickle.load(f)"
   ]
  },
  {
   "cell_type": "code",
   "execution_count": 333,
   "id": "1e566816",
   "metadata": {},
   "outputs": [],
   "source": [
    "vocab_list_en = list(vocab_en.keys())\n",
    "vocab_list_es = list(vocab_es.keys())"
   ]
  },
  {
   "cell_type": "code",
   "execution_count": 334,
   "id": "27a666fa",
   "metadata": {},
   "outputs": [],
   "source": [
    "vocab_list_en.append(\"unk\")\n",
    "vocab_list_es.append(\"unk\")"
   ]
  },
  {
   "cell_type": "code",
   "execution_count": 337,
   "id": "b5cc37ba",
   "metadata": {},
   "outputs": [],
   "source": [
    "vocab_list_en = [i for i in vocab_list_en if i in word2idx_en]\n",
    "vocab_list_es = [i for i in vocab_list_es if i in word2idx_es]"
   ]
  },
  {
   "cell_type": "code",
   "execution_count": 338,
   "id": "305c9fb5",
   "metadata": {},
   "outputs": [],
   "source": [
    "vocab_dict_en = {k:i for i,k in enumerate(vocab_list_en)}\n",
    "vocab_dict_es = {k:i for i,k in enumerate(vocab_list_es)}"
   ]
  },
  {
   "cell_type": "code",
   "execution_count": 339,
   "id": "0d58bfb7",
   "metadata": {},
   "outputs": [],
   "source": [
    "word2idx_trunc_en = {}\n",
    "for i in list(vocab_dict_en.keys()):\n",
    "  word2idx_trunc_en[vocab_dict_en[i]] = word2idx_en[i]"
   ]
  },
  {
   "cell_type": "code",
   "execution_count": 340,
   "id": "4e59844d",
   "metadata": {},
   "outputs": [],
   "source": [
    "word2idx_trunc_es = {}\n",
    "for i in list(vocab_dict_es.keys()):\n",
    "  word2idx_trunc_es[vocab_dict_es[i]] = word2idx_es[i]"
   ]
  },
  {
   "cell_type": "code",
   "execution_count": 341,
   "id": "fa61b5ce",
   "metadata": {},
   "outputs": [],
   "source": [
    "word_indexes_en = list(word2idx_trunc_en.values())\n",
    "word_indexes_es = list(word2idx_trunc_es.values())"
   ]
  },
  {
   "cell_type": "code",
   "execution_count": 342,
   "id": "41a82a01",
   "metadata": {},
   "outputs": [],
   "source": [
    "subset_embedding_matrix_en = en_model.vectors[word_indexes_en]\n",
    "subset_embedding_matrix_es = es_model.vectors[word_indexes_es]"
   ]
  },
  {
   "cell_type": "code",
   "execution_count": 343,
   "id": "9a45e3b5",
   "metadata": {},
   "outputs": [],
   "source": [
    "import torch\n",
    "from torch.utils.data import Dataset, DataLoader\n",
    "from torch.nn.utils.rnn import pad_sequence\n",
    "\n",
    "class MyDataset(Dataset):\n",
    "    def __init__(self, sentences1, sentences2, scores, word_to_ix_en, word_to_ix_es ):\n",
    "        self.sentences1 = sentences1\n",
    "        self.sentences2 = sentences2\n",
    "        self.scores = scores\n",
    "        self.word_to_ix_en = word_to_ix_en\n",
    "        self.word_to_ix_es = word_to_ix_es\n",
    "\n",
    "    def __len__(self):\n",
    "        return max(len(self.sentences1),len(self.sentences2))\n",
    "\n",
    "    def __getitem__(self, idx):\n",
    "        unk_token1 = self.word_to_ix_en['unk']\n",
    "        unk_token2 = self.word_to_ix_es['unk']\n",
    "        sentence1 = self.sentences1[idx]\n",
    "        sentence2 = self.sentences2[idx]\n",
    "        score = self.scores[idx]\n",
    "        seq1 = [self.word_to_ix_en[word] if word in self.word_to_ix_en else unk_token1 for word in sentence1]\n",
    "        seq2 = [self.word_to_ix_es[word] if word in self.word_to_ix_es else unk_token2 for word in sentence2]\n",
    "        #seq1 = [self.word_to_ix[word] for word in sentence1 if word in self.word_to_ix]\n",
    "        #seq2 = [self.word_to_ix[word] for word in sentence2 if word in self.word_to_ix]\n",
    "        return seq1, seq2, score\n",
    "\n",
    "    def collate_fn(self, batch):\n",
    "        sequences1, sequences2, scores = zip(*batch)\n",
    "        padded_seqs1 = pad_sequence([torch.LongTensor(seq) for seq in sequences1], batch_first=True, padding_value=0)\n",
    "        padded_seqs2 = pad_sequence([torch.LongTensor(seq) for seq in sequences2], batch_first=True, padding_value=0)\n",
    "        #return padded_seqs1, padded_seqs2, torch.tensor(scores, dtype=torch.float)\n",
    "        return padded_seqs1, padded_seqs2, torch.LongTensor(scores)"
   ]
  },
  {
   "cell_type": "code",
   "execution_count": 344,
   "id": "8fe09012",
   "metadata": {},
   "outputs": [],
   "source": [
    "sent1_tokens = list(train_df['sent1'])\n",
    "sent2_tokens = list(train_df['sent2'])\n",
    "scores = list(train_df['score'])"
   ]
  },
  {
   "cell_type": "code",
   "execution_count": 345,
   "id": "987d30f2",
   "metadata": {},
   "outputs": [],
   "source": [
    "word_to_ix_en = vocab_dict_en\n",
    "word_to_ix_es = vocab_dict_es\n",
    "train_dataset = MyDataset(sent1_tokens, sent2_tokens, scores, word_to_ix_en, word_to_ix_es )\n",
    "train_dataloader = DataLoader(train_dataset, batch_size=16, shuffle=True, collate_fn=train_dataset.collate_fn)"
   ]
  },
  {
   "cell_type": "code",
   "execution_count": 346,
   "id": "62b7b6ee",
   "metadata": {},
   "outputs": [],
   "source": [
    "val_sent1_tokens = list(val_df['sent1'])\n",
    "val_sent2_tokens = list(val_df['sent2'])\n",
    "val_scores = list(val_df['score'])"
   ]
  },
  {
   "cell_type": "code",
   "execution_count": 347,
   "id": "aaaedb24",
   "metadata": {},
   "outputs": [],
   "source": [
    "val_dataset = MyDataset(val_sent1_tokens, val_sent2_tokens, val_scores, word_to_ix_en, word_to_ix_es)\n",
    "val_dataloader = DataLoader(val_dataset, batch_size=16, shuffle=True, collate_fn=val_dataset.collate_fn)"
   ]
  },
  {
   "cell_type": "code",
   "execution_count": 348,
   "id": "0f865591",
   "metadata": {},
   "outputs": [],
   "source": [
    "test_sent1_tokens = list(test_df['sent1'])\n",
    "test_sent2_tokens = list(test_df['sent2'])\n",
    "test_scores = list(test_df['score'])"
   ]
  },
  {
   "cell_type": "code",
   "execution_count": 349,
   "id": "22d7b9bc",
   "metadata": {},
   "outputs": [],
   "source": [
    "test_dataset = MyDataset(test_sent1_tokens, test_sent2_tokens, test_scores, word_to_ix_en, word_to_ix_es)\n",
    "test_dataloader = DataLoader(test_dataset, batch_size=16, shuffle=True, collate_fn=test_dataset.collate_fn)"
   ]
  },
  {
   "cell_type": "code",
   "execution_count": 350,
   "id": "aeb086b9",
   "metadata": {},
   "outputs": [
    {
     "data": {
      "text/plain": [
       "(6967, 8786)"
      ]
     },
     "execution_count": 350,
     "metadata": {},
     "output_type": "execute_result"
    }
   ],
   "source": [
    "len(subset_embedding_matrix_en), len(subset_embedding_matrix_es)"
   ]
  },
  {
   "cell_type": "code",
   "execution_count": 451,
   "id": "dfee19c1",
   "metadata": {},
   "outputs": [],
   "source": [
    "import torch\n",
    "import torch.nn as nn\n",
    "\n",
    "\n",
    "class SiameseBiLSTM(nn.Module):\n",
    "    def __init__(self, hidden_size, num_layers, embedding_dim, embd_matrix1, embd_matrix2, dropout=0.2):\n",
    "        super(SiameseBiLSTM, self).__init__()\n",
    "\n",
    "        # LSTM parameters\n",
    "        self.hidden_size = hidden_size\n",
    "        self.num_layers = num_layers\n",
    "        self.embedding_dim = embedding_dim\n",
    "        self.embd_matrix1 = embd_matrix1\n",
    "        self.embd_matrix2 = embd_matrix2\n",
    "\n",
    "        # Word embeddings\n",
    "        self.word_embeddings1 = nn.Embedding(len(self.embd_matrix1), embedding_dim)\n",
    "        self.word_embeddings1.weight = nn.Parameter(torch.from_numpy(self.embd_matrix1))\n",
    "        self.word_embeddings1.weight.requires_grad = False\n",
    "        \n",
    "        self.word_embeddings2 = nn.Embedding(len(self.embd_matrix2), embedding_dim)\n",
    "        self.word_embeddings2.weight = nn.Parameter(torch.from_numpy(self.embd_matrix2))\n",
    "        self.word_embeddings2.weight.requires_grad = False\n",
    "\n",
    "        # BiLSTM layers\n",
    "        self.bilstm = nn.LSTM(input_size=embedding_dim, hidden_size=hidden_size, num_layers=num_layers,\n",
    "                              batch_first=True, bidirectional=True)\n",
    "\n",
    "        # Dropout layer\n",
    "        self.dropout = nn.Dropout(dropout)\n",
    "\n",
    "        # Attention layers\n",
    "        self.attention_fc = nn.Linear(hidden_size * 2, 1)\n",
    "        self.attention_softmax = nn.Softmax(dim=1)\n",
    "\n",
    "        # Similarity scoring layer\n",
    "        self.fc = nn.Linear(hidden_size * 4, 1)  # 4 because we concatenate forward and backward hidden states of both LSTMs\n",
    "\n",
    "    def forward_once_en(self, sentence):\n",
    "        # Word embeddings\n",
    "        embeds = self.word_embeddings1(sentence)\n",
    "\n",
    "        # BiLSTM\n",
    "        lstm_out, _ = self.bilstm(embeds)\n",
    "\n",
    "        # Apply dropout to hidden layers\n",
    "        lstm_out = self.dropout(lstm_out)\n",
    "\n",
    "        # Attention mechanism\n",
    "        attention_weights = self.attention_softmax(self.attention_fc(lstm_out))\n",
    "        lstm_out = lstm_out * attention_weights\n",
    "        lstm_out = lstm_out.sum(dim=1)\n",
    "\n",
    "        return lstm_out\n",
    "    \n",
    "    def forward_once_es(self, sentence):\n",
    "        # Word embeddings\n",
    "        embeds = self.word_embeddings2(sentence)\n",
    "\n",
    "        # BiLSTM\n",
    "        lstm_out, _ = self.bilstm(embeds)\n",
    "\n",
    "        # Apply dropout to hidden layers\n",
    "        lstm_out = self.dropout(lstm_out)\n",
    "\n",
    "        # Attention mechanism\n",
    "        attention_weights = self.attention_softmax(self.attention_fc(lstm_out))\n",
    "        lstm_out = lstm_out * attention_weights\n",
    "        lstm_out = lstm_out.sum(dim=1)\n",
    "\n",
    "        return lstm_out\n",
    "\n",
    "    def forward(self, sentence1, sentence2):\n",
    "        # Process sentence 1\n",
    "        output1 = self.forward_once_en(sentence1)\n",
    "\n",
    "        # Process sentence 2\n",
    "        output2 = self.forward_once_es(sentence2)\n",
    "\n",
    "        # Concatenate outputs of both LSTMs\n",
    "        concatenated = torch.cat((output1, output2), dim=1)\n",
    "\n",
    "        # Pass through similarity scoring layer\n",
    "        similarity_score = torch.sigmoid(self.fc(concatenated))\n",
    "\n",
    "        return similarity_score\n"
   ]
  },
  {
   "cell_type": "code",
   "execution_count": 452,
   "id": "6576a8ba",
   "metadata": {},
   "outputs": [
    {
     "name": "stderr",
     "output_type": "stream",
     "text": [
      "/var/folders/gb/8lc9v2sx5mq19kgysgv67bzw0000gn/T/ipykernel_66582/2886958499.py:33: DeprecationWarning: an integer is required (got type float).  Implicit conversion to integers using __int__ is deprecated, and may be removed in a future version of Python.\n",
      "  return padded_seqs1, padded_seqs2, torch.LongTensor(scores)\n",
      "/var/folders/gb/8lc9v2sx5mq19kgysgv67bzw0000gn/T/ipykernel_66582/1260678673.py:18: UserWarning: To copy construct from a tensor, it is recommended to use sourceTensor.clone().detach() or sourceTensor.clone().detach().requires_grad_(True), rather than torch.tensor(sourceTensor).\n",
      "  score_tensor = torch.tensor(score, dtype=torch.float)/5.0\n",
      "/var/folders/gb/8lc9v2sx5mq19kgysgv67bzw0000gn/T/ipykernel_66582/1260678673.py:47: UserWarning: To copy construct from a tensor, it is recommended to use sourceTensor.clone().detach() or sourceTensor.clone().detach().requires_grad_(True), rather than torch.tensor(sourceTensor).\n",
      "  val_score_tensor = torch.tensor(val_score, dtype=torch.float)/5.0\n"
     ]
    },
    {
     "name": "stdout",
     "output_type": "stream",
     "text": [
      "Epoch [1/10], Train Loss: 1.1450, Val Loss: 1.0735\n",
      "Epoch [2/10], Train Loss: 1.1797, Val Loss: 1.0836\n",
      "Epoch [3/10], Train Loss: 1.1853, Val Loss: 1.0822\n",
      "Epoch [4/10], Train Loss: 1.1765, Val Loss: 1.0781\n",
      "Epoch [5/10], Train Loss: 1.1836, Val Loss: 1.0598\n",
      "Epoch [6/10], Train Loss: 1.1705, Val Loss: 1.0681\n",
      "Epoch [7/10], Train Loss: 1.1847, Val Loss: 1.0850\n",
      "Epoch [8/10], Train Loss: 1.1824, Val Loss: 1.0770\n",
      "Epoch [9/10], Train Loss: 1.1747, Val Loss: 1.0719\n",
      "Epoch [10/10], Train Loss: 1.1743, Val Loss: 1.0704\n"
     ]
    }
   ],
   "source": [
    "# Define model and optimizer\n",
    "model = SiameseBiLSTM(hidden_size=150, num_layers=2, embedding_dim=300, embd_matrix1 = subset_embedding_matrix_en, embd_matrix2 = subset_embedding_matrix_es)\n",
    "optimizer = torch.optim.Adam(model.parameters(), lr=0.001)\n",
    "\n",
    "# Define loss function\n",
    "#criterion = nn.MSELoss()\n",
    "criterion = PearsonLoss()\n",
    "\n",
    "num_epochs = 10\n",
    "\n",
    "# Train model\n",
    "for epoch in range(num_epochs):\n",
    "    epoch_loss = 0.0\n",
    "    for i, (sentence1, sentence2, score) in enumerate(train_dataloader):\n",
    "        # Convert inputs and output to PyTorch tensors\n",
    "        sentence1_tensor = sentence1\n",
    "        sentence2_tensor = sentence2\n",
    "        score_tensor = torch.tensor(score, dtype=torch.float)/5.0\n",
    "        \n",
    "        # Zero gradients\n",
    "        optimizer.zero_grad()\n",
    "        \n",
    "        # Forward pass\n",
    "        output = model(sentence1_tensor, sentence2_tensor)\n",
    "        \n",
    "        #print(score_tensor.squeeze().shape)\n",
    "        # Compute loss\n",
    "        #loss = criterion(outputs, score_tensor.unsqueeze(-1))\n",
    "        loss = criterion(output.squeeze(), score_tensor.squeeze())\n",
    "        #loss = model.loss(output, score_tensor.unsqueeze(-1))\n",
    "        \n",
    "        # Backward pass\n",
    "        loss.backward()\n",
    "        \n",
    "        # Update weights\n",
    "        optimizer.step()\n",
    "        \n",
    "        epoch_loss += loss.item()  # add batch loss to total epoch loss\n",
    "        \n",
    "     # Validation loop\n",
    "    model.eval()  # set model to evaluation mode\n",
    "    total_val_loss = 0\n",
    "    with torch.no_grad():\n",
    "        for j, (val_sentence1, val_sentence2, val_score) in enumerate(val_dataloader):\n",
    "            val_sentence1_tensor = val_sentence1\n",
    "            val_sentence2_tensor = val_sentence2\n",
    "            val_score_tensor = torch.tensor(val_score, dtype=torch.float)/5.0\n",
    "            outputs = model(val_sentence1_tensor, val_sentence2_tensor)\n",
    "            #val_loss = criterion(outputs, val_score_tensor.unsqueeze(-1))\n",
    "            val_loss = criterion(outputs.squeeze(), val_score_tensor.squeeze())\n",
    "            #val_loss = model.loss(outputs, val_score_tensor.unsqueeze(-1))\n",
    "            total_val_loss += val_loss.item()\n",
    "            \n",
    "    avg_train_loss = epoch_loss / len(train_dataloader) \n",
    "    avg_val_loss = total_val_loss / len(val_dataloader)\n",
    "    print('Epoch [{}/{}], Train Loss: {:.4f}, Val Loss: {:.4f}'.format(epoch+1, num_epochs, avg_train_loss, avg_val_loss))"
   ]
  },
  {
   "cell_type": "markdown",
   "id": "19a8fe9f",
   "metadata": {},
   "source": [
    "## Hyperparameter tuning using Bayesian optimization"
   ]
  },
  {
   "cell_type": "code",
   "execution_count": 699,
   "id": "c6e1f1c5",
   "metadata": {},
   "outputs": [],
   "source": [
    "def train(model, iterator, optimizer, criterion):\n",
    "    epoch_loss = 0\n",
    "    predictions_lt = []\n",
    "    labels_lt = []\n",
    "    for i, (sentence1, sentence2, score) in enumerate(iterator):\n",
    "        sentence1_tensor = sentence1\n",
    "        sentence2_tensor = sentence2\n",
    "        score_tensor = torch.tensor(score, dtype=torch.float)/5.0\n",
    "        # Zero gradients\n",
    "        optimizer.zero_grad()\n",
    "        \n",
    "        # Forward pass\n",
    "        output = model(sentence1_tensor, sentence2_tensor)\n",
    "        y_pred = output.detach().tolist()\n",
    "        loss = criterion(output.squeeze(), score_tensor.squeeze())\n",
    "        y_true = score.tolist()\n",
    "        #print(len(y_pred), len(y_true))\n",
    "        predictions_lt.extend(y_pred)\n",
    "        labels_lt.extend(y_true)\n",
    "        \n",
    "        loss.backward()\n",
    "        optimizer.step()\n",
    "        epoch_loss += loss.item()\n",
    "    labels = np.array(labels_lt)\n",
    "    predictions = np.array(predictions_lt)\n",
    "    corr = pearson_corr(labels, predictions.ravel())\n",
    "    #print(\"corr is \", corr)\n",
    "    \n",
    "    return epoch_loss / len(iterator), corr\n",
    "                         \n",
    "    "
   ]
  },
  {
   "cell_type": "code",
   "execution_count": 700,
   "id": "fec7c0fb",
   "metadata": {},
   "outputs": [],
   "source": [
    "def evaluate(model, iterator, criterion):\n",
    "    \n",
    "    epoch_loss = 0\n",
    "    predictions_lt = []\n",
    "    labels_lt = []\n",
    "    \n",
    "    model.eval()\n",
    "    \n",
    "    with torch.no_grad():\n",
    "        for i, (sentence1, sentence2, score) in enumerate(iterator):\n",
    "            sentence1_tensor = sentence1\n",
    "            sentence2_tensor = sentence2\n",
    "            score_tensor = torch.tensor(score, dtype=torch.float)/5.0\n",
    "\n",
    "            # Forward pass\n",
    "            output = model(sentence1_tensor, sentence2_tensor)\n",
    "            y_pred = output.detach().tolist()\n",
    "            y_true = score.tolist()\n",
    "            predictions_lt.extend(y_pred)\n",
    "            labels_lt.extend(y_true)\n",
    "            \n",
    "        \n",
    "            epoch_loss += loss.item()\n",
    "        \n",
    "        labels = np.array(labels_lt)\n",
    "        predictions = np.array(predictions_lt)\n",
    "        corr = pearson_corr(labels, predictions.ravel())\n",
    "    \n",
    "    return epoch_loss / len(iterator), corr\n",
    "                         \n",
    "    "
   ]
  },
  {
   "cell_type": "code",
   "execution_count": 707,
   "id": "8918543e",
   "metadata": {},
   "outputs": [],
   "source": [
    "def get_data_iterators(BATCH_SIZE=16):\n",
    "    train_dataloader = DataLoader(train_dataset, batch_size=BATCH_SIZE, collate_fn=train_dataset.collate_fn)\n",
    "    val_dataloader = DataLoader(val_dataset, batch_size=BATCH_SIZE, collate_fn=val_dataset.collate_fn)\n",
    "    test_dataloader = DataLoader(test_dataset, batch_size=BATCH_SIZE, collate_fn=test_dataset.collate_fn)\n",
    "    \n",
    "    return train_dataloader, val_dataloader, test_dataloader\n",
    "    "
   ]
  },
  {
   "cell_type": "code",
   "execution_count": 719,
   "id": "ada86786",
   "metadata": {},
   "outputs": [],
   "source": [
    "def tune_model(N_LAYERS, HIDDEN_DIM, DROPOUT, BATCH_SIZE, optim_type, N_EPOCHS, lr):\n",
    "    #print(\"params are\", HIDDEN_DIM, DROPOUT, BATCH_SIZE, optim_type, N_EPOCHS, lr)\n",
    "    #N_LAYERS = 2\n",
    "    HIDDEN_DIM = HIDDEN_DIM\n",
    "    N_LAYERS = int(N_LAYERS)\n",
    "    BATCH_SIZE = int(BATCH_SIZE)\n",
    "    N_EPOCHS = int(N_EPOCHS)\n",
    "    \n",
    "    device = torch.device('cuda' if torch.cuda.is_available() else 'cpu')\n",
    "    train_iterator, valid_iterator, test_iterator = get_data_iterators(BATCH_SIZE)\n",
    "    \n",
    "    \n",
    "    model = SiameseBiLSTM(hidden_size=150, num_layers=2, embedding_dim=300, embd_matrix1 = subset_embedding_matrix_en, embd_matrix2 = subset_embedding_matrix_es, dropout = DROPOUT)\n",
    "    \n",
    "    optimizerL = ['SGD', 'Adam', 'RMSprop', 'Adadelta', 'Adagrad', 'Adamax']\n",
    "    optimizerD= {'Adam':optim.Adam(model.parameters(), lr=lr), 'SGD':optim.SGD(model.parameters(), lr=lr),\n",
    "                 'RMSprop':optim.RMSprop(model.parameters(), lr=lr), 'Adadelta':optim.Adadelta(model.parameters(), lr=lr),\n",
    "                 'Adagrad':optim.Adagrad(model.parameters(), lr=lr), 'Adamax':optim.Adamax(model.parameters(), lr=lr)\n",
    "                 }\n",
    "    \n",
    "    optimizer = optimizerD[optimizerL[round(optim_type)]]\n",
    "    #optimizer = optim.Adam(model.parameters(), lr = lr)\n",
    "    \n",
    "    \n",
    "    \n",
    "    criterion = nn.MSELoss()\n",
    "\n",
    "    #model = model.to(device)\n",
    "    #criterion = criterion.to(device)\n",
    "    \n",
    "    for epoch in range(N_EPOCHS):\n",
    "\n",
    "    \n",
    "        train_loss, train_corr = train(model, train_iterator, optimizer, criterion)\n",
    "        valid_loss, val_corr = evaluate(model, valid_iterator, criterion)\n",
    "        test_loss, test_corr = evaluate(model, test_iterator, criterion)\n",
    "\n",
    "        #print(\"the valid acc is \",valid_acc)\n",
    "    \n",
    "\n",
    "        best_valid_loss = float('inf')\n",
    "        best_valid_corr = 0\n",
    "    \n",
    "#         if valid_loss < best_valid_loss:\n",
    "#             best_valid_loss = valid_loss\n",
    "        #     best_valid_acc = valid_acc\n",
    "        if best_valid_corr < val_corr:\n",
    "            best_valid_corr = val_corr\n",
    "#             #torch.save(model.state_dict(), 'tut2-model.pt')\n",
    "#             torch.save(model, \"cross_sts_model_v1.pt\")\n",
    "    \n",
    "\n",
    "#         print(f'\\tTrain Loss: {train_loss:.3f} | Train Acc: {train_acc*100:.2f}%')\n",
    "#         print(f'\\t Val. Loss: {valid_loss:.3f} |  Val. Acc: {valid_acc*100:.2f}%')\n",
    "#         print(f'\\t Test. Loss: {test_loss:.3f} |  Test. Acc: {test_acc*100:.2f}%')\n",
    "        \n",
    "        print(f'\\tTrain Loss: {train_loss:.3f}| Train Corr:{train_corr:.3f}| Val. Loss: {valid_loss:.3f}| Val Corr:{val_corr:.3f} | Test. Loss: {test_loss:.3f}| Test Corr:{test_corr:.3f}')\n",
    "#         print(f'\\t Val. Loss: {valid_loss:.3f}| Val Corr:{val_corr:.3f}')\n",
    "#         print(f'\\t Test. Loss: {test_loss:.3f}| Test Corr:{test_corr:.3f}')\n",
    "    \n",
    "    \n",
    "#     print(\"the best valid corr is \", best_valid_corr)\n",
    "    return best_valid_corr\n",
    "\n",
    "    \n",
    "    \n",
    "    "
   ]
  },
  {
   "cell_type": "code",
   "execution_count": 720,
   "id": "8515a8fe",
   "metadata": {},
   "outputs": [],
   "source": [
    "from bayes_opt import BayesianOptimization"
   ]
  },
  {
   "cell_type": "code",
   "execution_count": 721,
   "id": "ffd04a38",
   "metadata": {},
   "outputs": [],
   "source": [
    "params_nn = {\n",
    "    'N_LAYERS': (1,3),\n",
    "    'HIDDEN_DIM':(50, 500),\n",
    "    'DROPOUT':(0,1),\n",
    "    'BATCH_SIZE':(10, 32),\n",
    "    'optim_type':(0,5),\n",
    "    'N_EPOCHS':(1, 10),\n",
    "    'lr':(0.001, 1)\n",
    "    \n",
    "}"
   ]
  },
  {
   "cell_type": "code",
   "execution_count": 722,
   "id": "d7482216",
   "metadata": {},
   "outputs": [],
   "source": [
    "import warnings\n",
    "warnings.filterwarnings('ignore')"
   ]
  },
  {
   "cell_type": "code",
   "execution_count": 723,
   "id": "47ca290d",
   "metadata": {},
   "outputs": [],
   "source": [
    "nn_bo = BayesianOptimization(tune_model, params_nn, random_state=111)"
   ]
  },
  {
   "cell_type": "code",
   "execution_count": 724,
   "id": "72900411",
   "metadata": {},
   "outputs": [
    {
     "name": "stdout",
     "output_type": "stream",
     "text": [
      "|   iter    |  target   | BATCH_... |  DROPOUT  | HIDDEN... | N_EPOCHS  | N_LAYERS  |    lr     | optim_... |\n",
      "-------------------------------------------------------------------------------------------------------------\n",
      "\tTrain Loss: 0.084| Train Corr:0.151| Val. Loss: 1.622| Val Corr:0.019 | Test. Loss: 1.622| Test Corr:0.018\n",
      "\tTrain Loss: 0.083| Train Corr:0.168| Val. Loss: 1.622| Val Corr:0.027 | Test. Loss: 1.622| Test Corr:0.028\n",
      "\tTrain Loss: 0.083| Train Corr:0.175| Val. Loss: 1.622| Val Corr:0.031 | Test. Loss: 1.622| Test Corr:0.033\n",
      "\tTrain Loss: 0.083| Train Corr:0.183| Val. Loss: 1.622| Val Corr:0.033 | Test. Loss: 1.622| Test Corr:0.037\n",
      "\tTrain Loss: 0.082| Train Corr:0.190| Val. Loss: 1.622| Val Corr:0.035 | Test. Loss: 1.622| Test Corr:0.040\n",
      "\tTrain Loss: 0.082| Train Corr:0.196| Val. Loss: 1.622| Val Corr:0.036 | Test. Loss: 1.622| Test Corr:0.043\n",
      "\tTrain Loss: 0.082| Train Corr:0.202| Val. Loss: 1.622| Val Corr:0.037 | Test. Loss: 1.622| Test Corr:0.047\n",
      "| \u001b[0m1        \u001b[0m | \u001b[0m0.03747  \u001b[0m | \u001b[0m23.47    \u001b[0m | \u001b[0m0.1691   \u001b[0m | \u001b[0m246.2    \u001b[0m | \u001b[0m7.923    \u001b[0m | \u001b[0m1.591    \u001b[0m | \u001b[0m0.15     \u001b[0m | \u001b[0m0.1124   \u001b[0m |\n",
      "\tTrain Loss: 0.086| Train Corr:0.041| Val. Loss: 1.622| Val Corr:0.031 | Test. Loss: 1.622| Test Corr:-0.003\n",
      "\tTrain Loss: 0.085| Train Corr:0.082| Val. Loss: 1.622| Val Corr:0.035 | Test. Loss: 1.622| Test Corr:0.017\n",
      "\tTrain Loss: 0.085| Train Corr:0.093| Val. Loss: 1.622| Val Corr:0.039 | Test. Loss: 1.622| Test Corr:0.030\n",
      "\tTrain Loss: 0.085| Train Corr:0.103| Val. Loss: 1.622| Val Corr:0.041 | Test. Loss: 1.622| Test Corr:0.039\n",
      "\tTrain Loss: 0.085| Train Corr:0.112| Val. Loss: 1.622| Val Corr:0.042 | Test. Loss: 1.622| Test Corr:0.045\n",
      "\tTrain Loss: 0.084| Train Corr:0.121| Val. Loss: 1.622| Val Corr:0.044 | Test. Loss: 1.622| Test Corr:0.050\n",
      "\tTrain Loss: 0.084| Train Corr:0.129| Val. Loss: 1.622| Val Corr:0.045 | Test. Loss: 1.622| Test Corr:0.054\n",
      "\tTrain Loss: 0.084| Train Corr:0.137| Val. Loss: 1.622| Val Corr:0.046 | Test. Loss: 1.622| Test Corr:0.058\n",
      "\tTrain Loss: 0.084| Train Corr:0.144| Val. Loss: 1.622| Val Corr:0.047 | Test. Loss: 1.622| Test Corr:0.061\n",
      "| \u001b[95m2        \u001b[0m | \u001b[95m0.04662  \u001b[0m | \u001b[95m19.24    \u001b[0m | \u001b[95m0.2387   \u001b[0m | \u001b[95m201.9    \u001b[0m | \u001b[95m9.916    \u001b[0m | \u001b[95m1.475    \u001b[0m | \u001b[95m0.08211  \u001b[0m | \u001b[95m3.348    \u001b[0m |\n",
      "\tTrain Loss: 0.368| Train Corr:-0.029| Val. Loss: 1.622| Val Corr:nan | Test. Loss: 1.622| Test Corr:nan\n",
      "\tTrain Loss: 0.368| Train Corr:nan| Val. Loss: 1.622| Val Corr:nan | Test. Loss: 1.622| Test Corr:nan\n",
      "\tTrain Loss: 0.368| Train Corr:nan| Val. Loss: 1.622| Val Corr:nan | Test. Loss: 1.622| Test Corr:nan\n",
      "\tTrain Loss: 0.368| Train Corr:nan| Val. Loss: 1.622| Val Corr:nan | Test. Loss: 1.622| Test Corr:nan\n",
      "\tTrain Loss: 0.368| Train Corr:nan| Val. Loss: 1.622| Val Corr:nan | Test. Loss: 1.622| Test Corr:nan\n",
      "\tTrain Loss: 0.368| Train Corr:nan| Val. Loss: 1.622| Val Corr:nan | Test. Loss: 1.622| Test Corr:nan\n",
      "\tTrain Loss: 0.368| Train Corr:nan| Val. Loss: 1.622| Val Corr:nan | Test. Loss: 1.622| Test Corr:nan\n",
      "\tTrain Loss: 0.368| Train Corr:nan| Val. Loss: 1.622| Val Corr:nan | Test. Loss: 1.622| Test Corr:nan\n",
      "| \u001b[0m3        \u001b[0m | \u001b[0m0.0      \u001b[0m | \u001b[0m17.6     \u001b[0m | \u001b[0m0.4273   \u001b[0m | \u001b[0m201.7    \u001b[0m | \u001b[0m8.755    \u001b[0m | \u001b[0m1.311    \u001b[0m | \u001b[0m0.6763   \u001b[0m | \u001b[0m1.98     \u001b[0m |\n",
      "\tTrain Loss: 0.082| Train Corr:0.202| Val. Loss: 1.622| Val Corr:0.021 | Test. Loss: 1.622| Test Corr:-0.010\n",
      "\tTrain Loss: 0.081| Train Corr:0.224| Val. Loss: 1.622| Val Corr:0.026 | Test. Loss: 1.622| Test Corr:0.002\n",
      "\tTrain Loss: 0.081| Train Corr:0.236| Val. Loss: 1.622| Val Corr:0.029 | Test. Loss: 1.622| Test Corr:0.009\n",
      "\tTrain Loss: 0.081| Train Corr:0.244| Val. Loss: 1.622| Val Corr:0.030 | Test. Loss: 1.622| Test Corr:0.015\n",
      "\tTrain Loss: 0.080| Train Corr:0.251| Val. Loss: 1.622| Val Corr:0.031 | Test. Loss: 1.622| Test Corr:0.023\n",
      "\tTrain Loss: 0.080| Train Corr:0.259| Val. Loss: 1.622| Val Corr:0.033 | Test. Loss: 1.622| Test Corr:0.031\n",
      "| \u001b[0m4        \u001b[0m | \u001b[0m0.03254  \u001b[0m | \u001b[0m24.26    \u001b[0m | \u001b[0m0.03065  \u001b[0m | \u001b[0m212.2    \u001b[0m | \u001b[0m6.231    \u001b[0m | \u001b[0m1.787    \u001b[0m | \u001b[0m0.7036   \u001b[0m | \u001b[0m2.53     \u001b[0m |\n",
      "\tTrain Loss: 0.367| Train Corr:-0.023| Val. Loss: 1.622| Val Corr:nan | Test. Loss: 1.622| Test Corr:nan\n",
      "\tTrain Loss: 0.368| Train Corr:nan| Val. Loss: 1.622| Val Corr:nan | Test. Loss: 1.622| Test Corr:nan\n",
      "\tTrain Loss: 0.368| Train Corr:nan| Val. Loss: 1.622| Val Corr:nan | Test. Loss: 1.622| Test Corr:nan\n",
      "| \u001b[0m5        \u001b[0m | \u001b[0m0.0      \u001b[0m | \u001b[0m18.29    \u001b[0m | \u001b[0m0.7106   \u001b[0m | \u001b[0m406.1    \u001b[0m | \u001b[0m3.796    \u001b[0m | \u001b[0m2.489    \u001b[0m | \u001b[0m0.8691   \u001b[0m | \u001b[0m0.8098   \u001b[0m |\n",
      "\tTrain Loss: 0.368| Train Corr:-0.049| Val. Loss: 1.622| Val Corr:nan | Test. Loss: 1.622| Test Corr:nan\n",
      "\tTrain Loss: 0.368| Train Corr:nan| Val. Loss: 1.622| Val Corr:nan | Test. Loss: 1.622| Test Corr:nan\n",
      "\tTrain Loss: 0.368| Train Corr:nan| Val. Loss: 1.622| Val Corr:nan | Test. Loss: 1.622| Test Corr:nan\n",
      "\tTrain Loss: 0.368| Train Corr:nan| Val. Loss: 1.622| Val Corr:nan | Test. Loss: 1.622| Test Corr:nan\n",
      "\tTrain Loss: 0.368| Train Corr:nan| Val. Loss: 1.622| Val Corr:nan | Test. Loss: 1.622| Test Corr:nan\n",
      "| \u001b[0m6        \u001b[0m | \u001b[0m0.0      \u001b[0m | \u001b[0m31.53    \u001b[0m | \u001b[0m0.5873   \u001b[0m | \u001b[0m264.1    \u001b[0m | \u001b[0m5.38     \u001b[0m | \u001b[0m2.065    \u001b[0m | \u001b[0m0.1762   \u001b[0m | \u001b[0m4.654    \u001b[0m |\n",
      "\tTrain Loss: 0.367| Train Corr:-0.027| Val. Loss: 1.622| Val Corr:nan | Test. Loss: 1.622| Test Corr:nan\n",
      "\tTrain Loss: 0.367| Train Corr:nan| Val. Loss: 1.622| Val Corr:nan | Test. Loss: 1.622| Test Corr:nan\n",
      "\tTrain Loss: 0.367| Train Corr:nan| Val. Loss: 1.622| Val Corr:nan | Test. Loss: 1.622| Test Corr:nan\n",
      "\tTrain Loss: 0.367| Train Corr:nan| Val. Loss: 1.622| Val Corr:nan | Test. Loss: 1.622| Test Corr:nan\n",
      "\tTrain Loss: 0.367| Train Corr:nan| Val. Loss: 1.622| Val Corr:nan | Test. Loss: 1.622| Test Corr:nan\n",
      "\tTrain Loss: 0.367| Train Corr:nan| Val. Loss: 1.622| Val Corr:nan | Test. Loss: 1.622| Test Corr:nan\n",
      "\tTrain Loss: 0.367| Train Corr:nan| Val. Loss: 1.622| Val Corr:nan | Test. Loss: 1.622| Test Corr:nan\n",
      "\tTrain Loss: 0.367| Train Corr:nan| Val. Loss: 1.622| Val Corr:nan | Test. Loss: 1.622| Test Corr:nan\n",
      "\tTrain Loss: 0.367| Train Corr:nan| Val. Loss: 1.622| Val Corr:nan | Test. Loss: 1.622| Test Corr:nan\n",
      "| \u001b[0m7        \u001b[0m | \u001b[0m0.0      \u001b[0m | \u001b[0m14.23    \u001b[0m | \u001b[0m0.1717   \u001b[0m | \u001b[0m322.5    \u001b[0m | \u001b[0m9.13     \u001b[0m | \u001b[0m1.751    \u001b[0m | \u001b[0m0.6978   \u001b[0m | \u001b[0m0.9652   \u001b[0m |\n",
      "\tTrain Loss: 0.087| Train Corr:-0.006| Val. Loss: 1.622| Val Corr:0.009 | Test. Loss: 1.622| Test Corr:-0.052\n",
      "\tTrain Loss: 0.085| Train Corr:0.072| Val. Loss: 1.622| Val Corr:0.021 | Test. Loss: 1.622| Test Corr:-0.027\n",
      "\tTrain Loss: 0.085| Train Corr:0.091| Val. Loss: 1.622| Val Corr:0.030 | Test. Loss: 1.622| Test Corr:-0.008\n",
      "\tTrain Loss: 0.085| Train Corr:0.102| Val. Loss: 1.622| Val Corr:0.036 | Test. Loss: 1.622| Test Corr:0.006\n",
      "\tTrain Loss: 0.085| Train Corr:0.112| Val. Loss: 1.622| Val Corr:0.040 | Test. Loss: 1.622| Test Corr:0.016\n",
      "\tTrain Loss: 0.085| Train Corr:0.121| Val. Loss: 1.622| Val Corr:0.043 | Test. Loss: 1.622| Test Corr:0.024\n",
      "| \u001b[0m8        \u001b[0m | \u001b[0m0.04309  \u001b[0m | \u001b[0m24.63    \u001b[0m | \u001b[0m0.9934   \u001b[0m | \u001b[0m209.1    \u001b[0m | \u001b[0m6.399    \u001b[0m | \u001b[0m1.97     \u001b[0m | \u001b[0m0.1112   \u001b[0m | \u001b[0m3.422    \u001b[0m |\n",
      "\tTrain Loss: 0.082| Train Corr:0.198| Val. Loss: 1.622| Val Corr:0.018 | Test. Loss: 1.622| Test Corr:-0.018\n",
      "| \u001b[0m9        \u001b[0m | \u001b[0m0.01824  \u001b[0m | \u001b[0m15.34    \u001b[0m | \u001b[0m0.3355   \u001b[0m | \u001b[0m254.0    \u001b[0m | \u001b[0m1.583    \u001b[0m | \u001b[0m2.868    \u001b[0m | \u001b[0m0.2182   \u001b[0m | \u001b[0m0.06621  \u001b[0m |\n",
      "\tTrain Loss: 0.085| Train Corr:0.122| Val. Loss: 1.622| Val Corr:-0.008 | Test. Loss: 1.622| Test Corr:-0.019\n",
      "\tTrain Loss: 0.084| Train Corr:0.144| Val. Loss: 1.622| Val Corr:0.012 | Test. Loss: 1.622| Test Corr:0.016\n",
      "\tTrain Loss: 0.084| Train Corr:0.157| Val. Loss: 1.622| Val Corr:0.020 | Test. Loss: 1.622| Test Corr:0.030\n",
      "\tTrain Loss: 0.083| Train Corr:0.170| Val. Loss: 1.622| Val Corr:0.024 | Test. Loss: 1.622| Test Corr:0.039\n",
      "| \u001b[0m10       \u001b[0m | \u001b[0m0.0239   \u001b[0m | \u001b[0m17.5     \u001b[0m | \u001b[0m0.6499   \u001b[0m | \u001b[0m335.9    \u001b[0m | \u001b[0m4.726    \u001b[0m | \u001b[0m2.255    \u001b[0m | \u001b[0m0.1753   \u001b[0m | \u001b[0m2.583    \u001b[0m |\n",
      "\tTrain Loss: 0.368| Train Corr:-0.024| Val. Loss: 1.622| Val Corr:nan | Test. Loss: 1.622| Test Corr:nan\n"
     ]
    },
    {
     "name": "stdout",
     "output_type": "stream",
     "text": [
      "\tTrain Loss: 0.368| Train Corr:nan| Val. Loss: 1.622| Val Corr:nan | Test. Loss: 1.622| Test Corr:nan\n",
      "\tTrain Loss: 0.368| Train Corr:nan| Val. Loss: 1.622| Val Corr:nan | Test. Loss: 1.622| Test Corr:nan\n",
      "\tTrain Loss: 0.368| Train Corr:nan| Val. Loss: 1.622| Val Corr:nan | Test. Loss: 1.622| Test Corr:nan\n",
      "\tTrain Loss: 0.368| Train Corr:nan| Val. Loss: 1.622| Val Corr:nan | Test. Loss: 1.622| Test Corr:nan\n",
      "\tTrain Loss: 0.368| Train Corr:nan| Val. Loss: 1.622| Val Corr:nan | Test. Loss: 1.622| Test Corr:nan\n",
      "\tTrain Loss: 0.368| Train Corr:nan| Val. Loss: 1.622| Val Corr:nan | Test. Loss: 1.622| Test Corr:nan\n",
      "\tTrain Loss: 0.368| Train Corr:nan| Val. Loss: 1.622| Val Corr:nan | Test. Loss: 1.622| Test Corr:nan\n",
      "| \u001b[0m11       \u001b[0m | \u001b[0m0.0      \u001b[0m | \u001b[0m16.12    \u001b[0m | \u001b[0m0.7036   \u001b[0m | \u001b[0m163.9    \u001b[0m | \u001b[0m8.654    \u001b[0m | \u001b[0m1.73     \u001b[0m | \u001b[0m0.9495   \u001b[0m | \u001b[0m1.463    \u001b[0m |\n",
      "\tTrain Loss: 0.367| Train Corr:-0.028| Val. Loss: 1.622| Val Corr:nan | Test. Loss: 1.622| Test Corr:nan\n",
      "\tTrain Loss: 0.368| Train Corr:nan| Val. Loss: 1.622| Val Corr:nan | Test. Loss: 1.622| Test Corr:nan\n",
      "\tTrain Loss: 0.368| Train Corr:nan| Val. Loss: 1.622| Val Corr:nan | Test. Loss: 1.622| Test Corr:nan\n",
      "\tTrain Loss: 0.368| Train Corr:nan| Val. Loss: 1.622| Val Corr:nan | Test. Loss: 1.622| Test Corr:nan\n",
      "\tTrain Loss: 0.368| Train Corr:nan| Val. Loss: 1.622| Val Corr:nan | Test. Loss: 1.622| Test Corr:nan\n",
      "\tTrain Loss: 0.368| Train Corr:nan| Val. Loss: 1.622| Val Corr:nan | Test. Loss: 1.622| Test Corr:nan\n",
      "\tTrain Loss: 0.368| Train Corr:nan| Val. Loss: 1.622| Val Corr:nan | Test. Loss: 1.622| Test Corr:nan\n",
      "| \u001b[0m12       \u001b[0m | \u001b[0m0.0      \u001b[0m | \u001b[0m22.9     \u001b[0m | \u001b[0m0.1157   \u001b[0m | \u001b[0m84.33    \u001b[0m | \u001b[0m7.199    \u001b[0m | \u001b[0m2.771    \u001b[0m | \u001b[0m0.7996   \u001b[0m | \u001b[0m4.418    \u001b[0m |\n",
      "\tTrain Loss: 0.368| Train Corr:-0.043| Val. Loss: 1.622| Val Corr:nan | Test. Loss: 1.622| Test Corr:nan\n",
      "\tTrain Loss: 0.368| Train Corr:nan| Val. Loss: 1.622| Val Corr:nan | Test. Loss: 1.622| Test Corr:nan\n",
      "\tTrain Loss: 0.368| Train Corr:nan| Val. Loss: 1.622| Val Corr:nan | Test. Loss: 1.622| Test Corr:nan\n",
      "\tTrain Loss: 0.368| Train Corr:nan| Val. Loss: 1.622| Val Corr:nan | Test. Loss: 1.622| Test Corr:nan\n",
      "\tTrain Loss: 0.368| Train Corr:nan| Val. Loss: 1.622| Val Corr:nan | Test. Loss: 1.622| Test Corr:nan\n",
      "\tTrain Loss: 0.368| Train Corr:nan| Val. Loss: 1.622| Val Corr:nan | Test. Loss: 1.622| Test Corr:nan\n",
      "| \u001b[0m13       \u001b[0m | \u001b[0m0.0      \u001b[0m | \u001b[0m28.76    \u001b[0m | \u001b[0m0.178    \u001b[0m | \u001b[0m426.0    \u001b[0m | \u001b[0m6.713    \u001b[0m | \u001b[0m2.786    \u001b[0m | \u001b[0m0.1056   \u001b[0m | \u001b[0m2.349    \u001b[0m |\n",
      "\tTrain Loss: 0.368| Train Corr:-0.049| Val. Loss: 1.622| Val Corr:nan | Test. Loss: 1.622| Test Corr:nan\n",
      "| \u001b[0m14       \u001b[0m | \u001b[0m0.0      \u001b[0m | \u001b[0m31.99    \u001b[0m | \u001b[0m0.6742   \u001b[0m | \u001b[0m476.2    \u001b[0m | \u001b[0m1.097    \u001b[0m | \u001b[0m2.593    \u001b[0m | \u001b[0m0.7139   \u001b[0m | \u001b[0m1.511    \u001b[0m |\n",
      "\tTrain Loss: 0.368| Train Corr:-0.024| Val. Loss: 1.622| Val Corr:nan | Test. Loss: 1.622| Test Corr:nan\n",
      "\tTrain Loss: 0.368| Train Corr:nan| Val. Loss: 1.622| Val Corr:nan | Test. Loss: 1.622| Test Corr:nan\n",
      "\tTrain Loss: 0.368| Train Corr:nan| Val. Loss: 1.622| Val Corr:nan | Test. Loss: 1.622| Test Corr:nan\n",
      "\tTrain Loss: 0.368| Train Corr:nan| Val. Loss: 1.622| Val Corr:nan | Test. Loss: 1.622| Test Corr:nan\n",
      "\tTrain Loss: 0.368| Train Corr:nan| Val. Loss: 1.622| Val Corr:nan | Test. Loss: 1.622| Test Corr:nan\n",
      "| \u001b[0m15       \u001b[0m | \u001b[0m0.0      \u001b[0m | \u001b[0m16.3     \u001b[0m | \u001b[0m0.1286   \u001b[0m | \u001b[0m436.2    \u001b[0m | \u001b[0m5.09     \u001b[0m | \u001b[0m1.447    \u001b[0m | \u001b[0m0.2003   \u001b[0m | \u001b[0m4.429    \u001b[0m |\n",
      "\tTrain Loss: 0.302| Train Corr:0.022| Val. Loss: 1.622| Val Corr:-0.029 | Test. Loss: 1.622| Test Corr:-0.180\n",
      "\tTrain Loss: 0.306| Train Corr:-0.131| Val. Loss: 1.622| Val Corr:-0.030 | Test. Loss: 1.622| Test Corr:-0.176\n",
      "\tTrain Loss: 0.306| Train Corr:-0.113| Val. Loss: 1.622| Val Corr:-0.010 | Test. Loss: 1.622| Test Corr:-0.098\n",
      "\tTrain Loss: 0.305| Train Corr:0.011| Val. Loss: 1.622| Val Corr:0.007 | Test. Loss: 1.622| Test Corr:-0.090\n",
      "\tTrain Loss: 0.306| Train Corr:0.015| Val. Loss: 1.622| Val Corr:0.007 | Test. Loss: 1.622| Test Corr:-0.090\n",
      "\tTrain Loss: 0.306| Train Corr:0.015| Val. Loss: 1.622| Val Corr:0.007 | Test. Loss: 1.622| Test Corr:-0.090\n",
      "| \u001b[0m16       \u001b[0m | \u001b[0m0.006884 \u001b[0m | \u001b[0m13.19    \u001b[0m | \u001b[0m0.9503   \u001b[0m | \u001b[0m385.7    \u001b[0m | \u001b[0m6.015    \u001b[0m | \u001b[0m1.943    \u001b[0m | \u001b[0m0.01933  \u001b[0m | \u001b[0m2.263    \u001b[0m |\n",
      "\tTrain Loss: 0.083| Train Corr:0.164| Val. Loss: 1.622| Val Corr:0.015 | Test. Loss: 1.622| Test Corr:0.014\n",
      "\tTrain Loss: 0.082| Train Corr:0.193| Val. Loss: 1.622| Val Corr:0.024 | Test. Loss: 1.622| Test Corr:0.027\n",
      "\tTrain Loss: 0.082| Train Corr:0.209| Val. Loss: 1.622| Val Corr:0.028 | Test. Loss: 1.622| Test Corr:0.034\n",
      "\tTrain Loss: 0.081| Train Corr:0.221| Val. Loss: 1.622| Val Corr:0.030 | Test. Loss: 1.622| Test Corr:0.041\n",
      "\tTrain Loss: 0.081| Train Corr:0.230| Val. Loss: 1.622| Val Corr:0.032 | Test. Loss: 1.622| Test Corr:0.047\n",
      "\tTrain Loss: 0.081| Train Corr:0.237| Val. Loss: 1.622| Val Corr:0.034 | Test. Loss: 1.622| Test Corr:0.054\n",
      "| \u001b[0m17       \u001b[0m | \u001b[0m0.03445  \u001b[0m | \u001b[0m23.83    \u001b[0m | \u001b[0m0.3219   \u001b[0m | \u001b[0m212.7    \u001b[0m | \u001b[0m6.328    \u001b[0m | \u001b[0m1.356    \u001b[0m | \u001b[0m0.409    \u001b[0m | \u001b[0m3.068    \u001b[0m |\n",
      "\tTrain Loss: 0.086| Train Corr:0.076| Val. Loss: 1.622| Val Corr:0.030 | Test. Loss: 1.622| Test Corr:-0.004\n",
      "\tTrain Loss: 0.085| Train Corr:0.117| Val. Loss: 1.622| Val Corr:0.038 | Test. Loss: 1.622| Test Corr:0.015\n",
      "\tTrain Loss: 0.085| Train Corr:0.127| Val. Loss: 1.622| Val Corr:0.043 | Test. Loss: 1.622| Test Corr:0.027\n",
      "\tTrain Loss: 0.085| Train Corr:0.137| Val. Loss: 1.622| Val Corr:0.046 | Test. Loss: 1.622| Test Corr:0.035\n",
      "\tTrain Loss: 0.084| Train Corr:0.147| Val. Loss: 1.622| Val Corr:0.048 | Test. Loss: 1.622| Test Corr:0.041\n",
      "\tTrain Loss: 0.084| Train Corr:0.156| Val. Loss: 1.622| Val Corr:0.050 | Test. Loss: 1.622| Test Corr:0.045\n",
      "| \u001b[95m18       \u001b[0m | \u001b[95m0.0499   \u001b[0m | \u001b[95m26.54    \u001b[0m | \u001b[95m0.3037   \u001b[0m | \u001b[95m209.6    \u001b[0m | \u001b[95m6.998    \u001b[0m | \u001b[95m2.315    \u001b[0m | \u001b[95m0.1768   \u001b[0m | \u001b[95m3.337    \u001b[0m |\n",
      "\tTrain Loss: 0.367| Train Corr:-0.029| Val. Loss: 1.622| Val Corr:nan | Test. Loss: 1.622| Test Corr:nan\n",
      "\tTrain Loss: 0.367| Train Corr:nan| Val. Loss: 1.622| Val Corr:nan | Test. Loss: 1.622| Test Corr:nan\n",
      "\tTrain Loss: 0.367| Train Corr:nan| Val. Loss: 1.622| Val Corr:nan | Test. Loss: 1.622| Test Corr:nan\n",
      "\tTrain Loss: 0.367| Train Corr:nan| Val. Loss: 1.622| Val Corr:nan | Test. Loss: 1.622| Test Corr:nan\n",
      "\tTrain Loss: 0.367| Train Corr:nan| Val. Loss: 1.622| Val Corr:nan | Test. Loss: 1.622| Test Corr:nan\n",
      "\tTrain Loss: 0.367| Train Corr:nan| Val. Loss: 1.622| Val Corr:nan | Test. Loss: 1.622| Test Corr:nan\n",
      "\tTrain Loss: 0.367| Train Corr:nan| Val. Loss: 1.622| Val Corr:nan | Test. Loss: 1.622| Test Corr:nan\n",
      "\tTrain Loss: 0.367| Train Corr:nan| Val. Loss: 1.622| Val Corr:nan | Test. Loss: 1.622| Test Corr:nan\n",
      "\tTrain Loss: 0.367| Train Corr:nan| Val. Loss: 1.622| Val Corr:nan | Test. Loss: 1.622| Test Corr:nan\n",
      "| \u001b[0m19       \u001b[0m | \u001b[0m0.0      \u001b[0m | \u001b[0m21.51    \u001b[0m | \u001b[0m0.04305  \u001b[0m | \u001b[0m202.4    \u001b[0m | \u001b[0m9.361    \u001b[0m | \u001b[0m1.283    \u001b[0m | \u001b[0m0.2911   \u001b[0m | \u001b[0m4.533    \u001b[0m |\n",
      "\tTrain Loss: 0.366| Train Corr:-0.035| Val. Loss: 1.622| Val Corr:nan | Test. Loss: 1.622| Test Corr:nan\n",
      "\tTrain Loss: 0.367| Train Corr:nan| Val. Loss: 1.622| Val Corr:nan | Test. Loss: 1.622| Test Corr:nan\n",
      "\tTrain Loss: 0.367| Train Corr:nan| Val. Loss: 1.622| Val Corr:nan | Test. Loss: 1.622| Test Corr:nan\n",
      "\tTrain Loss: 0.367| Train Corr:nan| Val. Loss: 1.622| Val Corr:nan | Test. Loss: 1.622| Test Corr:nan\n",
      "\tTrain Loss: 0.367| Train Corr:nan| Val. Loss: 1.622| Val Corr:nan | Test. Loss: 1.622| Test Corr:nan\n",
      "\tTrain Loss: 0.367| Train Corr:nan| Val. Loss: 1.622| Val Corr:nan | Test. Loss: 1.622| Test Corr:nan\n",
      "| \u001b[0m20       \u001b[0m | \u001b[0m0.0      \u001b[0m | \u001b[0m25.48    \u001b[0m | \u001b[0m0.5187   \u001b[0m | \u001b[0m210.5    \u001b[0m | \u001b[0m6.811    \u001b[0m | \u001b[0m1.856    \u001b[0m | \u001b[0m0.09345  \u001b[0m | \u001b[0m3.522    \u001b[0m |\n",
      "\tTrain Loss: 0.082| Train Corr:0.215| Val. Loss: 1.622| Val Corr:0.022 | Test. Loss: 1.622| Test Corr:-0.012\n",
      "\tTrain Loss: 0.081| Train Corr:0.238| Val. Loss: 1.622| Val Corr:0.027 | Test. Loss: 1.622| Test Corr:0.001\n"
     ]
    },
    {
     "name": "stdout",
     "output_type": "stream",
     "text": [
      "\tTrain Loss: 0.080| Train Corr:0.251| Val. Loss: 1.622| Val Corr:0.029 | Test. Loss: 1.622| Test Corr:0.009\n",
      "\tTrain Loss: 0.080| Train Corr:0.260| Val. Loss: 1.622| Val Corr:0.031 | Test. Loss: 1.622| Test Corr:0.018\n",
      "\tTrain Loss: 0.079| Train Corr:0.270| Val. Loss: 1.622| Val Corr:0.032 | Test. Loss: 1.622| Test Corr:0.028\n",
      "| \u001b[0m21       \u001b[0m | \u001b[0m0.03217  \u001b[0m | \u001b[0m24.45    \u001b[0m | \u001b[0m0.1604   \u001b[0m | \u001b[0m211.7    \u001b[0m | \u001b[0m5.973    \u001b[0m | \u001b[0m1.785    \u001b[0m | \u001b[0m0.9761   \u001b[0m | \u001b[0m2.974    \u001b[0m |\n",
      "\tTrain Loss: 0.329| Train Corr:0.001| Val. Loss: 1.622| Val Corr:-0.042 | Test. Loss: 1.622| Test Corr:0.030\n",
      "\tTrain Loss: 0.304| Train Corr:0.035| Val. Loss: 1.622| Val Corr:0.040 | Test. Loss: 1.622| Test Corr:-0.043\n",
      "\tTrain Loss: 0.306| Train Corr:0.022| Val. Loss: 1.622| Val Corr:0.040 | Test. Loss: 1.622| Test Corr:-0.043\n",
      "\tTrain Loss: 0.306| Train Corr:0.022| Val. Loss: 1.622| Val Corr:0.040 | Test. Loss: 1.622| Test Corr:-0.043\n",
      "\tTrain Loss: 0.306| Train Corr:0.022| Val. Loss: 1.622| Val Corr:0.040 | Test. Loss: 1.622| Test Corr:-0.043\n",
      "| \u001b[0m22       \u001b[0m | \u001b[0m0.04035  \u001b[0m | \u001b[0m24.81    \u001b[0m | \u001b[0m0.9851   \u001b[0m | \u001b[0m208.7    \u001b[0m | \u001b[0m5.925    \u001b[0m | \u001b[0m1.789    \u001b[0m | \u001b[0m0.4916   \u001b[0m | \u001b[0m4.248    \u001b[0m |\n",
      "\tTrain Loss: 0.084| Train Corr:0.130| Val. Loss: 1.622| Val Corr:0.023 | Test. Loss: 1.622| Test Corr:-0.021\n",
      "\tTrain Loss: 0.084| Train Corr:0.156| Val. Loss: 1.622| Val Corr:0.032 | Test. Loss: 1.622| Test Corr:-0.000\n",
      "\tTrain Loss: 0.083| Train Corr:0.169| Val. Loss: 1.622| Val Corr:0.036 | Test. Loss: 1.622| Test Corr:0.009\n",
      "\tTrain Loss: 0.083| Train Corr:0.182| Val. Loss: 1.622| Val Corr:0.038 | Test. Loss: 1.622| Test Corr:0.015\n",
      "\tTrain Loss: 0.083| Train Corr:0.194| Val. Loss: 1.622| Val Corr:0.040 | Test. Loss: 1.622| Test Corr:0.020\n",
      "\tTrain Loss: 0.082| Train Corr:0.205| Val. Loss: 1.622| Val Corr:0.041 | Test. Loss: 1.622| Test Corr:0.024\n",
      "| \u001b[0m23       \u001b[0m | \u001b[0m0.04142  \u001b[0m | \u001b[0m24.49    \u001b[0m | \u001b[0m0.1507   \u001b[0m | \u001b[0m209.0    \u001b[0m | \u001b[0m6.668    \u001b[0m | \u001b[0m1.265    \u001b[0m | \u001b[0m0.2767   \u001b[0m | \u001b[0m2.736    \u001b[0m |\n",
      "\tTrain Loss: 0.083| Train Corr:0.161| Val. Loss: 1.622| Val Corr:0.019 | Test. Loss: 1.622| Test Corr:-0.003\n",
      "\tTrain Loss: 0.082| Train Corr:0.191| Val. Loss: 1.622| Val Corr:0.025 | Test. Loss: 1.622| Test Corr:0.016\n",
      "\tTrain Loss: 0.082| Train Corr:0.205| Val. Loss: 1.622| Val Corr:0.028 | Test. Loss: 1.622| Test Corr:0.025\n",
      "\tTrain Loss: 0.082| Train Corr:0.217| Val. Loss: 1.622| Val Corr:0.029 | Test. Loss: 1.622| Test Corr:0.033\n",
      "\tTrain Loss: 0.081| Train Corr:0.226| Val. Loss: 1.622| Val Corr:0.031 | Test. Loss: 1.622| Test Corr:0.039\n",
      "\tTrain Loss: 0.081| Train Corr:0.234| Val. Loss: 1.622| Val Corr:0.032 | Test. Loss: 1.622| Test Corr:0.045\n",
      "| \u001b[0m24       \u001b[0m | \u001b[0m0.03196  \u001b[0m | \u001b[0m23.95    \u001b[0m | \u001b[0m0.6879   \u001b[0m | \u001b[0m208.2    \u001b[0m | \u001b[0m6.302    \u001b[0m | \u001b[0m2.237    \u001b[0m | \u001b[0m0.3845   \u001b[0m | \u001b[0m3.127    \u001b[0m |\n",
      "\tTrain Loss: 0.082| Train Corr:0.190| Val. Loss: 1.622| Val Corr:0.010 | Test. Loss: 1.622| Test Corr:0.004\n",
      "\tTrain Loss: 0.081| Train Corr:0.227| Val. Loss: 1.622| Val Corr:0.016 | Test. Loss: 1.622| Test Corr:0.018\n",
      "\tTrain Loss: 0.081| Train Corr:0.241| Val. Loss: 1.622| Val Corr:0.018 | Test. Loss: 1.622| Test Corr:0.028\n",
      "\tTrain Loss: 0.080| Train Corr:0.250| Val. Loss: 1.622| Val Corr:0.020 | Test. Loss: 1.622| Test Corr:0.037\n",
      "\tTrain Loss: 0.080| Train Corr:0.257| Val. Loss: 1.622| Val Corr:0.022 | Test. Loss: 1.622| Test Corr:0.047\n",
      "| \u001b[0m25       \u001b[0m | \u001b[0m0.02248  \u001b[0m | \u001b[0m23.53    \u001b[0m | \u001b[0m0.9521   \u001b[0m | \u001b[0m210.1    \u001b[0m | \u001b[0m5.654    \u001b[0m | \u001b[0m1.649    \u001b[0m | \u001b[0m0.7199   \u001b[0m | \u001b[0m2.803    \u001b[0m |\n",
      "\tTrain Loss: 0.369| Train Corr:-0.037| Val. Loss: 1.622| Val Corr:nan | Test. Loss: 1.622| Test Corr:nan\n",
      "\tTrain Loss: 0.369| Train Corr:nan| Val. Loss: 1.622| Val Corr:nan | Test. Loss: 1.622| Test Corr:nan\n",
      "\tTrain Loss: 0.369| Train Corr:nan| Val. Loss: 1.622| Val Corr:nan | Test. Loss: 1.622| Test Corr:nan\n",
      "\tTrain Loss: 0.369| Train Corr:nan| Val. Loss: 1.622| Val Corr:nan | Test. Loss: 1.622| Test Corr:nan\n",
      "\tTrain Loss: 0.369| Train Corr:nan| Val. Loss: 1.622| Val Corr:nan | Test. Loss: 1.622| Test Corr:nan\n",
      "\tTrain Loss: 0.369| Train Corr:nan| Val. Loss: 1.622| Val Corr:nan | Test. Loss: 1.622| Test Corr:nan\n",
      "| \u001b[0m26       \u001b[0m | \u001b[0m0.0      \u001b[0m | \u001b[0m26.29    \u001b[0m | \u001b[0m0.6899   \u001b[0m | \u001b[0m208.6    \u001b[0m | \u001b[0m6.258    \u001b[0m | \u001b[0m1.617    \u001b[0m | \u001b[0m0.8757   \u001b[0m | \u001b[0m3.93     \u001b[0m |\n",
      "\tTrain Loss: 0.366| Train Corr:-0.035| Val. Loss: 1.622| Val Corr:nan | Test. Loss: 1.622| Test Corr:nan\n",
      "\tTrain Loss: 0.367| Train Corr:nan| Val. Loss: 1.622| Val Corr:nan | Test. Loss: 1.622| Test Corr:nan\n",
      "\tTrain Loss: 0.367| Train Corr:nan| Val. Loss: 1.622| Val Corr:nan | Test. Loss: 1.622| Test Corr:nan\n",
      "\tTrain Loss: 0.367| Train Corr:nan| Val. Loss: 1.622| Val Corr:nan | Test. Loss: 1.622| Test Corr:nan\n",
      "\tTrain Loss: 0.367| Train Corr:nan| Val. Loss: 1.622| Val Corr:nan | Test. Loss: 1.622| Test Corr:nan\n",
      "\tTrain Loss: 0.367| Train Corr:nan| Val. Loss: 1.622| Val Corr:nan | Test. Loss: 1.622| Test Corr:nan\n",
      "| \u001b[0m27       \u001b[0m | \u001b[0m0.0      \u001b[0m | \u001b[0m25.12    \u001b[0m | \u001b[0m0.8987   \u001b[0m | \u001b[0m209.1    \u001b[0m | \u001b[0m6.601    \u001b[0m | \u001b[0m1.093    \u001b[0m | \u001b[0m0.1026   \u001b[0m | \u001b[0m4.949    \u001b[0m |\n",
      "\tTrain Loss: 0.366| Train Corr:-0.035| Val. Loss: 1.622| Val Corr:nan | Test. Loss: 1.622| Test Corr:nan\n",
      "\tTrain Loss: 0.367| Train Corr:nan| Val. Loss: 1.622| Val Corr:nan | Test. Loss: 1.622| Test Corr:nan\n",
      "\tTrain Loss: 0.367| Train Corr:nan| Val. Loss: 1.622| Val Corr:nan | Test. Loss: 1.622| Test Corr:nan\n",
      "\tTrain Loss: 0.367| Train Corr:nan| Val. Loss: 1.622| Val Corr:nan | Test. Loss: 1.622| Test Corr:nan\n",
      "\tTrain Loss: 0.367| Train Corr:nan| Val. Loss: 1.622| Val Corr:nan | Test. Loss: 1.622| Test Corr:nan\n",
      "\tTrain Loss: 0.367| Train Corr:nan| Val. Loss: 1.622| Val Corr:nan | Test. Loss: 1.622| Test Corr:nan\n",
      "| \u001b[0m28       \u001b[0m | \u001b[0m0.0      \u001b[0m | \u001b[0m25.12    \u001b[0m | \u001b[0m0.05416  \u001b[0m | \u001b[0m209.0    \u001b[0m | \u001b[0m6.339    \u001b[0m | \u001b[0m2.699    \u001b[0m | \u001b[0m0.3401   \u001b[0m | \u001b[0m4.98     \u001b[0m |\n",
      "\tTrain Loss: 0.366| Train Corr:-0.035| Val. Loss: 1.622| Val Corr:nan | Test. Loss: 1.622| Test Corr:nan\n",
      "\tTrain Loss: 0.367| Train Corr:nan| Val. Loss: 1.622| Val Corr:nan | Test. Loss: 1.622| Test Corr:nan\n",
      "\tTrain Loss: 0.367| Train Corr:nan| Val. Loss: 1.622| Val Corr:nan | Test. Loss: 1.622| Test Corr:nan\n",
      "\tTrain Loss: 0.367| Train Corr:nan| Val. Loss: 1.622| Val Corr:nan | Test. Loss: 1.622| Test Corr:nan\n",
      "| \u001b[0m29       \u001b[0m | \u001b[0m0.0      \u001b[0m | \u001b[0m25.03    \u001b[0m | \u001b[0m0.445    \u001b[0m | \u001b[0m208.4    \u001b[0m | \u001b[0m4.987    \u001b[0m | \u001b[0m1.661    \u001b[0m | \u001b[0m0.128    \u001b[0m | \u001b[0m2.37     \u001b[0m |\n",
      "\tTrain Loss: 0.369| Train Corr:-0.037| Val. Loss: 1.622| Val Corr:nan | Test. Loss: 1.622| Test Corr:nan\n",
      "\tTrain Loss: 0.369| Train Corr:nan| Val. Loss: 1.622| Val Corr:nan | Test. Loss: 1.622| Test Corr:nan\n",
      "\tTrain Loss: 0.369| Train Corr:nan| Val. Loss: 1.622| Val Corr:nan | Test. Loss: 1.622| Test Corr:nan\n",
      "\tTrain Loss: 0.369| Train Corr:nan| Val. Loss: 1.622| Val Corr:nan | Test. Loss: 1.622| Test Corr:nan\n",
      "\tTrain Loss: 0.369| Train Corr:nan| Val. Loss: 1.622| Val Corr:nan | Test. Loss: 1.622| Test Corr:nan\n",
      "| \u001b[0m30       \u001b[0m | \u001b[0m0.0      \u001b[0m | \u001b[0m26.21    \u001b[0m | \u001b[0m0.03095  \u001b[0m | \u001b[0m209.6    \u001b[0m | \u001b[0m5.964    \u001b[0m | \u001b[0m2.925    \u001b[0m | \u001b[0m0.4326   \u001b[0m | \u001b[0m2.218    \u001b[0m |\n",
      "\tTrain Loss: 0.082| Train Corr:0.219| Val. Loss: 1.622| Val Corr:0.021 | Test. Loss: 1.622| Test Corr:-0.011\n",
      "\tTrain Loss: 0.081| Train Corr:0.241| Val. Loss: 1.622| Val Corr:0.026 | Test. Loss: 1.622| Test Corr:0.000\n",
      "\tTrain Loss: 0.080| Train Corr:0.252| Val. Loss: 1.622| Val Corr:0.029 | Test. Loss: 1.622| Test Corr:0.009\n",
      "\tTrain Loss: 0.080| Train Corr:0.260| Val. Loss: 1.622| Val Corr:0.031 | Test. Loss: 1.622| Test Corr:0.018\n",
      "\tTrain Loss: 0.079| Train Corr:0.270| Val. Loss: 1.622| Val Corr:0.033 | Test. Loss: 1.622| Test Corr:0.029\n",
      "| \u001b[0m31       \u001b[0m | \u001b[0m0.03289  \u001b[0m | \u001b[0m24.71    \u001b[0m | \u001b[0m0.8086   \u001b[0m | \u001b[0m208.8    \u001b[0m | \u001b[0m5.696    \u001b[0m | \u001b[0m2.624    \u001b[0m | \u001b[0m0.9908   \u001b[0m | \u001b[0m3.075    \u001b[0m |\n",
      "\tTrain Loss: 0.366| Train Corr:-0.041| Val. Loss: 1.622| Val Corr:nan | Test. Loss: 1.622| Test Corr:nan\n",
      "\tTrain Loss: 0.367| Train Corr:nan| Val. Loss: 1.622| Val Corr:nan | Test. Loss: 1.622| Test Corr:nan\n"
     ]
    },
    {
     "name": "stdout",
     "output_type": "stream",
     "text": [
      "\tTrain Loss: 0.367| Train Corr:nan| Val. Loss: 1.622| Val Corr:nan | Test. Loss: 1.622| Test Corr:nan\n",
      "\tTrain Loss: 0.367| Train Corr:nan| Val. Loss: 1.622| Val Corr:nan | Test. Loss: 1.622| Test Corr:nan\n",
      "\tTrain Loss: 0.367| Train Corr:nan| Val. Loss: 1.622| Val Corr:nan | Test. Loss: 1.622| Test Corr:nan\n",
      "\tTrain Loss: 0.367| Train Corr:nan| Val. Loss: 1.622| Val Corr:nan | Test. Loss: 1.622| Test Corr:nan\n",
      "| \u001b[0m32       \u001b[0m | \u001b[0m0.0      \u001b[0m | \u001b[0m27.03    \u001b[0m | \u001b[0m0.3931   \u001b[0m | \u001b[0m209.9    \u001b[0m | \u001b[0m6.925    \u001b[0m | \u001b[0m3.0      \u001b[0m | \u001b[0m0.6059   \u001b[0m | \u001b[0m3.651    \u001b[0m |\n",
      "\tTrain Loss: 0.357| Train Corr:-0.006| Val. Loss: 1.622| Val Corr:nan | Test. Loss: 1.622| Test Corr:nan\n",
      "\tTrain Loss: 0.368| Train Corr:nan| Val. Loss: 1.622| Val Corr:nan | Test. Loss: 1.622| Test Corr:nan\n",
      "\tTrain Loss: 0.368| Train Corr:nan| Val. Loss: 1.622| Val Corr:nan | Test. Loss: 1.622| Test Corr:nan\n",
      "\tTrain Loss: 0.368| Train Corr:nan| Val. Loss: 1.622| Val Corr:nan | Test. Loss: 1.622| Test Corr:nan\n",
      "\tTrain Loss: 0.368| Train Corr:nan| Val. Loss: 1.622| Val Corr:nan | Test. Loss: 1.622| Test Corr:nan\n",
      "\tTrain Loss: 0.368| Train Corr:nan| Val. Loss: 1.622| Val Corr:nan | Test. Loss: 1.622| Test Corr:nan\n",
      "\tTrain Loss: 0.368| Train Corr:nan| Val. Loss: 1.622| Val Corr:nan | Test. Loss: 1.622| Test Corr:nan\n",
      "| \u001b[0m33       \u001b[0m | \u001b[0m0.0      \u001b[0m | \u001b[0m22.89    \u001b[0m | \u001b[0m0.9281   \u001b[0m | \u001b[0m287.3    \u001b[0m | \u001b[0m7.374    \u001b[0m | \u001b[0m1.467    \u001b[0m | \u001b[0m0.7038   \u001b[0m | \u001b[0m4.482    \u001b[0m |\n",
      "\tTrain Loss: 0.082| Train Corr:0.211| Val. Loss: 1.622| Val Corr:0.031 | Test. Loss: 1.622| Test Corr:-0.006\n",
      "\tTrain Loss: 0.081| Train Corr:0.236| Val. Loss: 1.622| Val Corr:0.035 | Test. Loss: 1.622| Test Corr:0.005\n",
      "\tTrain Loss: 0.080| Train Corr:0.249| Val. Loss: 1.622| Val Corr:0.036 | Test. Loss: 1.622| Test Corr:0.012\n",
      "\tTrain Loss: 0.080| Train Corr:0.257| Val. Loss: 1.622| Val Corr:0.036 | Test. Loss: 1.622| Test Corr:0.020\n",
      "\tTrain Loss: 0.080| Train Corr:0.267| Val. Loss: 1.622| Val Corr:0.037 | Test. Loss: 1.622| Test Corr:0.028\n",
      "\tTrain Loss: 0.079| Train Corr:0.280| Val. Loss: 1.622| Val Corr:0.038 | Test. Loss: 1.622| Test Corr:0.039\n",
      "\tTrain Loss: 0.078| Train Corr:0.295| Val. Loss: 1.622| Val Corr:0.041 | Test. Loss: 1.622| Test Corr:0.051\n",
      "| \u001b[0m34       \u001b[0m | \u001b[0m0.04052  \u001b[0m | \u001b[0m24.68    \u001b[0m | \u001b[0m0.7575   \u001b[0m | \u001b[0m209.5    \u001b[0m | \u001b[0m7.212    \u001b[0m | \u001b[0m2.952    \u001b[0m | \u001b[0m0.8983   \u001b[0m | \u001b[0m3.338    \u001b[0m |\n",
      "\tTrain Loss: 0.367| Train Corr:-0.029| Val. Loss: 1.622| Val Corr:nan | Test. Loss: 1.622| Test Corr:nan\n",
      "\tTrain Loss: 0.367| Train Corr:nan| Val. Loss: 1.622| Val Corr:nan | Test. Loss: 1.622| Test Corr:nan\n",
      "| \u001b[0m35       \u001b[0m | \u001b[0m0.0      \u001b[0m | \u001b[0m21.39    \u001b[0m | \u001b[0m0.1367   \u001b[0m | \u001b[0m370.1    \u001b[0m | \u001b[0m2.562    \u001b[0m | \u001b[0m1.524    \u001b[0m | \u001b[0m0.8533   \u001b[0m | \u001b[0m1.418    \u001b[0m |\n",
      "\tTrain Loss: 0.082| Train Corr:0.218| Val. Loss: 1.622| Val Corr:0.018 | Test. Loss: 1.622| Test Corr:-0.017\n",
      "\tTrain Loss: 0.081| Train Corr:0.230| Val. Loss: 1.622| Val Corr:0.023 | Test. Loss: 1.622| Test Corr:-0.005\n",
      "\tTrain Loss: 0.081| Train Corr:0.240| Val. Loss: 1.622| Val Corr:0.025 | Test. Loss: 1.622| Test Corr:0.001\n",
      "\tTrain Loss: 0.080| Train Corr:0.247| Val. Loss: 1.622| Val Corr:0.027 | Test. Loss: 1.622| Test Corr:0.007\n",
      "\tTrain Loss: 0.080| Train Corr:0.253| Val. Loss: 1.622| Val Corr:0.028 | Test. Loss: 1.622| Test Corr:0.012\n",
      "\tTrain Loss: 0.080| Train Corr:0.259| Val. Loss: 1.622| Val Corr:0.029 | Test. Loss: 1.622| Test Corr:0.018\n",
      "\tTrain Loss: 0.080| Train Corr:0.266| Val. Loss: 1.622| Val Corr:0.030 | Test. Loss: 1.622| Test Corr:0.025\n",
      "\tTrain Loss: 0.079| Train Corr:0.275| Val. Loss: 1.622| Val Corr:0.031 | Test. Loss: 1.622| Test Corr:0.033\n",
      "\tTrain Loss: 0.079| Train Corr:0.285| Val. Loss: 1.622| Val Corr:0.033 | Test. Loss: 1.622| Test Corr:0.043\n",
      "| \u001b[0m36       \u001b[0m | \u001b[0m0.03319  \u001b[0m | \u001b[0m15.4     \u001b[0m | \u001b[0m0.0497   \u001b[0m | \u001b[0m89.63    \u001b[0m | \u001b[0m9.549    \u001b[0m | \u001b[0m2.686    \u001b[0m | \u001b[0m0.326    \u001b[0m | \u001b[0m0.4854   \u001b[0m |\n",
      "\tTrain Loss: 0.084| Train Corr:0.126| Val. Loss: 1.622| Val Corr:0.019 | Test. Loss: 1.622| Test Corr:-0.022\n",
      "\tTrain Loss: 0.084| Train Corr:0.160| Val. Loss: 1.622| Val Corr:0.029 | Test. Loss: 1.622| Test Corr:-0.002\n",
      "\tTrain Loss: 0.083| Train Corr:0.172| Val. Loss: 1.622| Val Corr:0.033 | Test. Loss: 1.622| Test Corr:0.008\n",
      "\tTrain Loss: 0.083| Train Corr:0.184| Val. Loss: 1.622| Val Corr:0.036 | Test. Loss: 1.622| Test Corr:0.015\n",
      "\tTrain Loss: 0.082| Train Corr:0.195| Val. Loss: 1.622| Val Corr:0.038 | Test. Loss: 1.622| Test Corr:0.020\n",
      "\tTrain Loss: 0.082| Train Corr:0.206| Val. Loss: 1.622| Val Corr:0.040 | Test. Loss: 1.622| Test Corr:0.025\n",
      "| \u001b[0m37       \u001b[0m | \u001b[0m0.04033  \u001b[0m | \u001b[0m24.39    \u001b[0m | \u001b[0m0.1249   \u001b[0m | \u001b[0m208.4    \u001b[0m | \u001b[0m6.228    \u001b[0m | \u001b[0m2.473    \u001b[0m | \u001b[0m0.2778   \u001b[0m | \u001b[0m2.814    \u001b[0m |\n",
      "\tTrain Loss: 0.367| Train Corr:-0.031| Val. Loss: 1.622| Val Corr:nan | Test. Loss: 1.622| Test Corr:nan\n",
      "\tTrain Loss: 0.368| Train Corr:nan| Val. Loss: 1.622| Val Corr:nan | Test. Loss: 1.622| Test Corr:nan\n",
      "\tTrain Loss: 0.368| Train Corr:nan| Val. Loss: 1.622| Val Corr:nan | Test. Loss: 1.622| Test Corr:nan\n",
      "\tTrain Loss: 0.368| Train Corr:nan| Val. Loss: 1.622| Val Corr:nan | Test. Loss: 1.622| Test Corr:nan\n",
      "\tTrain Loss: 0.368| Train Corr:nan| Val. Loss: 1.622| Val Corr:nan | Test. Loss: 1.622| Test Corr:nan\n",
      "\tTrain Loss: 0.368| Train Corr:nan| Val. Loss: 1.622| Val Corr:nan | Test. Loss: 1.622| Test Corr:nan\n",
      "\tTrain Loss: 0.368| Train Corr:nan| Val. Loss: 1.622| Val Corr:nan | Test. Loss: 1.622| Test Corr:nan\n",
      "| \u001b[0m38       \u001b[0m | \u001b[0m0.0      \u001b[0m | \u001b[0m24.08    \u001b[0m | \u001b[0m0.776    \u001b[0m | \u001b[0m209.5    \u001b[0m | \u001b[0m7.681    \u001b[0m | \u001b[0m2.262    \u001b[0m | \u001b[0m0.5739   \u001b[0m | \u001b[0m2.186    \u001b[0m |\n",
      "\tTrain Loss: 0.368| Train Corr:-0.043| Val. Loss: 1.622| Val Corr:nan | Test. Loss: 1.622| Test Corr:nan\n",
      "\tTrain Loss: 0.368| Train Corr:nan| Val. Loss: 1.622| Val Corr:nan | Test. Loss: 1.622| Test Corr:nan\n",
      "\tTrain Loss: 0.368| Train Corr:nan| Val. Loss: 1.622| Val Corr:nan | Test. Loss: 1.622| Test Corr:nan\n",
      "\tTrain Loss: 0.368| Train Corr:nan| Val. Loss: 1.622| Val Corr:nan | Test. Loss: 1.622| Test Corr:nan\n",
      "\tTrain Loss: 0.368| Train Corr:nan| Val. Loss: 1.622| Val Corr:nan | Test. Loss: 1.622| Test Corr:nan\n",
      "\tTrain Loss: 0.368| Train Corr:nan| Val. Loss: 1.622| Val Corr:nan | Test. Loss: 1.622| Test Corr:nan\n",
      "| \u001b[0m39       \u001b[0m | \u001b[0m0.0      \u001b[0m | \u001b[0m28.99    \u001b[0m | \u001b[0m0.3882   \u001b[0m | \u001b[0m68.14    \u001b[0m | \u001b[0m6.313    \u001b[0m | \u001b[0m1.791    \u001b[0m | \u001b[0m0.4141   \u001b[0m | \u001b[0m4.688    \u001b[0m |\n",
      "\tTrain Loss: 0.083| Train Corr:0.175| Val. Loss: 1.622| Val Corr:0.015 | Test. Loss: 1.622| Test Corr:-0.005\n",
      "\tTrain Loss: 0.082| Train Corr:0.203| Val. Loss: 1.622| Val Corr:0.024 | Test. Loss: 1.622| Test Corr:0.010\n",
      "\tTrain Loss: 0.082| Train Corr:0.218| Val. Loss: 1.622| Val Corr:0.028 | Test. Loss: 1.622| Test Corr:0.017\n",
      "\tTrain Loss: 0.081| Train Corr:0.230| Val. Loss: 1.622| Val Corr:0.030 | Test. Loss: 1.622| Test Corr:0.024\n",
      "\tTrain Loss: 0.081| Train Corr:0.238| Val. Loss: 1.622| Val Corr:0.032 | Test. Loss: 1.622| Test Corr:0.030\n",
      "\tTrain Loss: 0.080| Train Corr:0.245| Val. Loss: 1.622| Val Corr:0.034 | Test. Loss: 1.622| Test Corr:0.037\n",
      "\tTrain Loss: 0.080| Train Corr:0.252| Val. Loss: 1.622| Val Corr:0.035 | Test. Loss: 1.622| Test Corr:0.044\n",
      "\tTrain Loss: 0.080| Train Corr:0.260| Val. Loss: 1.622| Val Corr:0.037 | Test. Loss: 1.622| Test Corr:0.052\n",
      "\tTrain Loss: 0.079| Train Corr:0.268| Val. Loss: 1.622| Val Corr:0.039 | Test. Loss: 1.622| Test Corr:0.061\n",
      "| \u001b[0m40       \u001b[0m | \u001b[0m0.03939  \u001b[0m | \u001b[0m19.42    \u001b[0m | \u001b[0m0.3326   \u001b[0m | \u001b[0m202.0    \u001b[0m | \u001b[0m9.7      \u001b[0m | \u001b[0m1.623    \u001b[0m | \u001b[0m0.3933   \u001b[0m | \u001b[0m3.083    \u001b[0m |\n",
      "\tTrain Loss: 0.081| Train Corr:0.220| Val. Loss: 1.622| Val Corr:0.014 | Test. Loss: 1.622| Test Corr:0.011\n",
      "\tTrain Loss: 0.081| Train Corr:0.234| Val. Loss: 1.622| Val Corr:0.017 | Test. Loss: 1.622| Test Corr:0.018\n",
      "\tTrain Loss: 0.080| Train Corr:0.245| Val. Loss: 1.622| Val Corr:0.018 | Test. Loss: 1.622| Test Corr:0.024\n",
      "\tTrain Loss: 0.080| Train Corr:0.252| Val. Loss: 1.622| Val Corr:0.019 | Test. Loss: 1.622| Test Corr:0.030\n",
      "\tTrain Loss: 0.080| Train Corr:0.257| Val. Loss: 1.622| Val Corr:0.020 | Test. Loss: 1.622| Test Corr:0.036\n"
     ]
    },
    {
     "name": "stdout",
     "output_type": "stream",
     "text": [
      "\tTrain Loss: 0.080| Train Corr:0.263| Val. Loss: 1.622| Val Corr:0.021 | Test. Loss: 1.622| Test Corr:0.043\n",
      "\tTrain Loss: 0.079| Train Corr:0.270| Val. Loss: 1.622| Val Corr:0.022 | Test. Loss: 1.622| Test Corr:0.051\n",
      "\tTrain Loss: 0.079| Train Corr:0.278| Val. Loss: 1.622| Val Corr:0.023 | Test. Loss: 1.622| Test Corr:0.061\n",
      "| \u001b[0m41       \u001b[0m | \u001b[0m0.02332  \u001b[0m | \u001b[0m23.77    \u001b[0m | \u001b[0m0.6532   \u001b[0m | \u001b[0m247.3    \u001b[0m | \u001b[0m8.49     \u001b[0m | \u001b[0m1.232    \u001b[0m | \u001b[0m0.5837   \u001b[0m | \u001b[0m0.05161  \u001b[0m |\n",
      "\tTrain Loss: 0.367| Train Corr:-0.031| Val. Loss: 1.622| Val Corr:nan | Test. Loss: 1.622| Test Corr:nan\n",
      "\tTrain Loss: 0.368| Train Corr:nan| Val. Loss: 1.622| Val Corr:nan | Test. Loss: 1.622| Test Corr:nan\n",
      "\tTrain Loss: 0.368| Train Corr:nan| Val. Loss: 1.622| Val Corr:nan | Test. Loss: 1.622| Test Corr:nan\n",
      "\tTrain Loss: 0.368| Train Corr:nan| Val. Loss: 1.622| Val Corr:nan | Test. Loss: 1.622| Test Corr:nan\n",
      "\tTrain Loss: 0.368| Train Corr:nan| Val. Loss: 1.622| Val Corr:nan | Test. Loss: 1.622| Test Corr:nan\n",
      "\tTrain Loss: 0.368| Train Corr:nan| Val. Loss: 1.622| Val Corr:nan | Test. Loss: 1.622| Test Corr:nan\n",
      "| \u001b[0m42       \u001b[0m | \u001b[0m0.0      \u001b[0m | \u001b[0m24.1     \u001b[0m | \u001b[0m0.1189   \u001b[0m | \u001b[0m208.5    \u001b[0m | \u001b[0m6.752    \u001b[0m | \u001b[0m2.149    \u001b[0m | \u001b[0m0.6931   \u001b[0m | \u001b[0m3.982    \u001b[0m |\n",
      "\tTrain Loss: 0.368| Train Corr:-0.043| Val. Loss: 1.622| Val Corr:nan | Test. Loss: 1.622| Test Corr:nan\n",
      "\tTrain Loss: 0.368| Train Corr:nan| Val. Loss: 1.622| Val Corr:nan | Test. Loss: 1.622| Test Corr:nan\n",
      "\tTrain Loss: 0.368| Train Corr:nan| Val. Loss: 1.622| Val Corr:nan | Test. Loss: 1.622| Test Corr:nan\n",
      "\tTrain Loss: 0.368| Train Corr:nan| Val. Loss: 1.622| Val Corr:nan | Test. Loss: 1.622| Test Corr:nan\n",
      "\tTrain Loss: 0.368| Train Corr:nan| Val. Loss: 1.622| Val Corr:nan | Test. Loss: 1.622| Test Corr:nan\n",
      "| \u001b[0m43       \u001b[0m | \u001b[0m0.0      \u001b[0m | \u001b[0m28.48    \u001b[0m | \u001b[0m0.8798   \u001b[0m | \u001b[0m101.4    \u001b[0m | \u001b[0m5.002    \u001b[0m | \u001b[0m2.556    \u001b[0m | \u001b[0m0.8566   \u001b[0m | \u001b[0m4.894    \u001b[0m |\n",
      "\tTrain Loss: 0.367| Train Corr:-0.016| Val. Loss: 1.622| Val Corr:nan | Test. Loss: 1.622| Test Corr:nan\n",
      "\tTrain Loss: 0.367| Train Corr:nan| Val. Loss: 1.622| Val Corr:nan | Test. Loss: 1.622| Test Corr:nan\n",
      "| \u001b[0m44       \u001b[0m | \u001b[0m0.0      \u001b[0m | \u001b[0m10.34    \u001b[0m | \u001b[0m0.04433  \u001b[0m | \u001b[0m284.0    \u001b[0m | \u001b[0m2.913    \u001b[0m | \u001b[0m2.5      \u001b[0m | \u001b[0m0.2806   \u001b[0m | \u001b[0m0.728    \u001b[0m |\n",
      "\tTrain Loss: 0.367| Train Corr:-0.022| Val. Loss: 1.622| Val Corr:nan | Test. Loss: 1.622| Test Corr:nan\n",
      "\tTrain Loss: 0.367| Train Corr:nan| Val. Loss: 1.622| Val Corr:nan | Test. Loss: 1.622| Test Corr:nan\n",
      "\tTrain Loss: 0.367| Train Corr:nan| Val. Loss: 1.622| Val Corr:nan | Test. Loss: 1.622| Test Corr:nan\n",
      "\tTrain Loss: 0.367| Train Corr:nan| Val. Loss: 1.622| Val Corr:nan | Test. Loss: 1.622| Test Corr:nan\n",
      "\tTrain Loss: 0.367| Train Corr:nan| Val. Loss: 1.622| Val Corr:nan | Test. Loss: 1.622| Test Corr:nan\n",
      "\tTrain Loss: 0.367| Train Corr:nan| Val. Loss: 1.622| Val Corr:nan | Test. Loss: 1.622| Test Corr:nan\n",
      "\tTrain Loss: 0.367| Train Corr:nan| Val. Loss: 1.622| Val Corr:nan | Test. Loss: 1.622| Test Corr:nan\n",
      "\tTrain Loss: 0.367| Train Corr:nan| Val. Loss: 1.622| Val Corr:nan | Test. Loss: 1.622| Test Corr:nan\n",
      "\tTrain Loss: 0.367| Train Corr:nan| Val. Loss: 1.622| Val Corr:nan | Test. Loss: 1.622| Test Corr:nan\n",
      "| \u001b[0m45       \u001b[0m | \u001b[0m0.0      \u001b[0m | \u001b[0m14.01    \u001b[0m | \u001b[0m0.8943   \u001b[0m | \u001b[0m358.2    \u001b[0m | \u001b[0m9.987    \u001b[0m | \u001b[0m2.533    \u001b[0m | \u001b[0m0.6257   \u001b[0m | \u001b[0m2.344    \u001b[0m |\n",
      "\tTrain Loss: 0.083| Train Corr:0.175| Val. Loss: 1.622| Val Corr:0.023 | Test. Loss: 1.622| Test Corr:-0.019\n",
      "\tTrain Loss: 0.082| Train Corr:0.203| Val. Loss: 1.622| Val Corr:0.030 | Test. Loss: 1.622| Test Corr:-0.000\n",
      "\tTrain Loss: 0.082| Train Corr:0.219| Val. Loss: 1.622| Val Corr:0.033 | Test. Loss: 1.622| Test Corr:0.009\n",
      "\tTrain Loss: 0.081| Train Corr:0.231| Val. Loss: 1.622| Val Corr:0.034 | Test. Loss: 1.622| Test Corr:0.016\n",
      "\tTrain Loss: 0.081| Train Corr:0.240| Val. Loss: 1.622| Val Corr:0.036 | Test. Loss: 1.622| Test Corr:0.022\n",
      "\tTrain Loss: 0.080| Train Corr:0.247| Val. Loss: 1.622| Val Corr:0.037 | Test. Loss: 1.622| Test Corr:0.029\n",
      "| \u001b[0m46       \u001b[0m | \u001b[0m0.03695  \u001b[0m | \u001b[0m24.58    \u001b[0m | \u001b[0m0.08745  \u001b[0m | \u001b[0m214.0    \u001b[0m | \u001b[0m6.573    \u001b[0m | \u001b[0m2.394    \u001b[0m | \u001b[0m0.5256   \u001b[0m | \u001b[0m2.724    \u001b[0m |\n",
      "\tTrain Loss: 0.367| Train Corr:-0.031| Val. Loss: 1.622| Val Corr:nan | Test. Loss: 1.622| Test Corr:nan\n",
      "\tTrain Loss: 0.368| Train Corr:nan| Val. Loss: 1.622| Val Corr:nan | Test. Loss: 1.622| Test Corr:nan\n",
      "\tTrain Loss: 0.368| Train Corr:nan| Val. Loss: 1.622| Val Corr:nan | Test. Loss: 1.622| Test Corr:nan\n",
      "\tTrain Loss: 0.368| Train Corr:nan| Val. Loss: 1.622| Val Corr:nan | Test. Loss: 1.622| Test Corr:nan\n",
      "\tTrain Loss: 0.368| Train Corr:nan| Val. Loss: 1.622| Val Corr:nan | Test. Loss: 1.622| Test Corr:nan\n",
      "\tTrain Loss: 0.368| Train Corr:nan| Val. Loss: 1.622| Val Corr:nan | Test. Loss: 1.622| Test Corr:nan\n",
      "| \u001b[0m47       \u001b[0m | \u001b[0m0.0      \u001b[0m | \u001b[0m24.3     \u001b[0m | \u001b[0m0.1276   \u001b[0m | \u001b[0m210.4    \u001b[0m | \u001b[0m6.213    \u001b[0m | \u001b[0m1.695    \u001b[0m | \u001b[0m0.5743   \u001b[0m | \u001b[0m2.242    \u001b[0m |\n",
      "\tTrain Loss: 0.082| Train Corr:0.192| Val. Loss: 1.622| Val Corr:0.020 | Test. Loss: 1.622| Test Corr:0.015\n",
      "\tTrain Loss: 0.082| Train Corr:0.215| Val. Loss: 1.622| Val Corr:0.025 | Test. Loss: 1.622| Test Corr:0.026\n",
      "\tTrain Loss: 0.081| Train Corr:0.230| Val. Loss: 1.622| Val Corr:0.027 | Test. Loss: 1.622| Test Corr:0.035\n",
      "\tTrain Loss: 0.081| Train Corr:0.241| Val. Loss: 1.622| Val Corr:0.028 | Test. Loss: 1.622| Test Corr:0.044\n",
      "\tTrain Loss: 0.080| Train Corr:0.250| Val. Loss: 1.622| Val Corr:0.030 | Test. Loss: 1.622| Test Corr:0.055\n",
      "\tTrain Loss: 0.080| Train Corr:0.259| Val. Loss: 1.622| Val Corr:0.032 | Test. Loss: 1.622| Test Corr:0.067\n",
      "| \u001b[0m48       \u001b[0m | \u001b[0m0.03173  \u001b[0m | \u001b[0m23.83    \u001b[0m | \u001b[0m0.1282   \u001b[0m | \u001b[0m207.7    \u001b[0m | \u001b[0m6.858    \u001b[0m | \u001b[0m2.698    \u001b[0m | \u001b[0m0.584    \u001b[0m | \u001b[0m3.022    \u001b[0m |\n",
      "\tTrain Loss: 0.082| Train Corr:0.202| Val. Loss: 1.622| Val Corr:0.028 | Test. Loss: 1.622| Test Corr:0.004\n",
      "\tTrain Loss: 0.081| Train Corr:0.225| Val. Loss: 1.622| Val Corr:0.032 | Test. Loss: 1.622| Test Corr:0.018\n",
      "\tTrain Loss: 0.081| Train Corr:0.237| Val. Loss: 1.622| Val Corr:0.034 | Test. Loss: 1.622| Test Corr:0.027\n",
      "\tTrain Loss: 0.080| Train Corr:0.245| Val. Loss: 1.622| Val Corr:0.036 | Test. Loss: 1.622| Test Corr:0.037\n",
      "\tTrain Loss: 0.080| Train Corr:0.253| Val. Loss: 1.622| Val Corr:0.038 | Test. Loss: 1.622| Test Corr:0.048\n",
      "\tTrain Loss: 0.080| Train Corr:0.262| Val. Loss: 1.622| Val Corr:0.041 | Test. Loss: 1.622| Test Corr:0.060\n",
      "| \u001b[0m49       \u001b[0m | \u001b[0m0.04135  \u001b[0m | \u001b[0m25.11    \u001b[0m | \u001b[0m0.06106  \u001b[0m | \u001b[0m208.9    \u001b[0m | \u001b[0m6.112    \u001b[0m | \u001b[0m2.287    \u001b[0m | \u001b[0m0.7911   \u001b[0m | \u001b[0m2.582    \u001b[0m |\n",
      "\tTrain Loss: 0.083| Train Corr:0.174| Val. Loss: 1.622| Val Corr:0.021 | Test. Loss: 1.622| Test Corr:-0.010\n",
      "\tTrain Loss: 0.082| Train Corr:0.202| Val. Loss: 1.622| Val Corr:0.027 | Test. Loss: 1.622| Test Corr:0.005\n",
      "\tTrain Loss: 0.082| Train Corr:0.217| Val. Loss: 1.622| Val Corr:0.031 | Test. Loss: 1.622| Test Corr:0.013\n",
      "\tTrain Loss: 0.081| Train Corr:0.227| Val. Loss: 1.622| Val Corr:0.033 | Test. Loss: 1.622| Test Corr:0.018\n",
      "\tTrain Loss: 0.081| Train Corr:0.235| Val. Loss: 1.622| Val Corr:0.035 | Test. Loss: 1.622| Test Corr:0.023\n",
      "\tTrain Loss: 0.081| Train Corr:0.241| Val. Loss: 1.622| Val Corr:0.036 | Test. Loss: 1.622| Test Corr:0.029\n",
      "| \u001b[0m50       \u001b[0m | \u001b[0m0.03628  \u001b[0m | \u001b[0m24.76    \u001b[0m | \u001b[0m0.5253   \u001b[0m | \u001b[0m208.9    \u001b[0m | \u001b[0m6.428    \u001b[0m | \u001b[0m2.061    \u001b[0m | \u001b[0m0.4757   \u001b[0m | \u001b[0m2.925    \u001b[0m |\n",
      "\tTrain Loss: 0.084| Train Corr:0.144| Val. Loss: 1.622| Val Corr:0.023 | Test. Loss: 1.622| Test Corr:-0.010\n",
      "\tTrain Loss: 0.083| Train Corr:0.179| Val. Loss: 1.622| Val Corr:0.029 | Test. Loss: 1.622| Test Corr:0.004\n",
      "\tTrain Loss: 0.083| Train Corr:0.194| Val. Loss: 1.622| Val Corr:0.032 | Test. Loss: 1.622| Test Corr:0.012\n",
      "\tTrain Loss: 0.082| Train Corr:0.206| Val. Loss: 1.622| Val Corr:0.035 | Test. Loss: 1.622| Test Corr:0.017\n",
      "\tTrain Loss: 0.082| Train Corr:0.216| Val. Loss: 1.622| Val Corr:0.037 | Test. Loss: 1.622| Test Corr:0.022\n",
      "\tTrain Loss: 0.081| Train Corr:0.224| Val. Loss: 1.622| Val Corr:0.038 | Test. Loss: 1.622| Test Corr:0.027\n"
     ]
    },
    {
     "name": "stdout",
     "output_type": "stream",
     "text": [
      "\tTrain Loss: 0.081| Train Corr:0.231| Val. Loss: 1.622| Val Corr:0.040 | Test. Loss: 1.622| Test Corr:0.032\n",
      "| \u001b[0m51       \u001b[0m | \u001b[0m0.03975  \u001b[0m | \u001b[0m24.06    \u001b[0m | \u001b[0m0.7264   \u001b[0m | \u001b[0m208.1    \u001b[0m | \u001b[0m7.422    \u001b[0m | \u001b[0m2.793    \u001b[0m | \u001b[0m0.3391   \u001b[0m | \u001b[0m3.154    \u001b[0m |\n",
      "\tTrain Loss: 0.367| Train Corr:-0.031| Val. Loss: 1.622| Val Corr:nan | Test. Loss: 1.622| Test Corr:nan\n",
      "\tTrain Loss: 0.368| Train Corr:nan| Val. Loss: 1.622| Val Corr:nan | Test. Loss: 1.622| Test Corr:nan\n",
      "\tTrain Loss: 0.368| Train Corr:nan| Val. Loss: 1.622| Val Corr:nan | Test. Loss: 1.622| Test Corr:nan\n",
      "\tTrain Loss: 0.368| Train Corr:nan| Val. Loss: 1.622| Val Corr:nan | Test. Loss: 1.622| Test Corr:nan\n",
      "\tTrain Loss: 0.368| Train Corr:nan| Val. Loss: 1.622| Val Corr:nan | Test. Loss: 1.622| Test Corr:nan\n",
      "\tTrain Loss: 0.368| Train Corr:nan| Val. Loss: 1.622| Val Corr:nan | Test. Loss: 1.622| Test Corr:nan\n",
      "\tTrain Loss: 0.368| Train Corr:nan| Val. Loss: 1.622| Val Corr:nan | Test. Loss: 1.622| Test Corr:nan\n",
      "| \u001b[0m52       \u001b[0m | \u001b[0m0.0      \u001b[0m | \u001b[0m24.74    \u001b[0m | \u001b[0m0.7854   \u001b[0m | \u001b[0m208.1    \u001b[0m | \u001b[0m7.835    \u001b[0m | \u001b[0m2.867    \u001b[0m | \u001b[0m0.2259   \u001b[0m | \u001b[0m2.209    \u001b[0m |\n",
      "=============================================================================================================\n"
     ]
    }
   ],
   "source": [
    "nn_bo.maximize(init_points=2, n_iter=50)"
   ]
  },
  {
   "cell_type": "code",
   "execution_count": 725,
   "id": "5bf58eb6",
   "metadata": {},
   "outputs": [
    {
     "name": "stdout",
     "output_type": "stream",
     "text": [
      "Test MSE: 5.5184\n"
     ]
    }
   ],
   "source": [
    "from sklearn.metrics import mean_squared_error, mean_absolute_error, r2_score\n",
    "test_predictions = []\n",
    "test_labels = []\n",
    "model.eval()  # set model to evaluation mode\n",
    "with torch.no_grad():\n",
    "    for k, (test_sentence1, test_sentence2, test_score) in enumerate(train_dataloader):\n",
    "        test_sentence1_tensor = test_sentence1\n",
    "        test_sentence2_tensor = test_sentence2\n",
    "        test_score_tensor = torch.tensor(test_score, dtype=torch.float)/5.0\n",
    "        test_output = model(test_sentence1_tensor, test_sentence2_tensor)\n",
    "        test_predictions.extend(test_output.tolist())\n",
    "        test_labels.extend(test_score)\n",
    "test_predictions = np.array(test_predictions)\n",
    "test_labels = np.array(test_labels)\n",
    "test_mse = mean_squared_error(test_labels, test_predictions)\n",
    "print('Test MSE: {:.4f}'.format(test_mse))"
   ]
  },
  {
   "cell_type": "code",
   "execution_count": 726,
   "id": "5c412819",
   "metadata": {},
   "outputs": [],
   "source": [
    "corr = pearson_corr(test_labels, test_predictions.ravel())"
   ]
  },
  {
   "cell_type": "code",
   "execution_count": 729,
   "id": "d6076e5e",
   "metadata": {},
   "outputs": [
    {
     "data": {
      "image/png": "[encoded data removed]",
      "text/plain": [
       "<Figure size 640x480 with 1 Axes>"
      ]
     },
     "metadata": {},
     "output_type": "display_data"
    }
   ],
   "source": [
    "import matplotlib.pyplot as plt\n",
    "\n",
    "\n",
    "\n",
    "# Define the data\n",
    "epochs = range(1, 11)\n",
    "#train_losses = train_loss\n",
    "#val_losses = val_loss\n",
    "\n",
    "# Plot the data\n",
    "plt.plot(epochs, train_losses, label='Training Loss')\n",
    "plt.plot(epochs, val_losses, label='Validation Loss')\n",
    "\n",
    "# Add labels and title\n",
    "plt.xlabel('Epoch')\n",
    "plt.ylabel('Loss')\n",
    "plt.title('Train vs Validation Loss for cross lingual en-es')\n",
    "\n",
    "# Add legend\n",
    "plt.legend()\n",
    "\n",
    "# Show the plot\n",
    "plt.show()"
   ]
  },
  {
   "cell_type": "markdown",
   "id": "19459604",
   "metadata": {},
   "source": [
    "<p> it appears that the training loss and validation loss are fluctuating and not decreasing consistently over the 10 epochs. This suggests that the model may not have converged to the optimal solution yet.</p>"
   ]
  },
  {
   "cell_type": "code",
   "execution_count": 730,
   "id": "71c18934",
   "metadata": {},
   "outputs": [],
   "source": [
    "import pickle\n",
    "with open('../data/word_dict_en_v1.pickle', 'wb') as handle:\n",
    "    pickle.dump(vocab_dict_en, handle, protocol=pickle.HIGHEST_PROTOCOL)"
   ]
  },
  {
   "cell_type": "code",
   "execution_count": 731,
   "id": "ae440428",
   "metadata": {},
   "outputs": [],
   "source": [
    "with open('../data/word_dict_es_v1.pickle', 'wb') as handle:\n",
    "    pickle.dump(vocab_dict_es, handle, protocol=pickle.HIGHEST_PROTOCOL)"
   ]
  },
  {
   "cell_type": "code",
   "execution_count": 732,
   "id": "32a6afe8",
   "metadata": {},
   "outputs": [],
   "source": [
    "torch.save(model, \"../data/cross_siamese_model_v1.pt\")"
   ]
  },
  {
   "cell_type": "code",
   "execution_count": null,
   "id": "182952df",
   "metadata": {},
   "outputs": [],
   "source": []
  }
 ],
 "metadata": {
  "kernelspec": {
   "display_name": "nlp_venv",
   "language": "python",
   "name": "nlp_venv"
  },
  "language_info": {
   "codemirror_mode": {
    "name": "ipython",
    "version": 3
   },
   "file_extension": ".py",
   "mimetype": "text/x-python",
   "name": "python",
   "nbconvert_exporter": "python",
   "pygments_lexer": "ipython3",
   "version": "3.9.16"
  }
 },
 "nbformat": 4,
 "nbformat_minor": 5
}
