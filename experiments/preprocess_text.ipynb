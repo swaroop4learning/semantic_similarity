{
 "cells": [
  {
   "cell_type": "code",
   "execution_count": 88,
   "id": "5e587e14",
   "metadata": {},
   "outputs": [],
   "source": [
    "import pandas as pd\n",
    "import numpy as np\n",
    "import nltk\n",
    "import re\n",
    "from sklearn.linear_model import LinearRegression\n",
    "from gensim.models import Word2Vec\n",
    "from sklearn.feature_extraction.text import TfidfVectorizer\n",
    "from nltk.stem import WordNetLemmatizer\n",
    "from nltk.stem import PorterStemmer"
   ]
  },
  {
   "cell_type": "markdown",
   "id": "28e4a9d0",
   "metadata": {},
   "source": [
    "# Data Load"
   ]
  },
  {
   "cell_type": "code",
   "execution_count": 160,
   "id": "656db553",
   "metadata": {},
   "outputs": [],
   "source": [
    "train_df = pd.read_csv('../data/stsb-en-train.csv', usecols=[0,1,2], names=['sent1', 'sent2', 'score'], header=None)"
   ]
  },
  {
   "cell_type": "code",
   "execution_count": 161,
   "id": "135dd3f2",
   "metadata": {},
   "outputs": [
    {
     "data": {
      "text/html": [
       "<div>\n",
       "<style scoped>\n",
       "    .dataframe tbody tr th:only-of-type {\n",
       "        vertical-align: middle;\n",
       "    }\n",
       "\n",
       "    .dataframe tbody tr th {\n",
       "        vertical-align: top;\n",
       "    }\n",
       "\n",
       "    .dataframe thead th {\n",
       "        text-align: right;\n",
       "    }\n",
       "</style>\n",
       "<table border=\"1\" class=\"dataframe\">\n",
       "  <thead>\n",
       "    <tr style=\"text-align: right;\">\n",
       "      <th></th>\n",
       "      <th>sent1</th>\n",
       "      <th>sent2</th>\n",
       "      <th>score</th>\n",
       "    </tr>\n",
       "  </thead>\n",
       "  <tbody>\n",
       "    <tr>\n",
       "      <th>0</th>\n",
       "      <td>A plane is taking off.</td>\n",
       "      <td>An air plane is taking off.</td>\n",
       "      <td>5.00</td>\n",
       "    </tr>\n",
       "    <tr>\n",
       "      <th>1</th>\n",
       "      <td>A man is playing a large flute.</td>\n",
       "      <td>A man is playing a flute.</td>\n",
       "      <td>3.80</td>\n",
       "    </tr>\n",
       "    <tr>\n",
       "      <th>2</th>\n",
       "      <td>A man is spreading shreded cheese on a pizza.</td>\n",
       "      <td>A man is spreading shredded cheese on an uncoo...</td>\n",
       "      <td>3.80</td>\n",
       "    </tr>\n",
       "    <tr>\n",
       "      <th>3</th>\n",
       "      <td>Three men are playing chess.</td>\n",
       "      <td>Two men are playing chess.</td>\n",
       "      <td>2.60</td>\n",
       "    </tr>\n",
       "    <tr>\n",
       "      <th>4</th>\n",
       "      <td>A man is playing the cello.</td>\n",
       "      <td>A man seated is playing the cello.</td>\n",
       "      <td>4.25</td>\n",
       "    </tr>\n",
       "  </tbody>\n",
       "</table>\n",
       "</div>"
      ],
      "text/plain": [
       "                                           sent1  \\\n",
       "0                         A plane is taking off.   \n",
       "1                A man is playing a large flute.   \n",
       "2  A man is spreading shreded cheese on a pizza.   \n",
       "3                   Three men are playing chess.   \n",
       "4                    A man is playing the cello.   \n",
       "\n",
       "                                               sent2  score  \n",
       "0                        An air plane is taking off.   5.00  \n",
       "1                          A man is playing a flute.   3.80  \n",
       "2  A man is spreading shredded cheese on an uncoo...   3.80  \n",
       "3                         Two men are playing chess.   2.60  \n",
       "4                 A man seated is playing the cello.   4.25  "
      ]
     },
     "execution_count": 161,
     "metadata": {},
     "output_type": "execute_result"
    }
   ],
   "source": [
    "train_df.head()"
   ]
  },
  {
   "cell_type": "code",
   "execution_count": 162,
   "id": "25bdcf63",
   "metadata": {},
   "outputs": [],
   "source": [
    "val_df = pd.read_csv('../data/stsb-en-dev.csv', usecols=[0,1,2], names=['sent1', 'sent2', 'score'], header=None)"
   ]
  },
  {
   "cell_type": "code",
   "execution_count": 163,
   "id": "56c1dba6",
   "metadata": {},
   "outputs": [
    {
     "data": {
      "text/html": [
       "<div>\n",
       "<style scoped>\n",
       "    .dataframe tbody tr th:only-of-type {\n",
       "        vertical-align: middle;\n",
       "    }\n",
       "\n",
       "    .dataframe tbody tr th {\n",
       "        vertical-align: top;\n",
       "    }\n",
       "\n",
       "    .dataframe thead th {\n",
       "        text-align: right;\n",
       "    }\n",
       "</style>\n",
       "<table border=\"1\" class=\"dataframe\">\n",
       "  <thead>\n",
       "    <tr style=\"text-align: right;\">\n",
       "      <th></th>\n",
       "      <th>sent1</th>\n",
       "      <th>sent2</th>\n",
       "      <th>score</th>\n",
       "    </tr>\n",
       "  </thead>\n",
       "  <tbody>\n",
       "    <tr>\n",
       "      <th>0</th>\n",
       "      <td>A man with a hard hat is dancing.</td>\n",
       "      <td>A man wearing a hard hat is dancing.</td>\n",
       "      <td>5.00</td>\n",
       "    </tr>\n",
       "    <tr>\n",
       "      <th>1</th>\n",
       "      <td>A young child is riding a horse.</td>\n",
       "      <td>A child is riding a horse.</td>\n",
       "      <td>4.75</td>\n",
       "    </tr>\n",
       "    <tr>\n",
       "      <th>2</th>\n",
       "      <td>A man is feeding a mouse to a snake.</td>\n",
       "      <td>The man is feeding a mouse to the snake.</td>\n",
       "      <td>5.00</td>\n",
       "    </tr>\n",
       "    <tr>\n",
       "      <th>3</th>\n",
       "      <td>A woman is playing the guitar.</td>\n",
       "      <td>A man is playing guitar.</td>\n",
       "      <td>2.40</td>\n",
       "    </tr>\n",
       "    <tr>\n",
       "      <th>4</th>\n",
       "      <td>A woman is playing the flute.</td>\n",
       "      <td>A man is playing a flute.</td>\n",
       "      <td>2.75</td>\n",
       "    </tr>\n",
       "  </tbody>\n",
       "</table>\n",
       "</div>"
      ],
      "text/plain": [
       "                                  sent1  \\\n",
       "0     A man with a hard hat is dancing.   \n",
       "1      A young child is riding a horse.   \n",
       "2  A man is feeding a mouse to a snake.   \n",
       "3        A woman is playing the guitar.   \n",
       "4         A woman is playing the flute.   \n",
       "\n",
       "                                      sent2  score  \n",
       "0      A man wearing a hard hat is dancing.   5.00  \n",
       "1                A child is riding a horse.   4.75  \n",
       "2  The man is feeding a mouse to the snake.   5.00  \n",
       "3                  A man is playing guitar.   2.40  \n",
       "4                 A man is playing a flute.   2.75  "
      ]
     },
     "execution_count": 163,
     "metadata": {},
     "output_type": "execute_result"
    }
   ],
   "source": [
    "val_df.head()"
   ]
  },
  {
   "cell_type": "code",
   "execution_count": 164,
   "id": "7e543a06",
   "metadata": {},
   "outputs": [],
   "source": [
    "test_df = pd.read_csv('../data/stsb-en-test.csv', usecols=[0,1,2], names=['sent1', 'sent2', 'score'], header=None)"
   ]
  },
  {
   "cell_type": "code",
   "execution_count": 165,
   "id": "ef12a0ce",
   "metadata": {},
   "outputs": [
    {
     "data": {
      "text/html": [
       "<div>\n",
       "<style scoped>\n",
       "    .dataframe tbody tr th:only-of-type {\n",
       "        vertical-align: middle;\n",
       "    }\n",
       "\n",
       "    .dataframe tbody tr th {\n",
       "        vertical-align: top;\n",
       "    }\n",
       "\n",
       "    .dataframe thead th {\n",
       "        text-align: right;\n",
       "    }\n",
       "</style>\n",
       "<table border=\"1\" class=\"dataframe\">\n",
       "  <thead>\n",
       "    <tr style=\"text-align: right;\">\n",
       "      <th></th>\n",
       "      <th>sent1</th>\n",
       "      <th>sent2</th>\n",
       "      <th>score</th>\n",
       "    </tr>\n",
       "  </thead>\n",
       "  <tbody>\n",
       "    <tr>\n",
       "      <th>0</th>\n",
       "      <td>A girl is styling her hair.</td>\n",
       "      <td>A girl is brushing her hair.</td>\n",
       "      <td>2.5</td>\n",
       "    </tr>\n",
       "    <tr>\n",
       "      <th>1</th>\n",
       "      <td>A group of men play soccer on the beach.</td>\n",
       "      <td>A group of boys are playing soccer on the beach.</td>\n",
       "      <td>3.6</td>\n",
       "    </tr>\n",
       "    <tr>\n",
       "      <th>2</th>\n",
       "      <td>One woman is measuring another woman's ankle.</td>\n",
       "      <td>A woman measures another woman's ankle.</td>\n",
       "      <td>5.0</td>\n",
       "    </tr>\n",
       "    <tr>\n",
       "      <th>3</th>\n",
       "      <td>A man is cutting up a cucumber.</td>\n",
       "      <td>A man is slicing a cucumber.</td>\n",
       "      <td>4.2</td>\n",
       "    </tr>\n",
       "    <tr>\n",
       "      <th>4</th>\n",
       "      <td>A man is playing a harp.</td>\n",
       "      <td>A man is playing a keyboard.</td>\n",
       "      <td>1.5</td>\n",
       "    </tr>\n",
       "  </tbody>\n",
       "</table>\n",
       "</div>"
      ],
      "text/plain": [
       "                                           sent1  \\\n",
       "0                    A girl is styling her hair.   \n",
       "1       A group of men play soccer on the beach.   \n",
       "2  One woman is measuring another woman's ankle.   \n",
       "3                A man is cutting up a cucumber.   \n",
       "4                       A man is playing a harp.   \n",
       "\n",
       "                                              sent2  score  \n",
       "0                      A girl is brushing her hair.    2.5  \n",
       "1  A group of boys are playing soccer on the beach.    3.6  \n",
       "2           A woman measures another woman's ankle.    5.0  \n",
       "3                      A man is slicing a cucumber.    4.2  \n",
       "4                      A man is playing a keyboard.    1.5  "
      ]
     },
     "execution_count": 165,
     "metadata": {},
     "output_type": "execute_result"
    }
   ],
   "source": [
    "test_df.head()"
   ]
  },
  {
   "cell_type": "code",
   "execution_count": 166,
   "id": "c619452b",
   "metadata": {},
   "outputs": [
    {
     "name": "stdout",
     "output_type": "stream",
     "text": [
      "Train data size 5749\n",
      "Val data size 1500\n",
      "Test data size 1379\n"
     ]
    }
   ],
   "source": [
    "#Statistics\n",
    "print(\"Train data size\", len(train_df))\n",
    "print(\"Val data size\", len(val_df))\n",
    "print(\"Test data size\", len(test_df))"
   ]
  },
  {
   "cell_type": "markdown",
   "id": "d3ded06f",
   "metadata": {},
   "source": [
    "# Data Cleaning"
   ]
  },
  {
   "cell_type": "code",
   "execution_count": 167,
   "id": "f52873c5",
   "metadata": {},
   "outputs": [],
   "source": [
    "from nltk.corpus import stopwords"
   ]
  },
  {
   "cell_type": "code",
   "execution_count": 168,
   "id": "a2ea8a2d",
   "metadata": {},
   "outputs": [
    {
     "name": "stderr",
     "output_type": "stream",
     "text": [
      "[nltk_data] Downloading package wordnet to /Users/AH00434/nltk_data...\n",
      "[nltk_data]   Package wordnet is already up-to-date!\n"
     ]
    },
    {
     "data": {
      "text/plain": [
       "True"
      ]
     },
     "execution_count": 168,
     "metadata": {},
     "output_type": "execute_result"
    }
   ],
   "source": [
    "nltk.download('wordnet')"
   ]
  },
  {
   "cell_type": "code",
   "execution_count": 169,
   "id": "13e7854b",
   "metadata": {},
   "outputs": [
    {
     "name": "stderr",
     "output_type": "stream",
     "text": [
      "[nltk_data] Downloading package stopwords to\n",
      "[nltk_data]     /Users/AH00434/nltk_data...\n",
      "[nltk_data]   Package stopwords is already up-to-date!\n"
     ]
    },
    {
     "data": {
      "text/plain": [
       "True"
      ]
     },
     "execution_count": 169,
     "metadata": {},
     "output_type": "execute_result"
    }
   ],
   "source": [
    "nltk.download('stopwords')"
   ]
  },
  {
   "cell_type": "code",
   "execution_count": 170,
   "id": "ff1c1b59",
   "metadata": {},
   "outputs": [],
   "source": [
    "stop_words = set(stopwords.words('english'))"
   ]
  },
  {
   "cell_type": "code",
   "execution_count": 171,
   "id": "d5f1769e",
   "metadata": {},
   "outputs": [],
   "source": [
    "lemmatizer = WordNetLemmatizer()\n",
    "ps = PorterStemmer()"
   ]
  },
  {
   "cell_type": "code",
   "execution_count": 172,
   "id": "ec5d2644",
   "metadata": {},
   "outputs": [],
   "source": [
    "def preprocess_text(text):\n",
    "    # Remove punctuation\n",
    "    text = re.sub(r'[^\\w\\s]', '', text)\n",
    "    # Replace numbers with num\n",
    "    text = re.sub(r'\\d+', '', text)\n",
    "    # Lower case\n",
    "    text= text.lower()\n",
    "    sent_token = text.split()\n",
    "    #stop words removal\n",
    "    sent_token = [word for word in sent_token if word.lower() not in stop_words]\n",
    "    # Lemmatize\n",
    "    sent_token = [lemmatizer.lemmatize(word) for word in sent_token]\n",
    "    # Stemming\n",
    "    #sent_token = [ps.stem(word) for word in sent_token]\n",
    "    return sent_token"
   ]
  },
  {
   "cell_type": "code",
   "execution_count": 173,
   "id": "b4378f75",
   "metadata": {},
   "outputs": [],
   "source": [
    "train_df['sent1'] =train_df['sent1'].apply(lambda x: preprocess_text(x))\n",
    "train_df['sent2'] =train_df['sent2'].apply(lambda x: preprocess_text(x))"
   ]
  },
  {
   "cell_type": "code",
   "execution_count": 174,
   "id": "7b4ae76c",
   "metadata": {},
   "outputs": [],
   "source": [
    "val_df['sent1'] =val_df['sent1'].apply(lambda x: preprocess_text(x))\n",
    "val_df['sent2'] =val_df['sent2'].apply(lambda x: preprocess_text(x))"
   ]
  },
  {
   "cell_type": "code",
   "execution_count": 175,
   "id": "057b4351",
   "metadata": {},
   "outputs": [],
   "source": [
    "test_df['sent1'] =test_df['sent1'].apply(lambda x: preprocess_text(x))\n",
    "test_df['sent2'] =test_df['sent2'].apply(lambda x: preprocess_text(x))"
   ]
  },
  {
   "cell_type": "code",
   "execution_count": 176,
   "id": "fadbdc47",
   "metadata": {},
   "outputs": [],
   "source": [
    "total_sents = list(train_df['sent1'])"
   ]
  },
  {
   "cell_type": "code",
   "execution_count": 177,
   "id": "7dab1ec7",
   "metadata": {},
   "outputs": [],
   "source": [
    "total_sents.extend(list(train_df['sent2']))"
   ]
  },
  {
   "cell_type": "code",
   "execution_count": 178,
   "id": "9a0f0d9f",
   "metadata": {},
   "outputs": [
    {
     "data": {
      "text/plain": [
       "5749.0"
      ]
     },
     "execution_count": 178,
     "metadata": {},
     "output_type": "execute_result"
    }
   ],
   "source": [
    "len(total_sents)/2"
   ]
  },
  {
   "cell_type": "code",
   "execution_count": 179,
   "id": "7c441b33",
   "metadata": {},
   "outputs": [
    {
     "data": {
      "text/plain": [
       "[['plane', 'taking'],\n",
       " ['man', 'playing', 'large', 'flute'],\n",
       " ['man', 'spreading', 'shreded', 'cheese', 'pizza'],\n",
       " ['three', 'men', 'playing', 'chess'],\n",
       " ['man', 'playing', 'cello']]"
      ]
     },
     "execution_count": 179,
     "metadata": {},
     "output_type": "execute_result"
    }
   ],
   "source": [
    "total_sents[0:5]"
   ]
  },
  {
   "cell_type": "code",
   "execution_count": 182,
   "id": "b7486d0c",
   "metadata": {},
   "outputs": [
    {
     "data": {
      "text/plain": [
       "'played'"
      ]
     },
     "execution_count": 182,
     "metadata": {},
     "output_type": "execute_result"
    }
   ],
   "source": [
    "lemmatizer.lemmatize(\"played\")"
   ]
  },
  {
   "cell_type": "code",
   "execution_count": 183,
   "id": "a66c84e3",
   "metadata": {},
   "outputs": [],
   "source": [
    "word_dict = {}\n",
    "for word_tokens in total_sents:\n",
    "    for word in word_tokens:\n",
    "        if word in word_dict:\n",
    "            word_dict[word] += 1\n",
    "        else:\n",
    "            word_dict[word] = 1"
   ]
  },
  {
   "cell_type": "code",
   "execution_count": 184,
   "id": "45eb15f8",
   "metadata": {},
   "outputs": [],
   "source": [
    "vocab_length = len(word_dict)"
   ]
  },
  {
   "cell_type": "code",
   "execution_count": 185,
   "id": "12870626",
   "metadata": {},
   "outputs": [
    {
     "data": {
      "text/plain": [
       "10072"
      ]
     },
     "execution_count": 185,
     "metadata": {},
     "output_type": "execute_result"
    }
   ],
   "source": [
    "vocab_length"
   ]
  },
  {
   "cell_type": "code",
   "execution_count": 28,
   "id": "64527f0a",
   "metadata": {},
   "outputs": [
    {
     "name": "stdout",
     "output_type": "stream",
     "text": [
      "3452\n"
     ]
    }
   ],
   "source": [
    "uni_count = 0\n",
    "for value in word_dict.values():\n",
    "    if value == 1:\n",
    "        uni_count += 1\n",
    "print(uni_count)"
   ]
  },
  {
   "cell_type": "code",
   "execution_count": 29,
   "id": "e5ea67bb",
   "metadata": {},
   "outputs": [],
   "source": [
    "def get_sorted_counter(word_counter):\n",
    "    return {k: v for k, v in sorted(word_counter.items(), key=lambda item: item[1], reverse=False)}"
   ]
  },
  {
   "cell_type": "code",
   "execution_count": 30,
   "id": "f44df5d9",
   "metadata": {},
   "outputs": [],
   "source": [
    "sorted_counter = get_sorted_counter(word_dict)"
   ]
  },
  {
   "cell_type": "code",
   "execution_count": 186,
   "id": "2b05b632",
   "metadata": {},
   "outputs": [],
   "source": [
    "sent_dict = {}\n",
    "for sent in total_sents:\n",
    "    if len(sent) in sent_dict:\n",
    "        sent_dict[len(sent)] += 1\n",
    "    else:\n",
    "        sent_dict[len(sent)] = 1"
   ]
  },
  {
   "cell_type": "code",
   "execution_count": 187,
   "id": "45de9fe8",
   "metadata": {},
   "outputs": [
    {
     "data": {
      "image/png": "[encoded data removed]",
      "text/plain": [
       "<Figure size 800x600 with 1 Axes>"
      ]
     },
     "metadata": {},
     "output_type": "display_data"
    }
   ],
   "source": [
    "import matplotlib.pyplot as plt\n",
    "fig, ax = plt.subplots(figsize=(8, 6))\n",
    "ax.bar(list(sent_dict.keys()), list(sent_dict.values()), width=0.5)\n",
    "plt.title(\"sentence length in training data\")\n",
    "plt.xlabel(\"sentence length\")\n",
    "plt.ylabel(\"number of sentences\")\n",
    "plt.show()"
   ]
  },
  {
   "cell_type": "code",
   "execution_count": 33,
   "id": "b8b257a1",
   "metadata": {},
   "outputs": [],
   "source": [
    "def unk_replace(word, word_dict):\n",
    "    if word not in word_dict:\n",
    "        return \"unk\"\n",
    "    else:\n",
    "        if word_dict[word] < 2:\n",
    "            return \"unk\"\n",
    "    return word"
   ]
  },
  {
   "cell_type": "code",
   "execution_count": 34,
   "id": "a5a5875a",
   "metadata": {},
   "outputs": [],
   "source": [
    "train_df['sent1'] = train_df['sent1'].apply(lambda x: [unk_replace(word, word_dict) for word in x])\n",
    "train_df['sent2'] = train_df['sent2'].apply(lambda x: [unk_replace(word, word_dict) for word in x])"
   ]
  },
  {
   "cell_type": "code",
   "execution_count": 35,
   "id": "2096aa99",
   "metadata": {},
   "outputs": [],
   "source": [
    "val_df['sent1'] = val_df['sent1'].apply(lambda x: [unk_replace(word, word_dict) for word in x])\n",
    "val_df['sent2'] = val_df['sent2'].apply(lambda x: [unk_replace(word, word_dict) for word in x])"
   ]
  },
  {
   "cell_type": "code",
   "execution_count": 36,
   "id": "1c33242f",
   "metadata": {},
   "outputs": [],
   "source": [
    "test_df['sent1'] = test_df['sent1'].apply(lambda x: [unk_replace(word, word_dict) for word in x])\n",
    "test_df['sent2'] = test_df['sent2'].apply(lambda x: [unk_replace(word, word_dict) for word in x])"
   ]
  },
  {
   "cell_type": "code",
   "execution_count": 188,
   "id": "0e38b899",
   "metadata": {},
   "outputs": [],
   "source": [
    "total_sents_unk = list(val_df['sent1'])"
   ]
  },
  {
   "cell_type": "code",
   "execution_count": 189,
   "id": "859526f0",
   "metadata": {},
   "outputs": [],
   "source": [
    "total_sents_unk.extend(list(val_df['sent2']))"
   ]
  },
  {
   "cell_type": "code",
   "execution_count": 190,
   "id": "47fea936",
   "metadata": {},
   "outputs": [],
   "source": [
    "sent_dict = {}\n",
    "for sent in total_sents_unk:\n",
    "    if len(sent) in sent_dict:\n",
    "        sent_dict[len(sent)] += 1\n",
    "    else:\n",
    "        sent_dict[len(sent)] = 1"
   ]
  },
  {
   "cell_type": "code",
   "execution_count": 191,
   "id": "248bf67d",
   "metadata": {},
   "outputs": [
    {
     "data": {
      "image/png": "[encoded data removed]",
      "text/plain": [
       "<Figure size 800x600 with 1 Axes>"
      ]
     },
     "metadata": {},
     "output_type": "display_data"
    }
   ],
   "source": [
    "fig, ax = plt.subplots(figsize=(8, 6))\n",
    "ax.bar(list(sent_dict.keys()), list(sent_dict.values()), width=0.5)\n",
    "plt.title(\"sentence length in validation data\")\n",
    "plt.xlabel(\"sentence length\")\n",
    "plt.ylabel(\"number of sentences\")\n",
    "plt.show()"
   ]
  },
  {
   "cell_type": "code",
   "execution_count": 192,
   "id": "c170873d",
   "metadata": {},
   "outputs": [],
   "source": [
    "test_sents_unk = list(test_df['sent1'])\n",
    "test_sents_unk.extend(list(test_df['sent2']))"
   ]
  },
  {
   "cell_type": "code",
   "execution_count": 193,
   "id": "b31289b1",
   "metadata": {},
   "outputs": [],
   "source": [
    "sent_dict = {}\n",
    "for sent in test_sents_unk:\n",
    "    if len(sent) in sent_dict:\n",
    "        sent_dict[len(sent)] += 1\n",
    "    else:\n",
    "        sent_dict[len(sent)] = 1"
   ]
  },
  {
   "cell_type": "code",
   "execution_count": 194,
   "id": "7b3e0d6b",
   "metadata": {},
   "outputs": [
    {
     "data": {
      "image/png": "[encoded data removed]",
      "text/plain": [
       "<Figure size 800x600 with 1 Axes>"
      ]
     },
     "metadata": {},
     "output_type": "display_data"
    }
   ],
   "source": [
    "fig, ax = plt.subplots(figsize=(8, 6))\n",
    "ax.bar(list(sent_dict.keys()), list(sent_dict.values()), width=0.5)\n",
    "plt.title(\"sentence length in test data\")\n",
    "plt.xlabel(\"sentence length\")\n",
    "plt.ylabel(\"number of sentences\")\n",
    "plt.show()"
   ]
  },
  {
   "cell_type": "markdown",
   "id": "a655a1f4",
   "metadata": {},
   "source": [
    "window size of 30 or less than 30 should be good as test data maximum length of a sentence is less than 30"
   ]
  },
  {
   "cell_type": "code",
   "execution_count": 195,
   "id": "1db346cb",
   "metadata": {},
   "outputs": [],
   "source": [
    "train_df.to_csv(\"../data/cleaned_train_df1.csv\", index=False)  \n",
    "val_df.to_csv(\"../data/cleaned_val_df1.csv\", index=False)  \n",
    "test_df.to_csv(\"../data/cleaned_test_df1.csv\", index=False)  "
   ]
  },
  {
   "cell_type": "code",
   "execution_count": 196,
   "id": "c7a65065",
   "metadata": {},
   "outputs": [],
   "source": [
    "import pickle\n",
    "with open('../data/word_dict_v1.pickle', 'wb') as handle:\n",
    "    pickle.dump(word_dict, handle, protocol=pickle.HIGHEST_PROTOCOL)"
   ]
  },
  {
   "cell_type": "code",
   "execution_count": 197,
   "id": "75d358dd",
   "metadata": {},
   "outputs": [
    {
     "data": {
      "text/plain": [
       "10072"
      ]
     },
     "execution_count": 197,
     "metadata": {},
     "output_type": "execute_result"
    }
   ],
   "source": [
    "len(word_dict)"
   ]
  },
  {
   "cell_type": "code",
   "execution_count": null,
   "id": "42e0d193",
   "metadata": {},
   "outputs": [],
   "source": []
  }
 ],
 "metadata": {
  "kernelspec": {
   "display_name": "nlp_venv",
   "language": "python",
   "name": "nlp_venv"
  },
  "language_info": {
   "codemirror_mode": {
    "name": "ipython",
    "version": 3
   },
   "file_extension": ".py",
   "mimetype": "text/x-python",
   "name": "python",
   "nbconvert_exporter": "python",
   "pygments_lexer": "ipython3",
   "version": "3.9.16"
  }
 },
 "nbformat": 4,
 "nbformat_minor": 5
}
