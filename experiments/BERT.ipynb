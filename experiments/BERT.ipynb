{
 "cells": [
  {
   "cell_type": "markdown",
   "id": "2626d651",
   "metadata": {},
   "source": [
    "<h1> SOTA: BERT Based STS scores </h1>\n",
    "<p>The pretrained SBERT embeddings which are fine tuned on STS dataset are used for generating sentence embeddings.</p>"
   ]
  },
  {
   "cell_type": "code",
   "execution_count": 4,
   "id": "afcb6da9",
   "metadata": {},
   "outputs": [],
   "source": [
    "import pandas as pd\n",
    "import numpy as np"
   ]
  },
  {
   "cell_type": "code",
   "execution_count": 5,
   "id": "91cd7539",
   "metadata": {},
   "outputs": [],
   "source": [
    "train_df = pd.read_csv('../data/cleaned_train_df.csv')\n",
    "val_df = pd.read_csv('../data/cleaned_val_df.csv')\n",
    "test_df = pd.read_csv('../data/cleaned_test_df.csv')"
   ]
  },
  {
   "cell_type": "code",
   "execution_count": 6,
   "id": "bc2e682d",
   "metadata": {},
   "outputs": [],
   "source": [
    "train_df['sent1'] = train_df['sent1'].apply(eval)\n",
    "train_df['sent2'] = train_df['sent2'].apply(eval)"
   ]
  },
  {
   "cell_type": "code",
   "execution_count": 7,
   "id": "5de61515",
   "metadata": {},
   "outputs": [],
   "source": [
    "val_df['sent1'] = val_df['sent1'].apply(eval)\n",
    "val_df['sent2'] = val_df['sent2'].apply(eval)"
   ]
  },
  {
   "cell_type": "code",
   "execution_count": 8,
   "id": "d596a64c",
   "metadata": {},
   "outputs": [],
   "source": [
    "test_df['sent1'] = test_df['sent1'].apply(eval)\n",
    "test_df['sent2'] = test_df['sent2'].apply(eval)"
   ]
  },
  {
   "cell_type": "code",
   "execution_count": 9,
   "id": "88991421",
   "metadata": {},
   "outputs": [],
   "source": [
    "from sentence_transformers import SentenceTransformer\n",
    "\n",
    "model = SentenceTransformer('distilbert-base-nli-stsb-mean-tokens')"
   ]
  },
  {
   "cell_type": "code",
   "execution_count": 10,
   "id": "dc499b60",
   "metadata": {},
   "outputs": [],
   "source": [
    "train_embeddings1 = list(train_df['sent1'])\n",
    "train_embeddings2 = list(train_df['sent2'])"
   ]
  },
  {
   "cell_type": "code",
   "execution_count": 11,
   "id": "c58b3d83",
   "metadata": {},
   "outputs": [],
   "source": [
    "train_embeddings1 = [\" \".join(i for i in j) for j in train_embeddings1]\n",
    "train_embeddings2 = [\" \".join(i for i in j) for j in train_embeddings2]"
   ]
  },
  {
   "cell_type": "code",
   "execution_count": 12,
   "id": "ebdf42e5",
   "metadata": {},
   "outputs": [],
   "source": [
    "train_embeddings1 = model.encode(train_embeddings1)\n",
    "train_embeddings2 = model.encode(train_embeddings2)"
   ]
  },
  {
   "cell_type": "code",
   "execution_count": 13,
   "id": "6bbd9484",
   "metadata": {},
   "outputs": [
    {
     "data": {
      "text/plain": [
       "((5749, 768), (5749, 768))"
      ]
     },
     "execution_count": 13,
     "metadata": {},
     "output_type": "execute_result"
    }
   ],
   "source": [
    "train_embeddings1.shape, train_embeddings2.shape"
   ]
  },
  {
   "cell_type": "code",
   "execution_count": 14,
   "id": "08e15543",
   "metadata": {},
   "outputs": [],
   "source": [
    "y_train = list(train_df[\"score\"])"
   ]
  },
  {
   "cell_type": "code",
   "execution_count": 23,
   "id": "75569765",
   "metadata": {},
   "outputs": [],
   "source": [
    "def sts_score(sim_score):\n",
    "    sts_score = (sim_score+1) * 2.5\n",
    "    return sts_score"
   ]
  },
  {
   "cell_type": "code",
   "execution_count": 30,
   "id": "f86651a6",
   "metadata": {},
   "outputs": [],
   "source": [
    "from scipy import spatial\n",
    "from scipy.stats import pearsonr\n",
    "\n",
    "def get_sts_scores(emb1_lt, emb2_lt):\n",
    "    y_pred = []\n",
    "    for i in range(len(emb1_lt)):\n",
    "        sim_score = 1 - spatial.distance.cosine(emb1_lt[i], emb2_lt[i])\n",
    "        y_pred.append(sts_score(sim_score))\n",
    "    return y_pred\n",
    "    \n",
    "def pearson_corr(y_true, y_pred):\n",
    "    \"\"\"\n",
    "    Calculate Pearson correlation coefficient between two arrays.\n",
    "    \"\"\"\n",
    "    corr, _ = pearsonr(y_true, y_pred)\n",
    "    return corr"
   ]
  },
  {
   "cell_type": "code",
   "execution_count": 31,
   "id": "ffeb492b",
   "metadata": {},
   "outputs": [],
   "source": [
    "y_pred = get_sts_scores(train_embeddings1, train_embeddings2)"
   ]
  },
  {
   "cell_type": "code",
   "execution_count": 32,
   "id": "e699c984",
   "metadata": {},
   "outputs": [
    {
     "name": "stdout",
     "output_type": "stream",
     "text": [
      "Pearson correlation coefficient: 0.87\n"
     ]
    }
   ],
   "source": [
    "# Calculate Pearson correlation coefficient between predicted values and target values\n",
    "corr = pearson_corr(y_train, y_pred)\n",
    "\n",
    "# Print the correlation coefficient\n",
    "print(\"Pearson correlation coefficient: {:.2f}\".format(corr))"
   ]
  },
  {
   "cell_type": "code",
   "execution_count": 33,
   "id": "e49b7be1",
   "metadata": {},
   "outputs": [],
   "source": [
    "val_embeddings1 = list(val_df['sent1'])\n",
    "val_embeddings2 = list(val_df['sent2'])"
   ]
  },
  {
   "cell_type": "code",
   "execution_count": 34,
   "id": "1c2cf562",
   "metadata": {},
   "outputs": [],
   "source": [
    "val_embeddings1 = [\" \".join(i for i in j) for j in val_embeddings1]\n",
    "val_embeddings2 = [\" \".join(i for i in j) for j in val_embeddings2]"
   ]
  },
  {
   "cell_type": "code",
   "execution_count": 35,
   "id": "379efc38",
   "metadata": {},
   "outputs": [],
   "source": [
    "val_embeddings1 = model.encode(val_embeddings1)\n",
    "val_embeddings2 = model.encode(val_embeddings2)"
   ]
  },
  {
   "cell_type": "code",
   "execution_count": 36,
   "id": "b40ac9cc",
   "metadata": {},
   "outputs": [],
   "source": [
    "y_val = list(val_df[\"score\"])"
   ]
  },
  {
   "cell_type": "code",
   "execution_count": 37,
   "id": "8ffb98e3",
   "metadata": {},
   "outputs": [],
   "source": [
    "y_pred = get_sts_scores(val_embeddings1, val_embeddings2)"
   ]
  },
  {
   "cell_type": "code",
   "execution_count": 38,
   "id": "6c86b709",
   "metadata": {},
   "outputs": [
    {
     "name": "stdout",
     "output_type": "stream",
     "text": [
      "Pearson correlation coefficient: 0.79\n"
     ]
    }
   ],
   "source": [
    "# Calculate Pearson correlation coefficient between predicted values and target values\n",
    "corr = pearson_corr(y_val, y_pred)\n",
    "\n",
    "# Print the correlation coefficient\n",
    "print(\"Pearson correlation coefficient: {:.2f}\".format(corr))"
   ]
  },
  {
   "cell_type": "code",
   "execution_count": 65,
   "id": "544cec12",
   "metadata": {},
   "outputs": [],
   "source": [
    "test_embeddings1 = list(test_df['sent1'])\n",
    "test_embeddings2 = list(test_df['sent2'])"
   ]
  },
  {
   "cell_type": "code",
   "execution_count": 40,
   "id": "a0aa2f14",
   "metadata": {},
   "outputs": [],
   "source": [
    "test_embeddings1 = [\" \".join(i for i in j) for j in test_embeddings1]\n",
    "test_embeddings2 = [\" \".join(i for i in j) for j in test_embeddings2]"
   ]
  },
  {
   "cell_type": "code",
   "execution_count": 41,
   "id": "556ecc56",
   "metadata": {},
   "outputs": [],
   "source": [
    "test_embeddings1 = model.encode(test_embeddings1)\n",
    "test_embeddings2 = model.encode(test_embeddings2)"
   ]
  },
  {
   "cell_type": "code",
   "execution_count": 42,
   "id": "0f253a47",
   "metadata": {},
   "outputs": [],
   "source": [
    "y_test = list(test_df[\"score\"])"
   ]
  },
  {
   "cell_type": "code",
   "execution_count": 43,
   "id": "59d4c073",
   "metadata": {},
   "outputs": [],
   "source": [
    "y_pred = get_sts_scores(test_embeddings1, test_embeddings2)"
   ]
  },
  {
   "cell_type": "code",
   "execution_count": 44,
   "id": "fa7d2275",
   "metadata": {},
   "outputs": [
    {
     "name": "stdout",
     "output_type": "stream",
     "text": [
      "Pearson correlation coefficient: 0.76\n"
     ]
    }
   ],
   "source": [
    "# Calculate Pearson correlation coefficient between predicted values and target values\n",
    "corr = pearson_corr(y_test, y_pred)\n",
    "\n",
    "# Print the correlation coefficient\n",
    "print(\"Pearson correlation coefficient: {:.2f}\".format(corr))"
   ]
  },
  {
   "cell_type": "code",
   "execution_count": 74,
   "id": "6b951391",
   "metadata": {},
   "outputs": [],
   "source": [
    "test_emb1 = model.encode(\"boy came to college\")\n",
    "test_emb2 = model.encode(\"boy came from college\")"
   ]
  },
  {
   "cell_type": "code",
   "execution_count": 75,
   "id": "44411d08",
   "metadata": {},
   "outputs": [
    {
     "data": {
      "text/plain": [
       "(768,)"
      ]
     },
     "execution_count": 75,
     "metadata": {},
     "output_type": "execute_result"
    }
   ],
   "source": [
    "test_emb1.shape"
   ]
  },
  {
   "cell_type": "code",
   "execution_count": 76,
   "id": "2c1fb417",
   "metadata": {},
   "outputs": [],
   "source": [
    "sim_score = 1 - spatial.distance.cosine(test_emb1, test_emb2)"
   ]
  },
  {
   "cell_type": "code",
   "execution_count": 77,
   "id": "56e48f37",
   "metadata": {},
   "outputs": [
    {
     "data": {
      "text/plain": [
       "4.7033630311489105"
      ]
     },
     "execution_count": 77,
     "metadata": {},
     "output_type": "execute_result"
    }
   ],
   "source": [
    "sts_score(sim_score)"
   ]
  },
  {
   "cell_type": "code",
   "execution_count": 46,
   "id": "7ddbecf1",
   "metadata": {},
   "outputs": [],
   "source": [
    "row_max_len = lambda row: max(len(row['sent1']), len(row['sent2']))"
   ]
  },
  {
   "cell_type": "code",
   "execution_count": 47,
   "id": "5a4419cc",
   "metadata": {},
   "outputs": [],
   "source": [
    "train_df['sent_len'] = train_df.apply(row_max_len, axis=1)"
   ]
  },
  {
   "cell_type": "code",
   "execution_count": 48,
   "id": "68bb84ec",
   "metadata": {},
   "outputs": [],
   "source": [
    "val_df['sent_len'] = val_df.apply(row_max_len, axis=1)"
   ]
  },
  {
   "cell_type": "code",
   "execution_count": 49,
   "id": "00382406",
   "metadata": {},
   "outputs": [],
   "source": [
    "test_df['sent_len'] = test_df.apply(row_max_len, axis=1)"
   ]
  },
  {
   "cell_type": "code",
   "execution_count": 51,
   "id": "29e671dd",
   "metadata": {},
   "outputs": [],
   "source": [
    "test_df['diff'] = abs(test_df['score'] - y_pred)"
   ]
  },
  {
   "cell_type": "code",
   "execution_count": 52,
   "id": "9108ac2d",
   "metadata": {},
   "outputs": [
    {
     "name": "stderr",
     "output_type": "stream",
     "text": [
      "/var/folders/gb/8lc9v2sx5mq19kgysgv67bzw0000gn/T/ipykernel_43417/1156243688.py:1: FutureWarning: The default value of numeric_only in DataFrameGroupBy.mean is deprecated. In a future version, numeric_only will default to False. Either specify numeric_only or select only columns which should be valid for the function.\n",
      "  grouped_test = test_df.groupby(['sent_len']).mean()\n"
     ]
    }
   ],
   "source": [
    "grouped_test = test_df.groupby(['sent_len']).mean()"
   ]
  },
  {
   "cell_type": "code",
   "execution_count": 53,
   "id": "791856db",
   "metadata": {},
   "outputs": [
    {
     "data": {
      "image/png": "[encoded data removed]",
      "text/plain": [
       "<Figure size 800x600 with 1 Axes>"
      ]
     },
     "metadata": {},
     "output_type": "display_data"
    }
   ],
   "source": [
    "import matplotlib.pyplot as plt\n",
    "fig, ax = plt.subplots(figsize=(8, 6))\n",
    "ax.scatter(list(grouped_test.index), list(grouped_test['diff']))\n",
    "plt.title(\"average error trend in test data\")\n",
    "plt.xlabel(\"sentence length\")\n",
    "plt.ylabel(\"average difference\")\n",
    "plt.show()"
   ]
  },
  {
   "cell_type": "code",
   "execution_count": null,
   "id": "6cabe424",
   "metadata": {},
   "outputs": [],
   "source": []
  }
 ],
 "metadata": {
  "kernelspec": {
   "display_name": "nlp_venv",
   "language": "python",
   "name": "nlp_venv"
  },
  "language_info": {
   "codemirror_mode": {
    "name": "ipython",
    "version": 3
   },
   "file_extension": ".py",
   "mimetype": "text/x-python",
   "name": "python",
   "nbconvert_exporter": "python",
   "pygments_lexer": "ipython3",
   "version": "3.9.16"
  }
 },
 "nbformat": 4,
 "nbformat_minor": 5
}
