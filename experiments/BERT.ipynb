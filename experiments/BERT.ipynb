{
 "cells": [
  {
   "cell_type": "markdown",
   "id": "2626d651",
   "metadata": {},
   "source": [
    "<h1> SOTA: BERT Based STS scores </h1>\n",
    "<p>The pretrained SBERT embeddings which are fine tuned on STS dataset are used for generating sentence embeddings.</p>"
   ]
  },
  {
   "cell_type": "code",
   "execution_count": 3,
   "id": "afcb6da9",
   "metadata": {},
   "outputs": [],
   "source": [
    "import pandas as pd\n",
    "import numpy as np"
   ]
  },
  {
   "cell_type": "code",
   "execution_count": 3,
   "id": "91cd7539",
   "metadata": {},
   "outputs": [],
   "source": [
    "# train_df = pd.read_csv('../data/cleaned_train_df.csv')\n",
    "# val_df = pd.read_csv('../data/cleaned_val_df.csv')\n",
    "# test_df = pd.read_csv('../data/cleaned_test_df.csv')"
   ]
  },
  {
   "cell_type": "code",
   "execution_count": 5,
   "id": "db7f0f6b",
   "metadata": {},
   "outputs": [],
   "source": [
    "train_df = pd.read_csv('../data/cleaned_train_df2.csv')\n",
    "val_df = pd.read_csv('../data/cleaned_val_df2.csv')\n",
    "test_df = pd.read_csv('../data/cleaned_test_df2.csv')"
   ]
  },
  {
   "cell_type": "code",
   "execution_count": 6,
   "id": "bc2e682d",
   "metadata": {},
   "outputs": [],
   "source": [
    "train_df['sent1'] = train_df['sent1'].apply(eval)\n",
    "train_df['sent2'] = train_df['sent2'].apply(eval)"
   ]
  },
  {
   "cell_type": "code",
   "execution_count": 7,
   "id": "5de61515",
   "metadata": {},
   "outputs": [],
   "source": [
    "val_df['sent1'] = val_df['sent1'].apply(eval)\n",
    "val_df['sent2'] = val_df['sent2'].apply(eval)"
   ]
  },
  {
   "cell_type": "code",
   "execution_count": 8,
   "id": "d596a64c",
   "metadata": {},
   "outputs": [],
   "source": [
    "test_df['sent1'] = test_df['sent1'].apply(eval)\n",
    "test_df['sent2'] = test_df['sent2'].apply(eval)"
   ]
  },
  {
   "cell_type": "code",
   "execution_count": 9,
   "id": "88991421",
   "metadata": {},
   "outputs": [
    {
     "name": "stderr",
     "output_type": "stream",
     "text": [
      "/Users/AH00434/opt/anaconda3/envs/nlp_venv/lib/python3.9/site-packages/tqdm/auto.py:21: TqdmWarning: IProgress not found. Please update jupyter and ipywidgets. See https://ipywidgets.readthedocs.io/en/stable/user_install.html\n",
      "  from .autonotebook import tqdm as notebook_tqdm\n"
     ]
    }
   ],
   "source": [
    "from sentence_transformers import SentenceTransformer\n",
    "\n",
    "model = SentenceTransformer('distilbert-base-nli-stsb-mean-tokens')"
   ]
  },
  {
   "cell_type": "code",
   "execution_count": 10,
   "id": "dc499b60",
   "metadata": {},
   "outputs": [],
   "source": [
    "train_embeddings1 = list(train_df['sent1'])\n",
    "train_embeddings2 = list(train_df['sent2'])"
   ]
  },
  {
   "cell_type": "code",
   "execution_count": 11,
   "id": "c58b3d83",
   "metadata": {},
   "outputs": [],
   "source": [
    "train_embeddings1 = [\" \".join(i for i in j) for j in train_embeddings1]\n",
    "train_embeddings2 = [\" \".join(i for i in j) for j in train_embeddings2]"
   ]
  },
  {
   "cell_type": "code",
   "execution_count": null,
   "id": "9cf26cc6",
   "metadata": {},
   "outputs": [],
   "source": []
  },
  {
   "cell_type": "code",
   "execution_count": 12,
   "id": "ebdf42e5",
   "metadata": {},
   "outputs": [],
   "source": [
    "train_embeddings1 = model.encode(train_embeddings1)\n",
    "train_embeddings2 = model.encode(train_embeddings2)"
   ]
  },
  {
   "cell_type": "code",
   "execution_count": 13,
   "id": "6bbd9484",
   "metadata": {},
   "outputs": [
    {
     "data": {
      "text/plain": [
       "((5749, 768), (5749, 768))"
      ]
     },
     "execution_count": 13,
     "metadata": {},
     "output_type": "execute_result"
    }
   ],
   "source": [
    "train_embeddings1.shape, train_embeddings2.shape"
   ]
  },
  {
   "cell_type": "code",
   "execution_count": 14,
   "id": "07d37e10",
   "metadata": {},
   "outputs": [],
   "source": [
    "train_df['norm_score'] = train_df[\"score\"].apply(lambda x : (x - 2.5) / 2.5)"
   ]
  },
  {
   "cell_type": "code",
   "execution_count": 15,
   "id": "08e15543",
   "metadata": {},
   "outputs": [],
   "source": [
    "y_train = list(train_df[\"score\"])"
   ]
  },
  {
   "cell_type": "code",
   "execution_count": 16,
   "id": "75569765",
   "metadata": {},
   "outputs": [],
   "source": [
    "def sts_score(sim_score):\n",
    "    sts_score = (sim_score+1) * 2.5\n",
    "    return sts_score"
   ]
  },
  {
   "cell_type": "code",
   "execution_count": 29,
   "id": "f86651a6",
   "metadata": {},
   "outputs": [],
   "source": [
    "from scipy import spatial\n",
    "from scipy.stats import pearsonr\n",
    "\n",
    "def get_sts_scores(emb1_lt, emb2_lt):\n",
    "    y_pred = []\n",
    "    for i in range(len(emb1_lt)):\n",
    "        sim_score = 1 - spatial.distance.cosine(emb1_lt[i], emb2_lt[i])\n",
    "        y_pred.append(sts_score(sim_score))\n",
    "    return y_pred\n",
    "\n",
    "def get_sts_scores_norm(emb1_lt, emb2_lt):\n",
    "    y_pred = []\n",
    "    for i in range(len(emb1_lt)):\n",
    "        sim_score = 1 - spatial.distance.cosine(emb1_lt[i], emb2_lt[i])\n",
    "        y_pred.append(sim_score)\n",
    "    return y_pred\n",
    "    \n",
    "def pearson_corr(y_true, y_pred):\n",
    "    \"\"\"\n",
    "    Calculate Pearson correlation coefficient between two arrays.\n",
    "    \"\"\"\n",
    "    corr, _ = pearsonr(y_true, y_pred)\n",
    "    return corr"
   ]
  },
  {
   "cell_type": "code",
   "execution_count": 18,
   "id": "ffeb492b",
   "metadata": {},
   "outputs": [],
   "source": [
    "y_pred = get_sts_scores(train_embeddings1, train_embeddings2)"
   ]
  },
  {
   "cell_type": "code",
   "execution_count": 19,
   "id": "e699c984",
   "metadata": {},
   "outputs": [
    {
     "name": "stdout",
     "output_type": "stream",
     "text": [
      "Pearson correlation coefficient: 0.92\n"
     ]
    }
   ],
   "source": [
    "# Calculate Pearson correlation coefficient between predicted values and target values\n",
    "corr = pearson_corr(y_train, y_pred)\n",
    "\n",
    "# Print the correlation coefficient\n",
    "print(\"Pearson correlation coefficient: {:.2f}\".format(corr))"
   ]
  },
  {
   "cell_type": "code",
   "execution_count": 20,
   "id": "e49b7be1",
   "metadata": {},
   "outputs": [],
   "source": [
    "val_embeddings1 = list(val_df['sent1'])\n",
    "val_embeddings2 = list(val_df['sent2'])"
   ]
  },
  {
   "cell_type": "code",
   "execution_count": 21,
   "id": "1c2cf562",
   "metadata": {},
   "outputs": [],
   "source": [
    "val_embeddings1 = [\" \".join(i for i in j) for j in val_embeddings1]\n",
    "val_embeddings2 = [\" \".join(i for i in j) for j in val_embeddings2]"
   ]
  },
  {
   "cell_type": "code",
   "execution_count": 22,
   "id": "379efc38",
   "metadata": {},
   "outputs": [],
   "source": [
    "val_embeddings1 = model.encode(val_embeddings1)\n",
    "val_embeddings2 = model.encode(val_embeddings2)"
   ]
  },
  {
   "cell_type": "code",
   "execution_count": 23,
   "id": "eba5684a",
   "metadata": {},
   "outputs": [],
   "source": [
    "val_df['norm_score'] = val_df[\"score\"].apply(lambda x : (x - 2.5) / 2.5)"
   ]
  },
  {
   "cell_type": "code",
   "execution_count": 24,
   "id": "b40ac9cc",
   "metadata": {},
   "outputs": [],
   "source": [
    "y_val = list(val_df[\"score\"])"
   ]
  },
  {
   "cell_type": "code",
   "execution_count": 25,
   "id": "8ffb98e3",
   "metadata": {},
   "outputs": [],
   "source": [
    "y_pred = get_sts_scores(val_embeddings1, val_embeddings2)"
   ]
  },
  {
   "cell_type": "code",
   "execution_count": 26,
   "id": "6c86b709",
   "metadata": {},
   "outputs": [
    {
     "name": "stdout",
     "output_type": "stream",
     "text": [
      "Pearson correlation coefficient: 0.83\n"
     ]
    }
   ],
   "source": [
    "# Calculate Pearson correlation coefficient between predicted values and target values\n",
    "corr = pearson_corr(y_val, y_pred)\n",
    "\n",
    "# Print the correlation coefficient\n",
    "print(\"Pearson correlation coefficient: {:.2f}\".format(corr))"
   ]
  },
  {
   "cell_type": "code",
   "execution_count": 27,
   "id": "544cec12",
   "metadata": {},
   "outputs": [],
   "source": [
    "test_embeddings1 = list(test_df['sent1'])\n",
    "test_embeddings2 = list(test_df['sent2'])"
   ]
  },
  {
   "cell_type": "code",
   "execution_count": 28,
   "id": "a0aa2f14",
   "metadata": {},
   "outputs": [],
   "source": [
    "test_embeddings1 = [\" \".join(i for i in j) for j in test_embeddings1]\n",
    "test_embeddings2 = [\" \".join(i for i in j) for j in test_embeddings2]"
   ]
  },
  {
   "cell_type": "code",
   "execution_count": 29,
   "id": "556ecc56",
   "metadata": {},
   "outputs": [],
   "source": [
    "test_embeddings1 = model.encode(test_embeddings1)\n",
    "test_embeddings2 = model.encode(test_embeddings2)"
   ]
  },
  {
   "cell_type": "code",
   "execution_count": 30,
   "id": "0f253a47",
   "metadata": {},
   "outputs": [],
   "source": [
    "y_test = list(test_df[\"score\"])"
   ]
  },
  {
   "cell_type": "code",
   "execution_count": 31,
   "id": "9f74f18f",
   "metadata": {},
   "outputs": [],
   "source": [
    "test_df[\"normalized_score\"] = test_df[\"score\"].apply(lambda x : (x - 2.5) / 2.5)"
   ]
  },
  {
   "cell_type": "code",
   "execution_count": 32,
   "id": "35aeaeed",
   "metadata": {},
   "outputs": [],
   "source": [
    "y_test_norm = list(test_df[\"normalized_score\"])"
   ]
  },
  {
   "cell_type": "code",
   "execution_count": 33,
   "id": "4c5fbc07",
   "metadata": {},
   "outputs": [],
   "source": [
    "#normalized_score = (original_score - 2.5) / 2.5"
   ]
  },
  {
   "cell_type": "code",
   "execution_count": 34,
   "id": "f9ae5279",
   "metadata": {},
   "outputs": [
    {
     "data": {
      "text/plain": [
       "((1379, 768), (1379, 768))"
      ]
     },
     "execution_count": 34,
     "metadata": {},
     "output_type": "execute_result"
    }
   ],
   "source": [
    "test_embeddings1.shape, test_embeddings2.shape"
   ]
  },
  {
   "cell_type": "code",
   "execution_count": 35,
   "id": "59d4c073",
   "metadata": {},
   "outputs": [],
   "source": [
    "y_pred = get_sts_scores_norm(test_embeddings1, test_embeddings2)"
   ]
  },
  {
   "cell_type": "code",
   "execution_count": 36,
   "id": "fa7d2275",
   "metadata": {},
   "outputs": [
    {
     "name": "stdout",
     "output_type": "stream",
     "text": [
      "Pearson correlation coefficient: 0.80\n"
     ]
    }
   ],
   "source": [
    "# Calculate Pearson correlation coefficient between predicted values and target values\n",
    "corr = pearson_corr(y_test_norm, y_pred)\n",
    "\n",
    "# Print the correlation coefficient\n",
    "print(\"Pearson correlation coefficient: {:.2f}\".format(corr))"
   ]
  },
  {
   "cell_type": "code",
   "execution_count": 52,
   "id": "6b951391",
   "metadata": {},
   "outputs": [],
   "source": [
    "test_emb1 = model.encode(\"boy came to college\")\n",
    "test_emb2 = model.encode(\"boy came from college\")"
   ]
  },
  {
   "cell_type": "code",
   "execution_count": 53,
   "id": "44411d08",
   "metadata": {},
   "outputs": [
    {
     "data": {
      "text/plain": [
       "(768,)"
      ]
     },
     "execution_count": 53,
     "metadata": {},
     "output_type": "execute_result"
    }
   ],
   "source": [
    "test_emb1.shape"
   ]
  },
  {
   "cell_type": "code",
   "execution_count": 54,
   "id": "2c1fb417",
   "metadata": {},
   "outputs": [],
   "source": [
    "sim_score = 1 - spatial.distance.cosine(test_emb1, test_emb2)"
   ]
  },
  {
   "cell_type": "code",
   "execution_count": 55,
   "id": "56e48f37",
   "metadata": {},
   "outputs": [
    {
     "data": {
      "text/plain": [
       "0.9106775522232056"
      ]
     },
     "execution_count": 55,
     "metadata": {},
     "output_type": "execute_result"
    }
   ],
   "source": [
    "sim_score"
   ]
  },
  {
   "cell_type": "code",
   "execution_count": 45,
   "id": "7ddbecf1",
   "metadata": {},
   "outputs": [],
   "source": [
    "row_max_len = lambda row: max(len(row['sent1']), len(row['sent2']))"
   ]
  },
  {
   "cell_type": "code",
   "execution_count": 46,
   "id": "5a4419cc",
   "metadata": {},
   "outputs": [],
   "source": [
    "train_df['sent_len'] = train_df.apply(row_max_len, axis=1)"
   ]
  },
  {
   "cell_type": "code",
   "execution_count": 47,
   "id": "68bb84ec",
   "metadata": {},
   "outputs": [],
   "source": [
    "val_df['sent_len'] = val_df.apply(row_max_len, axis=1)"
   ]
  },
  {
   "cell_type": "code",
   "execution_count": 48,
   "id": "00382406",
   "metadata": {},
   "outputs": [],
   "source": [
    "test_df['sent_len'] = test_df.apply(row_max_len, axis=1)"
   ]
  },
  {
   "cell_type": "code",
   "execution_count": 49,
   "id": "29e671dd",
   "metadata": {},
   "outputs": [],
   "source": [
    "test_df['diff'] = abs(test_df['score'] - y_pred)"
   ]
  },
  {
   "cell_type": "code",
   "execution_count": 50,
   "id": "9108ac2d",
   "metadata": {},
   "outputs": [
    {
     "name": "stderr",
     "output_type": "stream",
     "text": [
      "/var/folders/gb/8lc9v2sx5mq19kgysgv67bzw0000gn/T/ipykernel_36300/1156243688.py:1: FutureWarning: The default value of numeric_only in DataFrameGroupBy.mean is deprecated. In a future version, numeric_only will default to False. Either specify numeric_only or select only columns which should be valid for the function.\n",
      "  grouped_test = test_df.groupby(['sent_len']).mean()\n"
     ]
    }
   ],
   "source": [
    "grouped_test = test_df.groupby(['sent_len']).mean()"
   ]
  },
  {
   "cell_type": "code",
   "execution_count": 51,
   "id": "791856db",
   "metadata": {},
   "outputs": [
    {
     "data": {
      "image/png": "[encoded data removed]",
      "text/plain": [
       "<Figure size 800x600 with 1 Axes>"
      ]
     },
     "metadata": {},
     "output_type": "display_data"
    }
   ],
   "source": [
    "import matplotlib.pyplot as plt\n",
    "fig, ax = plt.subplots(figsize=(8, 6))\n",
    "ax.scatter(list(grouped_test.index), list(grouped_test['diff']))\n",
    "plt.title(\"average error trend in test data\")\n",
    "plt.xlabel(\"sentence length\")\n",
    "plt.ylabel(\"average difference\")\n",
    "plt.show()"
   ]
  },
  {
   "cell_type": "markdown",
   "id": "d3ae65c0",
   "metadata": {},
   "source": [
    "# Regression model training on embeddings"
   ]
  },
  {
   "cell_type": "code",
   "execution_count": 59,
   "id": "96384c7c",
   "metadata": {},
   "outputs": [],
   "source": [
    "# Concatenate the sentence embeddings element-wise\n",
    "X = np.concatenate([train_embeddings1, train_embeddings2], axis=1)"
   ]
  },
  {
   "cell_type": "code",
   "execution_count": 65,
   "id": "6c1e6fd8",
   "metadata": {},
   "outputs": [],
   "source": [
    "y = train_df['score'].values"
   ]
  },
  {
   "cell_type": "code",
   "execution_count": 69,
   "id": "35ce1318",
   "metadata": {},
   "outputs": [],
   "source": [
    "from sklearn.linear_model import LinearRegression\n",
    "# Train a linear regression model\n",
    "reg = LinearRegression().fit(X, y)"
   ]
  },
  {
   "cell_type": "code",
   "execution_count": 70,
   "id": "ddf27095",
   "metadata": {},
   "outputs": [],
   "source": [
    "X_val = np.concatenate([val_embeddings1, val_embeddings2], axis=1)"
   ]
  },
  {
   "cell_type": "code",
   "execution_count": 71,
   "id": "884526c2",
   "metadata": {},
   "outputs": [],
   "source": [
    "y_val = val_df['score'].values"
   ]
  },
  {
   "cell_type": "code",
   "execution_count": 72,
   "id": "c9aa3309",
   "metadata": {},
   "outputs": [],
   "source": [
    "y_pred = reg.predict(X_val)"
   ]
  },
  {
   "cell_type": "code",
   "execution_count": 74,
   "id": "73b7a0e2",
   "metadata": {},
   "outputs": [
    {
     "name": "stdout",
     "output_type": "stream",
     "text": [
      "Pearson correlation coefficient: 0.10\n"
     ]
    }
   ],
   "source": [
    "# Calculate Pearson correlation coefficient between predicted values and target values\n",
    "corr = pearson_corr(y_val, y_pred)\n",
    "print(\"Pearson correlation coefficient: {:.2f}\".format(corr))"
   ]
  },
  {
   "cell_type": "markdown",
   "id": "0d6c53d6",
   "metadata": {},
   "source": [
    "# Bert fine tuning"
   ]
  },
  {
   "cell_type": "code",
   "execution_count": 9,
   "id": "b90d2aa3",
   "metadata": {},
   "outputs": [],
   "source": [
    "train_df = pd.read_csv('../data/cleaned_train_df_sent.csv')\n",
    "val_df = pd.read_csv('../data/cleaned_val_df_sent.csv')\n",
    "test_df = pd.read_csv('../data/cleaned_test_df_sent.csv')"
   ]
  },
  {
   "cell_type": "code",
   "execution_count": 10,
   "id": "59eecc10",
   "metadata": {},
   "outputs": [],
   "source": [
    "train_df['score'] = train_df[\"score\"].apply(lambda x : (x) / 5.0)\n",
    "val_df['score'] = val_df[\"score\"].apply(lambda x : (x ) / 5.0)\n",
    "test_df['score'] = test_df[\"score\"].apply(lambda x : (x ) / 5.0)"
   ]
  },
  {
   "cell_type": "code",
   "execution_count": 11,
   "id": "b99eab59",
   "metadata": {},
   "outputs": [
    {
     "data": {
      "text/plain": [
       "1.0"
      ]
     },
     "execution_count": 11,
     "metadata": {},
     "output_type": "execute_result"
    }
   ],
   "source": [
    "max(train_df['score'])"
   ]
  },
  {
   "cell_type": "code",
   "execution_count": 13,
   "id": "9fa8a676",
   "metadata": {},
   "outputs": [],
   "source": [
    "from transformers import BertForSequenceClassification, AdamW, BertTokenizer\n",
    "\n",
    "# Load pre-trained model and tokenizer\n",
    "#model = BertForSequenceClassification.from_pretrained('bert-base-uncased', num_labels=1)\n",
    "tokenizer = BertTokenizer.from_pretrained('bert-base-uncased')\n",
    "\n",
    "# Set optimizer\n",
    "#optimizer = AdamW(model.parameters(), lr=2e-5, eps=1e-8)"
   ]
  },
  {
   "cell_type": "code",
   "execution_count": 14,
   "id": "459c3f71",
   "metadata": {},
   "outputs": [
    {
     "name": "stderr",
     "output_type": "stream",
     "text": [
      "Be aware, overflowing tokens are not returned for the setting you have chosen, i.e. sequence pairs with the 'longest_first' truncation strategy. So the returned list will always be empty even if some tokens have been removed.\n"
     ]
    }
   ],
   "source": [
    "import torch\n",
    "from torch.utils.data import TensorDataset, DataLoader, RandomSampler, SequentialSampler\n",
    "\n",
    "# Convert sentences to input features\n",
    "def convert_sentences_to_features(sentences, tokenizer, max_seq_length):\n",
    "    input_ids = []\n",
    "    attention_masks = []\n",
    "    token_type_ids = []\n",
    "\n",
    "    for sent in sentences:\n",
    "        encoded_dict = tokenizer.encode_plus(\n",
    "                            sent[0],                      # Sentence 1\n",
    "                            sent[1],                      # Sentence 2\n",
    "                            add_special_tokens = True,    # Add '[CLS]' and '[SEP]'\n",
    "                            max_length = max_seq_length,  # Pad or truncate sentences\n",
    "                            truncation=True,\n",
    "                            #pad_to_max_length = True,\n",
    "                            padding = 'max_length',\n",
    "                            return_attention_mask = True, # Construct attention masks\n",
    "                            return_tensors = 'pt',        # Return PyTorch tensors\n",
    "                            truncation_strategy='longest_first'\n",
    "                       )\n",
    "\n",
    "        # Add the encoded sentence to the list\n",
    "        input_ids.append(encoded_dict['input_ids'])\n",
    "        attention_masks.append(encoded_dict['attention_mask'])\n",
    "        token_type_ids.append(encoded_dict['token_type_ids'])\n",
    "\n",
    "    # Convert the lists to tensors\n",
    "    input_ids = torch.cat(input_ids, dim=0)\n",
    "    attention_masks = torch.cat(attention_masks, dim=0)\n",
    "    token_type_ids = torch.cat(token_type_ids, dim=0)\n",
    "\n",
    "    return input_ids, attention_masks, token_type_ids\n",
    "\n",
    "# Create input features and labels\n",
    "max_seq_length = 100\n",
    "\n",
    "sentences = train_df[['sent1', 'sent2']].values.tolist()\n",
    "labels = train_df['score'].values\n",
    "\n",
    "input_ids, attention_masks, token_type_ids = convert_sentences_to_features(sentences, tokenizer, max_seq_length)\n",
    "\n",
    "# Convert the labels to a tensor\n",
    "labels = torch.tensor(labels, dtype=torch.float)\n"
   ]
  },
  {
   "cell_type": "code",
   "execution_count": 15,
   "id": "3dfa16a7",
   "metadata": {},
   "outputs": [
    {
     "data": {
      "text/plain": [
       "torch.Size([5749, 100])"
      ]
     },
     "execution_count": 15,
     "metadata": {},
     "output_type": "execute_result"
    }
   ],
   "source": [
    "input_ids.shape"
   ]
  },
  {
   "cell_type": "code",
   "execution_count": 16,
   "id": "d30c1c88",
   "metadata": {},
   "outputs": [],
   "source": [
    "val_sentences = val_df[['sent1', 'sent2']].values.tolist()\n",
    "val_labels = val_df['score'].values\n",
    "\n",
    "val_input_ids, val_attention_masks, val_token_type_ids = convert_sentences_to_features(val_sentences, tokenizer, max_seq_length)\n",
    "\n",
    "# Convert the labels to a tensor\n",
    "val_labels = torch.tensor(val_labels, dtype=torch.float)\n"
   ]
  },
  {
   "cell_type": "code",
   "execution_count": 17,
   "id": "903d6c00",
   "metadata": {},
   "outputs": [],
   "source": [
    "test_sentences = test_df[['sent1', 'sent2']].values.tolist()\n",
    "test_labels = test_df['score'].values\n",
    "\n",
    "test_input_ids, test_attention_masks, test_token_type_ids = convert_sentences_to_features(test_sentences, tokenizer, max_seq_length)\n",
    "\n",
    "# Convert the labels to a tensor\n",
    "test_labels = torch.tensor(test_labels, dtype=torch.float)"
   ]
  },
  {
   "cell_type": "code",
   "execution_count": 18,
   "id": "e92fa802",
   "metadata": {},
   "outputs": [],
   "source": [
    "# Create a PyTorch DataLoader object for the training set\n",
    "batch_size = 32\n",
    "\n",
    "train_data = TensorDataset(input_ids, attention_masks, token_type_ids, labels)\n",
    "train_sampler = RandomSampler(train_data)\n",
    "train_dataloader = DataLoader(train_data, sampler=train_sampler, batch_size=batch_size)\n",
    "\n",
    "# Create a PyTorch DataLoader object for the validation set\n",
    "validation_data = TensorDataset(val_input_ids, val_attention_masks, val_token_type_ids, val_labels)\n",
    "validation_sampler = SequentialSampler(validation_data)\n",
    "validation_dataloader = DataLoader(validation_data, sampler=validation_sampler, batch_size=batch_size)"
   ]
  },
  {
   "cell_type": "code",
   "execution_count": 19,
   "id": "7b063c47",
   "metadata": {},
   "outputs": [],
   "source": [
    "# Create a PyTorch DataLoader object for the test set\n",
    "test_data = TensorDataset(test_input_ids, test_attention_masks, test_token_type_ids, test_labels)\n",
    "test_sampler = SequentialSampler(test_data)\n",
    "test_dataloader = DataLoader(test_data, sampler=test_sampler, batch_size=batch_size)"
   ]
  },
  {
   "cell_type": "code",
   "execution_count": 20,
   "id": "46345324",
   "metadata": {},
   "outputs": [
    {
     "name": "stderr",
     "output_type": "stream",
     "text": [
      "Some weights of the model checkpoint at bert-base-uncased were not used when initializing BertModel: ['cls.seq_relationship.weight', 'cls.predictions.transform.LayerNorm.weight', 'cls.predictions.bias', 'cls.predictions.transform.LayerNorm.bias', 'cls.predictions.transform.dense.weight', 'cls.seq_relationship.bias', 'cls.predictions.transform.dense.bias', 'cls.predictions.decoder.weight']\n",
      "- This IS expected if you are initializing BertModel from the checkpoint of a model trained on another task or with another architecture (e.g. initializing a BertForSequenceClassification model from a BertForPreTraining model).\n",
      "- This IS NOT expected if you are initializing BertModel from the checkpoint of a model that you expect to be exactly identical (initializing a BertForSequenceClassification model from a BertForSequenceClassification model).\n"
     ]
    }
   ],
   "source": [
    "# Define hyperparameters\n",
    "MAX_LEN = 100\n",
    "BATCH_SIZE = 32\n",
    "EPOCHS = 4\n",
    "LEARNING_RATE = 2e-5\n",
    "\n",
    "from transformers import BertModel, BertConfig, BertForSequenceClassification, AdamW\n",
    "# Load the pre-trained BERT model\n",
    "#model = BertModel.from_pretrained('bert-base-uncased')\n",
    "\n",
    "# Define the configuration for the fine-tuned model\n",
    "config = BertConfig.from_pretrained(\n",
    "    'bert-base-uncased',\n",
    "    num_labels=1,\n",
    "    output_attentions=False,\n",
    "    output_hidden_states=False,\n",
    ")\n"
   ]
  },
  {
   "cell_type": "code",
   "execution_count": 21,
   "id": "ed584b6d",
   "metadata": {},
   "outputs": [
    {
     "name": "stderr",
     "output_type": "stream",
     "text": [
      "Some weights of the model checkpoint at bert-base-uncased were not used when initializing BertForSequenceClassification: ['cls.seq_relationship.weight', 'cls.predictions.transform.LayerNorm.weight', 'cls.predictions.bias', 'cls.predictions.transform.LayerNorm.bias', 'cls.predictions.transform.dense.weight', 'cls.seq_relationship.bias', 'cls.predictions.transform.dense.bias', 'cls.predictions.decoder.weight']\n",
      "- This IS expected if you are initializing BertForSequenceClassification from the checkpoint of a model trained on another task or with another architecture (e.g. initializing a BertForSequenceClassification model from a BertForPreTraining model).\n",
      "- This IS NOT expected if you are initializing BertForSequenceClassification from the checkpoint of a model that you expect to be exactly identical (initializing a BertForSequenceClassification model from a BertForSequenceClassification model).\n",
      "Some weights of BertForSequenceClassification were not initialized from the model checkpoint at bert-base-uncased and are newly initialized: ['classifier.bias', 'classifier.weight']\n",
      "You should probably TRAIN this model on a down-stream task to be able to use it for predictions and inference.\n"
     ]
    }
   ],
   "source": [
    "# Define the fine-tuned model for sentence similarity task\n",
    "model = BertForSequenceClassification.from_pretrained('bert-base-uncased', config=config)"
   ]
  },
  {
   "cell_type": "code",
   "execution_count": 111,
   "id": "5b1c2c70",
   "metadata": {},
   "outputs": [
    {
     "name": "stdout",
     "output_type": "stream",
     "text": [
      "0.6166746909419696\n",
      "0.3835343765715758\n",
      "0.28273599785235193\n",
      "0.20503181624743674\n"
     ]
    }
   ],
   "source": [
    "# Define the optimizer and loss function for training\n",
    "optimizer = AdamW(model.parameters(), lr=LEARNING_RATE, eps=1e-8)\n",
    "loss_fn = torch.nn.MSELoss()\n",
    "\n",
    "# Fine-tune the BERT model for the sentence similarity task\n",
    "for epoch in range(EPOCHS):\n",
    "    model.train()\n",
    "    total_loss = 0.0\n",
    "    for step, batch in enumerate(train_dataloader):\n",
    "        batch_input_ids, batch_attention_masks, _, batch_labels = tuple(t for t in batch)\n",
    "        optimizer.zero_grad()\n",
    "        outputs = model(batch_input_ids, token_type_ids=None, attention_mask=batch_attention_masks, labels=batch_labels)\n",
    "        loss = outputs[0]\n",
    "        loss.backward()\n",
    "        optimizer.step()\n",
    "        total_loss += loss.item()\n",
    "    print(total_loss / len(train_dataloader))"
   ]
  },
  {
   "cell_type": "code",
   "execution_count": 23,
   "id": "ad729f89",
   "metadata": {},
   "outputs": [],
   "source": [
    "#torch.save(model, \"semantic_sim_bert_v3.pt\")"
   ]
  },
  {
   "cell_type": "code",
   "execution_count": 24,
   "id": "5c810d2e",
   "metadata": {},
   "outputs": [],
   "source": [
    "#model = torch.load(\"semantic_sim_bert_v3.pt\")"
   ]
  },
  {
   "cell_type": "code",
   "execution_count": 112,
   "id": "4bbe538c",
   "metadata": {},
   "outputs": [],
   "source": [
    "model.eval()\n",
    "y_pred_test = []\n",
    "y_true = []\n",
    "with torch.no_grad():\n",
    "  for step, batch in enumerate(validation_dataloader):\n",
    "    batch_input_ids, batch_attention_masks, _, batch_labels = tuple(t for t in batch)\n",
    "    val_outputs = model(batch_input_ids, token_type_ids=None, attention_mask=batch_attention_masks, labels=batch_labels)\n",
    "    list_array = val_outputs[1].tolist()\n",
    "    y_true.extend(batch_labels.tolist())\n",
    "    y_pred_test.extend([i[0] for i in list_array])\n"
   ]
  },
  {
   "cell_type": "code",
   "execution_count": 113,
   "id": "be590e56",
   "metadata": {},
   "outputs": [
    {
     "name": "stdout",
     "output_type": "stream",
     "text": [
      "Pearson correlation coefficient: 0.85\n"
     ]
    }
   ],
   "source": [
    "corr = pearson_corr(y_true, y_pred_test)\n",
    "print(\"Pearson correlation coefficient: {:.2f}\".format(corr))"
   ]
  },
  {
   "cell_type": "code",
   "execution_count": 117,
   "id": "f49268e1",
   "metadata": {},
   "outputs": [],
   "source": [
    "model.eval()\n",
    "y_pred_test = []\n",
    "y_test = []\n",
    "with torch.no_grad():\n",
    "  for step, batch in enumerate(test_dataloader):\n",
    "    batch_input_ids, batch_attention_masks, _, batch_labels = tuple(t for t in batch)\n",
    "    val_outputs = model(batch_input_ids, token_type_ids=None, attention_mask=batch_attention_masks, labels=batch_labels)\n",
    "    list_array = val_outputs[1].tolist()\n",
    "    y_test.extend(batch_labels.tolist())\n",
    "    y_pred_test.extend([i[0] for i in list_array])\n"
   ]
  },
  {
   "cell_type": "code",
   "execution_count": 118,
   "id": "31dd3007",
   "metadata": {},
   "outputs": [
    {
     "name": "stdout",
     "output_type": "stream",
     "text": [
      "Pearson correlation coefficient: 0.81\n"
     ]
    }
   ],
   "source": [
    "corr = pearson_corr(y_test, y_pred_test)\n",
    "print(\"Pearson correlation coefficient: {:.2f}\".format(corr))"
   ]
  },
  {
   "cell_type": "markdown",
   "id": "f8b9a129",
   "metadata": {},
   "source": [
    "# Transfer Learning"
   ]
  },
  {
   "cell_type": "code",
   "execution_count": 178,
   "id": "2a221719",
   "metadata": {},
   "outputs": [],
   "source": [
    "import torch\n",
    "from torch.utils.data import Dataset, DataLoader\n",
    "\n",
    "# Define the dummy dataset\n",
    "class SimilarityDataset(Dataset):\n",
    "    def __init__(self, sentence_pairs, similarity_scores, tokenizer, max_length):\n",
    "        self.sentence_pairs = sentence_pairs\n",
    "        self.similarity_scores = similarity_scores\n",
    "        self.tokenizer = tokenizer\n",
    "        self.max_length = max_length\n",
    "        \n",
    "    def __len__(self):\n",
    "        return len(self.sentence_pairs)\n",
    "    \n",
    "    def __getitem__(self, index):\n",
    "        input_ids = torch.tensor(self.tokenizer.encode(self.sentence_pairs[index][0], self.sentence_pairs[index][1], add_special_tokens=True, padding=True, truncation='only_first', max_length=self.max_length))\n",
    "        attention_mask = torch.ones_like(input_ids)\n",
    "        similarity = torch.tensor(self.similarity_scores[index], dtype=torch.float32)\n",
    "        \n",
    "        return {'input_ids': input_ids, 'attention_mask': attention_mask, 'similarity': similarity}\n",
    "\n",
    "# Define a collate function for padding the input sequences\n",
    "def pad_sequences(batch):\n",
    "    input_ids = [item['input_ids'] for item in batch]\n",
    "    attention_mask = [item['attention_mask'] for item in batch]\n",
    "    similarity = [item['similarity'] for item in batch]\n",
    "    \n",
    "    # Pad the sequences to the maximum length in the batch\n",
    "    input_ids = torch.nn.utils.rnn.pad_sequence(input_ids, batch_first=True, padding_value=0)\n",
    "    attention_mask = torch.nn.utils.rnn.pad_sequence(attention_mask, batch_first=True, padding_value=0)\n",
    "    \n",
    "    return {'input_ids': input_ids, 'attention_mask': attention_mask, 'similarity': torch.stack(similarity)}\n",
    "\n"
   ]
  },
  {
   "cell_type": "code",
   "execution_count": 179,
   "id": "30e03382",
   "metadata": {},
   "outputs": [],
   "source": [
    "train_df = pd.read_csv('../data/stsb-en-train.csv', usecols=[0,1,2], names=['sent1', 'sent2', 'score'], header=None)"
   ]
  },
  {
   "cell_type": "code",
   "execution_count": 180,
   "id": "6d4a8bf8",
   "metadata": {},
   "outputs": [
    {
     "data": {
      "text/html": [
       "<div>\n",
       "<style scoped>\n",
       "    .dataframe tbody tr th:only-of-type {\n",
       "        vertical-align: middle;\n",
       "    }\n",
       "\n",
       "    .dataframe tbody tr th {\n",
       "        vertical-align: top;\n",
       "    }\n",
       "\n",
       "    .dataframe thead th {\n",
       "        text-align: right;\n",
       "    }\n",
       "</style>\n",
       "<table border=\"1\" class=\"dataframe\">\n",
       "  <thead>\n",
       "    <tr style=\"text-align: right;\">\n",
       "      <th></th>\n",
       "      <th>sent1</th>\n",
       "      <th>sent2</th>\n",
       "      <th>score</th>\n",
       "    </tr>\n",
       "  </thead>\n",
       "  <tbody>\n",
       "    <tr>\n",
       "      <th>0</th>\n",
       "      <td>A plane is taking off.</td>\n",
       "      <td>An air plane is taking off.</td>\n",
       "      <td>5.00</td>\n",
       "    </tr>\n",
       "    <tr>\n",
       "      <th>1</th>\n",
       "      <td>A man is playing a large flute.</td>\n",
       "      <td>A man is playing a flute.</td>\n",
       "      <td>3.80</td>\n",
       "    </tr>\n",
       "    <tr>\n",
       "      <th>2</th>\n",
       "      <td>A man is spreading shreded cheese on a pizza.</td>\n",
       "      <td>A man is spreading shredded cheese on an uncoo...</td>\n",
       "      <td>3.80</td>\n",
       "    </tr>\n",
       "    <tr>\n",
       "      <th>3</th>\n",
       "      <td>Three men are playing chess.</td>\n",
       "      <td>Two men are playing chess.</td>\n",
       "      <td>2.60</td>\n",
       "    </tr>\n",
       "    <tr>\n",
       "      <th>4</th>\n",
       "      <td>A man is playing the cello.</td>\n",
       "      <td>A man seated is playing the cello.</td>\n",
       "      <td>4.25</td>\n",
       "    </tr>\n",
       "  </tbody>\n",
       "</table>\n",
       "</div>"
      ],
      "text/plain": [
       "                                           sent1  \\\n",
       "0                         A plane is taking off.   \n",
       "1                A man is playing a large flute.   \n",
       "2  A man is spreading shreded cheese on a pizza.   \n",
       "3                   Three men are playing chess.   \n",
       "4                    A man is playing the cello.   \n",
       "\n",
       "                                               sent2  score  \n",
       "0                        An air plane is taking off.   5.00  \n",
       "1                          A man is playing a flute.   3.80  \n",
       "2  A man is spreading shredded cheese on an uncoo...   3.80  \n",
       "3                         Two men are playing chess.   2.60  \n",
       "4                 A man seated is playing the cello.   4.25  "
      ]
     },
     "execution_count": 180,
     "metadata": {},
     "output_type": "execute_result"
    }
   ],
   "source": [
    "train_df.head()"
   ]
  },
  {
   "cell_type": "code",
   "execution_count": 181,
   "id": "5c43eafa",
   "metadata": {},
   "outputs": [],
   "source": [
    "sentence_pairs = []\n",
    "for index, row in train_df.iterrows():\n",
    "    sentence_pairs.append((row['sent1'], row['sent1']))"
   ]
  },
  {
   "cell_type": "code",
   "execution_count": 182,
   "id": "92826a50",
   "metadata": {},
   "outputs": [
    {
     "data": {
      "text/plain": [
       "('A plane is taking off.', 'A plane is taking off.')"
      ]
     },
     "execution_count": 182,
     "metadata": {},
     "output_type": "execute_result"
    }
   ],
   "source": [
    "sentence_pairs[0]"
   ]
  },
  {
   "cell_type": "code",
   "execution_count": 183,
   "id": "03bd5ac9",
   "metadata": {},
   "outputs": [],
   "source": [
    "similarity_scores = list(train_df[\"score\"])"
   ]
  },
  {
   "cell_type": "code",
   "execution_count": 184,
   "id": "6b0824e7",
   "metadata": {},
   "outputs": [
    {
     "data": {
      "text/plain": [
       "(0.0, 5.0)"
      ]
     },
     "execution_count": 184,
     "metadata": {},
     "output_type": "execute_result"
    }
   ],
   "source": [
    "min(similarity_scores), max(similarity_scores)"
   ]
  },
  {
   "cell_type": "code",
   "execution_count": 185,
   "id": "b20c000d",
   "metadata": {},
   "outputs": [],
   "source": [
    "# Generate dummy data\n",
    "# sentence_pairs = [('The cat sat on the mat', 'The dog played in the yard'),\n",
    "#                   ('I love eating pizza', 'Pizza is my favorite food'),\n",
    "#                   ('The sun is shining', 'The weather is beautiful')]\n",
    "# similarity_scores = [0.2, 0.8, -0.6]\n",
    "\n",
    "from transformers import DistilBertModel, DistilBertTokenizer\n",
    "\n",
    "# Initialize the tokenizer and define the maximum sequence length\n",
    "tokenizer = DistilBertTokenizer.from_pretrained('sentence-transformers/distilbert-base-nli-stsb-mean-tokens')\n",
    "max_length = 128\n",
    "\n",
    "\n",
    "# Create dataset and dataloader\n",
    "dataset = SimilarityDataset(sentence_pairs, similarity_scores, tokenizer, max_length)\n",
    "dataloader = DataLoader(dataset, batch_size=16, shuffle=True, collate_fn=pad_sequences)\n"
   ]
  },
  {
   "cell_type": "code",
   "execution_count": 186,
   "id": "3ce7af39",
   "metadata": {},
   "outputs": [],
   "source": [
    "model = DistilBertModel.from_pretrained('sentence-transformers/distilbert-base-nli-stsb-mean-tokens')"
   ]
  },
  {
   "cell_type": "code",
   "execution_count": 187,
   "id": "b1e508f2",
   "metadata": {},
   "outputs": [],
   "source": [
    "# Freeze pre-trained weights\n",
    "for param in model.parameters():\n",
    "    param.requires_grad = False"
   ]
  },
  {
   "cell_type": "code",
   "execution_count": 188,
   "id": "a667ee81",
   "metadata": {},
   "outputs": [],
   "source": [
    "import torch.nn as nn\n",
    "class SimilarityClassifier(nn.Module):\n",
    "    def __init__(self, hidden_size, dropout_rate=0.1):\n",
    "        super(SimilarityClassifier, self).__init__()\n",
    "        self.fc1 = nn.Linear(hidden_size, 128)\n",
    "        self.dropout1 = nn.Dropout(dropout_rate)\n",
    "        self.fc2 = nn.Linear(128, 64)\n",
    "        self.dropout2 = nn.Dropout(dropout_rate)\n",
    "        self.fc3 = nn.Linear(64, 1)\n",
    "\n",
    "    def forward(self, input_ids, attention_mask):\n",
    "        outputs = model(input_ids=input_ids, attention_mask=attention_mask)\n",
    "        pooled_output = outputs[0].mean(dim=1)\n",
    "        x = nn.functional.relu(self.fc1(pooled_output))\n",
    "        x = self.dropout1(x)\n",
    "        x = nn.functional.relu(self.fc2(x))\n",
    "        x = self.dropout2(x)\n",
    "        x = self.fc3(x)\n",
    "        return x\n",
    "\n",
    "\n",
    "criterion = nn.MSELoss()"
   ]
  },
  {
   "cell_type": "code",
   "execution_count": 189,
   "id": "8577481e",
   "metadata": {},
   "outputs": [
    {
     "name": "stdout",
     "output_type": "stream",
     "text": [
      "Epoch 1/10, Average Loss: 2.3441\n",
      "Epoch 2/10, Average Loss: 1.9431\n",
      "Epoch 3/10, Average Loss: 1.7959\n",
      "Epoch 4/10, Average Loss: 1.6547\n",
      "Epoch 5/10, Average Loss: 1.5856\n",
      "Epoch 6/10, Average Loss: 1.4237\n",
      "Epoch 7/10, Average Loss: 1.3290\n",
      "Epoch 8/10, Average Loss: 1.2120\n",
      "Epoch 9/10, Average Loss: 1.1130\n",
      "Epoch 10/10, Average Loss: 1.0395\n"
     ]
    }
   ],
   "source": [
    "hidden_size = 768\n",
    "num_epochs = 10\n",
    "device = torch.device('cuda' if torch.cuda.is_available() else 'cpu')\n",
    "\n",
    "similarity_classifier = SimilarityClassifier(hidden_size = hidden_size)\n",
    "# Define the optimizer and learning rate\n",
    "optimizer = torch.optim.AdamW(similarity_classifier.parameters(), lr=0.001)\n",
    "\n",
    "# Train the model\n",
    "for epoch in range(num_epochs):\n",
    "    epoch_loss = 0.0  # initialize total loss for this epoch\n",
    "    for batch in dataloader:\n",
    "        input_ids = batch['input_ids'].to(device)\n",
    "        attention_mask = batch['attention_mask'].to(device)\n",
    "        target = batch['similarity'].to(device)\n",
    "\n",
    "        # Forward pass\n",
    "        output = similarity_classifier(input_ids=input_ids, attention_mask=attention_mask)\n",
    "        \n",
    "        loss = criterion(output.squeeze(1), target)\n",
    "        \n",
    "        # Backward pass\n",
    "        optimizer.zero_grad()\n",
    "        loss.backward()\n",
    "        optimizer.step()\n",
    "        \n",
    "        epoch_loss += loss.item()  # add batch loss to total epoch loss\n",
    "\n",
    "    avg_loss = epoch_loss / len(dataloader)  # compute average epoch loss\n",
    "    print(f\"Epoch {epoch+1}/{num_epochs}, Average Loss: {avg_loss:.4f}\")"
   ]
  },
  {
   "cell_type": "code",
   "execution_count": 191,
   "id": "44a95cb1",
   "metadata": {},
   "outputs": [],
   "source": [
    "test_df = pd.read_csv('../data/stsb-en-test.csv', usecols=[0,1,2], names=['sent1', 'sent2', 'score'], header=None)"
   ]
  },
  {
   "cell_type": "code",
   "execution_count": 192,
   "id": "563152c1",
   "metadata": {},
   "outputs": [],
   "source": [
    "test_sentence_pairs = []\n",
    "for index, row in test_df.iterrows():\n",
    "    test_sentence_pairs.append((row['sent1'], row['sent1']))"
   ]
  },
  {
   "cell_type": "code",
   "execution_count": 193,
   "id": "7a070e0a",
   "metadata": {},
   "outputs": [],
   "source": [
    "test_similarity_scores = list(test_df[\"score\"])"
   ]
  },
  {
   "cell_type": "code",
   "execution_count": 194,
   "id": "84a5d325",
   "metadata": {},
   "outputs": [],
   "source": [
    "# Create dataset and dataloader\n",
    "test_dataset = SimilarityDataset(test_sentence_pairs, test_similarity_scores, tokenizer, max_length)\n",
    "test_dataloader = DataLoader(test_dataset, batch_size=16, shuffle=True, collate_fn=pad_sequences)"
   ]
  },
  {
   "cell_type": "code",
   "execution_count": 195,
   "id": "dcf663dd",
   "metadata": {},
   "outputs": [
    {
     "name": "stdout",
     "output_type": "stream",
     "text": [
      "Test MSE: 2.7882, Test MAE: 1.3752, Test R2 Score: -0.1990\n"
     ]
    }
   ],
   "source": [
    "from sklearn.metrics import mean_squared_error, mean_absolute_error, r2_score\n",
    "\n",
    "# Put model in evaluation mode\n",
    "similarity_classifier.eval()\n",
    "\n",
    "# Initialize empty lists to store predictions and targets\n",
    "predictions = []\n",
    "targets = []\n",
    "\n",
    "# Evaluate the model on test dataset\n",
    "with torch.no_grad():\n",
    "    for batch in test_dataloader:\n",
    "        input_ids = batch['input_ids'].to(device)\n",
    "        attention_mask = batch['attention_mask'].to(device)\n",
    "        target = batch['similarity'].to(device)\n",
    "\n",
    "        # Forward pass\n",
    "        output = similarity_classifier(input_ids=input_ids, attention_mask=attention_mask)\n",
    "\n",
    "        # Append predictions and targets\n",
    "        predictions += output.squeeze(1).tolist()\n",
    "        targets += target.tolist()\n",
    "\n",
    "# Calculate and print evaluation metrics\n",
    "mse = mean_squared_error(targets, predictions)\n",
    "mae = mean_absolute_error(targets, predictions)\n",
    "r2 = r2_score(targets, predictions)\n",
    "\n",
    "print(f\"Test MSE: {mse:.4f}, Test MAE: {mae:.4f}, Test R2 Score: {r2:.4f}\")"
   ]
  },
  {
   "cell_type": "code",
   "execution_count": 197,
   "id": "f2b72704",
   "metadata": {},
   "outputs": [],
   "source": [
    "values = [max(0, min(value, 5)) for value in predictions]"
   ]
  },
  {
   "cell_type": "code",
   "execution_count": 198,
   "id": "a76c6d6e",
   "metadata": {},
   "outputs": [
    {
     "name": "stdout",
     "output_type": "stream",
     "text": [
      "Pearson correlation coefficient: 0.12\n"
     ]
    }
   ],
   "source": [
    "corr = pearson_corr(targets, values)\n",
    "\n",
    "# Print the correlation coefficient\n",
    "print(\"Pearson correlation coefficient: {:.2f}\".format(corr))"
   ]
  },
  {
   "cell_type": "code",
   "execution_count": null,
   "id": "2a07fd24",
   "metadata": {},
   "outputs": [],
   "source": []
  }
 ],
 "metadata": {
  "kernelspec": {
   "display_name": "nlp_venv",
   "language": "python",
   "name": "nlp_venv"
  },
  "language_info": {
   "codemirror_mode": {
    "name": "ipython",
    "version": 3
   },
   "file_extension": ".py",
   "mimetype": "text/x-python",
   "name": "python",
   "nbconvert_exporter": "python",
   "pygments_lexer": "ipython3",
   "version": "3.9.16"
  }
 },
 "nbformat": 4,
 "nbformat_minor": 5
}
