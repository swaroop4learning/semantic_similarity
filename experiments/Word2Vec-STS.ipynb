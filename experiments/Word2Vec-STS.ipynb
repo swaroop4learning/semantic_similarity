{
 "cells": [
  {
   "cell_type": "markdown",
   "id": "89c10e77",
   "metadata": {},
   "source": [
    "<h1>Word2Vec STS models - Mean approach</h1>"
   ]
  },
  {
   "cell_type": "markdown",
   "id": "0476cb6f",
   "metadata": {},
   "source": [
    "<p>Generate Word2vec embeddings for given corpus and average the embeddings to create sentence embeddings and apply following approaches for STS scores generation:</p>\n",
    "<li>Normalized Cosine Similarity scores</li>\n",
    "<li>Linear regression</li>\n",
    "<li>BiGRU based implementation</li>\n",
    "<li>BiLSTM based implementation</li>\n",
    "<li>BiLSTM Self Attention based implementation</li>"
   ]
  },
  {
   "cell_type": "markdown",
   "id": "4176df32",
   "metadata": {},
   "source": [
    "<p>Observations: Dataset is less and hence all neural network models are overfitting</p>"
   ]
  },
  {
   "cell_type": "code",
   "execution_count": 1,
   "id": "467ecb4f",
   "metadata": {},
   "outputs": [],
   "source": [
    "import pandas as pd\n",
    "import numpy as np"
   ]
  },
  {
   "cell_type": "code",
   "execution_count": 16,
   "id": "896febaa",
   "metadata": {},
   "outputs": [],
   "source": [
    "train_df = pd.read_csv('../data/cleaned_train_df.csv')\n",
    "val_df = pd.read_csv('../data/cleaned_val_df.csv')\n",
    "test_df = pd.read_csv('../data/cleaned_test_df.csv')"
   ]
  },
  {
   "cell_type": "code",
   "execution_count": 13,
   "id": "5bd6ca34",
   "metadata": {},
   "outputs": [],
   "source": [
    "import numpy as np\n",
    "import torch\n",
    "import torch.nn as nn\n",
    "from gensim.models import KeyedVectors\n",
    "\n",
    "# load pre-trained Word2Vec model\n",
    "model_path = \"../../introduction_to_nlp/GoogleNews-vectors-negative300.bin\"\n",
    "model = KeyedVectors.load_word2vec_format(model_path, binary=True)"
   ]
  },
  {
   "cell_type": "code",
   "execution_count": 17,
   "id": "c6b226c4",
   "metadata": {},
   "outputs": [],
   "source": [
    "train_df['sent1'] = train_df['sent1'].apply(eval)\n",
    "train_df['sent2'] = train_df['sent2'].apply(eval)\n",
    "train_sentences1 = list(train_df['sent1'])\n",
    "train_sentences2 = list(train_df['sent2'])\n",
    "train_similarity_scores = list(train_df['score'])"
   ]
  },
  {
   "cell_type": "code",
   "execution_count": 18,
   "id": "eb39805d",
   "metadata": {},
   "outputs": [],
   "source": [
    "val_df['sent1'] = val_df['sent1'].apply(eval)\n",
    "val_df['sent2'] = val_df['sent2'].apply(eval)\n",
    "val_sentences1 = list(val_df['sent1'])\n",
    "val_sentences2 = list(val_df['sent2'])\n",
    "val_similarity_scores = list(val_df['score'])"
   ]
  },
  {
   "cell_type": "code",
   "execution_count": 19,
   "id": "b880d756",
   "metadata": {},
   "outputs": [],
   "source": [
    "test_df['sent1'] = test_df['sent1'].apply(eval)\n",
    "test_df['sent2'] = test_df['sent2'].apply(eval)\n",
    "test_sentences1 = list(test_df['sent1'])\n",
    "test_sentences2 = list(test_df['sent2'])\n",
    "test_similarity_scores = list(test_df['score'])"
   ]
  },
  {
   "cell_type": "code",
   "execution_count": 20,
   "id": "87a2c14e",
   "metadata": {},
   "outputs": [],
   "source": [
    "# define a function to generate sentence embeddings\n",
    "def get_sentence_embedding(sentence, max_length=30):\n",
    "    # split sentence into words\n",
    "    #words = sentence.split()\n",
    "    words = sentence\n",
    "    # filter out words that are not present in the model's vocabulary\n",
    "    words = [word for word in words if word in model.key_to_index]\n",
    "    # generate word embeddings for each word\n",
    "    embeddings = [model[word] for word in words]\n",
    "    # pad embeddings with zeros if the sentence is shorter than max_length\n",
    "    embedding = np.mean(embeddings, axis=0)\n",
    "    return embedding"
   ]
  },
  {
   "cell_type": "code",
   "execution_count": 22,
   "id": "2abde267",
   "metadata": {},
   "outputs": [],
   "source": [
    "# generate sentence embeddings\n",
    "train_X1 = np.array([get_sentence_embedding(sentence) for sentence in train_sentences1])\n",
    "train_X2 = np.array([get_sentence_embedding(sentence) for sentence in train_sentences2])"
   ]
  },
  {
   "cell_type": "code",
   "execution_count": 24,
   "id": "252d0d2a",
   "metadata": {},
   "outputs": [],
   "source": [
    "train_X = np.concatenate([train_X1, train_X2], axis=1)"
   ]
  },
  {
   "cell_type": "code",
   "execution_count": 28,
   "id": "137d701e",
   "metadata": {},
   "outputs": [],
   "source": [
    "val_X1 = np.array([get_sentence_embedding(sentence) for sentence in val_sentences1])\n",
    "val_X2 = np.array([get_sentence_embedding(sentence) for sentence in val_sentences2])"
   ]
  },
  {
   "cell_type": "code",
   "execution_count": 29,
   "id": "a57d253a",
   "metadata": {},
   "outputs": [],
   "source": [
    "val_X = np.concatenate([val_X1, val_X2], axis=1)"
   ]
  },
  {
   "cell_type": "code",
   "execution_count": 36,
   "id": "5a651cde",
   "metadata": {},
   "outputs": [],
   "source": [
    "# generate sentence embeddings\n",
    "test_X1 = np.array([get_sentence_embedding(sentence) for sentence in test_sentences1])\n",
    "test_X2 = np.array([get_sentence_embedding(sentence) for sentence in test_sentences2])"
   ]
  },
  {
   "cell_type": "code",
   "execution_count": 37,
   "id": "35290d87",
   "metadata": {},
   "outputs": [],
   "source": [
    "test_X = np.concatenate([test_X1, test_X2], axis=1)"
   ]
  },
  {
   "cell_type": "code",
   "execution_count": 31,
   "id": "ce7bf434",
   "metadata": {},
   "outputs": [],
   "source": [
    "def sts_score(sim_score):\n",
    "    sts_score = (sim_score+1) * 2.5\n",
    "    return sts_score"
   ]
  },
  {
   "cell_type": "code",
   "execution_count": 32,
   "id": "4b30a3b6",
   "metadata": {},
   "outputs": [],
   "source": [
    "from scipy import spatial\n",
    "from scipy.stats import pearsonr\n",
    "\n",
    "def get_sts_scores(emb1_lt, emb2_lt):\n",
    "    y_pred = []\n",
    "    for i in range(len(emb1_lt)):\n",
    "        sim_score = 1 - spatial.distance.cosine(emb1_lt[i], emb2_lt[i])\n",
    "        y_pred.append(sts_score(sim_score))\n",
    "    return y_pred\n",
    "    \n",
    "def pearson_corr(y_true, y_pred):\n",
    "    \"\"\"\n",
    "    Calculate Pearson correlation coefficient between two arrays.\n",
    "    \"\"\"\n",
    "    corr, _ = pearsonr(y_true, y_pred)\n",
    "    return corr"
   ]
  },
  {
   "cell_type": "markdown",
   "id": "53cfd51a",
   "metadata": {},
   "source": [
    "# Normalized Cosine Similarity"
   ]
  },
  {
   "cell_type": "code",
   "execution_count": 33,
   "id": "c6d723fc",
   "metadata": {},
   "outputs": [],
   "source": [
    "train_y_pred = get_sts_scores(train_X1, train_X2)"
   ]
  },
  {
   "cell_type": "code",
   "execution_count": 34,
   "id": "32c82f02",
   "metadata": {},
   "outputs": [],
   "source": [
    "val_y_pred = get_sts_scores(val_X1, val_X2)"
   ]
  },
  {
   "cell_type": "code",
   "execution_count": 38,
   "id": "a241827c",
   "metadata": {},
   "outputs": [],
   "source": [
    "test_y_pred = get_sts_scores(test_X1, test_X2)"
   ]
  },
  {
   "cell_type": "code",
   "execution_count": 39,
   "id": "acd96a7e",
   "metadata": {},
   "outputs": [
    {
     "name": "stdout",
     "output_type": "stream",
     "text": [
      "Pearson correlation coefficient: 0.64\n"
     ]
    }
   ],
   "source": [
    "corr = pearson_corr(train_similarity_scores, train_y_pred)\n",
    "print(\"Pearson correlation coefficient: {:.2f}\".format(corr))"
   ]
  },
  {
   "cell_type": "code",
   "execution_count": 40,
   "id": "f6beedfc",
   "metadata": {},
   "outputs": [
    {
     "name": "stdout",
     "output_type": "stream",
     "text": [
      "Pearson correlation coefficient: 0.68\n"
     ]
    }
   ],
   "source": [
    "corr = pearson_corr(val_similarity_scores, val_y_pred)\n",
    "print(\"Pearson correlation coefficient: {:.2f}\".format(corr))"
   ]
  },
  {
   "cell_type": "code",
   "execution_count": 41,
   "id": "70edaf0d",
   "metadata": {},
   "outputs": [
    {
     "name": "stdout",
     "output_type": "stream",
     "text": [
      "Pearson correlation coefficient: 0.55\n"
     ]
    }
   ],
   "source": [
    "corr = pearson_corr(test_similarity_scores, test_y_pred)\n",
    "print(\"Pearson correlation coefficient: {:.2f}\".format(corr))"
   ]
  },
  {
   "cell_type": "markdown",
   "id": "9dd5a2e9",
   "metadata": {},
   "source": [
    "# Residual analysis"
   ]
  },
  {
   "cell_type": "code",
   "execution_count": 185,
   "id": "2556ca50",
   "metadata": {},
   "outputs": [],
   "source": [
    "row_max_len = lambda row: max(len(row['sent1']), len(row['sent2']))"
   ]
  },
  {
   "cell_type": "code",
   "execution_count": 188,
   "id": "d7c0e320",
   "metadata": {},
   "outputs": [],
   "source": [
    "train_df['sent_len'] = train_df.apply(row_max_len, axis=1)"
   ]
  },
  {
   "cell_type": "code",
   "execution_count": 189,
   "id": "888b3e4f",
   "metadata": {},
   "outputs": [],
   "source": [
    "val_df['sent_len'] = val_df.apply(row_max_len, axis=1)"
   ]
  },
  {
   "cell_type": "code",
   "execution_count": 190,
   "id": "ea4ef91e",
   "metadata": {},
   "outputs": [],
   "source": [
    "test_df['sent_len'] = test_df.apply(row_max_len, axis=1)"
   ]
  },
  {
   "cell_type": "code",
   "execution_count": 191,
   "id": "68b9eb39",
   "metadata": {},
   "outputs": [],
   "source": [
    "train_df['diff'] = abs(train_df['score'] - train_y_pred)"
   ]
  },
  {
   "cell_type": "code",
   "execution_count": 192,
   "id": "4e325ebb",
   "metadata": {},
   "outputs": [],
   "source": [
    "val_df['diff'] = abs(val_df['score'] - val_y_pred)"
   ]
  },
  {
   "cell_type": "code",
   "execution_count": 193,
   "id": "64a875c0",
   "metadata": {},
   "outputs": [],
   "source": [
    "test_df['diff'] = abs(test_df['score'] - test_y_pred)"
   ]
  },
  {
   "cell_type": "code",
   "execution_count": 194,
   "id": "6f8ca4c1",
   "metadata": {},
   "outputs": [
    {
     "name": "stderr",
     "output_type": "stream",
     "text": [
      "/var/folders/gb/8lc9v2sx5mq19kgysgv67bzw0000gn/T/ipykernel_1636/1448148412.py:1: FutureWarning: The default value of numeric_only in DataFrameGroupBy.mean is deprecated. In a future version, numeric_only will default to False. Either specify numeric_only or select only columns which should be valid for the function.\n",
      "  grouped_df = train_df.groupby(['sent_len']).mean()\n"
     ]
    }
   ],
   "source": [
    "grouped_df = train_df.groupby(['sent_len']).mean()"
   ]
  },
  {
   "cell_type": "code",
   "execution_count": 195,
   "id": "1513341e",
   "metadata": {},
   "outputs": [],
   "source": [
    "grouped_df['sent_length'] = grouped_df.index"
   ]
  },
  {
   "cell_type": "code",
   "execution_count": 197,
   "id": "3a5dfd80",
   "metadata": {},
   "outputs": [
    {
     "data": {
      "image/png": "[encoded data removed]",
      "text/plain": [
       "<Figure size 800x600 with 1 Axes>"
      ]
     },
     "metadata": {},
     "output_type": "display_data"
    }
   ],
   "source": [
    "import matplotlib.pyplot as plt\n",
    "fig, ax = plt.subplots(figsize=(8, 6))\n",
    "ax.scatter(list(grouped_df.index), list(grouped_df['diff']))\n",
    "plt.title(\"average error trend in training data\")\n",
    "plt.xlabel(\"sentence length\")\n",
    "plt.ylabel(\"average difference\")\n",
    "plt.show()"
   ]
  },
  {
   "cell_type": "code",
   "execution_count": 198,
   "id": "658783a4",
   "metadata": {},
   "outputs": [
    {
     "name": "stderr",
     "output_type": "stream",
     "text": [
      "/var/folders/gb/8lc9v2sx5mq19kgysgv67bzw0000gn/T/ipykernel_1636/640488790.py:1: FutureWarning: The default value of numeric_only in DataFrameGroupBy.mean is deprecated. In a future version, numeric_only will default to False. Either specify numeric_only or select only columns which should be valid for the function.\n",
      "  grouped_val = val_df.groupby(['sent_len']).mean()\n"
     ]
    }
   ],
   "source": [
    "grouped_val = val_df.groupby(['sent_len']).mean()"
   ]
  },
  {
   "cell_type": "code",
   "execution_count": 199,
   "id": "8ad43eaa",
   "metadata": {},
   "outputs": [
    {
     "data": {
      "image/png": "[encoded data removed]",
      "text/plain": [
       "<Figure size 800x600 with 1 Axes>"
      ]
     },
     "metadata": {},
     "output_type": "display_data"
    }
   ],
   "source": [
    "fig, ax = plt.subplots(figsize=(8, 6))\n",
    "ax.scatter(list(grouped_val.index), list(grouped_val['diff']))\n",
    "plt.title(\"average error trend in validation data\")\n",
    "plt.xlabel(\"sentence length\")\n",
    "plt.ylabel(\"average difference\")\n",
    "plt.show()"
   ]
  },
  {
   "cell_type": "code",
   "execution_count": 200,
   "id": "4a2a38be",
   "metadata": {},
   "outputs": [
    {
     "name": "stderr",
     "output_type": "stream",
     "text": [
      "/var/folders/gb/8lc9v2sx5mq19kgysgv67bzw0000gn/T/ipykernel_1636/1156243688.py:1: FutureWarning: The default value of numeric_only in DataFrameGroupBy.mean is deprecated. In a future version, numeric_only will default to False. Either specify numeric_only or select only columns which should be valid for the function.\n",
      "  grouped_test = test_df.groupby(['sent_len']).mean()\n"
     ]
    }
   ],
   "source": [
    "grouped_test = test_df.groupby(['sent_len']).mean()"
   ]
  },
  {
   "cell_type": "code",
   "execution_count": 201,
   "id": "f1896685",
   "metadata": {},
   "outputs": [
    {
     "data": {
      "image/png": "[encoded data removed]",
      "text/plain": [
       "<Figure size 800x600 with 1 Axes>"
      ]
     },
     "metadata": {},
     "output_type": "display_data"
    }
   ],
   "source": [
    "fig, ax = plt.subplots(figsize=(8, 6))\n",
    "ax.scatter(list(grouped_test.index), list(grouped_test['diff']))\n",
    "plt.title(\"average error trend in test data\")\n",
    "plt.xlabel(\"sentence length\")\n",
    "plt.ylabel(\"average difference\")\n",
    "plt.show()"
   ]
  },
  {
   "cell_type": "markdown",
   "id": "85af9cb5",
   "metadata": {},
   "source": [
    "# Linear Regression"
   ]
  },
  {
   "cell_type": "code",
   "execution_count": 27,
   "id": "fc342dc0",
   "metadata": {},
   "outputs": [],
   "source": [
    "from sklearn.linear_model import LinearRegression\n",
    "# train a linear regression model\n",
    "reg = LinearRegression().fit(train_X, train_similarity_scores)"
   ]
  },
  {
   "cell_type": "code",
   "execution_count": 42,
   "id": "52b683f3",
   "metadata": {},
   "outputs": [],
   "source": [
    "val_y_pred = reg.predict(val_X)"
   ]
  },
  {
   "cell_type": "code",
   "execution_count": 43,
   "id": "8ecd3ab5",
   "metadata": {},
   "outputs": [
    {
     "name": "stdout",
     "output_type": "stream",
     "text": [
      "Pearson correlation coefficient: 0.16\n"
     ]
    }
   ],
   "source": [
    "corr = pearson_corr(val_similarity_scores, val_y_pred)\n",
    "print(\"Pearson correlation coefficient: {:.2f}\".format(corr))"
   ]
  },
  {
   "cell_type": "code",
   "execution_count": 44,
   "id": "a543b969",
   "metadata": {},
   "outputs": [],
   "source": [
    "test_y_pred = reg.predict(test_X)"
   ]
  },
  {
   "cell_type": "code",
   "execution_count": 45,
   "id": "4ae7a215",
   "metadata": {},
   "outputs": [
    {
     "name": "stdout",
     "output_type": "stream",
     "text": [
      "Pearson correlation coefficient: 0.19\n"
     ]
    }
   ],
   "source": [
    "corr = pearson_corr(test_similarity_scores, test_y_pred)\n",
    "print(\"Pearson correlation coefficient: {:.2f}\".format(corr))"
   ]
  },
  {
   "cell_type": "code",
   "execution_count": 46,
   "id": "1cb1c9da",
   "metadata": {},
   "outputs": [],
   "source": [
    "import torch\n",
    "import torch.nn as nn\n",
    "import torch.optim as optim"
   ]
  },
  {
   "cell_type": "code",
   "execution_count": 67,
   "id": "abda4744",
   "metadata": {},
   "outputs": [],
   "source": [
    "# Convert the data into PyTorch tensors\n",
    "train_embeddings1 = torch.tensor(train_X1, dtype=torch.float)\n",
    "train_embeddings2 = torch.tensor(train_X2, dtype=torch.float)\n",
    "scores = torch.tensor(train_similarity_scores, dtype=torch.float)"
   ]
  },
  {
   "cell_type": "code",
   "execution_count": 68,
   "id": "14dcc288",
   "metadata": {},
   "outputs": [],
   "source": [
    "val_embeddings1 = torch.tensor(val_X1, dtype=torch.float)\n",
    "val_embeddings2 = torch.tensor(val_X2, dtype=torch.float)\n",
    "val_scores = torch.tensor(val_similarity_scores, dtype=torch.float)"
   ]
  },
  {
   "cell_type": "code",
   "execution_count": 81,
   "id": "a6fc0609",
   "metadata": {},
   "outputs": [],
   "source": [
    "test_embeddings1 = torch.tensor(test_X1, dtype=torch.float)\n",
    "test_embeddings2 = torch.tensor(test_X2, dtype=torch.float)\n",
    "test_scores = torch.tensor(test_similarity_scores, dtype=torch.float)"
   ]
  },
  {
   "cell_type": "code",
   "execution_count": 351,
   "id": "4a2154b9",
   "metadata": {},
   "outputs": [],
   "source": [
    "# Define the hyperparameters\n",
    "input_dim = 300 # The dimension of the sentence embeddings\n",
    "hidden_dim = 150\n",
    "lr = 0.001\n",
    "num_epochs = 15\n",
    "#batch_size = 10"
   ]
  },
  {
   "cell_type": "code",
   "execution_count": 352,
   "id": "ad5164df",
   "metadata": {},
   "outputs": [],
   "source": [
    "# class BiLSTMRegression(nn.Module):\n",
    "#     def __init__(self, input_dim, hidden_dim, num_layers):\n",
    "#         super().__init__()\n",
    "#         self.input_dim = input_dim\n",
    "#         self.hidden_dim = hidden_dim\n",
    "#         self.num_layers = num_layers\n",
    "#         self.bilstm = nn.LSTM(input_dim, hidden_dim, num_layers=num_layers, batch_first=True, bidirectional=True)\n",
    "#         self.fc = nn.Linear(hidden_dim*2, 1)\n",
    "\n",
    "#     def forward(self, x1, x2):\n",
    "#         x = torch.cat((x1, x2), dim=1)\n",
    "#         x = x.view(len(x), 1, -1)\n",
    "#         h0 = torch.zeros(self.num_layers*2, len(x), self.hidden_dim).to(x.device)\n",
    "#         c0 = torch.zeros(self.num_layers*2, len(x), self.hidden_dim).to(x.device)\n",
    "#         out, _ = self.bilstm(x, (h0, c0))\n",
    "#         out = self.fc(out[:, -1, :])\n",
    "#         return out\n",
    "    \n",
    "class BiLSTMRegression(nn.Module):\n",
    "    def __init__(self, input_dim, hidden_dim, num_layers, dropout_prob):\n",
    "        super().__init__()\n",
    "        self.input_dim = input_dim\n",
    "        self.hidden_dim = hidden_dim\n",
    "        self.num_layers = num_layers\n",
    "        self.dropout_prob = dropout_prob\n",
    "        self.bilstm = nn.LSTM(input_dim, hidden_dim, num_layers=num_layers, batch_first=True, bidirectional=True)\n",
    "        self.dropout = nn.Dropout(dropout_prob)\n",
    "        self.fc = nn.Linear(hidden_dim*2, 1)\n",
    "\n",
    "    def forward(self, x1, x2):\n",
    "        x = torch.cat((x1, x2), dim=1)\n",
    "        x = x.view(len(x), 1, -1)\n",
    "        h0 = torch.zeros(self.num_layers*2, len(x), self.hidden_dim).to(x.device)\n",
    "        c0 = torch.zeros(self.num_layers*2, len(x), self.hidden_dim).to(x.device)\n",
    "        out, _ = self.bilstm(x, (h0, c0))\n",
    "        out = self.dropout(out) # Apply dropout\n",
    "        out = self.fc(out[:, -1, :])\n",
    "        return out\n",
    "\n",
    "    \n",
    "\n",
    "class GRURegression(nn.Module):\n",
    "    def __init__(self, input_dim, hidden_dim, num_layers):\n",
    "        super().__init__()\n",
    "        self.input_dim = input_dim\n",
    "        self.hidden_dim = hidden_dim\n",
    "        self.num_layers = num_layers\n",
    "        self.gru = nn.GRU(input_dim, hidden_dim, num_layers=num_layers, batch_first=True, bidirectional=True)\n",
    "        self.fc = nn.Linear(hidden_dim*2, 1)\n",
    "\n",
    "    def forward(self, x1, x2):\n",
    "        x = torch.cat((x1, x2), dim=1)\n",
    "        x = x.view(len(x), 1, -1)\n",
    "        h0 = torch.zeros(self.num_layers*2, len(x), self.hidden_dim).to(x.device)\n",
    "        out, _ = self.gru(x, h0)\n",
    "        out = self.fc(out[:, -1, :])\n",
    "        return out\n",
    "\n",
    "\n",
    "class BiLSTMAttention(nn.Module):\n",
    "    def __init__(self, input_dim, hidden_dim, num_layers, attention_dim):\n",
    "        super().__init__()\n",
    "        self.input_dim = input_dim\n",
    "        self.hidden_dim = hidden_dim\n",
    "        self.num_layers = num_layers\n",
    "        self.attention_dim = attention_dim\n",
    "        self.bilstm = nn.LSTM(input_dim, hidden_dim, num_layers=num_layers, batch_first=True, bidirectional=True)\n",
    "        self.attention = SelfAttention(hidden_dim*2, attention_dim, 1)\n",
    "        #self.attention = nn.Linear(hidden_dim*2, attention_dim)\n",
    "        #self.softmax = nn.Softmax(dim=1)\n",
    "        self.fc = nn.Linear(hidden_dim*2, 1)\n",
    "\n",
    "    def forward(self, x1, x2):\n",
    "        x = torch.cat((x1, x2), dim=1)\n",
    "        x = x.view(len(x), 1, -1)\n",
    "        h0 = torch.zeros(self.num_layers*2, len(x), self.hidden_dim).to(x.device)\n",
    "        c0 = torch.zeros(self.num_layers*2, len(x), self.hidden_dim).to(x.device)\n",
    "        out, _ = self.bilstm(x, (h0, c0))\n",
    "        #att_weights = self.softmax(self.attention(out))\n",
    "        att_weights = self.attention(out)\n",
    "        out = torch.sum(out * att_weights, dim=1)\n",
    "        out = self.fc(out)\n",
    "        return out\n",
    "\n",
    "class SelfAttention(nn.Module):\n",
    "    \"\"\"\n",
    "    Implementation of the attention block\n",
    "    \"\"\"\n",
    "\n",
    "    def __init__(self, input_size, hidden_size, output_size):\n",
    "        super(SelfAttention, self).__init__()\n",
    "        # TODO implement\n",
    "\n",
    "        # constructing linear layers with weights analogous to Ws1 and Ws2\n",
    "        self.layer1 = nn.Linear(input_size, hidden_size, bias=False)\n",
    "        self.layer2 = nn.Linear(hidden_size, output_size, bias=False)\n",
    "        self.softmax = nn.Softmax(dim=1)\n",
    "\n",
    "    ## the forward function would receive lstm's all hidden states as input\n",
    "    def forward(self, attention_input):\n",
    "        # TODO implement\n",
    "\n",
    "        # implementing the attention mechanism\n",
    "        output = self.layer1(attention_input)\n",
    "        output = torch.tanh(output)\n",
    "        output = self.layer2(output)\n",
    "        #output = F.softmax(output.transpose(1,2), dim=2)\n",
    "        output = self.softmax(output)\n",
    "\n",
    "        return output"
   ]
  },
  {
   "cell_type": "code",
   "execution_count": 353,
   "id": "36f25e90",
   "metadata": {},
   "outputs": [],
   "source": [
    "model = GRURegression(input_dim*2, hidden_dim, num_layers=2)\n",
    "#model = BiLSTMRegression(input_dim*2, hidden_dim, num_layers=2, dropout_prob = 0.3)\n",
    "#model = BiLSTMAttention(input_dim*2, hidden_dim, num_layers=2, attention_dim=600)"
   ]
  },
  {
   "cell_type": "code",
   "execution_count": 354,
   "id": "44c68afe",
   "metadata": {},
   "outputs": [],
   "source": [
    "optimizer = optim.Adam(model.parameters(), lr=lr, weight_decay=1e-5)\n",
    "\n",
    "# Define the loss function\n",
    "loss_fn = nn.MSELoss()"
   ]
  },
  {
   "cell_type": "code",
   "execution_count": 335,
   "id": "10e9abe8",
   "metadata": {},
   "outputs": [],
   "source": [
    "import torch.utils.data as data\n",
    "\n",
    "# Define a custom dataset class\n",
    "class SentenceSimilarityDataset(data.Dataset):\n",
    "    def __init__(self, embeddings1, embeddings2, scores):\n",
    "        self.embeddings1 = embeddings1\n",
    "        self.embeddings2 = embeddings2\n",
    "        self.scores = scores\n",
    "\n",
    "    def __len__(self):\n",
    "        return len(self.embeddings1)\n",
    "\n",
    "    def __getitem__(self, index):\n",
    "        return self.embeddings1[index], self.embeddings2[index], self.scores[index]"
   ]
  },
  {
   "cell_type": "code",
   "execution_count": 336,
   "id": "f6f52262",
   "metadata": {},
   "outputs": [],
   "source": [
    "# Create the dataset\n",
    "train_dataset = SentenceSimilarityDataset(train_embeddings1, train_embeddings2, scores)\n",
    "val_dataset = SentenceSimilarityDataset(val_embeddings1, val_embeddings2, val_scores)"
   ]
  },
  {
   "cell_type": "code",
   "execution_count": 337,
   "id": "e7669f43",
   "metadata": {},
   "outputs": [],
   "source": [
    "# Define the batch size\n",
    "batch_size = 10\n",
    "\n",
    "# Create the DataLoader\n",
    "train_dataloader = data.DataLoader(train_dataset, batch_size=batch_size, shuffle=True)\n",
    "val_dataloader = data.DataLoader(val_dataset, batch_size=batch_size, shuffle=True)"
   ]
  },
  {
   "cell_type": "code",
   "execution_count": 355,
   "id": "62bb7a11",
   "metadata": {},
   "outputs": [],
   "source": [
    "def train(model, optimizer, num_epochs, train_dataloader, val_dataloader):\n",
    "    train_losses = []\n",
    "    val_losses = []\n",
    "    for epoch in range(num_epochs):\n",
    "        model.train()\n",
    "        train_loss = 0.0\n",
    "        for batch in train_dataloader:\n",
    "            optimizer.zero_grad()\n",
    "            embeddings1_batch, embeddings2_batch, scores_batch = batch\n",
    "            output = model(embeddings1_batch, embeddings2_batch)\n",
    "            loss = loss_fn(output.squeeze(), scores_batch)\n",
    "            loss.backward()\n",
    "            optimizer.step()\n",
    "            train_loss += loss.item() * len(embeddings1_batch)\n",
    "        train_loss /= len(train_dataloader)\n",
    "        train_losses.append(train_loss)\n",
    "\n",
    "    # Evaluate the model on the validation set\n",
    "        model.eval()\n",
    "        val_loss = 0.0\n",
    "        with torch.no_grad():\n",
    "            for batch in val_dataloader:\n",
    "                embeddings1_batch, embeddings2_batch, scores_batch = batch\n",
    "                val_output = model(embeddings1_batch, embeddings2_batch)\n",
    "                val_loss += loss_fn(val_output.squeeze(), scores_batch).item() * len(embeddings1_batch)\n",
    "            val_loss /= len(val_dataloader)\n",
    "            val_losses.append(val_loss)\n",
    "\n",
    "        print('Epoch {} - Training Loss: {:.4f}, Validation Loss: {:.4f}'.format(epoch+1, train_loss, val_loss))\n",
    "    return train_losses, val_losses"
   ]
  },
  {
   "cell_type": "code",
   "execution_count": 356,
   "id": "259c013a",
   "metadata": {},
   "outputs": [
    {
     "name": "stdout",
     "output_type": "stream",
     "text": [
      "Epoch 1 - Training Loss: 21.8529, Validation Loss: 23.2094\n",
      "Epoch 2 - Training Loss: 19.3835, Validation Loss: 25.6779\n",
      "Epoch 3 - Training Loss: 18.6548, Validation Loss: 22.0409\n",
      "Epoch 4 - Training Loss: 17.5821, Validation Loss: 22.4292\n",
      "Epoch 5 - Training Loss: 16.4598, Validation Loss: 23.0729\n",
      "Epoch 6 - Training Loss: 14.9232, Validation Loss: 20.3532\n",
      "Epoch 7 - Training Loss: 13.7784, Validation Loss: 20.4192\n",
      "Epoch 8 - Training Loss: 12.7430, Validation Loss: 20.7099\n",
      "Epoch 9 - Training Loss: 11.7858, Validation Loss: 20.5297\n",
      "Epoch 10 - Training Loss: 10.9526, Validation Loss: 20.0335\n",
      "Epoch 11 - Training Loss: 9.9446, Validation Loss: 20.8700\n",
      "Epoch 12 - Training Loss: 9.1429, Validation Loss: 21.0070\n",
      "Epoch 13 - Training Loss: 8.4324, Validation Loss: 20.8112\n",
      "Epoch 14 - Training Loss: 7.7174, Validation Loss: 20.1883\n",
      "Epoch 15 - Training Loss: 7.0928, Validation Loss: 21.1656\n"
     ]
    }
   ],
   "source": [
    "train_losses, val_losses = train(model, optimizer, num_epochs, train_dataloader, val_dataloader)"
   ]
  },
  {
   "cell_type": "code",
   "execution_count": null,
   "id": "49ebd955",
   "metadata": {},
   "outputs": [],
   "source": [
    "#BiGRU Analysis"
   ]
  },
  {
   "cell_type": "code",
   "execution_count": 359,
   "id": "415df48f",
   "metadata": {},
   "outputs": [
    {
     "data": {
      "image/png": "[encoded data removed]",
      "text/plain": [
       "<Figure size 640x480 with 1 Axes>"
      ]
     },
     "metadata": {},
     "output_type": "display_data"
    },
    {
     "name": "stdout",
     "output_type": "stream",
     "text": [
      "\t More Data needed\t\n"
     ]
    }
   ],
   "source": [
    "import matplotlib.pyplot as plt\n",
    "\n",
    "\n",
    "\n",
    "# Define the data\n",
    "epochs = range(1, 16)\n",
    "#train_losses = train_loss\n",
    "#val_losses = val_loss\n",
    "\n",
    "# Plot the data\n",
    "plt.plot(epochs, train_losses, label='Training Loss')\n",
    "plt.plot(epochs, val_losses, label='Validation Loss')\n",
    "\n",
    "# Add labels and title\n",
    "plt.xlabel('Epoch')\n",
    "plt.ylabel('Loss')\n",
    "plt.title('Train vs Validation Loss for BiGRU')\n",
    "\n",
    "# Add legend\n",
    "plt.legend()\n",
    "\n",
    "# Show the plot\n",
    "plt.show()\n",
    "print(\"\\t More Data needed\\t\")"
   ]
  },
  {
   "cell_type": "code",
   "execution_count": 360,
   "id": "36ef8c11",
   "metadata": {},
   "outputs": [
    {
     "name": "stdout",
     "output_type": "stream",
     "text": [
      "Pearson correlation coefficient: 0.86\n"
     ]
    }
   ],
   "source": [
    "y_pred = evaluate(model, train_embeddings1, train_embeddings2)\n",
    "corr = pearson_corr(train_similarity_scores, y_pred)\n",
    "print(\"Pearson correlation coefficient: {:.2f}\".format(corr))"
   ]
  },
  {
   "cell_type": "code",
   "execution_count": 361,
   "id": "960f38fc",
   "metadata": {},
   "outputs": [
    {
     "name": "stdout",
     "output_type": "stream",
     "text": [
      "Pearson correlation coefficient: 0.40\n"
     ]
    }
   ],
   "source": [
    "y_pred = evaluate(model, val_embeddings1, val_embeddings2)\n",
    "corr = pearson_corr(val_similarity_scores, y_pred)\n",
    "print(\"Pearson correlation coefficient: {:.2f}\".format(corr))"
   ]
  },
  {
   "cell_type": "code",
   "execution_count": 357,
   "id": "5223511e",
   "metadata": {},
   "outputs": [
    {
     "name": "stdout",
     "output_type": "stream",
     "text": [
      "Pearson correlation coefficient: 0.39\n"
     ]
    }
   ],
   "source": [
    "y_pred_test = evaluate(model, test_embeddings1, test_embeddings2)\n",
    "corr = pearson_corr(test_similarity_scores, y_pred_test)\n",
    "print(\"Pearson correlation coefficient: {:.2f}\".format(corr))"
   ]
  },
  {
   "cell_type": "code",
   "execution_count": null,
   "id": "3f320a54",
   "metadata": {},
   "outputs": [],
   "source": [
    "#BiLstm Analysis"
   ]
  },
  {
   "cell_type": "code",
   "execution_count": 340,
   "id": "b635800d",
   "metadata": {},
   "outputs": [
    {
     "data": {
      "image/png": "[encoded data removed]",
      "text/plain": [
       "<Figure size 640x480 with 1 Axes>"
      ]
     },
     "metadata": {},
     "output_type": "display_data"
    },
    {
     "name": "stdout",
     "output_type": "stream",
     "text": [
      "\t Overfitting due to model complexity\t\n"
     ]
    }
   ],
   "source": [
    "import matplotlib.pyplot as plt\n",
    "\n",
    "\n",
    "\n",
    "# Define the data\n",
    "epochs = range(1, 9)\n",
    "#train_losses = train_loss\n",
    "#val_losses = val_loss\n",
    "\n",
    "# Plot the data\n",
    "plt.plot(epochs, train_losses, label='Training Loss')\n",
    "plt.plot(epochs, val_losses, label='Validation Loss')\n",
    "\n",
    "# Add labels and title\n",
    "plt.xlabel('Epoch')\n",
    "plt.ylabel('Loss')\n",
    "plt.title('Train vs Validation Loss for BiLSTM')\n",
    "\n",
    "# Add legend\n",
    "plt.legend()\n",
    "\n",
    "# Show the plot\n",
    "plt.show()\n",
    "print(\"\\t Overfitting due to model complexity\\t\")"
   ]
  },
  {
   "cell_type": "code",
   "execution_count": 341,
   "id": "b72fea9a",
   "metadata": {},
   "outputs": [
    {
     "name": "stdout",
     "output_type": "stream",
     "text": [
      "Pearson correlation coefficient: 0.71\n"
     ]
    }
   ],
   "source": [
    "y_pred = evaluate(model, train_embeddings1, train_embeddings2)\n",
    "corr = pearson_corr(train_similarity_scores, y_pred)\n",
    "print(\"Pearson correlation coefficient: {:.2f}\".format(corr))"
   ]
  },
  {
   "cell_type": "code",
   "execution_count": 342,
   "id": "772e651e",
   "metadata": {},
   "outputs": [
    {
     "name": "stdout",
     "output_type": "stream",
     "text": [
      "Pearson correlation coefficient: 0.35\n"
     ]
    }
   ],
   "source": [
    "y_pred = evaluate(model, val_embeddings1, val_embeddings2)\n",
    "corr = pearson_corr(val_similarity_scores, y_pred)\n",
    "print(\"Pearson correlation coefficient: {:.2f}\".format(corr))"
   ]
  },
  {
   "cell_type": "code",
   "execution_count": 343,
   "id": "63898400",
   "metadata": {},
   "outputs": [
    {
     "name": "stdout",
     "output_type": "stream",
     "text": [
      "Pearson correlation coefficient: 0.38\n"
     ]
    }
   ],
   "source": [
    "y_pred_test = evaluate(model, test_embeddings1, test_embeddings2)\n",
    "corr = pearson_corr(test_similarity_scores, y_pred_test)\n",
    "print(\"Pearson correlation coefficient: {:.2f}\".format(corr))"
   ]
  },
  {
   "cell_type": "code",
   "execution_count": 230,
   "id": "29ba7092",
   "metadata": {},
   "outputs": [
    {
     "data": {
      "text/plain": [
       "(30, 30)"
      ]
     },
     "execution_count": 230,
     "metadata": {},
     "output_type": "execute_result"
    }
   ],
   "source": [
    "len(train_losses), len(val_losses)"
   ]
  },
  {
   "cell_type": "code",
   "execution_count": 245,
   "id": "65a203c9",
   "metadata": {},
   "outputs": [],
   "source": [
    "# BiLSTM Attention analysis"
   ]
  },
  {
   "cell_type": "code",
   "execution_count": 235,
   "id": "b27e596f",
   "metadata": {},
   "outputs": [
    {
     "data": {
      "image/png": "[encoded data removed]",
      "text/plain": [
       "<Figure size 640x480 with 1 Axes>"
      ]
     },
     "metadata": {},
     "output_type": "display_data"
    },
    {
     "name": "stdout",
     "output_type": "stream",
     "text": [
      "\t Overfitting due to model complexity\t\n"
     ]
    }
   ],
   "source": [
    "import matplotlib.pyplot as plt\n",
    "\n",
    "\n",
    "\n",
    "# Define the data\n",
    "epochs = range(1, 31)\n",
    "#train_losses = train_loss\n",
    "#val_losses = val_loss\n",
    "\n",
    "# Plot the data\n",
    "plt.plot(epochs, train_losses, label='Training Loss')\n",
    "plt.plot(epochs, val_losses, label='Validation Loss')\n",
    "\n",
    "# Add labels and title\n",
    "plt.xlabel('Epoch')\n",
    "plt.ylabel('Loss')\n",
    "plt.title('Train vs Validation Loss for BiLSTM-SelfAttention')\n",
    "\n",
    "# Add legend\n",
    "plt.legend()\n",
    "\n",
    "# Show the plot\n",
    "plt.show()\n",
    "print(\"\\t Overfitting due to model complexity\\t\")"
   ]
  },
  {
   "cell_type": "code",
   "execution_count": null,
   "id": "aef69ab8",
   "metadata": {},
   "outputs": [],
   "source": [
    "# Apply on train and validation data"
   ]
  },
  {
   "cell_type": "code",
   "execution_count": 241,
   "id": "87786a4c",
   "metadata": {},
   "outputs": [],
   "source": [
    "def evaluate(model, emb1, emb2):\n",
    "    model.eval()\n",
    "    with torch.no_grad():\n",
    "        test_output = model(emb1, emb2)\n",
    "    y_pred_test = test_output.squeeze().tolist()\n",
    "    return y_pred_test"
   ]
  },
  {
   "cell_type": "code",
   "execution_count": 243,
   "id": "5219194c",
   "metadata": {},
   "outputs": [
    {
     "name": "stdout",
     "output_type": "stream",
     "text": [
      "Pearson correlation coefficient: 0.97\n"
     ]
    }
   ],
   "source": [
    "y_pred = evaluate(model, train_embeddings1, train_embeddings2)\n",
    "corr = pearson_corr(train_similarity_scores, y_pred)\n",
    "print(\"Pearson correlation coefficient: {:.2f}\".format(corr))"
   ]
  },
  {
   "cell_type": "code",
   "execution_count": 244,
   "id": "776c19c2",
   "metadata": {},
   "outputs": [
    {
     "name": "stdout",
     "output_type": "stream",
     "text": [
      "Pearson correlation coefficient: 0.38\n"
     ]
    }
   ],
   "source": [
    "y_pred = evaluate(model, val_embeddings1, val_embeddings2)\n",
    "corr = pearson_corr(val_similarity_scores, y_pred)\n",
    "print(\"Pearson correlation coefficient: {:.2f}\".format(corr))"
   ]
  },
  {
   "cell_type": "code",
   "execution_count": 242,
   "id": "8c52b8aa",
   "metadata": {},
   "outputs": [
    {
     "name": "stdout",
     "output_type": "stream",
     "text": [
      "Pearson correlation coefficient: 0.34\n"
     ]
    }
   ],
   "source": [
    "y_pred_test = evaluate(model, test_embeddings1, test_embeddings2)\n",
    "corr = pearson_corr(test_similarity_scores, y_pred_test)\n",
    "print(\"Pearson correlation coefficient: {:.2f}\".format(corr))"
   ]
  },
  {
   "cell_type": "code",
   "execution_count": null,
   "id": "7ce5adbb",
   "metadata": {},
   "outputs": [],
   "source": []
  }
 ],
 "metadata": {
  "kernelspec": {
   "display_name": "nlp_venv",
   "language": "python",
   "name": "nlp_venv"
  },
  "language_info": {
   "codemirror_mode": {
    "name": "ipython",
    "version": 3
   },
   "file_extension": ".py",
   "mimetype": "text/x-python",
   "name": "python",
   "nbconvert_exporter": "python",
   "pygments_lexer": "ipython3",
   "version": "3.9.16"
  }
 },
 "nbformat": 4,
 "nbformat_minor": 5
}
