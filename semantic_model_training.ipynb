{
 "cells": [
  {
   "cell_type": "code",
   "execution_count": 30,
   "id": "ec1d0b1d",
   "metadata": {},
   "outputs": [],
   "source": [
    "import pandas as pd\n",
    "import numpy as np\n",
    "from sklearn.linear_model import LinearRegression\n",
    "from gensim.models import Word2Vec\n",
    "from sklearn.feature_extraction.text import TfidfVectorizer"
   ]
  },
  {
   "cell_type": "code",
   "execution_count": 11,
   "id": "23ca52e4",
   "metadata": {},
   "outputs": [],
   "source": [
    "train_df = pd.read_csv('./data/stsb-en-train.csv', usecols=[0,1,2], names=['sent1', 'sent2', 'score'], header=None)"
   ]
  },
  {
   "cell_type": "code",
   "execution_count": 12,
   "id": "f8aba9c7",
   "metadata": {},
   "outputs": [
    {
     "data": {
      "text/html": [
       "<div>\n",
       "<style scoped>\n",
       "    .dataframe tbody tr th:only-of-type {\n",
       "        vertical-align: middle;\n",
       "    }\n",
       "\n",
       "    .dataframe tbody tr th {\n",
       "        vertical-align: top;\n",
       "    }\n",
       "\n",
       "    .dataframe thead th {\n",
       "        text-align: right;\n",
       "    }\n",
       "</style>\n",
       "<table border=\"1\" class=\"dataframe\">\n",
       "  <thead>\n",
       "    <tr style=\"text-align: right;\">\n",
       "      <th></th>\n",
       "      <th>sent1</th>\n",
       "      <th>sent2</th>\n",
       "      <th>score</th>\n",
       "    </tr>\n",
       "  </thead>\n",
       "  <tbody>\n",
       "    <tr>\n",
       "      <th>0</th>\n",
       "      <td>A plane is taking off.</td>\n",
       "      <td>An air plane is taking off.</td>\n",
       "      <td>5.00</td>\n",
       "    </tr>\n",
       "    <tr>\n",
       "      <th>1</th>\n",
       "      <td>A man is playing a large flute.</td>\n",
       "      <td>A man is playing a flute.</td>\n",
       "      <td>3.80</td>\n",
       "    </tr>\n",
       "    <tr>\n",
       "      <th>2</th>\n",
       "      <td>A man is spreading shreded cheese on a pizza.</td>\n",
       "      <td>A man is spreading shredded cheese on an uncoo...</td>\n",
       "      <td>3.80</td>\n",
       "    </tr>\n",
       "    <tr>\n",
       "      <th>3</th>\n",
       "      <td>Three men are playing chess.</td>\n",
       "      <td>Two men are playing chess.</td>\n",
       "      <td>2.60</td>\n",
       "    </tr>\n",
       "    <tr>\n",
       "      <th>4</th>\n",
       "      <td>A man is playing the cello.</td>\n",
       "      <td>A man seated is playing the cello.</td>\n",
       "      <td>4.25</td>\n",
       "    </tr>\n",
       "  </tbody>\n",
       "</table>\n",
       "</div>"
      ],
      "text/plain": [
       "                                           sent1  \\\n",
       "0                         A plane is taking off.   \n",
       "1                A man is playing a large flute.   \n",
       "2  A man is spreading shreded cheese on a pizza.   \n",
       "3                   Three men are playing chess.   \n",
       "4                    A man is playing the cello.   \n",
       "\n",
       "                                               sent2  score  \n",
       "0                        An air plane is taking off.   5.00  \n",
       "1                          A man is playing a flute.   3.80  \n",
       "2  A man is spreading shredded cheese on an uncoo...   3.80  \n",
       "3                         Two men are playing chess.   2.60  \n",
       "4                 A man seated is playing the cello.   4.25  "
      ]
     },
     "execution_count": 12,
     "metadata": {},
     "output_type": "execute_result"
    }
   ],
   "source": [
    "train_df.head()"
   ]
  },
  {
   "cell_type": "code",
   "execution_count": 13,
   "id": "28bdc1a7",
   "metadata": {},
   "outputs": [],
   "source": [
    "import re\n",
    "pattern = r'[^\\w\\s]'"
   ]
  },
  {
   "cell_type": "code",
   "execution_count": 14,
   "id": "18cbde71",
   "metadata": {},
   "outputs": [],
   "source": [
    "train_df['sent1'] =train_df['sent1'].apply(lambda x: re.sub(pattern, '', x))\n",
    "train_df['sent2'] =train_df['sent2'].apply(lambda x: re.sub(pattern, '', x))"
   ]
  },
  {
   "cell_type": "code",
   "execution_count": 15,
   "id": "790fcf3f",
   "metadata": {},
   "outputs": [
    {
     "data": {
      "text/html": [
       "<div>\n",
       "<style scoped>\n",
       "    .dataframe tbody tr th:only-of-type {\n",
       "        vertical-align: middle;\n",
       "    }\n",
       "\n",
       "    .dataframe tbody tr th {\n",
       "        vertical-align: top;\n",
       "    }\n",
       "\n",
       "    .dataframe thead th {\n",
       "        text-align: right;\n",
       "    }\n",
       "</style>\n",
       "<table border=\"1\" class=\"dataframe\">\n",
       "  <thead>\n",
       "    <tr style=\"text-align: right;\">\n",
       "      <th></th>\n",
       "      <th>sent1</th>\n",
       "      <th>sent2</th>\n",
       "      <th>score</th>\n",
       "    </tr>\n",
       "  </thead>\n",
       "  <tbody>\n",
       "    <tr>\n",
       "      <th>0</th>\n",
       "      <td>A plane is taking off</td>\n",
       "      <td>An air plane is taking off</td>\n",
       "      <td>5.00</td>\n",
       "    </tr>\n",
       "    <tr>\n",
       "      <th>1</th>\n",
       "      <td>A man is playing a large flute</td>\n",
       "      <td>A man is playing a flute</td>\n",
       "      <td>3.80</td>\n",
       "    </tr>\n",
       "    <tr>\n",
       "      <th>2</th>\n",
       "      <td>A man is spreading shreded cheese on a pizza</td>\n",
       "      <td>A man is spreading shredded cheese on an uncoo...</td>\n",
       "      <td>3.80</td>\n",
       "    </tr>\n",
       "    <tr>\n",
       "      <th>3</th>\n",
       "      <td>Three men are playing chess</td>\n",
       "      <td>Two men are playing chess</td>\n",
       "      <td>2.60</td>\n",
       "    </tr>\n",
       "    <tr>\n",
       "      <th>4</th>\n",
       "      <td>A man is playing the cello</td>\n",
       "      <td>A man seated is playing the cello</td>\n",
       "      <td>4.25</td>\n",
       "    </tr>\n",
       "  </tbody>\n",
       "</table>\n",
       "</div>"
      ],
      "text/plain": [
       "                                          sent1  \\\n",
       "0                         A plane is taking off   \n",
       "1                A man is playing a large flute   \n",
       "2  A man is spreading shreded cheese on a pizza   \n",
       "3                   Three men are playing chess   \n",
       "4                    A man is playing the cello   \n",
       "\n",
       "                                               sent2  score  \n",
       "0                         An air plane is taking off   5.00  \n",
       "1                           A man is playing a flute   3.80  \n",
       "2  A man is spreading shredded cheese on an uncoo...   3.80  \n",
       "3                          Two men are playing chess   2.60  \n",
       "4                  A man seated is playing the cello   4.25  "
      ]
     },
     "execution_count": 15,
     "metadata": {},
     "output_type": "execute_result"
    }
   ],
   "source": [
    "train_df.head()"
   ]
  },
  {
   "cell_type": "code",
   "execution_count": 16,
   "id": "f3f5fcc2",
   "metadata": {},
   "outputs": [],
   "source": [
    "val_df = pd.read_csv('./data/stsb-en-dev.csv', usecols=[0,1,2], names=['sent1', 'sent2', 'score'], header=None)"
   ]
  },
  {
   "cell_type": "code",
   "execution_count": 17,
   "id": "30f60b17",
   "metadata": {},
   "outputs": [
    {
     "data": {
      "text/html": [
       "<div>\n",
       "<style scoped>\n",
       "    .dataframe tbody tr th:only-of-type {\n",
       "        vertical-align: middle;\n",
       "    }\n",
       "\n",
       "    .dataframe tbody tr th {\n",
       "        vertical-align: top;\n",
       "    }\n",
       "\n",
       "    .dataframe thead th {\n",
       "        text-align: right;\n",
       "    }\n",
       "</style>\n",
       "<table border=\"1\" class=\"dataframe\">\n",
       "  <thead>\n",
       "    <tr style=\"text-align: right;\">\n",
       "      <th></th>\n",
       "      <th>sent1</th>\n",
       "      <th>sent2</th>\n",
       "      <th>score</th>\n",
       "    </tr>\n",
       "  </thead>\n",
       "  <tbody>\n",
       "    <tr>\n",
       "      <th>0</th>\n",
       "      <td>A man with a hard hat is dancing.</td>\n",
       "      <td>A man wearing a hard hat is dancing.</td>\n",
       "      <td>5.00</td>\n",
       "    </tr>\n",
       "    <tr>\n",
       "      <th>1</th>\n",
       "      <td>A young child is riding a horse.</td>\n",
       "      <td>A child is riding a horse.</td>\n",
       "      <td>4.75</td>\n",
       "    </tr>\n",
       "    <tr>\n",
       "      <th>2</th>\n",
       "      <td>A man is feeding a mouse to a snake.</td>\n",
       "      <td>The man is feeding a mouse to the snake.</td>\n",
       "      <td>5.00</td>\n",
       "    </tr>\n",
       "    <tr>\n",
       "      <th>3</th>\n",
       "      <td>A woman is playing the guitar.</td>\n",
       "      <td>A man is playing guitar.</td>\n",
       "      <td>2.40</td>\n",
       "    </tr>\n",
       "    <tr>\n",
       "      <th>4</th>\n",
       "      <td>A woman is playing the flute.</td>\n",
       "      <td>A man is playing a flute.</td>\n",
       "      <td>2.75</td>\n",
       "    </tr>\n",
       "  </tbody>\n",
       "</table>\n",
       "</div>"
      ],
      "text/plain": [
       "                                  sent1  \\\n",
       "0     A man with a hard hat is dancing.   \n",
       "1      A young child is riding a horse.   \n",
       "2  A man is feeding a mouse to a snake.   \n",
       "3        A woman is playing the guitar.   \n",
       "4         A woman is playing the flute.   \n",
       "\n",
       "                                      sent2  score  \n",
       "0      A man wearing a hard hat is dancing.   5.00  \n",
       "1                A child is riding a horse.   4.75  \n",
       "2  The man is feeding a mouse to the snake.   5.00  \n",
       "3                  A man is playing guitar.   2.40  \n",
       "4                 A man is playing a flute.   2.75  "
      ]
     },
     "execution_count": 17,
     "metadata": {},
     "output_type": "execute_result"
    }
   ],
   "source": [
    "val_df.head()"
   ]
  },
  {
   "cell_type": "code",
   "execution_count": 18,
   "id": "a34fb3b8",
   "metadata": {},
   "outputs": [],
   "source": [
    "val_df['sent1'] =val_df['sent1'].apply(lambda x: re.sub(pattern, '', x))\n",
    "val_df['sent2'] =val_df['sent2'].apply(lambda x: re.sub(pattern, '', x))"
   ]
  },
  {
   "cell_type": "code",
   "execution_count": 19,
   "id": "4a6f579c",
   "metadata": {},
   "outputs": [
    {
     "data": {
      "text/html": [
       "<div>\n",
       "<style scoped>\n",
       "    .dataframe tbody tr th:only-of-type {\n",
       "        vertical-align: middle;\n",
       "    }\n",
       "\n",
       "    .dataframe tbody tr th {\n",
       "        vertical-align: top;\n",
       "    }\n",
       "\n",
       "    .dataframe thead th {\n",
       "        text-align: right;\n",
       "    }\n",
       "</style>\n",
       "<table border=\"1\" class=\"dataframe\">\n",
       "  <thead>\n",
       "    <tr style=\"text-align: right;\">\n",
       "      <th></th>\n",
       "      <th>sent1</th>\n",
       "      <th>sent2</th>\n",
       "      <th>score</th>\n",
       "    </tr>\n",
       "  </thead>\n",
       "  <tbody>\n",
       "    <tr>\n",
       "      <th>0</th>\n",
       "      <td>A man with a hard hat is dancing</td>\n",
       "      <td>A man wearing a hard hat is dancing</td>\n",
       "      <td>5.00</td>\n",
       "    </tr>\n",
       "    <tr>\n",
       "      <th>1</th>\n",
       "      <td>A young child is riding a horse</td>\n",
       "      <td>A child is riding a horse</td>\n",
       "      <td>4.75</td>\n",
       "    </tr>\n",
       "    <tr>\n",
       "      <th>2</th>\n",
       "      <td>A man is feeding a mouse to a snake</td>\n",
       "      <td>The man is feeding a mouse to the snake</td>\n",
       "      <td>5.00</td>\n",
       "    </tr>\n",
       "    <tr>\n",
       "      <th>3</th>\n",
       "      <td>A woman is playing the guitar</td>\n",
       "      <td>A man is playing guitar</td>\n",
       "      <td>2.40</td>\n",
       "    </tr>\n",
       "    <tr>\n",
       "      <th>4</th>\n",
       "      <td>A woman is playing the flute</td>\n",
       "      <td>A man is playing a flute</td>\n",
       "      <td>2.75</td>\n",
       "    </tr>\n",
       "  </tbody>\n",
       "</table>\n",
       "</div>"
      ],
      "text/plain": [
       "                                 sent1  \\\n",
       "0     A man with a hard hat is dancing   \n",
       "1      A young child is riding a horse   \n",
       "2  A man is feeding a mouse to a snake   \n",
       "3        A woman is playing the guitar   \n",
       "4         A woman is playing the flute   \n",
       "\n",
       "                                     sent2  score  \n",
       "0      A man wearing a hard hat is dancing   5.00  \n",
       "1                A child is riding a horse   4.75  \n",
       "2  The man is feeding a mouse to the snake   5.00  \n",
       "3                  A man is playing guitar   2.40  \n",
       "4                 A man is playing a flute   2.75  "
      ]
     },
     "execution_count": 19,
     "metadata": {},
     "output_type": "execute_result"
    }
   ],
   "source": [
    "val_df.head()"
   ]
  },
  {
   "cell_type": "code",
   "execution_count": 70,
   "id": "a6429a94",
   "metadata": {},
   "outputs": [],
   "source": [
    "test_df = pd.read_csv('./data/stsb-en-test.csv', usecols=[0,1,2], names=['sent1', 'sent2', 'score'], header=None)"
   ]
  },
  {
   "cell_type": "code",
   "execution_count": 71,
   "id": "b77a0861",
   "metadata": {},
   "outputs": [
    {
     "data": {
      "text/html": [
       "<div>\n",
       "<style scoped>\n",
       "    .dataframe tbody tr th:only-of-type {\n",
       "        vertical-align: middle;\n",
       "    }\n",
       "\n",
       "    .dataframe tbody tr th {\n",
       "        vertical-align: top;\n",
       "    }\n",
       "\n",
       "    .dataframe thead th {\n",
       "        text-align: right;\n",
       "    }\n",
       "</style>\n",
       "<table border=\"1\" class=\"dataframe\">\n",
       "  <thead>\n",
       "    <tr style=\"text-align: right;\">\n",
       "      <th></th>\n",
       "      <th>sent1</th>\n",
       "      <th>sent2</th>\n",
       "      <th>score</th>\n",
       "    </tr>\n",
       "  </thead>\n",
       "  <tbody>\n",
       "    <tr>\n",
       "      <th>0</th>\n",
       "      <td>A girl is styling her hair.</td>\n",
       "      <td>A girl is brushing her hair.</td>\n",
       "      <td>2.5</td>\n",
       "    </tr>\n",
       "    <tr>\n",
       "      <th>1</th>\n",
       "      <td>A group of men play soccer on the beach.</td>\n",
       "      <td>A group of boys are playing soccer on the beach.</td>\n",
       "      <td>3.6</td>\n",
       "    </tr>\n",
       "    <tr>\n",
       "      <th>2</th>\n",
       "      <td>One woman is measuring another woman's ankle.</td>\n",
       "      <td>A woman measures another woman's ankle.</td>\n",
       "      <td>5.0</td>\n",
       "    </tr>\n",
       "    <tr>\n",
       "      <th>3</th>\n",
       "      <td>A man is cutting up a cucumber.</td>\n",
       "      <td>A man is slicing a cucumber.</td>\n",
       "      <td>4.2</td>\n",
       "    </tr>\n",
       "    <tr>\n",
       "      <th>4</th>\n",
       "      <td>A man is playing a harp.</td>\n",
       "      <td>A man is playing a keyboard.</td>\n",
       "      <td>1.5</td>\n",
       "    </tr>\n",
       "  </tbody>\n",
       "</table>\n",
       "</div>"
      ],
      "text/plain": [
       "                                           sent1  \\\n",
       "0                    A girl is styling her hair.   \n",
       "1       A group of men play soccer on the beach.   \n",
       "2  One woman is measuring another woman's ankle.   \n",
       "3                A man is cutting up a cucumber.   \n",
       "4                       A man is playing a harp.   \n",
       "\n",
       "                                              sent2  score  \n",
       "0                      A girl is brushing her hair.    2.5  \n",
       "1  A group of boys are playing soccer on the beach.    3.6  \n",
       "2           A woman measures another woman's ankle.    5.0  \n",
       "3                      A man is slicing a cucumber.    4.2  \n",
       "4                      A man is playing a keyboard.    1.5  "
      ]
     },
     "execution_count": 71,
     "metadata": {},
     "output_type": "execute_result"
    }
   ],
   "source": [
    "test_df.head()"
   ]
  },
  {
   "cell_type": "code",
   "execution_count": 72,
   "id": "ac95664f",
   "metadata": {},
   "outputs": [],
   "source": [
    "test_df['sent1'] =test_df['sent1'].apply(lambda x: re.sub(pattern, '', x))\n",
    "test_df['sent2'] =test_df['sent2'].apply(lambda x: re.sub(pattern, '', x))"
   ]
  },
  {
   "cell_type": "code",
   "execution_count": 20,
   "id": "5468bb91",
   "metadata": {},
   "outputs": [
    {
     "data": {
      "text/plain": [
       "5749"
      ]
     },
     "execution_count": 20,
     "metadata": {},
     "output_type": "execute_result"
    }
   ],
   "source": [
    "len(train_df)"
   ]
  },
  {
   "cell_type": "code",
   "execution_count": 21,
   "id": "42ca6247",
   "metadata": {},
   "outputs": [
    {
     "data": {
      "text/plain": [
       "1500"
      ]
     },
     "execution_count": 21,
     "metadata": {},
     "output_type": "execute_result"
    }
   ],
   "source": [
    "len(val_df)"
   ]
  },
  {
   "cell_type": "code",
   "execution_count": 73,
   "id": "d6d747ef",
   "metadata": {},
   "outputs": [
    {
     "data": {
      "text/plain": [
       "1379"
      ]
     },
     "execution_count": 73,
     "metadata": {},
     "output_type": "execute_result"
    }
   ],
   "source": [
    "len(test_df)"
   ]
  },
  {
   "cell_type": "code",
   "execution_count": 22,
   "id": "54223789",
   "metadata": {},
   "outputs": [],
   "source": [
    "total_sents = list(train_df['sent1'])"
   ]
  },
  {
   "cell_type": "code",
   "execution_count": 23,
   "id": "3f7610ba",
   "metadata": {},
   "outputs": [],
   "source": [
    "total_sents.extend(list(train_df['sent2']))"
   ]
  },
  {
   "cell_type": "code",
   "execution_count": 26,
   "id": "6d5e1ef5",
   "metadata": {},
   "outputs": [
    {
     "data": {
      "text/plain": [
       "['A plane is taking off',\n",
       " 'A man is playing a large flute',\n",
       " 'A man is spreading shreded cheese on a pizza',\n",
       " 'Three men are playing chess',\n",
       " 'A man is playing the cello']"
      ]
     },
     "execution_count": 26,
     "metadata": {},
     "output_type": "execute_result"
    }
   ],
   "source": [
    "total_sents[0:5]"
   ]
  },
  {
   "cell_type": "code",
   "execution_count": 27,
   "id": "c6246043",
   "metadata": {},
   "outputs": [
    {
     "data": {
      "text/plain": [
       "11498"
      ]
     },
     "execution_count": 27,
     "metadata": {},
     "output_type": "execute_result"
    }
   ],
   "source": [
    "len(total_sents)"
   ]
  },
  {
   "cell_type": "code",
   "execution_count": 28,
   "id": "dbb9b2d3",
   "metadata": {},
   "outputs": [],
   "source": [
    "total_sents_df = pd.Series(total_sents)"
   ]
  },
  {
   "cell_type": "code",
   "execution_count": 29,
   "id": "2cd25faa",
   "metadata": {},
   "outputs": [
    {
     "data": {
      "text/plain": [
       "11498"
      ]
     },
     "execution_count": 29,
     "metadata": {},
     "output_type": "execute_result"
    }
   ],
   "source": [
    "len(total_sents_df)"
   ]
  },
  {
   "cell_type": "code",
   "execution_count": 39,
   "id": "ffddabfc",
   "metadata": {},
   "outputs": [],
   "source": [
    "vectorizer = TfidfVectorizer()"
   ]
  },
  {
   "cell_type": "code",
   "execution_count": 52,
   "id": "0b889f9a",
   "metadata": {},
   "outputs": [],
   "source": [
    "X_train_sents = vectorizer.fit_transform(total_sents_df)"
   ]
  },
  {
   "cell_type": "code",
   "execution_count": 54,
   "id": "5334c052",
   "metadata": {},
   "outputs": [],
   "source": [
    "X_train_sentence1 = vectorizer.transform(train_df['sent1'])\n",
    "X_train_sentence2 = vectorizer.transform(train_df['sent2'])"
   ]
  },
  {
   "cell_type": "code",
   "execution_count": 56,
   "id": "bc731aa5",
   "metadata": {},
   "outputs": [],
   "source": [
    "X_test_sentence1 = vectorizer.transform(val_df['sent1'])\n",
    "X_test_sentence2 = vectorizer.transform(val_df['sent2'])"
   ]
  },
  {
   "cell_type": "code",
   "execution_count": 59,
   "id": "2036af40",
   "metadata": {},
   "outputs": [],
   "source": [
    "# Combine the sentence vectors for training and testing data\n",
    "X_train_vectorized = np.hstack((X_train_sentence1.toarray(), X_train_sentence2.toarray()))\n",
    "X_test_vectorized = np.hstack((X_test_sentence1.toarray(), X_test_sentence2.toarray()))"
   ]
  },
  {
   "cell_type": "code",
   "execution_count": 61,
   "id": "b7befcf1",
   "metadata": {},
   "outputs": [],
   "source": [
    "y_train = train_df['score']\n",
    "y_test = val_df['score']"
   ]
  },
  {
   "cell_type": "code",
   "execution_count": 63,
   "id": "3f3edc9b",
   "metadata": {},
   "outputs": [
    {
     "data": {
      "text/html": [
       "<style>#sk-container-id-1 {color: black;background-color: white;}#sk-container-id-1 pre{padding: 0;}#sk-container-id-1 div.sk-toggleable {background-color: white;}#sk-container-id-1 label.sk-toggleable__label {cursor: pointer;display: block;width: 100%;margin-bottom: 0;padding: 0.3em;box-sizing: border-box;text-align: center;}#sk-container-id-1 label.sk-toggleable__label-arrow:before {content: \"▸\";float: left;margin-right: 0.25em;color: #696969;}#sk-container-id-1 label.sk-toggleable__label-arrow:hover:before {color: black;}#sk-container-id-1 div.sk-estimator:hover label.sk-toggleable__label-arrow:before {color: black;}#sk-container-id-1 div.sk-toggleable__content {max-height: 0;max-width: 0;overflow: hidden;text-align: left;background-color: #f0f8ff;}#sk-container-id-1 div.sk-toggleable__content pre {margin: 0.2em;color: black;border-radius: 0.25em;background-color: #f0f8ff;}#sk-container-id-1 input.sk-toggleable__control:checked~div.sk-toggleable__content {max-height: 200px;max-width: 100%;overflow: auto;}#sk-container-id-1 input.sk-toggleable__control:checked~label.sk-toggleable__label-arrow:before {content: \"▾\";}#sk-container-id-1 div.sk-estimator input.sk-toggleable__control:checked~label.sk-toggleable__label {background-color: #d4ebff;}#sk-container-id-1 div.sk-label input.sk-toggleable__control:checked~label.sk-toggleable__label {background-color: #d4ebff;}#sk-container-id-1 input.sk-hidden--visually {border: 0;clip: rect(1px 1px 1px 1px);clip: rect(1px, 1px, 1px, 1px);height: 1px;margin: -1px;overflow: hidden;padding: 0;position: absolute;width: 1px;}#sk-container-id-1 div.sk-estimator {font-family: monospace;background-color: #f0f8ff;border: 1px dotted black;border-radius: 0.25em;box-sizing: border-box;margin-bottom: 0.5em;}#sk-container-id-1 div.sk-estimator:hover {background-color: #d4ebff;}#sk-container-id-1 div.sk-parallel-item::after {content: \"\";width: 100%;border-bottom: 1px solid gray;flex-grow: 1;}#sk-container-id-1 div.sk-label:hover label.sk-toggleable__label {background-color: #d4ebff;}#sk-container-id-1 div.sk-serial::before {content: \"\";position: absolute;border-left: 1px solid gray;box-sizing: border-box;top: 0;bottom: 0;left: 50%;z-index: 0;}#sk-container-id-1 div.sk-serial {display: flex;flex-direction: column;align-items: center;background-color: white;padding-right: 0.2em;padding-left: 0.2em;position: relative;}#sk-container-id-1 div.sk-item {position: relative;z-index: 1;}#sk-container-id-1 div.sk-parallel {display: flex;align-items: stretch;justify-content: center;background-color: white;position: relative;}#sk-container-id-1 div.sk-item::before, #sk-container-id-1 div.sk-parallel-item::before {content: \"\";position: absolute;border-left: 1px solid gray;box-sizing: border-box;top: 0;bottom: 0;left: 50%;z-index: -1;}#sk-container-id-1 div.sk-parallel-item {display: flex;flex-direction: column;z-index: 1;position: relative;background-color: white;}#sk-container-id-1 div.sk-parallel-item:first-child::after {align-self: flex-end;width: 50%;}#sk-container-id-1 div.sk-parallel-item:last-child::after {align-self: flex-start;width: 50%;}#sk-container-id-1 div.sk-parallel-item:only-child::after {width: 0;}#sk-container-id-1 div.sk-dashed-wrapped {border: 1px dashed gray;margin: 0 0.4em 0.5em 0.4em;box-sizing: border-box;padding-bottom: 0.4em;background-color: white;}#sk-container-id-1 div.sk-label label {font-family: monospace;font-weight: bold;display: inline-block;line-height: 1.2em;}#sk-container-id-1 div.sk-label-container {text-align: center;}#sk-container-id-1 div.sk-container {/* jupyter's `normalize.less` sets `[hidden] { display: none; }` but bootstrap.min.css set `[hidden] { display: none !important; }` so we also need the `!important` here to be able to override the default hidden behavior on the sphinx rendered scikit-learn.org. See: https://github.com/scikit-learn/scikit-learn/issues/21755 */display: inline-block !important;position: relative;}#sk-container-id-1 div.sk-text-repr-fallback {display: none;}</style><div id=\"sk-container-id-1\" class=\"sk-top-container\"><div class=\"sk-text-repr-fallback\"><pre>LinearRegression()</pre><b>In a Jupyter environment, please rerun this cell to show the HTML representation or trust the notebook. <br />On GitHub, the HTML representation is unable to render, please try loading this page with nbviewer.org.</b></div><div class=\"sk-container\" hidden><div class=\"sk-item\"><div class=\"sk-estimator sk-toggleable\"><input class=\"sk-toggleable__control sk-hidden--visually\" id=\"sk-estimator-id-1\" type=\"checkbox\" checked><label for=\"sk-estimator-id-1\" class=\"sk-toggleable__label sk-toggleable__label-arrow\">LinearRegression</label><div class=\"sk-toggleable__content\"><pre>LinearRegression()</pre></div></div></div></div></div>"
      ],
      "text/plain": [
       "LinearRegression()"
      ]
     },
     "execution_count": 63,
     "metadata": {},
     "output_type": "execute_result"
    }
   ],
   "source": [
    "model = LinearRegression()\n",
    "model.fit(X_train_vectorized, y_train)"
   ]
  },
  {
   "cell_type": "code",
   "execution_count": 64,
   "id": "cfd39d68",
   "metadata": {},
   "outputs": [
    {
     "name": "stdout",
     "output_type": "stream",
     "text": [
      "Model score on testing dataset: -2.935174642127101e+24\n"
     ]
    }
   ],
   "source": [
    "score = model.score(X_test_vectorized, y_test)\n",
    "print(f\"Model score on testing dataset: {score}\")"
   ]
  },
  {
   "cell_type": "code",
   "execution_count": 65,
   "id": "48a7dd95",
   "metadata": {},
   "outputs": [
    {
     "data": {
      "text/plain": [
       "array([ 1.78114089e+12,  6.83919270e+11, -4.37458258e+11, ...,\n",
       "       -2.53443202e+11,  1.29814417e+12, -2.23139544e+12])"
      ]
     },
     "execution_count": 65,
     "metadata": {},
     "output_type": "execute_result"
    }
   ],
   "source": [
    "model.predict(X_test_vectorized)"
   ]
  },
  {
   "cell_type": "code",
   "execution_count": 66,
   "id": "794acbfb",
   "metadata": {},
   "outputs": [
    {
     "data": {
      "text/html": [
       "<style>#sk-container-id-2 {color: black;background-color: white;}#sk-container-id-2 pre{padding: 0;}#sk-container-id-2 div.sk-toggleable {background-color: white;}#sk-container-id-2 label.sk-toggleable__label {cursor: pointer;display: block;width: 100%;margin-bottom: 0;padding: 0.3em;box-sizing: border-box;text-align: center;}#sk-container-id-2 label.sk-toggleable__label-arrow:before {content: \"▸\";float: left;margin-right: 0.25em;color: #696969;}#sk-container-id-2 label.sk-toggleable__label-arrow:hover:before {color: black;}#sk-container-id-2 div.sk-estimator:hover label.sk-toggleable__label-arrow:before {color: black;}#sk-container-id-2 div.sk-toggleable__content {max-height: 0;max-width: 0;overflow: hidden;text-align: left;background-color: #f0f8ff;}#sk-container-id-2 div.sk-toggleable__content pre {margin: 0.2em;color: black;border-radius: 0.25em;background-color: #f0f8ff;}#sk-container-id-2 input.sk-toggleable__control:checked~div.sk-toggleable__content {max-height: 200px;max-width: 100%;overflow: auto;}#sk-container-id-2 input.sk-toggleable__control:checked~label.sk-toggleable__label-arrow:before {content: \"▾\";}#sk-container-id-2 div.sk-estimator input.sk-toggleable__control:checked~label.sk-toggleable__label {background-color: #d4ebff;}#sk-container-id-2 div.sk-label input.sk-toggleable__control:checked~label.sk-toggleable__label {background-color: #d4ebff;}#sk-container-id-2 input.sk-hidden--visually {border: 0;clip: rect(1px 1px 1px 1px);clip: rect(1px, 1px, 1px, 1px);height: 1px;margin: -1px;overflow: hidden;padding: 0;position: absolute;width: 1px;}#sk-container-id-2 div.sk-estimator {font-family: monospace;background-color: #f0f8ff;border: 1px dotted black;border-radius: 0.25em;box-sizing: border-box;margin-bottom: 0.5em;}#sk-container-id-2 div.sk-estimator:hover {background-color: #d4ebff;}#sk-container-id-2 div.sk-parallel-item::after {content: \"\";width: 100%;border-bottom: 1px solid gray;flex-grow: 1;}#sk-container-id-2 div.sk-label:hover label.sk-toggleable__label {background-color: #d4ebff;}#sk-container-id-2 div.sk-serial::before {content: \"\";position: absolute;border-left: 1px solid gray;box-sizing: border-box;top: 0;bottom: 0;left: 50%;z-index: 0;}#sk-container-id-2 div.sk-serial {display: flex;flex-direction: column;align-items: center;background-color: white;padding-right: 0.2em;padding-left: 0.2em;position: relative;}#sk-container-id-2 div.sk-item {position: relative;z-index: 1;}#sk-container-id-2 div.sk-parallel {display: flex;align-items: stretch;justify-content: center;background-color: white;position: relative;}#sk-container-id-2 div.sk-item::before, #sk-container-id-2 div.sk-parallel-item::before {content: \"\";position: absolute;border-left: 1px solid gray;box-sizing: border-box;top: 0;bottom: 0;left: 50%;z-index: -1;}#sk-container-id-2 div.sk-parallel-item {display: flex;flex-direction: column;z-index: 1;position: relative;background-color: white;}#sk-container-id-2 div.sk-parallel-item:first-child::after {align-self: flex-end;width: 50%;}#sk-container-id-2 div.sk-parallel-item:last-child::after {align-self: flex-start;width: 50%;}#sk-container-id-2 div.sk-parallel-item:only-child::after {width: 0;}#sk-container-id-2 div.sk-dashed-wrapped {border: 1px dashed gray;margin: 0 0.4em 0.5em 0.4em;box-sizing: border-box;padding-bottom: 0.4em;background-color: white;}#sk-container-id-2 div.sk-label label {font-family: monospace;font-weight: bold;display: inline-block;line-height: 1.2em;}#sk-container-id-2 div.sk-label-container {text-align: center;}#sk-container-id-2 div.sk-container {/* jupyter's `normalize.less` sets `[hidden] { display: none; }` but bootstrap.min.css set `[hidden] { display: none !important; }` so we also need the `!important` here to be able to override the default hidden behavior on the sphinx rendered scikit-learn.org. See: https://github.com/scikit-learn/scikit-learn/issues/21755 */display: inline-block !important;position: relative;}#sk-container-id-2 div.sk-text-repr-fallback {display: none;}</style><div id=\"sk-container-id-2\" class=\"sk-top-container\"><div class=\"sk-text-repr-fallback\"><pre>LinearRegression()</pre><b>In a Jupyter environment, please rerun this cell to show the HTML representation or trust the notebook. <br />On GitHub, the HTML representation is unable to render, please try loading this page with nbviewer.org.</b></div><div class=\"sk-container\" hidden><div class=\"sk-item\"><div class=\"sk-estimator sk-toggleable\"><input class=\"sk-toggleable__control sk-hidden--visually\" id=\"sk-estimator-id-2\" type=\"checkbox\" checked><label for=\"sk-estimator-id-2\" class=\"sk-toggleable__label sk-toggleable__label-arrow\">LinearRegression</label><div class=\"sk-toggleable__content\"><pre>LinearRegression()</pre></div></div></div></div></div>"
      ],
      "text/plain": [
       "LinearRegression()"
      ]
     },
     "execution_count": 66,
     "metadata": {},
     "output_type": "execute_result"
    }
   ],
   "source": [
    "# Normalize the target variable to be in the range of 0 to 1\n",
    "y_train_normalized = (y_train - y_train.min()) / (y_train.max() - y_train.min())\n",
    "\n",
    "# Train the model on the normalized target variable\n",
    "model = LinearRegression()\n",
    "model.fit(X_train_vectorized, y_train_normalized)"
   ]
  },
  {
   "cell_type": "code",
   "execution_count": 67,
   "id": "96cc0723",
   "metadata": {},
   "outputs": [
    {
     "name": "stdout",
     "output_type": "stream",
     "text": [
      "Model score on testing dataset: -1.1740698568508581e+23\n"
     ]
    }
   ],
   "source": [
    "# Predict normalized similarity scores for the testing dataset\n",
    "y_pred_normalized = model.predict(X_test_vectorized)\n",
    "\n",
    "# Scale the normalized predictions back to the original range of 0 to 5\n",
    "y_pred = y_pred_normalized * (y_train.max() - y_train.min()) + y_train.min()\n",
    "\n",
    "# Evaluate the model's performance on the testing dataset\n",
    "score = model.score(X_test_vectorized, y_test)\n",
    "print(f\"Model score on testing dataset: {score}\")"
   ]
  },
  {
   "cell_type": "code",
   "execution_count": 59,
   "id": "1eb68bbd",
   "metadata": {},
   "outputs": [],
   "source": [
    "from scipy.stats import pearsonr\n",
    "def pearson_corr(y_true, y_pred):\n",
    "    \"\"\"\n",
    "    Calculate Pearson correlation coefficient between two arrays.\n",
    "    \"\"\"\n",
    "    corr, _ = pearsonr(y_true, y_pred)\n",
    "    return corr"
   ]
  },
  {
   "cell_type": "code",
   "execution_count": 71,
   "id": "f7012280",
   "metadata": {},
   "outputs": [
    {
     "name": "stdout",
     "output_type": "stream",
     "text": [
      "Pearson correlation coefficient: -0.02\n"
     ]
    }
   ],
   "source": [
    "# Calculate Pearson correlation coefficient between predicted values and target values\n",
    "corr = pearson_corr(y_test, y_pred)\n",
    "\n",
    "# Print the correlation coefficient\n",
    "print(\"Pearson correlation coefficient: {:.2f}\".format(corr))"
   ]
  },
  {
   "cell_type": "code",
   "execution_count": null,
   "id": "29e73bad",
   "metadata": {},
   "outputs": [],
   "source": []
  },
  {
   "cell_type": "markdown",
   "id": "894350c8",
   "metadata": {},
   "source": [
    "## Word2vec - Doc2vec"
   ]
  },
  {
   "cell_type": "code",
   "execution_count": 13,
   "id": "b42a6fb2",
   "metadata": {},
   "outputs": [
    {
     "data": {
      "text/plain": [
       "['A', 'plane', 'is', 'taking', 'off.']"
      ]
     },
     "execution_count": 13,
     "metadata": {},
     "output_type": "execute_result"
    }
   ],
   "source": [
    "total_sents[0].split()"
   ]
  },
  {
   "cell_type": "code",
   "execution_count": 40,
   "id": "6471d0e6",
   "metadata": {},
   "outputs": [],
   "source": [
    "from gensim.models.doc2vec import Doc2Vec, TaggedDocument\n",
    "from scipy import spatial"
   ]
  },
  {
   "cell_type": "code",
   "execution_count": 32,
   "id": "e407c5d3",
   "metadata": {},
   "outputs": [],
   "source": [
    "documents = []\n",
    "for idx, sent in enumerate(total_sents):\n",
    "    tokens = sent.split()\n",
    "    documents.append(TaggedDocument(tokens, [idx]))\n",
    "    \n",
    "    "
   ]
  },
  {
   "cell_type": "code",
   "execution_count": 34,
   "id": "9b74c8f0",
   "metadata": {},
   "outputs": [
    {
     "data": {
      "text/plain": [
       "[TaggedDocument(words=['A', 'plane', 'is', 'taking', 'off'], tags=[0]),\n",
       " TaggedDocument(words=['A', 'man', 'is', 'playing', 'a', 'large', 'flute'], tags=[1]),\n",
       " TaggedDocument(words=['A', 'man', 'is', 'spreading', 'shreded', 'cheese', 'on', 'a', 'pizza'], tags=[2]),\n",
       " TaggedDocument(words=['Three', 'men', 'are', 'playing', 'chess'], tags=[3]),\n",
       " TaggedDocument(words=['A', 'man', 'is', 'playing', 'the', 'cello'], tags=[4])]"
      ]
     },
     "execution_count": 34,
     "metadata": {},
     "output_type": "execute_result"
    }
   ],
   "source": [
    "documents[0:5]"
   ]
  },
  {
   "cell_type": "code",
   "execution_count": 137,
   "id": "8b99c1e0",
   "metadata": {},
   "outputs": [],
   "source": [
    "# Build and train the Doc2Vec model - This needs further fine tuning\n",
    "model = Doc2Vec(documents, vector_size=50, window=2, min_count=1, workers=4, epochs=10, seed=42)"
   ]
  },
  {
   "cell_type": "code",
   "execution_count": 80,
   "id": "434c07e1",
   "metadata": {},
   "outputs": [],
   "source": [
    "# Save the trained model to disk\n",
    "#model.save('doc2vec_model_v1')\n",
    "\n",
    "# Load the saved model from disk\n",
    "#model = Doc2Vec.load('doc2vec_model_v1')"
   ]
  },
  {
   "cell_type": "code",
   "execution_count": 138,
   "id": "55412f2d",
   "metadata": {},
   "outputs": [],
   "source": [
    "model.random.seed(42)"
   ]
  },
  {
   "cell_type": "code",
   "execution_count": 139,
   "id": "6b4e46e7",
   "metadata": {},
   "outputs": [],
   "source": [
    "import random\n",
    "random.seed(42)"
   ]
  },
  {
   "cell_type": "code",
   "execution_count": 140,
   "id": "f2f5811f",
   "metadata": {},
   "outputs": [
    {
     "data": {
      "text/plain": [
       "['A', 'plane', 'is', 'taking', 'off']"
      ]
     },
     "execution_count": 140,
     "metadata": {},
     "output_type": "execute_result"
    }
   ],
   "source": [
    "train_df['sent1'][0].split()"
   ]
  },
  {
   "cell_type": "code",
   "execution_count": 145,
   "id": "61994db7",
   "metadata": {},
   "outputs": [],
   "source": [
    "# Generate sentence embeddings\n",
    "embedding1 = model.infer_vector(train_df['sent1'][0].split())\n",
    "embedding2 = model.infer_vector(train_df['sent2'][0].split())\n",
    "\n",
    "# Compare the sentence embeddings using cosine similarity\n",
    "similarity = 1 - spatial.distance.cosine(embedding1, embedding2)"
   ]
  },
  {
   "cell_type": "code",
   "execution_count": 146,
   "id": "f4c9782a",
   "metadata": {},
   "outputs": [
    {
     "data": {
      "text/plain": [
       "0.8392412066459656"
      ]
     },
     "execution_count": 146,
     "metadata": {},
     "output_type": "execute_result"
    }
   ],
   "source": [
    "similarity"
   ]
  },
  {
   "cell_type": "code",
   "execution_count": 84,
   "id": "f7166a78",
   "metadata": {},
   "outputs": [
    {
     "data": {
      "text/plain": [
       "50"
      ]
     },
     "execution_count": 84,
     "metadata": {},
     "output_type": "execute_result"
    }
   ],
   "source": [
    "len(embedding2)"
   ]
  },
  {
   "cell_type": "code",
   "execution_count": 85,
   "id": "9b808c49",
   "metadata": {},
   "outputs": [
    {
     "data": {
      "text/plain": [
       "50"
      ]
     },
     "execution_count": 85,
     "metadata": {},
     "output_type": "execute_result"
    }
   ],
   "source": [
    "len(embedding1)"
   ]
  },
  {
   "cell_type": "code",
   "execution_count": 86,
   "id": "41546d3a",
   "metadata": {},
   "outputs": [],
   "source": [
    "def sts_score(sim_score):\n",
    "    sts_score = (sim_score+1) * 2.5\n",
    "    return sts_score"
   ]
  },
  {
   "cell_type": "code",
   "execution_count": 87,
   "id": "d3017054",
   "metadata": {},
   "outputs": [
    {
     "name": "stdout",
     "output_type": "stream",
     "text": [
      "4.778210520744324\n"
     ]
    }
   ],
   "source": [
    "print(sts_score(similarity))"
   ]
  },
  {
   "cell_type": "code",
   "execution_count": 160,
   "id": "0b4a2b9a",
   "metadata": {},
   "outputs": [],
   "source": [
    "train_df['sent1_embedding'] = train_df['sent1'].apply(lambda x: model.infer_vector(x.split()))"
   ]
  },
  {
   "cell_type": "code",
   "execution_count": 161,
   "id": "9a8d6071",
   "metadata": {},
   "outputs": [],
   "source": [
    "train_df['sent2_embedding'] = train_df['sent2'].apply(lambda x: model.infer_vector(x.split()))"
   ]
  },
  {
   "cell_type": "code",
   "execution_count": 162,
   "id": "98ef3fe4",
   "metadata": {},
   "outputs": [],
   "source": [
    "train_df['y_pred'] = train_df.apply(lambda x: sts_score(1 - spatial.distance.cosine(x['sent1_embedding'], x['sent2_embedding'])), axis=1)"
   ]
  },
  {
   "cell_type": "code",
   "execution_count": 150,
   "id": "635e4dee",
   "metadata": {},
   "outputs": [
    {
     "data": {
      "text/html": [
       "<div>\n",
       "<style scoped>\n",
       "    .dataframe tbody tr th:only-of-type {\n",
       "        vertical-align: middle;\n",
       "    }\n",
       "\n",
       "    .dataframe tbody tr th {\n",
       "        vertical-align: top;\n",
       "    }\n",
       "\n",
       "    .dataframe thead th {\n",
       "        text-align: right;\n",
       "    }\n",
       "</style>\n",
       "<table border=\"1\" class=\"dataframe\">\n",
       "  <thead>\n",
       "    <tr style=\"text-align: right;\">\n",
       "      <th></th>\n",
       "      <th>sent1</th>\n",
       "      <th>sent2</th>\n",
       "      <th>score</th>\n",
       "      <th>sent1_embedding</th>\n",
       "      <th>sent2_embedding</th>\n",
       "      <th>y_pred</th>\n",
       "    </tr>\n",
       "  </thead>\n",
       "  <tbody>\n",
       "    <tr>\n",
       "      <th>0</th>\n",
       "      <td>A plane is taking off</td>\n",
       "      <td>An air plane is taking off</td>\n",
       "      <td>5.00</td>\n",
       "      <td>[0.037235305, 0.049875773, -0.0409201, -0.0306...</td>\n",
       "      <td>[0.020289073, -0.005480495, -0.021858064, -0.0...</td>\n",
       "      <td>3.983521</td>\n",
       "    </tr>\n",
       "    <tr>\n",
       "      <th>1</th>\n",
       "      <td>A man is playing a large flute</td>\n",
       "      <td>A man is playing a flute</td>\n",
       "      <td>3.80</td>\n",
       "      <td>[0.013077635, -0.002221671, -0.022697706, 0.00...</td>\n",
       "      <td>[0.03319191, 0.026161613, -0.015830735, 0.0044...</td>\n",
       "      <td>4.438900</td>\n",
       "    </tr>\n",
       "    <tr>\n",
       "      <th>2</th>\n",
       "      <td>A man is spreading shreded cheese on a pizza</td>\n",
       "      <td>A man is spreading shredded cheese on an uncoo...</td>\n",
       "      <td>3.80</td>\n",
       "      <td>[0.005028709, -0.08395849, -0.085317075, -0.00...</td>\n",
       "      <td>[0.02409193, -0.059204135, -0.07484605, -0.011...</td>\n",
       "      <td>4.926448</td>\n",
       "    </tr>\n",
       "    <tr>\n",
       "      <th>3</th>\n",
       "      <td>Three men are playing chess</td>\n",
       "      <td>Two men are playing chess</td>\n",
       "      <td>2.60</td>\n",
       "      <td>[0.0039357822, -0.0368405, -0.05056638, 0.0430...</td>\n",
       "      <td>[-0.0051369094, -0.037136845, -0.05966277, 0.0...</td>\n",
       "      <td>4.858101</td>\n",
       "    </tr>\n",
       "    <tr>\n",
       "      <th>4</th>\n",
       "      <td>A man is playing the cello</td>\n",
       "      <td>A man seated is playing the cello</td>\n",
       "      <td>4.25</td>\n",
       "      <td>[0.019301675, 0.0137491645, -0.02047302, 0.003...</td>\n",
       "      <td>[0.004846013, -0.006223194, -0.024362322, 0.01...</td>\n",
       "      <td>4.200083</td>\n",
       "    </tr>\n",
       "  </tbody>\n",
       "</table>\n",
       "</div>"
      ],
      "text/plain": [
       "                                          sent1  \\\n",
       "0                         A plane is taking off   \n",
       "1                A man is playing a large flute   \n",
       "2  A man is spreading shreded cheese on a pizza   \n",
       "3                   Three men are playing chess   \n",
       "4                    A man is playing the cello   \n",
       "\n",
       "                                               sent2  score  \\\n",
       "0                         An air plane is taking off   5.00   \n",
       "1                           A man is playing a flute   3.80   \n",
       "2  A man is spreading shredded cheese on an uncoo...   3.80   \n",
       "3                          Two men are playing chess   2.60   \n",
       "4                  A man seated is playing the cello   4.25   \n",
       "\n",
       "                                     sent1_embedding  \\\n",
       "0  [0.037235305, 0.049875773, -0.0409201, -0.0306...   \n",
       "1  [0.013077635, -0.002221671, -0.022697706, 0.00...   \n",
       "2  [0.005028709, -0.08395849, -0.085317075, -0.00...   \n",
       "3  [0.0039357822, -0.0368405, -0.05056638, 0.0430...   \n",
       "4  [0.019301675, 0.0137491645, -0.02047302, 0.003...   \n",
       "\n",
       "                                     sent2_embedding    y_pred  \n",
       "0  [0.020289073, -0.005480495, -0.021858064, -0.0...  3.983521  \n",
       "1  [0.03319191, 0.026161613, -0.015830735, 0.0044...  4.438900  \n",
       "2  [0.02409193, -0.059204135, -0.07484605, -0.011...  4.926448  \n",
       "3  [-0.0051369094, -0.037136845, -0.05966277, 0.0...  4.858101  \n",
       "4  [0.004846013, -0.006223194, -0.024362322, 0.01...  4.200083  "
      ]
     },
     "execution_count": 150,
     "metadata": {},
     "output_type": "execute_result"
    }
   ],
   "source": [
    "train_df.head()"
   ]
  },
  {
   "cell_type": "code",
   "execution_count": 163,
   "id": "23ee50cf",
   "metadata": {},
   "outputs": [],
   "source": [
    "y_pred = train_df['y_pred']"
   ]
  },
  {
   "cell_type": "code",
   "execution_count": 164,
   "id": "5b60d4e8",
   "metadata": {},
   "outputs": [],
   "source": [
    "y_train = train_df['score']"
   ]
  },
  {
   "cell_type": "code",
   "execution_count": 165,
   "id": "43e89aae",
   "metadata": {},
   "outputs": [
    {
     "name": "stdout",
     "output_type": "stream",
     "text": [
      "Pearson correlation coefficient: 0.23\n"
     ]
    }
   ],
   "source": [
    "# Calculate Pearson correlation coefficient between predicted values and target values\n",
    "corr = pearson_corr(y_train, y_pred)\n",
    "\n",
    "# Print the correlation coefficient\n",
    "print(\"Pearson correlation coefficient: {:.2f}\".format(corr))"
   ]
  },
  {
   "cell_type": "code",
   "execution_count": 166,
   "id": "7db44db8",
   "metadata": {},
   "outputs": [],
   "source": [
    "val_df['sent1_embedding'] = val_df['sent1'].apply(lambda x: model.infer_vector(x.split()))\n",
    "val_df['sent2_embedding'] = val_df['sent2'].apply(lambda x: model.infer_vector(x.split()))"
   ]
  },
  {
   "cell_type": "code",
   "execution_count": 167,
   "id": "870ac626",
   "metadata": {},
   "outputs": [],
   "source": [
    "val_df['y_pred'] = val_df.apply(lambda x: sts_score(1 - spatial.distance.cosine(x['sent1_embedding'], x['sent2_embedding'])), axis=1)"
   ]
  },
  {
   "cell_type": "code",
   "execution_count": 168,
   "id": "0552cbc7",
   "metadata": {},
   "outputs": [
    {
     "data": {
      "text/html": [
       "<div>\n",
       "<style scoped>\n",
       "    .dataframe tbody tr th:only-of-type {\n",
       "        vertical-align: middle;\n",
       "    }\n",
       "\n",
       "    .dataframe tbody tr th {\n",
       "        vertical-align: top;\n",
       "    }\n",
       "\n",
       "    .dataframe thead th {\n",
       "        text-align: right;\n",
       "    }\n",
       "</style>\n",
       "<table border=\"1\" class=\"dataframe\">\n",
       "  <thead>\n",
       "    <tr style=\"text-align: right;\">\n",
       "      <th></th>\n",
       "      <th>sent1</th>\n",
       "      <th>sent2</th>\n",
       "      <th>score</th>\n",
       "      <th>sent1_embedding</th>\n",
       "      <th>sent2_embedding</th>\n",
       "      <th>y_pred</th>\n",
       "    </tr>\n",
       "  </thead>\n",
       "  <tbody>\n",
       "    <tr>\n",
       "      <th>0</th>\n",
       "      <td>A man with a hard hat is dancing</td>\n",
       "      <td>A man wearing a hard hat is dancing</td>\n",
       "      <td>5.00</td>\n",
       "      <td>[0.029126052, 0.0043316777, -0.03920573, -0.00...</td>\n",
       "      <td>[0.039069068, 0.018714555, -0.027640227, -0.00...</td>\n",
       "      <td>4.893406</td>\n",
       "    </tr>\n",
       "    <tr>\n",
       "      <th>1</th>\n",
       "      <td>A young child is riding a horse</td>\n",
       "      <td>A child is riding a horse</td>\n",
       "      <td>4.75</td>\n",
       "      <td>[0.02854366, 0.03102283, -0.022809574, -0.0367...</td>\n",
       "      <td>[0.02017651, -0.012082314, -0.012686647, 0.001...</td>\n",
       "      <td>4.090671</td>\n",
       "    </tr>\n",
       "    <tr>\n",
       "      <th>2</th>\n",
       "      <td>A man is feeding a mouse to a snake</td>\n",
       "      <td>The man is feeding a mouse to the snake</td>\n",
       "      <td>5.00</td>\n",
       "      <td>[0.009256553, -0.03530969, -0.04006245, -0.016...</td>\n",
       "      <td>[-0.009849704, -0.046917006, -0.043530017, -0....</td>\n",
       "      <td>4.692041</td>\n",
       "    </tr>\n",
       "    <tr>\n",
       "      <th>3</th>\n",
       "      <td>A woman is playing the guitar</td>\n",
       "      <td>A man is playing guitar</td>\n",
       "      <td>2.40</td>\n",
       "      <td>[0.001357124, 0.0037358047, -0.01523715, -0.00...</td>\n",
       "      <td>[0.0008167301, -0.0063778735, -0.009220612, 0....</td>\n",
       "      <td>4.381824</td>\n",
       "    </tr>\n",
       "    <tr>\n",
       "      <th>4</th>\n",
       "      <td>A woman is playing the flute</td>\n",
       "      <td>A man is playing a flute</td>\n",
       "      <td>2.75</td>\n",
       "      <td>[0.0050487723, -0.0055567487, -0.0055881646, -...</td>\n",
       "      <td>[0.023505239, 0.0069387676, -0.01638708, 0.012...</td>\n",
       "      <td>4.481647</td>\n",
       "    </tr>\n",
       "  </tbody>\n",
       "</table>\n",
       "</div>"
      ],
      "text/plain": [
       "                                 sent1  \\\n",
       "0     A man with a hard hat is dancing   \n",
       "1      A young child is riding a horse   \n",
       "2  A man is feeding a mouse to a snake   \n",
       "3        A woman is playing the guitar   \n",
       "4         A woman is playing the flute   \n",
       "\n",
       "                                     sent2  score  \\\n",
       "0      A man wearing a hard hat is dancing   5.00   \n",
       "1                A child is riding a horse   4.75   \n",
       "2  The man is feeding a mouse to the snake   5.00   \n",
       "3                  A man is playing guitar   2.40   \n",
       "4                 A man is playing a flute   2.75   \n",
       "\n",
       "                                     sent1_embedding  \\\n",
       "0  [0.029126052, 0.0043316777, -0.03920573, -0.00...   \n",
       "1  [0.02854366, 0.03102283, -0.022809574, -0.0367...   \n",
       "2  [0.009256553, -0.03530969, -0.04006245, -0.016...   \n",
       "3  [0.001357124, 0.0037358047, -0.01523715, -0.00...   \n",
       "4  [0.0050487723, -0.0055567487, -0.0055881646, -...   \n",
       "\n",
       "                                     sent2_embedding    y_pred  \n",
       "0  [0.039069068, 0.018714555, -0.027640227, -0.00...  4.893406  \n",
       "1  [0.02017651, -0.012082314, -0.012686647, 0.001...  4.090671  \n",
       "2  [-0.009849704, -0.046917006, -0.043530017, -0....  4.692041  \n",
       "3  [0.0008167301, -0.0063778735, -0.009220612, 0....  4.381824  \n",
       "4  [0.023505239, 0.0069387676, -0.01638708, 0.012...  4.481647  "
      ]
     },
     "execution_count": 168,
     "metadata": {},
     "output_type": "execute_result"
    }
   ],
   "source": [
    "val_df.head()"
   ]
  },
  {
   "cell_type": "code",
   "execution_count": 169,
   "id": "ad339276",
   "metadata": {},
   "outputs": [],
   "source": [
    "y_pred = val_df['y_pred']\n",
    "y_val = val_df['score']"
   ]
  },
  {
   "cell_type": "code",
   "execution_count": 170,
   "id": "9ffd249c",
   "metadata": {},
   "outputs": [
    {
     "name": "stdout",
     "output_type": "stream",
     "text": [
      "Pearson correlation coefficient: 0.19\n"
     ]
    }
   ],
   "source": [
    "# Calculate Pearson correlation coefficient between predicted values and target values\n",
    "corr = pearson_corr(y_val, y_pred)\n",
    "\n",
    "# Print the correlation coefficient\n",
    "print(\"Pearson correlation coefficient: {:.2f}\".format(corr))"
   ]
  },
  {
   "cell_type": "code",
   "execution_count": 186,
   "id": "4f10f5e0",
   "metadata": {},
   "outputs": [],
   "source": [
    "test_df['sent1_embedding'] = test_df['sent1'].apply(lambda x: model.infer_vector(x.split()))\n",
    "test_df['sent2_embedding'] = test_df['sent2'].apply(lambda x: model.infer_vector(x.split()))"
   ]
  },
  {
   "cell_type": "code",
   "execution_count": 187,
   "id": "7a3c1ba9",
   "metadata": {},
   "outputs": [],
   "source": [
    "test_df['y_pred'] = test_df.apply(lambda x: sts_score(1 - spatial.distance.cosine(x['sent1_embedding'], x['sent2_embedding'])), axis=1)"
   ]
  },
  {
   "cell_type": "code",
   "execution_count": 188,
   "id": "73ae9573",
   "metadata": {},
   "outputs": [
    {
     "data": {
      "text/html": [
       "<div>\n",
       "<style scoped>\n",
       "    .dataframe tbody tr th:only-of-type {\n",
       "        vertical-align: middle;\n",
       "    }\n",
       "\n",
       "    .dataframe tbody tr th {\n",
       "        vertical-align: top;\n",
       "    }\n",
       "\n",
       "    .dataframe thead th {\n",
       "        text-align: right;\n",
       "    }\n",
       "</style>\n",
       "<table border=\"1\" class=\"dataframe\">\n",
       "  <thead>\n",
       "    <tr style=\"text-align: right;\">\n",
       "      <th></th>\n",
       "      <th>sent1</th>\n",
       "      <th>sent2</th>\n",
       "      <th>score</th>\n",
       "      <th>sent1_embedding</th>\n",
       "      <th>sent2_embedding</th>\n",
       "      <th>y_pred</th>\n",
       "    </tr>\n",
       "  </thead>\n",
       "  <tbody>\n",
       "    <tr>\n",
       "      <th>0</th>\n",
       "      <td>A girl is styling her hair</td>\n",
       "      <td>A girl is brushing her hair</td>\n",
       "      <td>2.5</td>\n",
       "      <td>[-0.0020142705, -0.019337067, -0.032497767, -0...</td>\n",
       "      <td>[-0.006094001, -0.014797223, -0.040190816, -0....</td>\n",
       "      <td>4.781613</td>\n",
       "    </tr>\n",
       "    <tr>\n",
       "      <th>1</th>\n",
       "      <td>A group of men play soccer on the beach</td>\n",
       "      <td>A group of boys are playing soccer on the beach</td>\n",
       "      <td>3.6</td>\n",
       "      <td>[0.07079234, 0.030786736, -0.057997897, 0.0210...</td>\n",
       "      <td>[0.07462172, 0.073791735, -0.044912428, 0.0238...</td>\n",
       "      <td>4.825599</td>\n",
       "    </tr>\n",
       "    <tr>\n",
       "      <th>2</th>\n",
       "      <td>One woman is measuring another womans ankle</td>\n",
       "      <td>A woman measures another womans ankle</td>\n",
       "      <td>5.0</td>\n",
       "      <td>[-0.0053328946, -0.017211435, 0.004524707, 0.0...</td>\n",
       "      <td>[-0.0038811609, -0.023219023, -0.045904495, -0...</td>\n",
       "      <td>3.665416</td>\n",
       "    </tr>\n",
       "    <tr>\n",
       "      <th>3</th>\n",
       "      <td>A man is cutting up a cucumber</td>\n",
       "      <td>A man is slicing a cucumber</td>\n",
       "      <td>4.2</td>\n",
       "      <td>[0.025645258, 0.04911593, -0.01340625, -0.0116...</td>\n",
       "      <td>[0.006795717, 0.0065430827, -0.019682791, -0.0...</td>\n",
       "      <td>4.536721</td>\n",
       "    </tr>\n",
       "    <tr>\n",
       "      <th>4</th>\n",
       "      <td>A man is playing a harp</td>\n",
       "      <td>A man is playing a keyboard</td>\n",
       "      <td>1.5</td>\n",
       "      <td>[-0.00018151841, 0.01334669, -0.015150716, 0.0...</td>\n",
       "      <td>[0.008341481, -0.003067909, -0.009228635, -0.0...</td>\n",
       "      <td>4.300284</td>\n",
       "    </tr>\n",
       "  </tbody>\n",
       "</table>\n",
       "</div>"
      ],
      "text/plain": [
       "                                         sent1  \\\n",
       "0                   A girl is styling her hair   \n",
       "1      A group of men play soccer on the beach   \n",
       "2  One woman is measuring another womans ankle   \n",
       "3               A man is cutting up a cucumber   \n",
       "4                      A man is playing a harp   \n",
       "\n",
       "                                             sent2  score  \\\n",
       "0                      A girl is brushing her hair    2.5   \n",
       "1  A group of boys are playing soccer on the beach    3.6   \n",
       "2            A woman measures another womans ankle    5.0   \n",
       "3                      A man is slicing a cucumber    4.2   \n",
       "4                      A man is playing a keyboard    1.5   \n",
       "\n",
       "                                     sent1_embedding  \\\n",
       "0  [-0.0020142705, -0.019337067, -0.032497767, -0...   \n",
       "1  [0.07079234, 0.030786736, -0.057997897, 0.0210...   \n",
       "2  [-0.0053328946, -0.017211435, 0.004524707, 0.0...   \n",
       "3  [0.025645258, 0.04911593, -0.01340625, -0.0116...   \n",
       "4  [-0.00018151841, 0.01334669, -0.015150716, 0.0...   \n",
       "\n",
       "                                     sent2_embedding    y_pred  \n",
       "0  [-0.006094001, -0.014797223, -0.040190816, -0....  4.781613  \n",
       "1  [0.07462172, 0.073791735, -0.044912428, 0.0238...  4.825599  \n",
       "2  [-0.0038811609, -0.023219023, -0.045904495, -0...  3.665416  \n",
       "3  [0.006795717, 0.0065430827, -0.019682791, -0.0...  4.536721  \n",
       "4  [0.008341481, -0.003067909, -0.009228635, -0.0...  4.300284  "
      ]
     },
     "execution_count": 188,
     "metadata": {},
     "output_type": "execute_result"
    }
   ],
   "source": [
    "test_df.head()"
   ]
  },
  {
   "cell_type": "code",
   "execution_count": 189,
   "id": "17af8c5c",
   "metadata": {},
   "outputs": [],
   "source": [
    "y_pred = test_df['y_pred']\n",
    "y_test = test_df['score']"
   ]
  },
  {
   "cell_type": "code",
   "execution_count": 190,
   "id": "6b12e9a4",
   "metadata": {},
   "outputs": [
    {
     "name": "stdout",
     "output_type": "stream",
     "text": [
      "Pearson correlation coefficient: 0.15\n"
     ]
    }
   ],
   "source": [
    "# Calculate Pearson correlation coefficient between predicted values and target values\n",
    "corr = pearson_corr(y_test, y_pred)\n",
    "\n",
    "# Print the correlation coefficient\n",
    "print(\"Pearson correlation coefficient: {:.2f}\".format(corr))"
   ]
  },
  {
   "cell_type": "code",
   "execution_count": null,
   "id": "5496db6d",
   "metadata": {},
   "outputs": [],
   "source": []
  },
  {
   "cell_type": "code",
   "execution_count": null,
   "id": "bb09a543",
   "metadata": {},
   "outputs": [],
   "source": []
  }
 ],
 "metadata": {
  "kernelspec": {
   "display_name": "nlp_venv",
   "language": "python",
   "name": "nlp_venv"
  },
  "language_info": {
   "codemirror_mode": {
    "name": "ipython",
    "version": 3
   },
   "file_extension": ".py",
   "mimetype": "text/x-python",
   "name": "python",
   "nbconvert_exporter": "python",
   "pygments_lexer": "ipython3",
   "version": "3.9.16"
  }
 },
 "nbformat": 4,
 "nbformat_minor": 5
}
