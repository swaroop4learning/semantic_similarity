{
 "cells": [
  {
   "cell_type": "code",
   "execution_count": 30,
   "id": "74c2f676",
   "metadata": {},
   "outputs": [],
   "source": [
    "import pandas as pd\n",
    "import numpy as np\n",
    "from sklearn.linear_model import LinearRegression\n",
    "from gensim.models import Word2Vec\n",
    "from sklearn.feature_extraction.text import TfidfVectorizer"
   ]
  },
  {
   "cell_type": "code",
   "execution_count": 11,
   "id": "d9114006",
   "metadata": {},
   "outputs": [],
   "source": [
    "train_df = pd.read_csv('./data/stsb-en-train.csv', usecols=[0,1,2], names=['sent1', 'sent2', 'score'], header=None)"
   ]
  },
  {
   "cell_type": "code",
   "execution_count": 12,
   "id": "786e63c1",
   "metadata": {},
   "outputs": [
    {
     "data": {
      "text/html": [
       "<div>\n",
       "<style scoped>\n",
       "    .dataframe tbody tr th:only-of-type {\n",
       "        vertical-align: middle;\n",
       "    }\n",
       "\n",
       "    .dataframe tbody tr th {\n",
       "        vertical-align: top;\n",
       "    }\n",
       "\n",
       "    .dataframe thead th {\n",
       "        text-align: right;\n",
       "    }\n",
       "</style>\n",
       "<table border=\"1\" class=\"dataframe\">\n",
       "  <thead>\n",
       "    <tr style=\"text-align: right;\">\n",
       "      <th></th>\n",
       "      <th>sent1</th>\n",
       "      <th>sent2</th>\n",
       "      <th>score</th>\n",
       "    </tr>\n",
       "  </thead>\n",
       "  <tbody>\n",
       "    <tr>\n",
       "      <th>0</th>\n",
       "      <td>A plane is taking off.</td>\n",
       "      <td>An air plane is taking off.</td>\n",
       "      <td>5.00</td>\n",
       "    </tr>\n",
       "    <tr>\n",
       "      <th>1</th>\n",
       "      <td>A man is playing a large flute.</td>\n",
       "      <td>A man is playing a flute.</td>\n",
       "      <td>3.80</td>\n",
       "    </tr>\n",
       "    <tr>\n",
       "      <th>2</th>\n",
       "      <td>A man is spreading shreded cheese on a pizza.</td>\n",
       "      <td>A man is spreading shredded cheese on an uncoo...</td>\n",
       "      <td>3.80</td>\n",
       "    </tr>\n",
       "    <tr>\n",
       "      <th>3</th>\n",
       "      <td>Three men are playing chess.</td>\n",
       "      <td>Two men are playing chess.</td>\n",
       "      <td>2.60</td>\n",
       "    </tr>\n",
       "    <tr>\n",
       "      <th>4</th>\n",
       "      <td>A man is playing the cello.</td>\n",
       "      <td>A man seated is playing the cello.</td>\n",
       "      <td>4.25</td>\n",
       "    </tr>\n",
       "  </tbody>\n",
       "</table>\n",
       "</div>"
      ],
      "text/plain": [
       "                                           sent1  \\\n",
       "0                         A plane is taking off.   \n",
       "1                A man is playing a large flute.   \n",
       "2  A man is spreading shreded cheese on a pizza.   \n",
       "3                   Three men are playing chess.   \n",
       "4                    A man is playing the cello.   \n",
       "\n",
       "                                               sent2  score  \n",
       "0                        An air plane is taking off.   5.00  \n",
       "1                          A man is playing a flute.   3.80  \n",
       "2  A man is spreading shredded cheese on an uncoo...   3.80  \n",
       "3                         Two men are playing chess.   2.60  \n",
       "4                 A man seated is playing the cello.   4.25  "
      ]
     },
     "execution_count": 12,
     "metadata": {},
     "output_type": "execute_result"
    }
   ],
   "source": [
    "train_df.head()"
   ]
  },
  {
   "cell_type": "code",
   "execution_count": 13,
   "id": "5e406ac7",
   "metadata": {},
   "outputs": [],
   "source": [
    "import re\n",
    "pattern = r'[^\\w\\s]'"
   ]
  },
  {
   "cell_type": "code",
   "execution_count": 14,
   "id": "36b7cd51",
   "metadata": {},
   "outputs": [],
   "source": [
    "train_df['sent1'] =train_df['sent1'].apply(lambda x: re.sub(pattern, '', x))\n",
    "train_df['sent2'] =train_df['sent2'].apply(lambda x: re.sub(pattern, '', x))"
   ]
  },
  {
   "cell_type": "code",
   "execution_count": 15,
   "id": "48603cbf",
   "metadata": {},
   "outputs": [
    {
     "data": {
      "text/html": [
       "<div>\n",
       "<style scoped>\n",
       "    .dataframe tbody tr th:only-of-type {\n",
       "        vertical-align: middle;\n",
       "    }\n",
       "\n",
       "    .dataframe tbody tr th {\n",
       "        vertical-align: top;\n",
       "    }\n",
       "\n",
       "    .dataframe thead th {\n",
       "        text-align: right;\n",
       "    }\n",
       "</style>\n",
       "<table border=\"1\" class=\"dataframe\">\n",
       "  <thead>\n",
       "    <tr style=\"text-align: right;\">\n",
       "      <th></th>\n",
       "      <th>sent1</th>\n",
       "      <th>sent2</th>\n",
       "      <th>score</th>\n",
       "    </tr>\n",
       "  </thead>\n",
       "  <tbody>\n",
       "    <tr>\n",
       "      <th>0</th>\n",
       "      <td>A plane is taking off</td>\n",
       "      <td>An air plane is taking off</td>\n",
       "      <td>5.00</td>\n",
       "    </tr>\n",
       "    <tr>\n",
       "      <th>1</th>\n",
       "      <td>A man is playing a large flute</td>\n",
       "      <td>A man is playing a flute</td>\n",
       "      <td>3.80</td>\n",
       "    </tr>\n",
       "    <tr>\n",
       "      <th>2</th>\n",
       "      <td>A man is spreading shreded cheese on a pizza</td>\n",
       "      <td>A man is spreading shredded cheese on an uncoo...</td>\n",
       "      <td>3.80</td>\n",
       "    </tr>\n",
       "    <tr>\n",
       "      <th>3</th>\n",
       "      <td>Three men are playing chess</td>\n",
       "      <td>Two men are playing chess</td>\n",
       "      <td>2.60</td>\n",
       "    </tr>\n",
       "    <tr>\n",
       "      <th>4</th>\n",
       "      <td>A man is playing the cello</td>\n",
       "      <td>A man seated is playing the cello</td>\n",
       "      <td>4.25</td>\n",
       "    </tr>\n",
       "  </tbody>\n",
       "</table>\n",
       "</div>"
      ],
      "text/plain": [
       "                                          sent1  \\\n",
       "0                         A plane is taking off   \n",
       "1                A man is playing a large flute   \n",
       "2  A man is spreading shreded cheese on a pizza   \n",
       "3                   Three men are playing chess   \n",
       "4                    A man is playing the cello   \n",
       "\n",
       "                                               sent2  score  \n",
       "0                         An air plane is taking off   5.00  \n",
       "1                           A man is playing a flute   3.80  \n",
       "2  A man is spreading shredded cheese on an uncoo...   3.80  \n",
       "3                          Two men are playing chess   2.60  \n",
       "4                  A man seated is playing the cello   4.25  "
      ]
     },
     "execution_count": 15,
     "metadata": {},
     "output_type": "execute_result"
    }
   ],
   "source": [
    "train_df.head()"
   ]
  },
  {
   "cell_type": "code",
   "execution_count": 16,
   "id": "c3302c68",
   "metadata": {},
   "outputs": [],
   "source": [
    "val_df = pd.read_csv('./data/stsb-en-dev.csv', usecols=[0,1,2], names=['sent1', 'sent2', 'score'], header=None)"
   ]
  },
  {
   "cell_type": "code",
   "execution_count": 17,
   "id": "f68a9507",
   "metadata": {},
   "outputs": [
    {
     "data": {
      "text/html": [
       "<div>\n",
       "<style scoped>\n",
       "    .dataframe tbody tr th:only-of-type {\n",
       "        vertical-align: middle;\n",
       "    }\n",
       "\n",
       "    .dataframe tbody tr th {\n",
       "        vertical-align: top;\n",
       "    }\n",
       "\n",
       "    .dataframe thead th {\n",
       "        text-align: right;\n",
       "    }\n",
       "</style>\n",
       "<table border=\"1\" class=\"dataframe\">\n",
       "  <thead>\n",
       "    <tr style=\"text-align: right;\">\n",
       "      <th></th>\n",
       "      <th>sent1</th>\n",
       "      <th>sent2</th>\n",
       "      <th>score</th>\n",
       "    </tr>\n",
       "  </thead>\n",
       "  <tbody>\n",
       "    <tr>\n",
       "      <th>0</th>\n",
       "      <td>A man with a hard hat is dancing.</td>\n",
       "      <td>A man wearing a hard hat is dancing.</td>\n",
       "      <td>5.00</td>\n",
       "    </tr>\n",
       "    <tr>\n",
       "      <th>1</th>\n",
       "      <td>A young child is riding a horse.</td>\n",
       "      <td>A child is riding a horse.</td>\n",
       "      <td>4.75</td>\n",
       "    </tr>\n",
       "    <tr>\n",
       "      <th>2</th>\n",
       "      <td>A man is feeding a mouse to a snake.</td>\n",
       "      <td>The man is feeding a mouse to the snake.</td>\n",
       "      <td>5.00</td>\n",
       "    </tr>\n",
       "    <tr>\n",
       "      <th>3</th>\n",
       "      <td>A woman is playing the guitar.</td>\n",
       "      <td>A man is playing guitar.</td>\n",
       "      <td>2.40</td>\n",
       "    </tr>\n",
       "    <tr>\n",
       "      <th>4</th>\n",
       "      <td>A woman is playing the flute.</td>\n",
       "      <td>A man is playing a flute.</td>\n",
       "      <td>2.75</td>\n",
       "    </tr>\n",
       "  </tbody>\n",
       "</table>\n",
       "</div>"
      ],
      "text/plain": [
       "                                  sent1  \\\n",
       "0     A man with a hard hat is dancing.   \n",
       "1      A young child is riding a horse.   \n",
       "2  A man is feeding a mouse to a snake.   \n",
       "3        A woman is playing the guitar.   \n",
       "4         A woman is playing the flute.   \n",
       "\n",
       "                                      sent2  score  \n",
       "0      A man wearing a hard hat is dancing.   5.00  \n",
       "1                A child is riding a horse.   4.75  \n",
       "2  The man is feeding a mouse to the snake.   5.00  \n",
       "3                  A man is playing guitar.   2.40  \n",
       "4                 A man is playing a flute.   2.75  "
      ]
     },
     "execution_count": 17,
     "metadata": {},
     "output_type": "execute_result"
    }
   ],
   "source": [
    "val_df.head()"
   ]
  },
  {
   "cell_type": "code",
   "execution_count": 18,
   "id": "2862e212",
   "metadata": {},
   "outputs": [],
   "source": [
    "val_df['sent1'] =val_df['sent1'].apply(lambda x: re.sub(pattern, '', x))\n",
    "val_df['sent2'] =val_df['sent2'].apply(lambda x: re.sub(pattern, '', x))"
   ]
  },
  {
   "cell_type": "code",
   "execution_count": 19,
   "id": "c57a9091",
   "metadata": {},
   "outputs": [
    {
     "data": {
      "text/html": [
       "<div>\n",
       "<style scoped>\n",
       "    .dataframe tbody tr th:only-of-type {\n",
       "        vertical-align: middle;\n",
       "    }\n",
       "\n",
       "    .dataframe tbody tr th {\n",
       "        vertical-align: top;\n",
       "    }\n",
       "\n",
       "    .dataframe thead th {\n",
       "        text-align: right;\n",
       "    }\n",
       "</style>\n",
       "<table border=\"1\" class=\"dataframe\">\n",
       "  <thead>\n",
       "    <tr style=\"text-align: right;\">\n",
       "      <th></th>\n",
       "      <th>sent1</th>\n",
       "      <th>sent2</th>\n",
       "      <th>score</th>\n",
       "    </tr>\n",
       "  </thead>\n",
       "  <tbody>\n",
       "    <tr>\n",
       "      <th>0</th>\n",
       "      <td>A man with a hard hat is dancing</td>\n",
       "      <td>A man wearing a hard hat is dancing</td>\n",
       "      <td>5.00</td>\n",
       "    </tr>\n",
       "    <tr>\n",
       "      <th>1</th>\n",
       "      <td>A young child is riding a horse</td>\n",
       "      <td>A child is riding a horse</td>\n",
       "      <td>4.75</td>\n",
       "    </tr>\n",
       "    <tr>\n",
       "      <th>2</th>\n",
       "      <td>A man is feeding a mouse to a snake</td>\n",
       "      <td>The man is feeding a mouse to the snake</td>\n",
       "      <td>5.00</td>\n",
       "    </tr>\n",
       "    <tr>\n",
       "      <th>3</th>\n",
       "      <td>A woman is playing the guitar</td>\n",
       "      <td>A man is playing guitar</td>\n",
       "      <td>2.40</td>\n",
       "    </tr>\n",
       "    <tr>\n",
       "      <th>4</th>\n",
       "      <td>A woman is playing the flute</td>\n",
       "      <td>A man is playing a flute</td>\n",
       "      <td>2.75</td>\n",
       "    </tr>\n",
       "  </tbody>\n",
       "</table>\n",
       "</div>"
      ],
      "text/plain": [
       "                                 sent1  \\\n",
       "0     A man with a hard hat is dancing   \n",
       "1      A young child is riding a horse   \n",
       "2  A man is feeding a mouse to a snake   \n",
       "3        A woman is playing the guitar   \n",
       "4         A woman is playing the flute   \n",
       "\n",
       "                                     sent2  score  \n",
       "0      A man wearing a hard hat is dancing   5.00  \n",
       "1                A child is riding a horse   4.75  \n",
       "2  The man is feeding a mouse to the snake   5.00  \n",
       "3                  A man is playing guitar   2.40  \n",
       "4                 A man is playing a flute   2.75  "
      ]
     },
     "execution_count": 19,
     "metadata": {},
     "output_type": "execute_result"
    }
   ],
   "source": [
    "val_df.head()"
   ]
  },
  {
   "cell_type": "code",
   "execution_count": 70,
   "id": "51c8b670",
   "metadata": {},
   "outputs": [],
   "source": [
    "test_df = pd.read_csv('./data/stsb-en-test.csv', usecols=[0,1,2], names=['sent1', 'sent2', 'score'], header=None)"
   ]
  },
  {
   "cell_type": "code",
   "execution_count": 71,
   "id": "916f047f",
   "metadata": {},
   "outputs": [
    {
     "data": {
      "text/html": [
       "<div>\n",
       "<style scoped>\n",
       "    .dataframe tbody tr th:only-of-type {\n",
       "        vertical-align: middle;\n",
       "    }\n",
       "\n",
       "    .dataframe tbody tr th {\n",
       "        vertical-align: top;\n",
       "    }\n",
       "\n",
       "    .dataframe thead th {\n",
       "        text-align: right;\n",
       "    }\n",
       "</style>\n",
       "<table border=\"1\" class=\"dataframe\">\n",
       "  <thead>\n",
       "    <tr style=\"text-align: right;\">\n",
       "      <th></th>\n",
       "      <th>sent1</th>\n",
       "      <th>sent2</th>\n",
       "      <th>score</th>\n",
       "    </tr>\n",
       "  </thead>\n",
       "  <tbody>\n",
       "    <tr>\n",
       "      <th>0</th>\n",
       "      <td>A girl is styling her hair.</td>\n",
       "      <td>A girl is brushing her hair.</td>\n",
       "      <td>2.5</td>\n",
       "    </tr>\n",
       "    <tr>\n",
       "      <th>1</th>\n",
       "      <td>A group of men play soccer on the beach.</td>\n",
       "      <td>A group of boys are playing soccer on the beach.</td>\n",
       "      <td>3.6</td>\n",
       "    </tr>\n",
       "    <tr>\n",
       "      <th>2</th>\n",
       "      <td>One woman is measuring another woman's ankle.</td>\n",
       "      <td>A woman measures another woman's ankle.</td>\n",
       "      <td>5.0</td>\n",
       "    </tr>\n",
       "    <tr>\n",
       "      <th>3</th>\n",
       "      <td>A man is cutting up a cucumber.</td>\n",
       "      <td>A man is slicing a cucumber.</td>\n",
       "      <td>4.2</td>\n",
       "    </tr>\n",
       "    <tr>\n",
       "      <th>4</th>\n",
       "      <td>A man is playing a harp.</td>\n",
       "      <td>A man is playing a keyboard.</td>\n",
       "      <td>1.5</td>\n",
       "    </tr>\n",
       "  </tbody>\n",
       "</table>\n",
       "</div>"
      ],
      "text/plain": [
       "                                           sent1  \\\n",
       "0                    A girl is styling her hair.   \n",
       "1       A group of men play soccer on the beach.   \n",
       "2  One woman is measuring another woman's ankle.   \n",
       "3                A man is cutting up a cucumber.   \n",
       "4                       A man is playing a harp.   \n",
       "\n",
       "                                              sent2  score  \n",
       "0                      A girl is brushing her hair.    2.5  \n",
       "1  A group of boys are playing soccer on the beach.    3.6  \n",
       "2           A woman measures another woman's ankle.    5.0  \n",
       "3                      A man is slicing a cucumber.    4.2  \n",
       "4                      A man is playing a keyboard.    1.5  "
      ]
     },
     "execution_count": 71,
     "metadata": {},
     "output_type": "execute_result"
    }
   ],
   "source": [
    "test_df.head()"
   ]
  },
  {
   "cell_type": "code",
   "execution_count": 72,
   "id": "ac85eb09",
   "metadata": {},
   "outputs": [],
   "source": [
    "test_df['sent1'] =test_df['sent1'].apply(lambda x: re.sub(pattern, '', x))\n",
    "test_df['sent2'] =test_df['sent2'].apply(lambda x: re.sub(pattern, '', x))"
   ]
  },
  {
   "cell_type": "code",
   "execution_count": 20,
   "id": "ebf24306",
   "metadata": {},
   "outputs": [
    {
     "data": {
      "text/plain": [
       "5749"
      ]
     },
     "execution_count": 20,
     "metadata": {},
     "output_type": "execute_result"
    }
   ],
   "source": [
    "len(train_df)"
   ]
  },
  {
   "cell_type": "code",
   "execution_count": 21,
   "id": "d1630557",
   "metadata": {},
   "outputs": [
    {
     "data": {
      "text/plain": [
       "1500"
      ]
     },
     "execution_count": 21,
     "metadata": {},
     "output_type": "execute_result"
    }
   ],
   "source": [
    "len(val_df)"
   ]
  },
  {
   "cell_type": "code",
   "execution_count": 73,
   "id": "bf907a2b",
   "metadata": {},
   "outputs": [
    {
     "data": {
      "text/plain": [
       "1379"
      ]
     },
     "execution_count": 73,
     "metadata": {},
     "output_type": "execute_result"
    }
   ],
   "source": [
    "len(test_df)"
   ]
  },
  {
   "cell_type": "code",
   "execution_count": 22,
   "id": "a6086044",
   "metadata": {},
   "outputs": [],
   "source": [
    "total_sents = list(train_df['sent1'])"
   ]
  },
  {
   "cell_type": "code",
   "execution_count": 23,
   "id": "54938485",
   "metadata": {},
   "outputs": [],
   "source": [
    "total_sents.extend(list(train_df['sent2']))"
   ]
  },
  {
   "cell_type": "code",
   "execution_count": 26,
   "id": "31f2fa7f",
   "metadata": {},
   "outputs": [
    {
     "data": {
      "text/plain": [
       "['A plane is taking off',\n",
       " 'A man is playing a large flute',\n",
       " 'A man is spreading shreded cheese on a pizza',\n",
       " 'Three men are playing chess',\n",
       " 'A man is playing the cello']"
      ]
     },
     "execution_count": 26,
     "metadata": {},
     "output_type": "execute_result"
    }
   ],
   "source": [
    "total_sents[0:5]"
   ]
  },
  {
   "cell_type": "code",
   "execution_count": 27,
   "id": "eb160c85",
   "metadata": {},
   "outputs": [
    {
     "data": {
      "text/plain": [
       "11498"
      ]
     },
     "execution_count": 27,
     "metadata": {},
     "output_type": "execute_result"
    }
   ],
   "source": [
    "len(total_sents)"
   ]
  },
  {
   "cell_type": "code",
   "execution_count": 28,
   "id": "1605a093",
   "metadata": {},
   "outputs": [],
   "source": [
    "total_sents_df = pd.Series(total_sents)"
   ]
  },
  {
   "cell_type": "code",
   "execution_count": 29,
   "id": "d1c32d2b",
   "metadata": {},
   "outputs": [
    {
     "data": {
      "text/plain": [
       "11498"
      ]
     },
     "execution_count": 29,
     "metadata": {},
     "output_type": "execute_result"
    }
   ],
   "source": [
    "len(total_sents_df)"
   ]
  },
  {
   "cell_type": "code",
   "execution_count": 466,
   "id": "48f61ba1",
   "metadata": {},
   "outputs": [],
   "source": [
    "vectorizer = TfidfVectorizer()"
   ]
  },
  {
   "cell_type": "code",
   "execution_count": 467,
   "id": "f4527fa8",
   "metadata": {},
   "outputs": [],
   "source": [
    "X_train_sents = vectorizer.fit_transform(total_sents_df)"
   ]
  },
  {
   "cell_type": "code",
   "execution_count": 468,
   "id": "34f6d565",
   "metadata": {},
   "outputs": [],
   "source": [
    "X_train_sentence1 = vectorizer.transform(train_df['sent1'])\n",
    "X_train_sentence2 = vectorizer.transform(train_df['sent2'])"
   ]
  },
  {
   "cell_type": "code",
   "execution_count": 469,
   "id": "43b9c832",
   "metadata": {},
   "outputs": [],
   "source": [
    "X_test_sentence1 = vectorizer.transform(val_df['sent1'])\n",
    "X_test_sentence2 = vectorizer.transform(val_df['sent2'])"
   ]
  },
  {
   "cell_type": "code",
   "execution_count": 470,
   "id": "410fe92e",
   "metadata": {},
   "outputs": [],
   "source": [
    "# Combine the sentence vectors for training and testing data\n",
    "X_train_vectorized = np.hstack((X_train_sentence1.toarray(), X_train_sentence2.toarray()))\n",
    "X_test_vectorized = np.hstack((X_test_sentence1.toarray(), X_test_sentence2.toarray()))"
   ]
  },
  {
   "cell_type": "code",
   "execution_count": 471,
   "id": "5fd64d8b",
   "metadata": {},
   "outputs": [],
   "source": [
    "y_train = train_df['score']\n",
    "y_test = val_df['score']"
   ]
  },
  {
   "cell_type": "code",
   "execution_count": 472,
   "id": "fbcd6286",
   "metadata": {},
   "outputs": [
    {
     "data": {
      "text/html": [
       "<style>#sk-container-id-1 {color: black;background-color: white;}#sk-container-id-1 pre{padding: 0;}#sk-container-id-1 div.sk-toggleable {background-color: white;}#sk-container-id-1 label.sk-toggleable__label {cursor: pointer;display: block;width: 100%;margin-bottom: 0;padding: 0.3em;box-sizing: border-box;text-align: center;}#sk-container-id-1 label.sk-toggleable__label-arrow:before {content: \"▸\";float: left;margin-right: 0.25em;color: #696969;}#sk-container-id-1 label.sk-toggleable__label-arrow:hover:before {color: black;}#sk-container-id-1 div.sk-estimator:hover label.sk-toggleable__label-arrow:before {color: black;}#sk-container-id-1 div.sk-toggleable__content {max-height: 0;max-width: 0;overflow: hidden;text-align: left;background-color: #f0f8ff;}#sk-container-id-1 div.sk-toggleable__content pre {margin: 0.2em;color: black;border-radius: 0.25em;background-color: #f0f8ff;}#sk-container-id-1 input.sk-toggleable__control:checked~div.sk-toggleable__content {max-height: 200px;max-width: 100%;overflow: auto;}#sk-container-id-1 input.sk-toggleable__control:checked~label.sk-toggleable__label-arrow:before {content: \"▾\";}#sk-container-id-1 div.sk-estimator input.sk-toggleable__control:checked~label.sk-toggleable__label {background-color: #d4ebff;}#sk-container-id-1 div.sk-label input.sk-toggleable__control:checked~label.sk-toggleable__label {background-color: #d4ebff;}#sk-container-id-1 input.sk-hidden--visually {border: 0;clip: rect(1px 1px 1px 1px);clip: rect(1px, 1px, 1px, 1px);height: 1px;margin: -1px;overflow: hidden;padding: 0;position: absolute;width: 1px;}#sk-container-id-1 div.sk-estimator {font-family: monospace;background-color: #f0f8ff;border: 1px dotted black;border-radius: 0.25em;box-sizing: border-box;margin-bottom: 0.5em;}#sk-container-id-1 div.sk-estimator:hover {background-color: #d4ebff;}#sk-container-id-1 div.sk-parallel-item::after {content: \"\";width: 100%;border-bottom: 1px solid gray;flex-grow: 1;}#sk-container-id-1 div.sk-label:hover label.sk-toggleable__label {background-color: #d4ebff;}#sk-container-id-1 div.sk-serial::before {content: \"\";position: absolute;border-left: 1px solid gray;box-sizing: border-box;top: 0;bottom: 0;left: 50%;z-index: 0;}#sk-container-id-1 div.sk-serial {display: flex;flex-direction: column;align-items: center;background-color: white;padding-right: 0.2em;padding-left: 0.2em;position: relative;}#sk-container-id-1 div.sk-item {position: relative;z-index: 1;}#sk-container-id-1 div.sk-parallel {display: flex;align-items: stretch;justify-content: center;background-color: white;position: relative;}#sk-container-id-1 div.sk-item::before, #sk-container-id-1 div.sk-parallel-item::before {content: \"\";position: absolute;border-left: 1px solid gray;box-sizing: border-box;top: 0;bottom: 0;left: 50%;z-index: -1;}#sk-container-id-1 div.sk-parallel-item {display: flex;flex-direction: column;z-index: 1;position: relative;background-color: white;}#sk-container-id-1 div.sk-parallel-item:first-child::after {align-self: flex-end;width: 50%;}#sk-container-id-1 div.sk-parallel-item:last-child::after {align-self: flex-start;width: 50%;}#sk-container-id-1 div.sk-parallel-item:only-child::after {width: 0;}#sk-container-id-1 div.sk-dashed-wrapped {border: 1px dashed gray;margin: 0 0.4em 0.5em 0.4em;box-sizing: border-box;padding-bottom: 0.4em;background-color: white;}#sk-container-id-1 div.sk-label label {font-family: monospace;font-weight: bold;display: inline-block;line-height: 1.2em;}#sk-container-id-1 div.sk-label-container {text-align: center;}#sk-container-id-1 div.sk-container {/* jupyter's `normalize.less` sets `[hidden] { display: none; }` but bootstrap.min.css set `[hidden] { display: none !important; }` so we also need the `!important` here to be able to override the default hidden behavior on the sphinx rendered scikit-learn.org. See: https://github.com/scikit-learn/scikit-learn/issues/21755 */display: inline-block !important;position: relative;}#sk-container-id-1 div.sk-text-repr-fallback {display: none;}</style><div id=\"sk-container-id-1\" class=\"sk-top-container\"><div class=\"sk-text-repr-fallback\"><pre>LinearRegression()</pre><b>In a Jupyter environment, please rerun this cell to show the HTML representation or trust the notebook. <br />On GitHub, the HTML representation is unable to render, please try loading this page with nbviewer.org.</b></div><div class=\"sk-container\" hidden><div class=\"sk-item\"><div class=\"sk-estimator sk-toggleable\"><input class=\"sk-toggleable__control sk-hidden--visually\" id=\"sk-estimator-id-1\" type=\"checkbox\" checked><label for=\"sk-estimator-id-1\" class=\"sk-toggleable__label sk-toggleable__label-arrow\">LinearRegression</label><div class=\"sk-toggleable__content\"><pre>LinearRegression()</pre></div></div></div></div></div>"
      ],
      "text/plain": [
       "LinearRegression()"
      ]
     },
     "execution_count": 472,
     "metadata": {},
     "output_type": "execute_result"
    }
   ],
   "source": [
    "model = LinearRegression()\n",
    "model.fit(X_train_vectorized, y_train)"
   ]
  },
  {
   "cell_type": "code",
   "execution_count": 473,
   "id": "815cec83",
   "metadata": {},
   "outputs": [
    {
     "name": "stdout",
     "output_type": "stream",
     "text": [
      "Model score on testing dataset: -3.5885542881675076e+24\n"
     ]
    }
   ],
   "source": [
    "score = model.score(X_test_vectorized, y_test)\n",
    "print(f\"Model score on testing dataset: {score}\")"
   ]
  },
  {
   "cell_type": "code",
   "execution_count": 474,
   "id": "143bfb64",
   "metadata": {},
   "outputs": [
    {
     "data": {
      "text/plain": [
       "array([ 1.12254858e+12,  1.79777806e+12,  1.35155836e+11, ...,\n",
       "        3.58372417e+12, -7.77053917e+11,  9.39278380e+11])"
      ]
     },
     "execution_count": 474,
     "metadata": {},
     "output_type": "execute_result"
    }
   ],
   "source": [
    "model.predict(X_test_vectorized)"
   ]
  },
  {
   "cell_type": "code",
   "execution_count": 475,
   "id": "36786362",
   "metadata": {},
   "outputs": [
    {
     "data": {
      "text/html": [
       "<style>#sk-container-id-2 {color: black;background-color: white;}#sk-container-id-2 pre{padding: 0;}#sk-container-id-2 div.sk-toggleable {background-color: white;}#sk-container-id-2 label.sk-toggleable__label {cursor: pointer;display: block;width: 100%;margin-bottom: 0;padding: 0.3em;box-sizing: border-box;text-align: center;}#sk-container-id-2 label.sk-toggleable__label-arrow:before {content: \"▸\";float: left;margin-right: 0.25em;color: #696969;}#sk-container-id-2 label.sk-toggleable__label-arrow:hover:before {color: black;}#sk-container-id-2 div.sk-estimator:hover label.sk-toggleable__label-arrow:before {color: black;}#sk-container-id-2 div.sk-toggleable__content {max-height: 0;max-width: 0;overflow: hidden;text-align: left;background-color: #f0f8ff;}#sk-container-id-2 div.sk-toggleable__content pre {margin: 0.2em;color: black;border-radius: 0.25em;background-color: #f0f8ff;}#sk-container-id-2 input.sk-toggleable__control:checked~div.sk-toggleable__content {max-height: 200px;max-width: 100%;overflow: auto;}#sk-container-id-2 input.sk-toggleable__control:checked~label.sk-toggleable__label-arrow:before {content: \"▾\";}#sk-container-id-2 div.sk-estimator input.sk-toggleable__control:checked~label.sk-toggleable__label {background-color: #d4ebff;}#sk-container-id-2 div.sk-label input.sk-toggleable__control:checked~label.sk-toggleable__label {background-color: #d4ebff;}#sk-container-id-2 input.sk-hidden--visually {border: 0;clip: rect(1px 1px 1px 1px);clip: rect(1px, 1px, 1px, 1px);height: 1px;margin: -1px;overflow: hidden;padding: 0;position: absolute;width: 1px;}#sk-container-id-2 div.sk-estimator {font-family: monospace;background-color: #f0f8ff;border: 1px dotted black;border-radius: 0.25em;box-sizing: border-box;margin-bottom: 0.5em;}#sk-container-id-2 div.sk-estimator:hover {background-color: #d4ebff;}#sk-container-id-2 div.sk-parallel-item::after {content: \"\";width: 100%;border-bottom: 1px solid gray;flex-grow: 1;}#sk-container-id-2 div.sk-label:hover label.sk-toggleable__label {background-color: #d4ebff;}#sk-container-id-2 div.sk-serial::before {content: \"\";position: absolute;border-left: 1px solid gray;box-sizing: border-box;top: 0;bottom: 0;left: 50%;z-index: 0;}#sk-container-id-2 div.sk-serial {display: flex;flex-direction: column;align-items: center;background-color: white;padding-right: 0.2em;padding-left: 0.2em;position: relative;}#sk-container-id-2 div.sk-item {position: relative;z-index: 1;}#sk-container-id-2 div.sk-parallel {display: flex;align-items: stretch;justify-content: center;background-color: white;position: relative;}#sk-container-id-2 div.sk-item::before, #sk-container-id-2 div.sk-parallel-item::before {content: \"\";position: absolute;border-left: 1px solid gray;box-sizing: border-box;top: 0;bottom: 0;left: 50%;z-index: -1;}#sk-container-id-2 div.sk-parallel-item {display: flex;flex-direction: column;z-index: 1;position: relative;background-color: white;}#sk-container-id-2 div.sk-parallel-item:first-child::after {align-self: flex-end;width: 50%;}#sk-container-id-2 div.sk-parallel-item:last-child::after {align-self: flex-start;width: 50%;}#sk-container-id-2 div.sk-parallel-item:only-child::after {width: 0;}#sk-container-id-2 div.sk-dashed-wrapped {border: 1px dashed gray;margin: 0 0.4em 0.5em 0.4em;box-sizing: border-box;padding-bottom: 0.4em;background-color: white;}#sk-container-id-2 div.sk-label label {font-family: monospace;font-weight: bold;display: inline-block;line-height: 1.2em;}#sk-container-id-2 div.sk-label-container {text-align: center;}#sk-container-id-2 div.sk-container {/* jupyter's `normalize.less` sets `[hidden] { display: none; }` but bootstrap.min.css set `[hidden] { display: none !important; }` so we also need the `!important` here to be able to override the default hidden behavior on the sphinx rendered scikit-learn.org. See: https://github.com/scikit-learn/scikit-learn/issues/21755 */display: inline-block !important;position: relative;}#sk-container-id-2 div.sk-text-repr-fallback {display: none;}</style><div id=\"sk-container-id-2\" class=\"sk-top-container\"><div class=\"sk-text-repr-fallback\"><pre>LinearRegression()</pre><b>In a Jupyter environment, please rerun this cell to show the HTML representation or trust the notebook. <br />On GitHub, the HTML representation is unable to render, please try loading this page with nbviewer.org.</b></div><div class=\"sk-container\" hidden><div class=\"sk-item\"><div class=\"sk-estimator sk-toggleable\"><input class=\"sk-toggleable__control sk-hidden--visually\" id=\"sk-estimator-id-2\" type=\"checkbox\" checked><label for=\"sk-estimator-id-2\" class=\"sk-toggleable__label sk-toggleable__label-arrow\">LinearRegression</label><div class=\"sk-toggleable__content\"><pre>LinearRegression()</pre></div></div></div></div></div>"
      ],
      "text/plain": [
       "LinearRegression()"
      ]
     },
     "execution_count": 475,
     "metadata": {},
     "output_type": "execute_result"
    }
   ],
   "source": [
    "# Normalize the target variable to be in the range of 0 to 1\n",
    "y_train_normalized = (y_train - y_train.min()) / (y_train.max() - y_train.min())\n",
    "\n",
    "# Train the model on the normalized target variable\n",
    "model = LinearRegression()\n",
    "model.fit(X_train_vectorized, y_train_normalized)"
   ]
  },
  {
   "cell_type": "code",
   "execution_count": 476,
   "id": "2a16ba55",
   "metadata": {},
   "outputs": [
    {
     "name": "stdout",
     "output_type": "stream",
     "text": [
      "Model score on testing dataset: -1.4354217152668285e+23\n"
     ]
    }
   ],
   "source": [
    "# Predict normalized similarity scores for the testing dataset\n",
    "y_pred_normalized = model.predict(X_test_vectorized)\n",
    "\n",
    "# Scale the normalized predictions back to the original range of 0 to 5\n",
    "y_pred = y_pred_normalized * (y_train.max() - y_train.min()) + y_train.min()\n",
    "\n",
    "# Evaluate the model's performance on the testing dataset\n",
    "score = model.score(X_test_vectorized, y_test)\n",
    "print(f\"Model score on testing dataset: {score}\")"
   ]
  },
  {
   "cell_type": "code",
   "execution_count": 477,
   "id": "fc17cd59",
   "metadata": {},
   "outputs": [],
   "source": [
    "from scipy.stats import pearsonr\n",
    "def pearson_corr(y_true, y_pred):\n",
    "    \"\"\"\n",
    "    Calculate Pearson correlation coefficient between two arrays.\n",
    "    \"\"\"\n",
    "    corr, _ = pearsonr(y_true, y_pred)\n",
    "    return corr"
   ]
  },
  {
   "cell_type": "code",
   "execution_count": 478,
   "id": "d31f4023",
   "metadata": {},
   "outputs": [
    {
     "name": "stdout",
     "output_type": "stream",
     "text": [
      "Pearson correlation coefficient: 0.01\n"
     ]
    }
   ],
   "source": [
    "# Calculate Pearson correlation coefficient between predicted values and target values\n",
    "corr = pearson_corr(y_test, y_pred)\n",
    "\n",
    "# Print the correlation coefficient\n",
    "print(\"Pearson correlation coefficient: {:.2f}\".format(corr))"
   ]
  },
  {
   "cell_type": "code",
   "execution_count": null,
   "id": "81ac8e1e",
   "metadata": {},
   "outputs": [],
   "source": []
  },
  {
   "cell_type": "markdown",
   "id": "dcae2f1f",
   "metadata": {},
   "source": [
    "## Word2vec - Doc2vec"
   ]
  },
  {
   "cell_type": "code",
   "execution_count": 13,
   "id": "7885ee80",
   "metadata": {},
   "outputs": [
    {
     "data": {
      "text/plain": [
       "['A', 'plane', 'is', 'taking', 'off.']"
      ]
     },
     "execution_count": 13,
     "metadata": {},
     "output_type": "execute_result"
    }
   ],
   "source": [
    "total_sents[0].split()"
   ]
  },
  {
   "cell_type": "code",
   "execution_count": 40,
   "id": "5bd0e2aa",
   "metadata": {},
   "outputs": [],
   "source": [
    "from gensim.models.doc2vec import Doc2Vec, TaggedDocument\n",
    "from scipy import spatial"
   ]
  },
  {
   "cell_type": "code",
   "execution_count": 252,
   "id": "ac7ccf30",
   "metadata": {},
   "outputs": [],
   "source": [
    "max_length = max(len(sentence) for sentence in total_sents)"
   ]
  },
  {
   "cell_type": "code",
   "execution_count": 253,
   "id": "ec44fd70",
   "metadata": {},
   "outputs": [
    {
     "data": {
      "text/plain": [
       "360"
      ]
     },
     "execution_count": 253,
     "metadata": {},
     "output_type": "execute_result"
    }
   ],
   "source": [
    "max_length"
   ]
  },
  {
   "cell_type": "code",
   "execution_count": 32,
   "id": "2e1927b6",
   "metadata": {},
   "outputs": [],
   "source": [
    "documents = []\n",
    "for idx, sent in enumerate(total_sents):\n",
    "    tokens = sent.split()\n",
    "    documents.append(TaggedDocument(tokens, [idx]))\n",
    "    \n",
    "    "
   ]
  },
  {
   "cell_type": "code",
   "execution_count": 34,
   "id": "9efde90e",
   "metadata": {},
   "outputs": [
    {
     "data": {
      "text/plain": [
       "[TaggedDocument(words=['A', 'plane', 'is', 'taking', 'off'], tags=[0]),\n",
       " TaggedDocument(words=['A', 'man', 'is', 'playing', 'a', 'large', 'flute'], tags=[1]),\n",
       " TaggedDocument(words=['A', 'man', 'is', 'spreading', 'shreded', 'cheese', 'on', 'a', 'pizza'], tags=[2]),\n",
       " TaggedDocument(words=['Three', 'men', 'are', 'playing', 'chess'], tags=[3]),\n",
       " TaggedDocument(words=['A', 'man', 'is', 'playing', 'the', 'cello'], tags=[4])]"
      ]
     },
     "execution_count": 34,
     "metadata": {},
     "output_type": "execute_result"
    }
   ],
   "source": [
    "documents[0:5]"
   ]
  },
  {
   "cell_type": "code",
   "execution_count": 447,
   "id": "7cdec652",
   "metadata": {},
   "outputs": [],
   "source": [
    "# Build and train the Doc2Vec model - This needs further fine tuning\n",
    "model = Doc2Vec(documents, vector_size=50, window=4, min_count=1, workers=4, epochs=10, alpha=0.025, min_alpha=0.025)"
   ]
  },
  {
   "cell_type": "code",
   "execution_count": 314,
   "id": "f100f663",
   "metadata": {},
   "outputs": [],
   "source": [
    "# Save the trained model to disk\n",
    "#model.save('doc2vec_model_v1')\n",
    "\n",
    "# Load the saved model from disk\n",
    "#model = Doc2Vec.load('doc2vec_model_v1')"
   ]
  },
  {
   "cell_type": "code",
   "execution_count": 418,
   "id": "274d7ea0",
   "metadata": {},
   "outputs": [],
   "source": [
    "model.random.seed(42)"
   ]
  },
  {
   "cell_type": "code",
   "execution_count": 464,
   "id": "f3b64728",
   "metadata": {},
   "outputs": [],
   "source": [
    "# Generate sentence embeddings\n",
    "embedding1 = model.infer_vector(train_df['sent1'][0].split())\n",
    "embedding2 = model.infer_vector(train_df['sent2'][0].split())\n",
    "\n",
    "# Compare the sentence embeddings using cosine similarity\n",
    "similarity = 1 - spatial.distance.cosine(embedding1, embedding2)"
   ]
  },
  {
   "cell_type": "code",
   "execution_count": 465,
   "id": "be0419a4",
   "metadata": {},
   "outputs": [
    {
     "data": {
      "text/plain": [
       "0.7302546501159668"
      ]
     },
     "execution_count": 465,
     "metadata": {},
     "output_type": "execute_result"
    }
   ],
   "source": [
    "similarity"
   ]
  },
  {
   "cell_type": "code",
   "execution_count": 421,
   "id": "5eb12127",
   "metadata": {},
   "outputs": [
    {
     "data": {
      "text/plain": [
       "50"
      ]
     },
     "execution_count": 421,
     "metadata": {},
     "output_type": "execute_result"
    }
   ],
   "source": [
    "len(embedding2)"
   ]
  },
  {
   "cell_type": "code",
   "execution_count": 422,
   "id": "8349eade",
   "metadata": {},
   "outputs": [
    {
     "data": {
      "text/plain": [
       "50"
      ]
     },
     "execution_count": 422,
     "metadata": {},
     "output_type": "execute_result"
    }
   ],
   "source": [
    "len(embedding1)"
   ]
  },
  {
   "cell_type": "code",
   "execution_count": 423,
   "id": "459b8279",
   "metadata": {},
   "outputs": [],
   "source": [
    "def sts_score(sim_score):\n",
    "    sts_score = (sim_score+1) * 2.5\n",
    "    return sts_score"
   ]
  },
  {
   "cell_type": "code",
   "execution_count": 424,
   "id": "e365372b",
   "metadata": {},
   "outputs": [
    {
     "name": "stdout",
     "output_type": "stream",
     "text": [
      "4.768485873937607\n"
     ]
    }
   ],
   "source": [
    "print(sts_score(similarity))"
   ]
  },
  {
   "cell_type": "code",
   "execution_count": 425,
   "id": "4dda3582",
   "metadata": {},
   "outputs": [],
   "source": [
    "model.random.seed(42)\n",
    "train_df['sent1_embedding'] = train_df['sent1'].apply(lambda x: model.infer_vector(x.split()))\n",
    "train_df['sent2_embedding'] = train_df['sent2'].apply(lambda x: model.infer_vector(x.split()))"
   ]
  },
  {
   "cell_type": "code",
   "execution_count": 426,
   "id": "d555138b",
   "metadata": {},
   "outputs": [],
   "source": [
    "train_df['y_pred'] = train_df.apply(lambda x: sts_score(1 - spatial.distance.cosine(x['sent1_embedding'], x['sent2_embedding'])), axis=1)"
   ]
  },
  {
   "cell_type": "code",
   "execution_count": 427,
   "id": "f1788544",
   "metadata": {},
   "outputs": [
    {
     "data": {
      "text/html": [
       "<div>\n",
       "<style scoped>\n",
       "    .dataframe tbody tr th:only-of-type {\n",
       "        vertical-align: middle;\n",
       "    }\n",
       "\n",
       "    .dataframe tbody tr th {\n",
       "        vertical-align: top;\n",
       "    }\n",
       "\n",
       "    .dataframe thead th {\n",
       "        text-align: right;\n",
       "    }\n",
       "</style>\n",
       "<table border=\"1\" class=\"dataframe\">\n",
       "  <thead>\n",
       "    <tr style=\"text-align: right;\">\n",
       "      <th></th>\n",
       "      <th>sent1</th>\n",
       "      <th>sent2</th>\n",
       "      <th>score</th>\n",
       "      <th>sent1_embedding</th>\n",
       "      <th>sent2_embedding</th>\n",
       "      <th>y_pred</th>\n",
       "    </tr>\n",
       "  </thead>\n",
       "  <tbody>\n",
       "    <tr>\n",
       "      <th>0</th>\n",
       "      <td>A plane is taking off</td>\n",
       "      <td>An air plane is taking off</td>\n",
       "      <td>5.00</td>\n",
       "      <td>[-0.03261799, -0.057231516, -0.025054844, 0.02...</td>\n",
       "      <td>[-0.043522693, -0.08055471, 0.0068473397, 0.06...</td>\n",
       "      <td>4.652529</td>\n",
       "    </tr>\n",
       "    <tr>\n",
       "      <th>1</th>\n",
       "      <td>A man is playing a large flute</td>\n",
       "      <td>A man is playing a flute</td>\n",
       "      <td>3.80</td>\n",
       "      <td>[0.16988525, -0.042989817, 0.040764358, -0.065...</td>\n",
       "      <td>[0.069118336, -0.001824693, 0.03987648, -0.073...</td>\n",
       "      <td>4.703555</td>\n",
       "    </tr>\n",
       "    <tr>\n",
       "      <th>2</th>\n",
       "      <td>A man is spreading shreded cheese on a pizza</td>\n",
       "      <td>A man is spreading shredded cheese on an uncoo...</td>\n",
       "      <td>3.80</td>\n",
       "      <td>[-0.009786395, -0.058945123, 0.08580946, -0.15...</td>\n",
       "      <td>[0.010572702, -0.076822095, 0.07916778, -0.051...</td>\n",
       "      <td>4.748430</td>\n",
       "    </tr>\n",
       "    <tr>\n",
       "      <th>3</th>\n",
       "      <td>Three men are playing chess</td>\n",
       "      <td>Two men are playing chess</td>\n",
       "      <td>2.60</td>\n",
       "      <td>[-0.11417733, 0.05027048, 0.0027939323, 0.0411...</td>\n",
       "      <td>[-0.044409215, -0.0064910166, 0.020731455, 0.0...</td>\n",
       "      <td>4.451858</td>\n",
       "    </tr>\n",
       "    <tr>\n",
       "      <th>4</th>\n",
       "      <td>A man is playing the cello</td>\n",
       "      <td>A man seated is playing the cello</td>\n",
       "      <td>4.25</td>\n",
       "      <td>[0.062338647, 0.082752384, -0.044882916, -0.07...</td>\n",
       "      <td>[-0.08560305, 0.1209445, 0.01598528, -0.050783...</td>\n",
       "      <td>3.531286</td>\n",
       "    </tr>\n",
       "  </tbody>\n",
       "</table>\n",
       "</div>"
      ],
      "text/plain": [
       "                                          sent1  \\\n",
       "0                         A plane is taking off   \n",
       "1                A man is playing a large flute   \n",
       "2  A man is spreading shreded cheese on a pizza   \n",
       "3                   Three men are playing chess   \n",
       "4                    A man is playing the cello   \n",
       "\n",
       "                                               sent2  score  \\\n",
       "0                         An air plane is taking off   5.00   \n",
       "1                           A man is playing a flute   3.80   \n",
       "2  A man is spreading shredded cheese on an uncoo...   3.80   \n",
       "3                          Two men are playing chess   2.60   \n",
       "4                  A man seated is playing the cello   4.25   \n",
       "\n",
       "                                     sent1_embedding  \\\n",
       "0  [-0.03261799, -0.057231516, -0.025054844, 0.02...   \n",
       "1  [0.16988525, -0.042989817, 0.040764358, -0.065...   \n",
       "2  [-0.009786395, -0.058945123, 0.08580946, -0.15...   \n",
       "3  [-0.11417733, 0.05027048, 0.0027939323, 0.0411...   \n",
       "4  [0.062338647, 0.082752384, -0.044882916, -0.07...   \n",
       "\n",
       "                                     sent2_embedding    y_pred  \n",
       "0  [-0.043522693, -0.08055471, 0.0068473397, 0.06...  4.652529  \n",
       "1  [0.069118336, -0.001824693, 0.03987648, -0.073...  4.703555  \n",
       "2  [0.010572702, -0.076822095, 0.07916778, -0.051...  4.748430  \n",
       "3  [-0.044409215, -0.0064910166, 0.020731455, 0.0...  4.451858  \n",
       "4  [-0.08560305, 0.1209445, 0.01598528, -0.050783...  3.531286  "
      ]
     },
     "execution_count": 427,
     "metadata": {},
     "output_type": "execute_result"
    }
   ],
   "source": [
    "train_df.head()"
   ]
  },
  {
   "cell_type": "code",
   "execution_count": 428,
   "id": "216193a2",
   "metadata": {},
   "outputs": [],
   "source": [
    "y_pred = train_df['y_pred']"
   ]
  },
  {
   "cell_type": "code",
   "execution_count": 429,
   "id": "26a33fa0",
   "metadata": {},
   "outputs": [],
   "source": [
    "y_train = train_df['score']"
   ]
  },
  {
   "cell_type": "code",
   "execution_count": 430,
   "id": "1d42d643",
   "metadata": {},
   "outputs": [
    {
     "name": "stdout",
     "output_type": "stream",
     "text": [
      "Pearson correlation coefficient: 0.24\n"
     ]
    }
   ],
   "source": [
    "# Calculate Pearson correlation coefficient between predicted values and target values\n",
    "corr = pearson_corr(y_train, y_pred)\n",
    "\n",
    "# Print the correlation coefficient\n",
    "print(\"Pearson correlation coefficient: {:.2f}\".format(corr))"
   ]
  },
  {
   "cell_type": "code",
   "execution_count": 431,
   "id": "7e46ba28",
   "metadata": {},
   "outputs": [],
   "source": [
    "model.random.seed(42)\n",
    "val_df['sent1_embedding'] = val_df['sent1'].apply(lambda x: model.infer_vector(x.split()))\n",
    "val_df['sent2_embedding'] = val_df['sent2'].apply(lambda x: model.infer_vector(x.split()))"
   ]
  },
  {
   "cell_type": "code",
   "execution_count": 432,
   "id": "d68acbef",
   "metadata": {},
   "outputs": [],
   "source": [
    "val_df['y_pred'] = val_df.apply(lambda x: sts_score(1 - spatial.distance.cosine(x['sent1_embedding'], x['sent2_embedding'])), axis=1)"
   ]
  },
  {
   "cell_type": "code",
   "execution_count": 433,
   "id": "240efe68",
   "metadata": {},
   "outputs": [
    {
     "data": {
      "text/html": [
       "<div>\n",
       "<style scoped>\n",
       "    .dataframe tbody tr th:only-of-type {\n",
       "        vertical-align: middle;\n",
       "    }\n",
       "\n",
       "    .dataframe tbody tr th {\n",
       "        vertical-align: top;\n",
       "    }\n",
       "\n",
       "    .dataframe thead th {\n",
       "        text-align: right;\n",
       "    }\n",
       "</style>\n",
       "<table border=\"1\" class=\"dataframe\">\n",
       "  <thead>\n",
       "    <tr style=\"text-align: right;\">\n",
       "      <th></th>\n",
       "      <th>sent1</th>\n",
       "      <th>sent2</th>\n",
       "      <th>score</th>\n",
       "      <th>sent1_embedding</th>\n",
       "      <th>sent2_embedding</th>\n",
       "      <th>y_pred</th>\n",
       "    </tr>\n",
       "  </thead>\n",
       "  <tbody>\n",
       "    <tr>\n",
       "      <th>0</th>\n",
       "      <td>A man with a hard hat is dancing</td>\n",
       "      <td>A man wearing a hard hat is dancing</td>\n",
       "      <td>5.00</td>\n",
       "      <td>[0.102311775, 0.039187357, 0.082304984, -0.108...</td>\n",
       "      <td>[0.11590858, -0.06448609, -0.0059869844, -0.15...</td>\n",
       "      <td>4.551783</td>\n",
       "    </tr>\n",
       "    <tr>\n",
       "      <th>1</th>\n",
       "      <td>A young child is riding a horse</td>\n",
       "      <td>A child is riding a horse</td>\n",
       "      <td>4.75</td>\n",
       "      <td>[0.11334487, -0.035400495, 0.017929595, -0.075...</td>\n",
       "      <td>[0.13285376, -0.09502117, -0.009272606, -0.024...</td>\n",
       "      <td>4.787501</td>\n",
       "    </tr>\n",
       "    <tr>\n",
       "      <th>2</th>\n",
       "      <td>A man is feeding a mouse to a snake</td>\n",
       "      <td>The man is feeding a mouse to the snake</td>\n",
       "      <td>5.00</td>\n",
       "      <td>[0.05396892, -0.060374834, 0.08223716, -0.0879...</td>\n",
       "      <td>[-0.012262808, -0.11392646, 0.055586256, 0.005...</td>\n",
       "      <td>4.094796</td>\n",
       "    </tr>\n",
       "    <tr>\n",
       "      <th>3</th>\n",
       "      <td>A woman is playing the guitar</td>\n",
       "      <td>A man is playing guitar</td>\n",
       "      <td>2.40</td>\n",
       "      <td>[0.106308825, 0.036144402, -0.026240667, -0.05...</td>\n",
       "      <td>[-0.0056881197, -0.004985351, 0.063051865, 0.0...</td>\n",
       "      <td>3.172627</td>\n",
       "    </tr>\n",
       "    <tr>\n",
       "      <th>4</th>\n",
       "      <td>A woman is playing the flute</td>\n",
       "      <td>A man is playing a flute</td>\n",
       "      <td>2.75</td>\n",
       "      <td>[0.08801661, 0.0036291284, 0.031732973, -0.100...</td>\n",
       "      <td>[0.048949435, 0.0021717984, 0.025101138, -0.04...</td>\n",
       "      <td>4.743179</td>\n",
       "    </tr>\n",
       "  </tbody>\n",
       "</table>\n",
       "</div>"
      ],
      "text/plain": [
       "                                 sent1  \\\n",
       "0     A man with a hard hat is dancing   \n",
       "1      A young child is riding a horse   \n",
       "2  A man is feeding a mouse to a snake   \n",
       "3        A woman is playing the guitar   \n",
       "4         A woman is playing the flute   \n",
       "\n",
       "                                     sent2  score  \\\n",
       "0      A man wearing a hard hat is dancing   5.00   \n",
       "1                A child is riding a horse   4.75   \n",
       "2  The man is feeding a mouse to the snake   5.00   \n",
       "3                  A man is playing guitar   2.40   \n",
       "4                 A man is playing a flute   2.75   \n",
       "\n",
       "                                     sent1_embedding  \\\n",
       "0  [0.102311775, 0.039187357, 0.082304984, -0.108...   \n",
       "1  [0.11334487, -0.035400495, 0.017929595, -0.075...   \n",
       "2  [0.05396892, -0.060374834, 0.08223716, -0.0879...   \n",
       "3  [0.106308825, 0.036144402, -0.026240667, -0.05...   \n",
       "4  [0.08801661, 0.0036291284, 0.031732973, -0.100...   \n",
       "\n",
       "                                     sent2_embedding    y_pred  \n",
       "0  [0.11590858, -0.06448609, -0.0059869844, -0.15...  4.551783  \n",
       "1  [0.13285376, -0.09502117, -0.009272606, -0.024...  4.787501  \n",
       "2  [-0.012262808, -0.11392646, 0.055586256, 0.005...  4.094796  \n",
       "3  [-0.0056881197, -0.004985351, 0.063051865, 0.0...  3.172627  \n",
       "4  [0.048949435, 0.0021717984, 0.025101138, -0.04...  4.743179  "
      ]
     },
     "execution_count": 433,
     "metadata": {},
     "output_type": "execute_result"
    }
   ],
   "source": [
    "val_df.head()"
   ]
  },
  {
   "cell_type": "code",
   "execution_count": 434,
   "id": "6d42a753",
   "metadata": {},
   "outputs": [],
   "source": [
    "y_pred = val_df['y_pred']\n",
    "y_val = val_df['score']"
   ]
  },
  {
   "cell_type": "code",
   "execution_count": 435,
   "id": "32f1291b",
   "metadata": {},
   "outputs": [
    {
     "name": "stdout",
     "output_type": "stream",
     "text": [
      "Pearson correlation coefficient: 0.32\n"
     ]
    }
   ],
   "source": [
    "# Calculate Pearson correlation coefficient between predicted values and target values\n",
    "corr = pearson_corr(y_val, y_pred)\n",
    "\n",
    "# Print the correlation coefficient\n",
    "print(\"Pearson correlation coefficient: {:.2f}\".format(corr))"
   ]
  },
  {
   "cell_type": "code",
   "execution_count": 436,
   "id": "85ab70e6",
   "metadata": {},
   "outputs": [],
   "source": [
    "model.random.seed(42)\n",
    "test_df['sent1_embedding'] = test_df['sent1'].apply(lambda x: model.infer_vector(x.split()))\n",
    "test_df['sent2_embedding'] = test_df['sent2'].apply(lambda x: model.infer_vector(x.split()))"
   ]
  },
  {
   "cell_type": "code",
   "execution_count": 437,
   "id": "4071fd66",
   "metadata": {},
   "outputs": [],
   "source": [
    "test_df['y_pred'] = test_df.apply(lambda x: sts_score(1 - spatial.distance.cosine(x['sent1_embedding'], x['sent2_embedding'])), axis=1)"
   ]
  },
  {
   "cell_type": "code",
   "execution_count": 438,
   "id": "c8e2adc9",
   "metadata": {},
   "outputs": [
    {
     "data": {
      "text/html": [
       "<div>\n",
       "<style scoped>\n",
       "    .dataframe tbody tr th:only-of-type {\n",
       "        vertical-align: middle;\n",
       "    }\n",
       "\n",
       "    .dataframe tbody tr th {\n",
       "        vertical-align: top;\n",
       "    }\n",
       "\n",
       "    .dataframe thead th {\n",
       "        text-align: right;\n",
       "    }\n",
       "</style>\n",
       "<table border=\"1\" class=\"dataframe\">\n",
       "  <thead>\n",
       "    <tr style=\"text-align: right;\">\n",
       "      <th></th>\n",
       "      <th>sent1</th>\n",
       "      <th>sent2</th>\n",
       "      <th>score</th>\n",
       "      <th>sent1_embedding</th>\n",
       "      <th>sent2_embedding</th>\n",
       "      <th>y_pred</th>\n",
       "    </tr>\n",
       "  </thead>\n",
       "  <tbody>\n",
       "    <tr>\n",
       "      <th>0</th>\n",
       "      <td>A girl is styling her hair</td>\n",
       "      <td>A girl is brushing her hair</td>\n",
       "      <td>2.5</td>\n",
       "      <td>[0.047453664, -0.012963152, 0.01766814, -0.132...</td>\n",
       "      <td>[0.05282152, -0.032737095, 0.027383164, -0.079...</td>\n",
       "      <td>4.314512</td>\n",
       "    </tr>\n",
       "    <tr>\n",
       "      <th>1</th>\n",
       "      <td>A group of men play soccer on the beach</td>\n",
       "      <td>A group of boys are playing soccer on the beach</td>\n",
       "      <td>3.6</td>\n",
       "      <td>[-0.005135766, 0.11651001, -0.058646847, -0.09...</td>\n",
       "      <td>[0.051796418, 0.020778747, -0.05155143, -0.139...</td>\n",
       "      <td>4.624106</td>\n",
       "    </tr>\n",
       "    <tr>\n",
       "      <th>2</th>\n",
       "      <td>One woman is measuring another womans ankle</td>\n",
       "      <td>A woman measures another womans ankle</td>\n",
       "      <td>5.0</td>\n",
       "      <td>[0.041873578, -0.041858833, -0.0081949495, -0....</td>\n",
       "      <td>[0.11333422, 0.002360624, -0.064282775, -0.126...</td>\n",
       "      <td>4.349280</td>\n",
       "    </tr>\n",
       "    <tr>\n",
       "      <th>3</th>\n",
       "      <td>A man is cutting up a cucumber</td>\n",
       "      <td>A man is slicing a cucumber</td>\n",
       "      <td>4.2</td>\n",
       "      <td>[0.11555635, -0.07165362, 0.08308311, -0.00472...</td>\n",
       "      <td>[0.097490035, -0.014397144, 0.04787491, -0.088...</td>\n",
       "      <td>4.289850</td>\n",
       "    </tr>\n",
       "    <tr>\n",
       "      <th>4</th>\n",
       "      <td>A man is playing a harp</td>\n",
       "      <td>A man is playing a keyboard</td>\n",
       "      <td>1.5</td>\n",
       "      <td>[0.0689409, 0.0052396706, 0.054995388, -0.0906...</td>\n",
       "      <td>[-0.00028628367, 0.03726319, 0.032384034, -0.0...</td>\n",
       "      <td>4.586179</td>\n",
       "    </tr>\n",
       "  </tbody>\n",
       "</table>\n",
       "</div>"
      ],
      "text/plain": [
       "                                         sent1  \\\n",
       "0                   A girl is styling her hair   \n",
       "1      A group of men play soccer on the beach   \n",
       "2  One woman is measuring another womans ankle   \n",
       "3               A man is cutting up a cucumber   \n",
       "4                      A man is playing a harp   \n",
       "\n",
       "                                             sent2  score  \\\n",
       "0                      A girl is brushing her hair    2.5   \n",
       "1  A group of boys are playing soccer on the beach    3.6   \n",
       "2            A woman measures another womans ankle    5.0   \n",
       "3                      A man is slicing a cucumber    4.2   \n",
       "4                      A man is playing a keyboard    1.5   \n",
       "\n",
       "                                     sent1_embedding  \\\n",
       "0  [0.047453664, -0.012963152, 0.01766814, -0.132...   \n",
       "1  [-0.005135766, 0.11651001, -0.058646847, -0.09...   \n",
       "2  [0.041873578, -0.041858833, -0.0081949495, -0....   \n",
       "3  [0.11555635, -0.07165362, 0.08308311, -0.00472...   \n",
       "4  [0.0689409, 0.0052396706, 0.054995388, -0.0906...   \n",
       "\n",
       "                                     sent2_embedding    y_pred  \n",
       "0  [0.05282152, -0.032737095, 0.027383164, -0.079...  4.314512  \n",
       "1  [0.051796418, 0.020778747, -0.05155143, -0.139...  4.624106  \n",
       "2  [0.11333422, 0.002360624, -0.064282775, -0.126...  4.349280  \n",
       "3  [0.097490035, -0.014397144, 0.04787491, -0.088...  4.289850  \n",
       "4  [-0.00028628367, 0.03726319, 0.032384034, -0.0...  4.586179  "
      ]
     },
     "execution_count": 438,
     "metadata": {},
     "output_type": "execute_result"
    }
   ],
   "source": [
    "test_df.head()"
   ]
  },
  {
   "cell_type": "code",
   "execution_count": 439,
   "id": "90201532",
   "metadata": {},
   "outputs": [],
   "source": [
    "y_pred = test_df['y_pred']\n",
    "y_test = test_df['score']"
   ]
  },
  {
   "cell_type": "code",
   "execution_count": 440,
   "id": "b0806f9d",
   "metadata": {},
   "outputs": [
    {
     "name": "stdout",
     "output_type": "stream",
     "text": [
      "Pearson correlation coefficient: 0.18\n"
     ]
    }
   ],
   "source": [
    "# Calculate Pearson correlation coefficient between predicted values and target values\n",
    "corr = pearson_corr(y_test, y_pred)\n",
    "\n",
    "# Print the correlation coefficient\n",
    "print(\"Pearson correlation coefficient: {:.2f}\".format(corr))"
   ]
  },
  {
   "cell_type": "code",
   "execution_count": null,
   "id": "b613e6bb",
   "metadata": {},
   "outputs": [],
   "source": []
  },
  {
   "cell_type": "code",
   "execution_count": null,
   "id": "e730f084",
   "metadata": {},
   "outputs": [],
   "source": []
  }
 ],
 "metadata": {
  "kernelspec": {
   "display_name": "nlp_venv",
   "language": "python",
   "name": "nlp_venv"
  },
  "language_info": {
   "codemirror_mode": {
    "name": "ipython",
    "version": 3
   },
   "file_extension": ".py",
   "mimetype": "text/x-python",
   "name": "python",
   "nbconvert_exporter": "python",
   "pygments_lexer": "ipython3",
   "version": "3.9.16"
  }
 },
 "nbformat": 4,
 "nbformat_minor": 5
}
