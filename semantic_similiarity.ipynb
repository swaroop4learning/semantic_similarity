{
 "cells": [
  {
   "cell_type": "code",
   "execution_count": 1,
   "id": "33374f6b",
   "metadata": {},
   "outputs": [],
   "source": [
    "import pandas as pd\n",
    "import numpy as np\n",
    "import nltk\n",
    "import re\n",
    "from sklearn.linear_model import LinearRegression\n",
    "from gensim.models import Word2Vec\n",
    "from sklearn.feature_extraction.text import TfidfVectorizer\n",
    "from nltk.stem import WordNetLemmatizer\n",
    "from nltk.stem import PorterStemmer"
   ]
  },
  {
   "cell_type": "code",
   "execution_count": 2,
   "id": "11fad3a5",
   "metadata": {},
   "outputs": [],
   "source": [
    "train_df = pd.read_csv('./data/stsb-en-train.csv', usecols=[0,1,2], names=['sent1', 'sent2', 'score'], header=None)"
   ]
  },
  {
   "cell_type": "code",
   "execution_count": 3,
   "id": "9ea65717",
   "metadata": {},
   "outputs": [
    {
     "data": {
      "text/html": [
       "<div>\n",
       "<style scoped>\n",
       "    .dataframe tbody tr th:only-of-type {\n",
       "        vertical-align: middle;\n",
       "    }\n",
       "\n",
       "    .dataframe tbody tr th {\n",
       "        vertical-align: top;\n",
       "    }\n",
       "\n",
       "    .dataframe thead th {\n",
       "        text-align: right;\n",
       "    }\n",
       "</style>\n",
       "<table border=\"1\" class=\"dataframe\">\n",
       "  <thead>\n",
       "    <tr style=\"text-align: right;\">\n",
       "      <th></th>\n",
       "      <th>sent1</th>\n",
       "      <th>sent2</th>\n",
       "      <th>score</th>\n",
       "    </tr>\n",
       "  </thead>\n",
       "  <tbody>\n",
       "    <tr>\n",
       "      <th>0</th>\n",
       "      <td>A plane is taking off.</td>\n",
       "      <td>An air plane is taking off.</td>\n",
       "      <td>5.00</td>\n",
       "    </tr>\n",
       "    <tr>\n",
       "      <th>1</th>\n",
       "      <td>A man is playing a large flute.</td>\n",
       "      <td>A man is playing a flute.</td>\n",
       "      <td>3.80</td>\n",
       "    </tr>\n",
       "    <tr>\n",
       "      <th>2</th>\n",
       "      <td>A man is spreading shreded cheese on a pizza.</td>\n",
       "      <td>A man is spreading shredded cheese on an uncoo...</td>\n",
       "      <td>3.80</td>\n",
       "    </tr>\n",
       "    <tr>\n",
       "      <th>3</th>\n",
       "      <td>Three men are playing chess.</td>\n",
       "      <td>Two men are playing chess.</td>\n",
       "      <td>2.60</td>\n",
       "    </tr>\n",
       "    <tr>\n",
       "      <th>4</th>\n",
       "      <td>A man is playing the cello.</td>\n",
       "      <td>A man seated is playing the cello.</td>\n",
       "      <td>4.25</td>\n",
       "    </tr>\n",
       "  </tbody>\n",
       "</table>\n",
       "</div>"
      ],
      "text/plain": [
       "                                           sent1  \\\n",
       "0                         A plane is taking off.   \n",
       "1                A man is playing a large flute.   \n",
       "2  A man is spreading shreded cheese on a pizza.   \n",
       "3                   Three men are playing chess.   \n",
       "4                    A man is playing the cello.   \n",
       "\n",
       "                                               sent2  score  \n",
       "0                        An air plane is taking off.   5.00  \n",
       "1                          A man is playing a flute.   3.80  \n",
       "2  A man is spreading shredded cheese on an uncoo...   3.80  \n",
       "3                         Two men are playing chess.   2.60  \n",
       "4                 A man seated is playing the cello.   4.25  "
      ]
     },
     "execution_count": 3,
     "metadata": {},
     "output_type": "execute_result"
    }
   ],
   "source": [
    "train_df.head()"
   ]
  },
  {
   "cell_type": "code",
   "execution_count": 4,
   "id": "54f2795c",
   "metadata": {},
   "outputs": [],
   "source": [
    "val_df = pd.read_csv('./data/stsb-en-dev.csv', usecols=[0,1,2], names=['sent1', 'sent2', 'score'], header=None)"
   ]
  },
  {
   "cell_type": "code",
   "execution_count": 5,
   "id": "eb6510e2",
   "metadata": {},
   "outputs": [
    {
     "data": {
      "text/html": [
       "<div>\n",
       "<style scoped>\n",
       "    .dataframe tbody tr th:only-of-type {\n",
       "        vertical-align: middle;\n",
       "    }\n",
       "\n",
       "    .dataframe tbody tr th {\n",
       "        vertical-align: top;\n",
       "    }\n",
       "\n",
       "    .dataframe thead th {\n",
       "        text-align: right;\n",
       "    }\n",
       "</style>\n",
       "<table border=\"1\" class=\"dataframe\">\n",
       "  <thead>\n",
       "    <tr style=\"text-align: right;\">\n",
       "      <th></th>\n",
       "      <th>sent1</th>\n",
       "      <th>sent2</th>\n",
       "      <th>score</th>\n",
       "    </tr>\n",
       "  </thead>\n",
       "  <tbody>\n",
       "    <tr>\n",
       "      <th>0</th>\n",
       "      <td>A man with a hard hat is dancing.</td>\n",
       "      <td>A man wearing a hard hat is dancing.</td>\n",
       "      <td>5.00</td>\n",
       "    </tr>\n",
       "    <tr>\n",
       "      <th>1</th>\n",
       "      <td>A young child is riding a horse.</td>\n",
       "      <td>A child is riding a horse.</td>\n",
       "      <td>4.75</td>\n",
       "    </tr>\n",
       "    <tr>\n",
       "      <th>2</th>\n",
       "      <td>A man is feeding a mouse to a snake.</td>\n",
       "      <td>The man is feeding a mouse to the snake.</td>\n",
       "      <td>5.00</td>\n",
       "    </tr>\n",
       "    <tr>\n",
       "      <th>3</th>\n",
       "      <td>A woman is playing the guitar.</td>\n",
       "      <td>A man is playing guitar.</td>\n",
       "      <td>2.40</td>\n",
       "    </tr>\n",
       "    <tr>\n",
       "      <th>4</th>\n",
       "      <td>A woman is playing the flute.</td>\n",
       "      <td>A man is playing a flute.</td>\n",
       "      <td>2.75</td>\n",
       "    </tr>\n",
       "  </tbody>\n",
       "</table>\n",
       "</div>"
      ],
      "text/plain": [
       "                                  sent1  \\\n",
       "0     A man with a hard hat is dancing.   \n",
       "1      A young child is riding a horse.   \n",
       "2  A man is feeding a mouse to a snake.   \n",
       "3        A woman is playing the guitar.   \n",
       "4         A woman is playing the flute.   \n",
       "\n",
       "                                      sent2  score  \n",
       "0      A man wearing a hard hat is dancing.   5.00  \n",
       "1                A child is riding a horse.   4.75  \n",
       "2  The man is feeding a mouse to the snake.   5.00  \n",
       "3                  A man is playing guitar.   2.40  \n",
       "4                 A man is playing a flute.   2.75  "
      ]
     },
     "execution_count": 5,
     "metadata": {},
     "output_type": "execute_result"
    }
   ],
   "source": [
    "val_df.head()"
   ]
  },
  {
   "cell_type": "code",
   "execution_count": 6,
   "id": "07a17255",
   "metadata": {},
   "outputs": [],
   "source": [
    "test_df = pd.read_csv('./data/stsb-en-test.csv', usecols=[0,1,2], names=['sent1', 'sent2', 'score'], header=None)"
   ]
  },
  {
   "cell_type": "code",
   "execution_count": 7,
   "id": "98f0416b",
   "metadata": {},
   "outputs": [
    {
     "data": {
      "text/html": [
       "<div>\n",
       "<style scoped>\n",
       "    .dataframe tbody tr th:only-of-type {\n",
       "        vertical-align: middle;\n",
       "    }\n",
       "\n",
       "    .dataframe tbody tr th {\n",
       "        vertical-align: top;\n",
       "    }\n",
       "\n",
       "    .dataframe thead th {\n",
       "        text-align: right;\n",
       "    }\n",
       "</style>\n",
       "<table border=\"1\" class=\"dataframe\">\n",
       "  <thead>\n",
       "    <tr style=\"text-align: right;\">\n",
       "      <th></th>\n",
       "      <th>sent1</th>\n",
       "      <th>sent2</th>\n",
       "      <th>score</th>\n",
       "    </tr>\n",
       "  </thead>\n",
       "  <tbody>\n",
       "    <tr>\n",
       "      <th>0</th>\n",
       "      <td>A girl is styling her hair.</td>\n",
       "      <td>A girl is brushing her hair.</td>\n",
       "      <td>2.5</td>\n",
       "    </tr>\n",
       "    <tr>\n",
       "      <th>1</th>\n",
       "      <td>A group of men play soccer on the beach.</td>\n",
       "      <td>A group of boys are playing soccer on the beach.</td>\n",
       "      <td>3.6</td>\n",
       "    </tr>\n",
       "    <tr>\n",
       "      <th>2</th>\n",
       "      <td>One woman is measuring another woman's ankle.</td>\n",
       "      <td>A woman measures another woman's ankle.</td>\n",
       "      <td>5.0</td>\n",
       "    </tr>\n",
       "    <tr>\n",
       "      <th>3</th>\n",
       "      <td>A man is cutting up a cucumber.</td>\n",
       "      <td>A man is slicing a cucumber.</td>\n",
       "      <td>4.2</td>\n",
       "    </tr>\n",
       "    <tr>\n",
       "      <th>4</th>\n",
       "      <td>A man is playing a harp.</td>\n",
       "      <td>A man is playing a keyboard.</td>\n",
       "      <td>1.5</td>\n",
       "    </tr>\n",
       "  </tbody>\n",
       "</table>\n",
       "</div>"
      ],
      "text/plain": [
       "                                           sent1  \\\n",
       "0                    A girl is styling her hair.   \n",
       "1       A group of men play soccer on the beach.   \n",
       "2  One woman is measuring another woman's ankle.   \n",
       "3                A man is cutting up a cucumber.   \n",
       "4                       A man is playing a harp.   \n",
       "\n",
       "                                              sent2  score  \n",
       "0                      A girl is brushing her hair.    2.5  \n",
       "1  A group of boys are playing soccer on the beach.    3.6  \n",
       "2           A woman measures another woman's ankle.    5.0  \n",
       "3                      A man is slicing a cucumber.    4.2  \n",
       "4                      A man is playing a keyboard.    1.5  "
      ]
     },
     "execution_count": 7,
     "metadata": {},
     "output_type": "execute_result"
    }
   ],
   "source": [
    "test_df.head()"
   ]
  },
  {
   "cell_type": "code",
   "execution_count": 9,
   "id": "b1d33b39",
   "metadata": {},
   "outputs": [],
   "source": [
    "nltk.download('wordnet')"
   ]
  },
  {
   "cell_type": "code",
   "execution_count": 10,
   "id": "efe92dfc",
   "metadata": {},
   "outputs": [],
   "source": [
    "lemmatizer = WordNetLemmatizer()\n",
    "ps = PorterStemmer()"
   ]
  },
  {
   "cell_type": "code",
   "execution_count": 11,
   "id": "d8d8a607",
   "metadata": {},
   "outputs": [],
   "source": [
    "def preprocess_text(text):\n",
    "    # Remove punctuation\n",
    "    text = re.sub(r'[^\\w\\s]', '', text)\n",
    "    # Replace numbers with num\n",
    "    text = re.sub(r'\\d+', '', text)\n",
    "    # Lower case\n",
    "    text= text.lower()\n",
    "    sent_token = text.split()\n",
    "    # Lemmatize\n",
    "    sent_token = [lemmatizer.lemmatize(word) for word in sent_token]\n",
    "    # Stemming\n",
    "    sent_token = [ps.stem(word) for word in sent_token]\n",
    "    return sent_token"
   ]
  },
  {
   "cell_type": "code",
   "execution_count": 12,
   "id": "d8af381c",
   "metadata": {},
   "outputs": [],
   "source": [
    "train_df['sent1'] =train_df['sent1'].apply(lambda x: preprocess_text(x))\n",
    "train_df['sent2'] =train_df['sent2'].apply(lambda x: preprocess_text(x))"
   ]
  },
  {
   "cell_type": "code",
   "execution_count": 13,
   "id": "03a86911",
   "metadata": {},
   "outputs": [],
   "source": [
    "val_df['sent1'] =val_df['sent1'].apply(lambda x: preprocess_text(x))\n",
    "val_df['sent2'] =val_df['sent2'].apply(lambda x: preprocess_text(x))"
   ]
  },
  {
   "cell_type": "code",
   "execution_count": 14,
   "id": "c939a828",
   "metadata": {},
   "outputs": [],
   "source": [
    "test_df['sent1'] =test_df['sent1'].apply(lambda x: preprocess_text(x))\n",
    "test_df['sent2'] =test_df['sent2'].apply(lambda x: preprocess_text(x))"
   ]
  },
  {
   "cell_type": "code",
   "execution_count": 15,
   "id": "d993bac2",
   "metadata": {},
   "outputs": [
    {
     "data": {
      "text/html": [
       "<div>\n",
       "<style scoped>\n",
       "    .dataframe tbody tr th:only-of-type {\n",
       "        vertical-align: middle;\n",
       "    }\n",
       "\n",
       "    .dataframe tbody tr th {\n",
       "        vertical-align: top;\n",
       "    }\n",
       "\n",
       "    .dataframe thead th {\n",
       "        text-align: right;\n",
       "    }\n",
       "</style>\n",
       "<table border=\"1\" class=\"dataframe\">\n",
       "  <thead>\n",
       "    <tr style=\"text-align: right;\">\n",
       "      <th></th>\n",
       "      <th>sent1</th>\n",
       "      <th>sent2</th>\n",
       "      <th>score</th>\n",
       "    </tr>\n",
       "  </thead>\n",
       "  <tbody>\n",
       "    <tr>\n",
       "      <th>0</th>\n",
       "      <td>[a, plane, is, take, off]</td>\n",
       "      <td>[an, air, plane, is, take, off]</td>\n",
       "      <td>5.00</td>\n",
       "    </tr>\n",
       "    <tr>\n",
       "      <th>1</th>\n",
       "      <td>[a, man, is, play, a, larg, flute]</td>\n",
       "      <td>[a, man, is, play, a, flute]</td>\n",
       "      <td>3.80</td>\n",
       "    </tr>\n",
       "    <tr>\n",
       "      <th>2</th>\n",
       "      <td>[a, man, is, spread, shrede, chees, on, a, pizza]</td>\n",
       "      <td>[a, man, is, spread, shred, chees, on, an, unc...</td>\n",
       "      <td>3.80</td>\n",
       "    </tr>\n",
       "    <tr>\n",
       "      <th>3</th>\n",
       "      <td>[three, men, are, play, chess]</td>\n",
       "      <td>[two, men, are, play, chess]</td>\n",
       "      <td>2.60</td>\n",
       "    </tr>\n",
       "    <tr>\n",
       "      <th>4</th>\n",
       "      <td>[a, man, is, play, the, cello]</td>\n",
       "      <td>[a, man, seat, is, play, the, cello]</td>\n",
       "      <td>4.25</td>\n",
       "    </tr>\n",
       "  </tbody>\n",
       "</table>\n",
       "</div>"
      ],
      "text/plain": [
       "                                               sent1  \\\n",
       "0                          [a, plane, is, take, off]   \n",
       "1                 [a, man, is, play, a, larg, flute]   \n",
       "2  [a, man, is, spread, shrede, chees, on, a, pizza]   \n",
       "3                     [three, men, are, play, chess]   \n",
       "4                     [a, man, is, play, the, cello]   \n",
       "\n",
       "                                               sent2  score  \n",
       "0                    [an, air, plane, is, take, off]   5.00  \n",
       "1                       [a, man, is, play, a, flute]   3.80  \n",
       "2  [a, man, is, spread, shred, chees, on, an, unc...   3.80  \n",
       "3                       [two, men, are, play, chess]   2.60  \n",
       "4               [a, man, seat, is, play, the, cello]   4.25  "
      ]
     },
     "execution_count": 15,
     "metadata": {},
     "output_type": "execute_result"
    }
   ],
   "source": [
    "train_df.head()"
   ]
  },
  {
   "cell_type": "code",
   "execution_count": 16,
   "id": "d6d6d963",
   "metadata": {},
   "outputs": [
    {
     "data": {
      "text/html": [
       "<div>\n",
       "<style scoped>\n",
       "    .dataframe tbody tr th:only-of-type {\n",
       "        vertical-align: middle;\n",
       "    }\n",
       "\n",
       "    .dataframe tbody tr th {\n",
       "        vertical-align: top;\n",
       "    }\n",
       "\n",
       "    .dataframe thead th {\n",
       "        text-align: right;\n",
       "    }\n",
       "</style>\n",
       "<table border=\"1\" class=\"dataframe\">\n",
       "  <thead>\n",
       "    <tr style=\"text-align: right;\">\n",
       "      <th></th>\n",
       "      <th>sent1</th>\n",
       "      <th>sent2</th>\n",
       "      <th>score</th>\n",
       "    </tr>\n",
       "  </thead>\n",
       "  <tbody>\n",
       "    <tr>\n",
       "      <th>0</th>\n",
       "      <td>[a, man, with, a, hard, hat, is, danc]</td>\n",
       "      <td>[a, man, wear, a, hard, hat, is, danc]</td>\n",
       "      <td>5.00</td>\n",
       "    </tr>\n",
       "    <tr>\n",
       "      <th>1</th>\n",
       "      <td>[a, young, child, is, ride, a, hors]</td>\n",
       "      <td>[a, child, is, ride, a, hors]</td>\n",
       "      <td>4.75</td>\n",
       "    </tr>\n",
       "    <tr>\n",
       "      <th>2</th>\n",
       "      <td>[a, man, is, feed, a, mous, to, a, snake]</td>\n",
       "      <td>[the, man, is, feed, a, mous, to, the, snake]</td>\n",
       "      <td>5.00</td>\n",
       "    </tr>\n",
       "    <tr>\n",
       "      <th>3</th>\n",
       "      <td>[a, woman, is, play, the, guitar]</td>\n",
       "      <td>[a, man, is, play, guitar]</td>\n",
       "      <td>2.40</td>\n",
       "    </tr>\n",
       "    <tr>\n",
       "      <th>4</th>\n",
       "      <td>[a, woman, is, play, the, flute]</td>\n",
       "      <td>[a, man, is, play, a, flute]</td>\n",
       "      <td>2.75</td>\n",
       "    </tr>\n",
       "  </tbody>\n",
       "</table>\n",
       "</div>"
      ],
      "text/plain": [
       "                                       sent1  \\\n",
       "0     [a, man, with, a, hard, hat, is, danc]   \n",
       "1       [a, young, child, is, ride, a, hors]   \n",
       "2  [a, man, is, feed, a, mous, to, a, snake]   \n",
       "3          [a, woman, is, play, the, guitar]   \n",
       "4           [a, woman, is, play, the, flute]   \n",
       "\n",
       "                                           sent2  score  \n",
       "0         [a, man, wear, a, hard, hat, is, danc]   5.00  \n",
       "1                  [a, child, is, ride, a, hors]   4.75  \n",
       "2  [the, man, is, feed, a, mous, to, the, snake]   5.00  \n",
       "3                     [a, man, is, play, guitar]   2.40  \n",
       "4                   [a, man, is, play, a, flute]   2.75  "
      ]
     },
     "execution_count": 16,
     "metadata": {},
     "output_type": "execute_result"
    }
   ],
   "source": [
    "val_df.head()"
   ]
  },
  {
   "cell_type": "code",
   "execution_count": 17,
   "id": "b1e818ba",
   "metadata": {},
   "outputs": [
    {
     "data": {
      "text/html": [
       "<div>\n",
       "<style scoped>\n",
       "    .dataframe tbody tr th:only-of-type {\n",
       "        vertical-align: middle;\n",
       "    }\n",
       "\n",
       "    .dataframe tbody tr th {\n",
       "        vertical-align: top;\n",
       "    }\n",
       "\n",
       "    .dataframe thead th {\n",
       "        text-align: right;\n",
       "    }\n",
       "</style>\n",
       "<table border=\"1\" class=\"dataframe\">\n",
       "  <thead>\n",
       "    <tr style=\"text-align: right;\">\n",
       "      <th></th>\n",
       "      <th>sent1</th>\n",
       "      <th>sent2</th>\n",
       "      <th>score</th>\n",
       "    </tr>\n",
       "  </thead>\n",
       "  <tbody>\n",
       "    <tr>\n",
       "      <th>0</th>\n",
       "      <td>[a, girl, is, style, her, hair]</td>\n",
       "      <td>[a, girl, is, brush, her, hair]</td>\n",
       "      <td>2.5</td>\n",
       "    </tr>\n",
       "    <tr>\n",
       "      <th>1</th>\n",
       "      <td>[a, group, of, men, play, soccer, on, the, beach]</td>\n",
       "      <td>[a, group, of, boy, are, play, soccer, on, the...</td>\n",
       "      <td>3.6</td>\n",
       "    </tr>\n",
       "    <tr>\n",
       "      <th>2</th>\n",
       "      <td>[one, woman, is, measur, anoth, woman, ankl]</td>\n",
       "      <td>[a, woman, measur, anoth, woman, ankl]</td>\n",
       "      <td>5.0</td>\n",
       "    </tr>\n",
       "    <tr>\n",
       "      <th>3</th>\n",
       "      <td>[a, man, is, cut, up, a, cucumb]</td>\n",
       "      <td>[a, man, is, slice, a, cucumb]</td>\n",
       "      <td>4.2</td>\n",
       "    </tr>\n",
       "    <tr>\n",
       "      <th>4</th>\n",
       "      <td>[a, man, is, play, a, harp]</td>\n",
       "      <td>[a, man, is, play, a, keyboard]</td>\n",
       "      <td>1.5</td>\n",
       "    </tr>\n",
       "  </tbody>\n",
       "</table>\n",
       "</div>"
      ],
      "text/plain": [
       "                                               sent1  \\\n",
       "0                    [a, girl, is, style, her, hair]   \n",
       "1  [a, group, of, men, play, soccer, on, the, beach]   \n",
       "2       [one, woman, is, measur, anoth, woman, ankl]   \n",
       "3                   [a, man, is, cut, up, a, cucumb]   \n",
       "4                        [a, man, is, play, a, harp]   \n",
       "\n",
       "                                               sent2  score  \n",
       "0                    [a, girl, is, brush, her, hair]    2.5  \n",
       "1  [a, group, of, boy, are, play, soccer, on, the...    3.6  \n",
       "2             [a, woman, measur, anoth, woman, ankl]    5.0  \n",
       "3                     [a, man, is, slice, a, cucumb]    4.2  \n",
       "4                    [a, man, is, play, a, keyboard]    1.5  "
      ]
     },
     "execution_count": 17,
     "metadata": {},
     "output_type": "execute_result"
    }
   ],
   "source": [
    "test_df.head()"
   ]
  },
  {
   "cell_type": "code",
   "execution_count": 18,
   "id": "9be7f716",
   "metadata": {},
   "outputs": [],
   "source": [
    "# Data Exploration"
   ]
  },
  {
   "cell_type": "code",
   "execution_count": 19,
   "id": "eb750c3e",
   "metadata": {},
   "outputs": [],
   "source": [
    "total_sents = list(train_df['sent1'])"
   ]
  },
  {
   "cell_type": "code",
   "execution_count": 20,
   "id": "5e69c7c5",
   "metadata": {},
   "outputs": [],
   "source": [
    "total_sents.extend(list(train_df['sent2']))"
   ]
  },
  {
   "cell_type": "code",
   "execution_count": 21,
   "id": "fb03845b",
   "metadata": {},
   "outputs": [
    {
     "data": {
      "text/plain": [
       "11498"
      ]
     },
     "execution_count": 21,
     "metadata": {},
     "output_type": "execute_result"
    }
   ],
   "source": [
    "len(total_sents)"
   ]
  },
  {
   "cell_type": "code",
   "execution_count": 22,
   "id": "b804722c",
   "metadata": {},
   "outputs": [],
   "source": [
    "#sent_tokens = [sent.split() for sent in total_sents]"
   ]
  },
  {
   "cell_type": "code",
   "execution_count": 23,
   "id": "6be27227",
   "metadata": {},
   "outputs": [
    {
     "data": {
      "text/plain": [
       "[['a', 'plane', 'is', 'take', 'off'],\n",
       " ['a', 'man', 'is', 'play', 'a', 'larg', 'flute'],\n",
       " ['a', 'man', 'is', 'spread', 'shrede', 'chees', 'on', 'a', 'pizza'],\n",
       " ['three', 'men', 'are', 'play', 'chess'],\n",
       " ['a', 'man', 'is', 'play', 'the', 'cello']]"
      ]
     },
     "execution_count": 23,
     "metadata": {},
     "output_type": "execute_result"
    }
   ],
   "source": [
    "total_sents[0:5]"
   ]
  },
  {
   "cell_type": "code",
   "execution_count": 24,
   "id": "c8ac48a3",
   "metadata": {},
   "outputs": [],
   "source": [
    "word_dict = {}\n",
    "for word_tokens in total_sents:\n",
    "    for word in word_tokens:\n",
    "        if word in word_dict:\n",
    "            word_dict[word] += 1\n",
    "        else:\n",
    "            word_dict[word] = 1"
   ]
  },
  {
   "cell_type": "code",
   "execution_count": 25,
   "id": "97eb81b4",
   "metadata": {},
   "outputs": [],
   "source": [
    "vocab_length = len(word_dict)"
   ]
  },
  {
   "cell_type": "code",
   "execution_count": 26,
   "id": "9b53a006",
   "metadata": {},
   "outputs": [
    {
     "data": {
      "text/plain": [
       "8306"
      ]
     },
     "execution_count": 26,
     "metadata": {},
     "output_type": "execute_result"
    }
   ],
   "source": [
    "vocab_length"
   ]
  },
  {
   "cell_type": "code",
   "execution_count": 27,
   "id": "0229a539",
   "metadata": {},
   "outputs": [
    {
     "name": "stdout",
     "output_type": "stream",
     "text": [
      "2573\n"
     ]
    }
   ],
   "source": [
    "uni_count = 0\n",
    "for value in word_dict.values():\n",
    "    if value == 1:\n",
    "        uni_count += 1\n",
    "print(uni_count)"
   ]
  },
  {
   "cell_type": "code",
   "execution_count": 28,
   "id": "7cfb1e31",
   "metadata": {},
   "outputs": [],
   "source": [
    "def get_sorted_counter(word_counter):\n",
    "    return {k: v for k, v in sorted(word_counter.items(), key=lambda item: item[1], reverse=False)}"
   ]
  },
  {
   "cell_type": "code",
   "execution_count": 29,
   "id": "0fe7d9af",
   "metadata": {},
   "outputs": [],
   "source": [
    "sorted_counter = get_sorted_counter(word_dict)"
   ]
  },
  {
   "cell_type": "code",
   "execution_count": 30,
   "id": "71c7de98",
   "metadata": {},
   "outputs": [],
   "source": [
    "sent_dict = {}\n",
    "for sent in total_sents:\n",
    "    if len(sent) in sent_dict:\n",
    "        sent_dict[len(sent)] += 1\n",
    "    else:\n",
    "        sent_dict[len(sent)] = 1"
   ]
  },
  {
   "cell_type": "code",
   "execution_count": 31,
   "id": "7caf3708",
   "metadata": {},
   "outputs": [],
   "source": [
    "import matplotlib.pyplot as plt"
   ]
  },
  {
   "cell_type": "code",
   "execution_count": 32,
   "id": "bc65c20d",
   "metadata": {},
   "outputs": [
    {
     "data": {
      "image/png": "[encoded data removed]",
      "text/plain": [
       "<Figure size 800x600 with 1 Axes>"
      ]
     },
     "metadata": {},
     "output_type": "display_data"
    }
   ],
   "source": [
    "fig, ax = plt.subplots(figsize=(8, 6))\n",
    "ax.bar(list(sent_dict.keys()), list(sent_dict.values()), width=0.5)\n",
    "plt.show()"
   ]
  },
  {
   "cell_type": "markdown",
   "id": "0d1f5a16",
   "metadata": {},
   "source": [
    "Most of the data is concentrated at average length of 10 and maximum vector length can be treated as 35 with remaining ignored"
   ]
  },
  {
   "cell_type": "code",
   "execution_count": 33,
   "id": "c17c2a52",
   "metadata": {},
   "outputs": [],
   "source": [
    "#unknown words treatment"
   ]
  },
  {
   "cell_type": "code",
   "execution_count": 34,
   "id": "102e3fcd",
   "metadata": {},
   "outputs": [],
   "source": [
    "def unk_replace(word, word_dict):\n",
    "    if word not in word_dict:\n",
    "        return \"unk\"\n",
    "    else:\n",
    "        if word_dict[word] < 2:\n",
    "            return \"unk\"\n",
    "    return word"
   ]
  },
  {
   "cell_type": "code",
   "execution_count": 35,
   "id": "bc9037f1",
   "metadata": {},
   "outputs": [],
   "source": [
    "def remove_unk_duplicates(sent_token):\n",
    "    new_list = []\n",
    "    seen = set()\n",
    "\n",
    "    for item in sent_token:\n",
    "        if item not in seen:\n",
    "            new_list.append(item)\n",
    "            seen.add(item)\n",
    "    return new_list"
   ]
  },
  {
   "cell_type": "code",
   "execution_count": 36,
   "id": "574310e7",
   "metadata": {},
   "outputs": [
    {
     "name": "stdout",
     "output_type": "stream",
     "text": [
      "['this', 'unk', 'again', 'and']\n"
     ]
    }
   ],
   "source": [
    "print(remove_unk_duplicates([\"this\", \"unk\", \"again\", \"unk\", \"and\"]))"
   ]
  },
  {
   "cell_type": "code",
   "execution_count": 37,
   "id": "98fed9b2",
   "metadata": {},
   "outputs": [],
   "source": [
    "train_df['sent1'] =train_df['sent1'].apply(lambda x: remove_unk_duplicates([unk_replace(word, word_dict) for word in x]))\n",
    "train_df['sent2'] =train_df['sent2'].apply(lambda x: remove_unk_duplicates([unk_replace(word, word_dict) for word in x]))"
   ]
  },
  {
   "cell_type": "code",
   "execution_count": 38,
   "id": "8e32948b",
   "metadata": {},
   "outputs": [
    {
     "data": {
      "text/html": [
       "<div>\n",
       "<style scoped>\n",
       "    .dataframe tbody tr th:only-of-type {\n",
       "        vertical-align: middle;\n",
       "    }\n",
       "\n",
       "    .dataframe tbody tr th {\n",
       "        vertical-align: top;\n",
       "    }\n",
       "\n",
       "    .dataframe thead th {\n",
       "        text-align: right;\n",
       "    }\n",
       "</style>\n",
       "<table border=\"1\" class=\"dataframe\">\n",
       "  <thead>\n",
       "    <tr style=\"text-align: right;\">\n",
       "      <th></th>\n",
       "      <th>sent1</th>\n",
       "      <th>sent2</th>\n",
       "      <th>score</th>\n",
       "    </tr>\n",
       "  </thead>\n",
       "  <tbody>\n",
       "    <tr>\n",
       "      <th>0</th>\n",
       "      <td>[a, plane, is, take, off]</td>\n",
       "      <td>[an, air, plane, is, take, off]</td>\n",
       "      <td>5.00</td>\n",
       "    </tr>\n",
       "    <tr>\n",
       "      <th>1</th>\n",
       "      <td>[a, man, is, play, larg, flute]</td>\n",
       "      <td>[a, man, is, play, flute]</td>\n",
       "      <td>3.80</td>\n",
       "    </tr>\n",
       "    <tr>\n",
       "      <th>2</th>\n",
       "      <td>[a, man, is, spread, unk, chees, on, pizza]</td>\n",
       "      <td>[a, man, is, spread, shred, chees, on, an, unk...</td>\n",
       "      <td>3.80</td>\n",
       "    </tr>\n",
       "    <tr>\n",
       "      <th>3</th>\n",
       "      <td>[three, men, are, play, chess]</td>\n",
       "      <td>[two, men, are, play, chess]</td>\n",
       "      <td>2.60</td>\n",
       "    </tr>\n",
       "    <tr>\n",
       "      <th>4</th>\n",
       "      <td>[a, man, is, play, the, cello]</td>\n",
       "      <td>[a, man, seat, is, play, the, cello]</td>\n",
       "      <td>4.25</td>\n",
       "    </tr>\n",
       "  </tbody>\n",
       "</table>\n",
       "</div>"
      ],
      "text/plain": [
       "                                         sent1  \\\n",
       "0                    [a, plane, is, take, off]   \n",
       "1              [a, man, is, play, larg, flute]   \n",
       "2  [a, man, is, spread, unk, chees, on, pizza]   \n",
       "3               [three, men, are, play, chess]   \n",
       "4               [a, man, is, play, the, cello]   \n",
       "\n",
       "                                               sent2  score  \n",
       "0                    [an, air, plane, is, take, off]   5.00  \n",
       "1                          [a, man, is, play, flute]   3.80  \n",
       "2  [a, man, is, spread, shred, chees, on, an, unk...   3.80  \n",
       "3                       [two, men, are, play, chess]   2.60  \n",
       "4               [a, man, seat, is, play, the, cello]   4.25  "
      ]
     },
     "execution_count": 38,
     "metadata": {},
     "output_type": "execute_result"
    }
   ],
   "source": [
    "train_df.head()"
   ]
  },
  {
   "cell_type": "code",
   "execution_count": 39,
   "id": "76c6683b",
   "metadata": {},
   "outputs": [],
   "source": [
    "val_df['sent1'] =val_df['sent1'].apply(lambda x: remove_unk_duplicates([unk_replace(word, word_dict) for word in x]))\n",
    "val_df['sent2'] =val_df['sent2'].apply(lambda x: remove_unk_duplicates([unk_replace(word, word_dict) for word in x]))"
   ]
  },
  {
   "cell_type": "code",
   "execution_count": 40,
   "id": "0a9e7385",
   "metadata": {},
   "outputs": [
    {
     "data": {
      "text/html": [
       "<div>\n",
       "<style scoped>\n",
       "    .dataframe tbody tr th:only-of-type {\n",
       "        vertical-align: middle;\n",
       "    }\n",
       "\n",
       "    .dataframe tbody tr th {\n",
       "        vertical-align: top;\n",
       "    }\n",
       "\n",
       "    .dataframe thead th {\n",
       "        text-align: right;\n",
       "    }\n",
       "</style>\n",
       "<table border=\"1\" class=\"dataframe\">\n",
       "  <thead>\n",
       "    <tr style=\"text-align: right;\">\n",
       "      <th></th>\n",
       "      <th>sent1</th>\n",
       "      <th>sent2</th>\n",
       "      <th>score</th>\n",
       "    </tr>\n",
       "  </thead>\n",
       "  <tbody>\n",
       "    <tr>\n",
       "      <th>0</th>\n",
       "      <td>[a, man, with, hard, hat, is, danc]</td>\n",
       "      <td>[a, man, wear, hard, hat, is, danc]</td>\n",
       "      <td>5.00</td>\n",
       "    </tr>\n",
       "    <tr>\n",
       "      <th>1</th>\n",
       "      <td>[a, young, child, is, ride, hors]</td>\n",
       "      <td>[a, child, is, ride, hors]</td>\n",
       "      <td>4.75</td>\n",
       "    </tr>\n",
       "    <tr>\n",
       "      <th>2</th>\n",
       "      <td>[a, man, is, feed, mous, to, snake]</td>\n",
       "      <td>[the, man, is, feed, a, mous, to, snake]</td>\n",
       "      <td>5.00</td>\n",
       "    </tr>\n",
       "    <tr>\n",
       "      <th>3</th>\n",
       "      <td>[a, woman, is, play, the, guitar]</td>\n",
       "      <td>[a, man, is, play, guitar]</td>\n",
       "      <td>2.40</td>\n",
       "    </tr>\n",
       "    <tr>\n",
       "      <th>4</th>\n",
       "      <td>[a, woman, is, play, the, flute]</td>\n",
       "      <td>[a, man, is, play, flute]</td>\n",
       "      <td>2.75</td>\n",
       "    </tr>\n",
       "  </tbody>\n",
       "</table>\n",
       "</div>"
      ],
      "text/plain": [
       "                                 sent1  \\\n",
       "0  [a, man, with, hard, hat, is, danc]   \n",
       "1    [a, young, child, is, ride, hors]   \n",
       "2  [a, man, is, feed, mous, to, snake]   \n",
       "3    [a, woman, is, play, the, guitar]   \n",
       "4     [a, woman, is, play, the, flute]   \n",
       "\n",
       "                                      sent2  score  \n",
       "0       [a, man, wear, hard, hat, is, danc]   5.00  \n",
       "1                [a, child, is, ride, hors]   4.75  \n",
       "2  [the, man, is, feed, a, mous, to, snake]   5.00  \n",
       "3                [a, man, is, play, guitar]   2.40  \n",
       "4                 [a, man, is, play, flute]   2.75  "
      ]
     },
     "execution_count": 40,
     "metadata": {},
     "output_type": "execute_result"
    }
   ],
   "source": [
    "val_df.head()"
   ]
  },
  {
   "cell_type": "code",
   "execution_count": 41,
   "id": "3368b6a4",
   "metadata": {},
   "outputs": [],
   "source": [
    "test_df['sent1'] =test_df['sent1'].apply(lambda x: remove_unk_duplicates([unk_replace(word, word_dict) for word in x]))\n",
    "test_df['sent2'] =test_df['sent2'].apply(lambda x: remove_unk_duplicates([unk_replace(word, word_dict) for word in x]))"
   ]
  },
  {
   "cell_type": "code",
   "execution_count": 42,
   "id": "6b13ccd4",
   "metadata": {},
   "outputs": [
    {
     "data": {
      "text/html": [
       "<div>\n",
       "<style scoped>\n",
       "    .dataframe tbody tr th:only-of-type {\n",
       "        vertical-align: middle;\n",
       "    }\n",
       "\n",
       "    .dataframe tbody tr th {\n",
       "        vertical-align: top;\n",
       "    }\n",
       "\n",
       "    .dataframe thead th {\n",
       "        text-align: right;\n",
       "    }\n",
       "</style>\n",
       "<table border=\"1\" class=\"dataframe\">\n",
       "  <thead>\n",
       "    <tr style=\"text-align: right;\">\n",
       "      <th></th>\n",
       "      <th>sent1</th>\n",
       "      <th>sent2</th>\n",
       "      <th>score</th>\n",
       "    </tr>\n",
       "  </thead>\n",
       "  <tbody>\n",
       "    <tr>\n",
       "      <th>0</th>\n",
       "      <td>[a, girl, is, style, her, hair]</td>\n",
       "      <td>[a, girl, is, brush, her, hair]</td>\n",
       "      <td>2.5</td>\n",
       "    </tr>\n",
       "    <tr>\n",
       "      <th>1</th>\n",
       "      <td>[a, group, of, men, play, soccer, on, the, beach]</td>\n",
       "      <td>[a, group, of, boy, are, play, soccer, on, the...</td>\n",
       "      <td>3.6</td>\n",
       "    </tr>\n",
       "    <tr>\n",
       "      <th>2</th>\n",
       "      <td>[one, woman, is, measur, anoth, unk]</td>\n",
       "      <td>[a, woman, measur, anoth, unk]</td>\n",
       "      <td>5.0</td>\n",
       "    </tr>\n",
       "    <tr>\n",
       "      <th>3</th>\n",
       "      <td>[a, man, is, cut, up, cucumb]</td>\n",
       "      <td>[a, man, is, slice, cucumb]</td>\n",
       "      <td>4.2</td>\n",
       "    </tr>\n",
       "    <tr>\n",
       "      <th>4</th>\n",
       "      <td>[a, man, is, play, harp]</td>\n",
       "      <td>[a, man, is, play, keyboard]</td>\n",
       "      <td>1.5</td>\n",
       "    </tr>\n",
       "  </tbody>\n",
       "</table>\n",
       "</div>"
      ],
      "text/plain": [
       "                                               sent1  \\\n",
       "0                    [a, girl, is, style, her, hair]   \n",
       "1  [a, group, of, men, play, soccer, on, the, beach]   \n",
       "2               [one, woman, is, measur, anoth, unk]   \n",
       "3                      [a, man, is, cut, up, cucumb]   \n",
       "4                           [a, man, is, play, harp]   \n",
       "\n",
       "                                               sent2  score  \n",
       "0                    [a, girl, is, brush, her, hair]    2.5  \n",
       "1  [a, group, of, boy, are, play, soccer, on, the...    3.6  \n",
       "2                     [a, woman, measur, anoth, unk]    5.0  \n",
       "3                        [a, man, is, slice, cucumb]    4.2  \n",
       "4                       [a, man, is, play, keyboard]    1.5  "
      ]
     },
     "execution_count": 42,
     "metadata": {},
     "output_type": "execute_result"
    }
   ],
   "source": [
    "test_df.head()"
   ]
  },
  {
   "cell_type": "code",
   "execution_count": 43,
   "id": "03772c76",
   "metadata": {},
   "outputs": [],
   "source": [
    "total_sents_unk = list(train_df['sent1'])"
   ]
  },
  {
   "cell_type": "code",
   "execution_count": 44,
   "id": "70b0ef73",
   "metadata": {},
   "outputs": [],
   "source": [
    "total_sents_unk.extend(list(train_df['sent2']))"
   ]
  },
  {
   "cell_type": "code",
   "execution_count": 45,
   "id": "4656feef",
   "metadata": {},
   "outputs": [],
   "source": [
    "sent_dict = {}\n",
    "for sent in total_sents_unk:\n",
    "    if len(sent) in sent_dict:\n",
    "        sent_dict[len(sent)] += 1\n",
    "    else:\n",
    "        sent_dict[len(sent)] = 1"
   ]
  },
  {
   "cell_type": "code",
   "execution_count": 46,
   "id": "97d9b806",
   "metadata": {},
   "outputs": [
    {
     "data": {
      "image/png": "[encoded data removed]",
      "text/plain": [
       "<Figure size 800x600 with 1 Axes>"
      ]
     },
     "metadata": {},
     "output_type": "display_data"
    }
   ],
   "source": [
    "fig, ax = plt.subplots(figsize=(8, 6))\n",
    "ax.bar(list(sent_dict.keys()), list(sent_dict.values()), width=0.5)\n",
    "plt.show()"
   ]
  },
  {
   "cell_type": "code",
   "execution_count": 47,
   "id": "a59164ef",
   "metadata": {},
   "outputs": [],
   "source": [
    "test_sents_unk = list(test_df['sent1'])\n",
    "test_sents_unk.extend(list(test_df['sent2']))"
   ]
  },
  {
   "cell_type": "code",
   "execution_count": 48,
   "id": "09bbbfee",
   "metadata": {},
   "outputs": [],
   "source": [
    "sent_dict = {}\n",
    "for sent in test_sents_unk:\n",
    "    if len(sent) in sent_dict:\n",
    "        sent_dict[len(sent)] += 1\n",
    "    else:\n",
    "        sent_dict[len(sent)] = 1"
   ]
  },
  {
   "cell_type": "code",
   "execution_count": 49,
   "id": "11a83078",
   "metadata": {},
   "outputs": [
    {
     "data": {
      "image/png": "[encoded data removed]",
      "text/plain": [
       "<Figure size 800x600 with 1 Axes>"
      ]
     },
     "metadata": {},
     "output_type": "display_data"
    }
   ],
   "source": [
    "fig, ax = plt.subplots(figsize=(8, 6))\n",
    "ax.bar(list(sent_dict.keys()), list(sent_dict.values()), width=0.5)\n",
    "plt.show()"
   ]
  },
  {
   "cell_type": "markdown",
   "id": "28971513",
   "metadata": {},
   "source": [
    "window size of 30 or less than 30 should be good as test data maximum length of a sentence is less than 30"
   ]
  },
  {
   "cell_type": "markdown",
   "id": "d2919377",
   "metadata": {},
   "source": [
    "## Doc2vec"
   ]
  },
  {
   "cell_type": "code",
   "execution_count": 50,
   "id": "29616c1c",
   "metadata": {},
   "outputs": [],
   "source": [
    "from gensim.models.doc2vec import Doc2Vec, TaggedDocument\n",
    "from scipy import spatial"
   ]
  },
  {
   "cell_type": "code",
   "execution_count": 51,
   "id": "5c89243c",
   "metadata": {},
   "outputs": [
    {
     "data": {
      "text/plain": [
       "40"
      ]
     },
     "execution_count": 51,
     "metadata": {},
     "output_type": "execute_result"
    }
   ],
   "source": [
    "max_length = max(len(sentence) for sentence in total_sents_unk)\n",
    "max_length"
   ]
  },
  {
   "cell_type": "code",
   "execution_count": 52,
   "id": "08017eac",
   "metadata": {},
   "outputs": [],
   "source": [
    "documents = []\n",
    "for idx, sent in enumerate(total_sents_unk):\n",
    "    documents.append(TaggedDocument(sent, [idx]))"
   ]
  },
  {
   "cell_type": "code",
   "execution_count": 53,
   "id": "d370da83",
   "metadata": {},
   "outputs": [
    {
     "data": {
      "text/plain": [
       "[TaggedDocument(words=['a', 'plane', 'is', 'take', 'off'], tags=[0]),\n",
       " TaggedDocument(words=['a', 'man', 'is', 'play', 'larg', 'flute'], tags=[1]),\n",
       " TaggedDocument(words=['a', 'man', 'is', 'spread', 'unk', 'chees', 'on', 'pizza'], tags=[2]),\n",
       " TaggedDocument(words=['three', 'men', 'are', 'play', 'chess'], tags=[3]),\n",
       " TaggedDocument(words=['a', 'man', 'is', 'play', 'the', 'cello'], tags=[4])]"
      ]
     },
     "execution_count": 53,
     "metadata": {},
     "output_type": "execute_result"
    }
   ],
   "source": [
    "documents[0:5]"
   ]
  },
  {
   "cell_type": "code",
   "execution_count": 54,
   "id": "55f8f5e2",
   "metadata": {},
   "outputs": [],
   "source": [
    "model = Doc2Vec(documents, vector_size=30, window=4, min_count=1, workers=4, epochs=10, alpha=0.025, min_alpha=0.025)"
   ]
  },
  {
   "cell_type": "code",
   "execution_count": 55,
   "id": "42149fa7",
   "metadata": {},
   "outputs": [],
   "source": [
    "# Save the trained model to disk\n",
    "#model.save('doc2vec_model_v2')"
   ]
  },
  {
   "cell_type": "code",
   "execution_count": 56,
   "id": "d4a9ffc9",
   "metadata": {},
   "outputs": [],
   "source": [
    "# Generate sentence embeddings\n",
    "embedding1 = model.infer_vector(train_df['sent1'][0])\n",
    "embedding2 = model.infer_vector(train_df['sent2'][0])\n",
    "\n",
    "# Compare the sentence embeddings using cosine similarity\n",
    "similarity = 1 - spatial.distance.cosine(embedding1, embedding2)"
   ]
  },
  {
   "cell_type": "code",
   "execution_count": 57,
   "id": "924e499a",
   "metadata": {},
   "outputs": [
    {
     "data": {
      "text/plain": [
       "0.672882080078125"
      ]
     },
     "execution_count": 57,
     "metadata": {},
     "output_type": "execute_result"
    }
   ],
   "source": [
    "similarity"
   ]
  },
  {
   "cell_type": "code",
   "execution_count": 58,
   "id": "d4bfda21",
   "metadata": {},
   "outputs": [],
   "source": [
    "def sts_score(sim_score):\n",
    "    sts_score = (sim_score+1) * 2.5\n",
    "    return sts_score"
   ]
  },
  {
   "cell_type": "code",
   "execution_count": 59,
   "id": "20d93e45",
   "metadata": {},
   "outputs": [],
   "source": [
    "model.random.seed(42)\n",
    "train_df['sent1_embedding'] = train_df['sent1'].apply(lambda x: model.infer_vector(x))\n",
    "train_df['sent2_embedding'] = train_df['sent2'].apply(lambda x: model.infer_vector(x))"
   ]
  },
  {
   "cell_type": "code",
   "execution_count": 60,
   "id": "4fb28394",
   "metadata": {},
   "outputs": [],
   "source": [
    "train_df['y_pred'] = train_df.apply(lambda x: sts_score(1 - spatial.distance.cosine(x['sent1_embedding'], x['sent2_embedding'])), axis=1)"
   ]
  },
  {
   "cell_type": "code",
   "execution_count": 61,
   "id": "cfb95df9",
   "metadata": {},
   "outputs": [
    {
     "data": {
      "text/html": [
       "<div>\n",
       "<style scoped>\n",
       "    .dataframe tbody tr th:only-of-type {\n",
       "        vertical-align: middle;\n",
       "    }\n",
       "\n",
       "    .dataframe tbody tr th {\n",
       "        vertical-align: top;\n",
       "    }\n",
       "\n",
       "    .dataframe thead th {\n",
       "        text-align: right;\n",
       "    }\n",
       "</style>\n",
       "<table border=\"1\" class=\"dataframe\">\n",
       "  <thead>\n",
       "    <tr style=\"text-align: right;\">\n",
       "      <th></th>\n",
       "      <th>sent1</th>\n",
       "      <th>sent2</th>\n",
       "      <th>score</th>\n",
       "      <th>sent1_embedding</th>\n",
       "      <th>sent2_embedding</th>\n",
       "      <th>y_pred</th>\n",
       "    </tr>\n",
       "  </thead>\n",
       "  <tbody>\n",
       "    <tr>\n",
       "      <th>0</th>\n",
       "      <td>[a, plane, is, take, off]</td>\n",
       "      <td>[an, air, plane, is, take, off]</td>\n",
       "      <td>5.00</td>\n",
       "      <td>[0.07917393, -0.067295276, 0.05125864, -0.0419...</td>\n",
       "      <td>[0.1924038, -0.11517006, -0.0021053588, -0.037...</td>\n",
       "      <td>4.510663</td>\n",
       "    </tr>\n",
       "    <tr>\n",
       "      <th>1</th>\n",
       "      <td>[a, man, is, play, larg, flute]</td>\n",
       "      <td>[a, man, is, play, flute]</td>\n",
       "      <td>3.80</td>\n",
       "      <td>[0.49844098, 0.025108306, 0.018614272, 0.12566...</td>\n",
       "      <td>[0.1103014, -0.014119169, 0.05149619, 0.000981...</td>\n",
       "      <td>3.842782</td>\n",
       "    </tr>\n",
       "    <tr>\n",
       "      <th>2</th>\n",
       "      <td>[a, man, is, spread, unk, chees, on, pizza]</td>\n",
       "      <td>[a, man, is, spread, shred, chees, on, an, unk...</td>\n",
       "      <td>3.80</td>\n",
       "      <td>[0.16629438, -0.062098026, 0.15747944, 0.08661...</td>\n",
       "      <td>[0.19947557, 0.0045822836, 0.1812488, -0.04113...</td>\n",
       "      <td>4.372021</td>\n",
       "    </tr>\n",
       "    <tr>\n",
       "      <th>3</th>\n",
       "      <td>[three, men, are, play, chess]</td>\n",
       "      <td>[two, men, are, play, chess]</td>\n",
       "      <td>2.60</td>\n",
       "      <td>[-0.09566136, -0.040800404, 0.14188513, 0.0330...</td>\n",
       "      <td>[0.002095139, -0.015107504, 0.09561524, 0.0381...</td>\n",
       "      <td>4.818812</td>\n",
       "    </tr>\n",
       "    <tr>\n",
       "      <th>4</th>\n",
       "      <td>[a, man, is, play, the, cello]</td>\n",
       "      <td>[a, man, seat, is, play, the, cello]</td>\n",
       "      <td>4.25</td>\n",
       "      <td>[0.19470225, 0.026467739, 0.08992674, 0.005290...</td>\n",
       "      <td>[0.3302051, 0.014717007, 0.004225366, 0.005071...</td>\n",
       "      <td>4.504533</td>\n",
       "    </tr>\n",
       "  </tbody>\n",
       "</table>\n",
       "</div>"
      ],
      "text/plain": [
       "                                         sent1  \\\n",
       "0                    [a, plane, is, take, off]   \n",
       "1              [a, man, is, play, larg, flute]   \n",
       "2  [a, man, is, spread, unk, chees, on, pizza]   \n",
       "3               [three, men, are, play, chess]   \n",
       "4               [a, man, is, play, the, cello]   \n",
       "\n",
       "                                               sent2  score  \\\n",
       "0                    [an, air, plane, is, take, off]   5.00   \n",
       "1                          [a, man, is, play, flute]   3.80   \n",
       "2  [a, man, is, spread, shred, chees, on, an, unk...   3.80   \n",
       "3                       [two, men, are, play, chess]   2.60   \n",
       "4               [a, man, seat, is, play, the, cello]   4.25   \n",
       "\n",
       "                                     sent1_embedding  \\\n",
       "0  [0.07917393, -0.067295276, 0.05125864, -0.0419...   \n",
       "1  [0.49844098, 0.025108306, 0.018614272, 0.12566...   \n",
       "2  [0.16629438, -0.062098026, 0.15747944, 0.08661...   \n",
       "3  [-0.09566136, -0.040800404, 0.14188513, 0.0330...   \n",
       "4  [0.19470225, 0.026467739, 0.08992674, 0.005290...   \n",
       "\n",
       "                                     sent2_embedding    y_pred  \n",
       "0  [0.1924038, -0.11517006, -0.0021053588, -0.037...  4.510663  \n",
       "1  [0.1103014, -0.014119169, 0.05149619, 0.000981...  3.842782  \n",
       "2  [0.19947557, 0.0045822836, 0.1812488, -0.04113...  4.372021  \n",
       "3  [0.002095139, -0.015107504, 0.09561524, 0.0381...  4.818812  \n",
       "4  [0.3302051, 0.014717007, 0.004225366, 0.005071...  4.504533  "
      ]
     },
     "execution_count": 61,
     "metadata": {},
     "output_type": "execute_result"
    }
   ],
   "source": [
    "train_df.head()"
   ]
  },
  {
   "cell_type": "code",
   "execution_count": 62,
   "id": "dc160261",
   "metadata": {},
   "outputs": [],
   "source": [
    "y_pred = train_df['y_pred']"
   ]
  },
  {
   "cell_type": "code",
   "execution_count": 63,
   "id": "cef16d07",
   "metadata": {},
   "outputs": [],
   "source": [
    "y_train = train_df['score']"
   ]
  },
  {
   "cell_type": "code",
   "execution_count": 64,
   "id": "4efa6a08",
   "metadata": {},
   "outputs": [],
   "source": [
    "from scipy.stats import pearsonr\n",
    "def pearson_corr(y_true, y_pred):\n",
    "    \"\"\"\n",
    "    Calculate Pearson correlation coefficient between two arrays.\n",
    "    \"\"\"\n",
    "    corr, _ = pearsonr(y_true, y_pred)\n",
    "    return corr"
   ]
  },
  {
   "cell_type": "code",
   "execution_count": 65,
   "id": "00d58ee9",
   "metadata": {},
   "outputs": [
    {
     "name": "stdout",
     "output_type": "stream",
     "text": [
      "Pearson correlation coefficient: 0.39\n"
     ]
    }
   ],
   "source": [
    "# Calculate Pearson correlation coefficient between predicted values and target values\n",
    "corr = pearson_corr(y_train, y_pred)\n",
    "\n",
    "# Print the correlation coefficient\n",
    "print(\"Pearson correlation coefficient: {:.2f}\".format(corr))"
   ]
  },
  {
   "cell_type": "code",
   "execution_count": 66,
   "id": "f3a2aa0c",
   "metadata": {},
   "outputs": [],
   "source": [
    "model.random.seed(42)\n",
    "val_df['sent1_embedding'] = val_df['sent1'].apply(lambda x: model.infer_vector(x))\n",
    "val_df['sent2_embedding'] = val_df['sent2'].apply(lambda x: model.infer_vector(x))"
   ]
  },
  {
   "cell_type": "code",
   "execution_count": 67,
   "id": "c4ec8a81",
   "metadata": {},
   "outputs": [],
   "source": [
    "val_df['y_pred'] = val_df.apply(lambda x: sts_score(1 - spatial.distance.cosine(x['sent1_embedding'], x['sent2_embedding'])), axis=1)"
   ]
  },
  {
   "cell_type": "code",
   "execution_count": 68,
   "id": "018ae9ae",
   "metadata": {},
   "outputs": [
    {
     "data": {
      "text/html": [
       "<div>\n",
       "<style scoped>\n",
       "    .dataframe tbody tr th:only-of-type {\n",
       "        vertical-align: middle;\n",
       "    }\n",
       "\n",
       "    .dataframe tbody tr th {\n",
       "        vertical-align: top;\n",
       "    }\n",
       "\n",
       "    .dataframe thead th {\n",
       "        text-align: right;\n",
       "    }\n",
       "</style>\n",
       "<table border=\"1\" class=\"dataframe\">\n",
       "  <thead>\n",
       "    <tr style=\"text-align: right;\">\n",
       "      <th></th>\n",
       "      <th>sent1</th>\n",
       "      <th>sent2</th>\n",
       "      <th>score</th>\n",
       "      <th>sent1_embedding</th>\n",
       "      <th>sent2_embedding</th>\n",
       "      <th>y_pred</th>\n",
       "    </tr>\n",
       "  </thead>\n",
       "  <tbody>\n",
       "    <tr>\n",
       "      <th>0</th>\n",
       "      <td>[a, man, with, hard, hat, is, danc]</td>\n",
       "      <td>[a, man, wear, hard, hat, is, danc]</td>\n",
       "      <td>5.00</td>\n",
       "      <td>[0.16661397, 0.012139465, 0.061518766, -0.0021...</td>\n",
       "      <td>[0.2875945, 0.054350216, 0.078898504, 0.057214...</td>\n",
       "      <td>4.499599</td>\n",
       "    </tr>\n",
       "    <tr>\n",
       "      <th>1</th>\n",
       "      <td>[a, young, child, is, ride, hors]</td>\n",
       "      <td>[a, child, is, ride, hors]</td>\n",
       "      <td>4.75</td>\n",
       "      <td>[0.14100888, 0.06403466, 0.15104245, -0.008035...</td>\n",
       "      <td>[0.20743231, 0.08839834, 0.063935004, 0.017919...</td>\n",
       "      <td>4.626534</td>\n",
       "    </tr>\n",
       "    <tr>\n",
       "      <th>2</th>\n",
       "      <td>[a, man, is, feed, mous, to, snake]</td>\n",
       "      <td>[the, man, is, feed, a, mous, to, snake]</td>\n",
       "      <td>5.00</td>\n",
       "      <td>[0.16860205, -0.052498486, 0.20259658, 0.11337...</td>\n",
       "      <td>[0.20943797, -0.04283517, 0.14832355, 0.055039...</td>\n",
       "      <td>4.719508</td>\n",
       "    </tr>\n",
       "    <tr>\n",
       "      <th>3</th>\n",
       "      <td>[a, woman, is, play, the, guitar]</td>\n",
       "      <td>[a, man, is, play, guitar]</td>\n",
       "      <td>2.40</td>\n",
       "      <td>[0.124969356, 0.0358865, -0.0044446336, 0.0177...</td>\n",
       "      <td>[0.09919555, 0.004654259, 0.06360204, 0.048923...</td>\n",
       "      <td>3.914828</td>\n",
       "    </tr>\n",
       "    <tr>\n",
       "      <th>4</th>\n",
       "      <td>[a, woman, is, play, the, flute]</td>\n",
       "      <td>[a, man, is, play, flute]</td>\n",
       "      <td>2.75</td>\n",
       "      <td>[0.18323779, -0.020420488, 0.025236938, 0.0018...</td>\n",
       "      <td>[0.17934409, 0.056215875, -0.005882446, 0.0109...</td>\n",
       "      <td>4.490308</td>\n",
       "    </tr>\n",
       "  </tbody>\n",
       "</table>\n",
       "</div>"
      ],
      "text/plain": [
       "                                 sent1  \\\n",
       "0  [a, man, with, hard, hat, is, danc]   \n",
       "1    [a, young, child, is, ride, hors]   \n",
       "2  [a, man, is, feed, mous, to, snake]   \n",
       "3    [a, woman, is, play, the, guitar]   \n",
       "4     [a, woman, is, play, the, flute]   \n",
       "\n",
       "                                      sent2  score  \\\n",
       "0       [a, man, wear, hard, hat, is, danc]   5.00   \n",
       "1                [a, child, is, ride, hors]   4.75   \n",
       "2  [the, man, is, feed, a, mous, to, snake]   5.00   \n",
       "3                [a, man, is, play, guitar]   2.40   \n",
       "4                 [a, man, is, play, flute]   2.75   \n",
       "\n",
       "                                     sent1_embedding  \\\n",
       "0  [0.16661397, 0.012139465, 0.061518766, -0.0021...   \n",
       "1  [0.14100888, 0.06403466, 0.15104245, -0.008035...   \n",
       "2  [0.16860205, -0.052498486, 0.20259658, 0.11337...   \n",
       "3  [0.124969356, 0.0358865, -0.0044446336, 0.0177...   \n",
       "4  [0.18323779, -0.020420488, 0.025236938, 0.0018...   \n",
       "\n",
       "                                     sent2_embedding    y_pred  \n",
       "0  [0.2875945, 0.054350216, 0.078898504, 0.057214...  4.499599  \n",
       "1  [0.20743231, 0.08839834, 0.063935004, 0.017919...  4.626534  \n",
       "2  [0.20943797, -0.04283517, 0.14832355, 0.055039...  4.719508  \n",
       "3  [0.09919555, 0.004654259, 0.06360204, 0.048923...  3.914828  \n",
       "4  [0.17934409, 0.056215875, -0.005882446, 0.0109...  4.490308  "
      ]
     },
     "execution_count": 68,
     "metadata": {},
     "output_type": "execute_result"
    }
   ],
   "source": [
    "val_df.head()"
   ]
  },
  {
   "cell_type": "code",
   "execution_count": 69,
   "id": "891d7a5d",
   "metadata": {},
   "outputs": [],
   "source": [
    "y_pred = val_df['y_pred']"
   ]
  },
  {
   "cell_type": "code",
   "execution_count": 70,
   "id": "02d679e7",
   "metadata": {},
   "outputs": [],
   "source": [
    "y_val = val_df['score']"
   ]
  },
  {
   "cell_type": "code",
   "execution_count": 71,
   "id": "a95301a7",
   "metadata": {},
   "outputs": [
    {
     "name": "stdout",
     "output_type": "stream",
     "text": [
      "Pearson correlation coefficient: 0.43\n"
     ]
    }
   ],
   "source": [
    "# Calculate Pearson correlation coefficient between predicted values and target values\n",
    "corr = pearson_corr(y_val, y_pred)\n",
    "\n",
    "# Print the correlation coefficient\n",
    "print(\"Pearson correlation coefficient: {:.2f}\".format(corr))"
   ]
  },
  {
   "cell_type": "code",
   "execution_count": 72,
   "id": "be7b96f3",
   "metadata": {},
   "outputs": [],
   "source": [
    "model.random.seed(42)\n",
    "test_df['sent1_embedding'] = test_df['sent1'].apply(lambda x: model.infer_vector(x))\n",
    "test_df['sent2_embedding'] = test_df['sent2'].apply(lambda x: model.infer_vector(x))"
   ]
  },
  {
   "cell_type": "code",
   "execution_count": 73,
   "id": "86d9d242",
   "metadata": {},
   "outputs": [],
   "source": [
    "test_df['y_pred'] = test_df.apply(lambda x: sts_score(1 - spatial.distance.cosine(x['sent1_embedding'], x['sent2_embedding'])), axis=1)"
   ]
  },
  {
   "cell_type": "code",
   "execution_count": 74,
   "id": "4b187b5f",
   "metadata": {},
   "outputs": [
    {
     "data": {
      "text/html": [
       "<div>\n",
       "<style scoped>\n",
       "    .dataframe tbody tr th:only-of-type {\n",
       "        vertical-align: middle;\n",
       "    }\n",
       "\n",
       "    .dataframe tbody tr th {\n",
       "        vertical-align: top;\n",
       "    }\n",
       "\n",
       "    .dataframe thead th {\n",
       "        text-align: right;\n",
       "    }\n",
       "</style>\n",
       "<table border=\"1\" class=\"dataframe\">\n",
       "  <thead>\n",
       "    <tr style=\"text-align: right;\">\n",
       "      <th></th>\n",
       "      <th>sent1</th>\n",
       "      <th>sent2</th>\n",
       "      <th>score</th>\n",
       "      <th>sent1_embedding</th>\n",
       "      <th>sent2_embedding</th>\n",
       "      <th>y_pred</th>\n",
       "    </tr>\n",
       "  </thead>\n",
       "  <tbody>\n",
       "    <tr>\n",
       "      <th>0</th>\n",
       "      <td>[a, girl, is, style, her, hair]</td>\n",
       "      <td>[a, girl, is, brush, her, hair]</td>\n",
       "      <td>2.5</td>\n",
       "      <td>[0.022957958, 0.046368267, 0.08528992, 0.05134...</td>\n",
       "      <td>[0.052688826, 0.05087013, 0.12928745, 0.055895...</td>\n",
       "      <td>4.722139</td>\n",
       "    </tr>\n",
       "    <tr>\n",
       "      <th>1</th>\n",
       "      <td>[a, group, of, men, play, soccer, on, the, beach]</td>\n",
       "      <td>[a, group, of, boy, are, play, soccer, on, the...</td>\n",
       "      <td>3.6</td>\n",
       "      <td>[0.28437626, 0.016600534, 0.16380592, 0.050596...</td>\n",
       "      <td>[0.24864691, 0.015479999, 0.12189394, 0.054243...</td>\n",
       "      <td>4.792235</td>\n",
       "    </tr>\n",
       "    <tr>\n",
       "      <th>2</th>\n",
       "      <td>[one, woman, is, measur, anoth, unk]</td>\n",
       "      <td>[a, woman, measur, anoth, unk]</td>\n",
       "      <td>5.0</td>\n",
       "      <td>[0.15646121, 0.08966973, 0.102877915, 0.128212...</td>\n",
       "      <td>[0.17123878, 0.070481874, 0.104111366, 0.09623...</td>\n",
       "      <td>4.268868</td>\n",
       "    </tr>\n",
       "    <tr>\n",
       "      <th>3</th>\n",
       "      <td>[a, man, is, cut, up, cucumb]</td>\n",
       "      <td>[a, man, is, slice, cucumb]</td>\n",
       "      <td>4.2</td>\n",
       "      <td>[0.116354115, 0.03421515, -0.04345663, 0.01698...</td>\n",
       "      <td>[0.045177206, 0.017570026, 0.01677611, -0.0479...</td>\n",
       "      <td>4.600870</td>\n",
       "    </tr>\n",
       "    <tr>\n",
       "      <th>4</th>\n",
       "      <td>[a, man, is, play, harp]</td>\n",
       "      <td>[a, man, is, play, keyboard]</td>\n",
       "      <td>1.5</td>\n",
       "      <td>[0.12551497, 0.013259229, 0.06456846, 0.022185...</td>\n",
       "      <td>[0.0719765, -0.01650843, 0.06856894, 0.0804367...</td>\n",
       "      <td>4.270865</td>\n",
       "    </tr>\n",
       "  </tbody>\n",
       "</table>\n",
       "</div>"
      ],
      "text/plain": [
       "                                               sent1  \\\n",
       "0                    [a, girl, is, style, her, hair]   \n",
       "1  [a, group, of, men, play, soccer, on, the, beach]   \n",
       "2               [one, woman, is, measur, anoth, unk]   \n",
       "3                      [a, man, is, cut, up, cucumb]   \n",
       "4                           [a, man, is, play, harp]   \n",
       "\n",
       "                                               sent2  score  \\\n",
       "0                    [a, girl, is, brush, her, hair]    2.5   \n",
       "1  [a, group, of, boy, are, play, soccer, on, the...    3.6   \n",
       "2                     [a, woman, measur, anoth, unk]    5.0   \n",
       "3                        [a, man, is, slice, cucumb]    4.2   \n",
       "4                       [a, man, is, play, keyboard]    1.5   \n",
       "\n",
       "                                     sent1_embedding  \\\n",
       "0  [0.022957958, 0.046368267, 0.08528992, 0.05134...   \n",
       "1  [0.28437626, 0.016600534, 0.16380592, 0.050596...   \n",
       "2  [0.15646121, 0.08966973, 0.102877915, 0.128212...   \n",
       "3  [0.116354115, 0.03421515, -0.04345663, 0.01698...   \n",
       "4  [0.12551497, 0.013259229, 0.06456846, 0.022185...   \n",
       "\n",
       "                                     sent2_embedding    y_pred  \n",
       "0  [0.052688826, 0.05087013, 0.12928745, 0.055895...  4.722139  \n",
       "1  [0.24864691, 0.015479999, 0.12189394, 0.054243...  4.792235  \n",
       "2  [0.17123878, 0.070481874, 0.104111366, 0.09623...  4.268868  \n",
       "3  [0.045177206, 0.017570026, 0.01677611, -0.0479...  4.600870  \n",
       "4  [0.0719765, -0.01650843, 0.06856894, 0.0804367...  4.270865  "
      ]
     },
     "execution_count": 74,
     "metadata": {},
     "output_type": "execute_result"
    }
   ],
   "source": [
    "test_df.head()"
   ]
  },
  {
   "cell_type": "code",
   "execution_count": 75,
   "id": "11cbf005",
   "metadata": {},
   "outputs": [],
   "source": [
    "y_pred = test_df['y_pred']"
   ]
  },
  {
   "cell_type": "code",
   "execution_count": 76,
   "id": "8ef03637",
   "metadata": {},
   "outputs": [],
   "source": [
    "y_test = test_df['score']"
   ]
  },
  {
   "cell_type": "code",
   "execution_count": 77,
   "id": "15179ecb",
   "metadata": {},
   "outputs": [
    {
     "name": "stdout",
     "output_type": "stream",
     "text": [
      "Pearson correlation coefficient: 0.35\n"
     ]
    }
   ],
   "source": [
    "# Calculate Pearson correlation coefficient between predicted values and target values\n",
    "corr = pearson_corr(y_test, y_pred)\n",
    "\n",
    "# Print the correlation coefficient\n",
    "print(\"Pearson correlation coefficient: {:.2f}\".format(corr))"
   ]
  },
  {
   "cell_type": "code",
   "execution_count": null,
   "id": "c986cb15",
   "metadata": {},
   "outputs": [],
   "source": []
  },
  {
   "cell_type": "code",
   "execution_count": null,
   "id": "511c01b6",
   "metadata": {},
   "outputs": [],
   "source": []
  }
 ],
 "metadata": {
  "kernelspec": {
   "display_name": "nlp_venv",
   "language": "python",
   "name": "nlp_venv"
  },
  "language_info": {
   "codemirror_mode": {
    "name": "ipython",
    "version": 3
   },
   "file_extension": ".py",
   "mimetype": "text/x-python",
   "name": "python",
   "nbconvert_exporter": "python",
   "pygments_lexer": "ipython3",
   "version": "3.9.16"
  }
 },
 "nbformat": 4,
 "nbformat_minor": 5
}
