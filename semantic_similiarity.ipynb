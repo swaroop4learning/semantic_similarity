{
 "cells": [
  {
   "cell_type": "code",
   "execution_count": 6,
   "id": "321ff6b2",
   "metadata": {},
   "outputs": [],
   "source": [
    "import pandas as pd\n",
    "import numpy as np\n",
    "import nltk\n",
    "import re\n",
    "from sklearn.linear_model import LinearRegression\n",
    "from gensim.models import Word2Vec\n",
    "from sklearn.feature_extraction.text import TfidfVectorizer\n",
    "from nltk.stem import WordNetLemmatizer\n",
    "from nltk.stem import PorterStemmer"
   ]
  },
  {
   "cell_type": "code",
   "execution_count": 7,
   "id": "572e793a",
   "metadata": {},
   "outputs": [],
   "source": [
    "train_df = pd.read_csv('./data/stsb-en-train.csv', usecols=[0,1,2], names=['sent1', 'sent2', 'score'], header=None)"
   ]
  },
  {
   "cell_type": "code",
   "execution_count": 8,
   "id": "061855ba",
   "metadata": {},
   "outputs": [
    {
     "data": {
      "text/html": [
       "<div>\n",
       "<style scoped>\n",
       "    .dataframe tbody tr th:only-of-type {\n",
       "        vertical-align: middle;\n",
       "    }\n",
       "\n",
       "    .dataframe tbody tr th {\n",
       "        vertical-align: top;\n",
       "    }\n",
       "\n",
       "    .dataframe thead th {\n",
       "        text-align: right;\n",
       "    }\n",
       "</style>\n",
       "<table border=\"1\" class=\"dataframe\">\n",
       "  <thead>\n",
       "    <tr style=\"text-align: right;\">\n",
       "      <th></th>\n",
       "      <th>sent1</th>\n",
       "      <th>sent2</th>\n",
       "      <th>score</th>\n",
       "    </tr>\n",
       "  </thead>\n",
       "  <tbody>\n",
       "    <tr>\n",
       "      <th>0</th>\n",
       "      <td>A plane is taking off.</td>\n",
       "      <td>An air plane is taking off.</td>\n",
       "      <td>5.00</td>\n",
       "    </tr>\n",
       "    <tr>\n",
       "      <th>1</th>\n",
       "      <td>A man is playing a large flute.</td>\n",
       "      <td>A man is playing a flute.</td>\n",
       "      <td>3.80</td>\n",
       "    </tr>\n",
       "    <tr>\n",
       "      <th>2</th>\n",
       "      <td>A man is spreading shreded cheese on a pizza.</td>\n",
       "      <td>A man is spreading shredded cheese on an uncoo...</td>\n",
       "      <td>3.80</td>\n",
       "    </tr>\n",
       "    <tr>\n",
       "      <th>3</th>\n",
       "      <td>Three men are playing chess.</td>\n",
       "      <td>Two men are playing chess.</td>\n",
       "      <td>2.60</td>\n",
       "    </tr>\n",
       "    <tr>\n",
       "      <th>4</th>\n",
       "      <td>A man is playing the cello.</td>\n",
       "      <td>A man seated is playing the cello.</td>\n",
       "      <td>4.25</td>\n",
       "    </tr>\n",
       "  </tbody>\n",
       "</table>\n",
       "</div>"
      ],
      "text/plain": [
       "                                           sent1  \\\n",
       "0                         A plane is taking off.   \n",
       "1                A man is playing a large flute.   \n",
       "2  A man is spreading shreded cheese on a pizza.   \n",
       "3                   Three men are playing chess.   \n",
       "4                    A man is playing the cello.   \n",
       "\n",
       "                                               sent2  score  \n",
       "0                        An air plane is taking off.   5.00  \n",
       "1                          A man is playing a flute.   3.80  \n",
       "2  A man is spreading shredded cheese on an uncoo...   3.80  \n",
       "3                         Two men are playing chess.   2.60  \n",
       "4                 A man seated is playing the cello.   4.25  "
      ]
     },
     "execution_count": 8,
     "metadata": {},
     "output_type": "execute_result"
    }
   ],
   "source": [
    "train_df.head()"
   ]
  },
  {
   "cell_type": "code",
   "execution_count": 9,
   "id": "c42e1004",
   "metadata": {},
   "outputs": [],
   "source": [
    "val_df = pd.read_csv('./data/stsb-en-dev.csv', usecols=[0,1,2], names=['sent1', 'sent2', 'score'], header=None)"
   ]
  },
  {
   "cell_type": "code",
   "execution_count": 10,
   "id": "992be28f",
   "metadata": {},
   "outputs": [
    {
     "data": {
      "text/html": [
       "<div>\n",
       "<style scoped>\n",
       "    .dataframe tbody tr th:only-of-type {\n",
       "        vertical-align: middle;\n",
       "    }\n",
       "\n",
       "    .dataframe tbody tr th {\n",
       "        vertical-align: top;\n",
       "    }\n",
       "\n",
       "    .dataframe thead th {\n",
       "        text-align: right;\n",
       "    }\n",
       "</style>\n",
       "<table border=\"1\" class=\"dataframe\">\n",
       "  <thead>\n",
       "    <tr style=\"text-align: right;\">\n",
       "      <th></th>\n",
       "      <th>sent1</th>\n",
       "      <th>sent2</th>\n",
       "      <th>score</th>\n",
       "    </tr>\n",
       "  </thead>\n",
       "  <tbody>\n",
       "    <tr>\n",
       "      <th>0</th>\n",
       "      <td>A man with a hard hat is dancing.</td>\n",
       "      <td>A man wearing a hard hat is dancing.</td>\n",
       "      <td>5.00</td>\n",
       "    </tr>\n",
       "    <tr>\n",
       "      <th>1</th>\n",
       "      <td>A young child is riding a horse.</td>\n",
       "      <td>A child is riding a horse.</td>\n",
       "      <td>4.75</td>\n",
       "    </tr>\n",
       "    <tr>\n",
       "      <th>2</th>\n",
       "      <td>A man is feeding a mouse to a snake.</td>\n",
       "      <td>The man is feeding a mouse to the snake.</td>\n",
       "      <td>5.00</td>\n",
       "    </tr>\n",
       "    <tr>\n",
       "      <th>3</th>\n",
       "      <td>A woman is playing the guitar.</td>\n",
       "      <td>A man is playing guitar.</td>\n",
       "      <td>2.40</td>\n",
       "    </tr>\n",
       "    <tr>\n",
       "      <th>4</th>\n",
       "      <td>A woman is playing the flute.</td>\n",
       "      <td>A man is playing a flute.</td>\n",
       "      <td>2.75</td>\n",
       "    </tr>\n",
       "  </tbody>\n",
       "</table>\n",
       "</div>"
      ],
      "text/plain": [
       "                                  sent1  \\\n",
       "0     A man with a hard hat is dancing.   \n",
       "1      A young child is riding a horse.   \n",
       "2  A man is feeding a mouse to a snake.   \n",
       "3        A woman is playing the guitar.   \n",
       "4         A woman is playing the flute.   \n",
       "\n",
       "                                      sent2  score  \n",
       "0      A man wearing a hard hat is dancing.   5.00  \n",
       "1                A child is riding a horse.   4.75  \n",
       "2  The man is feeding a mouse to the snake.   5.00  \n",
       "3                  A man is playing guitar.   2.40  \n",
       "4                 A man is playing a flute.   2.75  "
      ]
     },
     "execution_count": 10,
     "metadata": {},
     "output_type": "execute_result"
    }
   ],
   "source": [
    "val_df.head()"
   ]
  },
  {
   "cell_type": "code",
   "execution_count": 162,
   "id": "5675f29f",
   "metadata": {},
   "outputs": [],
   "source": [
    "test_df = pd.read_csv('./data/stsb-en-test.csv', usecols=[0,1,2], names=['sent1', 'sent2', 'score'], header=None)"
   ]
  },
  {
   "cell_type": "code",
   "execution_count": 163,
   "id": "376254e8",
   "metadata": {},
   "outputs": [
    {
     "data": {
      "text/html": [
       "<div>\n",
       "<style scoped>\n",
       "    .dataframe tbody tr th:only-of-type {\n",
       "        vertical-align: middle;\n",
       "    }\n",
       "\n",
       "    .dataframe tbody tr th {\n",
       "        vertical-align: top;\n",
       "    }\n",
       "\n",
       "    .dataframe thead th {\n",
       "        text-align: right;\n",
       "    }\n",
       "</style>\n",
       "<table border=\"1\" class=\"dataframe\">\n",
       "  <thead>\n",
       "    <tr style=\"text-align: right;\">\n",
       "      <th></th>\n",
       "      <th>sent1</th>\n",
       "      <th>sent2</th>\n",
       "      <th>score</th>\n",
       "    </tr>\n",
       "  </thead>\n",
       "  <tbody>\n",
       "    <tr>\n",
       "      <th>0</th>\n",
       "      <td>A girl is styling her hair.</td>\n",
       "      <td>A girl is brushing her hair.</td>\n",
       "      <td>2.5</td>\n",
       "    </tr>\n",
       "    <tr>\n",
       "      <th>1</th>\n",
       "      <td>A group of men play soccer on the beach.</td>\n",
       "      <td>A group of boys are playing soccer on the beach.</td>\n",
       "      <td>3.6</td>\n",
       "    </tr>\n",
       "    <tr>\n",
       "      <th>2</th>\n",
       "      <td>One woman is measuring another woman's ankle.</td>\n",
       "      <td>A woman measures another woman's ankle.</td>\n",
       "      <td>5.0</td>\n",
       "    </tr>\n",
       "    <tr>\n",
       "      <th>3</th>\n",
       "      <td>A man is cutting up a cucumber.</td>\n",
       "      <td>A man is slicing a cucumber.</td>\n",
       "      <td>4.2</td>\n",
       "    </tr>\n",
       "    <tr>\n",
       "      <th>4</th>\n",
       "      <td>A man is playing a harp.</td>\n",
       "      <td>A man is playing a keyboard.</td>\n",
       "      <td>1.5</td>\n",
       "    </tr>\n",
       "  </tbody>\n",
       "</table>\n",
       "</div>"
      ],
      "text/plain": [
       "                                           sent1  \\\n",
       "0                    A girl is styling her hair.   \n",
       "1       A group of men play soccer on the beach.   \n",
       "2  One woman is measuring another woman's ankle.   \n",
       "3                A man is cutting up a cucumber.   \n",
       "4                       A man is playing a harp.   \n",
       "\n",
       "                                              sent2  score  \n",
       "0                      A girl is brushing her hair.    2.5  \n",
       "1  A group of boys are playing soccer on the beach.    3.6  \n",
       "2           A woman measures another woman's ankle.    5.0  \n",
       "3                      A man is slicing a cucumber.    4.2  \n",
       "4                      A man is playing a keyboard.    1.5  "
      ]
     },
     "execution_count": 163,
     "metadata": {},
     "output_type": "execute_result"
    }
   ],
   "source": [
    "test_df.head()"
   ]
  },
  {
   "cell_type": "code",
   "execution_count": 13,
   "id": "2f9ccebf",
   "metadata": {},
   "outputs": [
    {
     "name": "stderr",
     "output_type": "stream",
     "text": [
      "[nltk_data] Downloading package wordnet to /Users/AH00434/nltk_data...\n",
      "[nltk_data]   Package wordnet is already up-to-date!\n"
     ]
    },
    {
     "data": {
      "text/plain": [
       "True"
      ]
     },
     "execution_count": 13,
     "metadata": {},
     "output_type": "execute_result"
    }
   ],
   "source": [
    "nltk.download('wordnet')"
   ]
  },
  {
   "cell_type": "code",
   "execution_count": 14,
   "id": "8ed63f8e",
   "metadata": {},
   "outputs": [],
   "source": [
    "lemmatizer = WordNetLemmatizer()\n",
    "ps = PorterStemmer()"
   ]
  },
  {
   "cell_type": "code",
   "execution_count": 15,
   "id": "51d4209c",
   "metadata": {},
   "outputs": [],
   "source": [
    "def preprocess_text(text):\n",
    "    # Remove punctuation\n",
    "    text = re.sub(r'[^\\w\\s]', '', text)\n",
    "    # Replace numbers with num\n",
    "    text = re.sub(r'\\d+', '', text)\n",
    "    # Lower case\n",
    "    text= text.lower()\n",
    "    sent_token = text.split()\n",
    "    # Lemmatize\n",
    "    sent_token = [lemmatizer.lemmatize(word) for word in sent_token]\n",
    "    # Stemming\n",
    "    sent_token = [ps.stem(word) for word in sent_token]\n",
    "    return sent_token"
   ]
  },
  {
   "cell_type": "code",
   "execution_count": 16,
   "id": "01c8875d",
   "metadata": {},
   "outputs": [],
   "source": [
    "train_df['sent1'] =train_df['sent1'].apply(lambda x: preprocess_text(x))\n",
    "train_df['sent2'] =train_df['sent2'].apply(lambda x: preprocess_text(x))"
   ]
  },
  {
   "cell_type": "code",
   "execution_count": 17,
   "id": "d6aad4cf",
   "metadata": {},
   "outputs": [],
   "source": [
    "val_df['sent1'] =val_df['sent1'].apply(lambda x: preprocess_text(x))\n",
    "val_df['sent2'] =val_df['sent2'].apply(lambda x: preprocess_text(x))"
   ]
  },
  {
   "cell_type": "code",
   "execution_count": 164,
   "id": "246d17e4",
   "metadata": {},
   "outputs": [],
   "source": [
    "test_df['sent1'] =test_df['sent1'].apply(lambda x: preprocess_text(x))\n",
    "test_df['sent2'] =test_df['sent2'].apply(lambda x: preprocess_text(x))"
   ]
  },
  {
   "cell_type": "code",
   "execution_count": 19,
   "id": "56489efc",
   "metadata": {},
   "outputs": [
    {
     "data": {
      "text/html": [
       "<div>\n",
       "<style scoped>\n",
       "    .dataframe tbody tr th:only-of-type {\n",
       "        vertical-align: middle;\n",
       "    }\n",
       "\n",
       "    .dataframe tbody tr th {\n",
       "        vertical-align: top;\n",
       "    }\n",
       "\n",
       "    .dataframe thead th {\n",
       "        text-align: right;\n",
       "    }\n",
       "</style>\n",
       "<table border=\"1\" class=\"dataframe\">\n",
       "  <thead>\n",
       "    <tr style=\"text-align: right;\">\n",
       "      <th></th>\n",
       "      <th>sent1</th>\n",
       "      <th>sent2</th>\n",
       "      <th>score</th>\n",
       "    </tr>\n",
       "  </thead>\n",
       "  <tbody>\n",
       "    <tr>\n",
       "      <th>0</th>\n",
       "      <td>[a, plane, is, take, off]</td>\n",
       "      <td>[an, air, plane, is, take, off]</td>\n",
       "      <td>5.00</td>\n",
       "    </tr>\n",
       "    <tr>\n",
       "      <th>1</th>\n",
       "      <td>[a, man, is, play, a, larg, flute]</td>\n",
       "      <td>[a, man, is, play, a, flute]</td>\n",
       "      <td>3.80</td>\n",
       "    </tr>\n",
       "    <tr>\n",
       "      <th>2</th>\n",
       "      <td>[a, man, is, spread, shrede, chees, on, a, pizza]</td>\n",
       "      <td>[a, man, is, spread, shred, chees, on, an, unc...</td>\n",
       "      <td>3.80</td>\n",
       "    </tr>\n",
       "    <tr>\n",
       "      <th>3</th>\n",
       "      <td>[three, men, are, play, chess]</td>\n",
       "      <td>[two, men, are, play, chess]</td>\n",
       "      <td>2.60</td>\n",
       "    </tr>\n",
       "    <tr>\n",
       "      <th>4</th>\n",
       "      <td>[a, man, is, play, the, cello]</td>\n",
       "      <td>[a, man, seat, is, play, the, cello]</td>\n",
       "      <td>4.25</td>\n",
       "    </tr>\n",
       "  </tbody>\n",
       "</table>\n",
       "</div>"
      ],
      "text/plain": [
       "                                               sent1  \\\n",
       "0                          [a, plane, is, take, off]   \n",
       "1                 [a, man, is, play, a, larg, flute]   \n",
       "2  [a, man, is, spread, shrede, chees, on, a, pizza]   \n",
       "3                     [three, men, are, play, chess]   \n",
       "4                     [a, man, is, play, the, cello]   \n",
       "\n",
       "                                               sent2  score  \n",
       "0                    [an, air, plane, is, take, off]   5.00  \n",
       "1                       [a, man, is, play, a, flute]   3.80  \n",
       "2  [a, man, is, spread, shred, chees, on, an, unc...   3.80  \n",
       "3                       [two, men, are, play, chess]   2.60  \n",
       "4               [a, man, seat, is, play, the, cello]   4.25  "
      ]
     },
     "execution_count": 19,
     "metadata": {},
     "output_type": "execute_result"
    }
   ],
   "source": [
    "train_df.head()"
   ]
  },
  {
   "cell_type": "code",
   "execution_count": 20,
   "id": "dca05121",
   "metadata": {},
   "outputs": [
    {
     "data": {
      "text/html": [
       "<div>\n",
       "<style scoped>\n",
       "    .dataframe tbody tr th:only-of-type {\n",
       "        vertical-align: middle;\n",
       "    }\n",
       "\n",
       "    .dataframe tbody tr th {\n",
       "        vertical-align: top;\n",
       "    }\n",
       "\n",
       "    .dataframe thead th {\n",
       "        text-align: right;\n",
       "    }\n",
       "</style>\n",
       "<table border=\"1\" class=\"dataframe\">\n",
       "  <thead>\n",
       "    <tr style=\"text-align: right;\">\n",
       "      <th></th>\n",
       "      <th>sent1</th>\n",
       "      <th>sent2</th>\n",
       "      <th>score</th>\n",
       "    </tr>\n",
       "  </thead>\n",
       "  <tbody>\n",
       "    <tr>\n",
       "      <th>0</th>\n",
       "      <td>[a, man, with, a, hard, hat, is, danc]</td>\n",
       "      <td>[a, man, wear, a, hard, hat, is, danc]</td>\n",
       "      <td>5.00</td>\n",
       "    </tr>\n",
       "    <tr>\n",
       "      <th>1</th>\n",
       "      <td>[a, young, child, is, ride, a, hors]</td>\n",
       "      <td>[a, child, is, ride, a, hors]</td>\n",
       "      <td>4.75</td>\n",
       "    </tr>\n",
       "    <tr>\n",
       "      <th>2</th>\n",
       "      <td>[a, man, is, feed, a, mous, to, a, snake]</td>\n",
       "      <td>[the, man, is, feed, a, mous, to, the, snake]</td>\n",
       "      <td>5.00</td>\n",
       "    </tr>\n",
       "    <tr>\n",
       "      <th>3</th>\n",
       "      <td>[a, woman, is, play, the, guitar]</td>\n",
       "      <td>[a, man, is, play, guitar]</td>\n",
       "      <td>2.40</td>\n",
       "    </tr>\n",
       "    <tr>\n",
       "      <th>4</th>\n",
       "      <td>[a, woman, is, play, the, flute]</td>\n",
       "      <td>[a, man, is, play, a, flute]</td>\n",
       "      <td>2.75</td>\n",
       "    </tr>\n",
       "  </tbody>\n",
       "</table>\n",
       "</div>"
      ],
      "text/plain": [
       "                                       sent1  \\\n",
       "0     [a, man, with, a, hard, hat, is, danc]   \n",
       "1       [a, young, child, is, ride, a, hors]   \n",
       "2  [a, man, is, feed, a, mous, to, a, snake]   \n",
       "3          [a, woman, is, play, the, guitar]   \n",
       "4           [a, woman, is, play, the, flute]   \n",
       "\n",
       "                                           sent2  score  \n",
       "0         [a, man, wear, a, hard, hat, is, danc]   5.00  \n",
       "1                  [a, child, is, ride, a, hors]   4.75  \n",
       "2  [the, man, is, feed, a, mous, to, the, snake]   5.00  \n",
       "3                     [a, man, is, play, guitar]   2.40  \n",
       "4                   [a, man, is, play, a, flute]   2.75  "
      ]
     },
     "execution_count": 20,
     "metadata": {},
     "output_type": "execute_result"
    }
   ],
   "source": [
    "val_df.head()"
   ]
  },
  {
   "cell_type": "code",
   "execution_count": 165,
   "id": "a200d0fd",
   "metadata": {},
   "outputs": [
    {
     "data": {
      "text/html": [
       "<div>\n",
       "<style scoped>\n",
       "    .dataframe tbody tr th:only-of-type {\n",
       "        vertical-align: middle;\n",
       "    }\n",
       "\n",
       "    .dataframe tbody tr th {\n",
       "        vertical-align: top;\n",
       "    }\n",
       "\n",
       "    .dataframe thead th {\n",
       "        text-align: right;\n",
       "    }\n",
       "</style>\n",
       "<table border=\"1\" class=\"dataframe\">\n",
       "  <thead>\n",
       "    <tr style=\"text-align: right;\">\n",
       "      <th></th>\n",
       "      <th>sent1</th>\n",
       "      <th>sent2</th>\n",
       "      <th>score</th>\n",
       "    </tr>\n",
       "  </thead>\n",
       "  <tbody>\n",
       "    <tr>\n",
       "      <th>0</th>\n",
       "      <td>[a, girl, is, style, her, hair]</td>\n",
       "      <td>[a, girl, is, brush, her, hair]</td>\n",
       "      <td>2.5</td>\n",
       "    </tr>\n",
       "    <tr>\n",
       "      <th>1</th>\n",
       "      <td>[a, group, of, men, play, soccer, on, the, beach]</td>\n",
       "      <td>[a, group, of, boy, are, play, soccer, on, the...</td>\n",
       "      <td>3.6</td>\n",
       "    </tr>\n",
       "    <tr>\n",
       "      <th>2</th>\n",
       "      <td>[one, woman, is, measur, anoth, woman, ankl]</td>\n",
       "      <td>[a, woman, measur, anoth, woman, ankl]</td>\n",
       "      <td>5.0</td>\n",
       "    </tr>\n",
       "    <tr>\n",
       "      <th>3</th>\n",
       "      <td>[a, man, is, cut, up, a, cucumb]</td>\n",
       "      <td>[a, man, is, slice, a, cucumb]</td>\n",
       "      <td>4.2</td>\n",
       "    </tr>\n",
       "    <tr>\n",
       "      <th>4</th>\n",
       "      <td>[a, man, is, play, a, harp]</td>\n",
       "      <td>[a, man, is, play, a, keyboard]</td>\n",
       "      <td>1.5</td>\n",
       "    </tr>\n",
       "  </tbody>\n",
       "</table>\n",
       "</div>"
      ],
      "text/plain": [
       "                                               sent1  \\\n",
       "0                    [a, girl, is, style, her, hair]   \n",
       "1  [a, group, of, men, play, soccer, on, the, beach]   \n",
       "2       [one, woman, is, measur, anoth, woman, ankl]   \n",
       "3                   [a, man, is, cut, up, a, cucumb]   \n",
       "4                        [a, man, is, play, a, harp]   \n",
       "\n",
       "                                               sent2  score  \n",
       "0                    [a, girl, is, brush, her, hair]    2.5  \n",
       "1  [a, group, of, boy, are, play, soccer, on, the...    3.6  \n",
       "2             [a, woman, measur, anoth, woman, ankl]    5.0  \n",
       "3                     [a, man, is, slice, a, cucumb]    4.2  \n",
       "4                    [a, man, is, play, a, keyboard]    1.5  "
      ]
     },
     "execution_count": 165,
     "metadata": {},
     "output_type": "execute_result"
    }
   ],
   "source": [
    "test_df.head()"
   ]
  },
  {
   "cell_type": "code",
   "execution_count": 22,
   "id": "1cd97a5e",
   "metadata": {},
   "outputs": [],
   "source": [
    "# Data Exploration"
   ]
  },
  {
   "cell_type": "code",
   "execution_count": 23,
   "id": "a4421e34",
   "metadata": {},
   "outputs": [],
   "source": [
    "total_sents = list(train_df['sent1'])"
   ]
  },
  {
   "cell_type": "code",
   "execution_count": 24,
   "id": "818a0a2f",
   "metadata": {},
   "outputs": [],
   "source": [
    "total_sents.extend(list(train_df['sent2']))"
   ]
  },
  {
   "cell_type": "code",
   "execution_count": 25,
   "id": "590d1ec9",
   "metadata": {},
   "outputs": [
    {
     "data": {
      "text/plain": [
       "5749.0"
      ]
     },
     "execution_count": 25,
     "metadata": {},
     "output_type": "execute_result"
    }
   ],
   "source": [
    "len(total_sents)/2"
   ]
  },
  {
   "cell_type": "code",
   "execution_count": 26,
   "id": "5706297a",
   "metadata": {},
   "outputs": [],
   "source": [
    "#sent_tokens = [sent.split() for sent in total_sents]"
   ]
  },
  {
   "cell_type": "code",
   "execution_count": 27,
   "id": "f4c0fc41",
   "metadata": {},
   "outputs": [
    {
     "data": {
      "text/plain": [
       "[['a', 'plane', 'is', 'take', 'off'],\n",
       " ['a', 'man', 'is', 'play', 'a', 'larg', 'flute'],\n",
       " ['a', 'man', 'is', 'spread', 'shrede', 'chees', 'on', 'a', 'pizza'],\n",
       " ['three', 'men', 'are', 'play', 'chess'],\n",
       " ['a', 'man', 'is', 'play', 'the', 'cello']]"
      ]
     },
     "execution_count": 27,
     "metadata": {},
     "output_type": "execute_result"
    }
   ],
   "source": [
    "total_sents[0:5]"
   ]
  },
  {
   "cell_type": "code",
   "execution_count": 28,
   "id": "17143b55",
   "metadata": {},
   "outputs": [],
   "source": [
    "word_dict = {}\n",
    "for word_tokens in total_sents:\n",
    "    for word in word_tokens:\n",
    "        if word in word_dict:\n",
    "            word_dict[word] += 1\n",
    "        else:\n",
    "            word_dict[word] = 1"
   ]
  },
  {
   "cell_type": "code",
   "execution_count": 29,
   "id": "014a1bde",
   "metadata": {},
   "outputs": [],
   "source": [
    "vocab_length = len(word_dict)"
   ]
  },
  {
   "cell_type": "code",
   "execution_count": 30,
   "id": "89e0b30b",
   "metadata": {},
   "outputs": [
    {
     "data": {
      "text/plain": [
       "8306"
      ]
     },
     "execution_count": 30,
     "metadata": {},
     "output_type": "execute_result"
    }
   ],
   "source": [
    "vocab_length"
   ]
  },
  {
   "cell_type": "code",
   "execution_count": 31,
   "id": "f873e840",
   "metadata": {},
   "outputs": [
    {
     "name": "stdout",
     "output_type": "stream",
     "text": [
      "2573\n"
     ]
    }
   ],
   "source": [
    "uni_count = 0\n",
    "for value in word_dict.values():\n",
    "    if value == 1:\n",
    "        uni_count += 1\n",
    "print(uni_count)"
   ]
  },
  {
   "cell_type": "code",
   "execution_count": 32,
   "id": "ffa8cef0",
   "metadata": {},
   "outputs": [],
   "source": [
    "def get_sorted_counter(word_counter):\n",
    "    return {k: v for k, v in sorted(word_counter.items(), key=lambda item: item[1], reverse=False)}"
   ]
  },
  {
   "cell_type": "code",
   "execution_count": 33,
   "id": "38968999",
   "metadata": {},
   "outputs": [],
   "source": [
    "sorted_counter = get_sorted_counter(word_dict)"
   ]
  },
  {
   "cell_type": "code",
   "execution_count": 34,
   "id": "d01f22cc",
   "metadata": {},
   "outputs": [],
   "source": [
    "sent_dict = {}\n",
    "for sent in total_sents:\n",
    "    if len(sent) in sent_dict:\n",
    "        sent_dict[len(sent)] += 1\n",
    "    else:\n",
    "        sent_dict[len(sent)] = 1"
   ]
  },
  {
   "cell_type": "code",
   "execution_count": 35,
   "id": "02cf9c5a",
   "metadata": {},
   "outputs": [],
   "source": [
    "import matplotlib.pyplot as plt"
   ]
  },
  {
   "cell_type": "code",
   "execution_count": 36,
   "id": "9e20e389",
   "metadata": {},
   "outputs": [
    {
     "data": {
      "image/png": "[encoded data removed]",
      "text/plain": [
       "<Figure size 800x600 with 1 Axes>"
      ]
     },
     "metadata": {},
     "output_type": "display_data"
    }
   ],
   "source": [
    "fig, ax = plt.subplots(figsize=(8, 6))\n",
    "ax.bar(list(sent_dict.keys()), list(sent_dict.values()), width=0.5)\n",
    "plt.title(\"sentence length in training data\")\n",
    "plt.xlabel(\"sentence length\")\n",
    "plt.ylabel(\"number of sentences\")\n",
    "plt.show()"
   ]
  },
  {
   "cell_type": "markdown",
   "id": "14182698",
   "metadata": {},
   "source": [
    "Most of the data is concentrated at average length of 10 and maximum vector length can be treated as 35 with remaining ignored"
   ]
  },
  {
   "cell_type": "code",
   "execution_count": 37,
   "id": "f45fa084",
   "metadata": {},
   "outputs": [],
   "source": [
    "#unknown words treatment"
   ]
  },
  {
   "cell_type": "code",
   "execution_count": 38,
   "id": "d36eee36",
   "metadata": {},
   "outputs": [],
   "source": [
    "def unk_replace(word, word_dict):\n",
    "    if word not in word_dict:\n",
    "        return \"unk\"\n",
    "    else:\n",
    "        if word_dict[word] < 2:\n",
    "            return \"unk\"\n",
    "    return word"
   ]
  },
  {
   "cell_type": "code",
   "execution_count": 34,
   "id": "17c91939",
   "metadata": {},
   "outputs": [],
   "source": [
    "def remove_unk_duplicates(sent_token):\n",
    "    new_list = []\n",
    "    seen = set()\n",
    "\n",
    "    for item in sent_token:\n",
    "        if item not in seen:\n",
    "            new_list.append(item)\n",
    "            seen.add(item)\n",
    "    return new_list"
   ]
  },
  {
   "cell_type": "code",
   "execution_count": 35,
   "id": "b07f0a94",
   "metadata": {},
   "outputs": [
    {
     "name": "stdout",
     "output_type": "stream",
     "text": [
      "['this', 'unk', 'again', 'and']\n"
     ]
    }
   ],
   "source": [
    "print(remove_unk_duplicates([\"this\", \"unk\", \"again\", \"unk\", \"and\"]))"
   ]
  },
  {
   "cell_type": "code",
   "execution_count": 36,
   "id": "f95f1b01",
   "metadata": {},
   "outputs": [],
   "source": [
    "#train_df['sent1'] =train_df['sent1'].apply(lambda x: remove_unk_duplicates([unk_replace(word, word_dict) for word in x]))\n",
    "#train_df['sent2'] =train_df['sent2'].apply(lambda x: remove_unk_duplicates([unk_replace(word, word_dict) for word in x]))"
   ]
  },
  {
   "cell_type": "code",
   "execution_count": 39,
   "id": "ba5b9063",
   "metadata": {},
   "outputs": [],
   "source": [
    "train_df['sent1'] =train_df['sent1'].apply(lambda x: [unk_replace(word, word_dict) for word in x])\n",
    "train_df['sent2'] =train_df['sent2'].apply(lambda x: [unk_replace(word, word_dict) for word in x])"
   ]
  },
  {
   "cell_type": "code",
   "execution_count": 40,
   "id": "9aad8d7a",
   "metadata": {},
   "outputs": [
    {
     "data": {
      "text/html": [
       "<div>\n",
       "<style scoped>\n",
       "    .dataframe tbody tr th:only-of-type {\n",
       "        vertical-align: middle;\n",
       "    }\n",
       "\n",
       "    .dataframe tbody tr th {\n",
       "        vertical-align: top;\n",
       "    }\n",
       "\n",
       "    .dataframe thead th {\n",
       "        text-align: right;\n",
       "    }\n",
       "</style>\n",
       "<table border=\"1\" class=\"dataframe\">\n",
       "  <thead>\n",
       "    <tr style=\"text-align: right;\">\n",
       "      <th></th>\n",
       "      <th>sent1</th>\n",
       "      <th>sent2</th>\n",
       "      <th>score</th>\n",
       "    </tr>\n",
       "  </thead>\n",
       "  <tbody>\n",
       "    <tr>\n",
       "      <th>0</th>\n",
       "      <td>[a, plane, is, take, off]</td>\n",
       "      <td>[an, air, plane, is, take, off]</td>\n",
       "      <td>5.00</td>\n",
       "    </tr>\n",
       "    <tr>\n",
       "      <th>1</th>\n",
       "      <td>[a, man, is, play, a, larg, flute]</td>\n",
       "      <td>[a, man, is, play, a, flute]</td>\n",
       "      <td>3.80</td>\n",
       "    </tr>\n",
       "    <tr>\n",
       "      <th>2</th>\n",
       "      <td>[a, man, is, spread, unk, chees, on, a, pizza]</td>\n",
       "      <td>[a, man, is, spread, shred, chees, on, an, unk...</td>\n",
       "      <td>3.80</td>\n",
       "    </tr>\n",
       "    <tr>\n",
       "      <th>3</th>\n",
       "      <td>[three, men, are, play, chess]</td>\n",
       "      <td>[two, men, are, play, chess]</td>\n",
       "      <td>2.60</td>\n",
       "    </tr>\n",
       "    <tr>\n",
       "      <th>4</th>\n",
       "      <td>[a, man, is, play, the, cello]</td>\n",
       "      <td>[a, man, seat, is, play, the, cello]</td>\n",
       "      <td>4.25</td>\n",
       "    </tr>\n",
       "  </tbody>\n",
       "</table>\n",
       "</div>"
      ],
      "text/plain": [
       "                                            sent1  \\\n",
       "0                       [a, plane, is, take, off]   \n",
       "1              [a, man, is, play, a, larg, flute]   \n",
       "2  [a, man, is, spread, unk, chees, on, a, pizza]   \n",
       "3                  [three, men, are, play, chess]   \n",
       "4                  [a, man, is, play, the, cello]   \n",
       "\n",
       "                                               sent2  score  \n",
       "0                    [an, air, plane, is, take, off]   5.00  \n",
       "1                       [a, man, is, play, a, flute]   3.80  \n",
       "2  [a, man, is, spread, shred, chees, on, an, unk...   3.80  \n",
       "3                       [two, men, are, play, chess]   2.60  \n",
       "4               [a, man, seat, is, play, the, cello]   4.25  "
      ]
     },
     "execution_count": 40,
     "metadata": {},
     "output_type": "execute_result"
    }
   ],
   "source": [
    "train_df.head()"
   ]
  },
  {
   "cell_type": "code",
   "execution_count": 38,
   "id": "0afba5b8",
   "metadata": {},
   "outputs": [],
   "source": [
    "# val_df['sent1'] =val_df['sent1'].apply(lambda x: remove_unk_duplicates([unk_replace(word, word_dict) for word in x]))\n",
    "# val_df['sent2'] =val_df['sent2'].apply(lambda x: remove_unk_duplicates([unk_replace(word, word_dict) for word in x]))"
   ]
  },
  {
   "cell_type": "code",
   "execution_count": 41,
   "id": "d14495b8",
   "metadata": {},
   "outputs": [],
   "source": [
    "val_df['sent1'] =val_df['sent1'].apply(lambda x: [unk_replace(word, word_dict) for word in x])\n",
    "val_df['sent2'] =val_df['sent2'].apply(lambda x: [unk_replace(word, word_dict) for word in x])"
   ]
  },
  {
   "cell_type": "code",
   "execution_count": 42,
   "id": "35124884",
   "metadata": {},
   "outputs": [
    {
     "data": {
      "text/html": [
       "<div>\n",
       "<style scoped>\n",
       "    .dataframe tbody tr th:only-of-type {\n",
       "        vertical-align: middle;\n",
       "    }\n",
       "\n",
       "    .dataframe tbody tr th {\n",
       "        vertical-align: top;\n",
       "    }\n",
       "\n",
       "    .dataframe thead th {\n",
       "        text-align: right;\n",
       "    }\n",
       "</style>\n",
       "<table border=\"1\" class=\"dataframe\">\n",
       "  <thead>\n",
       "    <tr style=\"text-align: right;\">\n",
       "      <th></th>\n",
       "      <th>sent1</th>\n",
       "      <th>sent2</th>\n",
       "      <th>score</th>\n",
       "    </tr>\n",
       "  </thead>\n",
       "  <tbody>\n",
       "    <tr>\n",
       "      <th>0</th>\n",
       "      <td>[a, man, with, a, hard, hat, is, danc]</td>\n",
       "      <td>[a, man, wear, a, hard, hat, is, danc]</td>\n",
       "      <td>5.00</td>\n",
       "    </tr>\n",
       "    <tr>\n",
       "      <th>1</th>\n",
       "      <td>[a, young, child, is, ride, a, hors]</td>\n",
       "      <td>[a, child, is, ride, a, hors]</td>\n",
       "      <td>4.75</td>\n",
       "    </tr>\n",
       "    <tr>\n",
       "      <th>2</th>\n",
       "      <td>[a, man, is, feed, a, mous, to, a, snake]</td>\n",
       "      <td>[the, man, is, feed, a, mous, to, the, snake]</td>\n",
       "      <td>5.00</td>\n",
       "    </tr>\n",
       "    <tr>\n",
       "      <th>3</th>\n",
       "      <td>[a, woman, is, play, the, guitar]</td>\n",
       "      <td>[a, man, is, play, guitar]</td>\n",
       "      <td>2.40</td>\n",
       "    </tr>\n",
       "    <tr>\n",
       "      <th>4</th>\n",
       "      <td>[a, woman, is, play, the, flute]</td>\n",
       "      <td>[a, man, is, play, a, flute]</td>\n",
       "      <td>2.75</td>\n",
       "    </tr>\n",
       "  </tbody>\n",
       "</table>\n",
       "</div>"
      ],
      "text/plain": [
       "                                       sent1  \\\n",
       "0     [a, man, with, a, hard, hat, is, danc]   \n",
       "1       [a, young, child, is, ride, a, hors]   \n",
       "2  [a, man, is, feed, a, mous, to, a, snake]   \n",
       "3          [a, woman, is, play, the, guitar]   \n",
       "4           [a, woman, is, play, the, flute]   \n",
       "\n",
       "                                           sent2  score  \n",
       "0         [a, man, wear, a, hard, hat, is, danc]   5.00  \n",
       "1                  [a, child, is, ride, a, hors]   4.75  \n",
       "2  [the, man, is, feed, a, mous, to, the, snake]   5.00  \n",
       "3                     [a, man, is, play, guitar]   2.40  \n",
       "4                   [a, man, is, play, a, flute]   2.75  "
      ]
     },
     "execution_count": 42,
     "metadata": {},
     "output_type": "execute_result"
    }
   ],
   "source": [
    "val_df.head()"
   ]
  },
  {
   "cell_type": "code",
   "execution_count": 43,
   "id": "94134c16",
   "metadata": {},
   "outputs": [
    {
     "data": {
      "text/plain": [
       "1500"
      ]
     },
     "execution_count": 43,
     "metadata": {},
     "output_type": "execute_result"
    }
   ],
   "source": [
    "len(val_df)"
   ]
  },
  {
   "cell_type": "code",
   "execution_count": 41,
   "id": "ead1273f",
   "metadata": {},
   "outputs": [
    {
     "data": {
      "text/plain": [
       "1379"
      ]
     },
     "execution_count": 41,
     "metadata": {},
     "output_type": "execute_result"
    }
   ],
   "source": [
    "len(test_df)"
   ]
  },
  {
   "cell_type": "code",
   "execution_count": 42,
   "id": "5c2ff0b2",
   "metadata": {},
   "outputs": [],
   "source": [
    "# test_df['sent1'] =test_df['sent1'].apply(lambda x: remove_unk_duplicates([unk_replace(word, word_dict) for word in x]))\n",
    "# test_df['sent2'] =test_df['sent2'].apply(lambda x: remove_unk_duplicates([unk_replace(word, word_dict) for word in x]))"
   ]
  },
  {
   "cell_type": "code",
   "execution_count": 166,
   "id": "72ab8dac",
   "metadata": {},
   "outputs": [],
   "source": [
    "test_df['sent1'] =test_df['sent1'].apply(lambda x: [unk_replace(word, word_dict) for word in x])\n",
    "test_df['sent2'] =test_df['sent2'].apply(lambda x: [unk_replace(word, word_dict) for word in x])"
   ]
  },
  {
   "cell_type": "code",
   "execution_count": 167,
   "id": "fd6f006c",
   "metadata": {},
   "outputs": [
    {
     "data": {
      "text/html": [
       "<div>\n",
       "<style scoped>\n",
       "    .dataframe tbody tr th:only-of-type {\n",
       "        vertical-align: middle;\n",
       "    }\n",
       "\n",
       "    .dataframe tbody tr th {\n",
       "        vertical-align: top;\n",
       "    }\n",
       "\n",
       "    .dataframe thead th {\n",
       "        text-align: right;\n",
       "    }\n",
       "</style>\n",
       "<table border=\"1\" class=\"dataframe\">\n",
       "  <thead>\n",
       "    <tr style=\"text-align: right;\">\n",
       "      <th></th>\n",
       "      <th>sent1</th>\n",
       "      <th>sent2</th>\n",
       "      <th>score</th>\n",
       "    </tr>\n",
       "  </thead>\n",
       "  <tbody>\n",
       "    <tr>\n",
       "      <th>0</th>\n",
       "      <td>[a, girl, is, style, her, hair]</td>\n",
       "      <td>[a, girl, is, brush, her, hair]</td>\n",
       "      <td>2.5</td>\n",
       "    </tr>\n",
       "    <tr>\n",
       "      <th>1</th>\n",
       "      <td>[a, group, of, men, play, soccer, on, the, beach]</td>\n",
       "      <td>[a, group, of, boy, are, play, soccer, on, the...</td>\n",
       "      <td>3.6</td>\n",
       "    </tr>\n",
       "    <tr>\n",
       "      <th>2</th>\n",
       "      <td>[one, woman, is, measur, anoth, woman, unk]</td>\n",
       "      <td>[a, woman, measur, anoth, woman, unk]</td>\n",
       "      <td>5.0</td>\n",
       "    </tr>\n",
       "    <tr>\n",
       "      <th>3</th>\n",
       "      <td>[a, man, is, cut, up, a, cucumb]</td>\n",
       "      <td>[a, man, is, slice, a, cucumb]</td>\n",
       "      <td>4.2</td>\n",
       "    </tr>\n",
       "    <tr>\n",
       "      <th>4</th>\n",
       "      <td>[a, man, is, play, a, harp]</td>\n",
       "      <td>[a, man, is, play, a, keyboard]</td>\n",
       "      <td>1.5</td>\n",
       "    </tr>\n",
       "  </tbody>\n",
       "</table>\n",
       "</div>"
      ],
      "text/plain": [
       "                                               sent1  \\\n",
       "0                    [a, girl, is, style, her, hair]   \n",
       "1  [a, group, of, men, play, soccer, on, the, beach]   \n",
       "2        [one, woman, is, measur, anoth, woman, unk]   \n",
       "3                   [a, man, is, cut, up, a, cucumb]   \n",
       "4                        [a, man, is, play, a, harp]   \n",
       "\n",
       "                                               sent2  score  \n",
       "0                    [a, girl, is, brush, her, hair]    2.5  \n",
       "1  [a, group, of, boy, are, play, soccer, on, the...    3.6  \n",
       "2              [a, woman, measur, anoth, woman, unk]    5.0  \n",
       "3                     [a, man, is, slice, a, cucumb]    4.2  \n",
       "4                    [a, man, is, play, a, keyboard]    1.5  "
      ]
     },
     "execution_count": 167,
     "metadata": {},
     "output_type": "execute_result"
    }
   ],
   "source": [
    "test_df.head()"
   ]
  },
  {
   "cell_type": "code",
   "execution_count": 97,
   "id": "daa7f10c",
   "metadata": {},
   "outputs": [],
   "source": [
    "total_sents_unk = list(train_df['sent1'])"
   ]
  },
  {
   "cell_type": "code",
   "execution_count": 98,
   "id": "7f02b7aa",
   "metadata": {},
   "outputs": [],
   "source": [
    "total_sents_unk.extend(list(train_df['sent2']))"
   ]
  },
  {
   "cell_type": "code",
   "execution_count": 99,
   "id": "02c0c47f",
   "metadata": {},
   "outputs": [
    {
     "data": {
      "text/plain": [
       "11498"
      ]
     },
     "execution_count": 99,
     "metadata": {},
     "output_type": "execute_result"
    }
   ],
   "source": [
    "len(total_sents_unk)"
   ]
  },
  {
   "cell_type": "code",
   "execution_count": 100,
   "id": "c65798a4",
   "metadata": {},
   "outputs": [],
   "source": [
    "sent_dict = {}\n",
    "for sent in total_sents_unk:\n",
    "    if len(sent) in sent_dict:\n",
    "        sent_dict[len(sent)] += 1\n",
    "    else:\n",
    "        sent_dict[len(sent)] = 1"
   ]
  },
  {
   "cell_type": "code",
   "execution_count": 101,
   "id": "e88a8da5",
   "metadata": {},
   "outputs": [
    {
     "data": {
      "image/png": "[encoded data removed]",
      "text/plain": [
       "<Figure size 800x600 with 1 Axes>"
      ]
     },
     "metadata": {},
     "output_type": "display_data"
    }
   ],
   "source": [
    "fig, ax = plt.subplots(figsize=(8, 6))\n",
    "ax.bar(list(sent_dict.keys()), list(sent_dict.values()), width=0.5)\n",
    "plt.title(\"sentence length in validation data\")\n",
    "plt.xlabel(\"sentence length\")\n",
    "plt.ylabel(\"number of sentences\")\n",
    "plt.show()"
   ]
  },
  {
   "cell_type": "code",
   "execution_count": 102,
   "id": "72ebefa3",
   "metadata": {},
   "outputs": [],
   "source": [
    "test_sents_unk = list(test_df['sent1'])\n",
    "test_sents_unk.extend(list(test_df['sent2']))"
   ]
  },
  {
   "cell_type": "code",
   "execution_count": 103,
   "id": "91c919c1",
   "metadata": {},
   "outputs": [
    {
     "data": {
      "text/plain": [
       "2758"
      ]
     },
     "execution_count": 103,
     "metadata": {},
     "output_type": "execute_result"
    }
   ],
   "source": [
    "len(test_sents_unk)"
   ]
  },
  {
   "cell_type": "code",
   "execution_count": 104,
   "id": "96c63758",
   "metadata": {},
   "outputs": [],
   "source": [
    "sent_dict = {}\n",
    "for sent in test_sents_unk:\n",
    "    if len(sent) in sent_dict:\n",
    "        sent_dict[len(sent)] += 1\n",
    "    else:\n",
    "        sent_dict[len(sent)] = 1"
   ]
  },
  {
   "cell_type": "code",
   "execution_count": 105,
   "id": "fba99e97",
   "metadata": {},
   "outputs": [
    {
     "data": {
      "image/png": "[encoded data removed]",
      "text/plain": [
       "<Figure size 800x600 with 1 Axes>"
      ]
     },
     "metadata": {},
     "output_type": "display_data"
    }
   ],
   "source": [
    "fig, ax = plt.subplots(figsize=(8, 6))\n",
    "ax.bar(list(sent_dict.keys()), list(sent_dict.values()), width=0.5)\n",
    "plt.title(\"sentence length in test data\")\n",
    "plt.xlabel(\"sentence length\")\n",
    "plt.ylabel(\"number of sentences\")\n",
    "plt.show()"
   ]
  },
  {
   "cell_type": "markdown",
   "id": "cb3f7a99",
   "metadata": {},
   "source": [
    "window size of 30 or less than 30 should be good as test data maximum length of a sentence is less than 30"
   ]
  },
  {
   "cell_type": "markdown",
   "id": "3e7325e3",
   "metadata": {},
   "source": [
    "## Doc2vec"
   ]
  },
  {
   "cell_type": "code",
   "execution_count": 673,
   "id": "7c353900",
   "metadata": {},
   "outputs": [],
   "source": [
    "from gensim.models.doc2vec import Doc2Vec, TaggedDocument\n",
    "from scipy import spatial"
   ]
  },
  {
   "cell_type": "code",
   "execution_count": 674,
   "id": "88b54b3f",
   "metadata": {},
   "outputs": [
    {
     "data": {
      "text/plain": [
       "55"
      ]
     },
     "execution_count": 674,
     "metadata": {},
     "output_type": "execute_result"
    }
   ],
   "source": [
    "max_length = max(len(sentence) for sentence in total_sents_unk)\n",
    "max_length"
   ]
  },
  {
   "cell_type": "code",
   "execution_count": 675,
   "id": "9c744407",
   "metadata": {},
   "outputs": [],
   "source": [
    "documents = []\n",
    "for idx, sent in enumerate(total_sents_unk):\n",
    "    documents.append(TaggedDocument(sent, [idx]))"
   ]
  },
  {
   "cell_type": "code",
   "execution_count": 676,
   "id": "e357c818",
   "metadata": {},
   "outputs": [
    {
     "data": {
      "text/plain": [
       "[TaggedDocument(words=['a', 'plane', 'is', 'take', 'off'], tags=[0]),\n",
       " TaggedDocument(words=['a', 'man', 'is', 'play', 'a', 'larg', 'flute'], tags=[1]),\n",
       " TaggedDocument(words=['a', 'man', 'is', 'spread', 'unk', 'chees', 'on', 'a', 'pizza'], tags=[2]),\n",
       " TaggedDocument(words=['three', 'men', 'are', 'play', 'chess'], tags=[3]),\n",
       " TaggedDocument(words=['a', 'man', 'is', 'play', 'the', 'cello'], tags=[4])]"
      ]
     },
     "execution_count": 676,
     "metadata": {},
     "output_type": "execute_result"
    }
   ],
   "source": [
    "documents[0:5]"
   ]
  },
  {
   "cell_type": "code",
   "execution_count": 677,
   "id": "1fab8358",
   "metadata": {},
   "outputs": [],
   "source": [
    "model = Doc2Vec(documents, vector_size=25, window=6, min_count=1, workers=1, epochs=30, alpha=0.1, min_alpha=0.001, hs=1)"
   ]
  },
  {
   "cell_type": "code",
   "execution_count": 58,
   "id": "ee5fe437",
   "metadata": {},
   "outputs": [],
   "source": [
    "# Save the trained model to disk\n",
    "#model.save('doc2vec_model_v2')"
   ]
  },
  {
   "cell_type": "code",
   "execution_count": 678,
   "id": "bd7dc7f8",
   "metadata": {},
   "outputs": [],
   "source": [
    "# Generate sentence embeddings\n",
    "embedding1 = model.infer_vector(train_df['sent1'][0])\n",
    "embedding2 = model.infer_vector(train_df['sent2'][0])\n",
    "\n",
    "# Compare the sentence embeddings using cosine similarity\n",
    "similarity = 1 - spatial.distance.cosine(embedding1, embedding2)"
   ]
  },
  {
   "cell_type": "code",
   "execution_count": 679,
   "id": "d29c9ab1",
   "metadata": {},
   "outputs": [
    {
     "data": {
      "text/plain": [
       "0.6801850199699402"
      ]
     },
     "execution_count": 679,
     "metadata": {},
     "output_type": "execute_result"
    }
   ],
   "source": [
    "similarity"
   ]
  },
  {
   "cell_type": "code",
   "execution_count": 61,
   "id": "3282ce8b",
   "metadata": {},
   "outputs": [],
   "source": [
    "embedding3 = model.infer_vector(train_df['sent1'][2])\n",
    "embedding4 = model.infer_vector(train_df['sent2'][10])"
   ]
  },
  {
   "cell_type": "code",
   "execution_count": 62,
   "id": "5d704079",
   "metadata": {},
   "outputs": [
    {
     "data": {
      "text/plain": [
       "(array([-8.0915838e-02, -1.0833093e+00,  6.0414439e-01,  1.9638455e+00,\n",
       "        -1.6661834e+00,  3.8131821e+00, -4.6188602e-01, -2.4877295e-01,\n",
       "         1.9771025e+00, -2.0853195e+00, -8.5337740e-01,  1.0217502e-03,\n",
       "        -9.2315400e-01,  9.7201484e-01,  9.9504650e-01, -3.9682744e+00,\n",
       "         3.5881557e+00,  9.5258820e-01, -4.9740701e+00,  2.1842620e+00,\n",
       "        -2.8973780e+00,  1.3737338e+00,  1.3988059e+00,  2.1888065e+00,\n",
       "         1.6883426e+00], dtype=float32),\n",
       " array([-0.4901308 ,  2.0428216 , -0.68654245, -2.9100327 ,  0.93798524,\n",
       "         1.3150048 ,  3.1189334 , -1.3435798 , -0.75977653, -1.5132685 ,\n",
       "         1.0512435 , -3.3015475 ,  2.1349633 , -0.56637144, -1.7201209 ,\n",
       "        -2.8504884 ,  1.2101007 ,  1.3310815 ,  0.37616768,  1.6179612 ,\n",
       "         1.099     , -0.7110876 ,  2.7955775 ,  0.10225153, -1.8639121 ],\n",
       "       dtype=float32))"
      ]
     },
     "execution_count": 62,
     "metadata": {},
     "output_type": "execute_result"
    }
   ],
   "source": [
    "embedding3, embedding4"
   ]
  },
  {
   "cell_type": "code",
   "execution_count": 68,
   "id": "026f4a01",
   "metadata": {},
   "outputs": [],
   "source": [
    "def sts_score(sim_score):\n",
    "    sts_score = (sim_score+1) * 2.5\n",
    "    return sts_score"
   ]
  },
  {
   "cell_type": "code",
   "execution_count": 64,
   "id": "2ceb1e30",
   "metadata": {},
   "outputs": [],
   "source": [
    "model.random.seed(42)\n",
    "train_df['sent1_embedding'] = train_df['sent1'].apply(lambda x: model.infer_vector(x))\n",
    "train_df['sent2_embedding'] = train_df['sent2'].apply(lambda x: model.infer_vector(x))"
   ]
  },
  {
   "cell_type": "code",
   "execution_count": 65,
   "id": "34fd27ca",
   "metadata": {},
   "outputs": [],
   "source": [
    "train_df['y_pred'] = train_df.apply(lambda x: sts_score(1 - spatial.distance.cosine(x['sent1_embedding'], x['sent2_embedding'])), axis=1)"
   ]
  },
  {
   "cell_type": "code",
   "execution_count": 66,
   "id": "556389c6",
   "metadata": {},
   "outputs": [
    {
     "data": {
      "text/html": [
       "<div>\n",
       "<style scoped>\n",
       "    .dataframe tbody tr th:only-of-type {\n",
       "        vertical-align: middle;\n",
       "    }\n",
       "\n",
       "    .dataframe tbody tr th {\n",
       "        vertical-align: top;\n",
       "    }\n",
       "\n",
       "    .dataframe thead th {\n",
       "        text-align: right;\n",
       "    }\n",
       "</style>\n",
       "<table border=\"1\" class=\"dataframe\">\n",
       "  <thead>\n",
       "    <tr style=\"text-align: right;\">\n",
       "      <th></th>\n",
       "      <th>sent1</th>\n",
       "      <th>sent2</th>\n",
       "      <th>score</th>\n",
       "      <th>sent1_embedding</th>\n",
       "      <th>sent2_embedding</th>\n",
       "      <th>y_pred</th>\n",
       "    </tr>\n",
       "  </thead>\n",
       "  <tbody>\n",
       "    <tr>\n",
       "      <th>0</th>\n",
       "      <td>[a, plane, is, take, off]</td>\n",
       "      <td>[an, air, plane, is, take, off]</td>\n",
       "      <td>5.00</td>\n",
       "      <td>[0.9864692, -2.2660522, -0.103576, 1.8129503, ...</td>\n",
       "      <td>[1.9118893, -1.3158773, -1.7765663, 0.02113962...</td>\n",
       "      <td>4.027509</td>\n",
       "    </tr>\n",
       "    <tr>\n",
       "      <th>1</th>\n",
       "      <td>[a, man, is, play, larg, flute]</td>\n",
       "      <td>[a, man, is, play, flute]</td>\n",
       "      <td>3.80</td>\n",
       "      <td>[1.1726476, 0.38243365, -0.5652934, -0.4561446...</td>\n",
       "      <td>[0.14111541, -0.3001792, -0.12395583, -0.86583...</td>\n",
       "      <td>4.528369</td>\n",
       "    </tr>\n",
       "    <tr>\n",
       "      <th>2</th>\n",
       "      <td>[a, man, is, spread, unk, chees, on, pizza]</td>\n",
       "      <td>[a, man, is, spread, shred, chees, on, an, unk...</td>\n",
       "      <td>3.80</td>\n",
       "      <td>[0.5748898, -0.4868232, 0.17118314, 2.1087997,...</td>\n",
       "      <td>[-0.5277458, -0.26175153, 0.7717957, -1.980574...</td>\n",
       "      <td>3.994909</td>\n",
       "    </tr>\n",
       "    <tr>\n",
       "      <th>3</th>\n",
       "      <td>[three, men, are, play, chess]</td>\n",
       "      <td>[two, men, are, play, chess]</td>\n",
       "      <td>2.60</td>\n",
       "      <td>[0.020137124, 2.0637279, 2.0419598, -1.0271838...</td>\n",
       "      <td>[-0.4934113, 1.4713883, 1.207358, -1.4035007, ...</td>\n",
       "      <td>4.571979</td>\n",
       "    </tr>\n",
       "    <tr>\n",
       "      <th>4</th>\n",
       "      <td>[a, man, is, play, the, cello]</td>\n",
       "      <td>[a, man, seat, is, play, the, cello]</td>\n",
       "      <td>4.25</td>\n",
       "      <td>[0.6147697, 0.58741856, 1.5382065, 1.5268751, ...</td>\n",
       "      <td>[-0.53330123, 0.8698681, 1.9762219, 0.7713875,...</td>\n",
       "      <td>4.333014</td>\n",
       "    </tr>\n",
       "  </tbody>\n",
       "</table>\n",
       "</div>"
      ],
      "text/plain": [
       "                                         sent1  \\\n",
       "0                    [a, plane, is, take, off]   \n",
       "1              [a, man, is, play, larg, flute]   \n",
       "2  [a, man, is, spread, unk, chees, on, pizza]   \n",
       "3               [three, men, are, play, chess]   \n",
       "4               [a, man, is, play, the, cello]   \n",
       "\n",
       "                                               sent2  score  \\\n",
       "0                    [an, air, plane, is, take, off]   5.00   \n",
       "1                          [a, man, is, play, flute]   3.80   \n",
       "2  [a, man, is, spread, shred, chees, on, an, unk...   3.80   \n",
       "3                       [two, men, are, play, chess]   2.60   \n",
       "4               [a, man, seat, is, play, the, cello]   4.25   \n",
       "\n",
       "                                     sent1_embedding  \\\n",
       "0  [0.9864692, -2.2660522, -0.103576, 1.8129503, ...   \n",
       "1  [1.1726476, 0.38243365, -0.5652934, -0.4561446...   \n",
       "2  [0.5748898, -0.4868232, 0.17118314, 2.1087997,...   \n",
       "3  [0.020137124, 2.0637279, 2.0419598, -1.0271838...   \n",
       "4  [0.6147697, 0.58741856, 1.5382065, 1.5268751, ...   \n",
       "\n",
       "                                     sent2_embedding    y_pred  \n",
       "0  [1.9118893, -1.3158773, -1.7765663, 0.02113962...  4.027509  \n",
       "1  [0.14111541, -0.3001792, -0.12395583, -0.86583...  4.528369  \n",
       "2  [-0.5277458, -0.26175153, 0.7717957, -1.980574...  3.994909  \n",
       "3  [-0.4934113, 1.4713883, 1.207358, -1.4035007, ...  4.571979  \n",
       "4  [-0.53330123, 0.8698681, 1.9762219, 0.7713875,...  4.333014  "
      ]
     },
     "execution_count": 66,
     "metadata": {},
     "output_type": "execute_result"
    }
   ],
   "source": [
    "train_df.head()"
   ]
  },
  {
   "cell_type": "code",
   "execution_count": 67,
   "id": "357ab899",
   "metadata": {},
   "outputs": [],
   "source": [
    "y_pred = train_df['y_pred']"
   ]
  },
  {
   "cell_type": "code",
   "execution_count": 68,
   "id": "f211e2fc",
   "metadata": {},
   "outputs": [],
   "source": [
    "y_train = train_df['score']"
   ]
  },
  {
   "cell_type": "code",
   "execution_count": 70,
   "id": "80db011e",
   "metadata": {},
   "outputs": [],
   "source": [
    "from scipy.stats import pearsonr\n",
    "def pearson_corr(y_true, y_pred):\n",
    "    \"\"\"\n",
    "    Calculate Pearson correlation coefficient between two arrays.\n",
    "    \"\"\"\n",
    "    corr, _ = pearsonr(y_true, y_pred)\n",
    "    return corr"
   ]
  },
  {
   "cell_type": "code",
   "execution_count": 70,
   "id": "5250a1ad",
   "metadata": {},
   "outputs": [
    {
     "name": "stdout",
     "output_type": "stream",
     "text": [
      "Pearson correlation coefficient: 0.53\n"
     ]
    }
   ],
   "source": [
    "# Calculate Pearson correlation coefficient between predicted values and target values\n",
    "corr = pearson_corr(y_train, y_pred)\n",
    "\n",
    "# Print the correlation coefficient\n",
    "print(\"Pearson correlation coefficient: {:.2f}\".format(corr))"
   ]
  },
  {
   "cell_type": "code",
   "execution_count": 71,
   "id": "693c152e",
   "metadata": {},
   "outputs": [],
   "source": [
    "model.random.seed(42)\n",
    "val_df['sent1_embedding'] = val_df['sent1'].apply(lambda x: model.infer_vector(x))\n",
    "val_df['sent2_embedding'] = val_df['sent2'].apply(lambda x: model.infer_vector(x))"
   ]
  },
  {
   "cell_type": "code",
   "execution_count": 72,
   "id": "35bd5f96",
   "metadata": {},
   "outputs": [],
   "source": [
    "val_df['y_pred'] = val_df.apply(lambda x: sts_score(1 - spatial.distance.cosine(x['sent1_embedding'], x['sent2_embedding'])), axis=1)"
   ]
  },
  {
   "cell_type": "code",
   "execution_count": 73,
   "id": "72131902",
   "metadata": {},
   "outputs": [
    {
     "data": {
      "text/html": [
       "<div>\n",
       "<style scoped>\n",
       "    .dataframe tbody tr th:only-of-type {\n",
       "        vertical-align: middle;\n",
       "    }\n",
       "\n",
       "    .dataframe tbody tr th {\n",
       "        vertical-align: top;\n",
       "    }\n",
       "\n",
       "    .dataframe thead th {\n",
       "        text-align: right;\n",
       "    }\n",
       "</style>\n",
       "<table border=\"1\" class=\"dataframe\">\n",
       "  <thead>\n",
       "    <tr style=\"text-align: right;\">\n",
       "      <th></th>\n",
       "      <th>sent1</th>\n",
       "      <th>sent2</th>\n",
       "      <th>score</th>\n",
       "      <th>sent1_embedding</th>\n",
       "      <th>sent2_embedding</th>\n",
       "      <th>y_pred</th>\n",
       "    </tr>\n",
       "  </thead>\n",
       "  <tbody>\n",
       "    <tr>\n",
       "      <th>0</th>\n",
       "      <td>[a, man, with, hard, hat, is, danc]</td>\n",
       "      <td>[a, man, wear, hard, hat, is, danc]</td>\n",
       "      <td>5.00</td>\n",
       "      <td>[0.2228367, 0.15842247, 0.5859811, 0.07883484,...</td>\n",
       "      <td>[0.9674377, -0.9272134, -1.285685, 0.6397102, ...</td>\n",
       "      <td>4.693286</td>\n",
       "    </tr>\n",
       "    <tr>\n",
       "      <th>1</th>\n",
       "      <td>[a, young, child, is, ride, hors]</td>\n",
       "      <td>[a, child, is, ride, hors]</td>\n",
       "      <td>4.75</td>\n",
       "      <td>[-2.4442246, 1.0514715, -0.23553203, -1.665722...</td>\n",
       "      <td>[-1.0548029, 1.4017025, 1.0543997, -0.1567127,...</td>\n",
       "      <td>4.437892</td>\n",
       "    </tr>\n",
       "    <tr>\n",
       "      <th>2</th>\n",
       "      <td>[a, man, is, feed, mous, to, snake]</td>\n",
       "      <td>[the, man, is, feed, a, mous, to, snake]</td>\n",
       "      <td>5.00</td>\n",
       "      <td>[-2.4976134, -1.3845634, -0.6395363, 3.0044372...</td>\n",
       "      <td>[-3.3567224, -1.3375549, -0.6844515, 3.0857813...</td>\n",
       "      <td>4.984047</td>\n",
       "    </tr>\n",
       "    <tr>\n",
       "      <th>3</th>\n",
       "      <td>[a, woman, is, play, the, guitar]</td>\n",
       "      <td>[a, man, is, play, guitar]</td>\n",
       "      <td>2.40</td>\n",
       "      <td>[-0.36892942, 0.043651797, 0.9727363, -1.04533...</td>\n",
       "      <td>[-1.0463748, 0.30364293, 0.78331405, -0.395375...</td>\n",
       "      <td>4.584932</td>\n",
       "    </tr>\n",
       "    <tr>\n",
       "      <th>4</th>\n",
       "      <td>[a, woman, is, play, the, flute]</td>\n",
       "      <td>[a, man, is, play, flute]</td>\n",
       "      <td>2.75</td>\n",
       "      <td>[0.77743274, -0.46335158, -0.4947413, -1.32314...</td>\n",
       "      <td>[0.26047373, -0.044908065, -0.23048759, -0.812...</td>\n",
       "      <td>4.705092</td>\n",
       "    </tr>\n",
       "  </tbody>\n",
       "</table>\n",
       "</div>"
      ],
      "text/plain": [
       "                                 sent1  \\\n",
       "0  [a, man, with, hard, hat, is, danc]   \n",
       "1    [a, young, child, is, ride, hors]   \n",
       "2  [a, man, is, feed, mous, to, snake]   \n",
       "3    [a, woman, is, play, the, guitar]   \n",
       "4     [a, woman, is, play, the, flute]   \n",
       "\n",
       "                                      sent2  score  \\\n",
       "0       [a, man, wear, hard, hat, is, danc]   5.00   \n",
       "1                [a, child, is, ride, hors]   4.75   \n",
       "2  [the, man, is, feed, a, mous, to, snake]   5.00   \n",
       "3                [a, man, is, play, guitar]   2.40   \n",
       "4                 [a, man, is, play, flute]   2.75   \n",
       "\n",
       "                                     sent1_embedding  \\\n",
       "0  [0.2228367, 0.15842247, 0.5859811, 0.07883484,...   \n",
       "1  [-2.4442246, 1.0514715, -0.23553203, -1.665722...   \n",
       "2  [-2.4976134, -1.3845634, -0.6395363, 3.0044372...   \n",
       "3  [-0.36892942, 0.043651797, 0.9727363, -1.04533...   \n",
       "4  [0.77743274, -0.46335158, -0.4947413, -1.32314...   \n",
       "\n",
       "                                     sent2_embedding    y_pred  \n",
       "0  [0.9674377, -0.9272134, -1.285685, 0.6397102, ...  4.693286  \n",
       "1  [-1.0548029, 1.4017025, 1.0543997, -0.1567127,...  4.437892  \n",
       "2  [-3.3567224, -1.3375549, -0.6844515, 3.0857813...  4.984047  \n",
       "3  [-1.0463748, 0.30364293, 0.78331405, -0.395375...  4.584932  \n",
       "4  [0.26047373, -0.044908065, -0.23048759, -0.812...  4.705092  "
      ]
     },
     "execution_count": 73,
     "metadata": {},
     "output_type": "execute_result"
    }
   ],
   "source": [
    "val_df.head()"
   ]
  },
  {
   "cell_type": "code",
   "execution_count": 74,
   "id": "6b7d33a6",
   "metadata": {},
   "outputs": [],
   "source": [
    "y_pred = val_df['y_pred']"
   ]
  },
  {
   "cell_type": "code",
   "execution_count": 75,
   "id": "85a5c11d",
   "metadata": {},
   "outputs": [],
   "source": [
    "y_val = val_df['score']"
   ]
  },
  {
   "cell_type": "code",
   "execution_count": 76,
   "id": "67ed8a5e",
   "metadata": {},
   "outputs": [
    {
     "name": "stdout",
     "output_type": "stream",
     "text": [
      "Pearson correlation coefficient: 0.59\n"
     ]
    }
   ],
   "source": [
    "# Calculate Pearson correlation coefficient between predicted values and target values\n",
    "corr = pearson_corr(y_val, y_pred)\n",
    "\n",
    "# Print the correlation coefficient\n",
    "print(\"Pearson correlation coefficient: {:.2f}\".format(corr))"
   ]
  },
  {
   "cell_type": "code",
   "execution_count": 77,
   "id": "6e1b74fc",
   "metadata": {},
   "outputs": [],
   "source": [
    "model.random.seed(42)\n",
    "test_df['sent1_embedding'] = test_df['sent1'].apply(lambda x: model.infer_vector(x))\n",
    "test_df['sent2_embedding'] = test_df['sent2'].apply(lambda x: model.infer_vector(x))"
   ]
  },
  {
   "cell_type": "code",
   "execution_count": 78,
   "id": "c832d96c",
   "metadata": {},
   "outputs": [],
   "source": [
    "test_df['y_pred'] = test_df.apply(lambda x: sts_score(1 - spatial.distance.cosine(x['sent1_embedding'], x['sent2_embedding'])), axis=1)"
   ]
  },
  {
   "cell_type": "code",
   "execution_count": 79,
   "id": "c09523d2",
   "metadata": {},
   "outputs": [
    {
     "data": {
      "text/html": [
       "<div>\n",
       "<style scoped>\n",
       "    .dataframe tbody tr th:only-of-type {\n",
       "        vertical-align: middle;\n",
       "    }\n",
       "\n",
       "    .dataframe tbody tr th {\n",
       "        vertical-align: top;\n",
       "    }\n",
       "\n",
       "    .dataframe thead th {\n",
       "        text-align: right;\n",
       "    }\n",
       "</style>\n",
       "<table border=\"1\" class=\"dataframe\">\n",
       "  <thead>\n",
       "    <tr style=\"text-align: right;\">\n",
       "      <th></th>\n",
       "      <th>sent1</th>\n",
       "      <th>sent2</th>\n",
       "      <th>score</th>\n",
       "      <th>sent1_embedding</th>\n",
       "      <th>sent2_embedding</th>\n",
       "      <th>y_pred</th>\n",
       "    </tr>\n",
       "  </thead>\n",
       "  <tbody>\n",
       "    <tr>\n",
       "      <th>0</th>\n",
       "      <td>[a, girl, is, style, her, hair]</td>\n",
       "      <td>[a, girl, is, brush, her, hair]</td>\n",
       "      <td>2.5</td>\n",
       "      <td>[-0.6746696, 3.0577161, 6.09757, -2.235744, -2...</td>\n",
       "      <td>[0.14125915, 0.7944734, 3.9252, -2.421765, -2....</td>\n",
       "      <td>3.982087</td>\n",
       "    </tr>\n",
       "    <tr>\n",
       "      <th>1</th>\n",
       "      <td>[a, group, of, men, play, soccer, on, the, beach]</td>\n",
       "      <td>[a, group, of, boy, are, play, soccer, on, the...</td>\n",
       "      <td>3.6</td>\n",
       "      <td>[0.7344324, -1.6498055, -1.7304202, -5.4861097...</td>\n",
       "      <td>[1.1423165, -2.6406758, -1.2685233, -2.7700768...</td>\n",
       "      <td>3.882190</td>\n",
       "    </tr>\n",
       "    <tr>\n",
       "      <th>2</th>\n",
       "      <td>[one, woman, is, measur, anoth, unk]</td>\n",
       "      <td>[a, woman, measur, anoth, unk]</td>\n",
       "      <td>5.0</td>\n",
       "      <td>[-2.7164004, -4.107922, -2.609709, -5.0236754,...</td>\n",
       "      <td>[-1.7379254, -4.0445743, -2.0853796, -5.220481...</td>\n",
       "      <td>4.799586</td>\n",
       "    </tr>\n",
       "    <tr>\n",
       "      <th>3</th>\n",
       "      <td>[a, man, is, cut, up, cucumb]</td>\n",
       "      <td>[a, man, is, slice, cucumb]</td>\n",
       "      <td>4.2</td>\n",
       "      <td>[-1.9431009, -0.7188035, 0.6113643, 0.08932299...</td>\n",
       "      <td>[0.8139604, -0.6387818, -0.10482016, 0.9009722...</td>\n",
       "      <td>3.492135</td>\n",
       "    </tr>\n",
       "    <tr>\n",
       "      <th>4</th>\n",
       "      <td>[a, man, is, play, harp]</td>\n",
       "      <td>[a, man, is, play, keyboard]</td>\n",
       "      <td>1.5</td>\n",
       "      <td>[0.3037535, -0.4267695, 0.09114389, -0.1471065...</td>\n",
       "      <td>[-1.5110046, 1.2255467, 1.8177335, 0.11791366,...</td>\n",
       "      <td>3.299985</td>\n",
       "    </tr>\n",
       "  </tbody>\n",
       "</table>\n",
       "</div>"
      ],
      "text/plain": [
       "                                               sent1  \\\n",
       "0                    [a, girl, is, style, her, hair]   \n",
       "1  [a, group, of, men, play, soccer, on, the, beach]   \n",
       "2               [one, woman, is, measur, anoth, unk]   \n",
       "3                      [a, man, is, cut, up, cucumb]   \n",
       "4                           [a, man, is, play, harp]   \n",
       "\n",
       "                                               sent2  score  \\\n",
       "0                    [a, girl, is, brush, her, hair]    2.5   \n",
       "1  [a, group, of, boy, are, play, soccer, on, the...    3.6   \n",
       "2                     [a, woman, measur, anoth, unk]    5.0   \n",
       "3                        [a, man, is, slice, cucumb]    4.2   \n",
       "4                       [a, man, is, play, keyboard]    1.5   \n",
       "\n",
       "                                     sent1_embedding  \\\n",
       "0  [-0.6746696, 3.0577161, 6.09757, -2.235744, -2...   \n",
       "1  [0.7344324, -1.6498055, -1.7304202, -5.4861097...   \n",
       "2  [-2.7164004, -4.107922, -2.609709, -5.0236754,...   \n",
       "3  [-1.9431009, -0.7188035, 0.6113643, 0.08932299...   \n",
       "4  [0.3037535, -0.4267695, 0.09114389, -0.1471065...   \n",
       "\n",
       "                                     sent2_embedding    y_pred  \n",
       "0  [0.14125915, 0.7944734, 3.9252, -2.421765, -2....  3.982087  \n",
       "1  [1.1423165, -2.6406758, -1.2685233, -2.7700768...  3.882190  \n",
       "2  [-1.7379254, -4.0445743, -2.0853796, -5.220481...  4.799586  \n",
       "3  [0.8139604, -0.6387818, -0.10482016, 0.9009722...  3.492135  \n",
       "4  [-1.5110046, 1.2255467, 1.8177335, 0.11791366,...  3.299985  "
      ]
     },
     "execution_count": 79,
     "metadata": {},
     "output_type": "execute_result"
    }
   ],
   "source": [
    "test_df.head()"
   ]
  },
  {
   "cell_type": "code",
   "execution_count": 80,
   "id": "41246f76",
   "metadata": {},
   "outputs": [],
   "source": [
    "y_pred = test_df['y_pred']"
   ]
  },
  {
   "cell_type": "code",
   "execution_count": 81,
   "id": "e38c98d7",
   "metadata": {},
   "outputs": [],
   "source": [
    "y_test = test_df['score']"
   ]
  },
  {
   "cell_type": "code",
   "execution_count": 82,
   "id": "c8cf7f37",
   "metadata": {},
   "outputs": [
    {
     "name": "stdout",
     "output_type": "stream",
     "text": [
      "Pearson correlation coefficient: 0.53\n"
     ]
    }
   ],
   "source": [
    "# Calculate Pearson correlation coefficient between predicted values and target values\n",
    "corr = pearson_corr(y_test, y_pred)\n",
    "\n",
    "# Print the correlation coefficient\n",
    "print(\"Pearson correlation coefficient: {:.2f}\".format(corr))"
   ]
  },
  {
   "cell_type": "code",
   "execution_count": 83,
   "id": "df958a7e",
   "metadata": {},
   "outputs": [],
   "source": [
    "max_len = lambda row: max(len(row['sent1']), len(row['sent2']))"
   ]
  },
  {
   "cell_type": "code",
   "execution_count": 84,
   "id": "2dfc534f",
   "metadata": {},
   "outputs": [],
   "source": [
    "train_df['sent_len'] = train_df.apply(max_len, axis=1)"
   ]
  },
  {
   "cell_type": "code",
   "execution_count": 85,
   "id": "8feb93ef",
   "metadata": {},
   "outputs": [],
   "source": [
    "train_df['diff'] = abs(train_df['score'] - train_df['y_pred'])"
   ]
  },
  {
   "cell_type": "code",
   "execution_count": 86,
   "id": "24c562a0",
   "metadata": {},
   "outputs": [
    {
     "data": {
      "text/html": [
       "<div>\n",
       "<style scoped>\n",
       "    .dataframe tbody tr th:only-of-type {\n",
       "        vertical-align: middle;\n",
       "    }\n",
       "\n",
       "    .dataframe tbody tr th {\n",
       "        vertical-align: top;\n",
       "    }\n",
       "\n",
       "    .dataframe thead th {\n",
       "        text-align: right;\n",
       "    }\n",
       "</style>\n",
       "<table border=\"1\" class=\"dataframe\">\n",
       "  <thead>\n",
       "    <tr style=\"text-align: right;\">\n",
       "      <th></th>\n",
       "      <th>sent1</th>\n",
       "      <th>sent2</th>\n",
       "      <th>score</th>\n",
       "      <th>sent1_embedding</th>\n",
       "      <th>sent2_embedding</th>\n",
       "      <th>y_pred</th>\n",
       "      <th>sent_len</th>\n",
       "      <th>diff</th>\n",
       "    </tr>\n",
       "  </thead>\n",
       "  <tbody>\n",
       "    <tr>\n",
       "      <th>0</th>\n",
       "      <td>[a, plane, is, take, off]</td>\n",
       "      <td>[an, air, plane, is, take, off]</td>\n",
       "      <td>5.00</td>\n",
       "      <td>[0.9864692, -2.2660522, -0.103576, 1.8129503, ...</td>\n",
       "      <td>[1.9118893, -1.3158773, -1.7765663, 0.02113962...</td>\n",
       "      <td>4.027509</td>\n",
       "      <td>6</td>\n",
       "      <td>0.972491</td>\n",
       "    </tr>\n",
       "    <tr>\n",
       "      <th>1</th>\n",
       "      <td>[a, man, is, play, larg, flute]</td>\n",
       "      <td>[a, man, is, play, flute]</td>\n",
       "      <td>3.80</td>\n",
       "      <td>[1.1726476, 0.38243365, -0.5652934, -0.4561446...</td>\n",
       "      <td>[0.14111541, -0.3001792, -0.12395583, -0.86583...</td>\n",
       "      <td>4.528369</td>\n",
       "      <td>6</td>\n",
       "      <td>0.728369</td>\n",
       "    </tr>\n",
       "    <tr>\n",
       "      <th>2</th>\n",
       "      <td>[a, man, is, spread, unk, chees, on, pizza]</td>\n",
       "      <td>[a, man, is, spread, shred, chees, on, an, unk...</td>\n",
       "      <td>3.80</td>\n",
       "      <td>[0.5748898, -0.4868232, 0.17118314, 2.1087997,...</td>\n",
       "      <td>[-0.5277458, -0.26175153, 0.7717957, -1.980574...</td>\n",
       "      <td>3.994909</td>\n",
       "      <td>10</td>\n",
       "      <td>0.194909</td>\n",
       "    </tr>\n",
       "    <tr>\n",
       "      <th>3</th>\n",
       "      <td>[three, men, are, play, chess]</td>\n",
       "      <td>[two, men, are, play, chess]</td>\n",
       "      <td>2.60</td>\n",
       "      <td>[0.020137124, 2.0637279, 2.0419598, -1.0271838...</td>\n",
       "      <td>[-0.4934113, 1.4713883, 1.207358, -1.4035007, ...</td>\n",
       "      <td>4.571979</td>\n",
       "      <td>5</td>\n",
       "      <td>1.971979</td>\n",
       "    </tr>\n",
       "    <tr>\n",
       "      <th>4</th>\n",
       "      <td>[a, man, is, play, the, cello]</td>\n",
       "      <td>[a, man, seat, is, play, the, cello]</td>\n",
       "      <td>4.25</td>\n",
       "      <td>[0.6147697, 0.58741856, 1.5382065, 1.5268751, ...</td>\n",
       "      <td>[-0.53330123, 0.8698681, 1.9762219, 0.7713875,...</td>\n",
       "      <td>4.333014</td>\n",
       "      <td>7</td>\n",
       "      <td>0.083014</td>\n",
       "    </tr>\n",
       "  </tbody>\n",
       "</table>\n",
       "</div>"
      ],
      "text/plain": [
       "                                         sent1  \\\n",
       "0                    [a, plane, is, take, off]   \n",
       "1              [a, man, is, play, larg, flute]   \n",
       "2  [a, man, is, spread, unk, chees, on, pizza]   \n",
       "3               [three, men, are, play, chess]   \n",
       "4               [a, man, is, play, the, cello]   \n",
       "\n",
       "                                               sent2  score  \\\n",
       "0                    [an, air, plane, is, take, off]   5.00   \n",
       "1                          [a, man, is, play, flute]   3.80   \n",
       "2  [a, man, is, spread, shred, chees, on, an, unk...   3.80   \n",
       "3                       [two, men, are, play, chess]   2.60   \n",
       "4               [a, man, seat, is, play, the, cello]   4.25   \n",
       "\n",
       "                                     sent1_embedding  \\\n",
       "0  [0.9864692, -2.2660522, -0.103576, 1.8129503, ...   \n",
       "1  [1.1726476, 0.38243365, -0.5652934, -0.4561446...   \n",
       "2  [0.5748898, -0.4868232, 0.17118314, 2.1087997,...   \n",
       "3  [0.020137124, 2.0637279, 2.0419598, -1.0271838...   \n",
       "4  [0.6147697, 0.58741856, 1.5382065, 1.5268751, ...   \n",
       "\n",
       "                                     sent2_embedding    y_pred  sent_len  \\\n",
       "0  [1.9118893, -1.3158773, -1.7765663, 0.02113962...  4.027509         6   \n",
       "1  [0.14111541, -0.3001792, -0.12395583, -0.86583...  4.528369         6   \n",
       "2  [-0.5277458, -0.26175153, 0.7717957, -1.980574...  3.994909        10   \n",
       "3  [-0.4934113, 1.4713883, 1.207358, -1.4035007, ...  4.571979         5   \n",
       "4  [-0.53330123, 0.8698681, 1.9762219, 0.7713875,...  4.333014         7   \n",
       "\n",
       "       diff  \n",
       "0  0.972491  \n",
       "1  0.728369  \n",
       "2  0.194909  \n",
       "3  1.971979  \n",
       "4  0.083014  "
      ]
     },
     "execution_count": 86,
     "metadata": {},
     "output_type": "execute_result"
    }
   ],
   "source": [
    "train_df.head()"
   ]
  },
  {
   "cell_type": "code",
   "execution_count": 87,
   "id": "62bb75b9",
   "metadata": {},
   "outputs": [
    {
     "name": "stderr",
     "output_type": "stream",
     "text": [
      "/var/folders/gb/8lc9v2sx5mq19kgysgv67bzw0000gn/T/ipykernel_95229/1448148412.py:1: FutureWarning: The default value of numeric_only in DataFrameGroupBy.mean is deprecated. In a future version, numeric_only will default to False. Either specify numeric_only or select only columns which should be valid for the function.\n",
      "  grouped_df = train_df.groupby(['sent_len']).mean()\n"
     ]
    }
   ],
   "source": [
    "grouped_df = train_df.groupby(['sent_len']).mean()"
   ]
  },
  {
   "cell_type": "code",
   "execution_count": 88,
   "id": "40f01b70",
   "metadata": {},
   "outputs": [],
   "source": [
    "grouped_df['sent_length'] = grouped_df.index"
   ]
  },
  {
   "cell_type": "code",
   "execution_count": 89,
   "id": "1404e6b8",
   "metadata": {},
   "outputs": [
    {
     "data": {
      "image/png": "[encoded data removed]",
      "text/plain": [
       "<Figure size 800x600 with 1 Axes>"
      ]
     },
     "metadata": {},
     "output_type": "display_data"
    }
   ],
   "source": [
    "fig, ax = plt.subplots(figsize=(8, 6))\n",
    "ax.bar(list(grouped_df.index), list(grouped_df['diff']), width=0.5)\n",
    "plt.title(\"average error trend in training data\")\n",
    "plt.xlabel(\"sentence length\")\n",
    "plt.ylabel(\"average difference\")\n",
    "plt.show()"
   ]
  },
  {
   "cell_type": "code",
   "execution_count": 90,
   "id": "2870a728",
   "metadata": {},
   "outputs": [
    {
     "data": {
      "image/png": "[encoded data removed]",
      "text/plain": [
       "<Figure size 800x600 with 1 Axes>"
      ]
     },
     "metadata": {},
     "output_type": "display_data"
    }
   ],
   "source": [
    "fig, ax = plt.subplots(figsize=(8, 6))\n",
    "ax.scatter(list(grouped_df.index), list(grouped_df['diff']))\n",
    "plt.title(\"average error trend in training data\")\n",
    "plt.xlabel(\"sentence length\")\n",
    "plt.ylabel(\"average difference\")\n",
    "plt.show()"
   ]
  },
  {
   "cell_type": "markdown",
   "id": "bca0e681",
   "metadata": {},
   "source": [
    "From this it can be observed the highest residual is observed for sentences having length in range of 4-7 and for range 30 - 32"
   ]
  },
  {
   "cell_type": "markdown",
   "id": "d2bd1448",
   "metadata": {},
   "source": [
    "<br>Lets see the residual trend in validation data"
   ]
  },
  {
   "cell_type": "code",
   "execution_count": 91,
   "id": "7eff7f91",
   "metadata": {},
   "outputs": [],
   "source": [
    "val_df['sent_len'] = val_df.apply(max_len, axis=1)"
   ]
  },
  {
   "cell_type": "code",
   "execution_count": 92,
   "id": "74e5e82c",
   "metadata": {},
   "outputs": [],
   "source": [
    "val_df['diff'] = abs(val_df['score'] - val_df['y_pred'])"
   ]
  },
  {
   "cell_type": "code",
   "execution_count": 93,
   "id": "77c683fb",
   "metadata": {},
   "outputs": [
    {
     "name": "stderr",
     "output_type": "stream",
     "text": [
      "/var/folders/gb/8lc9v2sx5mq19kgysgv67bzw0000gn/T/ipykernel_95229/640488790.py:1: FutureWarning: The default value of numeric_only in DataFrameGroupBy.mean is deprecated. In a future version, numeric_only will default to False. Either specify numeric_only or select only columns which should be valid for the function.\n",
      "  grouped_val = val_df.groupby(['sent_len']).mean()\n"
     ]
    }
   ],
   "source": [
    "grouped_val = val_df.groupby(['sent_len']).mean()"
   ]
  },
  {
   "cell_type": "code",
   "execution_count": 94,
   "id": "df18fc39",
   "metadata": {},
   "outputs": [
    {
     "data": {
      "image/png": "[encoded data removed]",
      "text/plain": [
       "<Figure size 800x600 with 1 Axes>"
      ]
     },
     "metadata": {},
     "output_type": "display_data"
    }
   ],
   "source": [
    "fig, ax = plt.subplots(figsize=(8, 6))\n",
    "ax.scatter(list(grouped_val.index), list(grouped_val['diff']))\n",
    "plt.title(\"average error trend in validation data\")\n",
    "plt.xlabel(\"sentence length\")\n",
    "plt.ylabel(\"average difference\")\n",
    "plt.show()"
   ]
  },
  {
   "cell_type": "markdown",
   "id": "f3ba4432",
   "metadata": {},
   "source": [
    "Analysis:<br>\n",
    "    The trend is similar to what we observe in training as the model is performing bad for sentences less than length 5 and in validation data there is no sentence with length in range of 30-32."
   ]
  },
  {
   "cell_type": "code",
   "execution_count": 95,
   "id": "0353903a",
   "metadata": {},
   "outputs": [],
   "source": [
    "test_df['sent_len'] = test_df.apply(max_len, axis=1)"
   ]
  },
  {
   "cell_type": "code",
   "execution_count": 96,
   "id": "7f56aa09",
   "metadata": {},
   "outputs": [],
   "source": [
    "test_df['diff'] = abs(test_df['score'] - test_df['y_pred'])"
   ]
  },
  {
   "cell_type": "code",
   "execution_count": 97,
   "id": "5b5cf0f4",
   "metadata": {},
   "outputs": [
    {
     "data": {
      "text/plain": [
       "5749"
      ]
     },
     "execution_count": 97,
     "metadata": {},
     "output_type": "execute_result"
    }
   ],
   "source": [
    "len(train_df)"
   ]
  },
  {
   "cell_type": "code",
   "execution_count": 98,
   "id": "a6297f3d",
   "metadata": {},
   "outputs": [],
   "source": [
    "train_df.to_pickle(\"./sem_train_df.pkl\")  "
   ]
  },
  {
   "cell_type": "code",
   "execution_count": 99,
   "id": "65f5955c",
   "metadata": {},
   "outputs": [],
   "source": [
    "val_df.to_pickle(\"./sem_val_df.pkl\")  "
   ]
  },
  {
   "cell_type": "code",
   "execution_count": 100,
   "id": "cbc885d7",
   "metadata": {},
   "outputs": [],
   "source": [
    "test_df.to_pickle(\"./sem_test_df.pkl\")  "
   ]
  },
  {
   "cell_type": "markdown",
   "id": "64d1b735",
   "metadata": {},
   "source": [
    "# Bert Embeddings"
   ]
  },
  {
   "cell_type": "code",
   "execution_count": 139,
   "id": "165937e2",
   "metadata": {},
   "outputs": [],
   "source": [
    "#!pip install -U sentence-transformers"
   ]
  },
  {
   "cell_type": "code",
   "execution_count": 2,
   "id": "3fea1ba8",
   "metadata": {},
   "outputs": [],
   "source": [
    "from sentence_transformers import SentenceTransformer\n",
    "\n",
    "model1 = SentenceTransformer('distilbert-base-nli-mean-tokens')\n"
   ]
  },
  {
   "cell_type": "code",
   "execution_count": 140,
   "id": "62d9bb29",
   "metadata": {},
   "outputs": [
    {
     "name": "stderr",
     "output_type": "stream",
     "text": [
      "Downloading (…)7e0d5/.gitattributes: 100%|█████| 345/345 [00:00<00:00, 37.0kB/s]\n",
      "Downloading (…)_Pooling/config.json: 100%|█████| 190/190 [00:00<00:00, 48.3kB/s]\n",
      "Downloading (…)0e5ca7e0d5/README.md: 100%|██| 4.01k/4.01k [00:00<00:00, 944kB/s]\n",
      "Downloading (…)5ca7e0d5/config.json: 100%|██████| 555/555 [00:00<00:00, 152kB/s]\n",
      "Downloading (…)ce_transformers.json: 100%|█████| 122/122 [00:00<00:00, 29.1kB/s]\n",
      "Downloading (…)\"pytorch_model.bin\";: 100%|███| 265M/265M [00:14<00:00, 18.5MB/s]\n",
      "Downloading (…)nce_bert_config.json: 100%|███| 53.0/53.0 [00:00<00:00, 21.1kB/s]\n",
      "Downloading (…)cial_tokens_map.json: 100%|█████| 112/112 [00:00<00:00, 38.3kB/s]\n",
      "Downloading (…)7e0d5/tokenizer.json: 100%|███| 466k/466k [00:00<00:00, 9.55MB/s]\n",
      "Downloading (…)okenizer_config.json: 100%|██████| 505/505 [00:00<00:00, 164kB/s]\n",
      "Downloading (…)0e5ca7e0d5/vocab.txt: 100%|███| 232k/232k [00:00<00:00, 7.29MB/s]\n",
      "Downloading (…)ca7e0d5/modules.json: 100%|█████| 229/229 [00:00<00:00, 66.8kB/s]\n"
     ]
    }
   ],
   "source": [
    "model = SentenceTransformer('distilbert-base-nli-stsb-mean-tokens')"
   ]
  },
  {
   "cell_type": "code",
   "execution_count": 141,
   "id": "aafef550",
   "metadata": {},
   "outputs": [],
   "source": [
    "train_embeddings1 = list(train_df['sent1'])\n",
    "train_embeddings2 = list(train_df['sent2'])"
   ]
  },
  {
   "cell_type": "code",
   "execution_count": 142,
   "id": "92e25995",
   "metadata": {},
   "outputs": [],
   "source": [
    "train_embeddings1 = [\" \".join(i for i in j) for j in train_embeddings1]\n",
    "train_embeddings2 = [\" \".join(i for i in j) for j in train_embeddings2]"
   ]
  },
  {
   "cell_type": "code",
   "execution_count": 143,
   "id": "5a6a837f",
   "metadata": {},
   "outputs": [],
   "source": [
    "train_embeddings1 = model.encode(train_embeddings1)\n",
    "train_embeddings2 = model.encode(train_embeddings2)"
   ]
  },
  {
   "cell_type": "code",
   "execution_count": 144,
   "id": "6f194b45",
   "metadata": {},
   "outputs": [
    {
     "data": {
      "text/plain": [
       "((5749, 768), (5749, 768))"
      ]
     },
     "execution_count": 144,
     "metadata": {},
     "output_type": "execute_result"
    }
   ],
   "source": [
    "train_embeddings1.shape, train_embeddings2.shape"
   ]
  },
  {
   "cell_type": "code",
   "execution_count": 145,
   "id": "dfd64c17",
   "metadata": {},
   "outputs": [
    {
     "data": {
      "text/html": [
       "<div>\n",
       "<style scoped>\n",
       "    .dataframe tbody tr th:only-of-type {\n",
       "        vertical-align: middle;\n",
       "    }\n",
       "\n",
       "    .dataframe tbody tr th {\n",
       "        vertical-align: top;\n",
       "    }\n",
       "\n",
       "    .dataframe thead th {\n",
       "        text-align: right;\n",
       "    }\n",
       "</style>\n",
       "<table border=\"1\" class=\"dataframe\">\n",
       "  <thead>\n",
       "    <tr style=\"text-align: right;\">\n",
       "      <th></th>\n",
       "      <th>sent1</th>\n",
       "      <th>sent2</th>\n",
       "      <th>score</th>\n",
       "    </tr>\n",
       "  </thead>\n",
       "  <tbody>\n",
       "    <tr>\n",
       "      <th>0</th>\n",
       "      <td>[a, plane, is, take, off]</td>\n",
       "      <td>[an, air, plane, is, take, off]</td>\n",
       "      <td>5.00</td>\n",
       "    </tr>\n",
       "    <tr>\n",
       "      <th>1</th>\n",
       "      <td>[a, man, is, play, a, larg, flute]</td>\n",
       "      <td>[a, man, is, play, a, flute]</td>\n",
       "      <td>3.80</td>\n",
       "    </tr>\n",
       "    <tr>\n",
       "      <th>2</th>\n",
       "      <td>[a, man, is, spread, unk, chees, on, a, pizza]</td>\n",
       "      <td>[a, man, is, spread, shred, chees, on, an, unk...</td>\n",
       "      <td>3.80</td>\n",
       "    </tr>\n",
       "    <tr>\n",
       "      <th>3</th>\n",
       "      <td>[three, men, are, play, chess]</td>\n",
       "      <td>[two, men, are, play, chess]</td>\n",
       "      <td>2.60</td>\n",
       "    </tr>\n",
       "    <tr>\n",
       "      <th>4</th>\n",
       "      <td>[a, man, is, play, the, cello]</td>\n",
       "      <td>[a, man, seat, is, play, the, cello]</td>\n",
       "      <td>4.25</td>\n",
       "    </tr>\n",
       "  </tbody>\n",
       "</table>\n",
       "</div>"
      ],
      "text/plain": [
       "                                            sent1  \\\n",
       "0                       [a, plane, is, take, off]   \n",
       "1              [a, man, is, play, a, larg, flute]   \n",
       "2  [a, man, is, spread, unk, chees, on, a, pizza]   \n",
       "3                  [three, men, are, play, chess]   \n",
       "4                  [a, man, is, play, the, cello]   \n",
       "\n",
       "                                               sent2  score  \n",
       "0                    [an, air, plane, is, take, off]   5.00  \n",
       "1                       [a, man, is, play, a, flute]   3.80  \n",
       "2  [a, man, is, spread, shred, chees, on, an, unk...   3.80  \n",
       "3                       [two, men, are, play, chess]   2.60  \n",
       "4               [a, man, seat, is, play, the, cello]   4.25  "
      ]
     },
     "execution_count": 145,
     "metadata": {},
     "output_type": "execute_result"
    }
   ],
   "source": [
    "train_df.head()"
   ]
  },
  {
   "cell_type": "code",
   "execution_count": 146,
   "id": "c8a3c25f",
   "metadata": {},
   "outputs": [],
   "source": [
    "y_train = list(train_df[\"score\"])"
   ]
  },
  {
   "cell_type": "code",
   "execution_count": 147,
   "id": "a62b399e",
   "metadata": {},
   "outputs": [],
   "source": [
    "def get_sts_scores(emb1_lt, emb2_lt):\n",
    "    y_pred = []\n",
    "    for i in range(len(emb1_lt)):\n",
    "        sim_score = 1 - spatial.distance.cosine(emb1_lt[i], emb2_lt[i])\n",
    "        y_pred.append(sts_score(sim_score))\n",
    "    return y_pred\n",
    "    "
   ]
  },
  {
   "cell_type": "code",
   "execution_count": 148,
   "id": "f75aeae4",
   "metadata": {},
   "outputs": [],
   "source": [
    "y_pred = get_sts_scores(train_embeddings1, train_embeddings2)"
   ]
  },
  {
   "cell_type": "code",
   "execution_count": 149,
   "id": "2e803437",
   "metadata": {},
   "outputs": [
    {
     "name": "stdout",
     "output_type": "stream",
     "text": [
      "Pearson correlation coefficient: 0.87\n"
     ]
    }
   ],
   "source": [
    "# Calculate Pearson correlation coefficient between predicted values and target values\n",
    "corr = pearson_corr(y_train, y_pred)\n",
    "\n",
    "# Print the correlation coefficient\n",
    "print(\"Pearson correlation coefficient: {:.2f}\".format(corr))"
   ]
  },
  {
   "cell_type": "code",
   "execution_count": 150,
   "id": "cf0ca52b",
   "metadata": {},
   "outputs": [],
   "source": [
    "val_embeddings1 = list(val_df['sent1'])\n",
    "val_embeddings2 = list(val_df['sent2'])"
   ]
  },
  {
   "cell_type": "code",
   "execution_count": 151,
   "id": "d163a22e",
   "metadata": {},
   "outputs": [],
   "source": [
    "val_embeddings1 = [\" \".join(i for i in j) for j in val_embeddings1]\n",
    "val_embeddings2 = [\" \".join(i for i in j) for j in val_embeddings2]"
   ]
  },
  {
   "cell_type": "code",
   "execution_count": 152,
   "id": "d66e8b51",
   "metadata": {},
   "outputs": [],
   "source": [
    "val_embeddings1 = model.encode(val_embeddings1)\n",
    "val_embeddings2 = model.encode(val_embeddings2)"
   ]
  },
  {
   "cell_type": "code",
   "execution_count": 153,
   "id": "317122ac",
   "metadata": {},
   "outputs": [
    {
     "data": {
      "text/plain": [
       "(1500, 768)"
      ]
     },
     "execution_count": 153,
     "metadata": {},
     "output_type": "execute_result"
    }
   ],
   "source": [
    "val_embeddings1.shape"
   ]
  },
  {
   "cell_type": "code",
   "execution_count": 154,
   "id": "fc5ea734",
   "metadata": {},
   "outputs": [],
   "source": [
    "y_val = list(val_df[\"score\"])"
   ]
  },
  {
   "cell_type": "code",
   "execution_count": 155,
   "id": "d1323bfe",
   "metadata": {},
   "outputs": [],
   "source": [
    "y_pred = get_sts_scores(val_embeddings1, val_embeddings2)"
   ]
  },
  {
   "cell_type": "code",
   "execution_count": 156,
   "id": "201ee886",
   "metadata": {},
   "outputs": [
    {
     "name": "stdout",
     "output_type": "stream",
     "text": [
      "Pearson correlation coefficient: 0.79\n"
     ]
    }
   ],
   "source": [
    "# Calculate Pearson correlation coefficient between predicted values and target values\n",
    "corr = pearson_corr(y_val, y_pred)\n",
    "\n",
    "# Print the correlation coefficient\n",
    "print(\"Pearson correlation coefficient: {:.2f}\".format(corr))"
   ]
  },
  {
   "cell_type": "code",
   "execution_count": 178,
   "id": "ca9b8674",
   "metadata": {},
   "outputs": [],
   "source": [
    "test_embeddings1 = list(test_df['sent1'])\n",
    "test_embeddings2 = list(test_df['sent2'])"
   ]
  },
  {
   "cell_type": "code",
   "execution_count": 179,
   "id": "6595e6f8",
   "metadata": {},
   "outputs": [],
   "source": [
    "test_embeddings1 = [\" \".join(i for i in j) for j in test_embeddings1]\n",
    "test_embeddings2 = [\" \".join(i for i in j) for j in test_embeddings2]"
   ]
  },
  {
   "cell_type": "code",
   "execution_count": 180,
   "id": "60b5e408",
   "metadata": {},
   "outputs": [],
   "source": [
    "test_embeddings1 = model.encode(test_embeddings1)\n",
    "test_embeddings2 = model.encode(test_embeddings2)"
   ]
  },
  {
   "cell_type": "code",
   "execution_count": 181,
   "id": "e994ec9c",
   "metadata": {},
   "outputs": [
    {
     "data": {
      "text/plain": [
       "(1379, 768)"
      ]
     },
     "execution_count": 181,
     "metadata": {},
     "output_type": "execute_result"
    }
   ],
   "source": [
    "test_embeddings1.shape"
   ]
  },
  {
   "cell_type": "code",
   "execution_count": 172,
   "id": "491cd26e",
   "metadata": {},
   "outputs": [],
   "source": [
    "y_test = list(test_df[\"score\"])"
   ]
  },
  {
   "cell_type": "code",
   "execution_count": 173,
   "id": "5a3cd2d4",
   "metadata": {},
   "outputs": [],
   "source": [
    "y_pred = get_sts_scores(test_embeddings1, test_embeddings2)"
   ]
  },
  {
   "cell_type": "code",
   "execution_count": 174,
   "id": "7ebbdb06",
   "metadata": {},
   "outputs": [
    {
     "name": "stdout",
     "output_type": "stream",
     "text": [
      "Pearson correlation coefficient: 0.76\n"
     ]
    }
   ],
   "source": [
    "# Calculate Pearson correlation coefficient between predicted values and target values\n",
    "corr = pearson_corr(y_test, y_pred)\n",
    "\n",
    "# Print the correlation coefficient\n",
    "print(\"Pearson correlation coefficient: {:.2f}\".format(corr))"
   ]
  },
  {
   "cell_type": "code",
   "execution_count": 182,
   "id": "47e01b69",
   "metadata": {},
   "outputs": [],
   "source": [
    "test_df1 = pd.DataFrame({'embeddings1': test_embeddings1.tolist(), 'embeddings2': test_embeddings2.tolist(), \"score\": y_test})"
   ]
  },
  {
   "cell_type": "code",
   "execution_count": 183,
   "id": "05f0bad3",
   "metadata": {},
   "outputs": [
    {
     "data": {
      "text/html": [
       "<div>\n",
       "<style scoped>\n",
       "    .dataframe tbody tr th:only-of-type {\n",
       "        vertical-align: middle;\n",
       "    }\n",
       "\n",
       "    .dataframe tbody tr th {\n",
       "        vertical-align: top;\n",
       "    }\n",
       "\n",
       "    .dataframe thead th {\n",
       "        text-align: right;\n",
       "    }\n",
       "</style>\n",
       "<table border=\"1\" class=\"dataframe\">\n",
       "  <thead>\n",
       "    <tr style=\"text-align: right;\">\n",
       "      <th></th>\n",
       "      <th>embeddings1</th>\n",
       "      <th>embeddings2</th>\n",
       "      <th>score</th>\n",
       "    </tr>\n",
       "  </thead>\n",
       "  <tbody>\n",
       "    <tr>\n",
       "      <th>0</th>\n",
       "      <td>[0.451200008392334, -0.4769255220890045, 0.861...</td>\n",
       "      <td>[-0.04254027456045151, -0.6977147459983826, 0....</td>\n",
       "      <td>2.5</td>\n",
       "    </tr>\n",
       "    <tr>\n",
       "      <th>1</th>\n",
       "      <td>[-0.30514276027679443, 0.3496732711791992, -0....</td>\n",
       "      <td>[-0.7919032573699951, 0.23557151854038239, -0....</td>\n",
       "      <td>3.6</td>\n",
       "    </tr>\n",
       "    <tr>\n",
       "      <th>2</th>\n",
       "      <td>[-0.46835681796073914, -0.8171507120132446, 0....</td>\n",
       "      <td>[-0.41532206535339355, -0.7629479765892029, 0....</td>\n",
       "      <td>5.0</td>\n",
       "    </tr>\n",
       "    <tr>\n",
       "      <th>3</th>\n",
       "      <td>[-0.47668102383613586, -0.43490707874298096, 0...</td>\n",
       "      <td>[-0.6571442484855652, -0.142209991812706, 0.26...</td>\n",
       "      <td>4.2</td>\n",
       "    </tr>\n",
       "    <tr>\n",
       "      <th>4</th>\n",
       "      <td>[-0.09667470306158066, 0.5099226832389832, 0.2...</td>\n",
       "      <td>[-2.442096471786499, -0.06356014311313629, -0....</td>\n",
       "      <td>1.5</td>\n",
       "    </tr>\n",
       "  </tbody>\n",
       "</table>\n",
       "</div>"
      ],
      "text/plain": [
       "                                         embeddings1  \\\n",
       "0  [0.451200008392334, -0.4769255220890045, 0.861...   \n",
       "1  [-0.30514276027679443, 0.3496732711791992, -0....   \n",
       "2  [-0.46835681796073914, -0.8171507120132446, 0....   \n",
       "3  [-0.47668102383613586, -0.43490707874298096, 0...   \n",
       "4  [-0.09667470306158066, 0.5099226832389832, 0.2...   \n",
       "\n",
       "                                         embeddings2  score  \n",
       "0  [-0.04254027456045151, -0.6977147459983826, 0....    2.5  \n",
       "1  [-0.7919032573699951, 0.23557151854038239, -0....    3.6  \n",
       "2  [-0.41532206535339355, -0.7629479765892029, 0....    5.0  \n",
       "3  [-0.6571442484855652, -0.142209991812706, 0.26...    4.2  \n",
       "4  [-2.442096471786499, -0.06356014311313629, -0....    1.5  "
      ]
     },
     "execution_count": 183,
     "metadata": {},
     "output_type": "execute_result"
    }
   ],
   "source": [
    "test_df1.head()"
   ]
  },
  {
   "cell_type": "code",
   "execution_count": 184,
   "id": "a55598b5",
   "metadata": {},
   "outputs": [],
   "source": [
    "val_df1 = pd.DataFrame({'embeddings1': val_embeddings1.tolist(), 'embeddings2': val_embeddings2.tolist(), \"score\": y_val})"
   ]
  },
  {
   "cell_type": "code",
   "execution_count": 185,
   "id": "389d0a3c",
   "metadata": {},
   "outputs": [
    {
     "data": {
      "text/html": [
       "<div>\n",
       "<style scoped>\n",
       "    .dataframe tbody tr th:only-of-type {\n",
       "        vertical-align: middle;\n",
       "    }\n",
       "\n",
       "    .dataframe tbody tr th {\n",
       "        vertical-align: top;\n",
       "    }\n",
       "\n",
       "    .dataframe thead th {\n",
       "        text-align: right;\n",
       "    }\n",
       "</style>\n",
       "<table border=\"1\" class=\"dataframe\">\n",
       "  <thead>\n",
       "    <tr style=\"text-align: right;\">\n",
       "      <th></th>\n",
       "      <th>embeddings1</th>\n",
       "      <th>embeddings2</th>\n",
       "      <th>score</th>\n",
       "    </tr>\n",
       "  </thead>\n",
       "  <tbody>\n",
       "    <tr>\n",
       "      <th>0</th>\n",
       "      <td>[0.20792917907238007, 0.13251976668834686, 0.4...</td>\n",
       "      <td>[0.2854107618331909, 0.2590910792350769, 0.335...</td>\n",
       "      <td>5.00</td>\n",
       "    </tr>\n",
       "    <tr>\n",
       "      <th>1</th>\n",
       "      <td>[-1.5553518533706665, -0.42551881074905396, 0....</td>\n",
       "      <td>[-1.5163092613220215, -0.37845131754875183, 0....</td>\n",
       "      <td>4.75</td>\n",
       "    </tr>\n",
       "    <tr>\n",
       "      <th>2</th>\n",
       "      <td>[0.15974768996238708, 0.08551517128944397, -0....</td>\n",
       "      <td>[0.15975721180438995, 0.18069933354854584, 0.0...</td>\n",
       "      <td>5.00</td>\n",
       "    </tr>\n",
       "    <tr>\n",
       "      <th>3</th>\n",
       "      <td>[-0.285798043012619, -0.44078198075294495, 0.0...</td>\n",
       "      <td>[-0.4740341603755951, -0.6429125070571899, -0....</td>\n",
       "      <td>2.40</td>\n",
       "    </tr>\n",
       "    <tr>\n",
       "      <th>4</th>\n",
       "      <td>[-0.6685930490493774, -0.01734122633934021, 0....</td>\n",
       "      <td>[-0.9917641878128052, -0.1497594267129898, 0.1...</td>\n",
       "      <td>2.75</td>\n",
       "    </tr>\n",
       "  </tbody>\n",
       "</table>\n",
       "</div>"
      ],
      "text/plain": [
       "                                         embeddings1  \\\n",
       "0  [0.20792917907238007, 0.13251976668834686, 0.4...   \n",
       "1  [-1.5553518533706665, -0.42551881074905396, 0....   \n",
       "2  [0.15974768996238708, 0.08551517128944397, -0....   \n",
       "3  [-0.285798043012619, -0.44078198075294495, 0.0...   \n",
       "4  [-0.6685930490493774, -0.01734122633934021, 0....   \n",
       "\n",
       "                                         embeddings2  score  \n",
       "0  [0.2854107618331909, 0.2590910792350769, 0.335...   5.00  \n",
       "1  [-1.5163092613220215, -0.37845131754875183, 0....   4.75  \n",
       "2  [0.15975721180438995, 0.18069933354854584, 0.0...   5.00  \n",
       "3  [-0.4740341603755951, -0.6429125070571899, -0....   2.40  \n",
       "4  [-0.9917641878128052, -0.1497594267129898, 0.1...   2.75  "
      ]
     },
     "execution_count": 185,
     "metadata": {},
     "output_type": "execute_result"
    }
   ],
   "source": [
    "val_df1.head()"
   ]
  },
  {
   "cell_type": "code",
   "execution_count": 186,
   "id": "b9c33369",
   "metadata": {},
   "outputs": [],
   "source": [
    "train_df1 = pd.DataFrame({'embeddings1': train_embeddings1.tolist(), 'embeddings2': train_embeddings2.tolist(), \"score\": y_train})"
   ]
  },
  {
   "cell_type": "code",
   "execution_count": 187,
   "id": "22928ff6",
   "metadata": {},
   "outputs": [
    {
     "data": {
      "text/html": [
       "<div>\n",
       "<style scoped>\n",
       "    .dataframe tbody tr th:only-of-type {\n",
       "        vertical-align: middle;\n",
       "    }\n",
       "\n",
       "    .dataframe tbody tr th {\n",
       "        vertical-align: top;\n",
       "    }\n",
       "\n",
       "    .dataframe thead th {\n",
       "        text-align: right;\n",
       "    }\n",
       "</style>\n",
       "<table border=\"1\" class=\"dataframe\">\n",
       "  <thead>\n",
       "    <tr style=\"text-align: right;\">\n",
       "      <th></th>\n",
       "      <th>embeddings1</th>\n",
       "      <th>embeddings2</th>\n",
       "      <th>score</th>\n",
       "    </tr>\n",
       "  </thead>\n",
       "  <tbody>\n",
       "    <tr>\n",
       "      <th>0</th>\n",
       "      <td>[-0.32456499338150024, -0.2800503671169281, -0...</td>\n",
       "      <td>[-0.12816667556762695, -0.21412794291973114, -...</td>\n",
       "      <td>5.00</td>\n",
       "    </tr>\n",
       "    <tr>\n",
       "      <th>1</th>\n",
       "      <td>[-1.1280590295791626, -0.12280690670013428, 0....</td>\n",
       "      <td>[-0.9917641878128052, -0.1497594267129898, 0.1...</td>\n",
       "      <td>3.80</td>\n",
       "    </tr>\n",
       "    <tr>\n",
       "      <th>2</th>\n",
       "      <td>[0.1862933337688446, -0.29718098044395447, 0.0...</td>\n",
       "      <td>[0.5862688422203064, -0.75014328956604, -0.402...</td>\n",
       "      <td>3.80</td>\n",
       "    </tr>\n",
       "    <tr>\n",
       "      <th>3</th>\n",
       "      <td>[-0.5876632928848267, 0.052793391048908234, -0...</td>\n",
       "      <td>[-0.5204267501831055, -0.05645241215825081, -0...</td>\n",
       "      <td>2.60</td>\n",
       "    </tr>\n",
       "    <tr>\n",
       "      <th>4</th>\n",
       "      <td>[-1.5430655479431152, -0.055979542434215546, 0...</td>\n",
       "      <td>[-1.4934371709823608, 0.09630199521780014, 0.0...</td>\n",
       "      <td>4.25</td>\n",
       "    </tr>\n",
       "  </tbody>\n",
       "</table>\n",
       "</div>"
      ],
      "text/plain": [
       "                                         embeddings1  \\\n",
       "0  [-0.32456499338150024, -0.2800503671169281, -0...   \n",
       "1  [-1.1280590295791626, -0.12280690670013428, 0....   \n",
       "2  [0.1862933337688446, -0.29718098044395447, 0.0...   \n",
       "3  [-0.5876632928848267, 0.052793391048908234, -0...   \n",
       "4  [-1.5430655479431152, -0.055979542434215546, 0...   \n",
       "\n",
       "                                         embeddings2  score  \n",
       "0  [-0.12816667556762695, -0.21412794291973114, -...   5.00  \n",
       "1  [-0.9917641878128052, -0.1497594267129898, 0.1...   3.80  \n",
       "2  [0.5862688422203064, -0.75014328956604, -0.402...   3.80  \n",
       "3  [-0.5204267501831055, -0.05645241215825081, -0...   2.60  \n",
       "4  [-1.4934371709823608, 0.09630199521780014, 0.0...   4.25  "
      ]
     },
     "execution_count": 187,
     "metadata": {},
     "output_type": "execute_result"
    }
   ],
   "source": [
    "train_df1.head()"
   ]
  },
  {
   "cell_type": "code",
   "execution_count": 188,
   "id": "692b87d4",
   "metadata": {},
   "outputs": [],
   "source": [
    "train_df1.to_pickle(\"./sem_train_df1.pkl\")  \n",
    "val_df1.to_pickle(\"./sem_val_df1.pkl\")  \n",
    "test_df1.to_pickle(\"./sem_test_df1.pkl\")  "
   ]
  },
  {
   "cell_type": "markdown",
   "id": "6e6234b0",
   "metadata": {},
   "source": [
    "# Fine Tuning - To Do\n",
    "\n",
    "Step1: Explore other text representations <br>\n",
    "Step2: Explore model training like SVM, Bidirectonal LSTM"
   ]
  },
  {
   "cell_type": "markdown",
   "id": "d24a426b",
   "metadata": {},
   "source": [
    "# Cross Sentence Similiarity - To Do"
   ]
  },
  {
   "cell_type": "code",
   "execution_count": 101,
   "id": "feaef817",
   "metadata": {},
   "outputs": [
    {
     "data": {
      "text/html": [
       "<div>\n",
       "<style scoped>\n",
       "    .dataframe tbody tr th:only-of-type {\n",
       "        vertical-align: middle;\n",
       "    }\n",
       "\n",
       "    .dataframe tbody tr th {\n",
       "        vertical-align: top;\n",
       "    }\n",
       "\n",
       "    .dataframe thead th {\n",
       "        text-align: right;\n",
       "    }\n",
       "</style>\n",
       "<table border=\"1\" class=\"dataframe\">\n",
       "  <thead>\n",
       "    <tr style=\"text-align: right;\">\n",
       "      <th></th>\n",
       "      <th>sent1</th>\n",
       "      <th>sent2</th>\n",
       "      <th>score</th>\n",
       "      <th>sent1_embedding</th>\n",
       "      <th>sent2_embedding</th>\n",
       "      <th>y_pred</th>\n",
       "      <th>sent_len</th>\n",
       "      <th>diff</th>\n",
       "    </tr>\n",
       "  </thead>\n",
       "  <tbody>\n",
       "    <tr>\n",
       "      <th>0</th>\n",
       "      <td>[a, plane, is, take, off]</td>\n",
       "      <td>[an, air, plane, is, take, off]</td>\n",
       "      <td>5.00</td>\n",
       "      <td>[0.9864692, -2.2660522, -0.103576, 1.8129503, ...</td>\n",
       "      <td>[1.9118893, -1.3158773, -1.7765663, 0.02113962...</td>\n",
       "      <td>4.027509</td>\n",
       "      <td>6</td>\n",
       "      <td>0.972491</td>\n",
       "    </tr>\n",
       "    <tr>\n",
       "      <th>1</th>\n",
       "      <td>[a, man, is, play, larg, flute]</td>\n",
       "      <td>[a, man, is, play, flute]</td>\n",
       "      <td>3.80</td>\n",
       "      <td>[1.1726476, 0.38243365, -0.5652934, -0.4561446...</td>\n",
       "      <td>[0.14111541, -0.3001792, -0.12395583, -0.86583...</td>\n",
       "      <td>4.528369</td>\n",
       "      <td>6</td>\n",
       "      <td>0.728369</td>\n",
       "    </tr>\n",
       "    <tr>\n",
       "      <th>2</th>\n",
       "      <td>[a, man, is, spread, unk, chees, on, pizza]</td>\n",
       "      <td>[a, man, is, spread, shred, chees, on, an, unk...</td>\n",
       "      <td>3.80</td>\n",
       "      <td>[0.5748898, -0.4868232, 0.17118314, 2.1087997,...</td>\n",
       "      <td>[-0.5277458, -0.26175153, 0.7717957, -1.980574...</td>\n",
       "      <td>3.994909</td>\n",
       "      <td>10</td>\n",
       "      <td>0.194909</td>\n",
       "    </tr>\n",
       "    <tr>\n",
       "      <th>3</th>\n",
       "      <td>[three, men, are, play, chess]</td>\n",
       "      <td>[two, men, are, play, chess]</td>\n",
       "      <td>2.60</td>\n",
       "      <td>[0.020137124, 2.0637279, 2.0419598, -1.0271838...</td>\n",
       "      <td>[-0.4934113, 1.4713883, 1.207358, -1.4035007, ...</td>\n",
       "      <td>4.571979</td>\n",
       "      <td>5</td>\n",
       "      <td>1.971979</td>\n",
       "    </tr>\n",
       "    <tr>\n",
       "      <th>4</th>\n",
       "      <td>[a, man, is, play, the, cello]</td>\n",
       "      <td>[a, man, seat, is, play, the, cello]</td>\n",
       "      <td>4.25</td>\n",
       "      <td>[0.6147697, 0.58741856, 1.5382065, 1.5268751, ...</td>\n",
       "      <td>[-0.53330123, 0.8698681, 1.9762219, 0.7713875,...</td>\n",
       "      <td>4.333014</td>\n",
       "      <td>7</td>\n",
       "      <td>0.083014</td>\n",
       "    </tr>\n",
       "  </tbody>\n",
       "</table>\n",
       "</div>"
      ],
      "text/plain": [
       "                                         sent1  \\\n",
       "0                    [a, plane, is, take, off]   \n",
       "1              [a, man, is, play, larg, flute]   \n",
       "2  [a, man, is, spread, unk, chees, on, pizza]   \n",
       "3               [three, men, are, play, chess]   \n",
       "4               [a, man, is, play, the, cello]   \n",
       "\n",
       "                                               sent2  score  \\\n",
       "0                    [an, air, plane, is, take, off]   5.00   \n",
       "1                          [a, man, is, play, flute]   3.80   \n",
       "2  [a, man, is, spread, shred, chees, on, an, unk...   3.80   \n",
       "3                       [two, men, are, play, chess]   2.60   \n",
       "4               [a, man, seat, is, play, the, cello]   4.25   \n",
       "\n",
       "                                     sent1_embedding  \\\n",
       "0  [0.9864692, -2.2660522, -0.103576, 1.8129503, ...   \n",
       "1  [1.1726476, 0.38243365, -0.5652934, -0.4561446...   \n",
       "2  [0.5748898, -0.4868232, 0.17118314, 2.1087997,...   \n",
       "3  [0.020137124, 2.0637279, 2.0419598, -1.0271838...   \n",
       "4  [0.6147697, 0.58741856, 1.5382065, 1.5268751, ...   \n",
       "\n",
       "                                     sent2_embedding    y_pred  sent_len  \\\n",
       "0  [1.9118893, -1.3158773, -1.7765663, 0.02113962...  4.027509         6   \n",
       "1  [0.14111541, -0.3001792, -0.12395583, -0.86583...  4.528369         6   \n",
       "2  [-0.5277458, -0.26175153, 0.7717957, -1.980574...  3.994909        10   \n",
       "3  [-0.4934113, 1.4713883, 1.207358, -1.4035007, ...  4.571979         5   \n",
       "4  [-0.53330123, 0.8698681, 1.9762219, 0.7713875,...  4.333014         7   \n",
       "\n",
       "       diff  \n",
       "0  0.972491  \n",
       "1  0.728369  \n",
       "2  0.194909  \n",
       "3  1.971979  \n",
       "4  0.083014  "
      ]
     },
     "execution_count": 101,
     "metadata": {},
     "output_type": "execute_result"
    }
   ],
   "source": [
    "train_df = pd.read_pickle(\"./sem_train_df.pkl\") \n",
    "train_df.head()"
   ]
  },
  {
   "cell_type": "code",
   "execution_count": 102,
   "id": "3d34a5e8",
   "metadata": {},
   "outputs": [
    {
     "data": {
      "text/html": [
       "<div>\n",
       "<style scoped>\n",
       "    .dataframe tbody tr th:only-of-type {\n",
       "        vertical-align: middle;\n",
       "    }\n",
       "\n",
       "    .dataframe tbody tr th {\n",
       "        vertical-align: top;\n",
       "    }\n",
       "\n",
       "    .dataframe thead th {\n",
       "        text-align: right;\n",
       "    }\n",
       "</style>\n",
       "<table border=\"1\" class=\"dataframe\">\n",
       "  <thead>\n",
       "    <tr style=\"text-align: right;\">\n",
       "      <th></th>\n",
       "      <th>sent1</th>\n",
       "      <th>sent2</th>\n",
       "      <th>score</th>\n",
       "      <th>sent1_embedding</th>\n",
       "      <th>sent2_embedding</th>\n",
       "      <th>y_pred</th>\n",
       "      <th>sent_len</th>\n",
       "      <th>diff</th>\n",
       "    </tr>\n",
       "  </thead>\n",
       "  <tbody>\n",
       "    <tr>\n",
       "      <th>0</th>\n",
       "      <td>[a, man, with, hard, hat, is, danc]</td>\n",
       "      <td>[a, man, wear, hard, hat, is, danc]</td>\n",
       "      <td>5.00</td>\n",
       "      <td>[0.2228367, 0.15842247, 0.5859811, 0.07883484,...</td>\n",
       "      <td>[0.9674377, -0.9272134, -1.285685, 0.6397102, ...</td>\n",
       "      <td>4.693286</td>\n",
       "      <td>7</td>\n",
       "      <td>0.306714</td>\n",
       "    </tr>\n",
       "    <tr>\n",
       "      <th>1</th>\n",
       "      <td>[a, young, child, is, ride, hors]</td>\n",
       "      <td>[a, child, is, ride, hors]</td>\n",
       "      <td>4.75</td>\n",
       "      <td>[-2.4442246, 1.0514715, -0.23553203, -1.665722...</td>\n",
       "      <td>[-1.0548029, 1.4017025, 1.0543997, -0.1567127,...</td>\n",
       "      <td>4.437892</td>\n",
       "      <td>6</td>\n",
       "      <td>0.312108</td>\n",
       "    </tr>\n",
       "    <tr>\n",
       "      <th>2</th>\n",
       "      <td>[a, man, is, feed, mous, to, snake]</td>\n",
       "      <td>[the, man, is, feed, a, mous, to, snake]</td>\n",
       "      <td>5.00</td>\n",
       "      <td>[-2.4976134, -1.3845634, -0.6395363, 3.0044372...</td>\n",
       "      <td>[-3.3567224, -1.3375549, -0.6844515, 3.0857813...</td>\n",
       "      <td>4.984047</td>\n",
       "      <td>8</td>\n",
       "      <td>0.015953</td>\n",
       "    </tr>\n",
       "    <tr>\n",
       "      <th>3</th>\n",
       "      <td>[a, woman, is, play, the, guitar]</td>\n",
       "      <td>[a, man, is, play, guitar]</td>\n",
       "      <td>2.40</td>\n",
       "      <td>[-0.36892942, 0.043651797, 0.9727363, -1.04533...</td>\n",
       "      <td>[-1.0463748, 0.30364293, 0.78331405, -0.395375...</td>\n",
       "      <td>4.584932</td>\n",
       "      <td>6</td>\n",
       "      <td>2.184932</td>\n",
       "    </tr>\n",
       "    <tr>\n",
       "      <th>4</th>\n",
       "      <td>[a, woman, is, play, the, flute]</td>\n",
       "      <td>[a, man, is, play, flute]</td>\n",
       "      <td>2.75</td>\n",
       "      <td>[0.77743274, -0.46335158, -0.4947413, -1.32314...</td>\n",
       "      <td>[0.26047373, -0.044908065, -0.23048759, -0.812...</td>\n",
       "      <td>4.705092</td>\n",
       "      <td>6</td>\n",
       "      <td>1.955092</td>\n",
       "    </tr>\n",
       "  </tbody>\n",
       "</table>\n",
       "</div>"
      ],
      "text/plain": [
       "                                 sent1  \\\n",
       "0  [a, man, with, hard, hat, is, danc]   \n",
       "1    [a, young, child, is, ride, hors]   \n",
       "2  [a, man, is, feed, mous, to, snake]   \n",
       "3    [a, woman, is, play, the, guitar]   \n",
       "4     [a, woman, is, play, the, flute]   \n",
       "\n",
       "                                      sent2  score  \\\n",
       "0       [a, man, wear, hard, hat, is, danc]   5.00   \n",
       "1                [a, child, is, ride, hors]   4.75   \n",
       "2  [the, man, is, feed, a, mous, to, snake]   5.00   \n",
       "3                [a, man, is, play, guitar]   2.40   \n",
       "4                 [a, man, is, play, flute]   2.75   \n",
       "\n",
       "                                     sent1_embedding  \\\n",
       "0  [0.2228367, 0.15842247, 0.5859811, 0.07883484,...   \n",
       "1  [-2.4442246, 1.0514715, -0.23553203, -1.665722...   \n",
       "2  [-2.4976134, -1.3845634, -0.6395363, 3.0044372...   \n",
       "3  [-0.36892942, 0.043651797, 0.9727363, -1.04533...   \n",
       "4  [0.77743274, -0.46335158, -0.4947413, -1.32314...   \n",
       "\n",
       "                                     sent2_embedding    y_pred  sent_len  \\\n",
       "0  [0.9674377, -0.9272134, -1.285685, 0.6397102, ...  4.693286         7   \n",
       "1  [-1.0548029, 1.4017025, 1.0543997, -0.1567127,...  4.437892         6   \n",
       "2  [-3.3567224, -1.3375549, -0.6844515, 3.0857813...  4.984047         8   \n",
       "3  [-1.0463748, 0.30364293, 0.78331405, -0.395375...  4.584932         6   \n",
       "4  [0.26047373, -0.044908065, -0.23048759, -0.812...  4.705092         6   \n",
       "\n",
       "       diff  \n",
       "0  0.306714  \n",
       "1  0.312108  \n",
       "2  0.015953  \n",
       "3  2.184932  \n",
       "4  1.955092  "
      ]
     },
     "execution_count": 102,
     "metadata": {},
     "output_type": "execute_result"
    }
   ],
   "source": [
    "val_df = pd.read_pickle(\"./sem_val_df.pkl\") \n",
    "val_df.head()"
   ]
  },
  {
   "cell_type": "code",
   "execution_count": 103,
   "id": "2e1a2b2d",
   "metadata": {},
   "outputs": [
    {
     "data": {
      "text/html": [
       "<div>\n",
       "<style scoped>\n",
       "    .dataframe tbody tr th:only-of-type {\n",
       "        vertical-align: middle;\n",
       "    }\n",
       "\n",
       "    .dataframe tbody tr th {\n",
       "        vertical-align: top;\n",
       "    }\n",
       "\n",
       "    .dataframe thead th {\n",
       "        text-align: right;\n",
       "    }\n",
       "</style>\n",
       "<table border=\"1\" class=\"dataframe\">\n",
       "  <thead>\n",
       "    <tr style=\"text-align: right;\">\n",
       "      <th></th>\n",
       "      <th>sent1</th>\n",
       "      <th>sent2</th>\n",
       "      <th>score</th>\n",
       "      <th>sent1_embedding</th>\n",
       "      <th>sent2_embedding</th>\n",
       "      <th>y_pred</th>\n",
       "      <th>sent_len</th>\n",
       "      <th>diff</th>\n",
       "    </tr>\n",
       "  </thead>\n",
       "  <tbody>\n",
       "    <tr>\n",
       "      <th>0</th>\n",
       "      <td>[a, girl, is, style, her, hair]</td>\n",
       "      <td>[a, girl, is, brush, her, hair]</td>\n",
       "      <td>2.5</td>\n",
       "      <td>[-0.6746696, 3.0577161, 6.09757, -2.235744, -2...</td>\n",
       "      <td>[0.14125915, 0.7944734, 3.9252, -2.421765, -2....</td>\n",
       "      <td>3.982087</td>\n",
       "      <td>6</td>\n",
       "      <td>1.482087</td>\n",
       "    </tr>\n",
       "    <tr>\n",
       "      <th>1</th>\n",
       "      <td>[a, group, of, men, play, soccer, on, the, beach]</td>\n",
       "      <td>[a, group, of, boy, are, play, soccer, on, the...</td>\n",
       "      <td>3.6</td>\n",
       "      <td>[0.7344324, -1.6498055, -1.7304202, -5.4861097...</td>\n",
       "      <td>[1.1423165, -2.6406758, -1.2685233, -2.7700768...</td>\n",
       "      <td>3.882190</td>\n",
       "      <td>10</td>\n",
       "      <td>0.282190</td>\n",
       "    </tr>\n",
       "    <tr>\n",
       "      <th>2</th>\n",
       "      <td>[one, woman, is, measur, anoth, unk]</td>\n",
       "      <td>[a, woman, measur, anoth, unk]</td>\n",
       "      <td>5.0</td>\n",
       "      <td>[-2.7164004, -4.107922, -2.609709, -5.0236754,...</td>\n",
       "      <td>[-1.7379254, -4.0445743, -2.0853796, -5.220481...</td>\n",
       "      <td>4.799586</td>\n",
       "      <td>6</td>\n",
       "      <td>0.200414</td>\n",
       "    </tr>\n",
       "    <tr>\n",
       "      <th>3</th>\n",
       "      <td>[a, man, is, cut, up, cucumb]</td>\n",
       "      <td>[a, man, is, slice, cucumb]</td>\n",
       "      <td>4.2</td>\n",
       "      <td>[-1.9431009, -0.7188035, 0.6113643, 0.08932299...</td>\n",
       "      <td>[0.8139604, -0.6387818, -0.10482016, 0.9009722...</td>\n",
       "      <td>3.492135</td>\n",
       "      <td>6</td>\n",
       "      <td>0.707865</td>\n",
       "    </tr>\n",
       "    <tr>\n",
       "      <th>4</th>\n",
       "      <td>[a, man, is, play, harp]</td>\n",
       "      <td>[a, man, is, play, keyboard]</td>\n",
       "      <td>1.5</td>\n",
       "      <td>[0.3037535, -0.4267695, 0.09114389, -0.1471065...</td>\n",
       "      <td>[-1.5110046, 1.2255467, 1.8177335, 0.11791366,...</td>\n",
       "      <td>3.299985</td>\n",
       "      <td>5</td>\n",
       "      <td>1.799985</td>\n",
       "    </tr>\n",
       "  </tbody>\n",
       "</table>\n",
       "</div>"
      ],
      "text/plain": [
       "                                               sent1  \\\n",
       "0                    [a, girl, is, style, her, hair]   \n",
       "1  [a, group, of, men, play, soccer, on, the, beach]   \n",
       "2               [one, woman, is, measur, anoth, unk]   \n",
       "3                      [a, man, is, cut, up, cucumb]   \n",
       "4                           [a, man, is, play, harp]   \n",
       "\n",
       "                                               sent2  score  \\\n",
       "0                    [a, girl, is, brush, her, hair]    2.5   \n",
       "1  [a, group, of, boy, are, play, soccer, on, the...    3.6   \n",
       "2                     [a, woman, measur, anoth, unk]    5.0   \n",
       "3                        [a, man, is, slice, cucumb]    4.2   \n",
       "4                       [a, man, is, play, keyboard]    1.5   \n",
       "\n",
       "                                     sent1_embedding  \\\n",
       "0  [-0.6746696, 3.0577161, 6.09757, -2.235744, -2...   \n",
       "1  [0.7344324, -1.6498055, -1.7304202, -5.4861097...   \n",
       "2  [-2.7164004, -4.107922, -2.609709, -5.0236754,...   \n",
       "3  [-1.9431009, -0.7188035, 0.6113643, 0.08932299...   \n",
       "4  [0.3037535, -0.4267695, 0.09114389, -0.1471065...   \n",
       "\n",
       "                                     sent2_embedding    y_pred  sent_len  \\\n",
       "0  [0.14125915, 0.7944734, 3.9252, -2.421765, -2....  3.982087         6   \n",
       "1  [1.1423165, -2.6406758, -1.2685233, -2.7700768...  3.882190        10   \n",
       "2  [-1.7379254, -4.0445743, -2.0853796, -5.220481...  4.799586         6   \n",
       "3  [0.8139604, -0.6387818, -0.10482016, 0.9009722...  3.492135         6   \n",
       "4  [-1.5110046, 1.2255467, 1.8177335, 0.11791366,...  3.299985         5   \n",
       "\n",
       "       diff  \n",
       "0  1.482087  \n",
       "1  0.282190  \n",
       "2  0.200414  \n",
       "3  0.707865  \n",
       "4  1.799985  "
      ]
     },
     "execution_count": 103,
     "metadata": {},
     "output_type": "execute_result"
    }
   ],
   "source": [
    "test_df = pd.read_pickle(\"./sem_test_df.pkl\") \n",
    "test_df.head()"
   ]
  },
  {
   "cell_type": "code",
   "execution_count": 70,
   "id": "6397dad8",
   "metadata": {},
   "outputs": [],
   "source": [
    "embeddings1 = list(train_df['sent1_embedding'])\n",
    "embeddings2 = list(train_df['sent2_embedding'])"
   ]
  },
  {
   "cell_type": "code",
   "execution_count": 71,
   "id": "5d86fae7",
   "metadata": {},
   "outputs": [],
   "source": [
    "scores = list(train_df['score'])"
   ]
  },
  {
   "cell_type": "code",
   "execution_count": 72,
   "id": "dd11c235",
   "metadata": {},
   "outputs": [
    {
     "name": "stderr",
     "output_type": "stream",
     "text": [
      "/Users/AH00434/opt/anaconda3/envs/nlp_venv/lib/python3.9/site-packages/tqdm/auto.py:22: TqdmWarning: IProgress not found. Please update jupyter and ipywidgets. See https://ipywidgets.readthedocs.io/en/stable/user_install.html\n",
      "  from .autonotebook import tqdm as notebook_tqdm\n"
     ]
    }
   ],
   "source": [
    "import torch\n",
    "import torch.nn as nn\n",
    "import torch.optim as optim\n",
    "# Convert the data into PyTorch tensors\n",
    "embeddings1 = torch.tensor(embeddings1, dtype=torch.float)\n",
    "embeddings2 = torch.tensor(embeddings2, dtype=torch.float)\n",
    "scores = torch.tensor(scores, dtype=torch.float)"
   ]
  },
  {
   "cell_type": "code",
   "execution_count": 73,
   "id": "f851b3b4",
   "metadata": {},
   "outputs": [],
   "source": [
    "# Split the data into training and validation sets\n",
    "train_size = int(0.8 * len(embeddings1))\n",
    "train_embeddings1 = embeddings1[:train_size]\n",
    "train_embeddings2 = embeddings2[:train_size]\n",
    "train_scores = scores[:train_size]\n",
    "val_embeddings1 = embeddings1[train_size:]\n",
    "val_embeddings2 = embeddings2[train_size:]\n",
    "val_scores = scores[train_size:]# Split the data into training and validation sets\n",
    "train_size = int(0.8 * len(embeddings1))\n",
    "train_embeddings1 = embeddings1[:train_size]\n",
    "train_embeddings2 = embeddings2[:train_size]\n",
    "train_scores = scores[:train_size]\n",
    "val_embeddings1 = embeddings1[train_size:]\n",
    "val_embeddings2 = embeddings2[train_size:]\n",
    "val_scores = scores[train_size:]"
   ]
  },
  {
   "cell_type": "code",
   "execution_count": 77,
   "id": "9c053f0e",
   "metadata": {},
   "outputs": [],
   "source": [
    "# Define the hyperparameters\n",
    "input_dim = 25 # The dimension of the sentence embeddings\n",
    "hidden_dim = 50\n",
    "lr = 0.001\n",
    "num_epochs = 10\n",
    "batch_size = 10"
   ]
  },
  {
   "cell_type": "code",
   "execution_count": 1,
   "id": "ebbeca8a",
   "metadata": {},
   "outputs": [],
   "source": [
    "# non optimized"
   ]
  },
  {
   "cell_type": "code",
   "execution_count": 79,
   "id": "8fbfd513",
   "metadata": {},
   "outputs": [],
   "source": [
    "class SentenceSimilarityModel(nn.Module):\n",
    "    def __init__(self, input_dim, hidden_dim):\n",
    "        super().__init__()\n",
    "        self.input_dim = input_dim\n",
    "        self.hidden_dim = hidden_dim\n",
    "        self.fc1 = nn.Linear(input_dim, hidden_dim)\n",
    "        self.relu = nn.ReLU()\n",
    "        self.fc2 = nn.Linear(hidden_dim, 1)\n",
    "\n",
    "    def forward(self, x1, x2):\n",
    "        x = torch.cat((x1, x2), dim=1)\n",
    "        x = self.fc1(x)\n",
    "        x = self.relu(x)\n",
    "        x = self.fc2(x)\n",
    "        return x\n",
    "\n"
   ]
  },
  {
   "cell_type": "code",
   "execution_count": 80,
   "id": "1419eb49",
   "metadata": {},
   "outputs": [],
   "source": [
    "# Create the model and optimizer\n",
    "model = SentenceSimilarityModel(input_dim*2, hidden_dim)\n",
    "optimizer = optim.Adam(model.parameters(), lr=lr)\n",
    "\n",
    "# Define the loss function\n",
    "loss_fn = nn.MSELoss()"
   ]
  },
  {
   "cell_type": "code",
   "execution_count": 80,
   "id": "82736c84",
   "metadata": {},
   "outputs": [
    {
     "name": "stdout",
     "output_type": "stream",
     "text": [
      "Epoch 1 - Training Loss: 3.3538, Validation Loss: 2.5424\n",
      "Epoch 2 - Training Loss: 3.1834, Validation Loss: 2.4551\n",
      "Epoch 3 - Training Loss: 3.0226, Validation Loss: 2.3879\n",
      "Epoch 4 - Training Loss: 2.9248, Validation Loss: 2.3507\n",
      "Epoch 5 - Training Loss: 2.8991, Validation Loss: 2.3376\n",
      "Epoch 6 - Training Loss: 2.8425, Validation Loss: 2.3380\n",
      "Epoch 7 - Training Loss: 2.7846, Validation Loss: 2.3403\n",
      "Epoch 8 - Training Loss: 2.7930, Validation Loss: 2.3455\n",
      "Epoch 9 - Training Loss: 2.7358, Validation Loss: 2.3511\n",
      "Epoch 10 - Training Loss: 2.7588, Validation Loss: 2.3619\n"
     ]
    }
   ],
   "source": [
    "# Train the model\n",
    "for epoch in range(num_epochs):\n",
    "    model.train()\n",
    "    for i in range(0, len(train_embeddings1), batch_size):\n",
    "        batch_embeddings1 = train_embeddings1[i:i+batch_size]\n",
    "        batch_embeddings2 = train_embeddings2[i:i+batch_size]\n",
    "        batch_scores = train_scores[i:i+batch_size]\n",
    "        optimizer.zero_grad()\n",
    "        output = model(batch_embeddings1, batch_embeddings2)\n",
    "        loss = loss_fn(output.squeeze(), batch_scores)\n",
    "        loss.backward()\n",
    "        optimizer.step()\n",
    "\n",
    "    # Evaluate the model on the validation set\n",
    "    model.eval()\n",
    "    with torch.no_grad():\n",
    "        val_output = model(val_embeddings1, val_embeddings2)\n",
    "        val_loss = loss_fn(val_output.squeeze(), val_scores)\n",
    "        print('Epoch {} - Training Loss: {:.4f}, Validation Loss: {:.4f}'.format(epoch+1, loss.item(), val_loss.item()))"
   ]
  },
  {
   "cell_type": "code",
   "execution_count": 2,
   "id": "6350c462",
   "metadata": {},
   "outputs": [],
   "source": [
    "# Optimized"
   ]
  },
  {
   "cell_type": "code",
   "execution_count": 74,
   "id": "b2efae4f",
   "metadata": {},
   "outputs": [],
   "source": [
    "import torch.utils.data as data\n",
    "\n",
    "# Define a custom dataset class\n",
    "class SentenceSimilarityDataset(data.Dataset):\n",
    "    def __init__(self, embeddings1, embeddings2, scores):\n",
    "        self.embeddings1 = embeddings1\n",
    "        self.embeddings2 = embeddings2\n",
    "        self.scores = scores\n",
    "\n",
    "    def __len__(self):\n",
    "        return len(self.embeddings1)\n",
    "\n",
    "    def __getitem__(self, index):\n",
    "        return self.embeddings1[index], self.embeddings2[index], self.scores[index]\n",
    "\n",
    "# Create the dataset\n",
    "dataset = SentenceSimilarityDataset(embeddings1, embeddings2, scores)"
   ]
  },
  {
   "cell_type": "code",
   "execution_count": 75,
   "id": "b34fd05d",
   "metadata": {},
   "outputs": [],
   "source": [
    "# Define the batch size\n",
    "batch_size = 10\n",
    "\n",
    "# Create the DataLoader\n",
    "dataloader = data.DataLoader(dataset, batch_size=batch_size, shuffle=True)"
   ]
  },
  {
   "cell_type": "code",
   "execution_count": null,
   "id": "a8c8f15c",
   "metadata": {},
   "outputs": [],
   "source": [
    "# Train the model\n",
    "for epoch in range(num_epochs):\n",
    "    model.train()\n",
    "    train_loss = 0.0\n",
    "    for batch in dataloader:\n",
    "        optimizer.zero_grad()\n",
    "        embeddings1_batch, embeddings2_batch, scores_batch = batch\n",
    "        output = model(embeddings1_batch, embeddings2_batch)\n",
    "        loss = loss_fn(output.squeeze(), scores_batch)\n",
    "        loss.backward()\n",
    "        optimizer.step()\n",
    "        train_loss += loss.item() * len(embeddings1_batch)\n",
    "    train_loss /= len(train_embeddings1)\n",
    "\n",
    "    # Evaluate the model on the validation set\n",
    "    model.eval()\n",
    "    val_loss = 0.0\n",
    "    with torch.no_grad():\n",
    "        for batch in val_dataloader:\n",
    "            embeddings1_batch, embeddings2_batch, scores_batch = batch\n",
    "            val_output = model(embeddings1_batch, embeddings2_batch)\n",
    "            val_loss += loss_fn(val_output.squeeze(), scores_batch).item() * len(embeddings1_batch)\n",
    "        val_loss /= len(val_embeddings1)\n",
    "\n",
    "    print('Epoch {} - Training Loss: {:.4f}, Validation Loss: {:.4f}'.format(epoch+1, train_loss, val_loss))"
   ]
  },
  {
   "cell_type": "code",
   "execution_count": null,
   "id": "9dcd98c4",
   "metadata": {},
   "outputs": [],
   "source": []
  },
  {
   "cell_type": "markdown",
   "id": "541e239b",
   "metadata": {},
   "source": [
    "# SVM training"
   ]
  },
  {
   "cell_type": "code",
   "execution_count": 104,
   "id": "f8940dae",
   "metadata": {},
   "outputs": [],
   "source": [
    "train_embeddings1 = list(train_df['sent1_embedding'])\n",
    "train_embeddings2 = list(train_df['sent2_embedding'])\n",
    "train_scores = list(train_df['score'])\n",
    "val_embeddings1 = list(val_df['sent1_embedding'])\n",
    "val_embeddings2 = list(val_df['sent1_embedding'])\n",
    "val_scores = list(val_df['score'])"
   ]
  },
  {
   "cell_type": "code",
   "execution_count": 105,
   "id": "f6c9e1d1",
   "metadata": {},
   "outputs": [],
   "source": [
    "# Convert the data into numpy arrays\n",
    "X_train = np.concatenate((train_embeddings1, train_embeddings2), axis=1)\n",
    "y_train = np.array(train_scores)"
   ]
  },
  {
   "cell_type": "code",
   "execution_count": 106,
   "id": "4874e982",
   "metadata": {},
   "outputs": [],
   "source": [
    "X_val = np.concatenate((val_embeddings1, val_embeddings2), axis=1)\n",
    "y_val = np.array(val_scores)"
   ]
  },
  {
   "cell_type": "code",
   "execution_count": 107,
   "id": "148b387b",
   "metadata": {},
   "outputs": [],
   "source": [
    "from sklearn.svm import SVR\n",
    "from sklearn.metrics import mean_squared_error"
   ]
  },
  {
   "cell_type": "code",
   "execution_count": 133,
   "id": "042d8f1f",
   "metadata": {},
   "outputs": [
    {
     "data": {
      "text/html": [
       "<style>#sk-container-id-6 {color: black;background-color: white;}#sk-container-id-6 pre{padding: 0;}#sk-container-id-6 div.sk-toggleable {background-color: white;}#sk-container-id-6 label.sk-toggleable__label {cursor: pointer;display: block;width: 100%;margin-bottom: 0;padding: 0.3em;box-sizing: border-box;text-align: center;}#sk-container-id-6 label.sk-toggleable__label-arrow:before {content: \"▸\";float: left;margin-right: 0.25em;color: #696969;}#sk-container-id-6 label.sk-toggleable__label-arrow:hover:before {color: black;}#sk-container-id-6 div.sk-estimator:hover label.sk-toggleable__label-arrow:before {color: black;}#sk-container-id-6 div.sk-toggleable__content {max-height: 0;max-width: 0;overflow: hidden;text-align: left;background-color: #f0f8ff;}#sk-container-id-6 div.sk-toggleable__content pre {margin: 0.2em;color: black;border-radius: 0.25em;background-color: #f0f8ff;}#sk-container-id-6 input.sk-toggleable__control:checked~div.sk-toggleable__content {max-height: 200px;max-width: 100%;overflow: auto;}#sk-container-id-6 input.sk-toggleable__control:checked~label.sk-toggleable__label-arrow:before {content: \"▾\";}#sk-container-id-6 div.sk-estimator input.sk-toggleable__control:checked~label.sk-toggleable__label {background-color: #d4ebff;}#sk-container-id-6 div.sk-label input.sk-toggleable__control:checked~label.sk-toggleable__label {background-color: #d4ebff;}#sk-container-id-6 input.sk-hidden--visually {border: 0;clip: rect(1px 1px 1px 1px);clip: rect(1px, 1px, 1px, 1px);height: 1px;margin: -1px;overflow: hidden;padding: 0;position: absolute;width: 1px;}#sk-container-id-6 div.sk-estimator {font-family: monospace;background-color: #f0f8ff;border: 1px dotted black;border-radius: 0.25em;box-sizing: border-box;margin-bottom: 0.5em;}#sk-container-id-6 div.sk-estimator:hover {background-color: #d4ebff;}#sk-container-id-6 div.sk-parallel-item::after {content: \"\";width: 100%;border-bottom: 1px solid gray;flex-grow: 1;}#sk-container-id-6 div.sk-label:hover label.sk-toggleable__label {background-color: #d4ebff;}#sk-container-id-6 div.sk-serial::before {content: \"\";position: absolute;border-left: 1px solid gray;box-sizing: border-box;top: 0;bottom: 0;left: 50%;z-index: 0;}#sk-container-id-6 div.sk-serial {display: flex;flex-direction: column;align-items: center;background-color: white;padding-right: 0.2em;padding-left: 0.2em;position: relative;}#sk-container-id-6 div.sk-item {position: relative;z-index: 1;}#sk-container-id-6 div.sk-parallel {display: flex;align-items: stretch;justify-content: center;background-color: white;position: relative;}#sk-container-id-6 div.sk-item::before, #sk-container-id-6 div.sk-parallel-item::before {content: \"\";position: absolute;border-left: 1px solid gray;box-sizing: border-box;top: 0;bottom: 0;left: 50%;z-index: -1;}#sk-container-id-6 div.sk-parallel-item {display: flex;flex-direction: column;z-index: 1;position: relative;background-color: white;}#sk-container-id-6 div.sk-parallel-item:first-child::after {align-self: flex-end;width: 50%;}#sk-container-id-6 div.sk-parallel-item:last-child::after {align-self: flex-start;width: 50%;}#sk-container-id-6 div.sk-parallel-item:only-child::after {width: 0;}#sk-container-id-6 div.sk-dashed-wrapped {border: 1px dashed gray;margin: 0 0.4em 0.5em 0.4em;box-sizing: border-box;padding-bottom: 0.4em;background-color: white;}#sk-container-id-6 div.sk-label label {font-family: monospace;font-weight: bold;display: inline-block;line-height: 1.2em;}#sk-container-id-6 div.sk-label-container {text-align: center;}#sk-container-id-6 div.sk-container {/* jupyter's `normalize.less` sets `[hidden] { display: none; }` but bootstrap.min.css set `[hidden] { display: none !important; }` so we also need the `!important` here to be able to override the default hidden behavior on the sphinx rendered scikit-learn.org. See: https://github.com/scikit-learn/scikit-learn/issues/21755 */display: inline-block !important;position: relative;}#sk-container-id-6 div.sk-text-repr-fallback {display: none;}</style><div id=\"sk-container-id-6\" class=\"sk-top-container\"><div class=\"sk-text-repr-fallback\"><pre>SVR(C=5, epsilon=0.2)</pre><b>In a Jupyter environment, please rerun this cell to show the HTML representation or trust the notebook. <br />On GitHub, the HTML representation is unable to render, please try loading this page with nbviewer.org.</b></div><div class=\"sk-container\" hidden><div class=\"sk-item\"><div class=\"sk-estimator sk-toggleable\"><input class=\"sk-toggleable__control sk-hidden--visually\" id=\"sk-estimator-id-6\" type=\"checkbox\" checked><label for=\"sk-estimator-id-6\" class=\"sk-toggleable__label sk-toggleable__label-arrow\">SVR</label><div class=\"sk-toggleable__content\"><pre>SVR(C=5, epsilon=0.2)</pre></div></div></div></div></div>"
      ],
      "text/plain": [
       "SVR(C=5, epsilon=0.2)"
      ]
     },
     "execution_count": 133,
     "metadata": {},
     "output_type": "execute_result"
    }
   ],
   "source": [
    "# Create the SVR model and fit it to the training data\n",
    "svr = SVR(kernel='rbf', C=5, epsilon=0.2)\n",
    "svr.fit(X_train, y_train)"
   ]
  },
  {
   "cell_type": "code",
   "execution_count": 134,
   "id": "5d3ab213",
   "metadata": {},
   "outputs": [],
   "source": [
    "# Make predictions on the validation set\n",
    "y_pred = svr.predict(X_val)"
   ]
  },
  {
   "cell_type": "code",
   "execution_count": 135,
   "id": "a7cdf058",
   "metadata": {},
   "outputs": [
    {
     "name": "stdout",
     "output_type": "stream",
     "text": [
      "Validation MSE: 3.6851091757920864\n"
     ]
    }
   ],
   "source": [
    "# Calculate the mean squared error on the validation set\n",
    "mse = mean_squared_error(y_val, y_pred)\n",
    "print('Validation MSE:', mse)"
   ]
  },
  {
   "cell_type": "code",
   "execution_count": 136,
   "id": "d05e0c0c",
   "metadata": {},
   "outputs": [
    {
     "data": {
      "text/plain": [
       "array([3.6854945 , 3.89621259, 3.28625368, ..., 3.52402129, 3.96117166,\n",
       "       3.93734823])"
      ]
     },
     "execution_count": 136,
     "metadata": {},
     "output_type": "execute_result"
    }
   ],
   "source": [
    "y_pred"
   ]
  },
  {
   "cell_type": "code",
   "execution_count": 137,
   "id": "ac96982e",
   "metadata": {},
   "outputs": [
    {
     "name": "stdout",
     "output_type": "stream",
     "text": [
      "Pearson correlation coefficient: 0.08\n"
     ]
    }
   ],
   "source": [
    "# Calculate Pearson correlation coefficient between predicted values and target values\n",
    "corr = pearson_corr(y_val, y_pred)\n",
    "\n",
    "# Print the correlation coefficient\n",
    "print(\"Pearson correlation coefficient: {:.2f}\".format(corr))"
   ]
  },
  {
   "cell_type": "code",
   "execution_count": null,
   "id": "431fa7cf",
   "metadata": {},
   "outputs": [],
   "source": []
  },
  {
   "cell_type": "markdown",
   "id": "72f758f3",
   "metadata": {},
   "source": [
    "# Word Level Training"
   ]
  },
  {
   "cell_type": "code",
   "execution_count": 189,
   "id": "f9a54758",
   "metadata": {},
   "outputs": [
    {
     "data": {
      "text/html": [
       "<div>\n",
       "<style scoped>\n",
       "    .dataframe tbody tr th:only-of-type {\n",
       "        vertical-align: middle;\n",
       "    }\n",
       "\n",
       "    .dataframe tbody tr th {\n",
       "        vertical-align: top;\n",
       "    }\n",
       "\n",
       "    .dataframe thead th {\n",
       "        text-align: right;\n",
       "    }\n",
       "</style>\n",
       "<table border=\"1\" class=\"dataframe\">\n",
       "  <thead>\n",
       "    <tr style=\"text-align: right;\">\n",
       "      <th></th>\n",
       "      <th>sent1</th>\n",
       "      <th>sent2</th>\n",
       "      <th>score</th>\n",
       "    </tr>\n",
       "  </thead>\n",
       "  <tbody>\n",
       "    <tr>\n",
       "      <th>0</th>\n",
       "      <td>[a, plane, is, take, off]</td>\n",
       "      <td>[an, air, plane, is, take, off]</td>\n",
       "      <td>5.00</td>\n",
       "    </tr>\n",
       "    <tr>\n",
       "      <th>1</th>\n",
       "      <td>[a, man, is, play, a, larg, flute]</td>\n",
       "      <td>[a, man, is, play, a, flute]</td>\n",
       "      <td>3.80</td>\n",
       "    </tr>\n",
       "    <tr>\n",
       "      <th>2</th>\n",
       "      <td>[a, man, is, spread, unk, chees, on, a, pizza]</td>\n",
       "      <td>[a, man, is, spread, shred, chees, on, an, unk...</td>\n",
       "      <td>3.80</td>\n",
       "    </tr>\n",
       "    <tr>\n",
       "      <th>3</th>\n",
       "      <td>[three, men, are, play, chess]</td>\n",
       "      <td>[two, men, are, play, chess]</td>\n",
       "      <td>2.60</td>\n",
       "    </tr>\n",
       "    <tr>\n",
       "      <th>4</th>\n",
       "      <td>[a, man, is, play, the, cello]</td>\n",
       "      <td>[a, man, seat, is, play, the, cello]</td>\n",
       "      <td>4.25</td>\n",
       "    </tr>\n",
       "  </tbody>\n",
       "</table>\n",
       "</div>"
      ],
      "text/plain": [
       "                                            sent1  \\\n",
       "0                       [a, plane, is, take, off]   \n",
       "1              [a, man, is, play, a, larg, flute]   \n",
       "2  [a, man, is, spread, unk, chees, on, a, pizza]   \n",
       "3                  [three, men, are, play, chess]   \n",
       "4                  [a, man, is, play, the, cello]   \n",
       "\n",
       "                                               sent2  score  \n",
       "0                    [an, air, plane, is, take, off]   5.00  \n",
       "1                       [a, man, is, play, a, flute]   3.80  \n",
       "2  [a, man, is, spread, shred, chees, on, an, unk...   3.80  \n",
       "3                       [two, men, are, play, chess]   2.60  \n",
       "4               [a, man, seat, is, play, the, cello]   4.25  "
      ]
     },
     "execution_count": 189,
     "metadata": {},
     "output_type": "execute_result"
    }
   ],
   "source": [
    "train_df.head()"
   ]
  },
  {
   "cell_type": "code",
   "execution_count": 190,
   "id": "f17dea76",
   "metadata": {},
   "outputs": [],
   "source": [
    "import gensim.downloader as api"
   ]
  },
  {
   "cell_type": "code",
   "execution_count": 191,
   "id": "9f69e1b1",
   "metadata": {},
   "outputs": [],
   "source": [
    "sentences1 = train_df[\"sent1\"].tolist()\n",
    "sentences2 = train_df[\"sent2\"].tolist()\n",
    "scores = train_df[\"score\"].tolist()"
   ]
  },
  {
   "cell_type": "code",
   "execution_count": 192,
   "id": "c118d67d",
   "metadata": {},
   "outputs": [
    {
     "name": "stdout",
     "output_type": "stream",
     "text": [
      "[==================================================] 100.0% 1662.8/1662.8MB downloaded\n"
     ]
    }
   ],
   "source": [
    "# Load pre-trained word2vec embeddings\n",
    "wv = api.load(\"word2vec-google-news-300\")"
   ]
  },
  {
   "cell_type": "code",
   "execution_count": 299,
   "id": "936a1e65",
   "metadata": {},
   "outputs": [],
   "source": [
    "from torch.utils.data import Dataset, DataLoader\n",
    "# Define the dataset\n",
    "class STSDataset(Dataset):\n",
    "    def __init__(self, data, word2vec_model, max_seq_len):\n",
    "        self.data = data\n",
    "        self.word2vec_model = word2vec_model\n",
    "        self.max_seq_len = max_seq_len\n",
    "\n",
    "    def __len__(self):\n",
    "        return len(self.data)\n",
    "\n",
    "    def __getitem__(self, index):\n",
    "        sent1 = self.data.iloc[index, 0]\n",
    "        sent2 = self.data.iloc[index, 1]\n",
    "        score = self.data.iloc[index, 2]\n",
    "\n",
    "        # tokenize sentences and convert to word2vec embeddings\n",
    "        tokens1 = sent1\n",
    "        tokens2 = sent2\n",
    "        sent1_emb = [self.word2vec_model[token] for token in tokens1 if token in self.word2vec_model.key_to_index]\n",
    "        sent2_emb = [self.word2vec_model[token] for token in tokens2 if token in self.word2vec_model.key_to_index]\n",
    "\n",
    "        # pad embeddings to max_len\n",
    "        sent1_emb_padded = self.pad_embeddings(sent1_emb, self.max_seq_len)\n",
    "        sent2_emb_padded = self.pad_embeddings(sent2_emb, self.max_seq_len)\n",
    "\n",
    "        # convert to tensors\n",
    "        sent1_tensor = torch.tensor(sent1_emb_padded)\n",
    "        sent2_tensor = torch.tensor(sent2_emb_padded)\n",
    "        score_tensor = torch.tensor(score, dtype=torch.float32)\n",
    "\n",
    "        return sent1_tensor, sent2_tensor, score_tensor\n",
    "#         print(\"inside item\")\n",
    "#         sent1 = self.data.iloc[idx]['sent1']\n",
    "#         sent2 = self.data.iloc[idx]['sent2']\n",
    "#         score = self.data.iloc[idx]['score']\n",
    "        \n",
    "#         # Pad or truncate the sentence embeddings to max_seq_len\n",
    "#         emb1 = self.get_embedding(sent1)[:self.max_seq_len]\n",
    "#         emb2 = self.get_embedding(sent2)[:self.max_seq_len]\n",
    "#         pad_len = self.max_seq_len - len(emb1)\n",
    "#         if pad_len > 0:\n",
    "#             emb1 += [np.zeros(300)] * pad_len\n",
    "#             emb2 += [np.zeros(300)] * pad_len\n",
    "#         else:\n",
    "#             print(\"negative pad len is \", pad_len)\n",
    "        \n",
    "#         # Convert embeddings to tensor\n",
    "#         emb1 = torch.tensor(emb1)\n",
    "#         emb2 = torch.tensor(emb2)\n",
    "#         score = torch.tensor(score, dtype=torch.float32)\n",
    "#         return emb1, emb2, score\n",
    "        \n",
    "    \n",
    "    def get_embedding(self, sentence):\n",
    "        # Convert sentence to word embeddings\n",
    "        words = sentence\n",
    "        embeddings = []\n",
    "        for word in words:\n",
    "            if word in self.word2vec_model.key_to_index:\n",
    "                embeddings.append(self.word2vec_model[word])\n",
    "        return embeddings\n",
    "    \n",
    "    def pad_embeddings(self, embeddings, max_len):\n",
    "        if len(embeddings) >= max_len:\n",
    "            return embeddings[:max_len]\n",
    "        else:\n",
    "            padding = [[0] * self.word2vec_model.vector_size] * (max_len - len(embeddings))\n",
    "            return embeddings + padding\n"
   ]
  },
  {
   "cell_type": "code",
   "execution_count": 300,
   "id": "b6d20602",
   "metadata": {},
   "outputs": [],
   "source": [
    "dataset = STSDataset(train_df, wv, max_seq_len=60)"
   ]
  },
  {
   "cell_type": "code",
   "execution_count": 301,
   "id": "446f843e",
   "metadata": {},
   "outputs": [],
   "source": [
    "val_dataset = STSDataset(val_df, wv, max_seq_len=60)"
   ]
  },
  {
   "cell_type": "code",
   "execution_count": 302,
   "id": "842ce870",
   "metadata": {},
   "outputs": [],
   "source": [
    "import torch\n",
    "# # Split the dataset into train and validation sets\n",
    "# train_size = int(0.8 * len(dataset))\n",
    "# val_size = len(dataset) - train_size\n",
    "# train_dataset, val_dataset = torch.utils.data.random_split(dataset, [train_size, val_size])"
   ]
  },
  {
   "cell_type": "code",
   "execution_count": 303,
   "id": "9834f960",
   "metadata": {},
   "outputs": [],
   "source": [
    "train_dataloader = DataLoader(dataset, batch_size=32, shuffle=True)\n",
    "val_dataloader = DataLoader(val_dataset, batch_size=32, shuffle=True)"
   ]
  },
  {
   "cell_type": "code",
   "execution_count": null,
   "id": "b9ef9a61",
   "metadata": {},
   "outputs": [],
   "source": []
  },
  {
   "cell_type": "code",
   "execution_count": 394,
   "id": "195f4581",
   "metadata": {},
   "outputs": [],
   "source": [
    "import torch.nn as nn\n",
    "import torch.optim as optim\n",
    "class BiLSTM(nn.Module):\n",
    "    def __init__(self, input_size, hidden_size, output_size, num_layers=2, dropout=0.2):\n",
    "        super().__init__()\n",
    "        self.hidden_size = hidden_size\n",
    "        self.num_layers = num_layers\n",
    "        self.dropout = nn.Dropout(dropout)\n",
    "        self.lstm = nn.LSTM(input_size, hidden_size, num_layers=num_layers, batch_first=True, bidirectional=True)\n",
    "        self.fc = nn.Linear(hidden_size*1, output_size)\n",
    "    \n",
    "    def forward(self, x1, x2):\n",
    "        #h0 = torch.zeros(self.num_layers*2, x1.size(0), self.hidden_size).to(x1.device)\n",
    "        #c0 = torch.zeros(self.num_layers*2, x1.size(0), self.hidden_size).to(x1.device)\n",
    "        out1, _ = self.lstm(x1)\n",
    "        out2, _ = self.lstm(x2)\n",
    "        out = torch.cat((out1[:, -1, :], out1[:, 0, :], out2[:, -1, :], out2[:, 0, :]), dim=1)\n",
    "        print(out.shape)\n",
    "        out = self.dropout(out)\n",
    "        print(\"error here\")\n",
    "        out = self.fc(out)\n",
    "        return out.squeeze()\n",
    "\n",
    "\n",
    "\n",
    "\n",
    "class BiLSTMRegression(nn.Module):\n",
    "    def __init__(self, input_dim, hidden_dim, num_layers):\n",
    "        super().__init__()\n",
    "        self.input_dim = input_dim\n",
    "        self.hidden_dim = hidden_dim\n",
    "        self.num_layers = num_layers\n",
    "        self.bilstm = nn.LSTM(input_dim, hidden_dim, num_layers=num_layers, batch_first=True, bidirectional=True)\n",
    "        self.fc = nn.Linear(hidden_dim*2, 1)\n",
    "\n",
    "    def forward(self, x1, x2):\n",
    "        print(x1.shape, x2.shape)\n",
    "        x = torch.cat((x1, x2), dim=1)\n",
    "        print(x.shape)\n",
    "        #x = x.view(len(x), 1, -1)\n",
    "        #print(x.shape)\n",
    "        h0 = torch.zeros(self.num_layers*2, len(x), self.hidden_dim).to(x.device)\n",
    "        c0 = torch.zeros(self.num_layers*2, len(x), self.hidden_dim).to(x.device)\n",
    "        out, _ = self.bilstm(x, (h0, c0))\n",
    "        out = self.fc(out[:, -1, :])\n",
    "        return out"
   ]
  },
  {
   "cell_type": "code",
   "execution_count": 395,
   "id": "107cfea3",
   "metadata": {},
   "outputs": [],
   "source": [
    "batch_size = 32\n",
    "input_dim = 300 # The dimension of the word embeddings\n",
    "hidden_dim = 128\n",
    "output_dim = 1\n",
    "lr = 0.001\n",
    "num_epochs = 2"
   ]
  },
  {
   "cell_type": "code",
   "execution_count": 396,
   "id": "b6972593",
   "metadata": {},
   "outputs": [],
   "source": [
    "input_size = 300\n",
    "hidden_size = 128\n",
    "output_size = 1\n",
    "num_layers = 2\n",
    "dropout = 0.2\n",
    "num_epochs = 10\n",
    "weight_decay = 1e-4\n",
    "#lr = 1e-3\n",
    "\n",
    "model = BiLSTM(input_size, hidden_size, output_size, num_layers=num_layers, dropout=dropout)\n",
    "#model = BiLSTMRegression(input_dim*2, hidden_dim, num_layers=2)\n",
    "#model = BiLSTM(input_size = 300, hidden_size=hidden_dim, output_size=output_dim)\n",
    "#optimizer = optim.Adam(model.parameters(), lr=lr)\n",
    "optimizer = optim.Adam(model.parameters(), lr=lr, weight_decay=weight_decay)\n",
    "\n",
    "# Define the loss function\n",
    "loss_fn = nn.MSELoss()"
   ]
  },
  {
   "cell_type": "code",
   "execution_count": 397,
   "id": "c80cec2a",
   "metadata": {},
   "outputs": [],
   "source": [
    "# training function\n",
    "def train(model, train_loader, val_loader, num_epochs, weight_decay, lr):\n",
    "    criterion = nn.MSELoss()\n",
    "    optimizer = optim.Adam(model.parameters(), lr=lr, weight_decay=weight_decay)\n",
    "    best_val_loss = float('inf')\n",
    "    for epoch in range(num_epochs):\n",
    "        train_loss = 0.0\n",
    "        for x1, x2, y in train_loader:\n",
    "            optimizer.zero_grad()\n",
    "            y_pred = model(x1, x2)\n",
    "            loss = criterion(y_pred, y)\n",
    "            loss.backward()\n",
    "            optimizer.step()\n",
    "            train_loss += loss.item() * len(y)\n",
    "        train_loss /= len(train_loader.dataset)\n",
    "        val_loss = 0.0\n",
    "        for x1, x2, y in val_loader:\n",
    "            with torch.no_grad():\n",
    "                y_pred = model(x1, x2)\n",
    "                val_loss += criterion(y_pred, y).item() * len(y)\n",
    "        val_loss /= len(val_loader.dataset)\n",
    "        print(f\"Epoch {epoch+1}: train_loss={train_loss:.4f}, val_loss={val_loss:.4f}\")\n",
    "        if val_loss < best_val_loss:\n",
    "            best_val_loss = val_loss\n",
    "            torch.save(model.state_dict(), \"best_model.pt\")\n",
    "            "
   ]
  },
  {
   "cell_type": "code",
   "execution_count": 398,
   "id": "5a70e60e",
   "metadata": {},
   "outputs": [
    {
     "name": "stdout",
     "output_type": "stream",
     "text": [
      "torch.Size([32, 1024])\n",
      "error here\n"
     ]
    },
    {
     "ename": "RuntimeError",
     "evalue": "mat1 and mat2 shapes cannot be multiplied (32x1024 and 128x1)",
     "output_type": "error",
     "traceback": [
      "\u001b[0;31m---------------------------------------------------------------------------\u001b[0m",
      "\u001b[0;31mRuntimeError\u001b[0m                              Traceback (most recent call last)",
      "Cell \u001b[0;32mIn [398], line 1\u001b[0m\n\u001b[0;32m----> 1\u001b[0m \u001b[43mtrain\u001b[49m\u001b[43m(\u001b[49m\u001b[43mmodel\u001b[49m\u001b[43m,\u001b[49m\u001b[43m \u001b[49m\u001b[43mtrain_dataloader\u001b[49m\u001b[43m,\u001b[49m\u001b[43m \u001b[49m\u001b[43mval_dataloader\u001b[49m\u001b[43m,\u001b[49m\u001b[43m \u001b[49m\u001b[43mnum_epochs\u001b[49m\u001b[43m,\u001b[49m\u001b[43m \u001b[49m\u001b[43mweight_decay\u001b[49m\u001b[43m,\u001b[49m\u001b[43m \u001b[49m\u001b[43mlr\u001b[49m\u001b[43m)\u001b[49m\n",
      "Cell \u001b[0;32mIn [397], line 10\u001b[0m, in \u001b[0;36mtrain\u001b[0;34m(model, train_loader, val_loader, num_epochs, weight_decay, lr)\u001b[0m\n\u001b[1;32m      8\u001b[0m \u001b[38;5;28;01mfor\u001b[39;00m x1, x2, y \u001b[38;5;129;01min\u001b[39;00m train_loader:\n\u001b[1;32m      9\u001b[0m     optimizer\u001b[38;5;241m.\u001b[39mzero_grad()\n\u001b[0;32m---> 10\u001b[0m     y_pred \u001b[38;5;241m=\u001b[39m \u001b[43mmodel\u001b[49m\u001b[43m(\u001b[49m\u001b[43mx1\u001b[49m\u001b[43m,\u001b[49m\u001b[43m \u001b[49m\u001b[43mx2\u001b[49m\u001b[43m)\u001b[49m\n\u001b[1;32m     11\u001b[0m     loss \u001b[38;5;241m=\u001b[39m criterion(y_pred, y)\n\u001b[1;32m     12\u001b[0m     loss\u001b[38;5;241m.\u001b[39mbackward()\n",
      "File \u001b[0;32m~/opt/anaconda3/envs/nlp_venv/lib/python3.9/site-packages/torch/nn/modules/module.py:727\u001b[0m, in \u001b[0;36mModule._call_impl\u001b[0;34m(self, *input, **kwargs)\u001b[0m\n\u001b[1;32m    725\u001b[0m     result \u001b[38;5;241m=\u001b[39m \u001b[38;5;28mself\u001b[39m\u001b[38;5;241m.\u001b[39m_slow_forward(\u001b[38;5;241m*\u001b[39m\u001b[38;5;28minput\u001b[39m, \u001b[38;5;241m*\u001b[39m\u001b[38;5;241m*\u001b[39mkwargs)\n\u001b[1;32m    726\u001b[0m \u001b[38;5;28;01melse\u001b[39;00m:\n\u001b[0;32m--> 727\u001b[0m     result \u001b[38;5;241m=\u001b[39m \u001b[38;5;28;43mself\u001b[39;49m\u001b[38;5;241;43m.\u001b[39;49m\u001b[43mforward\u001b[49m\u001b[43m(\u001b[49m\u001b[38;5;241;43m*\u001b[39;49m\u001b[38;5;28;43minput\u001b[39;49m\u001b[43m,\u001b[49m\u001b[43m \u001b[49m\u001b[38;5;241;43m*\u001b[39;49m\u001b[38;5;241;43m*\u001b[39;49m\u001b[43mkwargs\u001b[49m\u001b[43m)\u001b[49m\n\u001b[1;32m    728\u001b[0m \u001b[38;5;28;01mfor\u001b[39;00m hook \u001b[38;5;129;01min\u001b[39;00m itertools\u001b[38;5;241m.\u001b[39mchain(\n\u001b[1;32m    729\u001b[0m         _global_forward_hooks\u001b[38;5;241m.\u001b[39mvalues(),\n\u001b[1;32m    730\u001b[0m         \u001b[38;5;28mself\u001b[39m\u001b[38;5;241m.\u001b[39m_forward_hooks\u001b[38;5;241m.\u001b[39mvalues()):\n\u001b[1;32m    731\u001b[0m     hook_result \u001b[38;5;241m=\u001b[39m hook(\u001b[38;5;28mself\u001b[39m, \u001b[38;5;28minput\u001b[39m, result)\n",
      "Cell \u001b[0;32mIn [394], line 21\u001b[0m, in \u001b[0;36mBiLSTM.forward\u001b[0;34m(self, x1, x2)\u001b[0m\n\u001b[1;32m     19\u001b[0m out \u001b[38;5;241m=\u001b[39m \u001b[38;5;28mself\u001b[39m\u001b[38;5;241m.\u001b[39mdropout(out)\n\u001b[1;32m     20\u001b[0m \u001b[38;5;28mprint\u001b[39m(\u001b[38;5;124m\"\u001b[39m\u001b[38;5;124merror here\u001b[39m\u001b[38;5;124m\"\u001b[39m)\n\u001b[0;32m---> 21\u001b[0m out \u001b[38;5;241m=\u001b[39m \u001b[38;5;28;43mself\u001b[39;49m\u001b[38;5;241;43m.\u001b[39;49m\u001b[43mfc\u001b[49m\u001b[43m(\u001b[49m\u001b[43mout\u001b[49m\u001b[43m)\u001b[49m\n\u001b[1;32m     22\u001b[0m \u001b[38;5;28;01mreturn\u001b[39;00m out\u001b[38;5;241m.\u001b[39msqueeze()\n",
      "File \u001b[0;32m~/opt/anaconda3/envs/nlp_venv/lib/python3.9/site-packages/torch/nn/modules/module.py:727\u001b[0m, in \u001b[0;36mModule._call_impl\u001b[0;34m(self, *input, **kwargs)\u001b[0m\n\u001b[1;32m    725\u001b[0m     result \u001b[38;5;241m=\u001b[39m \u001b[38;5;28mself\u001b[39m\u001b[38;5;241m.\u001b[39m_slow_forward(\u001b[38;5;241m*\u001b[39m\u001b[38;5;28minput\u001b[39m, \u001b[38;5;241m*\u001b[39m\u001b[38;5;241m*\u001b[39mkwargs)\n\u001b[1;32m    726\u001b[0m \u001b[38;5;28;01melse\u001b[39;00m:\n\u001b[0;32m--> 727\u001b[0m     result \u001b[38;5;241m=\u001b[39m \u001b[38;5;28;43mself\u001b[39;49m\u001b[38;5;241;43m.\u001b[39;49m\u001b[43mforward\u001b[49m\u001b[43m(\u001b[49m\u001b[38;5;241;43m*\u001b[39;49m\u001b[38;5;28;43minput\u001b[39;49m\u001b[43m,\u001b[49m\u001b[43m \u001b[49m\u001b[38;5;241;43m*\u001b[39;49m\u001b[38;5;241;43m*\u001b[39;49m\u001b[43mkwargs\u001b[49m\u001b[43m)\u001b[49m\n\u001b[1;32m    728\u001b[0m \u001b[38;5;28;01mfor\u001b[39;00m hook \u001b[38;5;129;01min\u001b[39;00m itertools\u001b[38;5;241m.\u001b[39mchain(\n\u001b[1;32m    729\u001b[0m         _global_forward_hooks\u001b[38;5;241m.\u001b[39mvalues(),\n\u001b[1;32m    730\u001b[0m         \u001b[38;5;28mself\u001b[39m\u001b[38;5;241m.\u001b[39m_forward_hooks\u001b[38;5;241m.\u001b[39mvalues()):\n\u001b[1;32m    731\u001b[0m     hook_result \u001b[38;5;241m=\u001b[39m hook(\u001b[38;5;28mself\u001b[39m, \u001b[38;5;28minput\u001b[39m, result)\n",
      "File \u001b[0;32m~/opt/anaconda3/envs/nlp_venv/lib/python3.9/site-packages/torch/nn/modules/linear.py:93\u001b[0m, in \u001b[0;36mLinear.forward\u001b[0;34m(self, input)\u001b[0m\n\u001b[1;32m     92\u001b[0m \u001b[38;5;28;01mdef\u001b[39;00m \u001b[38;5;21mforward\u001b[39m(\u001b[38;5;28mself\u001b[39m, \u001b[38;5;28minput\u001b[39m: Tensor) \u001b[38;5;241m-\u001b[39m\u001b[38;5;241m>\u001b[39m Tensor:\n\u001b[0;32m---> 93\u001b[0m     \u001b[38;5;28;01mreturn\u001b[39;00m \u001b[43mF\u001b[49m\u001b[38;5;241;43m.\u001b[39;49m\u001b[43mlinear\u001b[49m\u001b[43m(\u001b[49m\u001b[38;5;28;43minput\u001b[39;49m\u001b[43m,\u001b[49m\u001b[43m \u001b[49m\u001b[38;5;28;43mself\u001b[39;49m\u001b[38;5;241;43m.\u001b[39;49m\u001b[43mweight\u001b[49m\u001b[43m,\u001b[49m\u001b[43m \u001b[49m\u001b[38;5;28;43mself\u001b[39;49m\u001b[38;5;241;43m.\u001b[39;49m\u001b[43mbias\u001b[49m\u001b[43m)\u001b[49m\n",
      "File \u001b[0;32m~/opt/anaconda3/envs/nlp_venv/lib/python3.9/site-packages/torch/nn/functional.py:1690\u001b[0m, in \u001b[0;36mlinear\u001b[0;34m(input, weight, bias)\u001b[0m\n\u001b[1;32m   1687\u001b[0m         \u001b[38;5;28;01mreturn\u001b[39;00m handle_torch_function(linear, tens_ops, \u001b[38;5;28minput\u001b[39m, weight, bias\u001b[38;5;241m=\u001b[39mbias)\n\u001b[1;32m   1688\u001b[0m \u001b[38;5;28;01mif\u001b[39;00m \u001b[38;5;28minput\u001b[39m\u001b[38;5;241m.\u001b[39mdim() \u001b[38;5;241m==\u001b[39m \u001b[38;5;241m2\u001b[39m \u001b[38;5;129;01mand\u001b[39;00m bias \u001b[38;5;129;01mis\u001b[39;00m \u001b[38;5;129;01mnot\u001b[39;00m \u001b[38;5;28;01mNone\u001b[39;00m:\n\u001b[1;32m   1689\u001b[0m     \u001b[38;5;66;03m# fused op is marginally faster\u001b[39;00m\n\u001b[0;32m-> 1690\u001b[0m     ret \u001b[38;5;241m=\u001b[39m \u001b[43mtorch\u001b[49m\u001b[38;5;241;43m.\u001b[39;49m\u001b[43maddmm\u001b[49m\u001b[43m(\u001b[49m\u001b[43mbias\u001b[49m\u001b[43m,\u001b[49m\u001b[43m \u001b[49m\u001b[38;5;28;43minput\u001b[39;49m\u001b[43m,\u001b[49m\u001b[43m \u001b[49m\u001b[43mweight\u001b[49m\u001b[38;5;241;43m.\u001b[39;49m\u001b[43mt\u001b[49m\u001b[43m(\u001b[49m\u001b[43m)\u001b[49m\u001b[43m)\u001b[49m\n\u001b[1;32m   1691\u001b[0m \u001b[38;5;28;01melse\u001b[39;00m:\n\u001b[1;32m   1692\u001b[0m     output \u001b[38;5;241m=\u001b[39m \u001b[38;5;28minput\u001b[39m\u001b[38;5;241m.\u001b[39mmatmul(weight\u001b[38;5;241m.\u001b[39mt())\n",
      "\u001b[0;31mRuntimeError\u001b[0m: mat1 and mat2 shapes cannot be multiplied (32x1024 and 128x1)"
     ]
    }
   ],
   "source": [
    "train(model, train_dataloader, val_dataloader, num_epochs, weight_decay, lr)"
   ]
  },
  {
   "cell_type": "code",
   "execution_count": 351,
   "id": "22c297a4",
   "metadata": {},
   "outputs": [
    {
     "ename": "RuntimeError",
     "evalue": "mat1 and mat2 shapes cannot be multiplied (32x512 and 256x1)",
     "output_type": "error",
     "traceback": [
      "\u001b[0;31m---------------------------------------------------------------------------\u001b[0m",
      "\u001b[0;31mRuntimeError\u001b[0m                              Traceback (most recent call last)",
      "Cell \u001b[0;32mIn [351], line 7\u001b[0m\n\u001b[1;32m      5\u001b[0m optimizer\u001b[38;5;241m.\u001b[39mzero_grad()\n\u001b[1;32m      6\u001b[0m embeddings1_batch, embeddings2_batch, scores_batch \u001b[38;5;241m=\u001b[39m batch\n\u001b[0;32m----> 7\u001b[0m output \u001b[38;5;241m=\u001b[39m \u001b[43mmodel\u001b[49m\u001b[43m(\u001b[49m\u001b[43membeddings1_batch\u001b[49m\u001b[43m,\u001b[49m\u001b[43m \u001b[49m\u001b[43membeddings2_batch\u001b[49m\u001b[43m)\u001b[49m\n\u001b[1;32m      8\u001b[0m loss \u001b[38;5;241m=\u001b[39m loss_fn(output\u001b[38;5;241m.\u001b[39msqueeze(), scores_batch)\n\u001b[1;32m      9\u001b[0m loss\u001b[38;5;241m.\u001b[39mbackward()\n",
      "File \u001b[0;32m~/opt/anaconda3/envs/nlp_venv/lib/python3.9/site-packages/torch/nn/modules/module.py:727\u001b[0m, in \u001b[0;36mModule._call_impl\u001b[0;34m(self, *input, **kwargs)\u001b[0m\n\u001b[1;32m    725\u001b[0m     result \u001b[38;5;241m=\u001b[39m \u001b[38;5;28mself\u001b[39m\u001b[38;5;241m.\u001b[39m_slow_forward(\u001b[38;5;241m*\u001b[39m\u001b[38;5;28minput\u001b[39m, \u001b[38;5;241m*\u001b[39m\u001b[38;5;241m*\u001b[39mkwargs)\n\u001b[1;32m    726\u001b[0m \u001b[38;5;28;01melse\u001b[39;00m:\n\u001b[0;32m--> 727\u001b[0m     result \u001b[38;5;241m=\u001b[39m \u001b[38;5;28;43mself\u001b[39;49m\u001b[38;5;241;43m.\u001b[39;49m\u001b[43mforward\u001b[49m\u001b[43m(\u001b[49m\u001b[38;5;241;43m*\u001b[39;49m\u001b[38;5;28;43minput\u001b[39;49m\u001b[43m,\u001b[49m\u001b[43m \u001b[49m\u001b[38;5;241;43m*\u001b[39;49m\u001b[38;5;241;43m*\u001b[39;49m\u001b[43mkwargs\u001b[49m\u001b[43m)\u001b[49m\n\u001b[1;32m    728\u001b[0m \u001b[38;5;28;01mfor\u001b[39;00m hook \u001b[38;5;129;01min\u001b[39;00m itertools\u001b[38;5;241m.\u001b[39mchain(\n\u001b[1;32m    729\u001b[0m         _global_forward_hooks\u001b[38;5;241m.\u001b[39mvalues(),\n\u001b[1;32m    730\u001b[0m         \u001b[38;5;28mself\u001b[39m\u001b[38;5;241m.\u001b[39m_forward_hooks\u001b[38;5;241m.\u001b[39mvalues()):\n\u001b[1;32m    731\u001b[0m     hook_result \u001b[38;5;241m=\u001b[39m hook(\u001b[38;5;28mself\u001b[39m, \u001b[38;5;28minput\u001b[39m, result)\n",
      "Cell \u001b[0;32mIn [348], line 20\u001b[0m, in \u001b[0;36mBiLSTM.forward\u001b[0;34m(self, x1, x2)\u001b[0m\n\u001b[1;32m     18\u001b[0m out \u001b[38;5;241m=\u001b[39m torch\u001b[38;5;241m.\u001b[39mcat((out1[:, \u001b[38;5;241m-\u001b[39m\u001b[38;5;241m1\u001b[39m, :], out2[:, \u001b[38;5;241m-\u001b[39m\u001b[38;5;241m1\u001b[39m, :]), dim\u001b[38;5;241m=\u001b[39m\u001b[38;5;241m1\u001b[39m)\n\u001b[1;32m     19\u001b[0m out \u001b[38;5;241m=\u001b[39m \u001b[38;5;28mself\u001b[39m\u001b[38;5;241m.\u001b[39mdropout(out)\n\u001b[0;32m---> 20\u001b[0m out \u001b[38;5;241m=\u001b[39m \u001b[38;5;28;43mself\u001b[39;49m\u001b[38;5;241;43m.\u001b[39;49m\u001b[43mfc\u001b[49m\u001b[43m(\u001b[49m\u001b[43mout\u001b[49m\u001b[43m)\u001b[49m\n\u001b[1;32m     21\u001b[0m \u001b[38;5;28;01mreturn\u001b[39;00m out\u001b[38;5;241m.\u001b[39msqueeze()\n",
      "File \u001b[0;32m~/opt/anaconda3/envs/nlp_venv/lib/python3.9/site-packages/torch/nn/modules/module.py:727\u001b[0m, in \u001b[0;36mModule._call_impl\u001b[0;34m(self, *input, **kwargs)\u001b[0m\n\u001b[1;32m    725\u001b[0m     result \u001b[38;5;241m=\u001b[39m \u001b[38;5;28mself\u001b[39m\u001b[38;5;241m.\u001b[39m_slow_forward(\u001b[38;5;241m*\u001b[39m\u001b[38;5;28minput\u001b[39m, \u001b[38;5;241m*\u001b[39m\u001b[38;5;241m*\u001b[39mkwargs)\n\u001b[1;32m    726\u001b[0m \u001b[38;5;28;01melse\u001b[39;00m:\n\u001b[0;32m--> 727\u001b[0m     result \u001b[38;5;241m=\u001b[39m \u001b[38;5;28;43mself\u001b[39;49m\u001b[38;5;241;43m.\u001b[39;49m\u001b[43mforward\u001b[49m\u001b[43m(\u001b[49m\u001b[38;5;241;43m*\u001b[39;49m\u001b[38;5;28;43minput\u001b[39;49m\u001b[43m,\u001b[49m\u001b[43m \u001b[49m\u001b[38;5;241;43m*\u001b[39;49m\u001b[38;5;241;43m*\u001b[39;49m\u001b[43mkwargs\u001b[49m\u001b[43m)\u001b[49m\n\u001b[1;32m    728\u001b[0m \u001b[38;5;28;01mfor\u001b[39;00m hook \u001b[38;5;129;01min\u001b[39;00m itertools\u001b[38;5;241m.\u001b[39mchain(\n\u001b[1;32m    729\u001b[0m         _global_forward_hooks\u001b[38;5;241m.\u001b[39mvalues(),\n\u001b[1;32m    730\u001b[0m         \u001b[38;5;28mself\u001b[39m\u001b[38;5;241m.\u001b[39m_forward_hooks\u001b[38;5;241m.\u001b[39mvalues()):\n\u001b[1;32m    731\u001b[0m     hook_result \u001b[38;5;241m=\u001b[39m hook(\u001b[38;5;28mself\u001b[39m, \u001b[38;5;28minput\u001b[39m, result)\n",
      "File \u001b[0;32m~/opt/anaconda3/envs/nlp_venv/lib/python3.9/site-packages/torch/nn/modules/linear.py:93\u001b[0m, in \u001b[0;36mLinear.forward\u001b[0;34m(self, input)\u001b[0m\n\u001b[1;32m     92\u001b[0m \u001b[38;5;28;01mdef\u001b[39;00m \u001b[38;5;21mforward\u001b[39m(\u001b[38;5;28mself\u001b[39m, \u001b[38;5;28minput\u001b[39m: Tensor) \u001b[38;5;241m-\u001b[39m\u001b[38;5;241m>\u001b[39m Tensor:\n\u001b[0;32m---> 93\u001b[0m     \u001b[38;5;28;01mreturn\u001b[39;00m \u001b[43mF\u001b[49m\u001b[38;5;241;43m.\u001b[39;49m\u001b[43mlinear\u001b[49m\u001b[43m(\u001b[49m\u001b[38;5;28;43minput\u001b[39;49m\u001b[43m,\u001b[49m\u001b[43m \u001b[49m\u001b[38;5;28;43mself\u001b[39;49m\u001b[38;5;241;43m.\u001b[39;49m\u001b[43mweight\u001b[49m\u001b[43m,\u001b[49m\u001b[43m \u001b[49m\u001b[38;5;28;43mself\u001b[39;49m\u001b[38;5;241;43m.\u001b[39;49m\u001b[43mbias\u001b[49m\u001b[43m)\u001b[49m\n",
      "File \u001b[0;32m~/opt/anaconda3/envs/nlp_venv/lib/python3.9/site-packages/torch/nn/functional.py:1690\u001b[0m, in \u001b[0;36mlinear\u001b[0;34m(input, weight, bias)\u001b[0m\n\u001b[1;32m   1687\u001b[0m         \u001b[38;5;28;01mreturn\u001b[39;00m handle_torch_function(linear, tens_ops, \u001b[38;5;28minput\u001b[39m, weight, bias\u001b[38;5;241m=\u001b[39mbias)\n\u001b[1;32m   1688\u001b[0m \u001b[38;5;28;01mif\u001b[39;00m \u001b[38;5;28minput\u001b[39m\u001b[38;5;241m.\u001b[39mdim() \u001b[38;5;241m==\u001b[39m \u001b[38;5;241m2\u001b[39m \u001b[38;5;129;01mand\u001b[39;00m bias \u001b[38;5;129;01mis\u001b[39;00m \u001b[38;5;129;01mnot\u001b[39;00m \u001b[38;5;28;01mNone\u001b[39;00m:\n\u001b[1;32m   1689\u001b[0m     \u001b[38;5;66;03m# fused op is marginally faster\u001b[39;00m\n\u001b[0;32m-> 1690\u001b[0m     ret \u001b[38;5;241m=\u001b[39m \u001b[43mtorch\u001b[49m\u001b[38;5;241;43m.\u001b[39;49m\u001b[43maddmm\u001b[49m\u001b[43m(\u001b[49m\u001b[43mbias\u001b[49m\u001b[43m,\u001b[49m\u001b[43m \u001b[49m\u001b[38;5;28;43minput\u001b[39;49m\u001b[43m,\u001b[49m\u001b[43m \u001b[49m\u001b[43mweight\u001b[49m\u001b[38;5;241;43m.\u001b[39;49m\u001b[43mt\u001b[49m\u001b[43m(\u001b[49m\u001b[43m)\u001b[49m\u001b[43m)\u001b[49m\n\u001b[1;32m   1691\u001b[0m \u001b[38;5;28;01melse\u001b[39;00m:\n\u001b[1;32m   1692\u001b[0m     output \u001b[38;5;241m=\u001b[39m \u001b[38;5;28minput\u001b[39m\u001b[38;5;241m.\u001b[39mmatmul(weight\u001b[38;5;241m.\u001b[39mt())\n",
      "\u001b[0;31mRuntimeError\u001b[0m: mat1 and mat2 shapes cannot be multiplied (32x512 and 256x1)"
     ]
    }
   ],
   "source": [
    "for epoch in range(num_epochs):\n",
    "    model.train()\n",
    "    train_loss = 0.0\n",
    "    for batch in train_dataloader:\n",
    "        optimizer.zero_grad()\n",
    "        embeddings1_batch, embeddings2_batch, scores_batch = batch\n",
    "        output = model(embeddings1_batch, embeddings2_batch)\n",
    "        loss = loss_fn(output.squeeze(), scores_batch)\n",
    "        loss.backward()\n",
    "        optimizer.step()\n",
    "        train_loss += loss.item() * len(embeddings1_batch)\n",
    "    train_loss /= len(train_embeddings1)\n",
    "\n",
    "    # Evaluate the model on the validation set\n",
    "    model.eval()\n",
    "    val_loss = 0.0\n",
    "    with torch.no_grad():\n",
    "        for batch in val_dataloader:\n",
    "            embeddings1_batch, embeddings2_batch, scores_batch = batch\n",
    "            val_output = model(embeddings1_batch, embeddings2_batch)\n",
    "            val_loss += loss_fn(val_output.squeeze(), scores_batch).item() * len(embeddings1_batch)\n",
    "        val_loss /= len(val_embeddings1)\n",
    "\n",
    "    print('Epoch {} - Training Loss: {:.4f}, Validation Loss: {:.4f}'.format(epoch+1, train_loss, val_loss))"
   ]
  },
  {
   "cell_type": "code",
   "execution_count": 193,
   "id": "d868694a",
   "metadata": {},
   "outputs": [
    {
     "ename": "KeyError",
     "evalue": "\"Key 'a' not present\"",
     "output_type": "error",
     "traceback": [
      "\u001b[0;31m---------------------------------------------------------------------------\u001b[0m",
      "\u001b[0;31mKeyError\u001b[0m                                  Traceback (most recent call last)",
      "Cell \u001b[0;32mIn [193], line 2\u001b[0m\n\u001b[1;32m      1\u001b[0m \u001b[38;5;66;03m# Convert input sentences into embeddings\u001b[39;00m\n\u001b[0;32m----> 2\u001b[0m input_embeddings1 \u001b[38;5;241m=\u001b[39m np\u001b[38;5;241m.\u001b[39marray([wv[sentence] \u001b[38;5;28;01mfor\u001b[39;00m sentence \u001b[38;5;129;01min\u001b[39;00m sentences1])\n\u001b[1;32m      3\u001b[0m input_embeddings2 \u001b[38;5;241m=\u001b[39m np\u001b[38;5;241m.\u001b[39marray([wv[sentence] \u001b[38;5;28;01mfor\u001b[39;00m sentence \u001b[38;5;129;01min\u001b[39;00m sentences2])\n\u001b[1;32m      5\u001b[0m \u001b[38;5;66;03m# Convert input and output data into PyTorch tensors\u001b[39;00m\n",
      "Cell \u001b[0;32mIn [193], line 2\u001b[0m, in \u001b[0;36m<listcomp>\u001b[0;34m(.0)\u001b[0m\n\u001b[1;32m      1\u001b[0m \u001b[38;5;66;03m# Convert input sentences into embeddings\u001b[39;00m\n\u001b[0;32m----> 2\u001b[0m input_embeddings1 \u001b[38;5;241m=\u001b[39m np\u001b[38;5;241m.\u001b[39marray([\u001b[43mwv\u001b[49m\u001b[43m[\u001b[49m\u001b[43msentence\u001b[49m\u001b[43m]\u001b[49m \u001b[38;5;28;01mfor\u001b[39;00m sentence \u001b[38;5;129;01min\u001b[39;00m sentences1])\n\u001b[1;32m      3\u001b[0m input_embeddings2 \u001b[38;5;241m=\u001b[39m np\u001b[38;5;241m.\u001b[39marray([wv[sentence] \u001b[38;5;28;01mfor\u001b[39;00m sentence \u001b[38;5;129;01min\u001b[39;00m sentences2])\n\u001b[1;32m      5\u001b[0m \u001b[38;5;66;03m# Convert input and output data into PyTorch tensors\u001b[39;00m\n",
      "File \u001b[0;32m~/opt/anaconda3/envs/nlp_venv/lib/python3.9/site-packages/gensim/models/keyedvectors.py:405\u001b[0m, in \u001b[0;36mKeyedVectors.__getitem__\u001b[0;34m(self, key_or_keys)\u001b[0m\n\u001b[1;32m    402\u001b[0m \u001b[38;5;28;01mif\u001b[39;00m \u001b[38;5;28misinstance\u001b[39m(key_or_keys, _KEY_TYPES):\n\u001b[1;32m    403\u001b[0m     \u001b[38;5;28;01mreturn\u001b[39;00m \u001b[38;5;28mself\u001b[39m\u001b[38;5;241m.\u001b[39mget_vector(key_or_keys)\n\u001b[0;32m--> 405\u001b[0m \u001b[38;5;28;01mreturn\u001b[39;00m vstack([\u001b[38;5;28mself\u001b[39m\u001b[38;5;241m.\u001b[39mget_vector(key) \u001b[38;5;28;01mfor\u001b[39;00m key \u001b[38;5;129;01min\u001b[39;00m key_or_keys])\n",
      "File \u001b[0;32m~/opt/anaconda3/envs/nlp_venv/lib/python3.9/site-packages/gensim/models/keyedvectors.py:405\u001b[0m, in \u001b[0;36m<listcomp>\u001b[0;34m(.0)\u001b[0m\n\u001b[1;32m    402\u001b[0m \u001b[38;5;28;01mif\u001b[39;00m \u001b[38;5;28misinstance\u001b[39m(key_or_keys, _KEY_TYPES):\n\u001b[1;32m    403\u001b[0m     \u001b[38;5;28;01mreturn\u001b[39;00m \u001b[38;5;28mself\u001b[39m\u001b[38;5;241m.\u001b[39mget_vector(key_or_keys)\n\u001b[0;32m--> 405\u001b[0m \u001b[38;5;28;01mreturn\u001b[39;00m vstack([\u001b[38;5;28;43mself\u001b[39;49m\u001b[38;5;241;43m.\u001b[39;49m\u001b[43mget_vector\u001b[49m\u001b[43m(\u001b[49m\u001b[43mkey\u001b[49m\u001b[43m)\u001b[49m \u001b[38;5;28;01mfor\u001b[39;00m key \u001b[38;5;129;01min\u001b[39;00m key_or_keys])\n",
      "File \u001b[0;32m~/opt/anaconda3/envs/nlp_venv/lib/python3.9/site-packages/gensim/models/keyedvectors.py:446\u001b[0m, in \u001b[0;36mKeyedVectors.get_vector\u001b[0;34m(self, key, norm)\u001b[0m\n\u001b[1;32m    422\u001b[0m \u001b[38;5;28;01mdef\u001b[39;00m \u001b[38;5;21mget_vector\u001b[39m(\u001b[38;5;28mself\u001b[39m, key, norm\u001b[38;5;241m=\u001b[39m\u001b[38;5;28;01mFalse\u001b[39;00m):\n\u001b[1;32m    423\u001b[0m     \u001b[38;5;124;03m\"\"\"Get the key's vector, as a 1D numpy array.\u001b[39;00m\n\u001b[1;32m    424\u001b[0m \n\u001b[1;32m    425\u001b[0m \u001b[38;5;124;03m    Parameters\u001b[39;00m\n\u001b[0;32m   (...)\u001b[0m\n\u001b[1;32m    444\u001b[0m \n\u001b[1;32m    445\u001b[0m \u001b[38;5;124;03m    \"\"\"\u001b[39;00m\n\u001b[0;32m--> 446\u001b[0m     index \u001b[38;5;241m=\u001b[39m \u001b[38;5;28;43mself\u001b[39;49m\u001b[38;5;241;43m.\u001b[39;49m\u001b[43mget_index\u001b[49m\u001b[43m(\u001b[49m\u001b[43mkey\u001b[49m\u001b[43m)\u001b[49m\n\u001b[1;32m    447\u001b[0m     \u001b[38;5;28;01mif\u001b[39;00m norm:\n\u001b[1;32m    448\u001b[0m         \u001b[38;5;28mself\u001b[39m\u001b[38;5;241m.\u001b[39mfill_norms()\n",
      "File \u001b[0;32m~/opt/anaconda3/envs/nlp_venv/lib/python3.9/site-packages/gensim/models/keyedvectors.py:420\u001b[0m, in \u001b[0;36mKeyedVectors.get_index\u001b[0;34m(self, key, default)\u001b[0m\n\u001b[1;32m    418\u001b[0m     \u001b[38;5;28;01mreturn\u001b[39;00m default\n\u001b[1;32m    419\u001b[0m \u001b[38;5;28;01melse\u001b[39;00m:\n\u001b[0;32m--> 420\u001b[0m     \u001b[38;5;28;01mraise\u001b[39;00m \u001b[38;5;167;01mKeyError\u001b[39;00m(\u001b[38;5;124mf\u001b[39m\u001b[38;5;124m\"\u001b[39m\u001b[38;5;124mKey \u001b[39m\u001b[38;5;124m'\u001b[39m\u001b[38;5;132;01m{\u001b[39;00mkey\u001b[38;5;132;01m}\u001b[39;00m\u001b[38;5;124m'\u001b[39m\u001b[38;5;124m not present\u001b[39m\u001b[38;5;124m\"\u001b[39m)\n",
      "\u001b[0;31mKeyError\u001b[0m: \"Key 'a' not present\""
     ]
    }
   ],
   "source": [
    "# Convert input sentences into embeddings\n",
    "input_embeddings1 = np.array([wv[sentence] for sentence in sentences1])\n",
    "input_embeddings2 = np.array([wv[sentence] for sentence in sentences2])\n",
    "\n",
    "# Convert input and output data into PyTorch tensors\n",
    "x1 = torch.tensor(input_embeddings1, dtype=torch.float32)\n",
    "x2 = torch.tensor(input_embeddings2, dtype=torch.float32)\n",
    "y = torch.tensor(scores, dtype=torch.float32)"
   ]
  },
  {
   "cell_type": "markdown",
   "id": "365bfef6",
   "metadata": {},
   "source": [
    "# Word2vec sentence embeddings using mean strategy and Linear regression"
   ]
  },
  {
   "cell_type": "code",
   "execution_count": 402,
   "id": "6bc20e65",
   "metadata": {},
   "outputs": [],
   "source": [
    "import numpy as np\n",
    "import torch\n",
    "import torch.nn as nn\n",
    "from gensim.models import KeyedVectors\n",
    "\n",
    "# load pre-trained Word2Vec model\n",
    "model_path = \"../introduction_to_nlp/GoogleNews-vectors-negative300.bin\"\n",
    "model = KeyedVectors.load_word2vec_format(model_path, binary=True)\n",
    "\n"
   ]
  },
  {
   "cell_type": "code",
   "execution_count": 488,
   "id": "096fb638",
   "metadata": {},
   "outputs": [],
   "source": [
    "# define a function to generate sentence embeddings\n",
    "def get_sentence_embedding(sentence, max_length=30):\n",
    "    # split sentence into words\n",
    "    #words = sentence.split()\n",
    "    words = sentence\n",
    "    # filter out words that are not present in the model's vocabulary\n",
    "    words = [word for word in words if word in model.key_to_index]\n",
    "    # generate word embeddings for each word\n",
    "    embeddings = [model[word] for word in words]\n",
    "    # pad embeddings with zeros if the sentence is shorter than max_length\n",
    "    embedding = np.mean(embeddings, axis=0)\n",
    "    return embedding"
   ]
  },
  {
   "cell_type": "code",
   "execution_count": 458,
   "id": "2f3a61f9",
   "metadata": {},
   "outputs": [],
   "source": [
    "# create a dummy STS dataset\n",
    "sentences = [\n",
    "    (\"The cat is on the mat\", \"A feline is resting on the rug\", 3.9),\n",
    "    (\"She sells sea shells by the seashore\", \"He buys shells by the ocean\", 1.7),\n",
    "    (\"The quick brown fox jumps over the lazy dog\", \"A fast brown fox jumps over a lazy canine\", 4.1),\n",
    "    (\"An apple a day keeps the doctor away\", \"Eating an apple everyday prevents visits to the physician\", 4.6),\n",
    "    (\"The early bird catches the worm\", \"First come, first served\", 2.3)\n",
    "]\n",
    "\n",
    "# split sentences and similarity scores into separate arrays\n",
    "sentences1, sentences2, similarity_scores = zip(*sentences)\n",
    "\n",
    "# generate sentence embeddings\n",
    "X1 = np.array([get_sentence_embedding(sentence) for sentence in sentences1])\n",
    "X2 = np.array([get_sentence_embedding(sentence) for sentence in sentences2])\n",
    "\n",
    "\n",
    "\n"
   ]
  },
  {
   "cell_type": "code",
   "execution_count": 516,
   "id": "8a60c9cb",
   "metadata": {},
   "outputs": [],
   "source": [
    "sentences1 = list(train_df['sent1'])\n",
    "sentences2 = list(train_df['sent2'])\n",
    "similarity_scores = list(train_df['score'])"
   ]
  },
  {
   "cell_type": "code",
   "execution_count": 517,
   "id": "0ed6279c",
   "metadata": {},
   "outputs": [],
   "source": [
    "# generate sentence embeddings\n",
    "X1 = np.array([get_sentence_embedding(sentence) for sentence in sentences1])\n",
    "X2 = np.array([get_sentence_embedding(sentence) for sentence in sentences2])"
   ]
  },
  {
   "cell_type": "code",
   "execution_count": 491,
   "id": "f367606b",
   "metadata": {},
   "outputs": [
    {
     "name": "stdout",
     "output_type": "stream",
     "text": [
      "Similarity score: 3.1779277\n"
     ]
    }
   ],
   "source": [
    "# concatenate sentence embeddings to create feature matrix\n",
    "X = np.concatenate([X1, X2], axis=1)\n",
    "\n",
    "# train a linear regression model\n",
    "reg = LinearRegression().fit(X, similarity_scores)\n",
    "\n",
    "# predict similarity scores between two input sentences\n",
    "def predict_similarity_score(sentence1, sentence2):\n",
    "    X1 = get_sentence_embedding(sentence1)\n",
    "    X2 = get_sentence_embedding(sentence2)\n",
    "    X = np.concatenate([X1, X2]).reshape(1, -1)\n",
    "    return reg.predict(X)[0]\n",
    "\n",
    "# example usage\n",
    "score = predict_similarity_score(\"The cat is on the mat\", \"A feline is resting on the rug\")\n",
    "print(\"Similarity score:\", score)"
   ]
  },
  {
   "cell_type": "code",
   "execution_count": 493,
   "id": "4e3176f3",
   "metadata": {},
   "outputs": [],
   "source": [
    "val_sentences1 = list(val_df['sent1'])\n",
    "val_sentences2 = list(val_df['sent2'])\n",
    "val_similarity_scores = list(val_df['score'])"
   ]
  },
  {
   "cell_type": "code",
   "execution_count": 494,
   "id": "47cf2702",
   "metadata": {},
   "outputs": [],
   "source": [
    "val_X1 = np.array([get_sentence_embedding(sentence) for sentence in val_sentences1])\n",
    "val_X2 = np.array([get_sentence_embedding(sentence) for sentence in val_sentences2])"
   ]
  },
  {
   "cell_type": "code",
   "execution_count": 495,
   "id": "a20b6556",
   "metadata": {},
   "outputs": [],
   "source": [
    "# concatenate sentence embeddings to create feature matrix\n",
    "val_X = np.concatenate([val_X1, val_X2], axis=1)\n",
    "val_y_pred = reg.predict(val_X)"
   ]
  },
  {
   "cell_type": "code",
   "execution_count": 506,
   "id": "208b8841",
   "metadata": {},
   "outputs": [],
   "source": [
    "y_pred = get_sts_scores(X1, X2)"
   ]
  },
  {
   "cell_type": "code",
   "execution_count": 507,
   "id": "6fa63152",
   "metadata": {},
   "outputs": [
    {
     "name": "stdout",
     "output_type": "stream",
     "text": [
      "Pearson correlation coefficient: 0.64\n"
     ]
    }
   ],
   "source": [
    "# Calculate Pearson correlation coefficient between predicted values and target values\n",
    "corr = pearson_corr(similarity_scores, y_pred)\n",
    "\n",
    "# Print the correlation coefficient\n",
    "print(\"Pearson correlation coefficient: {:.2f}\".format(corr))"
   ]
  },
  {
   "cell_type": "code",
   "execution_count": 509,
   "id": "07aca09c",
   "metadata": {},
   "outputs": [],
   "source": [
    "test_sentences1 = list(test_df['sent1'])\n",
    "test_sentences2 = list(test_df['sent2'])\n",
    "test_similarity_scores = list(test_df['score'])"
   ]
  },
  {
   "cell_type": "code",
   "execution_count": 510,
   "id": "4d1975df",
   "metadata": {},
   "outputs": [],
   "source": [
    "test_X1 = np.array([get_sentence_embedding(sentence) for sentence in test_sentences1])\n",
    "test_X2 = np.array([get_sentence_embedding(sentence) for sentence in test_sentences2])"
   ]
  },
  {
   "cell_type": "code",
   "execution_count": 511,
   "id": "6aac6d88",
   "metadata": {},
   "outputs": [],
   "source": [
    "# concatenate sentence embeddings to create feature matrix\n",
    "test_X = np.concatenate([test_X1, test_X2], axis=1)\n",
    "test_y_pred = reg.predict(test_X)"
   ]
  },
  {
   "cell_type": "code",
   "execution_count": 512,
   "id": "f779dc30",
   "metadata": {},
   "outputs": [
    {
     "name": "stdout",
     "output_type": "stream",
     "text": [
      "Pearson correlation coefficient: 0.19\n"
     ]
    }
   ],
   "source": [
    "# Calculate Pearson correlation coefficient between predicted values and target values\n",
    "corr = pearson_corr(test_similarity_scores, test_y_pred)\n",
    "\n",
    "# Print the correlation coefficient\n",
    "print(\"Pearson correlation coefficient: {:.2f}\".format(corr))"
   ]
  },
  {
   "cell_type": "code",
   "execution_count": 513,
   "id": "faa02424",
   "metadata": {},
   "outputs": [],
   "source": [
    "test_y_pred = get_sts_scores(test_X1, test_X2)"
   ]
  },
  {
   "cell_type": "code",
   "execution_count": 514,
   "id": "ea566781",
   "metadata": {},
   "outputs": [
    {
     "name": "stdout",
     "output_type": "stream",
     "text": [
      "Pearson correlation coefficient: 0.55\n"
     ]
    }
   ],
   "source": [
    "# Calculate Pearson correlation coefficient between predicted values and target values\n",
    "corr = pearson_corr(test_similarity_scores, test_y_pred)\n",
    "\n",
    "# Print the correlation coefficient\n",
    "print(\"Pearson correlation coefficient: {:.2f}\".format(corr))"
   ]
  },
  {
   "cell_type": "code",
   "execution_count": 515,
   "id": "e28d002f",
   "metadata": {},
   "outputs": [],
   "source": [
    "# BILstm"
   ]
  },
  {
   "cell_type": "code",
   "execution_count": 519,
   "id": "d0e5b21c",
   "metadata": {},
   "outputs": [],
   "source": [
    "import torch\n",
    "import torch.nn as nn\n",
    "import torch.optim as optim\n",
    "# Convert the data into PyTorch tensors\n",
    "embeddings1 = torch.tensor(X1, dtype=torch.float)\n",
    "embeddings2 = torch.tensor(X2, dtype=torch.float)\n",
    "scores = torch.tensor(similarity_scores, dtype=torch.float)"
   ]
  },
  {
   "cell_type": "code",
   "execution_count": 520,
   "id": "a1ee057d",
   "metadata": {},
   "outputs": [],
   "source": [
    "val_embeddings1 = torch.tensor(val_X1, dtype=torch.float)\n",
    "val_embeddings2 = torch.tensor(val_X2, dtype=torch.float)\n",
    "val_scores = torch.tensor(val_similarity_scores, dtype=torch.float)"
   ]
  },
  {
   "cell_type": "code",
   "execution_count": 666,
   "id": "ded97bb7",
   "metadata": {},
   "outputs": [],
   "source": [
    "# Define the hyperparameters\n",
    "input_dim = 300 # The dimension of the sentence embeddings\n",
    "hidden_dim = 300\n",
    "lr = 0.001\n",
    "num_epochs = 10\n",
    "#batch_size = 10"
   ]
  },
  {
   "cell_type": "code",
   "execution_count": 667,
   "id": "1b6eda1a",
   "metadata": {},
   "outputs": [],
   "source": [
    "class BiLSTMRegression(nn.Module):\n",
    "    def __init__(self, input_dim, hidden_dim, num_layers):\n",
    "        super().__init__()\n",
    "        self.input_dim = input_dim\n",
    "        self.hidden_dim = hidden_dim\n",
    "        self.num_layers = num_layers\n",
    "        self.bilstm = nn.LSTM(input_dim, hidden_dim, num_layers=num_layers, batch_first=True, bidirectional=True)\n",
    "        self.fc = nn.Linear(hidden_dim*2, 1)\n",
    "\n",
    "    def forward(self, x1, x2):\n",
    "        x = torch.cat((x1, x2), dim=1)\n",
    "        x = x.view(len(x), 1, -1)\n",
    "        h0 = torch.zeros(self.num_layers*2, len(x), self.hidden_dim).to(x.device)\n",
    "        c0 = torch.zeros(self.num_layers*2, len(x), self.hidden_dim).to(x.device)\n",
    "        out, _ = self.bilstm(x, (h0, c0))\n",
    "        out = self.fc(out[:, -1, :])\n",
    "        return out\n",
    "    \n",
    "\n",
    "class GRURegression(nn.Module):\n",
    "    def __init__(self, input_dim, hidden_dim, num_layers):\n",
    "        super().__init__()\n",
    "        self.input_dim = input_dim\n",
    "        self.hidden_dim = hidden_dim\n",
    "        self.num_layers = num_layers\n",
    "        self.gru = nn.GRU(input_dim, hidden_dim, num_layers=num_layers, batch_first=True, bidirectional=True)\n",
    "        self.fc = nn.Linear(hidden_dim*2, 1)\n",
    "\n",
    "    def forward(self, x1, x2):\n",
    "        x = torch.cat((x1, x2), dim=1)\n",
    "        x = x.view(len(x), 1, -1)\n",
    "        h0 = torch.zeros(self.num_layers*2, len(x), self.hidden_dim).to(x.device)\n",
    "        out, _ = self.gru(x, h0)\n",
    "        out = self.fc(out[:, -1, :])\n",
    "        return out\n",
    "\n",
    "\n",
    "class BiLSTMAttention(nn.Module):\n",
    "    def __init__(self, input_dim, hidden_dim, num_layers, attention_dim):\n",
    "        super().__init__()\n",
    "        self.input_dim = input_dim\n",
    "        self.hidden_dim = hidden_dim\n",
    "        self.num_layers = num_layers\n",
    "        self.attention_dim = attention_dim\n",
    "        self.bilstm = nn.LSTM(input_dim, hidden_dim, num_layers=num_layers, batch_first=True, bidirectional=True)\n",
    "        self.attention = SelfAttention(hidden_dim*2, attention_dim, 1)\n",
    "        #self.attention = nn.Linear(hidden_dim*2, attention_dim)\n",
    "        #self.softmax = nn.Softmax(dim=1)\n",
    "        self.fc = nn.Linear(hidden_dim*2, 1)\n",
    "\n",
    "    def forward(self, x1, x2):\n",
    "        x = torch.cat((x1, x2), dim=1)\n",
    "        x = x.view(len(x), 1, -1)\n",
    "        h0 = torch.zeros(self.num_layers*2, len(x), self.hidden_dim).to(x.device)\n",
    "        c0 = torch.zeros(self.num_layers*2, len(x), self.hidden_dim).to(x.device)\n",
    "        out, _ = self.bilstm(x, (h0, c0))\n",
    "        #att_weights = self.softmax(self.attention(out))\n",
    "        att_weights = self.attention(out)\n",
    "        out = torch.sum(out * att_weights, dim=1)\n",
    "        out = self.fc(out)\n",
    "        return out\n",
    "\n",
    "class SelfAttention(nn.Module):\n",
    "    \"\"\"\n",
    "    Implementation of the attention block\n",
    "    \"\"\"\n",
    "\n",
    "    def __init__(self, input_size, hidden_size, output_size):\n",
    "        super(SelfAttention, self).__init__()\n",
    "        # TODO implement\n",
    "\n",
    "        # constructing linear layers with weights analogous to Ws1 and Ws2\n",
    "        self.layer1 = nn.Linear(input_size, hidden_size, bias=False)\n",
    "        self.layer2 = nn.Linear(hidden_size, output_size, bias=False)\n",
    "        self.softmax = nn.Softmax(dim=1)\n",
    "\n",
    "    ## the forward function would receive lstm's all hidden states as input\n",
    "    def forward(self, attention_input):\n",
    "        # TODO implement\n",
    "\n",
    "        # implementing the attention mechanism\n",
    "        output = self.layer1(attention_input)\n",
    "        output = torch.tanh(output)\n",
    "        output = self.layer2(output)\n",
    "        #output = F.softmax(output.transpose(1,2), dim=2)\n",
    "        output = self.softmax(output)\n",
    "\n",
    "        return output"
   ]
  },
  {
   "cell_type": "code",
   "execution_count": 668,
   "id": "ba15f516",
   "metadata": {},
   "outputs": [],
   "source": [
    "#model = GRURegression(input_dim*2, hidden_dim, num_layers=2)\n",
    "#model = BiLSTMRegression(input_dim*2, hidden_dim, num_layers=2)\n",
    "model = BiLSTMAttention(input_dim*2, hidden_dim, num_layers=2, attention_dim=600)\n",
    "\n",
    "optimizer = optim.Adam(model.parameters(), lr=lr, weight_decay=1e-5)\n",
    "\n",
    "# Define the loss function\n",
    "loss_fn = nn.MSELoss()"
   ]
  },
  {
   "cell_type": "code",
   "execution_count": 669,
   "id": "2509d6d1",
   "metadata": {},
   "outputs": [],
   "source": [
    "import torch.utils.data as data\n",
    "\n",
    "# Define a custom dataset class\n",
    "class SentenceSimilarityDataset(data.Dataset):\n",
    "    def __init__(self, embeddings1, embeddings2, scores):\n",
    "        self.embeddings1 = embeddings1\n",
    "        self.embeddings2 = embeddings2\n",
    "        self.scores = scores\n",
    "\n",
    "    def __len__(self):\n",
    "        return len(self.embeddings1)\n",
    "\n",
    "    def __getitem__(self, index):\n",
    "        return self.embeddings1[index], self.embeddings2[index], self.scores[index]"
   ]
  },
  {
   "cell_type": "code",
   "execution_count": 670,
   "id": "06b487e3",
   "metadata": {},
   "outputs": [],
   "source": [
    "# Create the dataset\n",
    "train_dataset = SentenceSimilarityDataset(embeddings1, embeddings2, scores)\n",
    "val_dataset = SentenceSimilarityDataset(val_embeddings1, val_embeddings2, val_scores)"
   ]
  },
  {
   "cell_type": "code",
   "execution_count": 671,
   "id": "00e71eee",
   "metadata": {},
   "outputs": [],
   "source": [
    "# Define the batch size\n",
    "batch_size = 10\n",
    "\n",
    "# Create the DataLoader\n",
    "train_dataloader = data.DataLoader(train_dataset, batch_size=batch_size, shuffle=True)\n",
    "val_dataloader = data.DataLoader(val_dataset, batch_size=batch_size, shuffle=True)"
   ]
  },
  {
   "cell_type": "code",
   "execution_count": 672,
   "id": "06ec0498",
   "metadata": {},
   "outputs": [
    {
     "name": "stdout",
     "output_type": "stream",
     "text": [
      "Epoch 1 - Training Loss: 2.1792, Validation Loss: 2.2993\n",
      "Epoch 2 - Training Loss: 1.9532, Validation Loss: 2.3628\n",
      "Epoch 3 - Training Loss: 1.8566, Validation Loss: 2.2451\n",
      "Epoch 4 - Training Loss: 1.7643, Validation Loss: 2.2651\n",
      "Epoch 5 - Training Loss: 1.5890, Validation Loss: 2.2784\n",
      "Epoch 6 - Training Loss: 1.4453, Validation Loss: 2.1212\n",
      "Epoch 7 - Training Loss: 1.3130, Validation Loss: 2.0961\n",
      "Epoch 8 - Training Loss: 1.2090, Validation Loss: 2.0484\n",
      "Epoch 9 - Training Loss: 1.0818, Validation Loss: 1.9569\n",
      "Epoch 10 - Training Loss: 0.9797, Validation Loss: 2.0948\n"
     ]
    }
   ],
   "source": [
    "# Train the model\n",
    "for epoch in range(num_epochs):\n",
    "    model.train()\n",
    "    train_loss = 0.0\n",
    "    for batch in train_dataloader:\n",
    "        optimizer.zero_grad()\n",
    "        embeddings1_batch, embeddings2_batch, scores_batch = batch\n",
    "        output = model(embeddings1_batch, embeddings2_batch)\n",
    "        loss = loss_fn(output.squeeze(), scores_batch)\n",
    "        loss.backward()\n",
    "        optimizer.step()\n",
    "        train_loss += loss.item() * len(embeddings1_batch)\n",
    "    train_loss /= len(train_embeddings1)\n",
    "\n",
    "    # Evaluate the model on the validation set\n",
    "    model.eval()\n",
    "    val_loss = 0.0\n",
    "    with torch.no_grad():\n",
    "        for batch in val_dataloader:\n",
    "            embeddings1_batch, embeddings2_batch, scores_batch = batch\n",
    "            val_output = model(embeddings1_batch, embeddings2_batch)\n",
    "            val_loss += loss_fn(val_output.squeeze(), scores_batch).item() * len(embeddings1_batch)\n",
    "        val_loss /= len(val_embeddings1)\n",
    "\n",
    "    print('Epoch {} - Training Loss: {:.4f}, Validation Loss: {:.4f}'.format(epoch+1, train_loss, val_loss))"
   ]
  },
  {
   "cell_type": "code",
   "execution_count": 663,
   "id": "75ee53ab",
   "metadata": {},
   "outputs": [],
   "source": [
    "test_embeddings1 = torch.tensor(test_X1, dtype=torch.float)\n",
    "test_embeddings2 = torch.tensor(test_X2, dtype=torch.float)\n",
    "test_scores = torch.tensor(test_similarity_scores, dtype=torch.float)\n",
    "model.eval()\n",
    "with torch.no_grad():\n",
    "    test_output = model(test_embeddings1, test_embeddings2)"
   ]
  },
  {
   "cell_type": "code",
   "execution_count": 664,
   "id": "e34da5a1",
   "metadata": {},
   "outputs": [],
   "source": [
    "y_pred_test = test_output.squeeze().tolist()"
   ]
  },
  {
   "cell_type": "code",
   "execution_count": 665,
   "id": "e609cca2",
   "metadata": {},
   "outputs": [
    {
     "name": "stdout",
     "output_type": "stream",
     "text": [
      "Pearson correlation coefficient: 0.37\n"
     ]
    }
   ],
   "source": [
    "corr = pearson_corr(test_similarity_scores, y_pred_test)\n",
    "\n",
    "# Print the correlation coefficient\n",
    "print(\"Pearson correlation coefficient: {:.2f}\".format(corr))"
   ]
  },
  {
   "cell_type": "code",
   "execution_count": null,
   "id": "f440b7b6",
   "metadata": {},
   "outputs": [],
   "source": []
  },
  {
   "cell_type": "markdown",
   "id": "77b32b13",
   "metadata": {},
   "source": [
    "# BILstm Sentence Encoder"
   ]
  },
  {
   "cell_type": "code",
   "execution_count": 815,
   "id": "29dbc7aa",
   "metadata": {},
   "outputs": [],
   "source": [
    "import torch\n",
    "import torch.nn as nn\n",
    "import pandas as pd\n",
    "from torch.utils.data import Dataset, DataLoader\n",
    "\n",
    "# Define the model architecture\n",
    "class RNNSentenceEncoder(nn.Module):\n",
    "    def __init__(self, vocab_size, embedding_dim, hidden_dim, num_layers, bidirectional=True):\n",
    "        super(RNNSentenceEncoder, self).__init__()\n",
    "        self.embedding = nn.Embedding(vocab_size, embedding_dim)\n",
    "        self.rnn = nn.LSTM(input_size=embedding_dim, hidden_size=hidden_dim, num_layers=num_layers, bidirectional=bidirectional)\n",
    "        self.fc = nn.Linear(hidden_dim * 2 if bidirectional else hidden_dim, hidden_dim)\n",
    "        self.relu = nn.ReLU()\n",
    "        \n",
    "    def forward(self, x):\n",
    "        x = self.embedding(x)\n",
    "        x, _ = self.rnn(x)\n",
    "        x = self.fc(x[:, -1, :])\n",
    "        x = self.relu(x)\n",
    "        return x\n",
    "\n",
    "def sent_indicies(sent1):\n",
    "    vocab = {}\n",
    "    for i, (word1, word2) in enumerate(sent1):\n",
    "        if word1 not in vocab:\n",
    "            vocab[word1] = len(vocab)\n",
    "        if word2 not in vocab:\n",
    "            vocab[word2] = len(vocab)\n",
    "\n",
    "    # Convert the list to a list of numerical indices\n",
    "    lst_indices = []\n",
    "    for word1, word2 in sent1:\n",
    "        lst_indices.append((vocab[word1], vocab[word2]))\n",
    "    return lst_indices\n",
    "    \n",
    "class SimilarityModel(nn.Module):\n",
    "    def __init__(self, sentence_encoder):\n",
    "        super(SimilarityModel, self).__init__()\n",
    "        self.encoder = sentence_encoder\n",
    "        self.mlp = nn.Sequential(\n",
    "            nn.Linear(2 * hidden_dim, hidden_dim),\n",
    "            nn.ReLU(),\n",
    "            nn.Linear(hidden_dim, 1)\n",
    "        )\n",
    "        \n",
    "    def forward(self, sentences1, sentences2):\n",
    "        \n",
    "        #print(sent_indicies(sentences1))\n",
    "        #print(sentences1)\n",
    "        \n",
    "        #encoded1 = self.encoder(torch.tensor(sent_indicies(sentences1)))\n",
    "        #encoded2 = self.encoder(torch.tensor(sent_indicies(sentences2)))\n",
    "        #encoded1 = self.encoder(torch.tensor(sentences1))\n",
    "        #encoded2 = self.encoder(torch.tensor(sentences2))\n",
    "        encoded1 = self.encoder(sentences1)\n",
    "        encoded2 = self.encoder(sentences2)\n",
    "        concatenated = torch.cat([encoded1, encoded2], dim=1)\n",
    "        output = self.mlp(concatenated)\n",
    "        return output\n",
    "\n",
    "# Define the dataset\n",
    "class MyDataset(Dataset):\n",
    "    def __init__(self, df):\n",
    "        self.df = df\n",
    "        self.vocab = list(word_dict)\n",
    "        self.vocab.append('unk')\n",
    "        self.vocab.append('<pad>')\n",
    "        #self.vocab = ['<OOV>', 'apple', 'banana', 'orange', 'cat', 'dog', 'grape', 'hello', 'world', '<pad>']\n",
    "        \n",
    "    def __len__(self):\n",
    "        return len(self.df)\n",
    "    \n",
    "    def get_indexes(self, sentence, max_len=100):\n",
    "        indexed_sentence = []\n",
    "        for word in sentence:\n",
    "            if word in self.vocab:\n",
    "                indexed_sentence.append(self.vocab.index(word))\n",
    "            else:\n",
    "                indexed_sentence.append(self.vocab.index('unk'))\n",
    "        diff = abs(max_len - len(indexed_sentence))\n",
    "        if diff > 0:\n",
    "            for i in range(diff):\n",
    "                indexed_sentence.append(self.vocab.index('<pad>'))\n",
    "        return indexed_sentence\n",
    "    \n",
    "    \n",
    "    def __getitem__(self, idx):\n",
    "        row = self.df.iloc[idx]\n",
    "        sentence1 = self.get_indexes(row['sent1'])\n",
    "        sentence2 = self.get_indexes(row['sent2'])\n",
    "        similarity_score = row['score']\n",
    "        return torch.tensor(sentence1), torch.tensor(sentence2), torch.tensor(similarity_score, dtype=torch.float32)\n",
    "\n",
    "# Define the training function\n",
    "def train(model, num_epochs, train_loader, val_loader, optimizer, criterion, device):\n",
    "    for epoch in range(num_epochs):\n",
    "        model.train()\n",
    "        train_loss = 0.0\n",
    "        for batch_idx, (sentences1, sentences2, similarity_scores) in enumerate(train_loader):\n",
    "            # move data to device\n",
    "            sentences1, sentences2, similarity_scores = sentences1.to(device), sentences2.to(device), similarity_scores.to(device)\n",
    "            # zero the parameter gradients\n",
    "            optimizer.zero_grad()\n",
    "\n",
    "            # forward + backward + optimize\n",
    "            outputs = model(sentences1, sentences2)\n",
    "            loss = criterion(outputs, similarity_scores.view(-1, 1))\n",
    "            loss.backward()\n",
    "            optimizer.step()\n",
    "\n",
    "            # calculate statistics\n",
    "            train_loss += loss.item()\n",
    "            #train_correct += torch.sum(torch.abs(outputs - similarity_scores.view(-1, 1)) <= 0.5)\n",
    "\n",
    "#             if batch_idx % 100 == 99:\n",
    "#                 print(f'Train Batch {batch_idx+1}/{len(train_loader)} Loss: {train_loss/(batch_idx+1):.4f}')\n",
    "\n",
    "        train_loss /= len(train_loader)\n",
    "\n",
    "         # Evaluate the model on the validation set\n",
    "        model.eval()\n",
    "        val_loss = 0.0\n",
    "        with torch.no_grad():\n",
    "            for batch_idx, (sentences1, sentences2, similarity_scores) in enumerate(val_loader):\n",
    "                val_output = model(sentences1, sentences2)\n",
    "                loss = criterion(val_output, similarity_scores.view(-1, 1))\n",
    "                val_loss += loss.item()\n",
    "                #val_loss += loss_fn(val_output.squeeze(), scores_batch).item() * len(embeddings1_batch)\n",
    "            val_loss /= len(val_loader)\n",
    "        #train_accuracy = train_correct.double() / len(train_loader.dataset)\n",
    "        print('Epoch {} - Training Loss: {:.4f}, Validation Loss: {:.4f}'.format(epoch+1, train_loss, val_loss))"
   ]
  },
  {
   "cell_type": "code",
   "execution_count": 816,
   "id": "fd0715f1",
   "metadata": {},
   "outputs": [
    {
     "data": {
      "text/html": [
       "<div>\n",
       "<style scoped>\n",
       "    .dataframe tbody tr th:only-of-type {\n",
       "        vertical-align: middle;\n",
       "    }\n",
       "\n",
       "    .dataframe tbody tr th {\n",
       "        vertical-align: top;\n",
       "    }\n",
       "\n",
       "    .dataframe thead th {\n",
       "        text-align: right;\n",
       "    }\n",
       "</style>\n",
       "<table border=\"1\" class=\"dataframe\">\n",
       "  <thead>\n",
       "    <tr style=\"text-align: right;\">\n",
       "      <th></th>\n",
       "      <th>sent1</th>\n",
       "      <th>sent2</th>\n",
       "      <th>score</th>\n",
       "    </tr>\n",
       "  </thead>\n",
       "  <tbody>\n",
       "    <tr>\n",
       "      <th>0</th>\n",
       "      <td>[a, plane, is, take, off]</td>\n",
       "      <td>[an, air, plane, is, take, off]</td>\n",
       "      <td>5.00</td>\n",
       "    </tr>\n",
       "    <tr>\n",
       "      <th>1</th>\n",
       "      <td>[a, man, is, play, a, larg, flute]</td>\n",
       "      <td>[a, man, is, play, a, flute]</td>\n",
       "      <td>3.80</td>\n",
       "    </tr>\n",
       "    <tr>\n",
       "      <th>2</th>\n",
       "      <td>[a, man, is, spread, unk, chees, on, a, pizza]</td>\n",
       "      <td>[a, man, is, spread, shred, chees, on, an, unk...</td>\n",
       "      <td>3.80</td>\n",
       "    </tr>\n",
       "    <tr>\n",
       "      <th>3</th>\n",
       "      <td>[three, men, are, play, chess]</td>\n",
       "      <td>[two, men, are, play, chess]</td>\n",
       "      <td>2.60</td>\n",
       "    </tr>\n",
       "    <tr>\n",
       "      <th>4</th>\n",
       "      <td>[a, man, is, play, the, cello]</td>\n",
       "      <td>[a, man, seat, is, play, the, cello]</td>\n",
       "      <td>4.25</td>\n",
       "    </tr>\n",
       "  </tbody>\n",
       "</table>\n",
       "</div>"
      ],
      "text/plain": [
       "                                            sent1  \\\n",
       "0                       [a, plane, is, take, off]   \n",
       "1              [a, man, is, play, a, larg, flute]   \n",
       "2  [a, man, is, spread, unk, chees, on, a, pizza]   \n",
       "3                  [three, men, are, play, chess]   \n",
       "4                  [a, man, is, play, the, cello]   \n",
       "\n",
       "                                               sent2  score  \n",
       "0                    [an, air, plane, is, take, off]   5.00  \n",
       "1                       [a, man, is, play, a, flute]   3.80  \n",
       "2  [a, man, is, spread, shred, chees, on, an, unk...   3.80  \n",
       "3                       [two, men, are, play, chess]   2.60  \n",
       "4               [a, man, seat, is, play, the, cello]   4.25  "
      ]
     },
     "execution_count": 816,
     "metadata": {},
     "output_type": "execute_result"
    }
   ],
   "source": [
    "train_df.head()"
   ]
  },
  {
   "cell_type": "code",
   "execution_count": 817,
   "id": "32da491e",
   "metadata": {},
   "outputs": [],
   "source": [
    "# Define the dummy data\n",
    "# df = pd.DataFrame({\n",
    "#     'sent1': [['hello', 'world'], ['cat', 'dog',], ['apple', 'banana'],['the', 'dog']],\n",
    "#     'sent2': [['hello', 'world'], ['cat', 'dog', 'apple'], ['apple', 'grape'],['dog', 'cat']],\n",
    "#     'score': [1.0, 0.8, 0.2, 0.6]\n",
    "# })\n",
    "\n",
    "# Define the hyperparameters\n",
    "vocab_size = 10000\n",
    "embedding_dim = 50\n",
    "hidden_dim = 128\n",
    "num_layers = 2\n",
    "bidirectional = True\n",
    "learning_rate = 0.001\n",
    "batch_size = 10\n",
    "num_epochs = 10\n",
    "\n",
    "# Initialize the dataset and dataloader\n",
    "dataset = MyDataset(train_df)\n",
    "dataloader = DataLoader(dataset, batch_size=batch_size, shuffle=True)\n",
    "val_dataset = MyDataset(val_df)\n",
    "val_dataloader = DataLoader(val_dataset, batch_size=batch_size, shuffle=True)\n",
    "\n",
    "# Initialize the model and optimizer\n",
    "device = torch.device('cuda' if torch.cuda.is_available() else 'cpu')\n",
    "sentence_encoder = RNNSentenceEncoder(vocab_size, embedding_dim, hidden_dim, num_layers, bidirectional)\n",
    "model = SimilarityModel(sentence_encoder).to(device)\n",
    "optimizer = torch.optim.Adam(model.parameters(), lr=learning_rate)\n",
    "\n",
    "# Initialize the loss function\n",
    "criterion = nn.MSELoss()\n"
   ]
  },
  {
   "cell_type": "code",
   "execution_count": 818,
   "id": "ac1ca655",
   "metadata": {},
   "outputs": [
    {
     "name": "stdout",
     "output_type": "stream",
     "text": [
      "Epoch 1 - Training Loss: 2.3252, Validation Loss: 2.4165\n",
      "Epoch 2 - Training Loss: 2.2060, Validation Loss: 2.3038\n",
      "Epoch 3 - Training Loss: 2.2026, Validation Loss: 2.2538\n",
      "Epoch 4 - Training Loss: 2.2029, Validation Loss: 2.3357\n",
      "Epoch 5 - Training Loss: 2.1895, Validation Loss: 2.4273\n",
      "Epoch 6 - Training Loss: 2.1954, Validation Loss: 2.3443\n",
      "Epoch 7 - Training Loss: 2.1723, Validation Loss: 2.2564\n",
      "Epoch 8 - Training Loss: 2.1765, Validation Loss: 2.2472\n",
      "Epoch 9 - Training Loss: 2.1752, Validation Loss: 2.3384\n",
      "Epoch 10 - Training Loss: 2.1791, Validation Loss: 2.3437\n"
     ]
    }
   ],
   "source": [
    "train(model, num_epochs, dataloader, val_dataloader, optimizer, criterion, device)"
   ]
  },
  {
   "cell_type": "code",
   "execution_count": 820,
   "id": "d5b18535",
   "metadata": {},
   "outputs": [],
   "source": [
    "# create the test dataset and data loader\n",
    "test_dataset = MyDataset(test_df)\n",
    "test_loader = DataLoader(test_dataset, batch_size=batch_size)\n",
    "\n",
    "# set the model in evaluation mode\n",
    "model.eval()\n",
    "\n",
    "# iterate over the test data and get the model output\n",
    "model_output = []\n",
    "with torch.no_grad():\n",
    "    for sentences1, sentences2, similarity_scores in test_loader:\n",
    "        # move data to device\n",
    "        sentences1, sentences2 = sentences1.to(device), sentences2.to(device)\n",
    "        # get the model output\n",
    "        output = model(sentences1, sentences2)\n",
    "        # append the output to the list\n",
    "        model_output.append(output.cpu().numpy())\n",
    "\n",
    "# concatenate the output from all batches into a single array\n",
    "model_output = np.concatenate(model_output)\n",
    "\n",
    "# convert the output array to a list\n",
    "model_output = model_output.squeeze().tolist()"
   ]
  },
  {
   "cell_type": "code",
   "execution_count": 821,
   "id": "2ed6e268",
   "metadata": {},
   "outputs": [],
   "source": [
    "y_test = list(test_df['score'])"
   ]
  },
  {
   "cell_type": "code",
   "execution_count": 822,
   "id": "c97c9a58",
   "metadata": {},
   "outputs": [
    {
     "name": "stdout",
     "output_type": "stream",
     "text": [
      "Pearson correlation coefficient: -0.04\n"
     ]
    }
   ],
   "source": [
    "corr = pearson_corr(y_test, model_output)\n",
    "\n",
    "# Print the correlation coefficient\n",
    "print(\"Pearson correlation coefficient: {:.2f}\".format(corr))"
   ]
  },
  {
   "cell_type": "code",
   "execution_count": null,
   "id": "ca84c960",
   "metadata": {},
   "outputs": [],
   "source": []
  }
 ],
 "metadata": {
  "kernelspec": {
   "display_name": "nlp_venv",
   "language": "python",
   "name": "nlp_venv"
  },
  "language_info": {
   "codemirror_mode": {
    "name": "ipython",
    "version": 3
   },
   "file_extension": ".py",
   "mimetype": "text/x-python",
   "name": "python",
   "nbconvert_exporter": "python",
   "pygments_lexer": "ipython3",
   "version": "3.9.16"
  }
 },
 "nbformat": 4,
 "nbformat_minor": 5
}
