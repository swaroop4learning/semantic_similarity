{
 "cells": [
  {
   "cell_type": "code",
   "execution_count": 1,
   "id": "63a9c967",
   "metadata": {},
   "outputs": [],
   "source": [
    "import pandas as pd\n",
    "import numpy as np\n",
    "import nltk\n",
    "import re\n",
    "from sklearn.linear_model import LinearRegression\n",
    "from gensim.models import Word2Vec\n",
    "from sklearn.feature_extraction.text import TfidfVectorizer\n",
    "from nltk.stem import WordNetLemmatizer\n",
    "from nltk.stem import PorterStemmer"
   ]
  },
  {
   "cell_type": "code",
   "execution_count": 2,
   "id": "9efbe19b",
   "metadata": {},
   "outputs": [],
   "source": [
    "train_df = pd.read_csv('./data/stsb-en-train.csv', usecols=[0,1,2], names=['sent1', 'sent2', 'score'], header=None)"
   ]
  },
  {
   "cell_type": "code",
   "execution_count": 3,
   "id": "3934ada7",
   "metadata": {},
   "outputs": [
    {
     "data": {
      "text/html": [
       "<div>\n",
       "<style scoped>\n",
       "    .dataframe tbody tr th:only-of-type {\n",
       "        vertical-align: middle;\n",
       "    }\n",
       "\n",
       "    .dataframe tbody tr th {\n",
       "        vertical-align: top;\n",
       "    }\n",
       "\n",
       "    .dataframe thead th {\n",
       "        text-align: right;\n",
       "    }\n",
       "</style>\n",
       "<table border=\"1\" class=\"dataframe\">\n",
       "  <thead>\n",
       "    <tr style=\"text-align: right;\">\n",
       "      <th></th>\n",
       "      <th>sent1</th>\n",
       "      <th>sent2</th>\n",
       "      <th>score</th>\n",
       "    </tr>\n",
       "  </thead>\n",
       "  <tbody>\n",
       "    <tr>\n",
       "      <th>0</th>\n",
       "      <td>A plane is taking off.</td>\n",
       "      <td>An air plane is taking off.</td>\n",
       "      <td>5.00</td>\n",
       "    </tr>\n",
       "    <tr>\n",
       "      <th>1</th>\n",
       "      <td>A man is playing a large flute.</td>\n",
       "      <td>A man is playing a flute.</td>\n",
       "      <td>3.80</td>\n",
       "    </tr>\n",
       "    <tr>\n",
       "      <th>2</th>\n",
       "      <td>A man is spreading shreded cheese on a pizza.</td>\n",
       "      <td>A man is spreading shredded cheese on an uncoo...</td>\n",
       "      <td>3.80</td>\n",
       "    </tr>\n",
       "    <tr>\n",
       "      <th>3</th>\n",
       "      <td>Three men are playing chess.</td>\n",
       "      <td>Two men are playing chess.</td>\n",
       "      <td>2.60</td>\n",
       "    </tr>\n",
       "    <tr>\n",
       "      <th>4</th>\n",
       "      <td>A man is playing the cello.</td>\n",
       "      <td>A man seated is playing the cello.</td>\n",
       "      <td>4.25</td>\n",
       "    </tr>\n",
       "  </tbody>\n",
       "</table>\n",
       "</div>"
      ],
      "text/plain": [
       "                                           sent1  \\\n",
       "0                         A plane is taking off.   \n",
       "1                A man is playing a large flute.   \n",
       "2  A man is spreading shreded cheese on a pizza.   \n",
       "3                   Three men are playing chess.   \n",
       "4                    A man is playing the cello.   \n",
       "\n",
       "                                               sent2  score  \n",
       "0                        An air plane is taking off.   5.00  \n",
       "1                          A man is playing a flute.   3.80  \n",
       "2  A man is spreading shredded cheese on an uncoo...   3.80  \n",
       "3                         Two men are playing chess.   2.60  \n",
       "4                 A man seated is playing the cello.   4.25  "
      ]
     },
     "execution_count": 3,
     "metadata": {},
     "output_type": "execute_result"
    }
   ],
   "source": [
    "train_df.head()"
   ]
  },
  {
   "cell_type": "code",
   "execution_count": 4,
   "id": "f8b561d7",
   "metadata": {},
   "outputs": [],
   "source": [
    "val_df = pd.read_csv('./data/stsb-en-dev.csv', usecols=[0,1,2], names=['sent1', 'sent2', 'score'], header=None)"
   ]
  },
  {
   "cell_type": "code",
   "execution_count": 5,
   "id": "d0a903c5",
   "metadata": {},
   "outputs": [
    {
     "data": {
      "text/html": [
       "<div>\n",
       "<style scoped>\n",
       "    .dataframe tbody tr th:only-of-type {\n",
       "        vertical-align: middle;\n",
       "    }\n",
       "\n",
       "    .dataframe tbody tr th {\n",
       "        vertical-align: top;\n",
       "    }\n",
       "\n",
       "    .dataframe thead th {\n",
       "        text-align: right;\n",
       "    }\n",
       "</style>\n",
       "<table border=\"1\" class=\"dataframe\">\n",
       "  <thead>\n",
       "    <tr style=\"text-align: right;\">\n",
       "      <th></th>\n",
       "      <th>sent1</th>\n",
       "      <th>sent2</th>\n",
       "      <th>score</th>\n",
       "    </tr>\n",
       "  </thead>\n",
       "  <tbody>\n",
       "    <tr>\n",
       "      <th>0</th>\n",
       "      <td>A man with a hard hat is dancing.</td>\n",
       "      <td>A man wearing a hard hat is dancing.</td>\n",
       "      <td>5.00</td>\n",
       "    </tr>\n",
       "    <tr>\n",
       "      <th>1</th>\n",
       "      <td>A young child is riding a horse.</td>\n",
       "      <td>A child is riding a horse.</td>\n",
       "      <td>4.75</td>\n",
       "    </tr>\n",
       "    <tr>\n",
       "      <th>2</th>\n",
       "      <td>A man is feeding a mouse to a snake.</td>\n",
       "      <td>The man is feeding a mouse to the snake.</td>\n",
       "      <td>5.00</td>\n",
       "    </tr>\n",
       "    <tr>\n",
       "      <th>3</th>\n",
       "      <td>A woman is playing the guitar.</td>\n",
       "      <td>A man is playing guitar.</td>\n",
       "      <td>2.40</td>\n",
       "    </tr>\n",
       "    <tr>\n",
       "      <th>4</th>\n",
       "      <td>A woman is playing the flute.</td>\n",
       "      <td>A man is playing a flute.</td>\n",
       "      <td>2.75</td>\n",
       "    </tr>\n",
       "  </tbody>\n",
       "</table>\n",
       "</div>"
      ],
      "text/plain": [
       "                                  sent1  \\\n",
       "0     A man with a hard hat is dancing.   \n",
       "1      A young child is riding a horse.   \n",
       "2  A man is feeding a mouse to a snake.   \n",
       "3        A woman is playing the guitar.   \n",
       "4         A woman is playing the flute.   \n",
       "\n",
       "                                      sent2  score  \n",
       "0      A man wearing a hard hat is dancing.   5.00  \n",
       "1                A child is riding a horse.   4.75  \n",
       "2  The man is feeding a mouse to the snake.   5.00  \n",
       "3                  A man is playing guitar.   2.40  \n",
       "4                 A man is playing a flute.   2.75  "
      ]
     },
     "execution_count": 5,
     "metadata": {},
     "output_type": "execute_result"
    }
   ],
   "source": [
    "val_df.head()"
   ]
  },
  {
   "cell_type": "code",
   "execution_count": 6,
   "id": "e34deeb2",
   "metadata": {},
   "outputs": [],
   "source": [
    "test_df = pd.read_csv('./data/stsb-en-test.csv', usecols=[0,1,2], names=['sent1', 'sent2', 'score'], header=None)"
   ]
  },
  {
   "cell_type": "code",
   "execution_count": 7,
   "id": "e218ab08",
   "metadata": {},
   "outputs": [
    {
     "data": {
      "text/html": [
       "<div>\n",
       "<style scoped>\n",
       "    .dataframe tbody tr th:only-of-type {\n",
       "        vertical-align: middle;\n",
       "    }\n",
       "\n",
       "    .dataframe tbody tr th {\n",
       "        vertical-align: top;\n",
       "    }\n",
       "\n",
       "    .dataframe thead th {\n",
       "        text-align: right;\n",
       "    }\n",
       "</style>\n",
       "<table border=\"1\" class=\"dataframe\">\n",
       "  <thead>\n",
       "    <tr style=\"text-align: right;\">\n",
       "      <th></th>\n",
       "      <th>sent1</th>\n",
       "      <th>sent2</th>\n",
       "      <th>score</th>\n",
       "    </tr>\n",
       "  </thead>\n",
       "  <tbody>\n",
       "    <tr>\n",
       "      <th>0</th>\n",
       "      <td>A girl is styling her hair.</td>\n",
       "      <td>A girl is brushing her hair.</td>\n",
       "      <td>2.5</td>\n",
       "    </tr>\n",
       "    <tr>\n",
       "      <th>1</th>\n",
       "      <td>A group of men play soccer on the beach.</td>\n",
       "      <td>A group of boys are playing soccer on the beach.</td>\n",
       "      <td>3.6</td>\n",
       "    </tr>\n",
       "    <tr>\n",
       "      <th>2</th>\n",
       "      <td>One woman is measuring another woman's ankle.</td>\n",
       "      <td>A woman measures another woman's ankle.</td>\n",
       "      <td>5.0</td>\n",
       "    </tr>\n",
       "    <tr>\n",
       "      <th>3</th>\n",
       "      <td>A man is cutting up a cucumber.</td>\n",
       "      <td>A man is slicing a cucumber.</td>\n",
       "      <td>4.2</td>\n",
       "    </tr>\n",
       "    <tr>\n",
       "      <th>4</th>\n",
       "      <td>A man is playing a harp.</td>\n",
       "      <td>A man is playing a keyboard.</td>\n",
       "      <td>1.5</td>\n",
       "    </tr>\n",
       "  </tbody>\n",
       "</table>\n",
       "</div>"
      ],
      "text/plain": [
       "                                           sent1  \\\n",
       "0                    A girl is styling her hair.   \n",
       "1       A group of men play soccer on the beach.   \n",
       "2  One woman is measuring another woman's ankle.   \n",
       "3                A man is cutting up a cucumber.   \n",
       "4                       A man is playing a harp.   \n",
       "\n",
       "                                              sent2  score  \n",
       "0                      A girl is brushing her hair.    2.5  \n",
       "1  A group of boys are playing soccer on the beach.    3.6  \n",
       "2           A woman measures another woman's ankle.    5.0  \n",
       "3                      A man is slicing a cucumber.    4.2  \n",
       "4                      A man is playing a keyboard.    1.5  "
      ]
     },
     "execution_count": 7,
     "metadata": {},
     "output_type": "execute_result"
    }
   ],
   "source": [
    "test_df.head()"
   ]
  },
  {
   "cell_type": "code",
   "execution_count": 9,
   "id": "030be6fd",
   "metadata": {},
   "outputs": [],
   "source": [
    "nltk.download('wordnet')"
   ]
  },
  {
   "cell_type": "code",
   "execution_count": 10,
   "id": "1db3dcae",
   "metadata": {},
   "outputs": [],
   "source": [
    "lemmatizer = WordNetLemmatizer()\n",
    "ps = PorterStemmer()"
   ]
  },
  {
   "cell_type": "code",
   "execution_count": 11,
   "id": "16be5606",
   "metadata": {},
   "outputs": [],
   "source": [
    "def preprocess_text(text):\n",
    "    # Remove punctuation\n",
    "    text = re.sub(r'[^\\w\\s]', '', text)\n",
    "    # Replace numbers with num\n",
    "    text = re.sub(r'\\d+', '', text)\n",
    "    # Lower case\n",
    "    text= text.lower()\n",
    "    sent_token = text.split()\n",
    "    # Lemmatize\n",
    "    sent_token = [lemmatizer.lemmatize(word) for word in sent_token]\n",
    "    # Stemming\n",
    "    sent_token = [ps.stem(word) for word in sent_token]\n",
    "    return sent_token"
   ]
  },
  {
   "cell_type": "code",
   "execution_count": 12,
   "id": "e7865e84",
   "metadata": {},
   "outputs": [],
   "source": [
    "train_df['sent1'] =train_df['sent1'].apply(lambda x: preprocess_text(x))\n",
    "train_df['sent2'] =train_df['sent2'].apply(lambda x: preprocess_text(x))"
   ]
  },
  {
   "cell_type": "code",
   "execution_count": 13,
   "id": "a64c7a5f",
   "metadata": {},
   "outputs": [],
   "source": [
    "val_df['sent1'] =val_df['sent1'].apply(lambda x: preprocess_text(x))\n",
    "val_df['sent2'] =val_df['sent2'].apply(lambda x: preprocess_text(x))"
   ]
  },
  {
   "cell_type": "code",
   "execution_count": 14,
   "id": "a058fcb3",
   "metadata": {},
   "outputs": [],
   "source": [
    "test_df['sent1'] =test_df['sent1'].apply(lambda x: preprocess_text(x))\n",
    "test_df['sent2'] =test_df['sent2'].apply(lambda x: preprocess_text(x))"
   ]
  },
  {
   "cell_type": "code",
   "execution_count": 15,
   "id": "75e319a7",
   "metadata": {},
   "outputs": [
    {
     "data": {
      "text/html": [
       "<div>\n",
       "<style scoped>\n",
       "    .dataframe tbody tr th:only-of-type {\n",
       "        vertical-align: middle;\n",
       "    }\n",
       "\n",
       "    .dataframe tbody tr th {\n",
       "        vertical-align: top;\n",
       "    }\n",
       "\n",
       "    .dataframe thead th {\n",
       "        text-align: right;\n",
       "    }\n",
       "</style>\n",
       "<table border=\"1\" class=\"dataframe\">\n",
       "  <thead>\n",
       "    <tr style=\"text-align: right;\">\n",
       "      <th></th>\n",
       "      <th>sent1</th>\n",
       "      <th>sent2</th>\n",
       "      <th>score</th>\n",
       "    </tr>\n",
       "  </thead>\n",
       "  <tbody>\n",
       "    <tr>\n",
       "      <th>0</th>\n",
       "      <td>[a, plane, is, take, off]</td>\n",
       "      <td>[an, air, plane, is, take, off]</td>\n",
       "      <td>5.00</td>\n",
       "    </tr>\n",
       "    <tr>\n",
       "      <th>1</th>\n",
       "      <td>[a, man, is, play, a, larg, flute]</td>\n",
       "      <td>[a, man, is, play, a, flute]</td>\n",
       "      <td>3.80</td>\n",
       "    </tr>\n",
       "    <tr>\n",
       "      <th>2</th>\n",
       "      <td>[a, man, is, spread, shrede, chees, on, a, pizza]</td>\n",
       "      <td>[a, man, is, spread, shred, chees, on, an, unc...</td>\n",
       "      <td>3.80</td>\n",
       "    </tr>\n",
       "    <tr>\n",
       "      <th>3</th>\n",
       "      <td>[three, men, are, play, chess]</td>\n",
       "      <td>[two, men, are, play, chess]</td>\n",
       "      <td>2.60</td>\n",
       "    </tr>\n",
       "    <tr>\n",
       "      <th>4</th>\n",
       "      <td>[a, man, is, play, the, cello]</td>\n",
       "      <td>[a, man, seat, is, play, the, cello]</td>\n",
       "      <td>4.25</td>\n",
       "    </tr>\n",
       "  </tbody>\n",
       "</table>\n",
       "</div>"
      ],
      "text/plain": [
       "                                               sent1  \\\n",
       "0                          [a, plane, is, take, off]   \n",
       "1                 [a, man, is, play, a, larg, flute]   \n",
       "2  [a, man, is, spread, shrede, chees, on, a, pizza]   \n",
       "3                     [three, men, are, play, chess]   \n",
       "4                     [a, man, is, play, the, cello]   \n",
       "\n",
       "                                               sent2  score  \n",
       "0                    [an, air, plane, is, take, off]   5.00  \n",
       "1                       [a, man, is, play, a, flute]   3.80  \n",
       "2  [a, man, is, spread, shred, chees, on, an, unc...   3.80  \n",
       "3                       [two, men, are, play, chess]   2.60  \n",
       "4               [a, man, seat, is, play, the, cello]   4.25  "
      ]
     },
     "execution_count": 15,
     "metadata": {},
     "output_type": "execute_result"
    }
   ],
   "source": [
    "train_df.head()"
   ]
  },
  {
   "cell_type": "code",
   "execution_count": 16,
   "id": "a310ca84",
   "metadata": {},
   "outputs": [
    {
     "data": {
      "text/html": [
       "<div>\n",
       "<style scoped>\n",
       "    .dataframe tbody tr th:only-of-type {\n",
       "        vertical-align: middle;\n",
       "    }\n",
       "\n",
       "    .dataframe tbody tr th {\n",
       "        vertical-align: top;\n",
       "    }\n",
       "\n",
       "    .dataframe thead th {\n",
       "        text-align: right;\n",
       "    }\n",
       "</style>\n",
       "<table border=\"1\" class=\"dataframe\">\n",
       "  <thead>\n",
       "    <tr style=\"text-align: right;\">\n",
       "      <th></th>\n",
       "      <th>sent1</th>\n",
       "      <th>sent2</th>\n",
       "      <th>score</th>\n",
       "    </tr>\n",
       "  </thead>\n",
       "  <tbody>\n",
       "    <tr>\n",
       "      <th>0</th>\n",
       "      <td>[a, man, with, a, hard, hat, is, danc]</td>\n",
       "      <td>[a, man, wear, a, hard, hat, is, danc]</td>\n",
       "      <td>5.00</td>\n",
       "    </tr>\n",
       "    <tr>\n",
       "      <th>1</th>\n",
       "      <td>[a, young, child, is, ride, a, hors]</td>\n",
       "      <td>[a, child, is, ride, a, hors]</td>\n",
       "      <td>4.75</td>\n",
       "    </tr>\n",
       "    <tr>\n",
       "      <th>2</th>\n",
       "      <td>[a, man, is, feed, a, mous, to, a, snake]</td>\n",
       "      <td>[the, man, is, feed, a, mous, to, the, snake]</td>\n",
       "      <td>5.00</td>\n",
       "    </tr>\n",
       "    <tr>\n",
       "      <th>3</th>\n",
       "      <td>[a, woman, is, play, the, guitar]</td>\n",
       "      <td>[a, man, is, play, guitar]</td>\n",
       "      <td>2.40</td>\n",
       "    </tr>\n",
       "    <tr>\n",
       "      <th>4</th>\n",
       "      <td>[a, woman, is, play, the, flute]</td>\n",
       "      <td>[a, man, is, play, a, flute]</td>\n",
       "      <td>2.75</td>\n",
       "    </tr>\n",
       "  </tbody>\n",
       "</table>\n",
       "</div>"
      ],
      "text/plain": [
       "                                       sent1  \\\n",
       "0     [a, man, with, a, hard, hat, is, danc]   \n",
       "1       [a, young, child, is, ride, a, hors]   \n",
       "2  [a, man, is, feed, a, mous, to, a, snake]   \n",
       "3          [a, woman, is, play, the, guitar]   \n",
       "4           [a, woman, is, play, the, flute]   \n",
       "\n",
       "                                           sent2  score  \n",
       "0         [a, man, wear, a, hard, hat, is, danc]   5.00  \n",
       "1                  [a, child, is, ride, a, hors]   4.75  \n",
       "2  [the, man, is, feed, a, mous, to, the, snake]   5.00  \n",
       "3                     [a, man, is, play, guitar]   2.40  \n",
       "4                   [a, man, is, play, a, flute]   2.75  "
      ]
     },
     "execution_count": 16,
     "metadata": {},
     "output_type": "execute_result"
    }
   ],
   "source": [
    "val_df.head()"
   ]
  },
  {
   "cell_type": "code",
   "execution_count": 17,
   "id": "e22a7f2e",
   "metadata": {},
   "outputs": [
    {
     "data": {
      "text/html": [
       "<div>\n",
       "<style scoped>\n",
       "    .dataframe tbody tr th:only-of-type {\n",
       "        vertical-align: middle;\n",
       "    }\n",
       "\n",
       "    .dataframe tbody tr th {\n",
       "        vertical-align: top;\n",
       "    }\n",
       "\n",
       "    .dataframe thead th {\n",
       "        text-align: right;\n",
       "    }\n",
       "</style>\n",
       "<table border=\"1\" class=\"dataframe\">\n",
       "  <thead>\n",
       "    <tr style=\"text-align: right;\">\n",
       "      <th></th>\n",
       "      <th>sent1</th>\n",
       "      <th>sent2</th>\n",
       "      <th>score</th>\n",
       "    </tr>\n",
       "  </thead>\n",
       "  <tbody>\n",
       "    <tr>\n",
       "      <th>0</th>\n",
       "      <td>[a, girl, is, style, her, hair]</td>\n",
       "      <td>[a, girl, is, brush, her, hair]</td>\n",
       "      <td>2.5</td>\n",
       "    </tr>\n",
       "    <tr>\n",
       "      <th>1</th>\n",
       "      <td>[a, group, of, men, play, soccer, on, the, beach]</td>\n",
       "      <td>[a, group, of, boy, are, play, soccer, on, the...</td>\n",
       "      <td>3.6</td>\n",
       "    </tr>\n",
       "    <tr>\n",
       "      <th>2</th>\n",
       "      <td>[one, woman, is, measur, anoth, woman, ankl]</td>\n",
       "      <td>[a, woman, measur, anoth, woman, ankl]</td>\n",
       "      <td>5.0</td>\n",
       "    </tr>\n",
       "    <tr>\n",
       "      <th>3</th>\n",
       "      <td>[a, man, is, cut, up, a, cucumb]</td>\n",
       "      <td>[a, man, is, slice, a, cucumb]</td>\n",
       "      <td>4.2</td>\n",
       "    </tr>\n",
       "    <tr>\n",
       "      <th>4</th>\n",
       "      <td>[a, man, is, play, a, harp]</td>\n",
       "      <td>[a, man, is, play, a, keyboard]</td>\n",
       "      <td>1.5</td>\n",
       "    </tr>\n",
       "  </tbody>\n",
       "</table>\n",
       "</div>"
      ],
      "text/plain": [
       "                                               sent1  \\\n",
       "0                    [a, girl, is, style, her, hair]   \n",
       "1  [a, group, of, men, play, soccer, on, the, beach]   \n",
       "2       [one, woman, is, measur, anoth, woman, ankl]   \n",
       "3                   [a, man, is, cut, up, a, cucumb]   \n",
       "4                        [a, man, is, play, a, harp]   \n",
       "\n",
       "                                               sent2  score  \n",
       "0                    [a, girl, is, brush, her, hair]    2.5  \n",
       "1  [a, group, of, boy, are, play, soccer, on, the...    3.6  \n",
       "2             [a, woman, measur, anoth, woman, ankl]    5.0  \n",
       "3                     [a, man, is, slice, a, cucumb]    4.2  \n",
       "4                    [a, man, is, play, a, keyboard]    1.5  "
      ]
     },
     "execution_count": 17,
     "metadata": {},
     "output_type": "execute_result"
    }
   ],
   "source": [
    "test_df.head()"
   ]
  },
  {
   "cell_type": "code",
   "execution_count": 18,
   "id": "09bb3718",
   "metadata": {},
   "outputs": [],
   "source": [
    "# Data Exploration"
   ]
  },
  {
   "cell_type": "code",
   "execution_count": 19,
   "id": "61894a2b",
   "metadata": {},
   "outputs": [],
   "source": [
    "total_sents = list(train_df['sent1'])"
   ]
  },
  {
   "cell_type": "code",
   "execution_count": 20,
   "id": "9ac45916",
   "metadata": {},
   "outputs": [],
   "source": [
    "total_sents.extend(list(train_df['sent2']))"
   ]
  },
  {
   "cell_type": "code",
   "execution_count": 21,
   "id": "7bc93fb8",
   "metadata": {},
   "outputs": [
    {
     "data": {
      "text/plain": [
       "11498"
      ]
     },
     "execution_count": 21,
     "metadata": {},
     "output_type": "execute_result"
    }
   ],
   "source": [
    "len(total_sents)"
   ]
  },
  {
   "cell_type": "code",
   "execution_count": 22,
   "id": "4c94f9f3",
   "metadata": {},
   "outputs": [],
   "source": [
    "#sent_tokens = [sent.split() for sent in total_sents]"
   ]
  },
  {
   "cell_type": "code",
   "execution_count": 23,
   "id": "a9c3aa04",
   "metadata": {},
   "outputs": [
    {
     "data": {
      "text/plain": [
       "[['a', 'plane', 'is', 'take', 'off'],\n",
       " ['a', 'man', 'is', 'play', 'a', 'larg', 'flute'],\n",
       " ['a', 'man', 'is', 'spread', 'shrede', 'chees', 'on', 'a', 'pizza'],\n",
       " ['three', 'men', 'are', 'play', 'chess'],\n",
       " ['a', 'man', 'is', 'play', 'the', 'cello']]"
      ]
     },
     "execution_count": 23,
     "metadata": {},
     "output_type": "execute_result"
    }
   ],
   "source": [
    "total_sents[0:5]"
   ]
  },
  {
   "cell_type": "code",
   "execution_count": 24,
   "id": "d597f822",
   "metadata": {},
   "outputs": [],
   "source": [
    "word_dict = {}\n",
    "for word_tokens in total_sents:\n",
    "    for word in word_tokens:\n",
    "        if word in word_dict:\n",
    "            word_dict[word] += 1\n",
    "        else:\n",
    "            word_dict[word] = 1"
   ]
  },
  {
   "cell_type": "code",
   "execution_count": 25,
   "id": "4417e3f9",
   "metadata": {},
   "outputs": [],
   "source": [
    "vocab_length = len(word_dict)"
   ]
  },
  {
   "cell_type": "code",
   "execution_count": 26,
   "id": "3592252f",
   "metadata": {},
   "outputs": [
    {
     "data": {
      "text/plain": [
       "8306"
      ]
     },
     "execution_count": 26,
     "metadata": {},
     "output_type": "execute_result"
    }
   ],
   "source": [
    "vocab_length"
   ]
  },
  {
   "cell_type": "code",
   "execution_count": 27,
   "id": "99e629ba",
   "metadata": {},
   "outputs": [
    {
     "name": "stdout",
     "output_type": "stream",
     "text": [
      "2573\n"
     ]
    }
   ],
   "source": [
    "uni_count = 0\n",
    "for value in word_dict.values():\n",
    "    if value == 1:\n",
    "        uni_count += 1\n",
    "print(uni_count)"
   ]
  },
  {
   "cell_type": "code",
   "execution_count": 28,
   "id": "0437f1ea",
   "metadata": {},
   "outputs": [],
   "source": [
    "def get_sorted_counter(word_counter):\n",
    "    return {k: v for k, v in sorted(word_counter.items(), key=lambda item: item[1], reverse=False)}"
   ]
  },
  {
   "cell_type": "code",
   "execution_count": 29,
   "id": "8ddb7d5b",
   "metadata": {},
   "outputs": [],
   "source": [
    "sorted_counter = get_sorted_counter(word_dict)"
   ]
  },
  {
   "cell_type": "code",
   "execution_count": 30,
   "id": "0e2b5805",
   "metadata": {},
   "outputs": [],
   "source": [
    "sent_dict = {}\n",
    "for sent in total_sents:\n",
    "    if len(sent) in sent_dict:\n",
    "        sent_dict[len(sent)] += 1\n",
    "    else:\n",
    "        sent_dict[len(sent)] = 1"
   ]
  },
  {
   "cell_type": "code",
   "execution_count": 31,
   "id": "eb727b55",
   "metadata": {},
   "outputs": [],
   "source": [
    "import matplotlib.pyplot as plt"
   ]
  },
  {
   "cell_type": "code",
   "execution_count": 32,
   "id": "27136949",
   "metadata": {},
   "outputs": [
    {
     "data": {
      "image/png": "[encoded data removed]",
      "text/plain": [
       "<Figure size 800x600 with 1 Axes>"
      ]
     },
     "metadata": {},
     "output_type": "display_data"
    }
   ],
   "source": [
    "fig, ax = plt.subplots(figsize=(8, 6))\n",
    "ax.bar(list(sent_dict.keys()), list(sent_dict.values()), width=0.5)\n",
    "plt.show()"
   ]
  },
  {
   "cell_type": "markdown",
   "id": "a9ed3c8a",
   "metadata": {},
   "source": [
    "Most of the data is concentrated at average length of 10 and maximum vector length can be treated as 35 with remaining ignored"
   ]
  },
  {
   "cell_type": "code",
   "execution_count": 33,
   "id": "ef6e03b0",
   "metadata": {},
   "outputs": [],
   "source": [
    "#unknown words treatment"
   ]
  },
  {
   "cell_type": "code",
   "execution_count": 34,
   "id": "e6ad32cd",
   "metadata": {},
   "outputs": [],
   "source": [
    "def unk_replace(word, word_dict):\n",
    "    if word not in word_dict:\n",
    "        return \"unk\"\n",
    "    else:\n",
    "        if word_dict[word] < 2:\n",
    "            return \"unk\"\n",
    "    return word"
   ]
  },
  {
   "cell_type": "code",
   "execution_count": 35,
   "id": "75004e94",
   "metadata": {},
   "outputs": [],
   "source": [
    "def remove_unk_duplicates(sent_token):\n",
    "    new_list = []\n",
    "    seen = set()\n",
    "\n",
    "    for item in sent_token:\n",
    "        if item not in seen:\n",
    "            new_list.append(item)\n",
    "            seen.add(item)\n",
    "    return new_list"
   ]
  },
  {
   "cell_type": "code",
   "execution_count": 36,
   "id": "aa08d89c",
   "metadata": {},
   "outputs": [
    {
     "name": "stdout",
     "output_type": "stream",
     "text": [
      "['this', 'unk', 'again', 'and']\n"
     ]
    }
   ],
   "source": [
    "print(remove_unk_duplicates([\"this\", \"unk\", \"again\", \"unk\", \"and\"]))"
   ]
  },
  {
   "cell_type": "code",
   "execution_count": 37,
   "id": "9f64e9d4",
   "metadata": {},
   "outputs": [],
   "source": [
    "train_df['sent1'] =train_df['sent1'].apply(lambda x: remove_unk_duplicates([unk_replace(word, word_dict) for word in x]))\n",
    "train_df['sent2'] =train_df['sent2'].apply(lambda x: remove_unk_duplicates([unk_replace(word, word_dict) for word in x]))"
   ]
  },
  {
   "cell_type": "code",
   "execution_count": 38,
   "id": "d545a46e",
   "metadata": {},
   "outputs": [
    {
     "data": {
      "text/html": [
       "<div>\n",
       "<style scoped>\n",
       "    .dataframe tbody tr th:only-of-type {\n",
       "        vertical-align: middle;\n",
       "    }\n",
       "\n",
       "    .dataframe tbody tr th {\n",
       "        vertical-align: top;\n",
       "    }\n",
       "\n",
       "    .dataframe thead th {\n",
       "        text-align: right;\n",
       "    }\n",
       "</style>\n",
       "<table border=\"1\" class=\"dataframe\">\n",
       "  <thead>\n",
       "    <tr style=\"text-align: right;\">\n",
       "      <th></th>\n",
       "      <th>sent1</th>\n",
       "      <th>sent2</th>\n",
       "      <th>score</th>\n",
       "    </tr>\n",
       "  </thead>\n",
       "  <tbody>\n",
       "    <tr>\n",
       "      <th>0</th>\n",
       "      <td>[a, plane, is, take, off]</td>\n",
       "      <td>[an, air, plane, is, take, off]</td>\n",
       "      <td>5.00</td>\n",
       "    </tr>\n",
       "    <tr>\n",
       "      <th>1</th>\n",
       "      <td>[a, man, is, play, larg, flute]</td>\n",
       "      <td>[a, man, is, play, flute]</td>\n",
       "      <td>3.80</td>\n",
       "    </tr>\n",
       "    <tr>\n",
       "      <th>2</th>\n",
       "      <td>[a, man, is, spread, unk, chees, on, pizza]</td>\n",
       "      <td>[a, man, is, spread, shred, chees, on, an, unk...</td>\n",
       "      <td>3.80</td>\n",
       "    </tr>\n",
       "    <tr>\n",
       "      <th>3</th>\n",
       "      <td>[three, men, are, play, chess]</td>\n",
       "      <td>[two, men, are, play, chess]</td>\n",
       "      <td>2.60</td>\n",
       "    </tr>\n",
       "    <tr>\n",
       "      <th>4</th>\n",
       "      <td>[a, man, is, play, the, cello]</td>\n",
       "      <td>[a, man, seat, is, play, the, cello]</td>\n",
       "      <td>4.25</td>\n",
       "    </tr>\n",
       "  </tbody>\n",
       "</table>\n",
       "</div>"
      ],
      "text/plain": [
       "                                         sent1  \\\n",
       "0                    [a, plane, is, take, off]   \n",
       "1              [a, man, is, play, larg, flute]   \n",
       "2  [a, man, is, spread, unk, chees, on, pizza]   \n",
       "3               [three, men, are, play, chess]   \n",
       "4               [a, man, is, play, the, cello]   \n",
       "\n",
       "                                               sent2  score  \n",
       "0                    [an, air, plane, is, take, off]   5.00  \n",
       "1                          [a, man, is, play, flute]   3.80  \n",
       "2  [a, man, is, spread, shred, chees, on, an, unk...   3.80  \n",
       "3                       [two, men, are, play, chess]   2.60  \n",
       "4               [a, man, seat, is, play, the, cello]   4.25  "
      ]
     },
     "execution_count": 38,
     "metadata": {},
     "output_type": "execute_result"
    }
   ],
   "source": [
    "train_df.head()"
   ]
  },
  {
   "cell_type": "code",
   "execution_count": 39,
   "id": "9906b14d",
   "metadata": {},
   "outputs": [],
   "source": [
    "val_df['sent1'] =val_df['sent1'].apply(lambda x: remove_unk_duplicates([unk_replace(word, word_dict) for word in x]))\n",
    "val_df['sent2'] =val_df['sent2'].apply(lambda x: remove_unk_duplicates([unk_replace(word, word_dict) for word in x]))"
   ]
  },
  {
   "cell_type": "code",
   "execution_count": 40,
   "id": "7872ba74",
   "metadata": {},
   "outputs": [
    {
     "data": {
      "text/html": [
       "<div>\n",
       "<style scoped>\n",
       "    .dataframe tbody tr th:only-of-type {\n",
       "        vertical-align: middle;\n",
       "    }\n",
       "\n",
       "    .dataframe tbody tr th {\n",
       "        vertical-align: top;\n",
       "    }\n",
       "\n",
       "    .dataframe thead th {\n",
       "        text-align: right;\n",
       "    }\n",
       "</style>\n",
       "<table border=\"1\" class=\"dataframe\">\n",
       "  <thead>\n",
       "    <tr style=\"text-align: right;\">\n",
       "      <th></th>\n",
       "      <th>sent1</th>\n",
       "      <th>sent2</th>\n",
       "      <th>score</th>\n",
       "    </tr>\n",
       "  </thead>\n",
       "  <tbody>\n",
       "    <tr>\n",
       "      <th>0</th>\n",
       "      <td>[a, man, with, hard, hat, is, danc]</td>\n",
       "      <td>[a, man, wear, hard, hat, is, danc]</td>\n",
       "      <td>5.00</td>\n",
       "    </tr>\n",
       "    <tr>\n",
       "      <th>1</th>\n",
       "      <td>[a, young, child, is, ride, hors]</td>\n",
       "      <td>[a, child, is, ride, hors]</td>\n",
       "      <td>4.75</td>\n",
       "    </tr>\n",
       "    <tr>\n",
       "      <th>2</th>\n",
       "      <td>[a, man, is, feed, mous, to, snake]</td>\n",
       "      <td>[the, man, is, feed, a, mous, to, snake]</td>\n",
       "      <td>5.00</td>\n",
       "    </tr>\n",
       "    <tr>\n",
       "      <th>3</th>\n",
       "      <td>[a, woman, is, play, the, guitar]</td>\n",
       "      <td>[a, man, is, play, guitar]</td>\n",
       "      <td>2.40</td>\n",
       "    </tr>\n",
       "    <tr>\n",
       "      <th>4</th>\n",
       "      <td>[a, woman, is, play, the, flute]</td>\n",
       "      <td>[a, man, is, play, flute]</td>\n",
       "      <td>2.75</td>\n",
       "    </tr>\n",
       "  </tbody>\n",
       "</table>\n",
       "</div>"
      ],
      "text/plain": [
       "                                 sent1  \\\n",
       "0  [a, man, with, hard, hat, is, danc]   \n",
       "1    [a, young, child, is, ride, hors]   \n",
       "2  [a, man, is, feed, mous, to, snake]   \n",
       "3    [a, woman, is, play, the, guitar]   \n",
       "4     [a, woman, is, play, the, flute]   \n",
       "\n",
       "                                      sent2  score  \n",
       "0       [a, man, wear, hard, hat, is, danc]   5.00  \n",
       "1                [a, child, is, ride, hors]   4.75  \n",
       "2  [the, man, is, feed, a, mous, to, snake]   5.00  \n",
       "3                [a, man, is, play, guitar]   2.40  \n",
       "4                 [a, man, is, play, flute]   2.75  "
      ]
     },
     "execution_count": 40,
     "metadata": {},
     "output_type": "execute_result"
    }
   ],
   "source": [
    "val_df.head()"
   ]
  },
  {
   "cell_type": "code",
   "execution_count": 41,
   "id": "f33535ed",
   "metadata": {},
   "outputs": [],
   "source": [
    "test_df['sent1'] =test_df['sent1'].apply(lambda x: remove_unk_duplicates([unk_replace(word, word_dict) for word in x]))\n",
    "test_df['sent2'] =test_df['sent2'].apply(lambda x: remove_unk_duplicates([unk_replace(word, word_dict) for word in x]))"
   ]
  },
  {
   "cell_type": "code",
   "execution_count": 42,
   "id": "41eac836",
   "metadata": {},
   "outputs": [
    {
     "data": {
      "text/html": [
       "<div>\n",
       "<style scoped>\n",
       "    .dataframe tbody tr th:only-of-type {\n",
       "        vertical-align: middle;\n",
       "    }\n",
       "\n",
       "    .dataframe tbody tr th {\n",
       "        vertical-align: top;\n",
       "    }\n",
       "\n",
       "    .dataframe thead th {\n",
       "        text-align: right;\n",
       "    }\n",
       "</style>\n",
       "<table border=\"1\" class=\"dataframe\">\n",
       "  <thead>\n",
       "    <tr style=\"text-align: right;\">\n",
       "      <th></th>\n",
       "      <th>sent1</th>\n",
       "      <th>sent2</th>\n",
       "      <th>score</th>\n",
       "    </tr>\n",
       "  </thead>\n",
       "  <tbody>\n",
       "    <tr>\n",
       "      <th>0</th>\n",
       "      <td>[a, girl, is, style, her, hair]</td>\n",
       "      <td>[a, girl, is, brush, her, hair]</td>\n",
       "      <td>2.5</td>\n",
       "    </tr>\n",
       "    <tr>\n",
       "      <th>1</th>\n",
       "      <td>[a, group, of, men, play, soccer, on, the, beach]</td>\n",
       "      <td>[a, group, of, boy, are, play, soccer, on, the...</td>\n",
       "      <td>3.6</td>\n",
       "    </tr>\n",
       "    <tr>\n",
       "      <th>2</th>\n",
       "      <td>[one, woman, is, measur, anoth, unk]</td>\n",
       "      <td>[a, woman, measur, anoth, unk]</td>\n",
       "      <td>5.0</td>\n",
       "    </tr>\n",
       "    <tr>\n",
       "      <th>3</th>\n",
       "      <td>[a, man, is, cut, up, cucumb]</td>\n",
       "      <td>[a, man, is, slice, cucumb]</td>\n",
       "      <td>4.2</td>\n",
       "    </tr>\n",
       "    <tr>\n",
       "      <th>4</th>\n",
       "      <td>[a, man, is, play, harp]</td>\n",
       "      <td>[a, man, is, play, keyboard]</td>\n",
       "      <td>1.5</td>\n",
       "    </tr>\n",
       "  </tbody>\n",
       "</table>\n",
       "</div>"
      ],
      "text/plain": [
       "                                               sent1  \\\n",
       "0                    [a, girl, is, style, her, hair]   \n",
       "1  [a, group, of, men, play, soccer, on, the, beach]   \n",
       "2               [one, woman, is, measur, anoth, unk]   \n",
       "3                      [a, man, is, cut, up, cucumb]   \n",
       "4                           [a, man, is, play, harp]   \n",
       "\n",
       "                                               sent2  score  \n",
       "0                    [a, girl, is, brush, her, hair]    2.5  \n",
       "1  [a, group, of, boy, are, play, soccer, on, the...    3.6  \n",
       "2                     [a, woman, measur, anoth, unk]    5.0  \n",
       "3                        [a, man, is, slice, cucumb]    4.2  \n",
       "4                       [a, man, is, play, keyboard]    1.5  "
      ]
     },
     "execution_count": 42,
     "metadata": {},
     "output_type": "execute_result"
    }
   ],
   "source": [
    "test_df.head()"
   ]
  },
  {
   "cell_type": "code",
   "execution_count": 43,
   "id": "8f422bd0",
   "metadata": {},
   "outputs": [],
   "source": [
    "total_sents_unk = list(train_df['sent1'])"
   ]
  },
  {
   "cell_type": "code",
   "execution_count": 44,
   "id": "dbedf6c6",
   "metadata": {},
   "outputs": [],
   "source": [
    "total_sents_unk.extend(list(train_df['sent2']))"
   ]
  },
  {
   "cell_type": "code",
   "execution_count": 45,
   "id": "d972079f",
   "metadata": {},
   "outputs": [],
   "source": [
    "sent_dict = {}\n",
    "for sent in total_sents_unk:\n",
    "    if len(sent) in sent_dict:\n",
    "        sent_dict[len(sent)] += 1\n",
    "    else:\n",
    "        sent_dict[len(sent)] = 1"
   ]
  },
  {
   "cell_type": "code",
   "execution_count": 46,
   "id": "c758618e",
   "metadata": {},
   "outputs": [
    {
     "data": {
      "image/png": "[encoded data removed]",
      "text/plain": [
       "<Figure size 800x600 with 1 Axes>"
      ]
     },
     "metadata": {},
     "output_type": "display_data"
    }
   ],
   "source": [
    "fig, ax = plt.subplots(figsize=(8, 6))\n",
    "ax.bar(list(sent_dict.keys()), list(sent_dict.values()), width=0.5)\n",
    "plt.show()"
   ]
  },
  {
   "cell_type": "code",
   "execution_count": 47,
   "id": "61762338",
   "metadata": {},
   "outputs": [],
   "source": [
    "test_sents_unk = list(test_df['sent1'])\n",
    "test_sents_unk.extend(list(test_df['sent2']))"
   ]
  },
  {
   "cell_type": "code",
   "execution_count": 48,
   "id": "c1b235f1",
   "metadata": {},
   "outputs": [],
   "source": [
    "sent_dict = {}\n",
    "for sent in test_sents_unk:\n",
    "    if len(sent) in sent_dict:\n",
    "        sent_dict[len(sent)] += 1\n",
    "    else:\n",
    "        sent_dict[len(sent)] = 1"
   ]
  },
  {
   "cell_type": "code",
   "execution_count": 49,
   "id": "48514e4d",
   "metadata": {},
   "outputs": [
    {
     "data": {
      "image/png": "[encoded data removed]",
      "text/plain": [
       "<Figure size 800x600 with 1 Axes>"
      ]
     },
     "metadata": {},
     "output_type": "display_data"
    }
   ],
   "source": [
    "fig, ax = plt.subplots(figsize=(8, 6))\n",
    "ax.bar(list(sent_dict.keys()), list(sent_dict.values()), width=0.5)\n",
    "plt.show()"
   ]
  },
  {
   "cell_type": "markdown",
   "id": "11665194",
   "metadata": {},
   "source": [
    "window size of 30 or less than 30 should be good as test data maximum length of a sentence is less than 30"
   ]
  },
  {
   "cell_type": "markdown",
   "id": "f24f2e80",
   "metadata": {},
   "source": [
    "## Doc2vec"
   ]
  },
  {
   "cell_type": "code",
   "execution_count": 50,
   "id": "4afa91c5",
   "metadata": {},
   "outputs": [],
   "source": [
    "from gensim.models.doc2vec import Doc2Vec, TaggedDocument\n",
    "from scipy import spatial"
   ]
  },
  {
   "cell_type": "code",
   "execution_count": 51,
   "id": "c4cd3789",
   "metadata": {},
   "outputs": [
    {
     "data": {
      "text/plain": [
       "40"
      ]
     },
     "execution_count": 51,
     "metadata": {},
     "output_type": "execute_result"
    }
   ],
   "source": [
    "max_length = max(len(sentence) for sentence in total_sents_unk)\n",
    "max_length"
   ]
  },
  {
   "cell_type": "code",
   "execution_count": 52,
   "id": "d1f19782",
   "metadata": {},
   "outputs": [],
   "source": [
    "documents = []\n",
    "for idx, sent in enumerate(total_sents_unk):\n",
    "    documents.append(TaggedDocument(sent, [idx]))"
   ]
  },
  {
   "cell_type": "code",
   "execution_count": 53,
   "id": "42de2f95",
   "metadata": {},
   "outputs": [
    {
     "data": {
      "text/plain": [
       "[TaggedDocument(words=['a', 'plane', 'is', 'take', 'off'], tags=[0]),\n",
       " TaggedDocument(words=['a', 'man', 'is', 'play', 'larg', 'flute'], tags=[1]),\n",
       " TaggedDocument(words=['a', 'man', 'is', 'spread', 'unk', 'chees', 'on', 'pizza'], tags=[2]),\n",
       " TaggedDocument(words=['three', 'men', 'are', 'play', 'chess'], tags=[3]),\n",
       " TaggedDocument(words=['a', 'man', 'is', 'play', 'the', 'cello'], tags=[4])]"
      ]
     },
     "execution_count": 53,
     "metadata": {},
     "output_type": "execute_result"
    }
   ],
   "source": [
    "documents[0:5]"
   ]
  },
  {
   "cell_type": "code",
   "execution_count": 771,
   "id": "bd13207c",
   "metadata": {},
   "outputs": [],
   "source": [
    "model = Doc2Vec(documents, vector_size=25, window=6, min_count=1, workers=1, epochs=30, alpha=0.1, min_alpha=0.001, hs=1)"
   ]
  },
  {
   "cell_type": "code",
   "execution_count": 772,
   "id": "c3458838",
   "metadata": {},
   "outputs": [],
   "source": [
    "# Save the trained model to disk\n",
    "#model.save('doc2vec_model_v2')"
   ]
  },
  {
   "cell_type": "code",
   "execution_count": 773,
   "id": "094098d3",
   "metadata": {},
   "outputs": [],
   "source": [
    "# Generate sentence embeddings\n",
    "embedding1 = model.infer_vector(train_df['sent1'][0])\n",
    "embedding2 = model.infer_vector(train_df['sent2'][0])\n",
    "\n",
    "# Compare the sentence embeddings using cosine similarity\n",
    "similarity = 1 - spatial.distance.cosine(embedding1, embedding2)"
   ]
  },
  {
   "cell_type": "code",
   "execution_count": 774,
   "id": "1ae6aa75",
   "metadata": {},
   "outputs": [
    {
     "data": {
      "text/plain": [
       "0.6297224760055542"
      ]
     },
     "execution_count": 774,
     "metadata": {},
     "output_type": "execute_result"
    }
   ],
   "source": [
    "similarity"
   ]
  },
  {
   "cell_type": "code",
   "execution_count": 775,
   "id": "e740d5fe",
   "metadata": {},
   "outputs": [],
   "source": [
    "def sts_score(sim_score):\n",
    "    sts_score = (sim_score+1) * 2.5\n",
    "    return sts_score"
   ]
  },
  {
   "cell_type": "code",
   "execution_count": 776,
   "id": "e08edea6",
   "metadata": {},
   "outputs": [],
   "source": [
    "model.random.seed(42)\n",
    "train_df['sent1_embedding'] = train_df['sent1'].apply(lambda x: model.infer_vector(x))\n",
    "train_df['sent2_embedding'] = train_df['sent2'].apply(lambda x: model.infer_vector(x))"
   ]
  },
  {
   "cell_type": "code",
   "execution_count": 777,
   "id": "e38ee03f",
   "metadata": {},
   "outputs": [],
   "source": [
    "train_df['y_pred'] = train_df.apply(lambda x: sts_score(1 - spatial.distance.cosine(x['sent1_embedding'], x['sent2_embedding'])), axis=1)"
   ]
  },
  {
   "cell_type": "code",
   "execution_count": 778,
   "id": "10812006",
   "metadata": {},
   "outputs": [
    {
     "data": {
      "text/html": [
       "<div>\n",
       "<style scoped>\n",
       "    .dataframe tbody tr th:only-of-type {\n",
       "        vertical-align: middle;\n",
       "    }\n",
       "\n",
       "    .dataframe tbody tr th {\n",
       "        vertical-align: top;\n",
       "    }\n",
       "\n",
       "    .dataframe thead th {\n",
       "        text-align: right;\n",
       "    }\n",
       "</style>\n",
       "<table border=\"1\" class=\"dataframe\">\n",
       "  <thead>\n",
       "    <tr style=\"text-align: right;\">\n",
       "      <th></th>\n",
       "      <th>sent1</th>\n",
       "      <th>sent2</th>\n",
       "      <th>score</th>\n",
       "      <th>sent1_embedding</th>\n",
       "      <th>sent2_embedding</th>\n",
       "      <th>y_pred</th>\n",
       "      <th>sent_len</th>\n",
       "      <th>diff</th>\n",
       "    </tr>\n",
       "  </thead>\n",
       "  <tbody>\n",
       "    <tr>\n",
       "      <th>0</th>\n",
       "      <td>[a, plane, is, take, off]</td>\n",
       "      <td>[an, air, plane, is, take, off]</td>\n",
       "      <td>5.00</td>\n",
       "      <td>[0.9785287, -2.264735, -0.11075595, 1.8103244,...</td>\n",
       "      <td>[1.9130344, -1.3177541, -1.7823528, 0.01776668...</td>\n",
       "      <td>4.030601</td>\n",
       "      <td>6</td>\n",
       "      <td>0.412233</td>\n",
       "    </tr>\n",
       "    <tr>\n",
       "      <th>1</th>\n",
       "      <td>[a, man, is, play, larg, flute]</td>\n",
       "      <td>[a, man, is, play, flute]</td>\n",
       "      <td>3.80</td>\n",
       "      <td>[1.1828837, 0.38103458, -0.56145805, -0.448156...</td>\n",
       "      <td>[0.16055922, -0.29961303, -0.1360936, -0.87397...</td>\n",
       "      <td>4.525262</td>\n",
       "      <td>6</td>\n",
       "      <td>0.381528</td>\n",
       "    </tr>\n",
       "    <tr>\n",
       "      <th>2</th>\n",
       "      <td>[a, man, is, spread, unk, chees, on, pizza]</td>\n",
       "      <td>[a, man, is, spread, shred, chees, on, an, unk...</td>\n",
       "      <td>3.80</td>\n",
       "      <td>[0.5826254, -0.49973541, 0.19145142, 2.0987244...</td>\n",
       "      <td>[-0.53221816, -0.27425396, 0.76555514, -1.9776...</td>\n",
       "      <td>4.000265</td>\n",
       "      <td>10</td>\n",
       "      <td>0.697279</td>\n",
       "    </tr>\n",
       "    <tr>\n",
       "      <th>3</th>\n",
       "      <td>[three, men, are, play, chess]</td>\n",
       "      <td>[two, men, are, play, chess]</td>\n",
       "      <td>2.60</td>\n",
       "      <td>[0.01974859, 2.0583951, 2.053017, -1.0275624, ...</td>\n",
       "      <td>[-0.46718177, 1.4691867, 1.2122283, -1.4087263...</td>\n",
       "      <td>4.573005</td>\n",
       "      <td>5</td>\n",
       "      <td>2.258515</td>\n",
       "    </tr>\n",
       "    <tr>\n",
       "      <th>4</th>\n",
       "      <td>[a, man, is, play, the, cello]</td>\n",
       "      <td>[a, man, seat, is, play, the, cello]</td>\n",
       "      <td>4.25</td>\n",
       "      <td>[0.6115367, 0.59626883, 1.5376256, 1.5186377, ...</td>\n",
       "      <td>[-0.5193094, 0.8630016, 1.9602592, 0.76839, 0....</td>\n",
       "      <td>4.338576</td>\n",
       "      <td>7</td>\n",
       "      <td>0.543343</td>\n",
       "    </tr>\n",
       "  </tbody>\n",
       "</table>\n",
       "</div>"
      ],
      "text/plain": [
       "                                         sent1  \\\n",
       "0                    [a, plane, is, take, off]   \n",
       "1              [a, man, is, play, larg, flute]   \n",
       "2  [a, man, is, spread, unk, chees, on, pizza]   \n",
       "3               [three, men, are, play, chess]   \n",
       "4               [a, man, is, play, the, cello]   \n",
       "\n",
       "                                               sent2  score  \\\n",
       "0                    [an, air, plane, is, take, off]   5.00   \n",
       "1                          [a, man, is, play, flute]   3.80   \n",
       "2  [a, man, is, spread, shred, chees, on, an, unk...   3.80   \n",
       "3                       [two, men, are, play, chess]   2.60   \n",
       "4               [a, man, seat, is, play, the, cello]   4.25   \n",
       "\n",
       "                                     sent1_embedding  \\\n",
       "0  [0.9785287, -2.264735, -0.11075595, 1.8103244,...   \n",
       "1  [1.1828837, 0.38103458, -0.56145805, -0.448156...   \n",
       "2  [0.5826254, -0.49973541, 0.19145142, 2.0987244...   \n",
       "3  [0.01974859, 2.0583951, 2.053017, -1.0275624, ...   \n",
       "4  [0.6115367, 0.59626883, 1.5376256, 1.5186377, ...   \n",
       "\n",
       "                                     sent2_embedding    y_pred  sent_len  \\\n",
       "0  [1.9130344, -1.3177541, -1.7823528, 0.01776668...  4.030601         6   \n",
       "1  [0.16055922, -0.29961303, -0.1360936, -0.87397...  4.525262         6   \n",
       "2  [-0.53221816, -0.27425396, 0.76555514, -1.9776...  4.000265        10   \n",
       "3  [-0.46718177, 1.4691867, 1.2122283, -1.4087263...  4.573005         5   \n",
       "4  [-0.5193094, 0.8630016, 1.9602592, 0.76839, 0....  4.338576         7   \n",
       "\n",
       "       diff  \n",
       "0  0.412233  \n",
       "1  0.381528  \n",
       "2  0.697279  \n",
       "3  2.258515  \n",
       "4  0.543343  "
      ]
     },
     "execution_count": 778,
     "metadata": {},
     "output_type": "execute_result"
    }
   ],
   "source": [
    "train_df.head()"
   ]
  },
  {
   "cell_type": "code",
   "execution_count": 779,
   "id": "fb64583c",
   "metadata": {},
   "outputs": [],
   "source": [
    "y_pred = train_df['y_pred']"
   ]
  },
  {
   "cell_type": "code",
   "execution_count": 780,
   "id": "49c2da5f",
   "metadata": {},
   "outputs": [],
   "source": [
    "y_train = train_df['score']"
   ]
  },
  {
   "cell_type": "code",
   "execution_count": 781,
   "id": "67beb5f4",
   "metadata": {},
   "outputs": [],
   "source": [
    "from scipy.stats import pearsonr\n",
    "def pearson_corr(y_true, y_pred):\n",
    "    \"\"\"\n",
    "    Calculate Pearson correlation coefficient between two arrays.\n",
    "    \"\"\"\n",
    "    corr, _ = pearsonr(y_true, y_pred)\n",
    "    return corr"
   ]
  },
  {
   "cell_type": "code",
   "execution_count": 782,
   "id": "74891a49",
   "metadata": {},
   "outputs": [
    {
     "name": "stdout",
     "output_type": "stream",
     "text": [
      "Pearson correlation coefficient: 0.53\n"
     ]
    }
   ],
   "source": [
    "# Calculate Pearson correlation coefficient between predicted values and target values\n",
    "corr = pearson_corr(y_train, y_pred)\n",
    "\n",
    "# Print the correlation coefficient\n",
    "print(\"Pearson correlation coefficient: {:.2f}\".format(corr))"
   ]
  },
  {
   "cell_type": "code",
   "execution_count": 783,
   "id": "6a654889",
   "metadata": {},
   "outputs": [],
   "source": [
    "model.random.seed(42)\n",
    "val_df['sent1_embedding'] = val_df['sent1'].apply(lambda x: model.infer_vector(x))\n",
    "val_df['sent2_embedding'] = val_df['sent2'].apply(lambda x: model.infer_vector(x))"
   ]
  },
  {
   "cell_type": "code",
   "execution_count": 784,
   "id": "b9d3bdd1",
   "metadata": {},
   "outputs": [],
   "source": [
    "val_df['y_pred'] = val_df.apply(lambda x: sts_score(1 - spatial.distance.cosine(x['sent1_embedding'], x['sent2_embedding'])), axis=1)"
   ]
  },
  {
   "cell_type": "code",
   "execution_count": 785,
   "id": "19eabf77",
   "metadata": {},
   "outputs": [
    {
     "data": {
      "text/html": [
       "<div>\n",
       "<style scoped>\n",
       "    .dataframe tbody tr th:only-of-type {\n",
       "        vertical-align: middle;\n",
       "    }\n",
       "\n",
       "    .dataframe tbody tr th {\n",
       "        vertical-align: top;\n",
       "    }\n",
       "\n",
       "    .dataframe thead th {\n",
       "        text-align: right;\n",
       "    }\n",
       "</style>\n",
       "<table border=\"1\" class=\"dataframe\">\n",
       "  <thead>\n",
       "    <tr style=\"text-align: right;\">\n",
       "      <th></th>\n",
       "      <th>sent1</th>\n",
       "      <th>sent2</th>\n",
       "      <th>score</th>\n",
       "      <th>sent1_embedding</th>\n",
       "      <th>sent2_embedding</th>\n",
       "      <th>y_pred</th>\n",
       "      <th>sent_len</th>\n",
       "      <th>diff</th>\n",
       "    </tr>\n",
       "  </thead>\n",
       "  <tbody>\n",
       "    <tr>\n",
       "      <th>0</th>\n",
       "      <td>[a, man, with, hard, hat, is, danc]</td>\n",
       "      <td>[a, man, wear, hard, hat, is, danc]</td>\n",
       "      <td>5.00</td>\n",
       "      <td>[0.22515112, 0.14893334, 0.5852216, 0.07575087...</td>\n",
       "      <td>[0.972768, -0.9408373, -1.275949, 0.64101064, ...</td>\n",
       "      <td>4.693928</td>\n",
       "      <td>7</td>\n",
       "      <td>0.692826</td>\n",
       "    </tr>\n",
       "    <tr>\n",
       "      <th>1</th>\n",
       "      <td>[a, young, child, is, ride, hors]</td>\n",
       "      <td>[a, child, is, ride, hors]</td>\n",
       "      <td>4.75</td>\n",
       "      <td>[-2.4469624, 1.0518612, -0.24349709, -1.660086...</td>\n",
       "      <td>[-1.0497558, 1.3918657, 1.0574101, -0.15461372...</td>\n",
       "      <td>4.438509</td>\n",
       "      <td>6</td>\n",
       "      <td>0.645511</td>\n",
       "    </tr>\n",
       "    <tr>\n",
       "      <th>2</th>\n",
       "      <td>[a, man, is, feed, mous, to, snake]</td>\n",
       "      <td>[the, man, is, feed, a, mous, to, snake]</td>\n",
       "      <td>5.00</td>\n",
       "      <td>[-2.490769, -1.3920809, -0.6392921, 3.00007, -...</td>\n",
       "      <td>[-3.364025, -1.348516, -0.6848197, 3.0816154, ...</td>\n",
       "      <td>4.983784</td>\n",
       "      <td>8</td>\n",
       "      <td>0.167055</td>\n",
       "    </tr>\n",
       "    <tr>\n",
       "      <th>3</th>\n",
       "      <td>[a, woman, is, play, the, guitar]</td>\n",
       "      <td>[a, man, is, play, guitar]</td>\n",
       "      <td>2.40</td>\n",
       "      <td>[-0.37083265, 0.047469262, 0.9802229, -1.04221...</td>\n",
       "      <td>[-1.0416793, 0.28768274, 0.7824225, -0.3991111...</td>\n",
       "      <td>4.591891</td>\n",
       "      <td>6</td>\n",
       "      <td>1.351065</td>\n",
       "    </tr>\n",
       "    <tr>\n",
       "      <th>4</th>\n",
       "      <td>[a, woman, is, play, the, flute]</td>\n",
       "      <td>[a, man, is, play, flute]</td>\n",
       "      <td>2.75</td>\n",
       "      <td>[0.7887958, -0.4668624, -0.49935886, -1.333559...</td>\n",
       "      <td>[0.28025338, -0.043877028, -0.24093506, -0.817...</td>\n",
       "      <td>4.703040</td>\n",
       "      <td>6</td>\n",
       "      <td>0.163582</td>\n",
       "    </tr>\n",
       "  </tbody>\n",
       "</table>\n",
       "</div>"
      ],
      "text/plain": [
       "                                 sent1  \\\n",
       "0  [a, man, with, hard, hat, is, danc]   \n",
       "1    [a, young, child, is, ride, hors]   \n",
       "2  [a, man, is, feed, mous, to, snake]   \n",
       "3    [a, woman, is, play, the, guitar]   \n",
       "4     [a, woman, is, play, the, flute]   \n",
       "\n",
       "                                      sent2  score  \\\n",
       "0       [a, man, wear, hard, hat, is, danc]   5.00   \n",
       "1                [a, child, is, ride, hors]   4.75   \n",
       "2  [the, man, is, feed, a, mous, to, snake]   5.00   \n",
       "3                [a, man, is, play, guitar]   2.40   \n",
       "4                 [a, man, is, play, flute]   2.75   \n",
       "\n",
       "                                     sent1_embedding  \\\n",
       "0  [0.22515112, 0.14893334, 0.5852216, 0.07575087...   \n",
       "1  [-2.4469624, 1.0518612, -0.24349709, -1.660086...   \n",
       "2  [-2.490769, -1.3920809, -0.6392921, 3.00007, -...   \n",
       "3  [-0.37083265, 0.047469262, 0.9802229, -1.04221...   \n",
       "4  [0.7887958, -0.4668624, -0.49935886, -1.333559...   \n",
       "\n",
       "                                     sent2_embedding    y_pred  sent_len  \\\n",
       "0  [0.972768, -0.9408373, -1.275949, 0.64101064, ...  4.693928         7   \n",
       "1  [-1.0497558, 1.3918657, 1.0574101, -0.15461372...  4.438509         6   \n",
       "2  [-3.364025, -1.348516, -0.6848197, 3.0816154, ...  4.983784         8   \n",
       "3  [-1.0416793, 0.28768274, 0.7824225, -0.3991111...  4.591891         6   \n",
       "4  [0.28025338, -0.043877028, -0.24093506, -0.817...  4.703040         6   \n",
       "\n",
       "       diff  \n",
       "0  0.692826  \n",
       "1  0.645511  \n",
       "2  0.167055  \n",
       "3  1.351065  \n",
       "4  0.163582  "
      ]
     },
     "execution_count": 785,
     "metadata": {},
     "output_type": "execute_result"
    }
   ],
   "source": [
    "val_df.head()"
   ]
  },
  {
   "cell_type": "code",
   "execution_count": 786,
   "id": "62c91064",
   "metadata": {},
   "outputs": [],
   "source": [
    "y_pred = val_df['y_pred']"
   ]
  },
  {
   "cell_type": "code",
   "execution_count": 787,
   "id": "29dedfcb",
   "metadata": {},
   "outputs": [],
   "source": [
    "y_val = val_df['score']"
   ]
  },
  {
   "cell_type": "code",
   "execution_count": 788,
   "id": "3fc83ca5",
   "metadata": {},
   "outputs": [
    {
     "name": "stdout",
     "output_type": "stream",
     "text": [
      "Pearson correlation coefficient: 0.59\n"
     ]
    }
   ],
   "source": [
    "# Calculate Pearson correlation coefficient between predicted values and target values\n",
    "corr = pearson_corr(y_val, y_pred)\n",
    "\n",
    "# Print the correlation coefficient\n",
    "print(\"Pearson correlation coefficient: {:.2f}\".format(corr))"
   ]
  },
  {
   "cell_type": "code",
   "execution_count": 789,
   "id": "e76a59ae",
   "metadata": {},
   "outputs": [],
   "source": [
    "model.random.seed(42)\n",
    "test_df['sent1_embedding'] = test_df['sent1'].apply(lambda x: model.infer_vector(x))\n",
    "test_df['sent2_embedding'] = test_df['sent2'].apply(lambda x: model.infer_vector(x))"
   ]
  },
  {
   "cell_type": "code",
   "execution_count": 790,
   "id": "92dcc1a6",
   "metadata": {},
   "outputs": [],
   "source": [
    "test_df['y_pred'] = test_df.apply(lambda x: sts_score(1 - spatial.distance.cosine(x['sent1_embedding'], x['sent2_embedding'])), axis=1)"
   ]
  },
  {
   "cell_type": "code",
   "execution_count": 791,
   "id": "f365b304",
   "metadata": {},
   "outputs": [
    {
     "data": {
      "text/html": [
       "<div>\n",
       "<style scoped>\n",
       "    .dataframe tbody tr th:only-of-type {\n",
       "        vertical-align: middle;\n",
       "    }\n",
       "\n",
       "    .dataframe tbody tr th {\n",
       "        vertical-align: top;\n",
       "    }\n",
       "\n",
       "    .dataframe thead th {\n",
       "        text-align: right;\n",
       "    }\n",
       "</style>\n",
       "<table border=\"1\" class=\"dataframe\">\n",
       "  <thead>\n",
       "    <tr style=\"text-align: right;\">\n",
       "      <th></th>\n",
       "      <th>sent1</th>\n",
       "      <th>sent2</th>\n",
       "      <th>score</th>\n",
       "      <th>sent1_embedding</th>\n",
       "      <th>sent2_embedding</th>\n",
       "      <th>y_pred</th>\n",
       "    </tr>\n",
       "  </thead>\n",
       "  <tbody>\n",
       "    <tr>\n",
       "      <th>0</th>\n",
       "      <td>[a, girl, is, style, her, hair]</td>\n",
       "      <td>[a, girl, is, brush, her, hair]</td>\n",
       "      <td>2.5</td>\n",
       "      <td>[-0.6805489, 3.0605607, 6.0858903, -2.2390747,...</td>\n",
       "      <td>[0.13711813, 0.7994011, 3.933237, -2.4236033, ...</td>\n",
       "      <td>3.985849</td>\n",
       "    </tr>\n",
       "    <tr>\n",
       "      <th>1</th>\n",
       "      <td>[a, group, of, men, play, soccer, on, the, beach]</td>\n",
       "      <td>[a, group, of, boy, are, play, soccer, on, the...</td>\n",
       "      <td>3.6</td>\n",
       "      <td>[0.7357286, -1.649782, -1.727815, -5.478471, -...</td>\n",
       "      <td>[1.1423917, -2.637685, -1.2657324, -2.7794218,...</td>\n",
       "      <td>3.881340</td>\n",
       "    </tr>\n",
       "    <tr>\n",
       "      <th>2</th>\n",
       "      <td>[one, woman, is, measur, anoth, unk]</td>\n",
       "      <td>[a, woman, measur, anoth, unk]</td>\n",
       "      <td>5.0</td>\n",
       "      <td>[-2.7089808, -4.1091413, -2.6085312, -5.024544...</td>\n",
       "      <td>[-1.7329218, -4.03364, -2.0860999, -5.2173815,...</td>\n",
       "      <td>4.798392</td>\n",
       "    </tr>\n",
       "    <tr>\n",
       "      <th>3</th>\n",
       "      <td>[a, man, is, cut, up, cucumb]</td>\n",
       "      <td>[a, man, is, slice, cucumb]</td>\n",
       "      <td>4.2</td>\n",
       "      <td>[-1.9336153, -0.7215347, 0.62688947, 0.0876640...</td>\n",
       "      <td>[0.820931, -0.6466786, -0.07712738, 0.8981496,...</td>\n",
       "      <td>3.485319</td>\n",
       "    </tr>\n",
       "    <tr>\n",
       "      <th>4</th>\n",
       "      <td>[a, man, is, play, harp]</td>\n",
       "      <td>[a, man, is, play, keyboard]</td>\n",
       "      <td>1.5</td>\n",
       "      <td>[0.30825448, -0.42379403, 0.089076646, -0.1570...</td>\n",
       "      <td>[-1.5168486, 1.2298852, 1.8053464, 0.12881505,...</td>\n",
       "      <td>3.300661</td>\n",
       "    </tr>\n",
       "  </tbody>\n",
       "</table>\n",
       "</div>"
      ],
      "text/plain": [
       "                                               sent1  \\\n",
       "0                    [a, girl, is, style, her, hair]   \n",
       "1  [a, group, of, men, play, soccer, on, the, beach]   \n",
       "2               [one, woman, is, measur, anoth, unk]   \n",
       "3                      [a, man, is, cut, up, cucumb]   \n",
       "4                           [a, man, is, play, harp]   \n",
       "\n",
       "                                               sent2  score  \\\n",
       "0                    [a, girl, is, brush, her, hair]    2.5   \n",
       "1  [a, group, of, boy, are, play, soccer, on, the...    3.6   \n",
       "2                     [a, woman, measur, anoth, unk]    5.0   \n",
       "3                        [a, man, is, slice, cucumb]    4.2   \n",
       "4                       [a, man, is, play, keyboard]    1.5   \n",
       "\n",
       "                                     sent1_embedding  \\\n",
       "0  [-0.6805489, 3.0605607, 6.0858903, -2.2390747,...   \n",
       "1  [0.7357286, -1.649782, -1.727815, -5.478471, -...   \n",
       "2  [-2.7089808, -4.1091413, -2.6085312, -5.024544...   \n",
       "3  [-1.9336153, -0.7215347, 0.62688947, 0.0876640...   \n",
       "4  [0.30825448, -0.42379403, 0.089076646, -0.1570...   \n",
       "\n",
       "                                     sent2_embedding    y_pred  \n",
       "0  [0.13711813, 0.7994011, 3.933237, -2.4236033, ...  3.985849  \n",
       "1  [1.1423917, -2.637685, -1.2657324, -2.7794218,...  3.881340  \n",
       "2  [-1.7329218, -4.03364, -2.0860999, -5.2173815,...  4.798392  \n",
       "3  [0.820931, -0.6466786, -0.07712738, 0.8981496,...  3.485319  \n",
       "4  [-1.5168486, 1.2298852, 1.8053464, 0.12881505,...  3.300661  "
      ]
     },
     "execution_count": 791,
     "metadata": {},
     "output_type": "execute_result"
    }
   ],
   "source": [
    "test_df.head()"
   ]
  },
  {
   "cell_type": "code",
   "execution_count": 792,
   "id": "3e114115",
   "metadata": {},
   "outputs": [],
   "source": [
    "y_pred = test_df['y_pred']"
   ]
  },
  {
   "cell_type": "code",
   "execution_count": 793,
   "id": "7325a187",
   "metadata": {},
   "outputs": [],
   "source": [
    "y_test = test_df['score']"
   ]
  },
  {
   "cell_type": "code",
   "execution_count": 794,
   "id": "0d16a140",
   "metadata": {},
   "outputs": [
    {
     "name": "stdout",
     "output_type": "stream",
     "text": [
      "Pearson correlation coefficient: 0.53\n"
     ]
    }
   ],
   "source": [
    "# Calculate Pearson correlation coefficient between predicted values and target values\n",
    "corr = pearson_corr(y_test, y_pred)\n",
    "\n",
    "# Print the correlation coefficient\n",
    "print(\"Pearson correlation coefficient: {:.2f}\".format(corr))"
   ]
  },
  {
   "cell_type": "code",
   "execution_count": 795,
   "id": "eabd458d",
   "metadata": {},
   "outputs": [],
   "source": [
    "max_len = lambda row: max(len(row['sent1']), len(row['sent2']))"
   ]
  },
  {
   "cell_type": "code",
   "execution_count": 796,
   "id": "757505f5",
   "metadata": {},
   "outputs": [],
   "source": [
    "train_df['sent_len'] = train_df.apply(max_len, axis=1)"
   ]
  },
  {
   "cell_type": "code",
   "execution_count": 797,
   "id": "b79ab0eb",
   "metadata": {},
   "outputs": [],
   "source": [
    "train_df['diff'] = abs(train_df['score'] - train_df['y_pred'])"
   ]
  },
  {
   "cell_type": "code",
   "execution_count": 798,
   "id": "417dffec",
   "metadata": {},
   "outputs": [
    {
     "data": {
      "text/html": [
       "<div>\n",
       "<style scoped>\n",
       "    .dataframe tbody tr th:only-of-type {\n",
       "        vertical-align: middle;\n",
       "    }\n",
       "\n",
       "    .dataframe tbody tr th {\n",
       "        vertical-align: top;\n",
       "    }\n",
       "\n",
       "    .dataframe thead th {\n",
       "        text-align: right;\n",
       "    }\n",
       "</style>\n",
       "<table border=\"1\" class=\"dataframe\">\n",
       "  <thead>\n",
       "    <tr style=\"text-align: right;\">\n",
       "      <th></th>\n",
       "      <th>sent1</th>\n",
       "      <th>sent2</th>\n",
       "      <th>score</th>\n",
       "      <th>sent1_embedding</th>\n",
       "      <th>sent2_embedding</th>\n",
       "      <th>y_pred</th>\n",
       "      <th>sent_len</th>\n",
       "      <th>diff</th>\n",
       "    </tr>\n",
       "  </thead>\n",
       "  <tbody>\n",
       "    <tr>\n",
       "      <th>0</th>\n",
       "      <td>[a, plane, is, take, off]</td>\n",
       "      <td>[an, air, plane, is, take, off]</td>\n",
       "      <td>5.00</td>\n",
       "      <td>[0.9785287, -2.264735, -0.11075595, 1.8103244,...</td>\n",
       "      <td>[1.9130344, -1.3177541, -1.7823528, 0.01776668...</td>\n",
       "      <td>4.030601</td>\n",
       "      <td>6</td>\n",
       "      <td>0.969399</td>\n",
       "    </tr>\n",
       "    <tr>\n",
       "      <th>1</th>\n",
       "      <td>[a, man, is, play, larg, flute]</td>\n",
       "      <td>[a, man, is, play, flute]</td>\n",
       "      <td>3.80</td>\n",
       "      <td>[1.1828837, 0.38103458, -0.56145805, -0.448156...</td>\n",
       "      <td>[0.16055922, -0.29961303, -0.1360936, -0.87397...</td>\n",
       "      <td>4.525262</td>\n",
       "      <td>6</td>\n",
       "      <td>0.725262</td>\n",
       "    </tr>\n",
       "    <tr>\n",
       "      <th>2</th>\n",
       "      <td>[a, man, is, spread, unk, chees, on, pizza]</td>\n",
       "      <td>[a, man, is, spread, shred, chees, on, an, unk...</td>\n",
       "      <td>3.80</td>\n",
       "      <td>[0.5826254, -0.49973541, 0.19145142, 2.0987244...</td>\n",
       "      <td>[-0.53221816, -0.27425396, 0.76555514, -1.9776...</td>\n",
       "      <td>4.000265</td>\n",
       "      <td>10</td>\n",
       "      <td>0.200265</td>\n",
       "    </tr>\n",
       "    <tr>\n",
       "      <th>3</th>\n",
       "      <td>[three, men, are, play, chess]</td>\n",
       "      <td>[two, men, are, play, chess]</td>\n",
       "      <td>2.60</td>\n",
       "      <td>[0.01974859, 2.0583951, 2.053017, -1.0275624, ...</td>\n",
       "      <td>[-0.46718177, 1.4691867, 1.2122283, -1.4087263...</td>\n",
       "      <td>4.573005</td>\n",
       "      <td>5</td>\n",
       "      <td>1.973005</td>\n",
       "    </tr>\n",
       "    <tr>\n",
       "      <th>4</th>\n",
       "      <td>[a, man, is, play, the, cello]</td>\n",
       "      <td>[a, man, seat, is, play, the, cello]</td>\n",
       "      <td>4.25</td>\n",
       "      <td>[0.6115367, 0.59626883, 1.5376256, 1.5186377, ...</td>\n",
       "      <td>[-0.5193094, 0.8630016, 1.9602592, 0.76839, 0....</td>\n",
       "      <td>4.338576</td>\n",
       "      <td>7</td>\n",
       "      <td>0.088576</td>\n",
       "    </tr>\n",
       "  </tbody>\n",
       "</table>\n",
       "</div>"
      ],
      "text/plain": [
       "                                         sent1  \\\n",
       "0                    [a, plane, is, take, off]   \n",
       "1              [a, man, is, play, larg, flute]   \n",
       "2  [a, man, is, spread, unk, chees, on, pizza]   \n",
       "3               [three, men, are, play, chess]   \n",
       "4               [a, man, is, play, the, cello]   \n",
       "\n",
       "                                               sent2  score  \\\n",
       "0                    [an, air, plane, is, take, off]   5.00   \n",
       "1                          [a, man, is, play, flute]   3.80   \n",
       "2  [a, man, is, spread, shred, chees, on, an, unk...   3.80   \n",
       "3                       [two, men, are, play, chess]   2.60   \n",
       "4               [a, man, seat, is, play, the, cello]   4.25   \n",
       "\n",
       "                                     sent1_embedding  \\\n",
       "0  [0.9785287, -2.264735, -0.11075595, 1.8103244,...   \n",
       "1  [1.1828837, 0.38103458, -0.56145805, -0.448156...   \n",
       "2  [0.5826254, -0.49973541, 0.19145142, 2.0987244...   \n",
       "3  [0.01974859, 2.0583951, 2.053017, -1.0275624, ...   \n",
       "4  [0.6115367, 0.59626883, 1.5376256, 1.5186377, ...   \n",
       "\n",
       "                                     sent2_embedding    y_pred  sent_len  \\\n",
       "0  [1.9130344, -1.3177541, -1.7823528, 0.01776668...  4.030601         6   \n",
       "1  [0.16055922, -0.29961303, -0.1360936, -0.87397...  4.525262         6   \n",
       "2  [-0.53221816, -0.27425396, 0.76555514, -1.9776...  4.000265        10   \n",
       "3  [-0.46718177, 1.4691867, 1.2122283, -1.4087263...  4.573005         5   \n",
       "4  [-0.5193094, 0.8630016, 1.9602592, 0.76839, 0....  4.338576         7   \n",
       "\n",
       "       diff  \n",
       "0  0.969399  \n",
       "1  0.725262  \n",
       "2  0.200265  \n",
       "3  1.973005  \n",
       "4  0.088576  "
      ]
     },
     "execution_count": 798,
     "metadata": {},
     "output_type": "execute_result"
    }
   ],
   "source": [
    "train_df.head()"
   ]
  },
  {
   "cell_type": "code",
   "execution_count": 799,
   "id": "708e6057",
   "metadata": {},
   "outputs": [
    {
     "name": "stderr",
     "output_type": "stream",
     "text": [
      "/var/folders/gb/8lc9v2sx5mq19kgysgv67bzw0000gn/T/ipykernel_6203/1448148412.py:1: FutureWarning: The default value of numeric_only in DataFrameGroupBy.mean is deprecated. In a future version, numeric_only will default to False. Either specify numeric_only or select only columns which should be valid for the function.\n",
      "  grouped_df = train_df.groupby(['sent_len']).mean()\n"
     ]
    }
   ],
   "source": [
    "grouped_df = train_df.groupby(['sent_len']).mean()"
   ]
  },
  {
   "cell_type": "code",
   "execution_count": 800,
   "id": "ffd6df4b",
   "metadata": {},
   "outputs": [],
   "source": [
    "grouped_df['sent_length'] = grouped_df.index"
   ]
  },
  {
   "cell_type": "code",
   "execution_count": 801,
   "id": "7e4f7531",
   "metadata": {},
   "outputs": [
    {
     "data": {
      "image/png": "[encoded data removed]",
      "text/plain": [
       "<Figure size 800x600 with 1 Axes>"
      ]
     },
     "metadata": {},
     "output_type": "display_data"
    }
   ],
   "source": [
    "fig, ax = plt.subplots(figsize=(8, 6))\n",
    "ax.bar(list(grouped_df.index), list(grouped_df['diff']), width=0.5)\n",
    "plt.title(\"average error trend in training data\")\n",
    "plt.xlabel(\"sentence length\")\n",
    "plt.ylabel(\"average difference\")\n",
    "plt.show()"
   ]
  },
  {
   "cell_type": "code",
   "execution_count": 802,
   "id": "78d43b0c",
   "metadata": {},
   "outputs": [
    {
     "data": {
      "image/png": "[encoded data removed]",
      "text/plain": [
       "<Figure size 800x600 with 1 Axes>"
      ]
     },
     "metadata": {},
     "output_type": "display_data"
    }
   ],
   "source": [
    "fig, ax = plt.subplots(figsize=(8, 6))\n",
    "ax.scatter(list(grouped_df.index), list(grouped_df['diff']))\n",
    "plt.title(\"average error trend in training data\")\n",
    "plt.xlabel(\"sentence length\")\n",
    "plt.ylabel(\"average difference\")\n",
    "plt.show()"
   ]
  },
  {
   "cell_type": "markdown",
   "id": "2ca2b002",
   "metadata": {},
   "source": [
    "From this it can be observed the highest residual is observed for sentences having length in range of 4-7 and for range 30 - 32"
   ]
  },
  {
   "cell_type": "markdown",
   "id": "4c9b175f",
   "metadata": {},
   "source": [
    "<br>Lets see the residual trend in validation data"
   ]
  },
  {
   "cell_type": "code",
   "execution_count": 803,
   "id": "0d4864ba",
   "metadata": {},
   "outputs": [],
   "source": [
    "val_df['sent_len'] = val_df.apply(max_len, axis=1)"
   ]
  },
  {
   "cell_type": "code",
   "execution_count": 804,
   "id": "44514934",
   "metadata": {},
   "outputs": [],
   "source": [
    "val_df['diff'] = abs(val_df['score'] - val_df['y_pred'])"
   ]
  },
  {
   "cell_type": "code",
   "execution_count": 805,
   "id": "4a53ab8b",
   "metadata": {},
   "outputs": [
    {
     "name": "stderr",
     "output_type": "stream",
     "text": [
      "/var/folders/gb/8lc9v2sx5mq19kgysgv67bzw0000gn/T/ipykernel_6203/640488790.py:1: FutureWarning: The default value of numeric_only in DataFrameGroupBy.mean is deprecated. In a future version, numeric_only will default to False. Either specify numeric_only or select only columns which should be valid for the function.\n",
      "  grouped_val = val_df.groupby(['sent_len']).mean()\n"
     ]
    }
   ],
   "source": [
    "grouped_val = val_df.groupby(['sent_len']).mean()"
   ]
  },
  {
   "cell_type": "code",
   "execution_count": 806,
   "id": "b1bcf60d",
   "metadata": {},
   "outputs": [
    {
     "data": {
      "image/png": "[encoded data removed]",
      "text/plain": [
       "<Figure size 800x600 with 1 Axes>"
      ]
     },
     "metadata": {},
     "output_type": "display_data"
    }
   ],
   "source": [
    "fig, ax = plt.subplots(figsize=(8, 6))\n",
    "ax.scatter(list(grouped_val.index), list(grouped_val['diff']))\n",
    "plt.title(\"average error trend in validation data\")\n",
    "plt.xlabel(\"sentence length\")\n",
    "plt.ylabel(\"average difference\")\n",
    "plt.show()"
   ]
  },
  {
   "cell_type": "markdown",
   "id": "a744fced",
   "metadata": {},
   "source": [
    "Analysis:<br>\n",
    "    The trend is similar to what we observe in training as the model is performing bad for sentences less than length 5 and in validation data there is no sentence with length in range of 30-32."
   ]
  },
  {
   "cell_type": "code",
   "execution_count": 820,
   "id": "4d05cf42",
   "metadata": {},
   "outputs": [],
   "source": [
    "test_df['sent_len'] = test_df.apply(max_len, axis=1)"
   ]
  },
  {
   "cell_type": "code",
   "execution_count": 821,
   "id": "5ea6cc28",
   "metadata": {},
   "outputs": [],
   "source": [
    "test_df['diff'] = abs(test_df['score'] - test_df['y_pred'])"
   ]
  },
  {
   "cell_type": "code",
   "execution_count": 324,
   "id": "24349116",
   "metadata": {},
   "outputs": [
    {
     "data": {
      "text/plain": [
       "5749"
      ]
     },
     "execution_count": 324,
     "metadata": {},
     "output_type": "execute_result"
    }
   ],
   "source": [
    "len(train_df)"
   ]
  },
  {
   "cell_type": "markdown",
   "id": "1a12ad9f",
   "metadata": {},
   "source": [
    "# Fine Tuning - To Do\n",
    "\n",
    "Step1: Explore other text representations\n",
    "Step2: Explore model training like SVM, Bidirectonal LSTM etc"
   ]
  },
  {
   "cell_type": "markdown",
   "id": "d2d8253b",
   "metadata": {},
   "source": [
    "## Model Training - TO DO"
   ]
  },
  {
   "cell_type": "code",
   "execution_count": null,
   "id": "9b116b91",
   "metadata": {},
   "outputs": [],
   "source": []
  }
 ],
 "metadata": {
  "kernelspec": {
   "display_name": "nlp_venv",
   "language": "python",
   "name": "nlp_venv"
  },
  "language_info": {
   "codemirror_mode": {
    "name": "ipython",
    "version": 3
   },
   "file_extension": ".py",
   "mimetype": "text/x-python",
   "name": "python",
   "nbconvert_exporter": "python",
   "pygments_lexer": "ipython3",
   "version": "3.9.16"
  }
 },
 "nbformat": 4,
 "nbformat_minor": 5
}
